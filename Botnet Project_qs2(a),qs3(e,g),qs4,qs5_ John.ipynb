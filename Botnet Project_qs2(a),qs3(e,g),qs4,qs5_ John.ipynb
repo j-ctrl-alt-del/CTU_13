{
 "cells": [
  {
   "cell_type": "markdown",
   "metadata": {},
   "source": [
    "  <font size=6><b>DSC 522 Ghost Hunting: Finding a Botnet in Netflow Traffic<br>\n",
    "    <font size=4>Qs.2 a, Qs.3 e,g, Qs.4 and Qs.5 done by John Tomaselli"
   ]
  },
  {
   "cell_type": "markdown",
   "metadata": {},
   "source": [
    "# Data Cleaning"
   ]
  },
  {
   "cell_type": "code",
   "execution_count": null,
   "metadata": {},
   "outputs": [],
   "source": [
    "# Please note!!!  The group had to expand the RAM available to Jupyter for this code to run. \n",
    "# We exapnded the RAM to 4GB and recommend you do the same.  Please see the answer to the below\n",
    "# stackoverflow page concerning expanding the amount of max_buffer_size. \n",
    "# https://stackoverflow.com/questions/57948003/how-to-increase-jupyter-notebook-memory-limit"
   ]
  },
  {
   "cell_type": "code",
   "execution_count": 1,
   "metadata": {
    "ExecuteTime": {
     "end_time": "2020-04-29T16:30:42.978664Z",
     "start_time": "2020-04-29T16:30:41.944430Z"
    }
   },
   "outputs": [],
   "source": [
    "#Importing packages\n",
    "import pandas as pd\n",
    "import warnings\n",
    "\n",
    "warnings.filterwarnings('ignore')"
   ]
  },
  {
   "cell_type": "code",
   "execution_count": 2,
   "metadata": {
    "ExecuteTime": {
     "end_time": "2020-04-29T16:30:45.951632Z",
     "start_time": "2020-04-29T16:30:42.980660Z"
    },
    "scrolled": true
   },
   "outputs": [
    {
     "data": {
      "text/html": [
       "<div>\n",
       "<style scoped>\n",
       "    .dataframe tbody tr th:only-of-type {\n",
       "        vertical-align: middle;\n",
       "    }\n",
       "\n",
       "    .dataframe tbody tr th {\n",
       "        vertical-align: top;\n",
       "    }\n",
       "\n",
       "    .dataframe thead th {\n",
       "        text-align: right;\n",
       "    }\n",
       "</style>\n",
       "<table border=\"1\" class=\"dataframe\">\n",
       "  <thead>\n",
       "    <tr style=\"text-align: right;\">\n",
       "      <th></th>\n",
       "      <th>Date</th>\n",
       "      <th>flow</th>\n",
       "      <th>start</th>\n",
       "      <th>Durat</th>\n",
       "      <th>Prot</th>\n",
       "      <th>Src</th>\n",
       "      <th>IP</th>\n",
       "      <th>Addr:Port</th>\n",
       "      <th>Dst</th>\n",
       "      <th>IP.1</th>\n",
       "      <th>Addr:Port.1</th>\n",
       "      <th>Flags</th>\n",
       "      <th>Tos</th>\n",
       "      <th>Packets</th>\n",
       "      <th>Bytes</th>\n",
       "      <th>Flows</th>\n",
       "      <th>Label</th>\n",
       "      <th>Labels</th>\n",
       "    </tr>\n",
       "  </thead>\n",
       "  <tbody>\n",
       "    <tr>\n",
       "      <td>0</td>\n",
       "      <td>2011-08-15</td>\n",
       "      <td>17:13:40.449</td>\n",
       "      <td>4.230</td>\n",
       "      <td>TCP</td>\n",
       "      <td>90.177.154.197:20127</td>\n",
       "      <td>-&gt;</td>\n",
       "      <td>147.32.84.144:22</td>\n",
       "      <td>PA_</td>\n",
       "      <td>0</td>\n",
       "      <td>180</td>\n",
       "      <td>12628</td>\n",
       "      <td>1</td>\n",
       "      <td>Background</td>\n",
       "      <td>NaN</td>\n",
       "      <td>NaN</td>\n",
       "      <td>NaN</td>\n",
       "      <td>NaN</td>\n",
       "      <td>NaN</td>\n",
       "    </tr>\n",
       "    <tr>\n",
       "      <td>1</td>\n",
       "      <td>2011-08-15</td>\n",
       "      <td>17:13:40.449</td>\n",
       "      <td>4.204</td>\n",
       "      <td>TCP</td>\n",
       "      <td>147.32.84.144:22</td>\n",
       "      <td>-&gt;</td>\n",
       "      <td>90.177.154.197:20127</td>\n",
       "      <td>PA_</td>\n",
       "      <td>0</td>\n",
       "      <td>329</td>\n",
       "      <td>478578</td>\n",
       "      <td>1</td>\n",
       "      <td>Background</td>\n",
       "      <td>NaN</td>\n",
       "      <td>NaN</td>\n",
       "      <td>NaN</td>\n",
       "      <td>NaN</td>\n",
       "      <td>NaN</td>\n",
       "    </tr>\n",
       "    <tr>\n",
       "      <td>2</td>\n",
       "      <td>2011-08-15</td>\n",
       "      <td>17:13:40.453</td>\n",
       "      <td>4.985</td>\n",
       "      <td>TCP</td>\n",
       "      <td>198.36.38.132:55530</td>\n",
       "      <td>-&gt;</td>\n",
       "      <td>147.32.86.183:443</td>\n",
       "      <td>PA_</td>\n",
       "      <td>0</td>\n",
       "      <td>94</td>\n",
       "      <td>6212</td>\n",
       "      <td>1</td>\n",
       "      <td>Background</td>\n",
       "      <td>NaN</td>\n",
       "      <td>NaN</td>\n",
       "      <td>NaN</td>\n",
       "      <td>NaN</td>\n",
       "      <td>NaN</td>\n",
       "    </tr>\n",
       "    <tr>\n",
       "      <td>3</td>\n",
       "      <td>2011-08-15</td>\n",
       "      <td>17:13:40.456</td>\n",
       "      <td>4.975</td>\n",
       "      <td>UDP</td>\n",
       "      <td>41.103.64.21:54617</td>\n",
       "      <td>-&gt;</td>\n",
       "      <td>147.32.86.183:51246</td>\n",
       "      <td>INT</td>\n",
       "      <td>0</td>\n",
       "      <td>182</td>\n",
       "      <td>61555</td>\n",
       "      <td>1</td>\n",
       "      <td>Background</td>\n",
       "      <td>NaN</td>\n",
       "      <td>NaN</td>\n",
       "      <td>NaN</td>\n",
       "      <td>NaN</td>\n",
       "      <td>NaN</td>\n",
       "    </tr>\n",
       "    <tr>\n",
       "      <td>4</td>\n",
       "      <td>2011-08-15</td>\n",
       "      <td>17:13:40.456</td>\n",
       "      <td>4.975</td>\n",
       "      <td>TCP</td>\n",
       "      <td>147.32.86.183:443</td>\n",
       "      <td>-&gt;</td>\n",
       "      <td>198.36.38.132:55530</td>\n",
       "      <td>PA_</td>\n",
       "      <td>0</td>\n",
       "      <td>185</td>\n",
       "      <td>66524</td>\n",
       "      <td>1</td>\n",
       "      <td>Background</td>\n",
       "      <td>NaN</td>\n",
       "      <td>NaN</td>\n",
       "      <td>NaN</td>\n",
       "      <td>NaN</td>\n",
       "      <td>NaN</td>\n",
       "    </tr>\n",
       "    <tr>\n",
       "      <td>...</td>\n",
       "      <td>...</td>\n",
       "      <td>...</td>\n",
       "      <td>...</td>\n",
       "      <td>...</td>\n",
       "      <td>...</td>\n",
       "      <td>...</td>\n",
       "      <td>...</td>\n",
       "      <td>...</td>\n",
       "      <td>...</td>\n",
       "      <td>...</td>\n",
       "      <td>...</td>\n",
       "      <td>...</td>\n",
       "      <td>...</td>\n",
       "      <td>...</td>\n",
       "      <td>...</td>\n",
       "      <td>...</td>\n",
       "      <td>...</td>\n",
       "      <td>...</td>\n",
       "    </tr>\n",
       "    <tr>\n",
       "      <td>1299085</td>\n",
       "      <td>2011-08-15</td>\n",
       "      <td>19:17:33.765</td>\n",
       "      <td>0.134</td>\n",
       "      <td>TCP</td>\n",
       "      <td>147.32.84.2:80</td>\n",
       "      <td>-&gt;</td>\n",
       "      <td>66.194.55.249:43931</td>\n",
       "      <td>SPA_</td>\n",
       "      <td>0</td>\n",
       "      <td>5</td>\n",
       "      <td>3841</td>\n",
       "      <td>1</td>\n",
       "      <td>Background</td>\n",
       "      <td>NaN</td>\n",
       "      <td>NaN</td>\n",
       "      <td>NaN</td>\n",
       "      <td>NaN</td>\n",
       "      <td>NaN</td>\n",
       "    </tr>\n",
       "    <tr>\n",
       "      <td>1299086</td>\n",
       "      <td>2011-08-15</td>\n",
       "      <td>19:17:33.811</td>\n",
       "      <td>0.930</td>\n",
       "      <td>TCP</td>\n",
       "      <td>147.32.84.165:1386</td>\n",
       "      <td>-&gt;</td>\n",
       "      <td>212.117.171.138:65500</td>\n",
       "      <td>FPA_</td>\n",
       "      <td>0</td>\n",
       "      <td>63</td>\n",
       "      <td>85828</td>\n",
       "      <td>1</td>\n",
       "      <td>Botnet</td>\n",
       "      <td>NaN</td>\n",
       "      <td>NaN</td>\n",
       "      <td>NaN</td>\n",
       "      <td>NaN</td>\n",
       "      <td>NaN</td>\n",
       "    </tr>\n",
       "    <tr>\n",
       "      <td>1299087</td>\n",
       "      <td>2011-08-15</td>\n",
       "      <td>19:17:33.811</td>\n",
       "      <td>0.000</td>\n",
       "      <td>TCP</td>\n",
       "      <td>147.32.84.171:43352</td>\n",
       "      <td>-&gt;</td>\n",
       "      <td>95.211.93.1:30091</td>\n",
       "      <td>PA_</td>\n",
       "      <td>0</td>\n",
       "      <td>1</td>\n",
       "      <td>71</td>\n",
       "      <td>1</td>\n",
       "      <td>Background</td>\n",
       "      <td>NaN</td>\n",
       "      <td>NaN</td>\n",
       "      <td>NaN</td>\n",
       "      <td>NaN</td>\n",
       "      <td>NaN</td>\n",
       "    </tr>\n",
       "    <tr>\n",
       "      <td>1299088</td>\n",
       "      <td>2011-08-15</td>\n",
       "      <td>19:17:33.828</td>\n",
       "      <td>0.000</td>\n",
       "      <td>TCP</td>\n",
       "      <td>95.211.93.1:30091</td>\n",
       "      <td>-&gt;</td>\n",
       "      <td>147.32.84.171:43352</td>\n",
       "      <td>A_</td>\n",
       "      <td>0</td>\n",
       "      <td>1</td>\n",
       "      <td>66</td>\n",
       "      <td>1</td>\n",
       "      <td>Background</td>\n",
       "      <td>NaN</td>\n",
       "      <td>NaN</td>\n",
       "      <td>NaN</td>\n",
       "      <td>NaN</td>\n",
       "      <td>NaN</td>\n",
       "    </tr>\n",
       "    <tr>\n",
       "      <td>1299089</td>\n",
       "      <td>2011-08-15</td>\n",
       "      <td>19:17:33.828</td>\n",
       "      <td>1.999</td>\n",
       "      <td>UDP</td>\n",
       "      <td>147.32.84.229:13363</td>\n",
       "      <td>-&gt;</td>\n",
       "      <td>114.39.240.193:65425</td>\n",
       "      <td>INT</td>\n",
       "      <td>0</td>\n",
       "      <td>2</td>\n",
       "      <td>352</td>\n",
       "      <td>1</td>\n",
       "      <td>Background</td>\n",
       "      <td>NaN</td>\n",
       "      <td>NaN</td>\n",
       "      <td>NaN</td>\n",
       "      <td>NaN</td>\n",
       "      <td>NaN</td>\n",
       "    </tr>\n",
       "  </tbody>\n",
       "</table>\n",
       "<p>1299090 rows × 18 columns</p>\n",
       "</div>"
      ],
      "text/plain": [
       "               Date          flow  start Durat                  Prot Src  \\\n",
       "0        2011-08-15  17:13:40.449  4.230   TCP  90.177.154.197:20127  ->   \n",
       "1        2011-08-15  17:13:40.449  4.204   TCP      147.32.84.144:22  ->   \n",
       "2        2011-08-15  17:13:40.453  4.985   TCP   198.36.38.132:55530  ->   \n",
       "3        2011-08-15  17:13:40.456  4.975   UDP    41.103.64.21:54617  ->   \n",
       "4        2011-08-15  17:13:40.456  4.975   TCP     147.32.86.183:443  ->   \n",
       "...             ...           ...    ...   ...                   ...  ..   \n",
       "1299085  2011-08-15  19:17:33.765  0.134   TCP        147.32.84.2:80  ->   \n",
       "1299086  2011-08-15  19:17:33.811  0.930   TCP    147.32.84.165:1386  ->   \n",
       "1299087  2011-08-15  19:17:33.811  0.000   TCP   147.32.84.171:43352  ->   \n",
       "1299088  2011-08-15  19:17:33.828  0.000   TCP     95.211.93.1:30091  ->   \n",
       "1299089  2011-08-15  19:17:33.828  1.999   UDP   147.32.84.229:13363  ->   \n",
       "\n",
       "                            IP Addr:Port  Dst  IP.1  Addr:Port.1  Flags  \\\n",
       "0             147.32.84.144:22       PA_    0   180        12628      1   \n",
       "1         90.177.154.197:20127       PA_    0   329       478578      1   \n",
       "2            147.32.86.183:443       PA_    0    94         6212      1   \n",
       "3          147.32.86.183:51246       INT    0   182        61555      1   \n",
       "4          198.36.38.132:55530       PA_    0   185        66524      1   \n",
       "...                        ...       ...  ...   ...          ...    ...   \n",
       "1299085    66.194.55.249:43931      SPA_    0     5         3841      1   \n",
       "1299086  212.117.171.138:65500      FPA_    0    63        85828      1   \n",
       "1299087      95.211.93.1:30091       PA_    0     1           71      1   \n",
       "1299088    147.32.84.171:43352        A_    0     1           66      1   \n",
       "1299089   114.39.240.193:65425       INT    0     2          352      1   \n",
       "\n",
       "                Tos Packets  Bytes  Flows  Label  Labels  \n",
       "0        Background     NaN    NaN    NaN    NaN     NaN  \n",
       "1        Background     NaN    NaN    NaN    NaN     NaN  \n",
       "2        Background     NaN    NaN    NaN    NaN     NaN  \n",
       "3        Background     NaN    NaN    NaN    NaN     NaN  \n",
       "4        Background     NaN    NaN    NaN    NaN     NaN  \n",
       "...             ...     ...    ...    ...    ...     ...  \n",
       "1299085  Background     NaN    NaN    NaN    NaN     NaN  \n",
       "1299086      Botnet     NaN    NaN    NaN    NaN     NaN  \n",
       "1299087  Background     NaN    NaN    NaN    NaN     NaN  \n",
       "1299088  Background     NaN    NaN    NaN    NaN     NaN  \n",
       "1299089  Background     NaN    NaN    NaN    NaN     NaN  \n",
       "\n",
       "[1299090 rows x 18 columns]"
      ]
     },
     "execution_count": 2,
     "metadata": {},
     "output_type": "execute_result"
    }
   ],
   "source": [
    "#Reading the netflow data. \n",
    "df = pd.read_csv(r'capture20110815-3.pcap.netflow_v2.txt', delim_whitespace=True)\n",
    "df"
   ]
  },
  {
   "cell_type": "code",
   "execution_count": 3,
   "metadata": {
    "ExecuteTime": {
     "end_time": "2020-04-29T16:30:46.053360Z",
     "start_time": "2020-04-29T16:30:45.954624Z"
    }
   },
   "outputs": [
    {
     "data": {
      "text/plain": [
       "array([nan, 'FILTER_LEGITIMATE'], dtype=object)"
      ]
     },
     "execution_count": 3,
     "metadata": {},
     "output_type": "execute_result"
    }
   ],
   "source": [
    "# The below was an extra, hidden column in the data set. \n",
    "df.Packets.unique()"
   ]
  },
  {
   "cell_type": "code",
   "execution_count": 4,
   "metadata": {
    "ExecuteTime": {
     "end_time": "2020-04-29T16:30:46.227892Z",
     "start_time": "2020-04-29T16:30:46.056351Z"
    }
   },
   "outputs": [],
   "source": [
    "#Dropping unneccesary columns that only contain NaNs. \n",
    "df.drop(['Src','Bytes','Flows','Label','Labels','Flags'],axis=1,inplace = True)"
   ]
  },
  {
   "cell_type": "code",
   "execution_count": 5,
   "metadata": {
    "ExecuteTime": {
     "end_time": "2020-04-29T16:30:46.246843Z",
     "start_time": "2020-04-29T16:30:46.229887Z"
    },
    "scrolled": true
   },
   "outputs": [
    {
     "data": {
      "text/html": [
       "<div>\n",
       "<style scoped>\n",
       "    .dataframe tbody tr th:only-of-type {\n",
       "        vertical-align: middle;\n",
       "    }\n",
       "\n",
       "    .dataframe tbody tr th {\n",
       "        vertical-align: top;\n",
       "    }\n",
       "\n",
       "    .dataframe thead th {\n",
       "        text-align: right;\n",
       "    }\n",
       "</style>\n",
       "<table border=\"1\" class=\"dataframe\">\n",
       "  <thead>\n",
       "    <tr style=\"text-align: right;\">\n",
       "      <th></th>\n",
       "      <th>Date</th>\n",
       "      <th>flow</th>\n",
       "      <th>start</th>\n",
       "      <th>Durat</th>\n",
       "      <th>Prot</th>\n",
       "      <th>IP</th>\n",
       "      <th>Addr:Port</th>\n",
       "      <th>Dst</th>\n",
       "      <th>IP.1</th>\n",
       "      <th>Addr:Port.1</th>\n",
       "      <th>Tos</th>\n",
       "      <th>Packets</th>\n",
       "    </tr>\n",
       "  </thead>\n",
       "  <tbody>\n",
       "    <tr>\n",
       "      <td>0</td>\n",
       "      <td>2011-08-15</td>\n",
       "      <td>17:13:40.449</td>\n",
       "      <td>4.230</td>\n",
       "      <td>TCP</td>\n",
       "      <td>90.177.154.197:20127</td>\n",
       "      <td>147.32.84.144:22</td>\n",
       "      <td>PA_</td>\n",
       "      <td>0</td>\n",
       "      <td>180</td>\n",
       "      <td>12628</td>\n",
       "      <td>Background</td>\n",
       "      <td>NaN</td>\n",
       "    </tr>\n",
       "    <tr>\n",
       "      <td>1</td>\n",
       "      <td>2011-08-15</td>\n",
       "      <td>17:13:40.449</td>\n",
       "      <td>4.204</td>\n",
       "      <td>TCP</td>\n",
       "      <td>147.32.84.144:22</td>\n",
       "      <td>90.177.154.197:20127</td>\n",
       "      <td>PA_</td>\n",
       "      <td>0</td>\n",
       "      <td>329</td>\n",
       "      <td>478578</td>\n",
       "      <td>Background</td>\n",
       "      <td>NaN</td>\n",
       "    </tr>\n",
       "    <tr>\n",
       "      <td>2</td>\n",
       "      <td>2011-08-15</td>\n",
       "      <td>17:13:40.453</td>\n",
       "      <td>4.985</td>\n",
       "      <td>TCP</td>\n",
       "      <td>198.36.38.132:55530</td>\n",
       "      <td>147.32.86.183:443</td>\n",
       "      <td>PA_</td>\n",
       "      <td>0</td>\n",
       "      <td>94</td>\n",
       "      <td>6212</td>\n",
       "      <td>Background</td>\n",
       "      <td>NaN</td>\n",
       "    </tr>\n",
       "    <tr>\n",
       "      <td>3</td>\n",
       "      <td>2011-08-15</td>\n",
       "      <td>17:13:40.456</td>\n",
       "      <td>4.975</td>\n",
       "      <td>UDP</td>\n",
       "      <td>41.103.64.21:54617</td>\n",
       "      <td>147.32.86.183:51246</td>\n",
       "      <td>INT</td>\n",
       "      <td>0</td>\n",
       "      <td>182</td>\n",
       "      <td>61555</td>\n",
       "      <td>Background</td>\n",
       "      <td>NaN</td>\n",
       "    </tr>\n",
       "    <tr>\n",
       "      <td>4</td>\n",
       "      <td>2011-08-15</td>\n",
       "      <td>17:13:40.456</td>\n",
       "      <td>4.975</td>\n",
       "      <td>TCP</td>\n",
       "      <td>147.32.86.183:443</td>\n",
       "      <td>198.36.38.132:55530</td>\n",
       "      <td>PA_</td>\n",
       "      <td>0</td>\n",
       "      <td>185</td>\n",
       "      <td>66524</td>\n",
       "      <td>Background</td>\n",
       "      <td>NaN</td>\n",
       "    </tr>\n",
       "  </tbody>\n",
       "</table>\n",
       "</div>"
      ],
      "text/plain": [
       "         Date          flow  start Durat                  Prot  \\\n",
       "0  2011-08-15  17:13:40.449  4.230   TCP  90.177.154.197:20127   \n",
       "1  2011-08-15  17:13:40.449  4.204   TCP      147.32.84.144:22   \n",
       "2  2011-08-15  17:13:40.453  4.985   TCP   198.36.38.132:55530   \n",
       "3  2011-08-15  17:13:40.456  4.975   UDP    41.103.64.21:54617   \n",
       "4  2011-08-15  17:13:40.456  4.975   TCP     147.32.86.183:443   \n",
       "\n",
       "                     IP Addr:Port  Dst  IP.1  Addr:Port.1         Tos Packets  \n",
       "0      147.32.84.144:22       PA_    0   180        12628  Background     NaN  \n",
       "1  90.177.154.197:20127       PA_    0   329       478578  Background     NaN  \n",
       "2     147.32.86.183:443       PA_    0    94         6212  Background     NaN  \n",
       "3   147.32.86.183:51246       INT    0   182        61555  Background     NaN  \n",
       "4   198.36.38.132:55530       PA_    0   185        66524  Background     NaN  "
      ]
     },
     "execution_count": 5,
     "metadata": {},
     "output_type": "execute_result"
    }
   ],
   "source": [
    "df.head()"
   ]
  },
  {
   "cell_type": "code",
   "execution_count": 6,
   "metadata": {
    "ExecuteTime": {
     "end_time": "2020-04-29T16:30:53.932291Z",
     "start_time": "2020-04-29T16:30:46.248837Z"
    }
   },
   "outputs": [],
   "source": [
    "# Splitting the protocol and IP address columns into their respective IPs and Ports. \n",
    "df[['a','b']] = df.Prot.str.split(\":\",n=1,expand=True)\n",
    "df[['c','d']] = df.IP.str.split(\":\",n=1,expand=True)\n",
    "\n",
    "# Droping extra columns to avaoid confusion after splitting.  The values in the protocol and IP address columns remain the\n",
    "# same while the column headers shift to the right. \n",
    "df.drop(['Prot','IP'],axis=1,inplace = True)"
   ]
  },
  {
   "cell_type": "code",
   "execution_count": 7,
   "metadata": {
    "ExecuteTime": {
     "end_time": "2020-04-29T16:30:53.957227Z",
     "start_time": "2020-04-29T16:30:53.935284Z"
    },
    "scrolled": true
   },
   "outputs": [
    {
     "data": {
      "text/html": [
       "<div>\n",
       "<style scoped>\n",
       "    .dataframe tbody tr th:only-of-type {\n",
       "        vertical-align: middle;\n",
       "    }\n",
       "\n",
       "    .dataframe tbody tr th {\n",
       "        vertical-align: top;\n",
       "    }\n",
       "\n",
       "    .dataframe thead th {\n",
       "        text-align: right;\n",
       "    }\n",
       "</style>\n",
       "<table border=\"1\" class=\"dataframe\">\n",
       "  <thead>\n",
       "    <tr style=\"text-align: right;\">\n",
       "      <th></th>\n",
       "      <th>Date</th>\n",
       "      <th>flow</th>\n",
       "      <th>start</th>\n",
       "      <th>Durat</th>\n",
       "      <th>Addr:Port</th>\n",
       "      <th>Dst</th>\n",
       "      <th>IP.1</th>\n",
       "      <th>Addr:Port.1</th>\n",
       "      <th>Tos</th>\n",
       "      <th>Packets</th>\n",
       "      <th>a</th>\n",
       "      <th>b</th>\n",
       "      <th>c</th>\n",
       "      <th>d</th>\n",
       "    </tr>\n",
       "  </thead>\n",
       "  <tbody>\n",
       "    <tr>\n",
       "      <td>0</td>\n",
       "      <td>2011-08-15</td>\n",
       "      <td>17:13:40.449</td>\n",
       "      <td>4.230</td>\n",
       "      <td>TCP</td>\n",
       "      <td>PA_</td>\n",
       "      <td>0</td>\n",
       "      <td>180</td>\n",
       "      <td>12628</td>\n",
       "      <td>Background</td>\n",
       "      <td>NaN</td>\n",
       "      <td>90.177.154.197</td>\n",
       "      <td>20127</td>\n",
       "      <td>147.32.84.144</td>\n",
       "      <td>22</td>\n",
       "    </tr>\n",
       "    <tr>\n",
       "      <td>1</td>\n",
       "      <td>2011-08-15</td>\n",
       "      <td>17:13:40.449</td>\n",
       "      <td>4.204</td>\n",
       "      <td>TCP</td>\n",
       "      <td>PA_</td>\n",
       "      <td>0</td>\n",
       "      <td>329</td>\n",
       "      <td>478578</td>\n",
       "      <td>Background</td>\n",
       "      <td>NaN</td>\n",
       "      <td>147.32.84.144</td>\n",
       "      <td>22</td>\n",
       "      <td>90.177.154.197</td>\n",
       "      <td>20127</td>\n",
       "    </tr>\n",
       "    <tr>\n",
       "      <td>2</td>\n",
       "      <td>2011-08-15</td>\n",
       "      <td>17:13:40.453</td>\n",
       "      <td>4.985</td>\n",
       "      <td>TCP</td>\n",
       "      <td>PA_</td>\n",
       "      <td>0</td>\n",
       "      <td>94</td>\n",
       "      <td>6212</td>\n",
       "      <td>Background</td>\n",
       "      <td>NaN</td>\n",
       "      <td>198.36.38.132</td>\n",
       "      <td>55530</td>\n",
       "      <td>147.32.86.183</td>\n",
       "      <td>443</td>\n",
       "    </tr>\n",
       "    <tr>\n",
       "      <td>3</td>\n",
       "      <td>2011-08-15</td>\n",
       "      <td>17:13:40.456</td>\n",
       "      <td>4.975</td>\n",
       "      <td>UDP</td>\n",
       "      <td>INT</td>\n",
       "      <td>0</td>\n",
       "      <td>182</td>\n",
       "      <td>61555</td>\n",
       "      <td>Background</td>\n",
       "      <td>NaN</td>\n",
       "      <td>41.103.64.21</td>\n",
       "      <td>54617</td>\n",
       "      <td>147.32.86.183</td>\n",
       "      <td>51246</td>\n",
       "    </tr>\n",
       "    <tr>\n",
       "      <td>4</td>\n",
       "      <td>2011-08-15</td>\n",
       "      <td>17:13:40.456</td>\n",
       "      <td>4.975</td>\n",
       "      <td>TCP</td>\n",
       "      <td>PA_</td>\n",
       "      <td>0</td>\n",
       "      <td>185</td>\n",
       "      <td>66524</td>\n",
       "      <td>Background</td>\n",
       "      <td>NaN</td>\n",
       "      <td>147.32.86.183</td>\n",
       "      <td>443</td>\n",
       "      <td>198.36.38.132</td>\n",
       "      <td>55530</td>\n",
       "    </tr>\n",
       "  </tbody>\n",
       "</table>\n",
       "</div>"
      ],
      "text/plain": [
       "         Date          flow  start Durat Addr:Port  Dst  IP.1  Addr:Port.1  \\\n",
       "0  2011-08-15  17:13:40.449  4.230   TCP       PA_    0   180        12628   \n",
       "1  2011-08-15  17:13:40.449  4.204   TCP       PA_    0   329       478578   \n",
       "2  2011-08-15  17:13:40.453  4.985   TCP       PA_    0    94         6212   \n",
       "3  2011-08-15  17:13:40.456  4.975   UDP       INT    0   182        61555   \n",
       "4  2011-08-15  17:13:40.456  4.975   TCP       PA_    0   185        66524   \n",
       "\n",
       "          Tos Packets               a      b               c      d  \n",
       "0  Background     NaN  90.177.154.197  20127   147.32.84.144     22  \n",
       "1  Background     NaN   147.32.84.144     22  90.177.154.197  20127  \n",
       "2  Background     NaN   198.36.38.132  55530   147.32.86.183    443  \n",
       "3  Background     NaN    41.103.64.21  54617   147.32.86.183  51246  \n",
       "4  Background     NaN   147.32.86.183    443   198.36.38.132  55530  "
      ]
     },
     "execution_count": 7,
     "metadata": {},
     "output_type": "execute_result"
    }
   ],
   "source": [
    "df.head()"
   ]
  },
  {
   "cell_type": "code",
   "execution_count": 8,
   "metadata": {
    "ExecuteTime": {
     "end_time": "2020-04-29T16:30:54.135785Z",
     "start_time": "2020-04-29T16:30:53.961214Z"
    }
   },
   "outputs": [],
   "source": [
    "# Renaming the columns using their proper names. \n",
    "df.rename(columns = {list(df)[1]:'Flow_Start',list(df)[2]:'Duration',list(df)[3]:'Protocol',list(df)[10]:'Source_IP',list(df)[11]:'Source_Port',\n",
    "                    list(df)[12]:'Destination_IP',list(df)[13]:'Destination_Port',list(df)[4]:'Flags',list(df)[5]:'Type_of_Service',\n",
    "                    list(df)[6]:'Packets',list(df)[7]:'Bytes',list(df)[8]:'Labels',list(df)[9]:'Additional_Label'}, inplace = True)"
   ]
  },
  {
   "cell_type": "code",
   "execution_count": 9,
   "metadata": {
    "ExecuteTime": {
     "end_time": "2020-04-29T16:30:54.156704Z",
     "start_time": "2020-04-29T16:30:54.137742Z"
    }
   },
   "outputs": [
    {
     "data": {
      "text/html": [
       "<div>\n",
       "<style scoped>\n",
       "    .dataframe tbody tr th:only-of-type {\n",
       "        vertical-align: middle;\n",
       "    }\n",
       "\n",
       "    .dataframe tbody tr th {\n",
       "        vertical-align: top;\n",
       "    }\n",
       "\n",
       "    .dataframe thead th {\n",
       "        text-align: right;\n",
       "    }\n",
       "</style>\n",
       "<table border=\"1\" class=\"dataframe\">\n",
       "  <thead>\n",
       "    <tr style=\"text-align: right;\">\n",
       "      <th></th>\n",
       "      <th>Date</th>\n",
       "      <th>Flow_Start</th>\n",
       "      <th>Duration</th>\n",
       "      <th>Protocol</th>\n",
       "      <th>Flags</th>\n",
       "      <th>Type_of_Service</th>\n",
       "      <th>Packets</th>\n",
       "      <th>Bytes</th>\n",
       "      <th>Labels</th>\n",
       "      <th>Additional_Label</th>\n",
       "      <th>Source_IP</th>\n",
       "      <th>Source_Port</th>\n",
       "      <th>Destination_IP</th>\n",
       "      <th>Destination_Port</th>\n",
       "    </tr>\n",
       "  </thead>\n",
       "  <tbody>\n",
       "    <tr>\n",
       "      <td>0</td>\n",
       "      <td>2011-08-15</td>\n",
       "      <td>17:13:40.449</td>\n",
       "      <td>4.230</td>\n",
       "      <td>TCP</td>\n",
       "      <td>PA_</td>\n",
       "      <td>0</td>\n",
       "      <td>180</td>\n",
       "      <td>12628</td>\n",
       "      <td>Background</td>\n",
       "      <td>NaN</td>\n",
       "      <td>90.177.154.197</td>\n",
       "      <td>20127</td>\n",
       "      <td>147.32.84.144</td>\n",
       "      <td>22</td>\n",
       "    </tr>\n",
       "    <tr>\n",
       "      <td>1</td>\n",
       "      <td>2011-08-15</td>\n",
       "      <td>17:13:40.449</td>\n",
       "      <td>4.204</td>\n",
       "      <td>TCP</td>\n",
       "      <td>PA_</td>\n",
       "      <td>0</td>\n",
       "      <td>329</td>\n",
       "      <td>478578</td>\n",
       "      <td>Background</td>\n",
       "      <td>NaN</td>\n",
       "      <td>147.32.84.144</td>\n",
       "      <td>22</td>\n",
       "      <td>90.177.154.197</td>\n",
       "      <td>20127</td>\n",
       "    </tr>\n",
       "    <tr>\n",
       "      <td>2</td>\n",
       "      <td>2011-08-15</td>\n",
       "      <td>17:13:40.453</td>\n",
       "      <td>4.985</td>\n",
       "      <td>TCP</td>\n",
       "      <td>PA_</td>\n",
       "      <td>0</td>\n",
       "      <td>94</td>\n",
       "      <td>6212</td>\n",
       "      <td>Background</td>\n",
       "      <td>NaN</td>\n",
       "      <td>198.36.38.132</td>\n",
       "      <td>55530</td>\n",
       "      <td>147.32.86.183</td>\n",
       "      <td>443</td>\n",
       "    </tr>\n",
       "    <tr>\n",
       "      <td>3</td>\n",
       "      <td>2011-08-15</td>\n",
       "      <td>17:13:40.456</td>\n",
       "      <td>4.975</td>\n",
       "      <td>UDP</td>\n",
       "      <td>INT</td>\n",
       "      <td>0</td>\n",
       "      <td>182</td>\n",
       "      <td>61555</td>\n",
       "      <td>Background</td>\n",
       "      <td>NaN</td>\n",
       "      <td>41.103.64.21</td>\n",
       "      <td>54617</td>\n",
       "      <td>147.32.86.183</td>\n",
       "      <td>51246</td>\n",
       "    </tr>\n",
       "    <tr>\n",
       "      <td>4</td>\n",
       "      <td>2011-08-15</td>\n",
       "      <td>17:13:40.456</td>\n",
       "      <td>4.975</td>\n",
       "      <td>TCP</td>\n",
       "      <td>PA_</td>\n",
       "      <td>0</td>\n",
       "      <td>185</td>\n",
       "      <td>66524</td>\n",
       "      <td>Background</td>\n",
       "      <td>NaN</td>\n",
       "      <td>147.32.86.183</td>\n",
       "      <td>443</td>\n",
       "      <td>198.36.38.132</td>\n",
       "      <td>55530</td>\n",
       "    </tr>\n",
       "  </tbody>\n",
       "</table>\n",
       "</div>"
      ],
      "text/plain": [
       "         Date    Flow_Start  Duration Protocol Flags  Type_of_Service  \\\n",
       "0  2011-08-15  17:13:40.449     4.230      TCP   PA_                0   \n",
       "1  2011-08-15  17:13:40.449     4.204      TCP   PA_                0   \n",
       "2  2011-08-15  17:13:40.453     4.985      TCP   PA_                0   \n",
       "3  2011-08-15  17:13:40.456     4.975      UDP   INT                0   \n",
       "4  2011-08-15  17:13:40.456     4.975      TCP   PA_                0   \n",
       "\n",
       "   Packets   Bytes      Labels Additional_Label       Source_IP Source_Port  \\\n",
       "0      180   12628  Background              NaN  90.177.154.197       20127   \n",
       "1      329  478578  Background              NaN   147.32.84.144          22   \n",
       "2       94    6212  Background              NaN   198.36.38.132       55530   \n",
       "3      182   61555  Background              NaN    41.103.64.21       54617   \n",
       "4      185   66524  Background              NaN   147.32.86.183         443   \n",
       "\n",
       "   Destination_IP Destination_Port  \n",
       "0   147.32.84.144               22  \n",
       "1  90.177.154.197            20127  \n",
       "2   147.32.86.183              443  \n",
       "3   147.32.86.183            51246  \n",
       "4   198.36.38.132            55530  "
      ]
     },
     "execution_count": 9,
     "metadata": {},
     "output_type": "execute_result"
    }
   ],
   "source": [
    "df.head()"
   ]
  },
  {
   "cell_type": "code",
   "execution_count": 10,
   "metadata": {
    "ExecuteTime": {
     "end_time": "2020-04-29T16:30:54.236479Z",
     "start_time": "2020-04-29T16:30:54.158687Z"
    }
   },
   "outputs": [
    {
     "data": {
      "text/plain": [
       "array(['2011-08-15'], dtype=object)"
      ]
     },
     "execution_count": 10,
     "metadata": {},
     "output_type": "execute_result"
    }
   ],
   "source": [
    "df.Date.unique() #Looks like all the rows of the DATE column are same so they are dropped. "
   ]
  },
  {
   "cell_type": "code",
   "execution_count": 11,
   "metadata": {
    "ExecuteTime": {
     "end_time": "2020-04-29T16:30:54.432973Z",
     "start_time": "2020-04-29T16:30:54.238474Z"
    }
   },
   "outputs": [],
   "source": [
    "df.drop(['Date'],axis=1,inplace = True)"
   ]
  },
  {
   "cell_type": "code",
   "execution_count": 12,
   "metadata": {
    "ExecuteTime": {
     "end_time": "2020-04-29T16:30:54.453898Z",
     "start_time": "2020-04-29T16:30:54.433949Z"
    },
    "scrolled": true
   },
   "outputs": [
    {
     "data": {
      "text/html": [
       "<div>\n",
       "<style scoped>\n",
       "    .dataframe tbody tr th:only-of-type {\n",
       "        vertical-align: middle;\n",
       "    }\n",
       "\n",
       "    .dataframe tbody tr th {\n",
       "        vertical-align: top;\n",
       "    }\n",
       "\n",
       "    .dataframe thead th {\n",
       "        text-align: right;\n",
       "    }\n",
       "</style>\n",
       "<table border=\"1\" class=\"dataframe\">\n",
       "  <thead>\n",
       "    <tr style=\"text-align: right;\">\n",
       "      <th></th>\n",
       "      <th>Flow_Start</th>\n",
       "      <th>Duration</th>\n",
       "      <th>Protocol</th>\n",
       "      <th>Flags</th>\n",
       "      <th>Type_of_Service</th>\n",
       "      <th>Packets</th>\n",
       "      <th>Bytes</th>\n",
       "      <th>Labels</th>\n",
       "      <th>Additional_Label</th>\n",
       "      <th>Source_IP</th>\n",
       "      <th>Source_Port</th>\n",
       "      <th>Destination_IP</th>\n",
       "      <th>Destination_Port</th>\n",
       "    </tr>\n",
       "  </thead>\n",
       "  <tbody>\n",
       "    <tr>\n",
       "      <td>0</td>\n",
       "      <td>17:13:40.449</td>\n",
       "      <td>4.230</td>\n",
       "      <td>TCP</td>\n",
       "      <td>PA_</td>\n",
       "      <td>0</td>\n",
       "      <td>180</td>\n",
       "      <td>12628</td>\n",
       "      <td>Background</td>\n",
       "      <td>NaN</td>\n",
       "      <td>90.177.154.197</td>\n",
       "      <td>20127</td>\n",
       "      <td>147.32.84.144</td>\n",
       "      <td>22</td>\n",
       "    </tr>\n",
       "    <tr>\n",
       "      <td>1</td>\n",
       "      <td>17:13:40.449</td>\n",
       "      <td>4.204</td>\n",
       "      <td>TCP</td>\n",
       "      <td>PA_</td>\n",
       "      <td>0</td>\n",
       "      <td>329</td>\n",
       "      <td>478578</td>\n",
       "      <td>Background</td>\n",
       "      <td>NaN</td>\n",
       "      <td>147.32.84.144</td>\n",
       "      <td>22</td>\n",
       "      <td>90.177.154.197</td>\n",
       "      <td>20127</td>\n",
       "    </tr>\n",
       "    <tr>\n",
       "      <td>2</td>\n",
       "      <td>17:13:40.453</td>\n",
       "      <td>4.985</td>\n",
       "      <td>TCP</td>\n",
       "      <td>PA_</td>\n",
       "      <td>0</td>\n",
       "      <td>94</td>\n",
       "      <td>6212</td>\n",
       "      <td>Background</td>\n",
       "      <td>NaN</td>\n",
       "      <td>198.36.38.132</td>\n",
       "      <td>55530</td>\n",
       "      <td>147.32.86.183</td>\n",
       "      <td>443</td>\n",
       "    </tr>\n",
       "    <tr>\n",
       "      <td>3</td>\n",
       "      <td>17:13:40.456</td>\n",
       "      <td>4.975</td>\n",
       "      <td>UDP</td>\n",
       "      <td>INT</td>\n",
       "      <td>0</td>\n",
       "      <td>182</td>\n",
       "      <td>61555</td>\n",
       "      <td>Background</td>\n",
       "      <td>NaN</td>\n",
       "      <td>41.103.64.21</td>\n",
       "      <td>54617</td>\n",
       "      <td>147.32.86.183</td>\n",
       "      <td>51246</td>\n",
       "    </tr>\n",
       "    <tr>\n",
       "      <td>4</td>\n",
       "      <td>17:13:40.456</td>\n",
       "      <td>4.975</td>\n",
       "      <td>TCP</td>\n",
       "      <td>PA_</td>\n",
       "      <td>0</td>\n",
       "      <td>185</td>\n",
       "      <td>66524</td>\n",
       "      <td>Background</td>\n",
       "      <td>NaN</td>\n",
       "      <td>147.32.86.183</td>\n",
       "      <td>443</td>\n",
       "      <td>198.36.38.132</td>\n",
       "      <td>55530</td>\n",
       "    </tr>\n",
       "  </tbody>\n",
       "</table>\n",
       "</div>"
      ],
      "text/plain": [
       "     Flow_Start  Duration Protocol Flags  Type_of_Service  Packets   Bytes  \\\n",
       "0  17:13:40.449     4.230      TCP   PA_                0      180   12628   \n",
       "1  17:13:40.449     4.204      TCP   PA_                0      329  478578   \n",
       "2  17:13:40.453     4.985      TCP   PA_                0       94    6212   \n",
       "3  17:13:40.456     4.975      UDP   INT                0      182   61555   \n",
       "4  17:13:40.456     4.975      TCP   PA_                0      185   66524   \n",
       "\n",
       "       Labels Additional_Label       Source_IP Source_Port  Destination_IP  \\\n",
       "0  Background              NaN  90.177.154.197       20127   147.32.84.144   \n",
       "1  Background              NaN   147.32.84.144          22  90.177.154.197   \n",
       "2  Background              NaN   198.36.38.132       55530   147.32.86.183   \n",
       "3  Background              NaN    41.103.64.21       54617   147.32.86.183   \n",
       "4  Background              NaN   147.32.86.183         443   198.36.38.132   \n",
       "\n",
       "  Destination_Port  \n",
       "0               22  \n",
       "1            20127  \n",
       "2              443  \n",
       "3            51246  \n",
       "4            55530  "
      ]
     },
     "execution_count": 12,
     "metadata": {},
     "output_type": "execute_result"
    }
   ],
   "source": [
    "df.head()"
   ]
  },
  {
   "cell_type": "code",
   "execution_count": 13,
   "metadata": {
    "ExecuteTime": {
     "end_time": "2020-04-29T16:30:54.545682Z",
     "start_time": "2020-04-29T16:30:54.455892Z"
    }
   },
   "outputs": [
    {
     "data": {
      "text/plain": [
       "array([nan, 'FILTER_LEGITIMATE'], dtype=object)"
      ]
     },
     "execution_count": 13,
     "metadata": {},
     "output_type": "execute_result"
    }
   ],
   "source": [
    "df.Additional_Label.unique()"
   ]
  },
  {
   "cell_type": "code",
   "execution_count": 14,
   "metadata": {
    "ExecuteTime": {
     "end_time": "2020-04-29T16:30:55.323571Z",
     "start_time": "2020-04-29T16:30:54.547657Z"
    }
   },
   "outputs": [],
   "source": [
    "# Concatenating the labels and the columns with just the 'FILTER_LEGITIMATE' entry.  This creates a 4th entry in the\n",
    "# Label response variable. \n",
    "df['Label'] = df['Labels'].astype(str) + df['Additional_Label'].astype(str)"
   ]
  },
  {
   "cell_type": "code",
   "execution_count": 15,
   "metadata": {
    "ExecuteTime": {
     "end_time": "2020-04-29T16:30:55.343518Z",
     "start_time": "2020-04-29T16:30:55.325566Z"
    }
   },
   "outputs": [
    {
     "data": {
      "text/html": [
       "<div>\n",
       "<style scoped>\n",
       "    .dataframe tbody tr th:only-of-type {\n",
       "        vertical-align: middle;\n",
       "    }\n",
       "\n",
       "    .dataframe tbody tr th {\n",
       "        vertical-align: top;\n",
       "    }\n",
       "\n",
       "    .dataframe thead th {\n",
       "        text-align: right;\n",
       "    }\n",
       "</style>\n",
       "<table border=\"1\" class=\"dataframe\">\n",
       "  <thead>\n",
       "    <tr style=\"text-align: right;\">\n",
       "      <th></th>\n",
       "      <th>Flow_Start</th>\n",
       "      <th>Duration</th>\n",
       "      <th>Protocol</th>\n",
       "      <th>Flags</th>\n",
       "      <th>Type_of_Service</th>\n",
       "      <th>Packets</th>\n",
       "      <th>Bytes</th>\n",
       "      <th>Labels</th>\n",
       "      <th>Additional_Label</th>\n",
       "      <th>Source_IP</th>\n",
       "      <th>Source_Port</th>\n",
       "      <th>Destination_IP</th>\n",
       "      <th>Destination_Port</th>\n",
       "      <th>Label</th>\n",
       "    </tr>\n",
       "  </thead>\n",
       "  <tbody>\n",
       "    <tr>\n",
       "      <td>0</td>\n",
       "      <td>17:13:40.449</td>\n",
       "      <td>4.230</td>\n",
       "      <td>TCP</td>\n",
       "      <td>PA_</td>\n",
       "      <td>0</td>\n",
       "      <td>180</td>\n",
       "      <td>12628</td>\n",
       "      <td>Background</td>\n",
       "      <td>NaN</td>\n",
       "      <td>90.177.154.197</td>\n",
       "      <td>20127</td>\n",
       "      <td>147.32.84.144</td>\n",
       "      <td>22</td>\n",
       "      <td>Backgroundnan</td>\n",
       "    </tr>\n",
       "    <tr>\n",
       "      <td>1</td>\n",
       "      <td>17:13:40.449</td>\n",
       "      <td>4.204</td>\n",
       "      <td>TCP</td>\n",
       "      <td>PA_</td>\n",
       "      <td>0</td>\n",
       "      <td>329</td>\n",
       "      <td>478578</td>\n",
       "      <td>Background</td>\n",
       "      <td>NaN</td>\n",
       "      <td>147.32.84.144</td>\n",
       "      <td>22</td>\n",
       "      <td>90.177.154.197</td>\n",
       "      <td>20127</td>\n",
       "      <td>Backgroundnan</td>\n",
       "    </tr>\n",
       "    <tr>\n",
       "      <td>2</td>\n",
       "      <td>17:13:40.453</td>\n",
       "      <td>4.985</td>\n",
       "      <td>TCP</td>\n",
       "      <td>PA_</td>\n",
       "      <td>0</td>\n",
       "      <td>94</td>\n",
       "      <td>6212</td>\n",
       "      <td>Background</td>\n",
       "      <td>NaN</td>\n",
       "      <td>198.36.38.132</td>\n",
       "      <td>55530</td>\n",
       "      <td>147.32.86.183</td>\n",
       "      <td>443</td>\n",
       "      <td>Backgroundnan</td>\n",
       "    </tr>\n",
       "    <tr>\n",
       "      <td>3</td>\n",
       "      <td>17:13:40.456</td>\n",
       "      <td>4.975</td>\n",
       "      <td>UDP</td>\n",
       "      <td>INT</td>\n",
       "      <td>0</td>\n",
       "      <td>182</td>\n",
       "      <td>61555</td>\n",
       "      <td>Background</td>\n",
       "      <td>NaN</td>\n",
       "      <td>41.103.64.21</td>\n",
       "      <td>54617</td>\n",
       "      <td>147.32.86.183</td>\n",
       "      <td>51246</td>\n",
       "      <td>Backgroundnan</td>\n",
       "    </tr>\n",
       "    <tr>\n",
       "      <td>4</td>\n",
       "      <td>17:13:40.456</td>\n",
       "      <td>4.975</td>\n",
       "      <td>TCP</td>\n",
       "      <td>PA_</td>\n",
       "      <td>0</td>\n",
       "      <td>185</td>\n",
       "      <td>66524</td>\n",
       "      <td>Background</td>\n",
       "      <td>NaN</td>\n",
       "      <td>147.32.86.183</td>\n",
       "      <td>443</td>\n",
       "      <td>198.36.38.132</td>\n",
       "      <td>55530</td>\n",
       "      <td>Backgroundnan</td>\n",
       "    </tr>\n",
       "  </tbody>\n",
       "</table>\n",
       "</div>"
      ],
      "text/plain": [
       "     Flow_Start  Duration Protocol Flags  Type_of_Service  Packets   Bytes  \\\n",
       "0  17:13:40.449     4.230      TCP   PA_                0      180   12628   \n",
       "1  17:13:40.449     4.204      TCP   PA_                0      329  478578   \n",
       "2  17:13:40.453     4.985      TCP   PA_                0       94    6212   \n",
       "3  17:13:40.456     4.975      UDP   INT                0      182   61555   \n",
       "4  17:13:40.456     4.975      TCP   PA_                0      185   66524   \n",
       "\n",
       "       Labels Additional_Label       Source_IP Source_Port  Destination_IP  \\\n",
       "0  Background              NaN  90.177.154.197       20127   147.32.84.144   \n",
       "1  Background              NaN   147.32.84.144          22  90.177.154.197   \n",
       "2  Background              NaN   198.36.38.132       55530   147.32.86.183   \n",
       "3  Background              NaN    41.103.64.21       54617   147.32.86.183   \n",
       "4  Background              NaN   147.32.86.183         443   198.36.38.132   \n",
       "\n",
       "  Destination_Port          Label  \n",
       "0               22  Backgroundnan  \n",
       "1            20127  Backgroundnan  \n",
       "2              443  Backgroundnan  \n",
       "3            51246  Backgroundnan  \n",
       "4            55530  Backgroundnan  "
      ]
     },
     "execution_count": 15,
     "metadata": {},
     "output_type": "execute_result"
    }
   ],
   "source": [
    "df.head()"
   ]
  },
  {
   "cell_type": "code",
   "execution_count": 16,
   "metadata": {
    "ExecuteTime": {
     "end_time": "2020-04-29T16:30:55.438265Z",
     "start_time": "2020-04-29T16:30:55.345513Z"
    }
   },
   "outputs": [
    {
     "data": {
      "text/plain": [
       "array(['Backgroundnan', 'LEGITIMATEnan', 'Botnetnan',\n",
       "       'BotnetFILTER_LEGITIMATE'], dtype=object)"
      ]
     },
     "execution_count": 16,
     "metadata": {},
     "output_type": "execute_result"
    }
   ],
   "source": [
    "# The 'nan' at the end of each of the below are annoying.  \n",
    "df.Label.unique() "
   ]
  },
  {
   "cell_type": "code",
   "execution_count": 17,
   "metadata": {
    "ExecuteTime": {
     "end_time": "2020-04-29T16:30:56.688953Z",
     "start_time": "2020-04-29T16:30:55.440259Z"
    }
   },
   "outputs": [],
   "source": [
    "# Dropping the 'nan' parts. \n",
    "df['Label'] = df['Label'].str.replace(r'nan', '')"
   ]
  },
  {
   "cell_type": "code",
   "execution_count": 18,
   "metadata": {
    "ExecuteTime": {
     "end_time": "2020-04-29T16:30:57.419965Z",
     "start_time": "2020-04-29T16:30:56.690926Z"
    }
   },
   "outputs": [],
   "source": [
    "# Dropping unneccesary columns. \n",
    "df.drop(['Labels','Additional_Label'],axis=1,inplace = True)"
   ]
  },
  {
   "cell_type": "code",
   "execution_count": 19,
   "metadata": {
    "ExecuteTime": {
     "end_time": "2020-04-29T16:30:57.453875Z",
     "start_time": "2020-04-29T16:30:57.421960Z"
    }
   },
   "outputs": [
    {
     "data": {
      "text/html": [
       "<div>\n",
       "<style scoped>\n",
       "    .dataframe tbody tr th:only-of-type {\n",
       "        vertical-align: middle;\n",
       "    }\n",
       "\n",
       "    .dataframe tbody tr th {\n",
       "        vertical-align: top;\n",
       "    }\n",
       "\n",
       "    .dataframe thead th {\n",
       "        text-align: right;\n",
       "    }\n",
       "</style>\n",
       "<table border=\"1\" class=\"dataframe\">\n",
       "  <thead>\n",
       "    <tr style=\"text-align: right;\">\n",
       "      <th></th>\n",
       "      <th>Flow_Start</th>\n",
       "      <th>Duration</th>\n",
       "      <th>Protocol</th>\n",
       "      <th>Flags</th>\n",
       "      <th>Type_of_Service</th>\n",
       "      <th>Packets</th>\n",
       "      <th>Bytes</th>\n",
       "      <th>Source_IP</th>\n",
       "      <th>Source_Port</th>\n",
       "      <th>Destination_IP</th>\n",
       "      <th>Destination_Port</th>\n",
       "      <th>Label</th>\n",
       "    </tr>\n",
       "  </thead>\n",
       "  <tbody>\n",
       "    <tr>\n",
       "      <td>0</td>\n",
       "      <td>17:13:40.449</td>\n",
       "      <td>4.230</td>\n",
       "      <td>TCP</td>\n",
       "      <td>PA_</td>\n",
       "      <td>0</td>\n",
       "      <td>180</td>\n",
       "      <td>12628</td>\n",
       "      <td>90.177.154.197</td>\n",
       "      <td>20127</td>\n",
       "      <td>147.32.84.144</td>\n",
       "      <td>22</td>\n",
       "      <td>Background</td>\n",
       "    </tr>\n",
       "    <tr>\n",
       "      <td>1</td>\n",
       "      <td>17:13:40.449</td>\n",
       "      <td>4.204</td>\n",
       "      <td>TCP</td>\n",
       "      <td>PA_</td>\n",
       "      <td>0</td>\n",
       "      <td>329</td>\n",
       "      <td>478578</td>\n",
       "      <td>147.32.84.144</td>\n",
       "      <td>22</td>\n",
       "      <td>90.177.154.197</td>\n",
       "      <td>20127</td>\n",
       "      <td>Background</td>\n",
       "    </tr>\n",
       "    <tr>\n",
       "      <td>2</td>\n",
       "      <td>17:13:40.453</td>\n",
       "      <td>4.985</td>\n",
       "      <td>TCP</td>\n",
       "      <td>PA_</td>\n",
       "      <td>0</td>\n",
       "      <td>94</td>\n",
       "      <td>6212</td>\n",
       "      <td>198.36.38.132</td>\n",
       "      <td>55530</td>\n",
       "      <td>147.32.86.183</td>\n",
       "      <td>443</td>\n",
       "      <td>Background</td>\n",
       "    </tr>\n",
       "    <tr>\n",
       "      <td>3</td>\n",
       "      <td>17:13:40.456</td>\n",
       "      <td>4.975</td>\n",
       "      <td>UDP</td>\n",
       "      <td>INT</td>\n",
       "      <td>0</td>\n",
       "      <td>182</td>\n",
       "      <td>61555</td>\n",
       "      <td>41.103.64.21</td>\n",
       "      <td>54617</td>\n",
       "      <td>147.32.86.183</td>\n",
       "      <td>51246</td>\n",
       "      <td>Background</td>\n",
       "    </tr>\n",
       "    <tr>\n",
       "      <td>4</td>\n",
       "      <td>17:13:40.456</td>\n",
       "      <td>4.975</td>\n",
       "      <td>TCP</td>\n",
       "      <td>PA_</td>\n",
       "      <td>0</td>\n",
       "      <td>185</td>\n",
       "      <td>66524</td>\n",
       "      <td>147.32.86.183</td>\n",
       "      <td>443</td>\n",
       "      <td>198.36.38.132</td>\n",
       "      <td>55530</td>\n",
       "      <td>Background</td>\n",
       "    </tr>\n",
       "  </tbody>\n",
       "</table>\n",
       "</div>"
      ],
      "text/plain": [
       "     Flow_Start  Duration Protocol Flags  Type_of_Service  Packets   Bytes  \\\n",
       "0  17:13:40.449     4.230      TCP   PA_                0      180   12628   \n",
       "1  17:13:40.449     4.204      TCP   PA_                0      329  478578   \n",
       "2  17:13:40.453     4.985      TCP   PA_                0       94    6212   \n",
       "3  17:13:40.456     4.975      UDP   INT                0      182   61555   \n",
       "4  17:13:40.456     4.975      TCP   PA_                0      185   66524   \n",
       "\n",
       "        Source_IP Source_Port  Destination_IP Destination_Port       Label  \n",
       "0  90.177.154.197       20127   147.32.84.144               22  Background  \n",
       "1   147.32.84.144          22  90.177.154.197            20127  Background  \n",
       "2   198.36.38.132       55530   147.32.86.183              443  Background  \n",
       "3    41.103.64.21       54617   147.32.86.183            51246  Background  \n",
       "4   147.32.86.183         443   198.36.38.132            55530  Background  "
      ]
     },
     "execution_count": 19,
     "metadata": {},
     "output_type": "execute_result"
    }
   ],
   "source": [
    "df.head()"
   ]
  },
  {
   "cell_type": "code",
   "execution_count": 20,
   "metadata": {
    "ExecuteTime": {
     "end_time": "2020-04-29T16:30:58.071224Z",
     "start_time": "2020-04-29T16:30:57.456866Z"
    }
   },
   "outputs": [
    {
     "name": "stdout",
     "output_type": "stream",
     "text": [
      "<class 'pandas.core.frame.DataFrame'>\n",
      "RangeIndex: 1299090 entries, 0 to 1299089\n",
      "Data columns (total 12 columns):\n",
      "Flow_Start          1299090 non-null object\n",
      "Duration            1299090 non-null float64\n",
      "Protocol            1299090 non-null object\n",
      "Flags               1299090 non-null object\n",
      "Type_of_Service     1299090 non-null int64\n",
      "Packets             1299090 non-null int64\n",
      "Bytes               1299090 non-null int64\n",
      "Source_IP           1299090 non-null object\n",
      "Source_Port         1282687 non-null object\n",
      "Destination_IP      1299090 non-null object\n",
      "Destination_Port    1281795 non-null object\n",
      "Label               1299090 non-null object\n",
      "dtypes: float64(1), int64(3), object(8)\n",
      "memory usage: 118.9+ MB\n"
     ]
    }
   ],
   "source": [
    "df.info() #Source_port and destination_port have a few missing values"
   ]
  },
  {
   "cell_type": "code",
   "execution_count": 21,
   "metadata": {
    "ExecuteTime": {
     "end_time": "2020-04-29T16:30:58.091197Z",
     "start_time": "2020-04-29T16:30:58.073219Z"
    }
   },
   "outputs": [
    {
     "data": {
      "text/plain": [
       "array([  0,   3, 192,   2,   1], dtype=int64)"
      ]
     },
     "execution_count": 21,
     "metadata": {},
     "output_type": "execute_result"
    }
   ],
   "source": [
    "# Only 5 unique TOS.  \n",
    "df.Type_of_Service.unique() "
   ]
  },
  {
   "cell_type": "code",
   "execution_count": 22,
   "metadata": {
    "ExecuteTime": {
     "end_time": "2020-04-29T16:30:58.453203Z",
     "start_time": "2020-04-29T16:30:58.093165Z"
    }
   },
   "outputs": [
    {
     "name": "stdout",
     "output_type": "stream",
     "text": [
      "Label\n",
      "Background                 1218140\n",
      "Botnet                       21112\n",
      "BotnetFILTER_LEGITIMATE        648\n",
      "LEGITIMATE                   59190\n",
      "dtype: int64 Label\n",
      "Background                 0.937687\n",
      "Botnet                     0.016251\n",
      "BotnetFILTER_LEGITIMATE    0.000499\n",
      "LEGITIMATE                 0.045563\n",
      "dtype: float64\n"
     ]
    }
   ],
   "source": [
    "# Total number of observations = 1299090\n",
    "print(df.groupby('Label').size(), df.groupby('Label').size()/1299090) #Percent of data for each label type"
   ]
  },
  {
   "cell_type": "code",
   "execution_count": 23,
   "metadata": {
    "ExecuteTime": {
     "end_time": "2020-04-29T16:30:58.488110Z",
     "start_time": "2020-04-29T16:30:58.460184Z"
    },
    "scrolled": true
   },
   "outputs": [
    {
     "data": {
      "text/html": [
       "<div>\n",
       "<style scoped>\n",
       "    .dataframe tbody tr th:only-of-type {\n",
       "        vertical-align: middle;\n",
       "    }\n",
       "\n",
       "    .dataframe tbody tr th {\n",
       "        vertical-align: top;\n",
       "    }\n",
       "\n",
       "    .dataframe thead th {\n",
       "        text-align: right;\n",
       "    }\n",
       "</style>\n",
       "<table border=\"1\" class=\"dataframe\">\n",
       "  <thead>\n",
       "    <tr style=\"text-align: right;\">\n",
       "      <th></th>\n",
       "      <th>Flow_Start</th>\n",
       "      <th>Duration</th>\n",
       "      <th>Protocol</th>\n",
       "      <th>Flags</th>\n",
       "      <th>Type_of_Service</th>\n",
       "      <th>Packets</th>\n",
       "      <th>Bytes</th>\n",
       "      <th>Source_IP</th>\n",
       "      <th>Source_Port</th>\n",
       "      <th>Destination_IP</th>\n",
       "      <th>Destination_Port</th>\n",
       "      <th>Label</th>\n",
       "    </tr>\n",
       "  </thead>\n",
       "  <tbody>\n",
       "    <tr>\n",
       "      <td>0</td>\n",
       "      <td>17:13:40.449</td>\n",
       "      <td>4.230</td>\n",
       "      <td>TCP</td>\n",
       "      <td>PA_</td>\n",
       "      <td>0</td>\n",
       "      <td>180</td>\n",
       "      <td>12628</td>\n",
       "      <td>90.177.154.197</td>\n",
       "      <td>20127</td>\n",
       "      <td>147.32.84.144</td>\n",
       "      <td>22</td>\n",
       "      <td>Background</td>\n",
       "    </tr>\n",
       "    <tr>\n",
       "      <td>1</td>\n",
       "      <td>17:13:40.449</td>\n",
       "      <td>4.204</td>\n",
       "      <td>TCP</td>\n",
       "      <td>PA_</td>\n",
       "      <td>0</td>\n",
       "      <td>329</td>\n",
       "      <td>478578</td>\n",
       "      <td>147.32.84.144</td>\n",
       "      <td>22</td>\n",
       "      <td>90.177.154.197</td>\n",
       "      <td>20127</td>\n",
       "      <td>Background</td>\n",
       "    </tr>\n",
       "    <tr>\n",
       "      <td>2</td>\n",
       "      <td>17:13:40.453</td>\n",
       "      <td>4.985</td>\n",
       "      <td>TCP</td>\n",
       "      <td>PA_</td>\n",
       "      <td>0</td>\n",
       "      <td>94</td>\n",
       "      <td>6212</td>\n",
       "      <td>198.36.38.132</td>\n",
       "      <td>55530</td>\n",
       "      <td>147.32.86.183</td>\n",
       "      <td>443</td>\n",
       "      <td>Background</td>\n",
       "    </tr>\n",
       "    <tr>\n",
       "      <td>3</td>\n",
       "      <td>17:13:40.456</td>\n",
       "      <td>4.975</td>\n",
       "      <td>UDP</td>\n",
       "      <td>INT</td>\n",
       "      <td>0</td>\n",
       "      <td>182</td>\n",
       "      <td>61555</td>\n",
       "      <td>41.103.64.21</td>\n",
       "      <td>54617</td>\n",
       "      <td>147.32.86.183</td>\n",
       "      <td>51246</td>\n",
       "      <td>Background</td>\n",
       "    </tr>\n",
       "    <tr>\n",
       "      <td>4</td>\n",
       "      <td>17:13:40.456</td>\n",
       "      <td>4.975</td>\n",
       "      <td>TCP</td>\n",
       "      <td>PA_</td>\n",
       "      <td>0</td>\n",
       "      <td>185</td>\n",
       "      <td>66524</td>\n",
       "      <td>147.32.86.183</td>\n",
       "      <td>443</td>\n",
       "      <td>198.36.38.132</td>\n",
       "      <td>55530</td>\n",
       "      <td>Background</td>\n",
       "    </tr>\n",
       "  </tbody>\n",
       "</table>\n",
       "</div>"
      ],
      "text/plain": [
       "     Flow_Start  Duration Protocol Flags  Type_of_Service  Packets   Bytes  \\\n",
       "0  17:13:40.449     4.230      TCP   PA_                0      180   12628   \n",
       "1  17:13:40.449     4.204      TCP   PA_                0      329  478578   \n",
       "2  17:13:40.453     4.985      TCP   PA_                0       94    6212   \n",
       "3  17:13:40.456     4.975      UDP   INT                0      182   61555   \n",
       "4  17:13:40.456     4.975      TCP   PA_                0      185   66524   \n",
       "\n",
       "        Source_IP Source_Port  Destination_IP Destination_Port       Label  \n",
       "0  90.177.154.197       20127   147.32.84.144               22  Background  \n",
       "1   147.32.84.144          22  90.177.154.197            20127  Background  \n",
       "2   198.36.38.132       55530   147.32.86.183              443  Background  \n",
       "3    41.103.64.21       54617   147.32.86.183            51246  Background  \n",
       "4   147.32.86.183         443   198.36.38.132            55530  Background  "
      ]
     },
     "execution_count": 23,
     "metadata": {},
     "output_type": "execute_result"
    }
   ],
   "source": [
    "df.head()"
   ]
  },
  {
   "cell_type": "code",
   "execution_count": 24,
   "metadata": {
    "ExecuteTime": {
     "end_time": "2020-04-29T16:30:58.568893Z",
     "start_time": "2020-04-29T16:30:58.493097Z"
    }
   },
   "outputs": [
    {
     "data": {
      "text/plain": [
       "array(['PA_', 'INT', 'A_', 'SA_', 'FSPA_', '_FSPA', 'URP', 'S_', 'RA_',\n",
       "       'FSRPA_', 'SRPA_', 'FA_', 'SPA_', 'FPA_', 'RED', 'ECR', 'URH',\n",
       "       'R_', 'FSA_', '_FSA', 'FRA_', '_FSRPA', 'FRPA_', 'SR_', 'ECO',\n",
       "       'SRA_', 'CON', 'TXD', 'PAC_', 'RPA_', 'NRA', 'URN', 'FSRA_',\n",
       "       'URFIL', 'NNS', 'FRPAC_', 'URHPRO', '_FSRA', 'FSRPAC_', 'URO',\n",
       "       'F_', 'FSPAC_', 'RE_', 'FS_', 'FPAC_', 'SPAC_', 'URF', 'FAU_',\n",
       "       'RPA_FRPA', '_FSPAC', 'RC_', 'FR_', 'FSR_', 'SRC', 'SEC_', 'FAC_',\n",
       "       'FRAEC_'], dtype=object)"
      ]
     },
     "execution_count": 24,
     "metadata": {},
     "output_type": "execute_result"
    }
   ],
   "source": [
    "df.Flags.unique()"
   ]
  },
  {
   "cell_type": "code",
   "execution_count": 25,
   "metadata": {
    "ExecuteTime": {
     "end_time": "2020-04-29T16:31:00.090837Z",
     "start_time": "2020-04-29T16:30:58.570888Z"
    }
   },
   "outputs": [
    {
     "data": {
      "text/plain": [
       "array([['PA_'],\n",
       "       ['PA_'],\n",
       "       ['PA_'],\n",
       "       ...,\n",
       "       ['PA_'],\n",
       "       ['A_'],\n",
       "       ['INT']], dtype=object)"
      ]
     },
     "execution_count": 25,
     "metadata": {},
     "output_type": "execute_result"
    }
   ],
   "source": [
    "# We will now start one-hot encoding the flags so that they can later be included in our calculations. \n",
    "Flags_Copy=df[['Flags']].copy()\n",
    "import numpy as np\n",
    "from sklearn.preprocessing import OneHotEncoder\n",
    "enc_flags = OneHotEncoder(handle_unknown='ignore')\n",
    "cat_flags_data=np.array(Flags_Copy).reshape(-1, 1)\n",
    "cat_flags_data"
   ]
  },
  {
   "cell_type": "code",
   "execution_count": 26,
   "metadata": {
    "ExecuteTime": {
     "end_time": "2020-04-29T16:31:01.057241Z",
     "start_time": "2020-04-29T16:31:00.093816Z"
    }
   },
   "outputs": [
    {
     "data": {
      "text/plain": [
       "array([[0., 0., 0., ..., 0., 0., 0.],\n",
       "       [0., 0., 0., ..., 0., 0., 0.],\n",
       "       [0., 0., 0., ..., 0., 0., 0.],\n",
       "       ...,\n",
       "       [0., 0., 0., ..., 0., 0., 0.],\n",
       "       [1., 0., 0., ..., 0., 0., 0.],\n",
       "       [0., 0., 0., ..., 0., 0., 0.]])"
      ]
     },
     "execution_count": 26,
     "metadata": {},
     "output_type": "execute_result"
    }
   ],
   "source": [
    "cat_flags_hot=enc_flags.fit_transform(cat_flags_data)\n",
    "cat_flags=cat_flags_hot.toarray()\n",
    "cat_flags"
   ]
  },
  {
   "cell_type": "code",
   "execution_count": 27,
   "metadata": {
    "ExecuteTime": {
     "end_time": "2020-04-29T16:31:01.084168Z",
     "start_time": "2020-04-29T16:31:01.059236Z"
    }
   },
   "outputs": [
    {
     "data": {
      "text/html": [
       "<div>\n",
       "<style scoped>\n",
       "    .dataframe tbody tr th:only-of-type {\n",
       "        vertical-align: middle;\n",
       "    }\n",
       "\n",
       "    .dataframe tbody tr th {\n",
       "        vertical-align: top;\n",
       "    }\n",
       "\n",
       "    .dataframe thead th {\n",
       "        text-align: right;\n",
       "    }\n",
       "</style>\n",
       "<table border=\"1\" class=\"dataframe\">\n",
       "  <thead>\n",
       "    <tr style=\"text-align: right;\">\n",
       "      <th></th>\n",
       "      <th>0</th>\n",
       "      <th>1</th>\n",
       "      <th>2</th>\n",
       "      <th>3</th>\n",
       "      <th>4</th>\n",
       "      <th>5</th>\n",
       "      <th>6</th>\n",
       "      <th>7</th>\n",
       "      <th>8</th>\n",
       "      <th>9</th>\n",
       "      <th>...</th>\n",
       "      <th>47</th>\n",
       "      <th>48</th>\n",
       "      <th>49</th>\n",
       "      <th>50</th>\n",
       "      <th>51</th>\n",
       "      <th>52</th>\n",
       "      <th>53</th>\n",
       "      <th>54</th>\n",
       "      <th>55</th>\n",
       "      <th>56</th>\n",
       "    </tr>\n",
       "  </thead>\n",
       "  <tbody>\n",
       "    <tr>\n",
       "      <td>0</td>\n",
       "      <td>0.0</td>\n",
       "      <td>0.0</td>\n",
       "      <td>0.0</td>\n",
       "      <td>0.0</td>\n",
       "      <td>0.0</td>\n",
       "      <td>0.0</td>\n",
       "      <td>0.0</td>\n",
       "      <td>0.0</td>\n",
       "      <td>0.0</td>\n",
       "      <td>0.0</td>\n",
       "      <td>...</td>\n",
       "      <td>0.0</td>\n",
       "      <td>0.0</td>\n",
       "      <td>0.0</td>\n",
       "      <td>0.0</td>\n",
       "      <td>0.0</td>\n",
       "      <td>0.0</td>\n",
       "      <td>0.0</td>\n",
       "      <td>0.0</td>\n",
       "      <td>0.0</td>\n",
       "      <td>0.0</td>\n",
       "    </tr>\n",
       "    <tr>\n",
       "      <td>1</td>\n",
       "      <td>0.0</td>\n",
       "      <td>0.0</td>\n",
       "      <td>0.0</td>\n",
       "      <td>0.0</td>\n",
       "      <td>0.0</td>\n",
       "      <td>0.0</td>\n",
       "      <td>0.0</td>\n",
       "      <td>0.0</td>\n",
       "      <td>0.0</td>\n",
       "      <td>0.0</td>\n",
       "      <td>...</td>\n",
       "      <td>0.0</td>\n",
       "      <td>0.0</td>\n",
       "      <td>0.0</td>\n",
       "      <td>0.0</td>\n",
       "      <td>0.0</td>\n",
       "      <td>0.0</td>\n",
       "      <td>0.0</td>\n",
       "      <td>0.0</td>\n",
       "      <td>0.0</td>\n",
       "      <td>0.0</td>\n",
       "    </tr>\n",
       "    <tr>\n",
       "      <td>2</td>\n",
       "      <td>0.0</td>\n",
       "      <td>0.0</td>\n",
       "      <td>0.0</td>\n",
       "      <td>0.0</td>\n",
       "      <td>0.0</td>\n",
       "      <td>0.0</td>\n",
       "      <td>0.0</td>\n",
       "      <td>0.0</td>\n",
       "      <td>0.0</td>\n",
       "      <td>0.0</td>\n",
       "      <td>...</td>\n",
       "      <td>0.0</td>\n",
       "      <td>0.0</td>\n",
       "      <td>0.0</td>\n",
       "      <td>0.0</td>\n",
       "      <td>0.0</td>\n",
       "      <td>0.0</td>\n",
       "      <td>0.0</td>\n",
       "      <td>0.0</td>\n",
       "      <td>0.0</td>\n",
       "      <td>0.0</td>\n",
       "    </tr>\n",
       "    <tr>\n",
       "      <td>3</td>\n",
       "      <td>0.0</td>\n",
       "      <td>0.0</td>\n",
       "      <td>0.0</td>\n",
       "      <td>0.0</td>\n",
       "      <td>0.0</td>\n",
       "      <td>0.0</td>\n",
       "      <td>0.0</td>\n",
       "      <td>0.0</td>\n",
       "      <td>0.0</td>\n",
       "      <td>0.0</td>\n",
       "      <td>...</td>\n",
       "      <td>0.0</td>\n",
       "      <td>0.0</td>\n",
       "      <td>0.0</td>\n",
       "      <td>0.0</td>\n",
       "      <td>0.0</td>\n",
       "      <td>0.0</td>\n",
       "      <td>0.0</td>\n",
       "      <td>0.0</td>\n",
       "      <td>0.0</td>\n",
       "      <td>0.0</td>\n",
       "    </tr>\n",
       "    <tr>\n",
       "      <td>4</td>\n",
       "      <td>0.0</td>\n",
       "      <td>0.0</td>\n",
       "      <td>0.0</td>\n",
       "      <td>0.0</td>\n",
       "      <td>0.0</td>\n",
       "      <td>0.0</td>\n",
       "      <td>0.0</td>\n",
       "      <td>0.0</td>\n",
       "      <td>0.0</td>\n",
       "      <td>0.0</td>\n",
       "      <td>...</td>\n",
       "      <td>0.0</td>\n",
       "      <td>0.0</td>\n",
       "      <td>0.0</td>\n",
       "      <td>0.0</td>\n",
       "      <td>0.0</td>\n",
       "      <td>0.0</td>\n",
       "      <td>0.0</td>\n",
       "      <td>0.0</td>\n",
       "      <td>0.0</td>\n",
       "      <td>0.0</td>\n",
       "    </tr>\n",
       "  </tbody>\n",
       "</table>\n",
       "<p>5 rows × 57 columns</p>\n",
       "</div>"
      ],
      "text/plain": [
       "    0    1    2    3    4    5    6    7    8    9   ...   47   48   49   50  \\\n",
       "0  0.0  0.0  0.0  0.0  0.0  0.0  0.0  0.0  0.0  0.0  ...  0.0  0.0  0.0  0.0   \n",
       "1  0.0  0.0  0.0  0.0  0.0  0.0  0.0  0.0  0.0  0.0  ...  0.0  0.0  0.0  0.0   \n",
       "2  0.0  0.0  0.0  0.0  0.0  0.0  0.0  0.0  0.0  0.0  ...  0.0  0.0  0.0  0.0   \n",
       "3  0.0  0.0  0.0  0.0  0.0  0.0  0.0  0.0  0.0  0.0  ...  0.0  0.0  0.0  0.0   \n",
       "4  0.0  0.0  0.0  0.0  0.0  0.0  0.0  0.0  0.0  0.0  ...  0.0  0.0  0.0  0.0   \n",
       "\n",
       "    51   52   53   54   55   56  \n",
       "0  0.0  0.0  0.0  0.0  0.0  0.0  \n",
       "1  0.0  0.0  0.0  0.0  0.0  0.0  \n",
       "2  0.0  0.0  0.0  0.0  0.0  0.0  \n",
       "3  0.0  0.0  0.0  0.0  0.0  0.0  \n",
       "4  0.0  0.0  0.0  0.0  0.0  0.0  \n",
       "\n",
       "[5 rows x 57 columns]"
      ]
     },
     "execution_count": 27,
     "metadata": {},
     "output_type": "execute_result"
    }
   ],
   "source": [
    "New_cat_flags = pd.DataFrame(cat_flags)\n",
    "New_cat_flags.head()"
   ]
  },
  {
   "cell_type": "code",
   "execution_count": 28,
   "metadata": {
    "ExecuteTime": {
     "end_time": "2020-04-29T16:31:01.121076Z",
     "start_time": "2020-04-29T16:31:01.087159Z"
    },
    "scrolled": true
   },
   "outputs": [
    {
     "data": {
      "text/html": [
       "<div>\n",
       "<style scoped>\n",
       "    .dataframe tbody tr th:only-of-type {\n",
       "        vertical-align: middle;\n",
       "    }\n",
       "\n",
       "    .dataframe tbody tr th {\n",
       "        vertical-align: top;\n",
       "    }\n",
       "\n",
       "    .dataframe thead th {\n",
       "        text-align: right;\n",
       "    }\n",
       "</style>\n",
       "<table border=\"1\" class=\"dataframe\">\n",
       "  <thead>\n",
       "    <tr style=\"text-align: right;\">\n",
       "      <th></th>\n",
       "      <th>x0_FSR_</th>\n",
       "      <th>x0_FS_</th>\n",
       "      <th>x0_F_</th>\n",
       "      <th>x0_INT</th>\n",
       "      <th>x0_NNS</th>\n",
       "      <th>x0_NRA</th>\n",
       "      <th>x0_PAC_</th>\n",
       "      <th>x0_PA_</th>\n",
       "      <th>x0_RA_</th>\n",
       "      <th>x0_RC_</th>\n",
       "      <th>x0_RED</th>\n",
       "      <th>x0_RE_</th>\n",
       "      <th>x0_RPA_</th>\n",
       "      <th>x0_RPA_FRPA</th>\n",
       "      <th>x0_R_</th>\n",
       "      <th>x0_SA_</th>\n",
       "      <th>x0_SEC_</th>\n",
       "      <th>x0_SPAC_</th>\n",
       "      <th>x0_SPA_</th>\n",
       "      <th>x0_SRA_</th>\n",
       "    </tr>\n",
       "  </thead>\n",
       "  <tbody>\n",
       "    <tr>\n",
       "      <td>0</td>\n",
       "      <td>0.0</td>\n",
       "      <td>0.0</td>\n",
       "      <td>0.0</td>\n",
       "      <td>0.0</td>\n",
       "      <td>0.0</td>\n",
       "      <td>0.0</td>\n",
       "      <td>0.0</td>\n",
       "      <td>1.0</td>\n",
       "      <td>0.0</td>\n",
       "      <td>0.0</td>\n",
       "      <td>0.0</td>\n",
       "      <td>0.0</td>\n",
       "      <td>0.0</td>\n",
       "      <td>0.0</td>\n",
       "      <td>0.0</td>\n",
       "      <td>0.0</td>\n",
       "      <td>0.0</td>\n",
       "      <td>0.0</td>\n",
       "      <td>0.0</td>\n",
       "      <td>0.0</td>\n",
       "    </tr>\n",
       "    <tr>\n",
       "      <td>1</td>\n",
       "      <td>0.0</td>\n",
       "      <td>0.0</td>\n",
       "      <td>0.0</td>\n",
       "      <td>0.0</td>\n",
       "      <td>0.0</td>\n",
       "      <td>0.0</td>\n",
       "      <td>0.0</td>\n",
       "      <td>1.0</td>\n",
       "      <td>0.0</td>\n",
       "      <td>0.0</td>\n",
       "      <td>0.0</td>\n",
       "      <td>0.0</td>\n",
       "      <td>0.0</td>\n",
       "      <td>0.0</td>\n",
       "      <td>0.0</td>\n",
       "      <td>0.0</td>\n",
       "      <td>0.0</td>\n",
       "      <td>0.0</td>\n",
       "      <td>0.0</td>\n",
       "      <td>0.0</td>\n",
       "    </tr>\n",
       "    <tr>\n",
       "      <td>2</td>\n",
       "      <td>0.0</td>\n",
       "      <td>0.0</td>\n",
       "      <td>0.0</td>\n",
       "      <td>0.0</td>\n",
       "      <td>0.0</td>\n",
       "      <td>0.0</td>\n",
       "      <td>0.0</td>\n",
       "      <td>1.0</td>\n",
       "      <td>0.0</td>\n",
       "      <td>0.0</td>\n",
       "      <td>0.0</td>\n",
       "      <td>0.0</td>\n",
       "      <td>0.0</td>\n",
       "      <td>0.0</td>\n",
       "      <td>0.0</td>\n",
       "      <td>0.0</td>\n",
       "      <td>0.0</td>\n",
       "      <td>0.0</td>\n",
       "      <td>0.0</td>\n",
       "      <td>0.0</td>\n",
       "    </tr>\n",
       "    <tr>\n",
       "      <td>3</td>\n",
       "      <td>0.0</td>\n",
       "      <td>0.0</td>\n",
       "      <td>0.0</td>\n",
       "      <td>1.0</td>\n",
       "      <td>0.0</td>\n",
       "      <td>0.0</td>\n",
       "      <td>0.0</td>\n",
       "      <td>0.0</td>\n",
       "      <td>0.0</td>\n",
       "      <td>0.0</td>\n",
       "      <td>0.0</td>\n",
       "      <td>0.0</td>\n",
       "      <td>0.0</td>\n",
       "      <td>0.0</td>\n",
       "      <td>0.0</td>\n",
       "      <td>0.0</td>\n",
       "      <td>0.0</td>\n",
       "      <td>0.0</td>\n",
       "      <td>0.0</td>\n",
       "      <td>0.0</td>\n",
       "    </tr>\n",
       "    <tr>\n",
       "      <td>4</td>\n",
       "      <td>0.0</td>\n",
       "      <td>0.0</td>\n",
       "      <td>0.0</td>\n",
       "      <td>0.0</td>\n",
       "      <td>0.0</td>\n",
       "      <td>0.0</td>\n",
       "      <td>0.0</td>\n",
       "      <td>1.0</td>\n",
       "      <td>0.0</td>\n",
       "      <td>0.0</td>\n",
       "      <td>0.0</td>\n",
       "      <td>0.0</td>\n",
       "      <td>0.0</td>\n",
       "      <td>0.0</td>\n",
       "      <td>0.0</td>\n",
       "      <td>0.0</td>\n",
       "      <td>0.0</td>\n",
       "      <td>0.0</td>\n",
       "      <td>0.0</td>\n",
       "      <td>0.0</td>\n",
       "    </tr>\n",
       "    <tr>\n",
       "      <td>...</td>\n",
       "      <td>...</td>\n",
       "      <td>...</td>\n",
       "      <td>...</td>\n",
       "      <td>...</td>\n",
       "      <td>...</td>\n",
       "      <td>...</td>\n",
       "      <td>...</td>\n",
       "      <td>...</td>\n",
       "      <td>...</td>\n",
       "      <td>...</td>\n",
       "      <td>...</td>\n",
       "      <td>...</td>\n",
       "      <td>...</td>\n",
       "      <td>...</td>\n",
       "      <td>...</td>\n",
       "      <td>...</td>\n",
       "      <td>...</td>\n",
       "      <td>...</td>\n",
       "      <td>...</td>\n",
       "      <td>...</td>\n",
       "    </tr>\n",
       "    <tr>\n",
       "      <td>1299085</td>\n",
       "      <td>0.0</td>\n",
       "      <td>0.0</td>\n",
       "      <td>0.0</td>\n",
       "      <td>0.0</td>\n",
       "      <td>0.0</td>\n",
       "      <td>0.0</td>\n",
       "      <td>0.0</td>\n",
       "      <td>0.0</td>\n",
       "      <td>0.0</td>\n",
       "      <td>0.0</td>\n",
       "      <td>0.0</td>\n",
       "      <td>0.0</td>\n",
       "      <td>0.0</td>\n",
       "      <td>0.0</td>\n",
       "      <td>0.0</td>\n",
       "      <td>0.0</td>\n",
       "      <td>0.0</td>\n",
       "      <td>0.0</td>\n",
       "      <td>1.0</td>\n",
       "      <td>0.0</td>\n",
       "    </tr>\n",
       "    <tr>\n",
       "      <td>1299086</td>\n",
       "      <td>0.0</td>\n",
       "      <td>0.0</td>\n",
       "      <td>0.0</td>\n",
       "      <td>0.0</td>\n",
       "      <td>0.0</td>\n",
       "      <td>0.0</td>\n",
       "      <td>0.0</td>\n",
       "      <td>0.0</td>\n",
       "      <td>0.0</td>\n",
       "      <td>0.0</td>\n",
       "      <td>0.0</td>\n",
       "      <td>0.0</td>\n",
       "      <td>0.0</td>\n",
       "      <td>0.0</td>\n",
       "      <td>0.0</td>\n",
       "      <td>0.0</td>\n",
       "      <td>0.0</td>\n",
       "      <td>0.0</td>\n",
       "      <td>0.0</td>\n",
       "      <td>0.0</td>\n",
       "    </tr>\n",
       "    <tr>\n",
       "      <td>1299087</td>\n",
       "      <td>0.0</td>\n",
       "      <td>0.0</td>\n",
       "      <td>0.0</td>\n",
       "      <td>0.0</td>\n",
       "      <td>0.0</td>\n",
       "      <td>0.0</td>\n",
       "      <td>0.0</td>\n",
       "      <td>1.0</td>\n",
       "      <td>0.0</td>\n",
       "      <td>0.0</td>\n",
       "      <td>0.0</td>\n",
       "      <td>0.0</td>\n",
       "      <td>0.0</td>\n",
       "      <td>0.0</td>\n",
       "      <td>0.0</td>\n",
       "      <td>0.0</td>\n",
       "      <td>0.0</td>\n",
       "      <td>0.0</td>\n",
       "      <td>0.0</td>\n",
       "      <td>0.0</td>\n",
       "    </tr>\n",
       "    <tr>\n",
       "      <td>1299088</td>\n",
       "      <td>0.0</td>\n",
       "      <td>0.0</td>\n",
       "      <td>0.0</td>\n",
       "      <td>0.0</td>\n",
       "      <td>0.0</td>\n",
       "      <td>0.0</td>\n",
       "      <td>0.0</td>\n",
       "      <td>0.0</td>\n",
       "      <td>0.0</td>\n",
       "      <td>0.0</td>\n",
       "      <td>0.0</td>\n",
       "      <td>0.0</td>\n",
       "      <td>0.0</td>\n",
       "      <td>0.0</td>\n",
       "      <td>0.0</td>\n",
       "      <td>0.0</td>\n",
       "      <td>0.0</td>\n",
       "      <td>0.0</td>\n",
       "      <td>0.0</td>\n",
       "      <td>0.0</td>\n",
       "    </tr>\n",
       "    <tr>\n",
       "      <td>1299089</td>\n",
       "      <td>0.0</td>\n",
       "      <td>0.0</td>\n",
       "      <td>0.0</td>\n",
       "      <td>1.0</td>\n",
       "      <td>0.0</td>\n",
       "      <td>0.0</td>\n",
       "      <td>0.0</td>\n",
       "      <td>0.0</td>\n",
       "      <td>0.0</td>\n",
       "      <td>0.0</td>\n",
       "      <td>0.0</td>\n",
       "      <td>0.0</td>\n",
       "      <td>0.0</td>\n",
       "      <td>0.0</td>\n",
       "      <td>0.0</td>\n",
       "      <td>0.0</td>\n",
       "      <td>0.0</td>\n",
       "      <td>0.0</td>\n",
       "      <td>0.0</td>\n",
       "      <td>0.0</td>\n",
       "    </tr>\n",
       "  </tbody>\n",
       "</table>\n",
       "<p>1299090 rows × 20 columns</p>\n",
       "</div>"
      ],
      "text/plain": [
       "         x0_FSR_  x0_FS_  x0_F_  x0_INT  x0_NNS  x0_NRA  x0_PAC_  x0_PA_  \\\n",
       "0            0.0     0.0    0.0     0.0     0.0     0.0      0.0     1.0   \n",
       "1            0.0     0.0    0.0     0.0     0.0     0.0      0.0     1.0   \n",
       "2            0.0     0.0    0.0     0.0     0.0     0.0      0.0     1.0   \n",
       "3            0.0     0.0    0.0     1.0     0.0     0.0      0.0     0.0   \n",
       "4            0.0     0.0    0.0     0.0     0.0     0.0      0.0     1.0   \n",
       "...          ...     ...    ...     ...     ...     ...      ...     ...   \n",
       "1299085      0.0     0.0    0.0     0.0     0.0     0.0      0.0     0.0   \n",
       "1299086      0.0     0.0    0.0     0.0     0.0     0.0      0.0     0.0   \n",
       "1299087      0.0     0.0    0.0     0.0     0.0     0.0      0.0     1.0   \n",
       "1299088      0.0     0.0    0.0     0.0     0.0     0.0      0.0     0.0   \n",
       "1299089      0.0     0.0    0.0     1.0     0.0     0.0      0.0     0.0   \n",
       "\n",
       "         x0_RA_  x0_RC_  x0_RED  x0_RE_  x0_RPA_  x0_RPA_FRPA  x0_R_  x0_SA_  \\\n",
       "0           0.0     0.0     0.0     0.0      0.0          0.0    0.0     0.0   \n",
       "1           0.0     0.0     0.0     0.0      0.0          0.0    0.0     0.0   \n",
       "2           0.0     0.0     0.0     0.0      0.0          0.0    0.0     0.0   \n",
       "3           0.0     0.0     0.0     0.0      0.0          0.0    0.0     0.0   \n",
       "4           0.0     0.0     0.0     0.0      0.0          0.0    0.0     0.0   \n",
       "...         ...     ...     ...     ...      ...          ...    ...     ...   \n",
       "1299085     0.0     0.0     0.0     0.0      0.0          0.0    0.0     0.0   \n",
       "1299086     0.0     0.0     0.0     0.0      0.0          0.0    0.0     0.0   \n",
       "1299087     0.0     0.0     0.0     0.0      0.0          0.0    0.0     0.0   \n",
       "1299088     0.0     0.0     0.0     0.0      0.0          0.0    0.0     0.0   \n",
       "1299089     0.0     0.0     0.0     0.0      0.0          0.0    0.0     0.0   \n",
       "\n",
       "         x0_SEC_  x0_SPAC_  x0_SPA_  x0_SRA_  \n",
       "0            0.0       0.0      0.0      0.0  \n",
       "1            0.0       0.0      0.0      0.0  \n",
       "2            0.0       0.0      0.0      0.0  \n",
       "3            0.0       0.0      0.0      0.0  \n",
       "4            0.0       0.0      0.0      0.0  \n",
       "...          ...       ...      ...      ...  \n",
       "1299085      0.0       0.0      1.0      0.0  \n",
       "1299086      0.0       0.0      0.0      0.0  \n",
       "1299087      0.0       0.0      0.0      0.0  \n",
       "1299088      0.0       0.0      0.0      0.0  \n",
       "1299089      0.0       0.0      0.0      0.0  \n",
       "\n",
       "[1299090 rows x 20 columns]"
      ]
     },
     "execution_count": 28,
     "metadata": {},
     "output_type": "execute_result"
    }
   ],
   "source": [
    "enc_flags.get_feature_names()\n",
    "New_cat_flags.columns = enc_flags.get_feature_names()\n",
    "New_cat_flags.iloc[:,20:40]\n",
    "# We know from the original dataframe that the flags for the first 5 rows were PA_, PA_, PA_, INT, and PA_.  This appears\n",
    "# to match the column names below. "
   ]
  },
  {
   "cell_type": "code",
   "execution_count": 29,
   "metadata": {
    "ExecuteTime": {
     "end_time": "2020-04-29T16:31:02.012685Z",
     "start_time": "2020-04-29T16:31:01.123064Z"
    },
    "scrolled": true
   },
   "outputs": [
    {
     "data": {
      "text/html": [
       "<div>\n",
       "<style scoped>\n",
       "    .dataframe tbody tr th:only-of-type {\n",
       "        vertical-align: middle;\n",
       "    }\n",
       "\n",
       "    .dataframe tbody tr th {\n",
       "        vertical-align: top;\n",
       "    }\n",
       "\n",
       "    .dataframe thead th {\n",
       "        text-align: right;\n",
       "    }\n",
       "</style>\n",
       "<table border=\"1\" class=\"dataframe\">\n",
       "  <thead>\n",
       "    <tr style=\"text-align: right;\">\n",
       "      <th></th>\n",
       "      <th>A_</th>\n",
       "      <th>CON</th>\n",
       "      <th>ECO</th>\n",
       "      <th>ECR</th>\n",
       "      <th>FAC_</th>\n",
       "      <th>FAU_</th>\n",
       "      <th>FA_</th>\n",
       "      <th>FPAC_</th>\n",
       "      <th>FPA_</th>\n",
       "      <th>FRAEC_</th>\n",
       "      <th>...</th>\n",
       "      <th>URH</th>\n",
       "      <th>URHPRO</th>\n",
       "      <th>URN</th>\n",
       "      <th>URO</th>\n",
       "      <th>URP</th>\n",
       "      <th>_FSA</th>\n",
       "      <th>_FSPA</th>\n",
       "      <th>_FSPAC</th>\n",
       "      <th>_FSRA</th>\n",
       "      <th>_FSRPA</th>\n",
       "    </tr>\n",
       "  </thead>\n",
       "  <tbody>\n",
       "    <tr>\n",
       "      <td>0</td>\n",
       "      <td>0.0</td>\n",
       "      <td>0.0</td>\n",
       "      <td>0.0</td>\n",
       "      <td>0.0</td>\n",
       "      <td>0.0</td>\n",
       "      <td>0.0</td>\n",
       "      <td>0.0</td>\n",
       "      <td>0.0</td>\n",
       "      <td>0.0</td>\n",
       "      <td>0.0</td>\n",
       "      <td>...</td>\n",
       "      <td>0.0</td>\n",
       "      <td>0.0</td>\n",
       "      <td>0.0</td>\n",
       "      <td>0.0</td>\n",
       "      <td>0.0</td>\n",
       "      <td>0.0</td>\n",
       "      <td>0.0</td>\n",
       "      <td>0.0</td>\n",
       "      <td>0.0</td>\n",
       "      <td>0.0</td>\n",
       "    </tr>\n",
       "    <tr>\n",
       "      <td>1</td>\n",
       "      <td>0.0</td>\n",
       "      <td>0.0</td>\n",
       "      <td>0.0</td>\n",
       "      <td>0.0</td>\n",
       "      <td>0.0</td>\n",
       "      <td>0.0</td>\n",
       "      <td>0.0</td>\n",
       "      <td>0.0</td>\n",
       "      <td>0.0</td>\n",
       "      <td>0.0</td>\n",
       "      <td>...</td>\n",
       "      <td>0.0</td>\n",
       "      <td>0.0</td>\n",
       "      <td>0.0</td>\n",
       "      <td>0.0</td>\n",
       "      <td>0.0</td>\n",
       "      <td>0.0</td>\n",
       "      <td>0.0</td>\n",
       "      <td>0.0</td>\n",
       "      <td>0.0</td>\n",
       "      <td>0.0</td>\n",
       "    </tr>\n",
       "    <tr>\n",
       "      <td>2</td>\n",
       "      <td>0.0</td>\n",
       "      <td>0.0</td>\n",
       "      <td>0.0</td>\n",
       "      <td>0.0</td>\n",
       "      <td>0.0</td>\n",
       "      <td>0.0</td>\n",
       "      <td>0.0</td>\n",
       "      <td>0.0</td>\n",
       "      <td>0.0</td>\n",
       "      <td>0.0</td>\n",
       "      <td>...</td>\n",
       "      <td>0.0</td>\n",
       "      <td>0.0</td>\n",
       "      <td>0.0</td>\n",
       "      <td>0.0</td>\n",
       "      <td>0.0</td>\n",
       "      <td>0.0</td>\n",
       "      <td>0.0</td>\n",
       "      <td>0.0</td>\n",
       "      <td>0.0</td>\n",
       "      <td>0.0</td>\n",
       "    </tr>\n",
       "    <tr>\n",
       "      <td>3</td>\n",
       "      <td>0.0</td>\n",
       "      <td>0.0</td>\n",
       "      <td>0.0</td>\n",
       "      <td>0.0</td>\n",
       "      <td>0.0</td>\n",
       "      <td>0.0</td>\n",
       "      <td>0.0</td>\n",
       "      <td>0.0</td>\n",
       "      <td>0.0</td>\n",
       "      <td>0.0</td>\n",
       "      <td>...</td>\n",
       "      <td>0.0</td>\n",
       "      <td>0.0</td>\n",
       "      <td>0.0</td>\n",
       "      <td>0.0</td>\n",
       "      <td>0.0</td>\n",
       "      <td>0.0</td>\n",
       "      <td>0.0</td>\n",
       "      <td>0.0</td>\n",
       "      <td>0.0</td>\n",
       "      <td>0.0</td>\n",
       "    </tr>\n",
       "    <tr>\n",
       "      <td>4</td>\n",
       "      <td>0.0</td>\n",
       "      <td>0.0</td>\n",
       "      <td>0.0</td>\n",
       "      <td>0.0</td>\n",
       "      <td>0.0</td>\n",
       "      <td>0.0</td>\n",
       "      <td>0.0</td>\n",
       "      <td>0.0</td>\n",
       "      <td>0.0</td>\n",
       "      <td>0.0</td>\n",
       "      <td>...</td>\n",
       "      <td>0.0</td>\n",
       "      <td>0.0</td>\n",
       "      <td>0.0</td>\n",
       "      <td>0.0</td>\n",
       "      <td>0.0</td>\n",
       "      <td>0.0</td>\n",
       "      <td>0.0</td>\n",
       "      <td>0.0</td>\n",
       "      <td>0.0</td>\n",
       "      <td>0.0</td>\n",
       "    </tr>\n",
       "    <tr>\n",
       "      <td>...</td>\n",
       "      <td>...</td>\n",
       "      <td>...</td>\n",
       "      <td>...</td>\n",
       "      <td>...</td>\n",
       "      <td>...</td>\n",
       "      <td>...</td>\n",
       "      <td>...</td>\n",
       "      <td>...</td>\n",
       "      <td>...</td>\n",
       "      <td>...</td>\n",
       "      <td>...</td>\n",
       "      <td>...</td>\n",
       "      <td>...</td>\n",
       "      <td>...</td>\n",
       "      <td>...</td>\n",
       "      <td>...</td>\n",
       "      <td>...</td>\n",
       "      <td>...</td>\n",
       "      <td>...</td>\n",
       "      <td>...</td>\n",
       "      <td>...</td>\n",
       "    </tr>\n",
       "    <tr>\n",
       "      <td>1299085</td>\n",
       "      <td>0.0</td>\n",
       "      <td>0.0</td>\n",
       "      <td>0.0</td>\n",
       "      <td>0.0</td>\n",
       "      <td>0.0</td>\n",
       "      <td>0.0</td>\n",
       "      <td>0.0</td>\n",
       "      <td>0.0</td>\n",
       "      <td>0.0</td>\n",
       "      <td>0.0</td>\n",
       "      <td>...</td>\n",
       "      <td>0.0</td>\n",
       "      <td>0.0</td>\n",
       "      <td>0.0</td>\n",
       "      <td>0.0</td>\n",
       "      <td>0.0</td>\n",
       "      <td>0.0</td>\n",
       "      <td>0.0</td>\n",
       "      <td>0.0</td>\n",
       "      <td>0.0</td>\n",
       "      <td>0.0</td>\n",
       "    </tr>\n",
       "    <tr>\n",
       "      <td>1299086</td>\n",
       "      <td>0.0</td>\n",
       "      <td>0.0</td>\n",
       "      <td>0.0</td>\n",
       "      <td>0.0</td>\n",
       "      <td>0.0</td>\n",
       "      <td>0.0</td>\n",
       "      <td>0.0</td>\n",
       "      <td>0.0</td>\n",
       "      <td>1.0</td>\n",
       "      <td>0.0</td>\n",
       "      <td>...</td>\n",
       "      <td>0.0</td>\n",
       "      <td>0.0</td>\n",
       "      <td>0.0</td>\n",
       "      <td>0.0</td>\n",
       "      <td>0.0</td>\n",
       "      <td>0.0</td>\n",
       "      <td>0.0</td>\n",
       "      <td>0.0</td>\n",
       "      <td>0.0</td>\n",
       "      <td>0.0</td>\n",
       "    </tr>\n",
       "    <tr>\n",
       "      <td>1299087</td>\n",
       "      <td>0.0</td>\n",
       "      <td>0.0</td>\n",
       "      <td>0.0</td>\n",
       "      <td>0.0</td>\n",
       "      <td>0.0</td>\n",
       "      <td>0.0</td>\n",
       "      <td>0.0</td>\n",
       "      <td>0.0</td>\n",
       "      <td>0.0</td>\n",
       "      <td>0.0</td>\n",
       "      <td>...</td>\n",
       "      <td>0.0</td>\n",
       "      <td>0.0</td>\n",
       "      <td>0.0</td>\n",
       "      <td>0.0</td>\n",
       "      <td>0.0</td>\n",
       "      <td>0.0</td>\n",
       "      <td>0.0</td>\n",
       "      <td>0.0</td>\n",
       "      <td>0.0</td>\n",
       "      <td>0.0</td>\n",
       "    </tr>\n",
       "    <tr>\n",
       "      <td>1299088</td>\n",
       "      <td>1.0</td>\n",
       "      <td>0.0</td>\n",
       "      <td>0.0</td>\n",
       "      <td>0.0</td>\n",
       "      <td>0.0</td>\n",
       "      <td>0.0</td>\n",
       "      <td>0.0</td>\n",
       "      <td>0.0</td>\n",
       "      <td>0.0</td>\n",
       "      <td>0.0</td>\n",
       "      <td>...</td>\n",
       "      <td>0.0</td>\n",
       "      <td>0.0</td>\n",
       "      <td>0.0</td>\n",
       "      <td>0.0</td>\n",
       "      <td>0.0</td>\n",
       "      <td>0.0</td>\n",
       "      <td>0.0</td>\n",
       "      <td>0.0</td>\n",
       "      <td>0.0</td>\n",
       "      <td>0.0</td>\n",
       "    </tr>\n",
       "    <tr>\n",
       "      <td>1299089</td>\n",
       "      <td>0.0</td>\n",
       "      <td>0.0</td>\n",
       "      <td>0.0</td>\n",
       "      <td>0.0</td>\n",
       "      <td>0.0</td>\n",
       "      <td>0.0</td>\n",
       "      <td>0.0</td>\n",
       "      <td>0.0</td>\n",
       "      <td>0.0</td>\n",
       "      <td>0.0</td>\n",
       "      <td>...</td>\n",
       "      <td>0.0</td>\n",
       "      <td>0.0</td>\n",
       "      <td>0.0</td>\n",
       "      <td>0.0</td>\n",
       "      <td>0.0</td>\n",
       "      <td>0.0</td>\n",
       "      <td>0.0</td>\n",
       "      <td>0.0</td>\n",
       "      <td>0.0</td>\n",
       "      <td>0.0</td>\n",
       "    </tr>\n",
       "  </tbody>\n",
       "</table>\n",
       "<p>1299090 rows × 57 columns</p>\n",
       "</div>"
      ],
      "text/plain": [
       "          A_  CON  ECO  ECR  FAC_  FAU_  FA_  FPAC_  FPA_  FRAEC_  ...  URH  \\\n",
       "0        0.0  0.0  0.0  0.0   0.0   0.0  0.0    0.0   0.0     0.0  ...  0.0   \n",
       "1        0.0  0.0  0.0  0.0   0.0   0.0  0.0    0.0   0.0     0.0  ...  0.0   \n",
       "2        0.0  0.0  0.0  0.0   0.0   0.0  0.0    0.0   0.0     0.0  ...  0.0   \n",
       "3        0.0  0.0  0.0  0.0   0.0   0.0  0.0    0.0   0.0     0.0  ...  0.0   \n",
       "4        0.0  0.0  0.0  0.0   0.0   0.0  0.0    0.0   0.0     0.0  ...  0.0   \n",
       "...      ...  ...  ...  ...   ...   ...  ...    ...   ...     ...  ...  ...   \n",
       "1299085  0.0  0.0  0.0  0.0   0.0   0.0  0.0    0.0   0.0     0.0  ...  0.0   \n",
       "1299086  0.0  0.0  0.0  0.0   0.0   0.0  0.0    0.0   1.0     0.0  ...  0.0   \n",
       "1299087  0.0  0.0  0.0  0.0   0.0   0.0  0.0    0.0   0.0     0.0  ...  0.0   \n",
       "1299088  1.0  0.0  0.0  0.0   0.0   0.0  0.0    0.0   0.0     0.0  ...  0.0   \n",
       "1299089  0.0  0.0  0.0  0.0   0.0   0.0  0.0    0.0   0.0     0.0  ...  0.0   \n",
       "\n",
       "         URHPRO  URN  URO  URP  _FSA  _FSPA  _FSPAC  _FSRA  _FSRPA  \n",
       "0           0.0  0.0  0.0  0.0   0.0    0.0     0.0    0.0     0.0  \n",
       "1           0.0  0.0  0.0  0.0   0.0    0.0     0.0    0.0     0.0  \n",
       "2           0.0  0.0  0.0  0.0   0.0    0.0     0.0    0.0     0.0  \n",
       "3           0.0  0.0  0.0  0.0   0.0    0.0     0.0    0.0     0.0  \n",
       "4           0.0  0.0  0.0  0.0   0.0    0.0     0.0    0.0     0.0  \n",
       "...         ...  ...  ...  ...   ...    ...     ...    ...     ...  \n",
       "1299085     0.0  0.0  0.0  0.0   0.0    0.0     0.0    0.0     0.0  \n",
       "1299086     0.0  0.0  0.0  0.0   0.0    0.0     0.0    0.0     0.0  \n",
       "1299087     0.0  0.0  0.0  0.0   0.0    0.0     0.0    0.0     0.0  \n",
       "1299088     0.0  0.0  0.0  0.0   0.0    0.0     0.0    0.0     0.0  \n",
       "1299089     0.0  0.0  0.0  0.0   0.0    0.0     0.0    0.0     0.0  \n",
       "\n",
       "[1299090 rows x 57 columns]"
      ]
     },
     "execution_count": 29,
     "metadata": {},
     "output_type": "execute_result"
    }
   ],
   "source": [
    "# Removing the first 3 characters from each column name. \n",
    "New_cat_flags.columns = New_cat_flags.columns.str[3:]\n",
    "New_cat_flags"
   ]
  },
  {
   "cell_type": "code",
   "execution_count": null,
   "metadata": {},
   "outputs": [],
   "source": []
  },
  {
   "cell_type": "code",
   "execution_count": 30,
   "metadata": {
    "ExecuteTime": {
     "end_time": "2020-04-29T16:31:02.054575Z",
     "start_time": "2020-04-29T16:31:02.015678Z"
    }
   },
   "outputs": [
    {
     "data": {
      "text/plain": [
       "array([['TCP'],\n",
       "       ['TCP'],\n",
       "       ['TCP'],\n",
       "       ...,\n",
       "       ['TCP'],\n",
       "       ['TCP'],\n",
       "       ['UDP']], dtype=object)"
      ]
     },
     "execution_count": 30,
     "metadata": {},
     "output_type": "execute_result"
    }
   ],
   "source": [
    "# Now moving on to one-hot encode the protocol column. \n",
    "Protocol_Copy=df[['Protocol']].copy()\n",
    "import numpy as np\n",
    "from sklearn.preprocessing import OneHotEncoder\n",
    "enc_protocol = OneHotEncoder(handle_unknown='ignore')\n",
    "cat_protocol_data=np.array(Protocol_Copy).reshape(-1, 1)\n",
    "cat_protocol_data"
   ]
  },
  {
   "cell_type": "code",
   "execution_count": 31,
   "metadata": {
    "ExecuteTime": {
     "end_time": "2020-04-29T16:31:02.607095Z",
     "start_time": "2020-04-29T16:31:02.057565Z"
    }
   },
   "outputs": [
    {
     "data": {
      "text/plain": [
       "array([[0., 0., 0., ..., 0., 1., 0.],\n",
       "       [0., 0., 0., ..., 0., 1., 0.],\n",
       "       [0., 0., 0., ..., 0., 1., 0.],\n",
       "       ...,\n",
       "       [0., 0., 0., ..., 0., 1., 0.],\n",
       "       [0., 0., 0., ..., 0., 1., 0.],\n",
       "       [0., 0., 0., ..., 0., 0., 1.]])"
      ]
     },
     "execution_count": 31,
     "metadata": {},
     "output_type": "execute_result"
    }
   ],
   "source": [
    "cat_protocol_hot=enc_protocol.fit_transform(cat_protocol_data)\n",
    "cat_protocol=cat_protocol_hot.toarray()\n",
    "cat_protocol"
   ]
  },
  {
   "cell_type": "code",
   "execution_count": 32,
   "metadata": {
    "ExecuteTime": {
     "end_time": "2020-04-29T16:31:02.628039Z",
     "start_time": "2020-04-29T16:31:02.609091Z"
    }
   },
   "outputs": [
    {
     "data": {
      "text/html": [
       "<div>\n",
       "<style scoped>\n",
       "    .dataframe tbody tr th:only-of-type {\n",
       "        vertical-align: middle;\n",
       "    }\n",
       "\n",
       "    .dataframe tbody tr th {\n",
       "        vertical-align: top;\n",
       "    }\n",
       "\n",
       "    .dataframe thead th {\n",
       "        text-align: right;\n",
       "    }\n",
       "</style>\n",
       "<table border=\"1\" class=\"dataframe\">\n",
       "  <thead>\n",
       "    <tr style=\"text-align: right;\">\n",
       "      <th></th>\n",
       "      <th>0</th>\n",
       "      <th>1</th>\n",
       "      <th>2</th>\n",
       "      <th>3</th>\n",
       "      <th>4</th>\n",
       "      <th>5</th>\n",
       "      <th>6</th>\n",
       "      <th>7</th>\n",
       "      <th>8</th>\n",
       "      <th>9</th>\n",
       "      <th>10</th>\n",
       "    </tr>\n",
       "  </thead>\n",
       "  <tbody>\n",
       "    <tr>\n",
       "      <td>0</td>\n",
       "      <td>0.0</td>\n",
       "      <td>0.0</td>\n",
       "      <td>0.0</td>\n",
       "      <td>0.0</td>\n",
       "      <td>0.0</td>\n",
       "      <td>0.0</td>\n",
       "      <td>0.0</td>\n",
       "      <td>0.0</td>\n",
       "      <td>0.0</td>\n",
       "      <td>1.0</td>\n",
       "      <td>0.0</td>\n",
       "    </tr>\n",
       "    <tr>\n",
       "      <td>1</td>\n",
       "      <td>0.0</td>\n",
       "      <td>0.0</td>\n",
       "      <td>0.0</td>\n",
       "      <td>0.0</td>\n",
       "      <td>0.0</td>\n",
       "      <td>0.0</td>\n",
       "      <td>0.0</td>\n",
       "      <td>0.0</td>\n",
       "      <td>0.0</td>\n",
       "      <td>1.0</td>\n",
       "      <td>0.0</td>\n",
       "    </tr>\n",
       "    <tr>\n",
       "      <td>2</td>\n",
       "      <td>0.0</td>\n",
       "      <td>0.0</td>\n",
       "      <td>0.0</td>\n",
       "      <td>0.0</td>\n",
       "      <td>0.0</td>\n",
       "      <td>0.0</td>\n",
       "      <td>0.0</td>\n",
       "      <td>0.0</td>\n",
       "      <td>0.0</td>\n",
       "      <td>1.0</td>\n",
       "      <td>0.0</td>\n",
       "    </tr>\n",
       "    <tr>\n",
       "      <td>3</td>\n",
       "      <td>0.0</td>\n",
       "      <td>0.0</td>\n",
       "      <td>0.0</td>\n",
       "      <td>0.0</td>\n",
       "      <td>0.0</td>\n",
       "      <td>0.0</td>\n",
       "      <td>0.0</td>\n",
       "      <td>0.0</td>\n",
       "      <td>0.0</td>\n",
       "      <td>0.0</td>\n",
       "      <td>1.0</td>\n",
       "    </tr>\n",
       "    <tr>\n",
       "      <td>4</td>\n",
       "      <td>0.0</td>\n",
       "      <td>0.0</td>\n",
       "      <td>0.0</td>\n",
       "      <td>0.0</td>\n",
       "      <td>0.0</td>\n",
       "      <td>0.0</td>\n",
       "      <td>0.0</td>\n",
       "      <td>0.0</td>\n",
       "      <td>0.0</td>\n",
       "      <td>1.0</td>\n",
       "      <td>0.0</td>\n",
       "    </tr>\n",
       "  </tbody>\n",
       "</table>\n",
       "</div>"
      ],
      "text/plain": [
       "     0    1    2    3    4    5    6    7    8    9   10\n",
       "0  0.0  0.0  0.0  0.0  0.0  0.0  0.0  0.0  0.0  1.0  0.0\n",
       "1  0.0  0.0  0.0  0.0  0.0  0.0  0.0  0.0  0.0  1.0  0.0\n",
       "2  0.0  0.0  0.0  0.0  0.0  0.0  0.0  0.0  0.0  1.0  0.0\n",
       "3  0.0  0.0  0.0  0.0  0.0  0.0  0.0  0.0  0.0  0.0  1.0\n",
       "4  0.0  0.0  0.0  0.0  0.0  0.0  0.0  0.0  0.0  1.0  0.0"
      ]
     },
     "execution_count": 32,
     "metadata": {},
     "output_type": "execute_result"
    }
   ],
   "source": [
    "New_cat_protocol = pd.DataFrame(cat_protocol)\n",
    "New_cat_protocol.head()"
   ]
  },
  {
   "cell_type": "code",
   "execution_count": 33,
   "metadata": {
    "ExecuteTime": {
     "end_time": "2020-04-29T16:31:02.647987Z",
     "start_time": "2020-04-29T16:31:02.631031Z"
    }
   },
   "outputs": [
    {
     "data": {
      "text/html": [
       "<div>\n",
       "<style scoped>\n",
       "    .dataframe tbody tr th:only-of-type {\n",
       "        vertical-align: middle;\n",
       "    }\n",
       "\n",
       "    .dataframe tbody tr th {\n",
       "        vertical-align: top;\n",
       "    }\n",
       "\n",
       "    .dataframe thead th {\n",
       "        text-align: right;\n",
       "    }\n",
       "</style>\n",
       "<table border=\"1\" class=\"dataframe\">\n",
       "  <thead>\n",
       "    <tr style=\"text-align: right;\">\n",
       "      <th></th>\n",
       "      <th>x0_ARP</th>\n",
       "      <th>x0_ICMP</th>\n",
       "      <th>x0_IGMP</th>\n",
       "      <th>x0_IPV6</th>\n",
       "      <th>x0_IPV6-ICMP</th>\n",
       "      <th>x0_IPX/SPX</th>\n",
       "      <th>x0_PIM</th>\n",
       "      <th>x0_RTCP</th>\n",
       "      <th>x0_RTP</th>\n",
       "      <th>x0_TCP</th>\n",
       "      <th>x0_UDP</th>\n",
       "    </tr>\n",
       "  </thead>\n",
       "  <tbody>\n",
       "    <tr>\n",
       "      <td>0</td>\n",
       "      <td>0.0</td>\n",
       "      <td>0.0</td>\n",
       "      <td>0.0</td>\n",
       "      <td>0.0</td>\n",
       "      <td>0.0</td>\n",
       "      <td>0.0</td>\n",
       "      <td>0.0</td>\n",
       "      <td>0.0</td>\n",
       "      <td>0.0</td>\n",
       "      <td>1.0</td>\n",
       "      <td>0.0</td>\n",
       "    </tr>\n",
       "    <tr>\n",
       "      <td>1</td>\n",
       "      <td>0.0</td>\n",
       "      <td>0.0</td>\n",
       "      <td>0.0</td>\n",
       "      <td>0.0</td>\n",
       "      <td>0.0</td>\n",
       "      <td>0.0</td>\n",
       "      <td>0.0</td>\n",
       "      <td>0.0</td>\n",
       "      <td>0.0</td>\n",
       "      <td>1.0</td>\n",
       "      <td>0.0</td>\n",
       "    </tr>\n",
       "    <tr>\n",
       "      <td>2</td>\n",
       "      <td>0.0</td>\n",
       "      <td>0.0</td>\n",
       "      <td>0.0</td>\n",
       "      <td>0.0</td>\n",
       "      <td>0.0</td>\n",
       "      <td>0.0</td>\n",
       "      <td>0.0</td>\n",
       "      <td>0.0</td>\n",
       "      <td>0.0</td>\n",
       "      <td>1.0</td>\n",
       "      <td>0.0</td>\n",
       "    </tr>\n",
       "    <tr>\n",
       "      <td>3</td>\n",
       "      <td>0.0</td>\n",
       "      <td>0.0</td>\n",
       "      <td>0.0</td>\n",
       "      <td>0.0</td>\n",
       "      <td>0.0</td>\n",
       "      <td>0.0</td>\n",
       "      <td>0.0</td>\n",
       "      <td>0.0</td>\n",
       "      <td>0.0</td>\n",
       "      <td>0.0</td>\n",
       "      <td>1.0</td>\n",
       "    </tr>\n",
       "    <tr>\n",
       "      <td>4</td>\n",
       "      <td>0.0</td>\n",
       "      <td>0.0</td>\n",
       "      <td>0.0</td>\n",
       "      <td>0.0</td>\n",
       "      <td>0.0</td>\n",
       "      <td>0.0</td>\n",
       "      <td>0.0</td>\n",
       "      <td>0.0</td>\n",
       "      <td>0.0</td>\n",
       "      <td>1.0</td>\n",
       "      <td>0.0</td>\n",
       "    </tr>\n",
       "  </tbody>\n",
       "</table>\n",
       "</div>"
      ],
      "text/plain": [
       "   x0_ARP  x0_ICMP  x0_IGMP  x0_IPV6  x0_IPV6-ICMP  x0_IPX/SPX  x0_PIM  \\\n",
       "0     0.0      0.0      0.0      0.0           0.0         0.0     0.0   \n",
       "1     0.0      0.0      0.0      0.0           0.0         0.0     0.0   \n",
       "2     0.0      0.0      0.0      0.0           0.0         0.0     0.0   \n",
       "3     0.0      0.0      0.0      0.0           0.0         0.0     0.0   \n",
       "4     0.0      0.0      0.0      0.0           0.0         0.0     0.0   \n",
       "\n",
       "   x0_RTCP  x0_RTP  x0_TCP  x0_UDP  \n",
       "0      0.0     0.0     1.0     0.0  \n",
       "1      0.0     0.0     1.0     0.0  \n",
       "2      0.0     0.0     1.0     0.0  \n",
       "3      0.0     0.0     0.0     1.0  \n",
       "4      0.0     0.0     1.0     0.0  "
      ]
     },
     "execution_count": 33,
     "metadata": {},
     "output_type": "execute_result"
    }
   ],
   "source": [
    "enc_protocol.get_feature_names()\n",
    "New_cat_protocol.columns = enc_protocol.get_feature_names()\n",
    "New_cat_protocol.head()"
   ]
  },
  {
   "cell_type": "code",
   "execution_count": 34,
   "metadata": {
    "ExecuteTime": {
     "end_time": "2020-04-29T16:31:02.676922Z",
     "start_time": "2020-04-29T16:31:02.649980Z"
    },
    "scrolled": true
   },
   "outputs": [
    {
     "data": {
      "text/html": [
       "<div>\n",
       "<style scoped>\n",
       "    .dataframe tbody tr th:only-of-type {\n",
       "        vertical-align: middle;\n",
       "    }\n",
       "\n",
       "    .dataframe tbody tr th {\n",
       "        vertical-align: top;\n",
       "    }\n",
       "\n",
       "    .dataframe thead th {\n",
       "        text-align: right;\n",
       "    }\n",
       "</style>\n",
       "<table border=\"1\" class=\"dataframe\">\n",
       "  <thead>\n",
       "    <tr style=\"text-align: right;\">\n",
       "      <th></th>\n",
       "      <th>ARP</th>\n",
       "      <th>ICMP</th>\n",
       "      <th>IGMP</th>\n",
       "      <th>IPV6</th>\n",
       "      <th>IPV6-ICMP</th>\n",
       "      <th>IPX/SPX</th>\n",
       "      <th>PIM</th>\n",
       "      <th>RTCP</th>\n",
       "      <th>RTP</th>\n",
       "      <th>TCP</th>\n",
       "      <th>UDP</th>\n",
       "    </tr>\n",
       "  </thead>\n",
       "  <tbody>\n",
       "    <tr>\n",
       "      <td>0</td>\n",
       "      <td>0.0</td>\n",
       "      <td>0.0</td>\n",
       "      <td>0.0</td>\n",
       "      <td>0.0</td>\n",
       "      <td>0.0</td>\n",
       "      <td>0.0</td>\n",
       "      <td>0.0</td>\n",
       "      <td>0.0</td>\n",
       "      <td>0.0</td>\n",
       "      <td>1.0</td>\n",
       "      <td>0.0</td>\n",
       "    </tr>\n",
       "    <tr>\n",
       "      <td>1</td>\n",
       "      <td>0.0</td>\n",
       "      <td>0.0</td>\n",
       "      <td>0.0</td>\n",
       "      <td>0.0</td>\n",
       "      <td>0.0</td>\n",
       "      <td>0.0</td>\n",
       "      <td>0.0</td>\n",
       "      <td>0.0</td>\n",
       "      <td>0.0</td>\n",
       "      <td>1.0</td>\n",
       "      <td>0.0</td>\n",
       "    </tr>\n",
       "    <tr>\n",
       "      <td>2</td>\n",
       "      <td>0.0</td>\n",
       "      <td>0.0</td>\n",
       "      <td>0.0</td>\n",
       "      <td>0.0</td>\n",
       "      <td>0.0</td>\n",
       "      <td>0.0</td>\n",
       "      <td>0.0</td>\n",
       "      <td>0.0</td>\n",
       "      <td>0.0</td>\n",
       "      <td>1.0</td>\n",
       "      <td>0.0</td>\n",
       "    </tr>\n",
       "    <tr>\n",
       "      <td>3</td>\n",
       "      <td>0.0</td>\n",
       "      <td>0.0</td>\n",
       "      <td>0.0</td>\n",
       "      <td>0.0</td>\n",
       "      <td>0.0</td>\n",
       "      <td>0.0</td>\n",
       "      <td>0.0</td>\n",
       "      <td>0.0</td>\n",
       "      <td>0.0</td>\n",
       "      <td>0.0</td>\n",
       "      <td>1.0</td>\n",
       "    </tr>\n",
       "    <tr>\n",
       "      <td>4</td>\n",
       "      <td>0.0</td>\n",
       "      <td>0.0</td>\n",
       "      <td>0.0</td>\n",
       "      <td>0.0</td>\n",
       "      <td>0.0</td>\n",
       "      <td>0.0</td>\n",
       "      <td>0.0</td>\n",
       "      <td>0.0</td>\n",
       "      <td>0.0</td>\n",
       "      <td>1.0</td>\n",
       "      <td>0.0</td>\n",
       "    </tr>\n",
       "    <tr>\n",
       "      <td>...</td>\n",
       "      <td>...</td>\n",
       "      <td>...</td>\n",
       "      <td>...</td>\n",
       "      <td>...</td>\n",
       "      <td>...</td>\n",
       "      <td>...</td>\n",
       "      <td>...</td>\n",
       "      <td>...</td>\n",
       "      <td>...</td>\n",
       "      <td>...</td>\n",
       "      <td>...</td>\n",
       "    </tr>\n",
       "    <tr>\n",
       "      <td>1299085</td>\n",
       "      <td>0.0</td>\n",
       "      <td>0.0</td>\n",
       "      <td>0.0</td>\n",
       "      <td>0.0</td>\n",
       "      <td>0.0</td>\n",
       "      <td>0.0</td>\n",
       "      <td>0.0</td>\n",
       "      <td>0.0</td>\n",
       "      <td>0.0</td>\n",
       "      <td>1.0</td>\n",
       "      <td>0.0</td>\n",
       "    </tr>\n",
       "    <tr>\n",
       "      <td>1299086</td>\n",
       "      <td>0.0</td>\n",
       "      <td>0.0</td>\n",
       "      <td>0.0</td>\n",
       "      <td>0.0</td>\n",
       "      <td>0.0</td>\n",
       "      <td>0.0</td>\n",
       "      <td>0.0</td>\n",
       "      <td>0.0</td>\n",
       "      <td>0.0</td>\n",
       "      <td>1.0</td>\n",
       "      <td>0.0</td>\n",
       "    </tr>\n",
       "    <tr>\n",
       "      <td>1299087</td>\n",
       "      <td>0.0</td>\n",
       "      <td>0.0</td>\n",
       "      <td>0.0</td>\n",
       "      <td>0.0</td>\n",
       "      <td>0.0</td>\n",
       "      <td>0.0</td>\n",
       "      <td>0.0</td>\n",
       "      <td>0.0</td>\n",
       "      <td>0.0</td>\n",
       "      <td>1.0</td>\n",
       "      <td>0.0</td>\n",
       "    </tr>\n",
       "    <tr>\n",
       "      <td>1299088</td>\n",
       "      <td>0.0</td>\n",
       "      <td>0.0</td>\n",
       "      <td>0.0</td>\n",
       "      <td>0.0</td>\n",
       "      <td>0.0</td>\n",
       "      <td>0.0</td>\n",
       "      <td>0.0</td>\n",
       "      <td>0.0</td>\n",
       "      <td>0.0</td>\n",
       "      <td>1.0</td>\n",
       "      <td>0.0</td>\n",
       "    </tr>\n",
       "    <tr>\n",
       "      <td>1299089</td>\n",
       "      <td>0.0</td>\n",
       "      <td>0.0</td>\n",
       "      <td>0.0</td>\n",
       "      <td>0.0</td>\n",
       "      <td>0.0</td>\n",
       "      <td>0.0</td>\n",
       "      <td>0.0</td>\n",
       "      <td>0.0</td>\n",
       "      <td>0.0</td>\n",
       "      <td>0.0</td>\n",
       "      <td>1.0</td>\n",
       "    </tr>\n",
       "  </tbody>\n",
       "</table>\n",
       "<p>1299090 rows × 11 columns</p>\n",
       "</div>"
      ],
      "text/plain": [
       "         ARP  ICMP  IGMP  IPV6  IPV6-ICMP  IPX/SPX  PIM  RTCP  RTP  TCP  UDP\n",
       "0        0.0   0.0   0.0   0.0        0.0      0.0  0.0   0.0  0.0  1.0  0.0\n",
       "1        0.0   0.0   0.0   0.0        0.0      0.0  0.0   0.0  0.0  1.0  0.0\n",
       "2        0.0   0.0   0.0   0.0        0.0      0.0  0.0   0.0  0.0  1.0  0.0\n",
       "3        0.0   0.0   0.0   0.0        0.0      0.0  0.0   0.0  0.0  0.0  1.0\n",
       "4        0.0   0.0   0.0   0.0        0.0      0.0  0.0   0.0  0.0  1.0  0.0\n",
       "...      ...   ...   ...   ...        ...      ...  ...   ...  ...  ...  ...\n",
       "1299085  0.0   0.0   0.0   0.0        0.0      0.0  0.0   0.0  0.0  1.0  0.0\n",
       "1299086  0.0   0.0   0.0   0.0        0.0      0.0  0.0   0.0  0.0  1.0  0.0\n",
       "1299087  0.0   0.0   0.0   0.0        0.0      0.0  0.0   0.0  0.0  1.0  0.0\n",
       "1299088  0.0   0.0   0.0   0.0        0.0      0.0  0.0   0.0  0.0  1.0  0.0\n",
       "1299089  0.0   0.0   0.0   0.0        0.0      0.0  0.0   0.0  0.0  0.0  1.0\n",
       "\n",
       "[1299090 rows x 11 columns]"
      ]
     },
     "execution_count": 34,
     "metadata": {},
     "output_type": "execute_result"
    }
   ],
   "source": [
    "# Removing the first 3 characters from each column name.  Not sure why it does those x0_ characters in front.  \n",
    "New_cat_protocol.columns = New_cat_protocol.columns.str[3:]\n",
    "New_cat_protocol"
   ]
  },
  {
   "cell_type": "code",
   "execution_count": null,
   "metadata": {},
   "outputs": [],
   "source": []
  },
  {
   "cell_type": "code",
   "execution_count": 35,
   "metadata": {
    "ExecuteTime": {
     "end_time": "2020-04-29T16:31:34.652077Z",
     "start_time": "2020-04-29T16:31:02.678903Z"
    }
   },
   "outputs": [],
   "source": [
    "# Now recreating the geoip2 data. \n",
    "\n",
    "#Source country\n",
    "import pandas as pd\n",
    "from geolite2 import geolite2\n",
    "\n",
    "def get_country(ip):\n",
    "    try:\n",
    "        df = geo.get(ip)\n",
    "    except ValueError:\n",
    "        return pd.np.nan\n",
    "    try:\n",
    "        return df['country']['names']['en'] if df else pd.np.nan\n",
    "    except KeyError:\n",
    "        return pd.np.nan\n",
    "\n",
    "geo = geolite2.reader()\n",
    "# get unique IPs\n",
    "unique_ips = df['Source_IP'].unique()\n",
    "# make series out of it\n",
    "unique_ips = pd.Series(unique_ips, index = unique_ips)\n",
    "# map IP --> country\n",
    "df['country'] = df['Source_IP'].map(unique_ips.apply(get_country))\n",
    "\n",
    "geolite2.close()"
   ]
  },
  {
   "cell_type": "code",
   "execution_count": 36,
   "metadata": {
    "ExecuteTime": {
     "end_time": "2020-04-29T16:32:06.470987Z",
     "start_time": "2020-04-29T16:31:34.655057Z"
    }
   },
   "outputs": [],
   "source": [
    "# source city\n",
    "def get_city(ip):\n",
    "    try:\n",
    "        df = geo.get(ip)\n",
    "    except ValueError:\n",
    "        return pd.np.nan\n",
    "    try:\n",
    "        return df['city']['names']['en'] if df else pd.np.nan\n",
    "    except KeyError:\n",
    "        return pd.np.nan\n",
    "\n",
    "geo = geolite2.reader()\n",
    "# Getting unique IPs\n",
    "unique_ips = df['Source_IP'].unique()\n",
    "# Making a series out of it\n",
    "unique_ips = pd.Series(unique_ips, index = unique_ips)\n",
    "# Mapping IP addresses to countries. \n",
    "df['city'] = df['Source_IP'].map(unique_ips.apply(get_city))\n",
    "\n",
    "geolite2.close()"
   ]
  },
  {
   "cell_type": "code",
   "execution_count": 37,
   "metadata": {
    "ExecuteTime": {
     "end_time": "2020-04-29T16:32:07.333673Z",
     "start_time": "2020-04-29T16:32:06.472975Z"
    }
   },
   "outputs": [],
   "source": [
    "df1=df.rename(columns={list(df)[-2]:'source_country',list(df)[-1]:'source_city'})"
   ]
  },
  {
   "cell_type": "code",
   "execution_count": 38,
   "metadata": {
    "ExecuteTime": {
     "end_time": "2020-04-29T16:32:07.352623Z",
     "start_time": "2020-04-29T16:32:07.335669Z"
    }
   },
   "outputs": [
    {
     "data": {
      "text/html": [
       "<div>\n",
       "<style scoped>\n",
       "    .dataframe tbody tr th:only-of-type {\n",
       "        vertical-align: middle;\n",
       "    }\n",
       "\n",
       "    .dataframe tbody tr th {\n",
       "        vertical-align: top;\n",
       "    }\n",
       "\n",
       "    .dataframe thead th {\n",
       "        text-align: right;\n",
       "    }\n",
       "</style>\n",
       "<table border=\"1\" class=\"dataframe\">\n",
       "  <thead>\n",
       "    <tr style=\"text-align: right;\">\n",
       "      <th></th>\n",
       "      <th>Flow_Start</th>\n",
       "      <th>Duration</th>\n",
       "      <th>Protocol</th>\n",
       "      <th>Flags</th>\n",
       "      <th>Type_of_Service</th>\n",
       "      <th>Packets</th>\n",
       "      <th>Bytes</th>\n",
       "      <th>Source_IP</th>\n",
       "      <th>Source_Port</th>\n",
       "      <th>Destination_IP</th>\n",
       "      <th>Destination_Port</th>\n",
       "      <th>Label</th>\n",
       "      <th>source_country</th>\n",
       "      <th>source_city</th>\n",
       "    </tr>\n",
       "  </thead>\n",
       "  <tbody>\n",
       "    <tr>\n",
       "      <td>0</td>\n",
       "      <td>17:13:40.449</td>\n",
       "      <td>4.230</td>\n",
       "      <td>TCP</td>\n",
       "      <td>PA_</td>\n",
       "      <td>0</td>\n",
       "      <td>180</td>\n",
       "      <td>12628</td>\n",
       "      <td>90.177.154.197</td>\n",
       "      <td>20127</td>\n",
       "      <td>147.32.84.144</td>\n",
       "      <td>22</td>\n",
       "      <td>Background</td>\n",
       "      <td>Czechia</td>\n",
       "      <td>NaN</td>\n",
       "    </tr>\n",
       "    <tr>\n",
       "      <td>1</td>\n",
       "      <td>17:13:40.449</td>\n",
       "      <td>4.204</td>\n",
       "      <td>TCP</td>\n",
       "      <td>PA_</td>\n",
       "      <td>0</td>\n",
       "      <td>329</td>\n",
       "      <td>478578</td>\n",
       "      <td>147.32.84.144</td>\n",
       "      <td>22</td>\n",
       "      <td>90.177.154.197</td>\n",
       "      <td>20127</td>\n",
       "      <td>Background</td>\n",
       "      <td>Czechia</td>\n",
       "      <td>Prague</td>\n",
       "    </tr>\n",
       "    <tr>\n",
       "      <td>2</td>\n",
       "      <td>17:13:40.453</td>\n",
       "      <td>4.985</td>\n",
       "      <td>TCP</td>\n",
       "      <td>PA_</td>\n",
       "      <td>0</td>\n",
       "      <td>94</td>\n",
       "      <td>6212</td>\n",
       "      <td>198.36.38.132</td>\n",
       "      <td>55530</td>\n",
       "      <td>147.32.86.183</td>\n",
       "      <td>443</td>\n",
       "      <td>Background</td>\n",
       "      <td>Saudi Arabia</td>\n",
       "      <td>Dhahran</td>\n",
       "    </tr>\n",
       "    <tr>\n",
       "      <td>3</td>\n",
       "      <td>17:13:40.456</td>\n",
       "      <td>4.975</td>\n",
       "      <td>UDP</td>\n",
       "      <td>INT</td>\n",
       "      <td>0</td>\n",
       "      <td>182</td>\n",
       "      <td>61555</td>\n",
       "      <td>41.103.64.21</td>\n",
       "      <td>54617</td>\n",
       "      <td>147.32.86.183</td>\n",
       "      <td>51246</td>\n",
       "      <td>Background</td>\n",
       "      <td>Algeria</td>\n",
       "      <td>Chlef</td>\n",
       "    </tr>\n",
       "    <tr>\n",
       "      <td>4</td>\n",
       "      <td>17:13:40.456</td>\n",
       "      <td>4.975</td>\n",
       "      <td>TCP</td>\n",
       "      <td>PA_</td>\n",
       "      <td>0</td>\n",
       "      <td>185</td>\n",
       "      <td>66524</td>\n",
       "      <td>147.32.86.183</td>\n",
       "      <td>443</td>\n",
       "      <td>198.36.38.132</td>\n",
       "      <td>55530</td>\n",
       "      <td>Background</td>\n",
       "      <td>Czechia</td>\n",
       "      <td>Prague</td>\n",
       "    </tr>\n",
       "  </tbody>\n",
       "</table>\n",
       "</div>"
      ],
      "text/plain": [
       "     Flow_Start  Duration Protocol Flags  Type_of_Service  Packets   Bytes  \\\n",
       "0  17:13:40.449     4.230      TCP   PA_                0      180   12628   \n",
       "1  17:13:40.449     4.204      TCP   PA_                0      329  478578   \n",
       "2  17:13:40.453     4.985      TCP   PA_                0       94    6212   \n",
       "3  17:13:40.456     4.975      UDP   INT                0      182   61555   \n",
       "4  17:13:40.456     4.975      TCP   PA_                0      185   66524   \n",
       "\n",
       "        Source_IP Source_Port  Destination_IP Destination_Port       Label  \\\n",
       "0  90.177.154.197       20127   147.32.84.144               22  Background   \n",
       "1   147.32.84.144          22  90.177.154.197            20127  Background   \n",
       "2   198.36.38.132       55530   147.32.86.183              443  Background   \n",
       "3    41.103.64.21       54617   147.32.86.183            51246  Background   \n",
       "4   147.32.86.183         443   198.36.38.132            55530  Background   \n",
       "\n",
       "  source_country source_city  \n",
       "0        Czechia         NaN  \n",
       "1        Czechia      Prague  \n",
       "2   Saudi Arabia     Dhahran  \n",
       "3        Algeria       Chlef  \n",
       "4        Czechia      Prague  "
      ]
     },
     "execution_count": 38,
     "metadata": {},
     "output_type": "execute_result"
    }
   ],
   "source": [
    "df1.head()"
   ]
  },
  {
   "cell_type": "code",
   "execution_count": 39,
   "metadata": {
    "ExecuteTime": {
     "end_time": "2020-04-29T16:32:38.523281Z",
     "start_time": "2020-04-29T16:32:07.354618Z"
    }
   },
   "outputs": [],
   "source": [
    "# Destination country\n",
    "def get_country(ip):\n",
    "    try:\n",
    "        df1 = geo.get(ip)\n",
    "    except ValueError:\n",
    "        return pd.np.nan\n",
    "    try:\n",
    "        return df1['country']['names']['en'] if df1 else pd.np.nan\n",
    "    except KeyError:\n",
    "        return pd.np.nan\n",
    "\n",
    "geo = geolite2.reader()\n",
    "# get unique IPs\n",
    "unique_ips = df1['Destination_IP'].unique()\n",
    "# make series out of it\n",
    "unique_ips = pd.Series(unique_ips, index = unique_ips)\n",
    "# map IP --> country\n",
    "df1['country'] = df1['Destination_IP'].map(unique_ips.apply(get_country))\n",
    "\n",
    "geolite2.close()"
   ]
  },
  {
   "cell_type": "code",
   "execution_count": 40,
   "metadata": {
    "ExecuteTime": {
     "end_time": "2020-04-29T16:33:09.875389Z",
     "start_time": "2020-04-29T16:32:38.526174Z"
    }
   },
   "outputs": [],
   "source": [
    "# Destination city\n",
    "def get_city(ip):\n",
    "    try:\n",
    "        df1 = geo.get(ip)\n",
    "    except ValueError:\n",
    "        return pd.np.nan\n",
    "    try:\n",
    "        return df1['city']['names']['en'] if df1 else pd.np.nan\n",
    "    except KeyError:\n",
    "        return pd.np.nan\n",
    "\n",
    "geo = geolite2.reader()\n",
    "# get unique IPs\n",
    "unique_ips = df1['Destination_IP'].unique()\n",
    "# make series out of it\n",
    "unique_ips = pd.Series(unique_ips, index = unique_ips)\n",
    "# map IP --> country\n",
    "df1['city'] = df1['Destination_IP'].map(unique_ips.apply(get_city))\n",
    "\n",
    "geolite2.close()"
   ]
  },
  {
   "cell_type": "code",
   "execution_count": 41,
   "metadata": {
    "ExecuteTime": {
     "end_time": "2020-04-29T16:33:10.827827Z",
     "start_time": "2020-04-29T16:33:09.876344Z"
    }
   },
   "outputs": [],
   "source": [
    "df2=df1.rename(columns={'country':'dest_country','city':'dest_city'})"
   ]
  },
  {
   "cell_type": "code",
   "execution_count": 42,
   "metadata": {
    "ExecuteTime": {
     "end_time": "2020-04-29T16:33:10.845754Z",
     "start_time": "2020-04-29T16:33:10.828796Z"
    }
   },
   "outputs": [
    {
     "data": {
      "text/html": [
       "<div>\n",
       "<style scoped>\n",
       "    .dataframe tbody tr th:only-of-type {\n",
       "        vertical-align: middle;\n",
       "    }\n",
       "\n",
       "    .dataframe tbody tr th {\n",
       "        vertical-align: top;\n",
       "    }\n",
       "\n",
       "    .dataframe thead th {\n",
       "        text-align: right;\n",
       "    }\n",
       "</style>\n",
       "<table border=\"1\" class=\"dataframe\">\n",
       "  <thead>\n",
       "    <tr style=\"text-align: right;\">\n",
       "      <th></th>\n",
       "      <th>Flow_Start</th>\n",
       "      <th>Duration</th>\n",
       "      <th>Protocol</th>\n",
       "      <th>Flags</th>\n",
       "      <th>Type_of_Service</th>\n",
       "      <th>Packets</th>\n",
       "      <th>Bytes</th>\n",
       "      <th>Source_IP</th>\n",
       "      <th>Source_Port</th>\n",
       "      <th>Destination_IP</th>\n",
       "      <th>Destination_Port</th>\n",
       "      <th>Label</th>\n",
       "      <th>source_country</th>\n",
       "      <th>source_city</th>\n",
       "      <th>dest_country</th>\n",
       "      <th>dest_city</th>\n",
       "    </tr>\n",
       "  </thead>\n",
       "  <tbody>\n",
       "    <tr>\n",
       "      <td>0</td>\n",
       "      <td>17:13:40.449</td>\n",
       "      <td>4.230</td>\n",
       "      <td>TCP</td>\n",
       "      <td>PA_</td>\n",
       "      <td>0</td>\n",
       "      <td>180</td>\n",
       "      <td>12628</td>\n",
       "      <td>90.177.154.197</td>\n",
       "      <td>20127</td>\n",
       "      <td>147.32.84.144</td>\n",
       "      <td>22</td>\n",
       "      <td>Background</td>\n",
       "      <td>Czechia</td>\n",
       "      <td>NaN</td>\n",
       "      <td>Czechia</td>\n",
       "      <td>Prague</td>\n",
       "    </tr>\n",
       "    <tr>\n",
       "      <td>1</td>\n",
       "      <td>17:13:40.449</td>\n",
       "      <td>4.204</td>\n",
       "      <td>TCP</td>\n",
       "      <td>PA_</td>\n",
       "      <td>0</td>\n",
       "      <td>329</td>\n",
       "      <td>478578</td>\n",
       "      <td>147.32.84.144</td>\n",
       "      <td>22</td>\n",
       "      <td>90.177.154.197</td>\n",
       "      <td>20127</td>\n",
       "      <td>Background</td>\n",
       "      <td>Czechia</td>\n",
       "      <td>Prague</td>\n",
       "      <td>Czechia</td>\n",
       "      <td>NaN</td>\n",
       "    </tr>\n",
       "    <tr>\n",
       "      <td>2</td>\n",
       "      <td>17:13:40.453</td>\n",
       "      <td>4.985</td>\n",
       "      <td>TCP</td>\n",
       "      <td>PA_</td>\n",
       "      <td>0</td>\n",
       "      <td>94</td>\n",
       "      <td>6212</td>\n",
       "      <td>198.36.38.132</td>\n",
       "      <td>55530</td>\n",
       "      <td>147.32.86.183</td>\n",
       "      <td>443</td>\n",
       "      <td>Background</td>\n",
       "      <td>Saudi Arabia</td>\n",
       "      <td>Dhahran</td>\n",
       "      <td>Czechia</td>\n",
       "      <td>Prague</td>\n",
       "    </tr>\n",
       "    <tr>\n",
       "      <td>3</td>\n",
       "      <td>17:13:40.456</td>\n",
       "      <td>4.975</td>\n",
       "      <td>UDP</td>\n",
       "      <td>INT</td>\n",
       "      <td>0</td>\n",
       "      <td>182</td>\n",
       "      <td>61555</td>\n",
       "      <td>41.103.64.21</td>\n",
       "      <td>54617</td>\n",
       "      <td>147.32.86.183</td>\n",
       "      <td>51246</td>\n",
       "      <td>Background</td>\n",
       "      <td>Algeria</td>\n",
       "      <td>Chlef</td>\n",
       "      <td>Czechia</td>\n",
       "      <td>Prague</td>\n",
       "    </tr>\n",
       "    <tr>\n",
       "      <td>4</td>\n",
       "      <td>17:13:40.456</td>\n",
       "      <td>4.975</td>\n",
       "      <td>TCP</td>\n",
       "      <td>PA_</td>\n",
       "      <td>0</td>\n",
       "      <td>185</td>\n",
       "      <td>66524</td>\n",
       "      <td>147.32.86.183</td>\n",
       "      <td>443</td>\n",
       "      <td>198.36.38.132</td>\n",
       "      <td>55530</td>\n",
       "      <td>Background</td>\n",
       "      <td>Czechia</td>\n",
       "      <td>Prague</td>\n",
       "      <td>Saudi Arabia</td>\n",
       "      <td>Dhahran</td>\n",
       "    </tr>\n",
       "  </tbody>\n",
       "</table>\n",
       "</div>"
      ],
      "text/plain": [
       "     Flow_Start  Duration Protocol Flags  Type_of_Service  Packets   Bytes  \\\n",
       "0  17:13:40.449     4.230      TCP   PA_                0      180   12628   \n",
       "1  17:13:40.449     4.204      TCP   PA_                0      329  478578   \n",
       "2  17:13:40.453     4.985      TCP   PA_                0       94    6212   \n",
       "3  17:13:40.456     4.975      UDP   INT                0      182   61555   \n",
       "4  17:13:40.456     4.975      TCP   PA_                0      185   66524   \n",
       "\n",
       "        Source_IP Source_Port  Destination_IP Destination_Port       Label  \\\n",
       "0  90.177.154.197       20127   147.32.84.144               22  Background   \n",
       "1   147.32.84.144          22  90.177.154.197            20127  Background   \n",
       "2   198.36.38.132       55530   147.32.86.183              443  Background   \n",
       "3    41.103.64.21       54617   147.32.86.183            51246  Background   \n",
       "4   147.32.86.183         443   198.36.38.132            55530  Background   \n",
       "\n",
       "  source_country source_city  dest_country dest_city  \n",
       "0        Czechia         NaN       Czechia    Prague  \n",
       "1        Czechia      Prague       Czechia       NaN  \n",
       "2   Saudi Arabia     Dhahran       Czechia    Prague  \n",
       "3        Algeria       Chlef       Czechia    Prague  \n",
       "4        Czechia      Prague  Saudi Arabia   Dhahran  "
      ]
     },
     "execution_count": 42,
     "metadata": {},
     "output_type": "execute_result"
    }
   ],
   "source": [
    "df2.head()"
   ]
  },
  {
   "cell_type": "code",
   "execution_count": 43,
   "metadata": {
    "ExecuteTime": {
     "end_time": "2020-04-29T16:33:11.026383Z",
     "start_time": "2020-04-29T16:33:10.847747Z"
    }
   },
   "outputs": [
    {
     "data": {
      "text/html": [
       "<div>\n",
       "<style scoped>\n",
       "    .dataframe tbody tr th:only-of-type {\n",
       "        vertical-align: middle;\n",
       "    }\n",
       "\n",
       "    .dataframe tbody tr th {\n",
       "        vertical-align: top;\n",
       "    }\n",
       "\n",
       "    .dataframe thead th {\n",
       "        text-align: right;\n",
       "    }\n",
       "</style>\n",
       "<table border=\"1\" class=\"dataframe\">\n",
       "  <thead>\n",
       "    <tr style=\"text-align: right;\">\n",
       "      <th></th>\n",
       "      <th>Flow_Start</th>\n",
       "      <th>Duration</th>\n",
       "      <th>Protocol</th>\n",
       "      <th>Flags</th>\n",
       "      <th>Type_of_Service</th>\n",
       "      <th>Packets</th>\n",
       "      <th>Bytes</th>\n",
       "      <th>Source_IP</th>\n",
       "      <th>Source_Port</th>\n",
       "      <th>Destination_IP</th>\n",
       "      <th>Destination_Port</th>\n",
       "      <th>Label</th>\n",
       "      <th>source_country</th>\n",
       "      <th>source_city</th>\n",
       "      <th>dest_country</th>\n",
       "      <th>dest_city</th>\n",
       "    </tr>\n",
       "  </thead>\n",
       "  <tbody>\n",
       "    <tr>\n",
       "      <td>4117</td>\n",
       "      <td>17:13:56.723</td>\n",
       "      <td>0.000</td>\n",
       "      <td>TCP</td>\n",
       "      <td>PA_</td>\n",
       "      <td>0</td>\n",
       "      <td>1</td>\n",
       "      <td>263</td>\n",
       "      <td>64.12.175.136</td>\n",
       "      <td>587</td>\n",
       "      <td>147.32.84.165</td>\n",
       "      <td>2243</td>\n",
       "      <td>Botnet</td>\n",
       "      <td>United States</td>\n",
       "      <td>NaN</td>\n",
       "      <td>Czechia</td>\n",
       "      <td>Prague</td>\n",
       "    </tr>\n",
       "    <tr>\n",
       "      <td>6269</td>\n",
       "      <td>17:14:06.078</td>\n",
       "      <td>0.000</td>\n",
       "      <td>TCP</td>\n",
       "      <td>FPA_</td>\n",
       "      <td>0</td>\n",
       "      <td>1</td>\n",
       "      <td>66</td>\n",
       "      <td>212.117.171.138</td>\n",
       "      <td>65500</td>\n",
       "      <td>147.32.84.165</td>\n",
       "      <td>2193</td>\n",
       "      <td>Botnet</td>\n",
       "      <td>Luxembourg</td>\n",
       "      <td>NaN</td>\n",
       "      <td>Czechia</td>\n",
       "      <td>Prague</td>\n",
       "    </tr>\n",
       "    <tr>\n",
       "      <td>8919</td>\n",
       "      <td>17:14:17.100</td>\n",
       "      <td>2.712</td>\n",
       "      <td>TCP</td>\n",
       "      <td>PA_</td>\n",
       "      <td>0</td>\n",
       "      <td>4</td>\n",
       "      <td>256</td>\n",
       "      <td>94.63.149.150</td>\n",
       "      <td>80</td>\n",
       "      <td>147.32.84.165</td>\n",
       "      <td>1038</td>\n",
       "      <td>Botnet</td>\n",
       "      <td>Portugal</td>\n",
       "      <td>Paços de Ferreira</td>\n",
       "      <td>Czechia</td>\n",
       "      <td>Prague</td>\n",
       "    </tr>\n",
       "    <tr>\n",
       "      <td>10127</td>\n",
       "      <td>17:14:22.915</td>\n",
       "      <td>0.000</td>\n",
       "      <td>TCP</td>\n",
       "      <td>PA_</td>\n",
       "      <td>0</td>\n",
       "      <td>1</td>\n",
       "      <td>64</td>\n",
       "      <td>94.63.149.150</td>\n",
       "      <td>80</td>\n",
       "      <td>147.32.84.165</td>\n",
       "      <td>1038</td>\n",
       "      <td>Botnet</td>\n",
       "      <td>Portugal</td>\n",
       "      <td>Paços de Ferreira</td>\n",
       "      <td>Czechia</td>\n",
       "      <td>Prague</td>\n",
       "    </tr>\n",
       "    <tr>\n",
       "      <td>11546</td>\n",
       "      <td>17:14:29.123</td>\n",
       "      <td>0.000</td>\n",
       "      <td>TCP</td>\n",
       "      <td>PA_</td>\n",
       "      <td>0</td>\n",
       "      <td>1</td>\n",
       "      <td>64</td>\n",
       "      <td>94.63.149.150</td>\n",
       "      <td>80</td>\n",
       "      <td>147.32.84.165</td>\n",
       "      <td>1038</td>\n",
       "      <td>Botnet</td>\n",
       "      <td>Portugal</td>\n",
       "      <td>Paços de Ferreira</td>\n",
       "      <td>Czechia</td>\n",
       "      <td>Prague</td>\n",
       "    </tr>\n",
       "    <tr>\n",
       "      <td>...</td>\n",
       "      <td>...</td>\n",
       "      <td>...</td>\n",
       "      <td>...</td>\n",
       "      <td>...</td>\n",
       "      <td>...</td>\n",
       "      <td>...</td>\n",
       "      <td>...</td>\n",
       "      <td>...</td>\n",
       "      <td>...</td>\n",
       "      <td>...</td>\n",
       "      <td>...</td>\n",
       "      <td>...</td>\n",
       "      <td>...</td>\n",
       "      <td>...</td>\n",
       "      <td>...</td>\n",
       "      <td>...</td>\n",
       "    </tr>\n",
       "    <tr>\n",
       "      <td>1298957</td>\n",
       "      <td>19:17:32.625</td>\n",
       "      <td>1.322</td>\n",
       "      <td>TCP</td>\n",
       "      <td>S_</td>\n",
       "      <td>0</td>\n",
       "      <td>3</td>\n",
       "      <td>186</td>\n",
       "      <td>147.32.84.165</td>\n",
       "      <td>1439</td>\n",
       "      <td>184.173.217.40</td>\n",
       "      <td>443</td>\n",
       "      <td>Botnet</td>\n",
       "      <td>Czechia</td>\n",
       "      <td>Prague</td>\n",
       "      <td>United States</td>\n",
       "      <td>Dallas</td>\n",
       "    </tr>\n",
       "    <tr>\n",
       "      <td>1298978</td>\n",
       "      <td>19:17:32.765</td>\n",
       "      <td>0.000</td>\n",
       "      <td>TCP</td>\n",
       "      <td>S_</td>\n",
       "      <td>0</td>\n",
       "      <td>1</td>\n",
       "      <td>62</td>\n",
       "      <td>147.32.84.165</td>\n",
       "      <td>4281</td>\n",
       "      <td>205.188.103.1</td>\n",
       "      <td>25</td>\n",
       "      <td>Botnet</td>\n",
       "      <td>Czechia</td>\n",
       "      <td>Prague</td>\n",
       "      <td>United States</td>\n",
       "      <td>NaN</td>\n",
       "    </tr>\n",
       "    <tr>\n",
       "      <td>1298979</td>\n",
       "      <td>19:17:32.772</td>\n",
       "      <td>1.322</td>\n",
       "      <td>TCP</td>\n",
       "      <td>RA_</td>\n",
       "      <td>0</td>\n",
       "      <td>3</td>\n",
       "      <td>180</td>\n",
       "      <td>184.173.217.40</td>\n",
       "      <td>443</td>\n",
       "      <td>147.32.84.165</td>\n",
       "      <td>1439</td>\n",
       "      <td>Botnet</td>\n",
       "      <td>United States</td>\n",
       "      <td>Dallas</td>\n",
       "      <td>Czechia</td>\n",
       "      <td>Prague</td>\n",
       "    </tr>\n",
       "    <tr>\n",
       "      <td>1299031</td>\n",
       "      <td>19:17:33.263</td>\n",
       "      <td>0.000</td>\n",
       "      <td>TCP</td>\n",
       "      <td>S_</td>\n",
       "      <td>0</td>\n",
       "      <td>1</td>\n",
       "      <td>62</td>\n",
       "      <td>147.32.84.165</td>\n",
       "      <td>4284</td>\n",
       "      <td>209.240.204.26</td>\n",
       "      <td>25</td>\n",
       "      <td>Botnet</td>\n",
       "      <td>Czechia</td>\n",
       "      <td>Prague</td>\n",
       "      <td>United States</td>\n",
       "      <td>Redmond</td>\n",
       "    </tr>\n",
       "    <tr>\n",
       "      <td>1299086</td>\n",
       "      <td>19:17:33.811</td>\n",
       "      <td>0.930</td>\n",
       "      <td>TCP</td>\n",
       "      <td>FPA_</td>\n",
       "      <td>0</td>\n",
       "      <td>63</td>\n",
       "      <td>85828</td>\n",
       "      <td>147.32.84.165</td>\n",
       "      <td>1386</td>\n",
       "      <td>212.117.171.138</td>\n",
       "      <td>65500</td>\n",
       "      <td>Botnet</td>\n",
       "      <td>Czechia</td>\n",
       "      <td>Prague</td>\n",
       "      <td>Luxembourg</td>\n",
       "      <td>NaN</td>\n",
       "    </tr>\n",
       "  </tbody>\n",
       "</table>\n",
       "<p>21760 rows × 16 columns</p>\n",
       "</div>"
      ],
      "text/plain": [
       "           Flow_Start  Duration Protocol Flags  Type_of_Service  Packets  \\\n",
       "4117     17:13:56.723     0.000      TCP   PA_                0        1   \n",
       "6269     17:14:06.078     0.000      TCP  FPA_                0        1   \n",
       "8919     17:14:17.100     2.712      TCP   PA_                0        4   \n",
       "10127    17:14:22.915     0.000      TCP   PA_                0        1   \n",
       "11546    17:14:29.123     0.000      TCP   PA_                0        1   \n",
       "...               ...       ...      ...   ...              ...      ...   \n",
       "1298957  19:17:32.625     1.322      TCP    S_                0        3   \n",
       "1298978  19:17:32.765     0.000      TCP    S_                0        1   \n",
       "1298979  19:17:32.772     1.322      TCP   RA_                0        3   \n",
       "1299031  19:17:33.263     0.000      TCP    S_                0        1   \n",
       "1299086  19:17:33.811     0.930      TCP  FPA_                0       63   \n",
       "\n",
       "         Bytes        Source_IP Source_Port   Destination_IP Destination_Port  \\\n",
       "4117       263    64.12.175.136         587    147.32.84.165             2243   \n",
       "6269        66  212.117.171.138       65500    147.32.84.165             2193   \n",
       "8919       256    94.63.149.150          80    147.32.84.165             1038   \n",
       "10127       64    94.63.149.150          80    147.32.84.165             1038   \n",
       "11546       64    94.63.149.150          80    147.32.84.165             1038   \n",
       "...        ...              ...         ...              ...              ...   \n",
       "1298957    186    147.32.84.165        1439   184.173.217.40              443   \n",
       "1298978     62    147.32.84.165        4281    205.188.103.1               25   \n",
       "1298979    180   184.173.217.40         443    147.32.84.165             1439   \n",
       "1299031     62    147.32.84.165        4284   209.240.204.26               25   \n",
       "1299086  85828    147.32.84.165        1386  212.117.171.138            65500   \n",
       "\n",
       "          Label source_country        source_city   dest_country dest_city  \n",
       "4117     Botnet  United States                NaN        Czechia    Prague  \n",
       "6269     Botnet     Luxembourg                NaN        Czechia    Prague  \n",
       "8919     Botnet       Portugal  Paços de Ferreira        Czechia    Prague  \n",
       "10127    Botnet       Portugal  Paços de Ferreira        Czechia    Prague  \n",
       "11546    Botnet       Portugal  Paços de Ferreira        Czechia    Prague  \n",
       "...         ...            ...                ...            ...       ...  \n",
       "1298957  Botnet        Czechia             Prague  United States    Dallas  \n",
       "1298978  Botnet        Czechia             Prague  United States       NaN  \n",
       "1298979  Botnet  United States             Dallas        Czechia    Prague  \n",
       "1299031  Botnet        Czechia             Prague  United States   Redmond  \n",
       "1299086  Botnet        Czechia             Prague     Luxembourg       NaN  \n",
       "\n",
       "[21760 rows x 16 columns]"
      ]
     },
     "execution_count": 43,
     "metadata": {},
     "output_type": "execute_result"
    }
   ],
   "source": [
    "df_f=df2.loc[df2['Label'].isin(['Botnet','BotnetFILTER_LEGITIMATE'])]\n",
    "df_f"
   ]
  },
  {
   "cell_type": "code",
   "execution_count": 44,
   "metadata": {
    "ExecuteTime": {
     "end_time": "2020-04-29T16:33:11.166935Z",
     "start_time": "2020-04-29T16:33:11.028278Z"
    },
    "scrolled": true
   },
   "outputs": [
    {
     "data": {
      "text/html": [
       "<div>\n",
       "<style scoped>\n",
       "    .dataframe tbody tr th:only-of-type {\n",
       "        vertical-align: middle;\n",
       "    }\n",
       "\n",
       "    .dataframe tbody tr th {\n",
       "        vertical-align: top;\n",
       "    }\n",
       "\n",
       "    .dataframe thead th {\n",
       "        text-align: right;\n",
       "    }\n",
       "</style>\n",
       "<table border=\"1\" class=\"dataframe\">\n",
       "  <thead>\n",
       "    <tr style=\"text-align: right;\">\n",
       "      <th></th>\n",
       "      <th>Flow_Start</th>\n",
       "      <th>Duration</th>\n",
       "      <th>Protocol</th>\n",
       "      <th>Flags</th>\n",
       "      <th>Type_of_Service</th>\n",
       "      <th>Packets</th>\n",
       "      <th>Bytes</th>\n",
       "      <th>Source_IP</th>\n",
       "      <th>Source_Port</th>\n",
       "      <th>Destination_IP</th>\n",
       "      <th>Destination_Port</th>\n",
       "      <th>Label</th>\n",
       "      <th>source_country</th>\n",
       "      <th>source_city</th>\n",
       "      <th>dest_country</th>\n",
       "      <th>dest_city</th>\n",
       "      <th>s</th>\n",
       "      <th>c</th>\n",
       "    </tr>\n",
       "  </thead>\n",
       "  <tbody>\n",
       "    <tr>\n",
       "      <td>0</td>\n",
       "      <td>17:13:40.449</td>\n",
       "      <td>4.230</td>\n",
       "      <td>TCP</td>\n",
       "      <td>PA_</td>\n",
       "      <td>0</td>\n",
       "      <td>180</td>\n",
       "      <td>12628</td>\n",
       "      <td>90.177.154.197</td>\n",
       "      <td>20127</td>\n",
       "      <td>147.32.84.144</td>\n",
       "      <td>22</td>\n",
       "      <td>Background</td>\n",
       "      <td>Czechia</td>\n",
       "      <td>NaN</td>\n",
       "      <td>Czechia</td>\n",
       "      <td>Prague</td>\n",
       "      <td>not_source</td>\n",
       "      <td>not_source</td>\n",
       "    </tr>\n",
       "    <tr>\n",
       "      <td>1</td>\n",
       "      <td>17:13:40.449</td>\n",
       "      <td>4.204</td>\n",
       "      <td>TCP</td>\n",
       "      <td>PA_</td>\n",
       "      <td>0</td>\n",
       "      <td>329</td>\n",
       "      <td>478578</td>\n",
       "      <td>147.32.84.144</td>\n",
       "      <td>22</td>\n",
       "      <td>90.177.154.197</td>\n",
       "      <td>20127</td>\n",
       "      <td>Background</td>\n",
       "      <td>Czechia</td>\n",
       "      <td>Prague</td>\n",
       "      <td>Czechia</td>\n",
       "      <td>NaN</td>\n",
       "      <td>not_source</td>\n",
       "      <td>not_source</td>\n",
       "    </tr>\n",
       "    <tr>\n",
       "      <td>2</td>\n",
       "      <td>17:13:40.453</td>\n",
       "      <td>4.985</td>\n",
       "      <td>TCP</td>\n",
       "      <td>PA_</td>\n",
       "      <td>0</td>\n",
       "      <td>94</td>\n",
       "      <td>6212</td>\n",
       "      <td>198.36.38.132</td>\n",
       "      <td>55530</td>\n",
       "      <td>147.32.86.183</td>\n",
       "      <td>443</td>\n",
       "      <td>Background</td>\n",
       "      <td>Saudi Arabia</td>\n",
       "      <td>Dhahran</td>\n",
       "      <td>Czechia</td>\n",
       "      <td>Prague</td>\n",
       "      <td>not_source</td>\n",
       "      <td>not_source</td>\n",
       "    </tr>\n",
       "    <tr>\n",
       "      <td>3</td>\n",
       "      <td>17:13:40.456</td>\n",
       "      <td>4.975</td>\n",
       "      <td>UDP</td>\n",
       "      <td>INT</td>\n",
       "      <td>0</td>\n",
       "      <td>182</td>\n",
       "      <td>61555</td>\n",
       "      <td>41.103.64.21</td>\n",
       "      <td>54617</td>\n",
       "      <td>147.32.86.183</td>\n",
       "      <td>51246</td>\n",
       "      <td>Background</td>\n",
       "      <td>Algeria</td>\n",
       "      <td>Chlef</td>\n",
       "      <td>Czechia</td>\n",
       "      <td>Prague</td>\n",
       "      <td>not_source</td>\n",
       "      <td>not_source</td>\n",
       "    </tr>\n",
       "    <tr>\n",
       "      <td>4</td>\n",
       "      <td>17:13:40.456</td>\n",
       "      <td>4.975</td>\n",
       "      <td>TCP</td>\n",
       "      <td>PA_</td>\n",
       "      <td>0</td>\n",
       "      <td>185</td>\n",
       "      <td>66524</td>\n",
       "      <td>147.32.86.183</td>\n",
       "      <td>443</td>\n",
       "      <td>198.36.38.132</td>\n",
       "      <td>55530</td>\n",
       "      <td>Background</td>\n",
       "      <td>Czechia</td>\n",
       "      <td>Prague</td>\n",
       "      <td>Saudi Arabia</td>\n",
       "      <td>Dhahran</td>\n",
       "      <td>not_source</td>\n",
       "      <td>not_source</td>\n",
       "    </tr>\n",
       "    <tr>\n",
       "      <td>...</td>\n",
       "      <td>...</td>\n",
       "      <td>...</td>\n",
       "      <td>...</td>\n",
       "      <td>...</td>\n",
       "      <td>...</td>\n",
       "      <td>...</td>\n",
       "      <td>...</td>\n",
       "      <td>...</td>\n",
       "      <td>...</td>\n",
       "      <td>...</td>\n",
       "      <td>...</td>\n",
       "      <td>...</td>\n",
       "      <td>...</td>\n",
       "      <td>...</td>\n",
       "      <td>...</td>\n",
       "      <td>...</td>\n",
       "      <td>...</td>\n",
       "      <td>...</td>\n",
       "    </tr>\n",
       "    <tr>\n",
       "      <td>1299085</td>\n",
       "      <td>19:17:33.765</td>\n",
       "      <td>0.134</td>\n",
       "      <td>TCP</td>\n",
       "      <td>SPA_</td>\n",
       "      <td>0</td>\n",
       "      <td>5</td>\n",
       "      <td>3841</td>\n",
       "      <td>147.32.84.2</td>\n",
       "      <td>80</td>\n",
       "      <td>66.194.55.249</td>\n",
       "      <td>43931</td>\n",
       "      <td>Background</td>\n",
       "      <td>Czechia</td>\n",
       "      <td>Prague</td>\n",
       "      <td>United States</td>\n",
       "      <td>Mechanicville</td>\n",
       "      <td>not_source</td>\n",
       "      <td>not_source</td>\n",
       "    </tr>\n",
       "    <tr>\n",
       "      <td>1299086</td>\n",
       "      <td>19:17:33.811</td>\n",
       "      <td>0.930</td>\n",
       "      <td>TCP</td>\n",
       "      <td>FPA_</td>\n",
       "      <td>0</td>\n",
       "      <td>63</td>\n",
       "      <td>85828</td>\n",
       "      <td>147.32.84.165</td>\n",
       "      <td>1386</td>\n",
       "      <td>212.117.171.138</td>\n",
       "      <td>65500</td>\n",
       "      <td>Botnet</td>\n",
       "      <td>Czechia</td>\n",
       "      <td>Prague</td>\n",
       "      <td>Luxembourg</td>\n",
       "      <td>NaN</td>\n",
       "      <td>Prague</td>\n",
       "      <td>Czechia</td>\n",
       "    </tr>\n",
       "    <tr>\n",
       "      <td>1299087</td>\n",
       "      <td>19:17:33.811</td>\n",
       "      <td>0.000</td>\n",
       "      <td>TCP</td>\n",
       "      <td>PA_</td>\n",
       "      <td>0</td>\n",
       "      <td>1</td>\n",
       "      <td>71</td>\n",
       "      <td>147.32.84.171</td>\n",
       "      <td>43352</td>\n",
       "      <td>95.211.93.1</td>\n",
       "      <td>30091</td>\n",
       "      <td>Background</td>\n",
       "      <td>Czechia</td>\n",
       "      <td>Prague</td>\n",
       "      <td>Netherlands</td>\n",
       "      <td>NaN</td>\n",
       "      <td>not_source</td>\n",
       "      <td>not_source</td>\n",
       "    </tr>\n",
       "    <tr>\n",
       "      <td>1299088</td>\n",
       "      <td>19:17:33.828</td>\n",
       "      <td>0.000</td>\n",
       "      <td>TCP</td>\n",
       "      <td>A_</td>\n",
       "      <td>0</td>\n",
       "      <td>1</td>\n",
       "      <td>66</td>\n",
       "      <td>95.211.93.1</td>\n",
       "      <td>30091</td>\n",
       "      <td>147.32.84.171</td>\n",
       "      <td>43352</td>\n",
       "      <td>Background</td>\n",
       "      <td>Netherlands</td>\n",
       "      <td>NaN</td>\n",
       "      <td>Czechia</td>\n",
       "      <td>Prague</td>\n",
       "      <td>not_source</td>\n",
       "      <td>not_source</td>\n",
       "    </tr>\n",
       "    <tr>\n",
       "      <td>1299089</td>\n",
       "      <td>19:17:33.828</td>\n",
       "      <td>1.999</td>\n",
       "      <td>UDP</td>\n",
       "      <td>INT</td>\n",
       "      <td>0</td>\n",
       "      <td>2</td>\n",
       "      <td>352</td>\n",
       "      <td>147.32.84.229</td>\n",
       "      <td>13363</td>\n",
       "      <td>114.39.240.193</td>\n",
       "      <td>65425</td>\n",
       "      <td>Background</td>\n",
       "      <td>Czechia</td>\n",
       "      <td>Prague</td>\n",
       "      <td>Taiwan</td>\n",
       "      <td>NaN</td>\n",
       "      <td>not_source</td>\n",
       "      <td>not_source</td>\n",
       "    </tr>\n",
       "  </tbody>\n",
       "</table>\n",
       "<p>1299090 rows × 18 columns</p>\n",
       "</div>"
      ],
      "text/plain": [
       "           Flow_Start  Duration Protocol Flags  Type_of_Service  Packets  \\\n",
       "0        17:13:40.449     4.230      TCP   PA_                0      180   \n",
       "1        17:13:40.449     4.204      TCP   PA_                0      329   \n",
       "2        17:13:40.453     4.985      TCP   PA_                0       94   \n",
       "3        17:13:40.456     4.975      UDP   INT                0      182   \n",
       "4        17:13:40.456     4.975      TCP   PA_                0      185   \n",
       "...               ...       ...      ...   ...              ...      ...   \n",
       "1299085  19:17:33.765     0.134      TCP  SPA_                0        5   \n",
       "1299086  19:17:33.811     0.930      TCP  FPA_                0       63   \n",
       "1299087  19:17:33.811     0.000      TCP   PA_                0        1   \n",
       "1299088  19:17:33.828     0.000      TCP    A_                0        1   \n",
       "1299089  19:17:33.828     1.999      UDP   INT                0        2   \n",
       "\n",
       "          Bytes       Source_IP Source_Port   Destination_IP Destination_Port  \\\n",
       "0         12628  90.177.154.197       20127    147.32.84.144               22   \n",
       "1        478578   147.32.84.144          22   90.177.154.197            20127   \n",
       "2          6212   198.36.38.132       55530    147.32.86.183              443   \n",
       "3         61555    41.103.64.21       54617    147.32.86.183            51246   \n",
       "4         66524   147.32.86.183         443    198.36.38.132            55530   \n",
       "...         ...             ...         ...              ...              ...   \n",
       "1299085    3841     147.32.84.2          80    66.194.55.249            43931   \n",
       "1299086   85828   147.32.84.165        1386  212.117.171.138            65500   \n",
       "1299087      71   147.32.84.171       43352      95.211.93.1            30091   \n",
       "1299088      66     95.211.93.1       30091    147.32.84.171            43352   \n",
       "1299089     352   147.32.84.229       13363   114.39.240.193            65425   \n",
       "\n",
       "              Label source_country source_city   dest_country      dest_city  \\\n",
       "0        Background        Czechia         NaN        Czechia         Prague   \n",
       "1        Background        Czechia      Prague        Czechia            NaN   \n",
       "2        Background   Saudi Arabia     Dhahran        Czechia         Prague   \n",
       "3        Background        Algeria       Chlef        Czechia         Prague   \n",
       "4        Background        Czechia      Prague   Saudi Arabia        Dhahran   \n",
       "...             ...            ...         ...            ...            ...   \n",
       "1299085  Background        Czechia      Prague  United States  Mechanicville   \n",
       "1299086      Botnet        Czechia      Prague     Luxembourg            NaN   \n",
       "1299087  Background        Czechia      Prague    Netherlands            NaN   \n",
       "1299088  Background    Netherlands         NaN        Czechia         Prague   \n",
       "1299089  Background        Czechia      Prague         Taiwan            NaN   \n",
       "\n",
       "                  s           c  \n",
       "0        not_source  not_source  \n",
       "1        not_source  not_source  \n",
       "2        not_source  not_source  \n",
       "3        not_source  not_source  \n",
       "4        not_source  not_source  \n",
       "...             ...         ...  \n",
       "1299085  not_source  not_source  \n",
       "1299086      Prague     Czechia  \n",
       "1299087  not_source  not_source  \n",
       "1299088  not_source  not_source  \n",
       "1299089  not_source  not_source  \n",
       "\n",
       "[1299090 rows x 18 columns]"
      ]
     },
     "execution_count": 44,
     "metadata": {},
     "output_type": "execute_result"
    }
   ],
   "source": [
    "# Displaying the source city and country for Botnet traffic. \n",
    "df2['s']=np.where(df2['Label'].isin(['Botnet','BotnetFILTER_LEGITIMATE']), df2['source_city'] , 'not_source')\n",
    "df2['c']=np.where(df2['Label'].isin(['Botnet','BotnetFILTER_LEGITIMATE']), df2['source_country'] , 'not_source')\n",
    "df2"
   ]
  },
  {
   "cell_type": "code",
   "execution_count": 45,
   "metadata": {
    "ExecuteTime": {
     "end_time": "2020-04-29T16:33:11.683566Z",
     "start_time": "2020-04-29T16:33:11.168911Z"
    }
   },
   "outputs": [],
   "source": [
    "df_f = df2.loc[df2['Label'].isin(['Botnet','BotnetFILTER_LEGITIMATE'])]"
   ]
  },
  {
   "cell_type": "code",
   "execution_count": 46,
   "metadata": {
    "ExecuteTime": {
     "end_time": "2020-04-29T16:33:11.691504Z",
     "start_time": "2020-04-29T16:33:11.684549Z"
    }
   },
   "outputs": [
    {
     "data": {
      "text/plain": [
       "1094"
      ]
     },
     "execution_count": 46,
     "metadata": {},
     "output_type": "execute_result"
    }
   ],
   "source": [
    "df_f.source_city.isna().sum()"
   ]
  },
  {
   "cell_type": "code",
   "execution_count": 47,
   "metadata": {
    "ExecuteTime": {
     "end_time": "2020-04-29T16:33:11.701475Z",
     "start_time": "2020-04-29T16:33:11.693498Z"
    }
   },
   "outputs": [
    {
     "data": {
      "text/plain": [
       "71"
      ]
     },
     "execution_count": 47,
     "metadata": {},
     "output_type": "execute_result"
    }
   ],
   "source": [
    "df_f.source_city.nunique()"
   ]
  },
  {
   "cell_type": "code",
   "execution_count": 48,
   "metadata": {
    "ExecuteTime": {
     "end_time": "2020-04-29T16:33:11.713445Z",
     "start_time": "2020-04-29T16:33:11.703470Z"
    }
   },
   "outputs": [
    {
     "data": {
      "text/plain": [
       "43"
      ]
     },
     "execution_count": 48,
     "metadata": {},
     "output_type": "execute_result"
    }
   ],
   "source": [
    "df_f.source_country.nunique()"
   ]
  },
  {
   "cell_type": "code",
   "execution_count": 49,
   "metadata": {
    "ExecuteTime": {
     "end_time": "2020-04-29T16:33:11.726409Z",
     "start_time": "2020-04-29T16:33:11.716437Z"
    }
   },
   "outputs": [
    {
     "data": {
      "text/plain": [
       "374"
      ]
     },
     "execution_count": 49,
     "metadata": {},
     "output_type": "execute_result"
    }
   ],
   "source": [
    "df_f.dest_city.nunique()"
   ]
  },
  {
   "cell_type": "code",
   "execution_count": 50,
   "metadata": {
    "ExecuteTime": {
     "end_time": "2020-04-29T16:33:11.736382Z",
     "start_time": "2020-04-29T16:33:11.728406Z"
    }
   },
   "outputs": [
    {
     "data": {
      "text/plain": [
       "84"
      ]
     },
     "execution_count": 50,
     "metadata": {},
     "output_type": "execute_result"
    }
   ],
   "source": [
    "df_f.dest_country.nunique()"
   ]
  },
  {
   "cell_type": "code",
   "execution_count": 51,
   "metadata": {
    "ExecuteTime": {
     "end_time": "2020-04-29T16:33:11.828150Z",
     "start_time": "2020-04-29T16:33:11.738378Z"
    }
   },
   "outputs": [
    {
     "data": {
      "text/plain": [
       "array([['not_source'],\n",
       "       ['not_source'],\n",
       "       ['not_source'],\n",
       "       ...,\n",
       "       ['not_source'],\n",
       "       ['not_source'],\n",
       "       ['not_source']], dtype=object)"
      ]
     },
     "execution_count": 51,
     "metadata": {},
     "output_type": "execute_result"
    }
   ],
   "source": [
    "# We are only using the source city and country for two reasons.  One, in a botnet attack, the victim is usually \n",
    "# disproportionally represented by the destination as UDP packets is not a connection-oriented protocol.  Second, in \n",
    "# attacks involving the TCP protocol or other connection-oriented protocols, we would double count the sending and\n",
    "# receiving locations. \n",
    "\n",
    "Src_City_Copy=df2[['s']].copy()\n",
    "\n",
    "Src_City_Copy=pd.DataFrame(Src_City_Copy).fillna('None')\n",
    "\n",
    "enc_Src_City = OneHotEncoder(handle_unknown='ignore')\n",
    "cat_Src_City_data=np.array(Src_City_Copy).reshape(-1, 1)\n",
    "cat_Src_City_data"
   ]
  },
  {
   "cell_type": "code",
   "execution_count": 52,
   "metadata": {
    "ExecuteTime": {
     "end_time": "2020-04-29T16:33:12.530258Z",
     "start_time": "2020-04-29T16:33:11.830131Z"
    }
   },
   "outputs": [
    {
     "data": {
      "text/plain": [
       "array([[0., 0., 0., ..., 1., 0., 0.],\n",
       "       [0., 0., 0., ..., 1., 0., 0.],\n",
       "       [0., 0., 0., ..., 1., 0., 0.],\n",
       "       ...,\n",
       "       [0., 0., 0., ..., 1., 0., 0.],\n",
       "       [0., 0., 0., ..., 1., 0., 0.],\n",
       "       [0., 0., 0., ..., 1., 0., 0.]])"
      ]
     },
     "execution_count": 52,
     "metadata": {},
     "output_type": "execute_result"
    }
   ],
   "source": [
    "cat_Src_City_hot=enc_Src_City.fit_transform(cat_Src_City_data)\n",
    "cat_Src_City=cat_Src_City_hot.toarray()\n",
    "cat_Src_City"
   ]
  },
  {
   "cell_type": "code",
   "execution_count": 53,
   "metadata": {
    "ExecuteTime": {
     "end_time": "2020-04-29T16:33:12.554227Z",
     "start_time": "2020-04-29T16:33:12.532255Z"
    }
   },
   "outputs": [
    {
     "data": {
      "text/html": [
       "<div>\n",
       "<style scoped>\n",
       "    .dataframe tbody tr th:only-of-type {\n",
       "        vertical-align: middle;\n",
       "    }\n",
       "\n",
       "    .dataframe tbody tr th {\n",
       "        vertical-align: top;\n",
       "    }\n",
       "\n",
       "    .dataframe thead th {\n",
       "        text-align: right;\n",
       "    }\n",
       "</style>\n",
       "<table border=\"1\" class=\"dataframe\">\n",
       "  <thead>\n",
       "    <tr style=\"text-align: right;\">\n",
       "      <th></th>\n",
       "      <th>0</th>\n",
       "      <th>1</th>\n",
       "      <th>2</th>\n",
       "      <th>3</th>\n",
       "      <th>4</th>\n",
       "      <th>5</th>\n",
       "      <th>6</th>\n",
       "      <th>7</th>\n",
       "      <th>8</th>\n",
       "      <th>9</th>\n",
       "      <th>...</th>\n",
       "      <th>63</th>\n",
       "      <th>64</th>\n",
       "      <th>65</th>\n",
       "      <th>66</th>\n",
       "      <th>67</th>\n",
       "      <th>68</th>\n",
       "      <th>69</th>\n",
       "      <th>70</th>\n",
       "      <th>71</th>\n",
       "      <th>72</th>\n",
       "    </tr>\n",
       "  </thead>\n",
       "  <tbody>\n",
       "    <tr>\n",
       "      <td>0</td>\n",
       "      <td>0.0</td>\n",
       "      <td>0.0</td>\n",
       "      <td>0.0</td>\n",
       "      <td>0.0</td>\n",
       "      <td>0.0</td>\n",
       "      <td>0.0</td>\n",
       "      <td>0.0</td>\n",
       "      <td>0.0</td>\n",
       "      <td>0.0</td>\n",
       "      <td>0.0</td>\n",
       "      <td>...</td>\n",
       "      <td>0.0</td>\n",
       "      <td>0.0</td>\n",
       "      <td>0.0</td>\n",
       "      <td>0.0</td>\n",
       "      <td>0.0</td>\n",
       "      <td>0.0</td>\n",
       "      <td>0.0</td>\n",
       "      <td>1.0</td>\n",
       "      <td>0.0</td>\n",
       "      <td>0.0</td>\n",
       "    </tr>\n",
       "    <tr>\n",
       "      <td>1</td>\n",
       "      <td>0.0</td>\n",
       "      <td>0.0</td>\n",
       "      <td>0.0</td>\n",
       "      <td>0.0</td>\n",
       "      <td>0.0</td>\n",
       "      <td>0.0</td>\n",
       "      <td>0.0</td>\n",
       "      <td>0.0</td>\n",
       "      <td>0.0</td>\n",
       "      <td>0.0</td>\n",
       "      <td>...</td>\n",
       "      <td>0.0</td>\n",
       "      <td>0.0</td>\n",
       "      <td>0.0</td>\n",
       "      <td>0.0</td>\n",
       "      <td>0.0</td>\n",
       "      <td>0.0</td>\n",
       "      <td>0.0</td>\n",
       "      <td>1.0</td>\n",
       "      <td>0.0</td>\n",
       "      <td>0.0</td>\n",
       "    </tr>\n",
       "    <tr>\n",
       "      <td>2</td>\n",
       "      <td>0.0</td>\n",
       "      <td>0.0</td>\n",
       "      <td>0.0</td>\n",
       "      <td>0.0</td>\n",
       "      <td>0.0</td>\n",
       "      <td>0.0</td>\n",
       "      <td>0.0</td>\n",
       "      <td>0.0</td>\n",
       "      <td>0.0</td>\n",
       "      <td>0.0</td>\n",
       "      <td>...</td>\n",
       "      <td>0.0</td>\n",
       "      <td>0.0</td>\n",
       "      <td>0.0</td>\n",
       "      <td>0.0</td>\n",
       "      <td>0.0</td>\n",
       "      <td>0.0</td>\n",
       "      <td>0.0</td>\n",
       "      <td>1.0</td>\n",
       "      <td>0.0</td>\n",
       "      <td>0.0</td>\n",
       "    </tr>\n",
       "    <tr>\n",
       "      <td>3</td>\n",
       "      <td>0.0</td>\n",
       "      <td>0.0</td>\n",
       "      <td>0.0</td>\n",
       "      <td>0.0</td>\n",
       "      <td>0.0</td>\n",
       "      <td>0.0</td>\n",
       "      <td>0.0</td>\n",
       "      <td>0.0</td>\n",
       "      <td>0.0</td>\n",
       "      <td>0.0</td>\n",
       "      <td>...</td>\n",
       "      <td>0.0</td>\n",
       "      <td>0.0</td>\n",
       "      <td>0.0</td>\n",
       "      <td>0.0</td>\n",
       "      <td>0.0</td>\n",
       "      <td>0.0</td>\n",
       "      <td>0.0</td>\n",
       "      <td>1.0</td>\n",
       "      <td>0.0</td>\n",
       "      <td>0.0</td>\n",
       "    </tr>\n",
       "    <tr>\n",
       "      <td>4</td>\n",
       "      <td>0.0</td>\n",
       "      <td>0.0</td>\n",
       "      <td>0.0</td>\n",
       "      <td>0.0</td>\n",
       "      <td>0.0</td>\n",
       "      <td>0.0</td>\n",
       "      <td>0.0</td>\n",
       "      <td>0.0</td>\n",
       "      <td>0.0</td>\n",
       "      <td>0.0</td>\n",
       "      <td>...</td>\n",
       "      <td>0.0</td>\n",
       "      <td>0.0</td>\n",
       "      <td>0.0</td>\n",
       "      <td>0.0</td>\n",
       "      <td>0.0</td>\n",
       "      <td>0.0</td>\n",
       "      <td>0.0</td>\n",
       "      <td>1.0</td>\n",
       "      <td>0.0</td>\n",
       "      <td>0.0</td>\n",
       "    </tr>\n",
       "  </tbody>\n",
       "</table>\n",
       "<p>5 rows × 73 columns</p>\n",
       "</div>"
      ],
      "text/plain": [
       "    0    1    2    3    4    5    6    7    8    9   ...   63   64   65   66  \\\n",
       "0  0.0  0.0  0.0  0.0  0.0  0.0  0.0  0.0  0.0  0.0  ...  0.0  0.0  0.0  0.0   \n",
       "1  0.0  0.0  0.0  0.0  0.0  0.0  0.0  0.0  0.0  0.0  ...  0.0  0.0  0.0  0.0   \n",
       "2  0.0  0.0  0.0  0.0  0.0  0.0  0.0  0.0  0.0  0.0  ...  0.0  0.0  0.0  0.0   \n",
       "3  0.0  0.0  0.0  0.0  0.0  0.0  0.0  0.0  0.0  0.0  ...  0.0  0.0  0.0  0.0   \n",
       "4  0.0  0.0  0.0  0.0  0.0  0.0  0.0  0.0  0.0  0.0  ...  0.0  0.0  0.0  0.0   \n",
       "\n",
       "    67   68   69   70   71   72  \n",
       "0  0.0  0.0  0.0  1.0  0.0  0.0  \n",
       "1  0.0  0.0  0.0  1.0  0.0  0.0  \n",
       "2  0.0  0.0  0.0  1.0  0.0  0.0  \n",
       "3  0.0  0.0  0.0  1.0  0.0  0.0  \n",
       "4  0.0  0.0  0.0  1.0  0.0  0.0  \n",
       "\n",
       "[5 rows x 73 columns]"
      ]
     },
     "execution_count": 53,
     "metadata": {},
     "output_type": "execute_result"
    }
   ],
   "source": [
    "New_cat_Src_City = pd.DataFrame(cat_Src_City)\n",
    "New_cat_Src_City.head()"
   ]
  },
  {
   "cell_type": "code",
   "execution_count": 54,
   "metadata": {
    "ExecuteTime": {
     "end_time": "2020-04-29T16:33:12.580126Z",
     "start_time": "2020-04-29T16:33:12.557188Z"
    }
   },
   "outputs": [
    {
     "data": {
      "text/html": [
       "<div>\n",
       "<style scoped>\n",
       "    .dataframe tbody tr th:only-of-type {\n",
       "        vertical-align: middle;\n",
       "    }\n",
       "\n",
       "    .dataframe tbody tr th {\n",
       "        vertical-align: top;\n",
       "    }\n",
       "\n",
       "    .dataframe thead th {\n",
       "        text-align: right;\n",
       "    }\n",
       "</style>\n",
       "<table border=\"1\" class=\"dataframe\">\n",
       "  <thead>\n",
       "    <tr style=\"text-align: right;\">\n",
       "      <th></th>\n",
       "      <th>x0_Alameda</th>\n",
       "      <th>x0_Almaty</th>\n",
       "      <th>x0_Amsterdam</th>\n",
       "      <th>x0_Arichuna</th>\n",
       "      <th>x0_Asunción</th>\n",
       "      <th>x0_Bangkok</th>\n",
       "      <th>x0_Bayamón</th>\n",
       "      <th>x0_Beijing</th>\n",
       "      <th>x0_Brest</th>\n",
       "      <th>x0_Budapest</th>\n",
       "      <th>...</th>\n",
       "      <th>x0_Tainan City</th>\n",
       "      <th>x0_Taipei</th>\n",
       "      <th>x0_Taiyuan</th>\n",
       "      <th>x0_Una</th>\n",
       "      <th>x0_Washington</th>\n",
       "      <th>x0_Xuzhou</th>\n",
       "      <th>x0_Zhengzhou</th>\n",
       "      <th>x0_not_source</th>\n",
       "      <th>x0_Épinay-sur-Seine</th>\n",
       "      <th>x0_Ürümqi</th>\n",
       "    </tr>\n",
       "  </thead>\n",
       "  <tbody>\n",
       "    <tr>\n",
       "      <td>0</td>\n",
       "      <td>0.0</td>\n",
       "      <td>0.0</td>\n",
       "      <td>0.0</td>\n",
       "      <td>0.0</td>\n",
       "      <td>0.0</td>\n",
       "      <td>0.0</td>\n",
       "      <td>0.0</td>\n",
       "      <td>0.0</td>\n",
       "      <td>0.0</td>\n",
       "      <td>0.0</td>\n",
       "      <td>...</td>\n",
       "      <td>0.0</td>\n",
       "      <td>0.0</td>\n",
       "      <td>0.0</td>\n",
       "      <td>0.0</td>\n",
       "      <td>0.0</td>\n",
       "      <td>0.0</td>\n",
       "      <td>0.0</td>\n",
       "      <td>1.0</td>\n",
       "      <td>0.0</td>\n",
       "      <td>0.0</td>\n",
       "    </tr>\n",
       "    <tr>\n",
       "      <td>1</td>\n",
       "      <td>0.0</td>\n",
       "      <td>0.0</td>\n",
       "      <td>0.0</td>\n",
       "      <td>0.0</td>\n",
       "      <td>0.0</td>\n",
       "      <td>0.0</td>\n",
       "      <td>0.0</td>\n",
       "      <td>0.0</td>\n",
       "      <td>0.0</td>\n",
       "      <td>0.0</td>\n",
       "      <td>...</td>\n",
       "      <td>0.0</td>\n",
       "      <td>0.0</td>\n",
       "      <td>0.0</td>\n",
       "      <td>0.0</td>\n",
       "      <td>0.0</td>\n",
       "      <td>0.0</td>\n",
       "      <td>0.0</td>\n",
       "      <td>1.0</td>\n",
       "      <td>0.0</td>\n",
       "      <td>0.0</td>\n",
       "    </tr>\n",
       "    <tr>\n",
       "      <td>2</td>\n",
       "      <td>0.0</td>\n",
       "      <td>0.0</td>\n",
       "      <td>0.0</td>\n",
       "      <td>0.0</td>\n",
       "      <td>0.0</td>\n",
       "      <td>0.0</td>\n",
       "      <td>0.0</td>\n",
       "      <td>0.0</td>\n",
       "      <td>0.0</td>\n",
       "      <td>0.0</td>\n",
       "      <td>...</td>\n",
       "      <td>0.0</td>\n",
       "      <td>0.0</td>\n",
       "      <td>0.0</td>\n",
       "      <td>0.0</td>\n",
       "      <td>0.0</td>\n",
       "      <td>0.0</td>\n",
       "      <td>0.0</td>\n",
       "      <td>1.0</td>\n",
       "      <td>0.0</td>\n",
       "      <td>0.0</td>\n",
       "    </tr>\n",
       "    <tr>\n",
       "      <td>3</td>\n",
       "      <td>0.0</td>\n",
       "      <td>0.0</td>\n",
       "      <td>0.0</td>\n",
       "      <td>0.0</td>\n",
       "      <td>0.0</td>\n",
       "      <td>0.0</td>\n",
       "      <td>0.0</td>\n",
       "      <td>0.0</td>\n",
       "      <td>0.0</td>\n",
       "      <td>0.0</td>\n",
       "      <td>...</td>\n",
       "      <td>0.0</td>\n",
       "      <td>0.0</td>\n",
       "      <td>0.0</td>\n",
       "      <td>0.0</td>\n",
       "      <td>0.0</td>\n",
       "      <td>0.0</td>\n",
       "      <td>0.0</td>\n",
       "      <td>1.0</td>\n",
       "      <td>0.0</td>\n",
       "      <td>0.0</td>\n",
       "    </tr>\n",
       "    <tr>\n",
       "      <td>4</td>\n",
       "      <td>0.0</td>\n",
       "      <td>0.0</td>\n",
       "      <td>0.0</td>\n",
       "      <td>0.0</td>\n",
       "      <td>0.0</td>\n",
       "      <td>0.0</td>\n",
       "      <td>0.0</td>\n",
       "      <td>0.0</td>\n",
       "      <td>0.0</td>\n",
       "      <td>0.0</td>\n",
       "      <td>...</td>\n",
       "      <td>0.0</td>\n",
       "      <td>0.0</td>\n",
       "      <td>0.0</td>\n",
       "      <td>0.0</td>\n",
       "      <td>0.0</td>\n",
       "      <td>0.0</td>\n",
       "      <td>0.0</td>\n",
       "      <td>1.0</td>\n",
       "      <td>0.0</td>\n",
       "      <td>0.0</td>\n",
       "    </tr>\n",
       "  </tbody>\n",
       "</table>\n",
       "<p>5 rows × 73 columns</p>\n",
       "</div>"
      ],
      "text/plain": [
       "   x0_Alameda  x0_Almaty  x0_Amsterdam  x0_Arichuna  x0_Asunción  x0_Bangkok  \\\n",
       "0         0.0        0.0           0.0          0.0          0.0         0.0   \n",
       "1         0.0        0.0           0.0          0.0          0.0         0.0   \n",
       "2         0.0        0.0           0.0          0.0          0.0         0.0   \n",
       "3         0.0        0.0           0.0          0.0          0.0         0.0   \n",
       "4         0.0        0.0           0.0          0.0          0.0         0.0   \n",
       "\n",
       "   x0_Bayamón  x0_Beijing  x0_Brest  x0_Budapest  ...  x0_Tainan City  \\\n",
       "0         0.0         0.0       0.0          0.0  ...             0.0   \n",
       "1         0.0         0.0       0.0          0.0  ...             0.0   \n",
       "2         0.0         0.0       0.0          0.0  ...             0.0   \n",
       "3         0.0         0.0       0.0          0.0  ...             0.0   \n",
       "4         0.0         0.0       0.0          0.0  ...             0.0   \n",
       "\n",
       "   x0_Taipei  x0_Taiyuan  x0_Una  x0_Washington  x0_Xuzhou  x0_Zhengzhou  \\\n",
       "0        0.0         0.0     0.0            0.0        0.0           0.0   \n",
       "1        0.0         0.0     0.0            0.0        0.0           0.0   \n",
       "2        0.0         0.0     0.0            0.0        0.0           0.0   \n",
       "3        0.0         0.0     0.0            0.0        0.0           0.0   \n",
       "4        0.0         0.0     0.0            0.0        0.0           0.0   \n",
       "\n",
       "   x0_not_source  x0_Épinay-sur-Seine  x0_Ürümqi  \n",
       "0            1.0                  0.0        0.0  \n",
       "1            1.0                  0.0        0.0  \n",
       "2            1.0                  0.0        0.0  \n",
       "3            1.0                  0.0        0.0  \n",
       "4            1.0                  0.0        0.0  \n",
       "\n",
       "[5 rows x 73 columns]"
      ]
     },
     "execution_count": 54,
     "metadata": {},
     "output_type": "execute_result"
    }
   ],
   "source": [
    "enc_Src_City.get_feature_names()\n",
    "New_cat_Src_City.columns = enc_Src_City.get_feature_names()\n",
    "New_cat_Src_City.head()"
   ]
  },
  {
   "cell_type": "code",
   "execution_count": 55,
   "metadata": {
    "ExecuteTime": {
     "end_time": "2020-04-29T16:33:13.439827Z",
     "start_time": "2020-04-29T16:33:12.582121Z"
    },
    "scrolled": true
   },
   "outputs": [
    {
     "data": {
      "text/html": [
       "<div>\n",
       "<style scoped>\n",
       "    .dataframe tbody tr th:only-of-type {\n",
       "        vertical-align: middle;\n",
       "    }\n",
       "\n",
       "    .dataframe tbody tr th {\n",
       "        vertical-align: top;\n",
       "    }\n",
       "\n",
       "    .dataframe thead th {\n",
       "        text-align: right;\n",
       "    }\n",
       "</style>\n",
       "<table border=\"1\" class=\"dataframe\">\n",
       "  <thead>\n",
       "    <tr style=\"text-align: right;\">\n",
       "      <th></th>\n",
       "      <th>Alameda</th>\n",
       "      <th>Almaty</th>\n",
       "      <th>Amsterdam</th>\n",
       "      <th>Arichuna</th>\n",
       "      <th>Asunción</th>\n",
       "      <th>Bangkok</th>\n",
       "      <th>Bayamón</th>\n",
       "      <th>Beijing</th>\n",
       "      <th>Brest</th>\n",
       "      <th>Budapest</th>\n",
       "      <th>...</th>\n",
       "      <th>Tainan City</th>\n",
       "      <th>Taipei</th>\n",
       "      <th>Taiyuan</th>\n",
       "      <th>Una</th>\n",
       "      <th>Washington</th>\n",
       "      <th>Xuzhou</th>\n",
       "      <th>Zhengzhou</th>\n",
       "      <th>not_source</th>\n",
       "      <th>Épinay-sur-Seine</th>\n",
       "      <th>Ürümqi</th>\n",
       "    </tr>\n",
       "  </thead>\n",
       "  <tbody>\n",
       "    <tr>\n",
       "      <td>0</td>\n",
       "      <td>0.0</td>\n",
       "      <td>0.0</td>\n",
       "      <td>0.0</td>\n",
       "      <td>0.0</td>\n",
       "      <td>0.0</td>\n",
       "      <td>0.0</td>\n",
       "      <td>0.0</td>\n",
       "      <td>0.0</td>\n",
       "      <td>0.0</td>\n",
       "      <td>0.0</td>\n",
       "      <td>...</td>\n",
       "      <td>0.0</td>\n",
       "      <td>0.0</td>\n",
       "      <td>0.0</td>\n",
       "      <td>0.0</td>\n",
       "      <td>0.0</td>\n",
       "      <td>0.0</td>\n",
       "      <td>0.0</td>\n",
       "      <td>1.0</td>\n",
       "      <td>0.0</td>\n",
       "      <td>0.0</td>\n",
       "    </tr>\n",
       "    <tr>\n",
       "      <td>1</td>\n",
       "      <td>0.0</td>\n",
       "      <td>0.0</td>\n",
       "      <td>0.0</td>\n",
       "      <td>0.0</td>\n",
       "      <td>0.0</td>\n",
       "      <td>0.0</td>\n",
       "      <td>0.0</td>\n",
       "      <td>0.0</td>\n",
       "      <td>0.0</td>\n",
       "      <td>0.0</td>\n",
       "      <td>...</td>\n",
       "      <td>0.0</td>\n",
       "      <td>0.0</td>\n",
       "      <td>0.0</td>\n",
       "      <td>0.0</td>\n",
       "      <td>0.0</td>\n",
       "      <td>0.0</td>\n",
       "      <td>0.0</td>\n",
       "      <td>1.0</td>\n",
       "      <td>0.0</td>\n",
       "      <td>0.0</td>\n",
       "    </tr>\n",
       "    <tr>\n",
       "      <td>2</td>\n",
       "      <td>0.0</td>\n",
       "      <td>0.0</td>\n",
       "      <td>0.0</td>\n",
       "      <td>0.0</td>\n",
       "      <td>0.0</td>\n",
       "      <td>0.0</td>\n",
       "      <td>0.0</td>\n",
       "      <td>0.0</td>\n",
       "      <td>0.0</td>\n",
       "      <td>0.0</td>\n",
       "      <td>...</td>\n",
       "      <td>0.0</td>\n",
       "      <td>0.0</td>\n",
       "      <td>0.0</td>\n",
       "      <td>0.0</td>\n",
       "      <td>0.0</td>\n",
       "      <td>0.0</td>\n",
       "      <td>0.0</td>\n",
       "      <td>1.0</td>\n",
       "      <td>0.0</td>\n",
       "      <td>0.0</td>\n",
       "    </tr>\n",
       "    <tr>\n",
       "      <td>3</td>\n",
       "      <td>0.0</td>\n",
       "      <td>0.0</td>\n",
       "      <td>0.0</td>\n",
       "      <td>0.0</td>\n",
       "      <td>0.0</td>\n",
       "      <td>0.0</td>\n",
       "      <td>0.0</td>\n",
       "      <td>0.0</td>\n",
       "      <td>0.0</td>\n",
       "      <td>0.0</td>\n",
       "      <td>...</td>\n",
       "      <td>0.0</td>\n",
       "      <td>0.0</td>\n",
       "      <td>0.0</td>\n",
       "      <td>0.0</td>\n",
       "      <td>0.0</td>\n",
       "      <td>0.0</td>\n",
       "      <td>0.0</td>\n",
       "      <td>1.0</td>\n",
       "      <td>0.0</td>\n",
       "      <td>0.0</td>\n",
       "    </tr>\n",
       "    <tr>\n",
       "      <td>4</td>\n",
       "      <td>0.0</td>\n",
       "      <td>0.0</td>\n",
       "      <td>0.0</td>\n",
       "      <td>0.0</td>\n",
       "      <td>0.0</td>\n",
       "      <td>0.0</td>\n",
       "      <td>0.0</td>\n",
       "      <td>0.0</td>\n",
       "      <td>0.0</td>\n",
       "      <td>0.0</td>\n",
       "      <td>...</td>\n",
       "      <td>0.0</td>\n",
       "      <td>0.0</td>\n",
       "      <td>0.0</td>\n",
       "      <td>0.0</td>\n",
       "      <td>0.0</td>\n",
       "      <td>0.0</td>\n",
       "      <td>0.0</td>\n",
       "      <td>1.0</td>\n",
       "      <td>0.0</td>\n",
       "      <td>0.0</td>\n",
       "    </tr>\n",
       "    <tr>\n",
       "      <td>...</td>\n",
       "      <td>...</td>\n",
       "      <td>...</td>\n",
       "      <td>...</td>\n",
       "      <td>...</td>\n",
       "      <td>...</td>\n",
       "      <td>...</td>\n",
       "      <td>...</td>\n",
       "      <td>...</td>\n",
       "      <td>...</td>\n",
       "      <td>...</td>\n",
       "      <td>...</td>\n",
       "      <td>...</td>\n",
       "      <td>...</td>\n",
       "      <td>...</td>\n",
       "      <td>...</td>\n",
       "      <td>...</td>\n",
       "      <td>...</td>\n",
       "      <td>...</td>\n",
       "      <td>...</td>\n",
       "      <td>...</td>\n",
       "      <td>...</td>\n",
       "    </tr>\n",
       "    <tr>\n",
       "      <td>1299085</td>\n",
       "      <td>0.0</td>\n",
       "      <td>0.0</td>\n",
       "      <td>0.0</td>\n",
       "      <td>0.0</td>\n",
       "      <td>0.0</td>\n",
       "      <td>0.0</td>\n",
       "      <td>0.0</td>\n",
       "      <td>0.0</td>\n",
       "      <td>0.0</td>\n",
       "      <td>0.0</td>\n",
       "      <td>...</td>\n",
       "      <td>0.0</td>\n",
       "      <td>0.0</td>\n",
       "      <td>0.0</td>\n",
       "      <td>0.0</td>\n",
       "      <td>0.0</td>\n",
       "      <td>0.0</td>\n",
       "      <td>0.0</td>\n",
       "      <td>1.0</td>\n",
       "      <td>0.0</td>\n",
       "      <td>0.0</td>\n",
       "    </tr>\n",
       "    <tr>\n",
       "      <td>1299086</td>\n",
       "      <td>0.0</td>\n",
       "      <td>0.0</td>\n",
       "      <td>0.0</td>\n",
       "      <td>0.0</td>\n",
       "      <td>0.0</td>\n",
       "      <td>0.0</td>\n",
       "      <td>0.0</td>\n",
       "      <td>0.0</td>\n",
       "      <td>0.0</td>\n",
       "      <td>0.0</td>\n",
       "      <td>...</td>\n",
       "      <td>0.0</td>\n",
       "      <td>0.0</td>\n",
       "      <td>0.0</td>\n",
       "      <td>0.0</td>\n",
       "      <td>0.0</td>\n",
       "      <td>0.0</td>\n",
       "      <td>0.0</td>\n",
       "      <td>0.0</td>\n",
       "      <td>0.0</td>\n",
       "      <td>0.0</td>\n",
       "    </tr>\n",
       "    <tr>\n",
       "      <td>1299087</td>\n",
       "      <td>0.0</td>\n",
       "      <td>0.0</td>\n",
       "      <td>0.0</td>\n",
       "      <td>0.0</td>\n",
       "      <td>0.0</td>\n",
       "      <td>0.0</td>\n",
       "      <td>0.0</td>\n",
       "      <td>0.0</td>\n",
       "      <td>0.0</td>\n",
       "      <td>0.0</td>\n",
       "      <td>...</td>\n",
       "      <td>0.0</td>\n",
       "      <td>0.0</td>\n",
       "      <td>0.0</td>\n",
       "      <td>0.0</td>\n",
       "      <td>0.0</td>\n",
       "      <td>0.0</td>\n",
       "      <td>0.0</td>\n",
       "      <td>1.0</td>\n",
       "      <td>0.0</td>\n",
       "      <td>0.0</td>\n",
       "    </tr>\n",
       "    <tr>\n",
       "      <td>1299088</td>\n",
       "      <td>0.0</td>\n",
       "      <td>0.0</td>\n",
       "      <td>0.0</td>\n",
       "      <td>0.0</td>\n",
       "      <td>0.0</td>\n",
       "      <td>0.0</td>\n",
       "      <td>0.0</td>\n",
       "      <td>0.0</td>\n",
       "      <td>0.0</td>\n",
       "      <td>0.0</td>\n",
       "      <td>...</td>\n",
       "      <td>0.0</td>\n",
       "      <td>0.0</td>\n",
       "      <td>0.0</td>\n",
       "      <td>0.0</td>\n",
       "      <td>0.0</td>\n",
       "      <td>0.0</td>\n",
       "      <td>0.0</td>\n",
       "      <td>1.0</td>\n",
       "      <td>0.0</td>\n",
       "      <td>0.0</td>\n",
       "    </tr>\n",
       "    <tr>\n",
       "      <td>1299089</td>\n",
       "      <td>0.0</td>\n",
       "      <td>0.0</td>\n",
       "      <td>0.0</td>\n",
       "      <td>0.0</td>\n",
       "      <td>0.0</td>\n",
       "      <td>0.0</td>\n",
       "      <td>0.0</td>\n",
       "      <td>0.0</td>\n",
       "      <td>0.0</td>\n",
       "      <td>0.0</td>\n",
       "      <td>...</td>\n",
       "      <td>0.0</td>\n",
       "      <td>0.0</td>\n",
       "      <td>0.0</td>\n",
       "      <td>0.0</td>\n",
       "      <td>0.0</td>\n",
       "      <td>0.0</td>\n",
       "      <td>0.0</td>\n",
       "      <td>1.0</td>\n",
       "      <td>0.0</td>\n",
       "      <td>0.0</td>\n",
       "    </tr>\n",
       "  </tbody>\n",
       "</table>\n",
       "<p>1299090 rows × 73 columns</p>\n",
       "</div>"
      ],
      "text/plain": [
       "         Alameda  Almaty  Amsterdam  Arichuna  Asunción  Bangkok  Bayamón  \\\n",
       "0            0.0     0.0        0.0       0.0       0.0      0.0      0.0   \n",
       "1            0.0     0.0        0.0       0.0       0.0      0.0      0.0   \n",
       "2            0.0     0.0        0.0       0.0       0.0      0.0      0.0   \n",
       "3            0.0     0.0        0.0       0.0       0.0      0.0      0.0   \n",
       "4            0.0     0.0        0.0       0.0       0.0      0.0      0.0   \n",
       "...          ...     ...        ...       ...       ...      ...      ...   \n",
       "1299085      0.0     0.0        0.0       0.0       0.0      0.0      0.0   \n",
       "1299086      0.0     0.0        0.0       0.0       0.0      0.0      0.0   \n",
       "1299087      0.0     0.0        0.0       0.0       0.0      0.0      0.0   \n",
       "1299088      0.0     0.0        0.0       0.0       0.0      0.0      0.0   \n",
       "1299089      0.0     0.0        0.0       0.0       0.0      0.0      0.0   \n",
       "\n",
       "         Beijing  Brest  Budapest  ...  Tainan City  Taipei  Taiyuan  Una  \\\n",
       "0            0.0    0.0       0.0  ...          0.0     0.0      0.0  0.0   \n",
       "1            0.0    0.0       0.0  ...          0.0     0.0      0.0  0.0   \n",
       "2            0.0    0.0       0.0  ...          0.0     0.0      0.0  0.0   \n",
       "3            0.0    0.0       0.0  ...          0.0     0.0      0.0  0.0   \n",
       "4            0.0    0.0       0.0  ...          0.0     0.0      0.0  0.0   \n",
       "...          ...    ...       ...  ...          ...     ...      ...  ...   \n",
       "1299085      0.0    0.0       0.0  ...          0.0     0.0      0.0  0.0   \n",
       "1299086      0.0    0.0       0.0  ...          0.0     0.0      0.0  0.0   \n",
       "1299087      0.0    0.0       0.0  ...          0.0     0.0      0.0  0.0   \n",
       "1299088      0.0    0.0       0.0  ...          0.0     0.0      0.0  0.0   \n",
       "1299089      0.0    0.0       0.0  ...          0.0     0.0      0.0  0.0   \n",
       "\n",
       "         Washington  Xuzhou  Zhengzhou  not_source  Épinay-sur-Seine  Ürümqi  \n",
       "0               0.0     0.0        0.0         1.0               0.0     0.0  \n",
       "1               0.0     0.0        0.0         1.0               0.0     0.0  \n",
       "2               0.0     0.0        0.0         1.0               0.0     0.0  \n",
       "3               0.0     0.0        0.0         1.0               0.0     0.0  \n",
       "4               0.0     0.0        0.0         1.0               0.0     0.0  \n",
       "...             ...     ...        ...         ...               ...     ...  \n",
       "1299085         0.0     0.0        0.0         1.0               0.0     0.0  \n",
       "1299086         0.0     0.0        0.0         0.0               0.0     0.0  \n",
       "1299087         0.0     0.0        0.0         1.0               0.0     0.0  \n",
       "1299088         0.0     0.0        0.0         1.0               0.0     0.0  \n",
       "1299089         0.0     0.0        0.0         1.0               0.0     0.0  \n",
       "\n",
       "[1299090 rows x 73 columns]"
      ]
     },
     "execution_count": 55,
     "metadata": {},
     "output_type": "execute_result"
    }
   ],
   "source": [
    "# Removing the first 3 characters from each column name.  I am not sure why it does those x0_ characters in front.  \n",
    "New_cat_Src_City.columns = New_cat_Src_City.columns.str[3:]\n",
    "New_cat_Src_City"
   ]
  },
  {
   "cell_type": "code",
   "execution_count": 56,
   "metadata": {
    "ExecuteTime": {
     "end_time": "2020-04-29T16:33:13.884639Z",
     "start_time": "2020-04-29T16:33:13.441840Z"
    }
   },
   "outputs": [],
   "source": [
    "New_cat_Src_City = New_cat_Src_City.drop(columns=['not_source'],axis=1)"
   ]
  },
  {
   "cell_type": "code",
   "execution_count": 57,
   "metadata": {
    "ExecuteTime": {
     "end_time": "2020-04-29T16:33:15.719729Z",
     "start_time": "2020-04-29T16:33:13.886631Z"
    },
    "scrolled": true
   },
   "outputs": [],
   "source": [
    "New_cat_Src_City=pd.merge(df2, New_cat_Src_City, right_index=True,left_index=True)"
   ]
  },
  {
   "cell_type": "code",
   "execution_count": 58,
   "metadata": {
    "ExecuteTime": {
     "end_time": "2020-04-29T16:33:17.670513Z",
     "start_time": "2020-04-29T16:33:15.721724Z"
    }
   },
   "outputs": [],
   "source": [
    "New_cat_Src_City = New_cat_Src_City.drop(columns=['source_country', 'source_city',\n",
    "       'dest_country', 'dest_city', 's', 'c'],axis=1)"
   ]
  },
  {
   "cell_type": "code",
   "execution_count": 59,
   "metadata": {
    "ExecuteTime": {
     "end_time": "2020-04-29T16:33:17.678492Z",
     "start_time": "2020-04-29T16:33:17.672508Z"
    },
    "scrolled": true
   },
   "outputs": [
    {
     "data": {
      "text/plain": [
       "Index(['Flow_Start', 'Duration', 'Protocol', 'Flags', 'Type_of_Service',\n",
       "       'Packets', 'Bytes', 'Source_IP', 'Source_Port', 'Destination_IP',\n",
       "       'Destination_Port', 'Label', 'Alameda', 'Almaty', 'Amsterdam',\n",
       "       'Arichuna', 'Asunción', 'Bangkok', 'Bayamón', 'Beijing', 'Brest',\n",
       "       'Budapest', 'Cairo', 'Caracas', 'Casablanca', 'Central', 'Chikmagalūr',\n",
       "       'Chodzież', 'Dallas', 'Dimitrovgrad', 'Dnipro', 'Ernakulam', 'Gomel',\n",
       "       'Gomez Palacio', 'Guiyang', 'Harare', 'Hermes', 'Hermosillo', 'Iași',\n",
       "       'Islamabad', 'Ixtapaluca', 'Karachi', 'Kasur', 'Kharkiv', 'Kiev',\n",
       "       'Kolkata', 'Kunming', 'Kyoto', 'Lahti', 'Lancaster', 'Lviv', 'Macul',\n",
       "       'Mancherial', 'Minsk', 'Mogilev', 'Mogoi', 'Moscow', 'Mumbai', 'Murcia',\n",
       "       'Nagar', 'Nagpur', 'Nanjing', 'New Delhi', 'None', 'Odesa', 'Olsztyn',\n",
       "       'Paris', 'Paços de Ferreira', 'Port of Spain', 'Prague', 'Quito',\n",
       "       'Redmond', 'Santa Isabel', 'Shaoxing', 'Sunnyvale', 'Tainan City',\n",
       "       'Taipei', 'Taiyuan', 'Una', 'Washington', 'Xuzhou', 'Zhengzhou',\n",
       "       'Épinay-sur-Seine', 'Ürümqi'],\n",
       "      dtype='object')"
      ]
     },
     "execution_count": 59,
     "metadata": {},
     "output_type": "execute_result"
    }
   ],
   "source": [
    "New_cat_Src_City.columns"
   ]
  },
  {
   "cell_type": "code",
   "execution_count": 60,
   "metadata": {
    "ExecuteTime": {
     "end_time": "2020-04-29T16:33:17.832088Z",
     "start_time": "2020-04-29T16:33:17.680487Z"
    }
   },
   "outputs": [
    {
     "data": {
      "text/plain": [
       "array([['not_source'],\n",
       "       ['not_source'],\n",
       "       ['not_source'],\n",
       "       ...,\n",
       "       ['not_source'],\n",
       "       ['not_source'],\n",
       "       ['not_source']], dtype=object)"
      ]
     },
     "execution_count": 60,
     "metadata": {},
     "output_type": "execute_result"
    }
   ],
   "source": [
    "Src_Country_Copy=df2[['c']].copy()\n",
    "\n",
    "Src_Country_Copy=pd.DataFrame(Src_Country_Copy).fillna('None')\n",
    "\n",
    "enc_Src_Country = OneHotEncoder(handle_unknown='ignore')\n",
    "cat_Src_Country_data=np.array(Src_Country_Copy).reshape(-1, 1)\n",
    "cat_Src_Country_data"
   ]
  },
  {
   "cell_type": "code",
   "execution_count": 61,
   "metadata": {
    "ExecuteTime": {
     "end_time": "2020-04-29T16:33:18.375660Z",
     "start_time": "2020-04-29T16:33:17.834078Z"
    }
   },
   "outputs": [
    {
     "data": {
      "text/plain": [
       "array([[0., 0., 0., ..., 0., 0., 1.],\n",
       "       [0., 0., 0., ..., 0., 0., 1.],\n",
       "       [0., 0., 0., ..., 0., 0., 1.],\n",
       "       ...,\n",
       "       [0., 0., 0., ..., 0., 0., 1.],\n",
       "       [0., 0., 0., ..., 0., 0., 1.],\n",
       "       [0., 0., 0., ..., 0., 0., 1.]])"
      ]
     },
     "execution_count": 61,
     "metadata": {},
     "output_type": "execute_result"
    }
   ],
   "source": [
    "cat_Src_Country_hot=enc_Src_Country.fit_transform(cat_Src_Country_data)\n",
    "cat_Src_Country=cat_Src_Country_hot.toarray()\n",
    "cat_Src_Country"
   ]
  },
  {
   "cell_type": "code",
   "execution_count": 62,
   "metadata": {
    "ExecuteTime": {
     "end_time": "2020-04-29T16:33:18.402589Z",
     "start_time": "2020-04-29T16:33:18.377623Z"
    }
   },
   "outputs": [
    {
     "data": {
      "text/html": [
       "<div>\n",
       "<style scoped>\n",
       "    .dataframe tbody tr th:only-of-type {\n",
       "        vertical-align: middle;\n",
       "    }\n",
       "\n",
       "    .dataframe tbody tr th {\n",
       "        vertical-align: top;\n",
       "    }\n",
       "\n",
       "    .dataframe thead th {\n",
       "        text-align: right;\n",
       "    }\n",
       "</style>\n",
       "<table border=\"1\" class=\"dataframe\">\n",
       "  <thead>\n",
       "    <tr style=\"text-align: right;\">\n",
       "      <th></th>\n",
       "      <th>0</th>\n",
       "      <th>1</th>\n",
       "      <th>2</th>\n",
       "      <th>3</th>\n",
       "      <th>4</th>\n",
       "      <th>5</th>\n",
       "      <th>6</th>\n",
       "      <th>7</th>\n",
       "      <th>8</th>\n",
       "      <th>9</th>\n",
       "      <th>...</th>\n",
       "      <th>35</th>\n",
       "      <th>36</th>\n",
       "      <th>37</th>\n",
       "      <th>38</th>\n",
       "      <th>39</th>\n",
       "      <th>40</th>\n",
       "      <th>41</th>\n",
       "      <th>42</th>\n",
       "      <th>43</th>\n",
       "      <th>44</th>\n",
       "    </tr>\n",
       "  </thead>\n",
       "  <tbody>\n",
       "    <tr>\n",
       "      <td>0</td>\n",
       "      <td>0.0</td>\n",
       "      <td>0.0</td>\n",
       "      <td>0.0</td>\n",
       "      <td>0.0</td>\n",
       "      <td>0.0</td>\n",
       "      <td>0.0</td>\n",
       "      <td>0.0</td>\n",
       "      <td>0.0</td>\n",
       "      <td>0.0</td>\n",
       "      <td>0.0</td>\n",
       "      <td>...</td>\n",
       "      <td>0.0</td>\n",
       "      <td>0.0</td>\n",
       "      <td>0.0</td>\n",
       "      <td>0.0</td>\n",
       "      <td>0.0</td>\n",
       "      <td>0.0</td>\n",
       "      <td>0.0</td>\n",
       "      <td>0.0</td>\n",
       "      <td>0.0</td>\n",
       "      <td>1.0</td>\n",
       "    </tr>\n",
       "    <tr>\n",
       "      <td>1</td>\n",
       "      <td>0.0</td>\n",
       "      <td>0.0</td>\n",
       "      <td>0.0</td>\n",
       "      <td>0.0</td>\n",
       "      <td>0.0</td>\n",
       "      <td>0.0</td>\n",
       "      <td>0.0</td>\n",
       "      <td>0.0</td>\n",
       "      <td>0.0</td>\n",
       "      <td>0.0</td>\n",
       "      <td>...</td>\n",
       "      <td>0.0</td>\n",
       "      <td>0.0</td>\n",
       "      <td>0.0</td>\n",
       "      <td>0.0</td>\n",
       "      <td>0.0</td>\n",
       "      <td>0.0</td>\n",
       "      <td>0.0</td>\n",
       "      <td>0.0</td>\n",
       "      <td>0.0</td>\n",
       "      <td>1.0</td>\n",
       "    </tr>\n",
       "    <tr>\n",
       "      <td>2</td>\n",
       "      <td>0.0</td>\n",
       "      <td>0.0</td>\n",
       "      <td>0.0</td>\n",
       "      <td>0.0</td>\n",
       "      <td>0.0</td>\n",
       "      <td>0.0</td>\n",
       "      <td>0.0</td>\n",
       "      <td>0.0</td>\n",
       "      <td>0.0</td>\n",
       "      <td>0.0</td>\n",
       "      <td>...</td>\n",
       "      <td>0.0</td>\n",
       "      <td>0.0</td>\n",
       "      <td>0.0</td>\n",
       "      <td>0.0</td>\n",
       "      <td>0.0</td>\n",
       "      <td>0.0</td>\n",
       "      <td>0.0</td>\n",
       "      <td>0.0</td>\n",
       "      <td>0.0</td>\n",
       "      <td>1.0</td>\n",
       "    </tr>\n",
       "    <tr>\n",
       "      <td>3</td>\n",
       "      <td>0.0</td>\n",
       "      <td>0.0</td>\n",
       "      <td>0.0</td>\n",
       "      <td>0.0</td>\n",
       "      <td>0.0</td>\n",
       "      <td>0.0</td>\n",
       "      <td>0.0</td>\n",
       "      <td>0.0</td>\n",
       "      <td>0.0</td>\n",
       "      <td>0.0</td>\n",
       "      <td>...</td>\n",
       "      <td>0.0</td>\n",
       "      <td>0.0</td>\n",
       "      <td>0.0</td>\n",
       "      <td>0.0</td>\n",
       "      <td>0.0</td>\n",
       "      <td>0.0</td>\n",
       "      <td>0.0</td>\n",
       "      <td>0.0</td>\n",
       "      <td>0.0</td>\n",
       "      <td>1.0</td>\n",
       "    </tr>\n",
       "    <tr>\n",
       "      <td>4</td>\n",
       "      <td>0.0</td>\n",
       "      <td>0.0</td>\n",
       "      <td>0.0</td>\n",
       "      <td>0.0</td>\n",
       "      <td>0.0</td>\n",
       "      <td>0.0</td>\n",
       "      <td>0.0</td>\n",
       "      <td>0.0</td>\n",
       "      <td>0.0</td>\n",
       "      <td>0.0</td>\n",
       "      <td>...</td>\n",
       "      <td>0.0</td>\n",
       "      <td>0.0</td>\n",
       "      <td>0.0</td>\n",
       "      <td>0.0</td>\n",
       "      <td>0.0</td>\n",
       "      <td>0.0</td>\n",
       "      <td>0.0</td>\n",
       "      <td>0.0</td>\n",
       "      <td>0.0</td>\n",
       "      <td>1.0</td>\n",
       "    </tr>\n",
       "  </tbody>\n",
       "</table>\n",
       "<p>5 rows × 45 columns</p>\n",
       "</div>"
      ],
      "text/plain": [
       "    0    1    2    3    4    5    6    7    8    9   ...   35   36   37   38  \\\n",
       "0  0.0  0.0  0.0  0.0  0.0  0.0  0.0  0.0  0.0  0.0  ...  0.0  0.0  0.0  0.0   \n",
       "1  0.0  0.0  0.0  0.0  0.0  0.0  0.0  0.0  0.0  0.0  ...  0.0  0.0  0.0  0.0   \n",
       "2  0.0  0.0  0.0  0.0  0.0  0.0  0.0  0.0  0.0  0.0  ...  0.0  0.0  0.0  0.0   \n",
       "3  0.0  0.0  0.0  0.0  0.0  0.0  0.0  0.0  0.0  0.0  ...  0.0  0.0  0.0  0.0   \n",
       "4  0.0  0.0  0.0  0.0  0.0  0.0  0.0  0.0  0.0  0.0  ...  0.0  0.0  0.0  0.0   \n",
       "\n",
       "    39   40   41   42   43   44  \n",
       "0  0.0  0.0  0.0  0.0  0.0  1.0  \n",
       "1  0.0  0.0  0.0  0.0  0.0  1.0  \n",
       "2  0.0  0.0  0.0  0.0  0.0  1.0  \n",
       "3  0.0  0.0  0.0  0.0  0.0  1.0  \n",
       "4  0.0  0.0  0.0  0.0  0.0  1.0  \n",
       "\n",
       "[5 rows x 45 columns]"
      ]
     },
     "execution_count": 62,
     "metadata": {},
     "output_type": "execute_result"
    }
   ],
   "source": [
    "New_cat_Src_Country = pd.DataFrame(cat_Src_Country)\n",
    "New_cat_Src_Country.head()"
   ]
  },
  {
   "cell_type": "code",
   "execution_count": 63,
   "metadata": {
    "ExecuteTime": {
     "end_time": "2020-04-29T16:33:18.446464Z",
     "start_time": "2020-04-29T16:33:18.404553Z"
    }
   },
   "outputs": [
    {
     "data": {
      "text/html": [
       "<div>\n",
       "<style scoped>\n",
       "    .dataframe tbody tr th:only-of-type {\n",
       "        vertical-align: middle;\n",
       "    }\n",
       "\n",
       "    .dataframe tbody tr th {\n",
       "        vertical-align: top;\n",
       "    }\n",
       "\n",
       "    .dataframe thead th {\n",
       "        text-align: right;\n",
       "    }\n",
       "</style>\n",
       "<table border=\"1\" class=\"dataframe\">\n",
       "  <thead>\n",
       "    <tr style=\"text-align: right;\">\n",
       "      <th></th>\n",
       "      <th>x0_Austria</th>\n",
       "      <th>x0_Belarus</th>\n",
       "      <th>x0_Bulgaria</th>\n",
       "      <th>x0_Canada</th>\n",
       "      <th>x0_Chile</th>\n",
       "      <th>x0_China</th>\n",
       "      <th>x0_Czechia</th>\n",
       "      <th>x0_Ecuador</th>\n",
       "      <th>x0_Egypt</th>\n",
       "      <th>x0_Finland</th>\n",
       "      <th>...</th>\n",
       "      <th>x0_Trinidad and Tobago</th>\n",
       "      <th>x0_Uganda</th>\n",
       "      <th>x0_Ukraine</th>\n",
       "      <th>x0_United Arab Emirates</th>\n",
       "      <th>x0_United Kingdom</th>\n",
       "      <th>x0_United States</th>\n",
       "      <th>x0_Uzbekistan</th>\n",
       "      <th>x0_Venezuela</th>\n",
       "      <th>x0_Zimbabwe</th>\n",
       "      <th>x0_not_source</th>\n",
       "    </tr>\n",
       "  </thead>\n",
       "  <tbody>\n",
       "    <tr>\n",
       "      <td>0</td>\n",
       "      <td>0.0</td>\n",
       "      <td>0.0</td>\n",
       "      <td>0.0</td>\n",
       "      <td>0.0</td>\n",
       "      <td>0.0</td>\n",
       "      <td>0.0</td>\n",
       "      <td>0.0</td>\n",
       "      <td>0.0</td>\n",
       "      <td>0.0</td>\n",
       "      <td>0.0</td>\n",
       "      <td>...</td>\n",
       "      <td>0.0</td>\n",
       "      <td>0.0</td>\n",
       "      <td>0.0</td>\n",
       "      <td>0.0</td>\n",
       "      <td>0.0</td>\n",
       "      <td>0.0</td>\n",
       "      <td>0.0</td>\n",
       "      <td>0.0</td>\n",
       "      <td>0.0</td>\n",
       "      <td>1.0</td>\n",
       "    </tr>\n",
       "    <tr>\n",
       "      <td>1</td>\n",
       "      <td>0.0</td>\n",
       "      <td>0.0</td>\n",
       "      <td>0.0</td>\n",
       "      <td>0.0</td>\n",
       "      <td>0.0</td>\n",
       "      <td>0.0</td>\n",
       "      <td>0.0</td>\n",
       "      <td>0.0</td>\n",
       "      <td>0.0</td>\n",
       "      <td>0.0</td>\n",
       "      <td>...</td>\n",
       "      <td>0.0</td>\n",
       "      <td>0.0</td>\n",
       "      <td>0.0</td>\n",
       "      <td>0.0</td>\n",
       "      <td>0.0</td>\n",
       "      <td>0.0</td>\n",
       "      <td>0.0</td>\n",
       "      <td>0.0</td>\n",
       "      <td>0.0</td>\n",
       "      <td>1.0</td>\n",
       "    </tr>\n",
       "    <tr>\n",
       "      <td>2</td>\n",
       "      <td>0.0</td>\n",
       "      <td>0.0</td>\n",
       "      <td>0.0</td>\n",
       "      <td>0.0</td>\n",
       "      <td>0.0</td>\n",
       "      <td>0.0</td>\n",
       "      <td>0.0</td>\n",
       "      <td>0.0</td>\n",
       "      <td>0.0</td>\n",
       "      <td>0.0</td>\n",
       "      <td>...</td>\n",
       "      <td>0.0</td>\n",
       "      <td>0.0</td>\n",
       "      <td>0.0</td>\n",
       "      <td>0.0</td>\n",
       "      <td>0.0</td>\n",
       "      <td>0.0</td>\n",
       "      <td>0.0</td>\n",
       "      <td>0.0</td>\n",
       "      <td>0.0</td>\n",
       "      <td>1.0</td>\n",
       "    </tr>\n",
       "    <tr>\n",
       "      <td>3</td>\n",
       "      <td>0.0</td>\n",
       "      <td>0.0</td>\n",
       "      <td>0.0</td>\n",
       "      <td>0.0</td>\n",
       "      <td>0.0</td>\n",
       "      <td>0.0</td>\n",
       "      <td>0.0</td>\n",
       "      <td>0.0</td>\n",
       "      <td>0.0</td>\n",
       "      <td>0.0</td>\n",
       "      <td>...</td>\n",
       "      <td>0.0</td>\n",
       "      <td>0.0</td>\n",
       "      <td>0.0</td>\n",
       "      <td>0.0</td>\n",
       "      <td>0.0</td>\n",
       "      <td>0.0</td>\n",
       "      <td>0.0</td>\n",
       "      <td>0.0</td>\n",
       "      <td>0.0</td>\n",
       "      <td>1.0</td>\n",
       "    </tr>\n",
       "    <tr>\n",
       "      <td>4</td>\n",
       "      <td>0.0</td>\n",
       "      <td>0.0</td>\n",
       "      <td>0.0</td>\n",
       "      <td>0.0</td>\n",
       "      <td>0.0</td>\n",
       "      <td>0.0</td>\n",
       "      <td>0.0</td>\n",
       "      <td>0.0</td>\n",
       "      <td>0.0</td>\n",
       "      <td>0.0</td>\n",
       "      <td>...</td>\n",
       "      <td>0.0</td>\n",
       "      <td>0.0</td>\n",
       "      <td>0.0</td>\n",
       "      <td>0.0</td>\n",
       "      <td>0.0</td>\n",
       "      <td>0.0</td>\n",
       "      <td>0.0</td>\n",
       "      <td>0.0</td>\n",
       "      <td>0.0</td>\n",
       "      <td>1.0</td>\n",
       "    </tr>\n",
       "  </tbody>\n",
       "</table>\n",
       "<p>5 rows × 45 columns</p>\n",
       "</div>"
      ],
      "text/plain": [
       "   x0_Austria  x0_Belarus  x0_Bulgaria  x0_Canada  x0_Chile  x0_China  \\\n",
       "0         0.0         0.0          0.0        0.0       0.0       0.0   \n",
       "1         0.0         0.0          0.0        0.0       0.0       0.0   \n",
       "2         0.0         0.0          0.0        0.0       0.0       0.0   \n",
       "3         0.0         0.0          0.0        0.0       0.0       0.0   \n",
       "4         0.0         0.0          0.0        0.0       0.0       0.0   \n",
       "\n",
       "   x0_Czechia  x0_Ecuador  x0_Egypt  x0_Finland  ...  x0_Trinidad and Tobago  \\\n",
       "0         0.0         0.0       0.0         0.0  ...                     0.0   \n",
       "1         0.0         0.0       0.0         0.0  ...                     0.0   \n",
       "2         0.0         0.0       0.0         0.0  ...                     0.0   \n",
       "3         0.0         0.0       0.0         0.0  ...                     0.0   \n",
       "4         0.0         0.0       0.0         0.0  ...                     0.0   \n",
       "\n",
       "   x0_Uganda  x0_Ukraine  x0_United Arab Emirates  x0_United Kingdom  \\\n",
       "0        0.0         0.0                      0.0                0.0   \n",
       "1        0.0         0.0                      0.0                0.0   \n",
       "2        0.0         0.0                      0.0                0.0   \n",
       "3        0.0         0.0                      0.0                0.0   \n",
       "4        0.0         0.0                      0.0                0.0   \n",
       "\n",
       "   x0_United States  x0_Uzbekistan  x0_Venezuela  x0_Zimbabwe  x0_not_source  \n",
       "0               0.0            0.0           0.0          0.0            1.0  \n",
       "1               0.0            0.0           0.0          0.0            1.0  \n",
       "2               0.0            0.0           0.0          0.0            1.0  \n",
       "3               0.0            0.0           0.0          0.0            1.0  \n",
       "4               0.0            0.0           0.0          0.0            1.0  \n",
       "\n",
       "[5 rows x 45 columns]"
      ]
     },
     "execution_count": 63,
     "metadata": {},
     "output_type": "execute_result"
    }
   ],
   "source": [
    "enc_Src_Country.get_feature_names()\n",
    "New_cat_Src_Country.columns = enc_Src_Country.get_feature_names()\n",
    "New_cat_Src_Country.head()"
   ]
  },
  {
   "cell_type": "code",
   "execution_count": 64,
   "metadata": {
    "ExecuteTime": {
     "end_time": "2020-04-29T16:33:19.243307Z",
     "start_time": "2020-04-29T16:33:18.448481Z"
    },
    "scrolled": true
   },
   "outputs": [
    {
     "data": {
      "text/html": [
       "<div>\n",
       "<style scoped>\n",
       "    .dataframe tbody tr th:only-of-type {\n",
       "        vertical-align: middle;\n",
       "    }\n",
       "\n",
       "    .dataframe tbody tr th {\n",
       "        vertical-align: top;\n",
       "    }\n",
       "\n",
       "    .dataframe thead th {\n",
       "        text-align: right;\n",
       "    }\n",
       "</style>\n",
       "<table border=\"1\" class=\"dataframe\">\n",
       "  <thead>\n",
       "    <tr style=\"text-align: right;\">\n",
       "      <th></th>\n",
       "      <th>Austria</th>\n",
       "      <th>Belarus</th>\n",
       "      <th>Bulgaria</th>\n",
       "      <th>Canada</th>\n",
       "      <th>Chile</th>\n",
       "      <th>China</th>\n",
       "      <th>Czechia</th>\n",
       "      <th>Ecuador</th>\n",
       "      <th>Egypt</th>\n",
       "      <th>Finland</th>\n",
       "      <th>...</th>\n",
       "      <th>Trinidad and Tobago</th>\n",
       "      <th>Uganda</th>\n",
       "      <th>Ukraine</th>\n",
       "      <th>United Arab Emirates</th>\n",
       "      <th>United Kingdom</th>\n",
       "      <th>United States</th>\n",
       "      <th>Uzbekistan</th>\n",
       "      <th>Venezuela</th>\n",
       "      <th>Zimbabwe</th>\n",
       "      <th>not_source</th>\n",
       "    </tr>\n",
       "  </thead>\n",
       "  <tbody>\n",
       "    <tr>\n",
       "      <td>0</td>\n",
       "      <td>0.0</td>\n",
       "      <td>0.0</td>\n",
       "      <td>0.0</td>\n",
       "      <td>0.0</td>\n",
       "      <td>0.0</td>\n",
       "      <td>0.0</td>\n",
       "      <td>0.0</td>\n",
       "      <td>0.0</td>\n",
       "      <td>0.0</td>\n",
       "      <td>0.0</td>\n",
       "      <td>...</td>\n",
       "      <td>0.0</td>\n",
       "      <td>0.0</td>\n",
       "      <td>0.0</td>\n",
       "      <td>0.0</td>\n",
       "      <td>0.0</td>\n",
       "      <td>0.0</td>\n",
       "      <td>0.0</td>\n",
       "      <td>0.0</td>\n",
       "      <td>0.0</td>\n",
       "      <td>1.0</td>\n",
       "    </tr>\n",
       "    <tr>\n",
       "      <td>1</td>\n",
       "      <td>0.0</td>\n",
       "      <td>0.0</td>\n",
       "      <td>0.0</td>\n",
       "      <td>0.0</td>\n",
       "      <td>0.0</td>\n",
       "      <td>0.0</td>\n",
       "      <td>0.0</td>\n",
       "      <td>0.0</td>\n",
       "      <td>0.0</td>\n",
       "      <td>0.0</td>\n",
       "      <td>...</td>\n",
       "      <td>0.0</td>\n",
       "      <td>0.0</td>\n",
       "      <td>0.0</td>\n",
       "      <td>0.0</td>\n",
       "      <td>0.0</td>\n",
       "      <td>0.0</td>\n",
       "      <td>0.0</td>\n",
       "      <td>0.0</td>\n",
       "      <td>0.0</td>\n",
       "      <td>1.0</td>\n",
       "    </tr>\n",
       "    <tr>\n",
       "      <td>2</td>\n",
       "      <td>0.0</td>\n",
       "      <td>0.0</td>\n",
       "      <td>0.0</td>\n",
       "      <td>0.0</td>\n",
       "      <td>0.0</td>\n",
       "      <td>0.0</td>\n",
       "      <td>0.0</td>\n",
       "      <td>0.0</td>\n",
       "      <td>0.0</td>\n",
       "      <td>0.0</td>\n",
       "      <td>...</td>\n",
       "      <td>0.0</td>\n",
       "      <td>0.0</td>\n",
       "      <td>0.0</td>\n",
       "      <td>0.0</td>\n",
       "      <td>0.0</td>\n",
       "      <td>0.0</td>\n",
       "      <td>0.0</td>\n",
       "      <td>0.0</td>\n",
       "      <td>0.0</td>\n",
       "      <td>1.0</td>\n",
       "    </tr>\n",
       "    <tr>\n",
       "      <td>3</td>\n",
       "      <td>0.0</td>\n",
       "      <td>0.0</td>\n",
       "      <td>0.0</td>\n",
       "      <td>0.0</td>\n",
       "      <td>0.0</td>\n",
       "      <td>0.0</td>\n",
       "      <td>0.0</td>\n",
       "      <td>0.0</td>\n",
       "      <td>0.0</td>\n",
       "      <td>0.0</td>\n",
       "      <td>...</td>\n",
       "      <td>0.0</td>\n",
       "      <td>0.0</td>\n",
       "      <td>0.0</td>\n",
       "      <td>0.0</td>\n",
       "      <td>0.0</td>\n",
       "      <td>0.0</td>\n",
       "      <td>0.0</td>\n",
       "      <td>0.0</td>\n",
       "      <td>0.0</td>\n",
       "      <td>1.0</td>\n",
       "    </tr>\n",
       "    <tr>\n",
       "      <td>4</td>\n",
       "      <td>0.0</td>\n",
       "      <td>0.0</td>\n",
       "      <td>0.0</td>\n",
       "      <td>0.0</td>\n",
       "      <td>0.0</td>\n",
       "      <td>0.0</td>\n",
       "      <td>0.0</td>\n",
       "      <td>0.0</td>\n",
       "      <td>0.0</td>\n",
       "      <td>0.0</td>\n",
       "      <td>...</td>\n",
       "      <td>0.0</td>\n",
       "      <td>0.0</td>\n",
       "      <td>0.0</td>\n",
       "      <td>0.0</td>\n",
       "      <td>0.0</td>\n",
       "      <td>0.0</td>\n",
       "      <td>0.0</td>\n",
       "      <td>0.0</td>\n",
       "      <td>0.0</td>\n",
       "      <td>1.0</td>\n",
       "    </tr>\n",
       "    <tr>\n",
       "      <td>...</td>\n",
       "      <td>...</td>\n",
       "      <td>...</td>\n",
       "      <td>...</td>\n",
       "      <td>...</td>\n",
       "      <td>...</td>\n",
       "      <td>...</td>\n",
       "      <td>...</td>\n",
       "      <td>...</td>\n",
       "      <td>...</td>\n",
       "      <td>...</td>\n",
       "      <td>...</td>\n",
       "      <td>...</td>\n",
       "      <td>...</td>\n",
       "      <td>...</td>\n",
       "      <td>...</td>\n",
       "      <td>...</td>\n",
       "      <td>...</td>\n",
       "      <td>...</td>\n",
       "      <td>...</td>\n",
       "      <td>...</td>\n",
       "      <td>...</td>\n",
       "    </tr>\n",
       "    <tr>\n",
       "      <td>1299085</td>\n",
       "      <td>0.0</td>\n",
       "      <td>0.0</td>\n",
       "      <td>0.0</td>\n",
       "      <td>0.0</td>\n",
       "      <td>0.0</td>\n",
       "      <td>0.0</td>\n",
       "      <td>0.0</td>\n",
       "      <td>0.0</td>\n",
       "      <td>0.0</td>\n",
       "      <td>0.0</td>\n",
       "      <td>...</td>\n",
       "      <td>0.0</td>\n",
       "      <td>0.0</td>\n",
       "      <td>0.0</td>\n",
       "      <td>0.0</td>\n",
       "      <td>0.0</td>\n",
       "      <td>0.0</td>\n",
       "      <td>0.0</td>\n",
       "      <td>0.0</td>\n",
       "      <td>0.0</td>\n",
       "      <td>1.0</td>\n",
       "    </tr>\n",
       "    <tr>\n",
       "      <td>1299086</td>\n",
       "      <td>0.0</td>\n",
       "      <td>0.0</td>\n",
       "      <td>0.0</td>\n",
       "      <td>0.0</td>\n",
       "      <td>0.0</td>\n",
       "      <td>0.0</td>\n",
       "      <td>1.0</td>\n",
       "      <td>0.0</td>\n",
       "      <td>0.0</td>\n",
       "      <td>0.0</td>\n",
       "      <td>...</td>\n",
       "      <td>0.0</td>\n",
       "      <td>0.0</td>\n",
       "      <td>0.0</td>\n",
       "      <td>0.0</td>\n",
       "      <td>0.0</td>\n",
       "      <td>0.0</td>\n",
       "      <td>0.0</td>\n",
       "      <td>0.0</td>\n",
       "      <td>0.0</td>\n",
       "      <td>0.0</td>\n",
       "    </tr>\n",
       "    <tr>\n",
       "      <td>1299087</td>\n",
       "      <td>0.0</td>\n",
       "      <td>0.0</td>\n",
       "      <td>0.0</td>\n",
       "      <td>0.0</td>\n",
       "      <td>0.0</td>\n",
       "      <td>0.0</td>\n",
       "      <td>0.0</td>\n",
       "      <td>0.0</td>\n",
       "      <td>0.0</td>\n",
       "      <td>0.0</td>\n",
       "      <td>...</td>\n",
       "      <td>0.0</td>\n",
       "      <td>0.0</td>\n",
       "      <td>0.0</td>\n",
       "      <td>0.0</td>\n",
       "      <td>0.0</td>\n",
       "      <td>0.0</td>\n",
       "      <td>0.0</td>\n",
       "      <td>0.0</td>\n",
       "      <td>0.0</td>\n",
       "      <td>1.0</td>\n",
       "    </tr>\n",
       "    <tr>\n",
       "      <td>1299088</td>\n",
       "      <td>0.0</td>\n",
       "      <td>0.0</td>\n",
       "      <td>0.0</td>\n",
       "      <td>0.0</td>\n",
       "      <td>0.0</td>\n",
       "      <td>0.0</td>\n",
       "      <td>0.0</td>\n",
       "      <td>0.0</td>\n",
       "      <td>0.0</td>\n",
       "      <td>0.0</td>\n",
       "      <td>...</td>\n",
       "      <td>0.0</td>\n",
       "      <td>0.0</td>\n",
       "      <td>0.0</td>\n",
       "      <td>0.0</td>\n",
       "      <td>0.0</td>\n",
       "      <td>0.0</td>\n",
       "      <td>0.0</td>\n",
       "      <td>0.0</td>\n",
       "      <td>0.0</td>\n",
       "      <td>1.0</td>\n",
       "    </tr>\n",
       "    <tr>\n",
       "      <td>1299089</td>\n",
       "      <td>0.0</td>\n",
       "      <td>0.0</td>\n",
       "      <td>0.0</td>\n",
       "      <td>0.0</td>\n",
       "      <td>0.0</td>\n",
       "      <td>0.0</td>\n",
       "      <td>0.0</td>\n",
       "      <td>0.0</td>\n",
       "      <td>0.0</td>\n",
       "      <td>0.0</td>\n",
       "      <td>...</td>\n",
       "      <td>0.0</td>\n",
       "      <td>0.0</td>\n",
       "      <td>0.0</td>\n",
       "      <td>0.0</td>\n",
       "      <td>0.0</td>\n",
       "      <td>0.0</td>\n",
       "      <td>0.0</td>\n",
       "      <td>0.0</td>\n",
       "      <td>0.0</td>\n",
       "      <td>1.0</td>\n",
       "    </tr>\n",
       "  </tbody>\n",
       "</table>\n",
       "<p>1299090 rows × 45 columns</p>\n",
       "</div>"
      ],
      "text/plain": [
       "         Austria  Belarus  Bulgaria  Canada  Chile  China  Czechia  Ecuador  \\\n",
       "0            0.0      0.0       0.0     0.0    0.0    0.0      0.0      0.0   \n",
       "1            0.0      0.0       0.0     0.0    0.0    0.0      0.0      0.0   \n",
       "2            0.0      0.0       0.0     0.0    0.0    0.0      0.0      0.0   \n",
       "3            0.0      0.0       0.0     0.0    0.0    0.0      0.0      0.0   \n",
       "4            0.0      0.0       0.0     0.0    0.0    0.0      0.0      0.0   \n",
       "...          ...      ...       ...     ...    ...    ...      ...      ...   \n",
       "1299085      0.0      0.0       0.0     0.0    0.0    0.0      0.0      0.0   \n",
       "1299086      0.0      0.0       0.0     0.0    0.0    0.0      1.0      0.0   \n",
       "1299087      0.0      0.0       0.0     0.0    0.0    0.0      0.0      0.0   \n",
       "1299088      0.0      0.0       0.0     0.0    0.0    0.0      0.0      0.0   \n",
       "1299089      0.0      0.0       0.0     0.0    0.0    0.0      0.0      0.0   \n",
       "\n",
       "         Egypt  Finland  ...  Trinidad and Tobago  Uganda  Ukraine  \\\n",
       "0          0.0      0.0  ...                  0.0     0.0      0.0   \n",
       "1          0.0      0.0  ...                  0.0     0.0      0.0   \n",
       "2          0.0      0.0  ...                  0.0     0.0      0.0   \n",
       "3          0.0      0.0  ...                  0.0     0.0      0.0   \n",
       "4          0.0      0.0  ...                  0.0     0.0      0.0   \n",
       "...        ...      ...  ...                  ...     ...      ...   \n",
       "1299085    0.0      0.0  ...                  0.0     0.0      0.0   \n",
       "1299086    0.0      0.0  ...                  0.0     0.0      0.0   \n",
       "1299087    0.0      0.0  ...                  0.0     0.0      0.0   \n",
       "1299088    0.0      0.0  ...                  0.0     0.0      0.0   \n",
       "1299089    0.0      0.0  ...                  0.0     0.0      0.0   \n",
       "\n",
       "         United Arab Emirates  United Kingdom  United States  Uzbekistan  \\\n",
       "0                         0.0             0.0            0.0         0.0   \n",
       "1                         0.0             0.0            0.0         0.0   \n",
       "2                         0.0             0.0            0.0         0.0   \n",
       "3                         0.0             0.0            0.0         0.0   \n",
       "4                         0.0             0.0            0.0         0.0   \n",
       "...                       ...             ...            ...         ...   \n",
       "1299085                   0.0             0.0            0.0         0.0   \n",
       "1299086                   0.0             0.0            0.0         0.0   \n",
       "1299087                   0.0             0.0            0.0         0.0   \n",
       "1299088                   0.0             0.0            0.0         0.0   \n",
       "1299089                   0.0             0.0            0.0         0.0   \n",
       "\n",
       "         Venezuela  Zimbabwe  not_source  \n",
       "0              0.0       0.0         1.0  \n",
       "1              0.0       0.0         1.0  \n",
       "2              0.0       0.0         1.0  \n",
       "3              0.0       0.0         1.0  \n",
       "4              0.0       0.0         1.0  \n",
       "...            ...       ...         ...  \n",
       "1299085        0.0       0.0         1.0  \n",
       "1299086        0.0       0.0         0.0  \n",
       "1299087        0.0       0.0         1.0  \n",
       "1299088        0.0       0.0         1.0  \n",
       "1299089        0.0       0.0         1.0  \n",
       "\n",
       "[1299090 rows x 45 columns]"
      ]
     },
     "execution_count": 64,
     "metadata": {},
     "output_type": "execute_result"
    }
   ],
   "source": [
    "# Removing the first 3 characters from each column name.  Not sure why it does those x0_ characters in front.  \n",
    "New_cat_Src_Country.columns = New_cat_Src_Country.columns.str[3:]\n",
    "New_cat_Src_Country"
   ]
  },
  {
   "cell_type": "code",
   "execution_count": 65,
   "metadata": {
    "ExecuteTime": {
     "end_time": "2020-04-29T16:33:19.527550Z",
     "start_time": "2020-04-29T16:33:19.245304Z"
    }
   },
   "outputs": [],
   "source": [
    "New_cat_Src_Country = New_cat_Src_Country.drop(columns=['not_source'],axis=1)"
   ]
  },
  {
   "cell_type": "code",
   "execution_count": 66,
   "metadata": {
    "ExecuteTime": {
     "end_time": "2020-04-29T16:33:21.062444Z",
     "start_time": "2020-04-29T16:33:19.529558Z"
    },
    "scrolled": true
   },
   "outputs": [],
   "source": [
    "New_cat_Src_Country=pd.merge(New_cat_Src_City, New_cat_Src_Country, right_index=True,left_index=True)"
   ]
  },
  {
   "cell_type": "code",
   "execution_count": 67,
   "metadata": {
    "ExecuteTime": {
     "end_time": "2020-04-29T16:33:24.507233Z",
     "start_time": "2020-04-29T16:33:21.064438Z"
    }
   },
   "outputs": [],
   "source": [
    "New_cat_Src_Country = New_cat_Src_Country.drop(columns=['Flow_Start', 'Duration', 'Protocol', 'Flags', 'Type_of_Service', 'Packets',\n",
    " 'Bytes', 'Source_IP', 'Source_Port', 'Destination_IP', 'Destination_Port',\n",
    " 'Label'],axis=1)"
   ]
  },
  {
   "cell_type": "code",
   "execution_count": 68,
   "metadata": {
    "ExecuteTime": {
     "end_time": "2020-04-29T16:33:24.523190Z",
     "start_time": "2020-04-29T16:33:24.517206Z"
    },
    "scrolled": false
   },
   "outputs": [
    {
     "name": "stdout",
     "output_type": "stream",
     "text": [
      "['Alameda' 'Almaty' 'Amsterdam' 'Arichuna' 'Asunción' 'Bangkok' 'Bayamón'\n",
      " 'Beijing' 'Brest' 'Budapest' 'Cairo' 'Caracas' 'Casablanca' 'Central'\n",
      " 'Chikmagalūr' 'Chodzież' 'Dallas' 'Dimitrovgrad' 'Dnipro' 'Ernakulam'\n",
      " 'Gomel' 'Gomez Palacio' 'Guiyang' 'Harare' 'Hermes' 'Hermosillo' 'Iași'\n",
      " 'Islamabad' 'Ixtapaluca' 'Karachi' 'Kasur' 'Kharkiv' 'Kiev' 'Kolkata'\n",
      " 'Kunming' 'Kyoto' 'Lahti' 'Lancaster' 'Lviv' 'Macul' 'Mancherial' 'Minsk'\n",
      " 'Mogilev' 'Mogoi' 'Moscow' 'Mumbai' 'Murcia' 'Nagar' 'Nagpur' 'Nanjing'\n",
      " 'New Delhi' 'None_x' 'Odesa' 'Olsztyn' 'Paris' 'Paços de Ferreira'\n",
      " 'Port of Spain' 'Prague' 'Quito' 'Redmond' 'Santa Isabel' 'Shaoxing'\n",
      " 'Sunnyvale' 'Tainan City' 'Taipei' 'Taiyuan' 'Una' 'Washington' 'Xuzhou'\n",
      " 'Zhengzhou' 'Épinay-sur-Seine' 'Ürümqi' 'Austria' 'Belarus' 'Bulgaria'\n",
      " 'Canada' 'Chile' 'China' 'Czechia' 'Ecuador' 'Egypt' 'Finland' 'France'\n",
      " 'Hong Kong' 'Hungary' 'India' 'Indonesia' 'Iran' 'Japan' 'Kazakhstan'\n",
      " 'Luxembourg' 'Malaysia' 'Mexico' 'Morocco' 'Netherlands' 'None_y'\n",
      " 'Pakistan' 'Paraguay' 'Poland' 'Portugal' 'Puerto Rico'\n",
      " 'Republic of Lithuania' 'Romania' 'Russia' 'Spain' 'Taiwan' 'Thailand'\n",
      " 'Trinidad and Tobago' 'Uganda' 'Ukraine' 'United Arab Emirates'\n",
      " 'United Kingdom' 'United States' 'Uzbekistan' 'Venezuela' 'Zimbabwe']\n"
     ]
    }
   ],
   "source": [
    "print(New_cat_Src_Country.columns.values)"
   ]
  },
  {
   "cell_type": "code",
   "execution_count": 69,
   "metadata": {
    "ExecuteTime": {
     "end_time": "2020-04-29T16:33:25.141977Z",
     "start_time": "2020-04-29T16:33:24.528177Z"
    },
    "scrolled": true
   },
   "outputs": [
    {
     "data": {
      "text/html": [
       "<div>\n",
       "<style scoped>\n",
       "    .dataframe tbody tr th:only-of-type {\n",
       "        vertical-align: middle;\n",
       "    }\n",
       "\n",
       "    .dataframe tbody tr th {\n",
       "        vertical-align: top;\n",
       "    }\n",
       "\n",
       "    .dataframe thead th {\n",
       "        text-align: right;\n",
       "    }\n",
       "</style>\n",
       "<table border=\"1\" class=\"dataframe\">\n",
       "  <thead>\n",
       "    <tr style=\"text-align: right;\">\n",
       "      <th></th>\n",
       "      <th>Alameda</th>\n",
       "      <th>Almaty</th>\n",
       "      <th>Amsterdam</th>\n",
       "      <th>Arichuna</th>\n",
       "      <th>Asunción</th>\n",
       "      <th>Bangkok</th>\n",
       "      <th>Bayamón</th>\n",
       "      <th>Beijing</th>\n",
       "      <th>Brest</th>\n",
       "      <th>Budapest</th>\n",
       "      <th>...</th>\n",
       "      <th>Thailand</th>\n",
       "      <th>Trinidad and Tobago</th>\n",
       "      <th>Uganda</th>\n",
       "      <th>Ukraine</th>\n",
       "      <th>United Arab Emirates</th>\n",
       "      <th>United Kingdom</th>\n",
       "      <th>United States</th>\n",
       "      <th>Uzbekistan</th>\n",
       "      <th>Venezuela</th>\n",
       "      <th>Zimbabwe</th>\n",
       "    </tr>\n",
       "  </thead>\n",
       "  <tbody>\n",
       "    <tr>\n",
       "      <td>0</td>\n",
       "      <td>0.0</td>\n",
       "      <td>0.0</td>\n",
       "      <td>0.0</td>\n",
       "      <td>0.0</td>\n",
       "      <td>0.0</td>\n",
       "      <td>0.0</td>\n",
       "      <td>0.0</td>\n",
       "      <td>0.0</td>\n",
       "      <td>0.0</td>\n",
       "      <td>0.0</td>\n",
       "      <td>...</td>\n",
       "      <td>0.0</td>\n",
       "      <td>0.0</td>\n",
       "      <td>0.0</td>\n",
       "      <td>0.0</td>\n",
       "      <td>0.0</td>\n",
       "      <td>0.0</td>\n",
       "      <td>0.0</td>\n",
       "      <td>0.0</td>\n",
       "      <td>0.0</td>\n",
       "      <td>0.0</td>\n",
       "    </tr>\n",
       "    <tr>\n",
       "      <td>1</td>\n",
       "      <td>0.0</td>\n",
       "      <td>0.0</td>\n",
       "      <td>0.0</td>\n",
       "      <td>0.0</td>\n",
       "      <td>0.0</td>\n",
       "      <td>0.0</td>\n",
       "      <td>0.0</td>\n",
       "      <td>0.0</td>\n",
       "      <td>0.0</td>\n",
       "      <td>0.0</td>\n",
       "      <td>...</td>\n",
       "      <td>0.0</td>\n",
       "      <td>0.0</td>\n",
       "      <td>0.0</td>\n",
       "      <td>0.0</td>\n",
       "      <td>0.0</td>\n",
       "      <td>0.0</td>\n",
       "      <td>0.0</td>\n",
       "      <td>0.0</td>\n",
       "      <td>0.0</td>\n",
       "      <td>0.0</td>\n",
       "    </tr>\n",
       "    <tr>\n",
       "      <td>2</td>\n",
       "      <td>0.0</td>\n",
       "      <td>0.0</td>\n",
       "      <td>0.0</td>\n",
       "      <td>0.0</td>\n",
       "      <td>0.0</td>\n",
       "      <td>0.0</td>\n",
       "      <td>0.0</td>\n",
       "      <td>0.0</td>\n",
       "      <td>0.0</td>\n",
       "      <td>0.0</td>\n",
       "      <td>...</td>\n",
       "      <td>0.0</td>\n",
       "      <td>0.0</td>\n",
       "      <td>0.0</td>\n",
       "      <td>0.0</td>\n",
       "      <td>0.0</td>\n",
       "      <td>0.0</td>\n",
       "      <td>0.0</td>\n",
       "      <td>0.0</td>\n",
       "      <td>0.0</td>\n",
       "      <td>0.0</td>\n",
       "    </tr>\n",
       "    <tr>\n",
       "      <td>3</td>\n",
       "      <td>0.0</td>\n",
       "      <td>0.0</td>\n",
       "      <td>0.0</td>\n",
       "      <td>0.0</td>\n",
       "      <td>0.0</td>\n",
       "      <td>0.0</td>\n",
       "      <td>0.0</td>\n",
       "      <td>0.0</td>\n",
       "      <td>0.0</td>\n",
       "      <td>0.0</td>\n",
       "      <td>...</td>\n",
       "      <td>0.0</td>\n",
       "      <td>0.0</td>\n",
       "      <td>0.0</td>\n",
       "      <td>0.0</td>\n",
       "      <td>0.0</td>\n",
       "      <td>0.0</td>\n",
       "      <td>0.0</td>\n",
       "      <td>0.0</td>\n",
       "      <td>0.0</td>\n",
       "      <td>0.0</td>\n",
       "    </tr>\n",
       "    <tr>\n",
       "      <td>4</td>\n",
       "      <td>0.0</td>\n",
       "      <td>0.0</td>\n",
       "      <td>0.0</td>\n",
       "      <td>0.0</td>\n",
       "      <td>0.0</td>\n",
       "      <td>0.0</td>\n",
       "      <td>0.0</td>\n",
       "      <td>0.0</td>\n",
       "      <td>0.0</td>\n",
       "      <td>0.0</td>\n",
       "      <td>...</td>\n",
       "      <td>0.0</td>\n",
       "      <td>0.0</td>\n",
       "      <td>0.0</td>\n",
       "      <td>0.0</td>\n",
       "      <td>0.0</td>\n",
       "      <td>0.0</td>\n",
       "      <td>0.0</td>\n",
       "      <td>0.0</td>\n",
       "      <td>0.0</td>\n",
       "      <td>0.0</td>\n",
       "    </tr>\n",
       "    <tr>\n",
       "      <td>...</td>\n",
       "      <td>...</td>\n",
       "      <td>...</td>\n",
       "      <td>...</td>\n",
       "      <td>...</td>\n",
       "      <td>...</td>\n",
       "      <td>...</td>\n",
       "      <td>...</td>\n",
       "      <td>...</td>\n",
       "      <td>...</td>\n",
       "      <td>...</td>\n",
       "      <td>...</td>\n",
       "      <td>...</td>\n",
       "      <td>...</td>\n",
       "      <td>...</td>\n",
       "      <td>...</td>\n",
       "      <td>...</td>\n",
       "      <td>...</td>\n",
       "      <td>...</td>\n",
       "      <td>...</td>\n",
       "      <td>...</td>\n",
       "      <td>...</td>\n",
       "    </tr>\n",
       "    <tr>\n",
       "      <td>1299085</td>\n",
       "      <td>0.0</td>\n",
       "      <td>0.0</td>\n",
       "      <td>0.0</td>\n",
       "      <td>0.0</td>\n",
       "      <td>0.0</td>\n",
       "      <td>0.0</td>\n",
       "      <td>0.0</td>\n",
       "      <td>0.0</td>\n",
       "      <td>0.0</td>\n",
       "      <td>0.0</td>\n",
       "      <td>...</td>\n",
       "      <td>0.0</td>\n",
       "      <td>0.0</td>\n",
       "      <td>0.0</td>\n",
       "      <td>0.0</td>\n",
       "      <td>0.0</td>\n",
       "      <td>0.0</td>\n",
       "      <td>0.0</td>\n",
       "      <td>0.0</td>\n",
       "      <td>0.0</td>\n",
       "      <td>0.0</td>\n",
       "    </tr>\n",
       "    <tr>\n",
       "      <td>1299086</td>\n",
       "      <td>0.0</td>\n",
       "      <td>0.0</td>\n",
       "      <td>0.0</td>\n",
       "      <td>0.0</td>\n",
       "      <td>0.0</td>\n",
       "      <td>0.0</td>\n",
       "      <td>0.0</td>\n",
       "      <td>0.0</td>\n",
       "      <td>0.0</td>\n",
       "      <td>0.0</td>\n",
       "      <td>...</td>\n",
       "      <td>0.0</td>\n",
       "      <td>0.0</td>\n",
       "      <td>0.0</td>\n",
       "      <td>0.0</td>\n",
       "      <td>0.0</td>\n",
       "      <td>0.0</td>\n",
       "      <td>0.0</td>\n",
       "      <td>0.0</td>\n",
       "      <td>0.0</td>\n",
       "      <td>0.0</td>\n",
       "    </tr>\n",
       "    <tr>\n",
       "      <td>1299087</td>\n",
       "      <td>0.0</td>\n",
       "      <td>0.0</td>\n",
       "      <td>0.0</td>\n",
       "      <td>0.0</td>\n",
       "      <td>0.0</td>\n",
       "      <td>0.0</td>\n",
       "      <td>0.0</td>\n",
       "      <td>0.0</td>\n",
       "      <td>0.0</td>\n",
       "      <td>0.0</td>\n",
       "      <td>...</td>\n",
       "      <td>0.0</td>\n",
       "      <td>0.0</td>\n",
       "      <td>0.0</td>\n",
       "      <td>0.0</td>\n",
       "      <td>0.0</td>\n",
       "      <td>0.0</td>\n",
       "      <td>0.0</td>\n",
       "      <td>0.0</td>\n",
       "      <td>0.0</td>\n",
       "      <td>0.0</td>\n",
       "    </tr>\n",
       "    <tr>\n",
       "      <td>1299088</td>\n",
       "      <td>0.0</td>\n",
       "      <td>0.0</td>\n",
       "      <td>0.0</td>\n",
       "      <td>0.0</td>\n",
       "      <td>0.0</td>\n",
       "      <td>0.0</td>\n",
       "      <td>0.0</td>\n",
       "      <td>0.0</td>\n",
       "      <td>0.0</td>\n",
       "      <td>0.0</td>\n",
       "      <td>...</td>\n",
       "      <td>0.0</td>\n",
       "      <td>0.0</td>\n",
       "      <td>0.0</td>\n",
       "      <td>0.0</td>\n",
       "      <td>0.0</td>\n",
       "      <td>0.0</td>\n",
       "      <td>0.0</td>\n",
       "      <td>0.0</td>\n",
       "      <td>0.0</td>\n",
       "      <td>0.0</td>\n",
       "    </tr>\n",
       "    <tr>\n",
       "      <td>1299089</td>\n",
       "      <td>0.0</td>\n",
       "      <td>0.0</td>\n",
       "      <td>0.0</td>\n",
       "      <td>0.0</td>\n",
       "      <td>0.0</td>\n",
       "      <td>0.0</td>\n",
       "      <td>0.0</td>\n",
       "      <td>0.0</td>\n",
       "      <td>0.0</td>\n",
       "      <td>0.0</td>\n",
       "      <td>...</td>\n",
       "      <td>0.0</td>\n",
       "      <td>0.0</td>\n",
       "      <td>0.0</td>\n",
       "      <td>0.0</td>\n",
       "      <td>0.0</td>\n",
       "      <td>0.0</td>\n",
       "      <td>0.0</td>\n",
       "      <td>0.0</td>\n",
       "      <td>0.0</td>\n",
       "      <td>0.0</td>\n",
       "    </tr>\n",
       "  </tbody>\n",
       "</table>\n",
       "<p>1299090 rows × 116 columns</p>\n",
       "</div>"
      ],
      "text/plain": [
       "         Alameda  Almaty  Amsterdam  Arichuna  Asunción  Bangkok  Bayamón  \\\n",
       "0            0.0     0.0        0.0       0.0       0.0      0.0      0.0   \n",
       "1            0.0     0.0        0.0       0.0       0.0      0.0      0.0   \n",
       "2            0.0     0.0        0.0       0.0       0.0      0.0      0.0   \n",
       "3            0.0     0.0        0.0       0.0       0.0      0.0      0.0   \n",
       "4            0.0     0.0        0.0       0.0       0.0      0.0      0.0   \n",
       "...          ...     ...        ...       ...       ...      ...      ...   \n",
       "1299085      0.0     0.0        0.0       0.0       0.0      0.0      0.0   \n",
       "1299086      0.0     0.0        0.0       0.0       0.0      0.0      0.0   \n",
       "1299087      0.0     0.0        0.0       0.0       0.0      0.0      0.0   \n",
       "1299088      0.0     0.0        0.0       0.0       0.0      0.0      0.0   \n",
       "1299089      0.0     0.0        0.0       0.0       0.0      0.0      0.0   \n",
       "\n",
       "         Beijing  Brest  Budapest  ...  Thailand  Trinidad and Tobago  Uganda  \\\n",
       "0            0.0    0.0       0.0  ...       0.0                  0.0     0.0   \n",
       "1            0.0    0.0       0.0  ...       0.0                  0.0     0.0   \n",
       "2            0.0    0.0       0.0  ...       0.0                  0.0     0.0   \n",
       "3            0.0    0.0       0.0  ...       0.0                  0.0     0.0   \n",
       "4            0.0    0.0       0.0  ...       0.0                  0.0     0.0   \n",
       "...          ...    ...       ...  ...       ...                  ...     ...   \n",
       "1299085      0.0    0.0       0.0  ...       0.0                  0.0     0.0   \n",
       "1299086      0.0    0.0       0.0  ...       0.0                  0.0     0.0   \n",
       "1299087      0.0    0.0       0.0  ...       0.0                  0.0     0.0   \n",
       "1299088      0.0    0.0       0.0  ...       0.0                  0.0     0.0   \n",
       "1299089      0.0    0.0       0.0  ...       0.0                  0.0     0.0   \n",
       "\n",
       "         Ukraine  United Arab Emirates  United Kingdom  United States  \\\n",
       "0            0.0                   0.0             0.0            0.0   \n",
       "1            0.0                   0.0             0.0            0.0   \n",
       "2            0.0                   0.0             0.0            0.0   \n",
       "3            0.0                   0.0             0.0            0.0   \n",
       "4            0.0                   0.0             0.0            0.0   \n",
       "...          ...                   ...             ...            ...   \n",
       "1299085      0.0                   0.0             0.0            0.0   \n",
       "1299086      0.0                   0.0             0.0            0.0   \n",
       "1299087      0.0                   0.0             0.0            0.0   \n",
       "1299088      0.0                   0.0             0.0            0.0   \n",
       "1299089      0.0                   0.0             0.0            0.0   \n",
       "\n",
       "         Uzbekistan  Venezuela  Zimbabwe  \n",
       "0               0.0        0.0       0.0  \n",
       "1               0.0        0.0       0.0  \n",
       "2               0.0        0.0       0.0  \n",
       "3               0.0        0.0       0.0  \n",
       "4               0.0        0.0       0.0  \n",
       "...             ...        ...       ...  \n",
       "1299085         0.0        0.0       0.0  \n",
       "1299086         0.0        0.0       0.0  \n",
       "1299087         0.0        0.0       0.0  \n",
       "1299088         0.0        0.0       0.0  \n",
       "1299089         0.0        0.0       0.0  \n",
       "\n",
       "[1299090 rows x 116 columns]"
      ]
     },
     "execution_count": 69,
     "metadata": {},
     "output_type": "execute_result"
    }
   ],
   "source": [
    "New_cat_Src_Country"
   ]
  },
  {
   "cell_type": "code",
   "execution_count": null,
   "metadata": {},
   "outputs": [],
   "source": []
  },
  {
   "cell_type": "code",
   "execution_count": 70,
   "metadata": {
    "ExecuteTime": {
     "end_time": "2020-04-29T16:33:25.252693Z",
     "start_time": "2020-04-29T16:33:25.143973Z"
    }
   },
   "outputs": [
    {
     "data": {
      "text/html": [
       "<div>\n",
       "<style scoped>\n",
       "    .dataframe tbody tr th:only-of-type {\n",
       "        vertical-align: middle;\n",
       "    }\n",
       "\n",
       "    .dataframe tbody tr th {\n",
       "        vertical-align: top;\n",
       "    }\n",
       "\n",
       "    .dataframe thead th {\n",
       "        text-align: right;\n",
       "    }\n",
       "</style>\n",
       "<table border=\"1\" class=\"dataframe\">\n",
       "  <thead>\n",
       "    <tr style=\"text-align: right;\">\n",
       "      <th></th>\n",
       "      <th>Flow_Start</th>\n",
       "      <th>Source_IP</th>\n",
       "      <th>Destination_IP</th>\n",
       "      <th>Duration</th>\n",
       "      <th>Packets</th>\n",
       "      <th>Bytes</th>\n",
       "    </tr>\n",
       "  </thead>\n",
       "  <tbody>\n",
       "    <tr>\n",
       "      <td>0</td>\n",
       "      <td>17:13:40.449</td>\n",
       "      <td>90.177.154.197</td>\n",
       "      <td>147.32.84.144</td>\n",
       "      <td>4.230</td>\n",
       "      <td>180</td>\n",
       "      <td>12628</td>\n",
       "    </tr>\n",
       "    <tr>\n",
       "      <td>1</td>\n",
       "      <td>17:13:40.449</td>\n",
       "      <td>147.32.84.144</td>\n",
       "      <td>90.177.154.197</td>\n",
       "      <td>4.204</td>\n",
       "      <td>329</td>\n",
       "      <td>478578</td>\n",
       "    </tr>\n",
       "    <tr>\n",
       "      <td>2</td>\n",
       "      <td>17:13:40.453</td>\n",
       "      <td>198.36.38.132</td>\n",
       "      <td>147.32.86.183</td>\n",
       "      <td>4.985</td>\n",
       "      <td>94</td>\n",
       "      <td>6212</td>\n",
       "    </tr>\n",
       "    <tr>\n",
       "      <td>3</td>\n",
       "      <td>17:13:40.456</td>\n",
       "      <td>41.103.64.21</td>\n",
       "      <td>147.32.86.183</td>\n",
       "      <td>4.975</td>\n",
       "      <td>182</td>\n",
       "      <td>61555</td>\n",
       "    </tr>\n",
       "    <tr>\n",
       "      <td>4</td>\n",
       "      <td>17:13:40.456</td>\n",
       "      <td>147.32.86.183</td>\n",
       "      <td>198.36.38.132</td>\n",
       "      <td>4.975</td>\n",
       "      <td>185</td>\n",
       "      <td>66524</td>\n",
       "    </tr>\n",
       "  </tbody>\n",
       "</table>\n",
       "</div>"
      ],
      "text/plain": [
       "     Flow_Start       Source_IP  Destination_IP  Duration  Packets   Bytes\n",
       "0  17:13:40.449  90.177.154.197   147.32.84.144     4.230      180   12628\n",
       "1  17:13:40.449   147.32.84.144  90.177.154.197     4.204      329  478578\n",
       "2  17:13:40.453   198.36.38.132   147.32.86.183     4.985       94    6212\n",
       "3  17:13:40.456    41.103.64.21   147.32.86.183     4.975      182   61555\n",
       "4  17:13:40.456   147.32.86.183   198.36.38.132     4.975      185   66524"
      ]
     },
     "execution_count": 70,
     "metadata": {},
     "output_type": "execute_result"
    }
   ],
   "source": [
    "# Combining what we have into one data set.  Note that I am keeping the Flow_Start, Source_IP, and Destination_IP as a \n",
    "# network security operator would need those to identify which hosts are infected. \n",
    "\n",
    "Interval_Variables = df[['Flow_Start','Source_IP','Destination_IP','Duration','Packets','Bytes']]\n",
    "Interval_Variables.head()"
   ]
  },
  {
   "cell_type": "code",
   "execution_count": 71,
   "metadata": {
    "ExecuteTime": {
     "end_time": "2020-04-29T16:33:27.661240Z",
     "start_time": "2020-04-29T16:33:25.254676Z"
    },
    "scrolled": true
   },
   "outputs": [],
   "source": [
    "# Exerything_Except_Ports = pd.concat([Interval_Variables, New_cat_flags, New_cat_protocol, New_cat_Src_City, New_cat_Src_Country], axis=1, sort=False)\n",
    "a = pd.merge(Interval_Variables, New_cat_flags, right_index=True,left_index=True)\n",
    "b = pd.merge(a, New_cat_protocol, right_index=True,left_index=True)\n",
    "Exerything_Except_Ports = pd.merge(b, New_cat_Src_Country, right_index=True,left_index=True)"
   ]
  },
  {
   "cell_type": "code",
   "execution_count": 72,
   "metadata": {
    "ExecuteTime": {
     "end_time": "2020-04-29T16:33:28.685502Z",
     "start_time": "2020-04-29T16:33:27.663236Z"
    },
    "scrolled": true
   },
   "outputs": [
    {
     "data": {
      "text/html": [
       "<div>\n",
       "<style scoped>\n",
       "    .dataframe tbody tr th:only-of-type {\n",
       "        vertical-align: middle;\n",
       "    }\n",
       "\n",
       "    .dataframe tbody tr th {\n",
       "        vertical-align: top;\n",
       "    }\n",
       "\n",
       "    .dataframe thead th {\n",
       "        text-align: right;\n",
       "    }\n",
       "</style>\n",
       "<table border=\"1\" class=\"dataframe\">\n",
       "  <thead>\n",
       "    <tr style=\"text-align: right;\">\n",
       "      <th></th>\n",
       "      <th>Flow_Start</th>\n",
       "      <th>Source_IP</th>\n",
       "      <th>Destination_IP</th>\n",
       "      <th>Duration</th>\n",
       "      <th>Packets</th>\n",
       "      <th>Bytes</th>\n",
       "      <th>A_</th>\n",
       "      <th>CON</th>\n",
       "      <th>ECO</th>\n",
       "      <th>ECR</th>\n",
       "      <th>...</th>\n",
       "      <th>Thailand</th>\n",
       "      <th>Trinidad and Tobago</th>\n",
       "      <th>Uganda</th>\n",
       "      <th>Ukraine</th>\n",
       "      <th>United Arab Emirates</th>\n",
       "      <th>United Kingdom</th>\n",
       "      <th>United States</th>\n",
       "      <th>Uzbekistan</th>\n",
       "      <th>Venezuela</th>\n",
       "      <th>Zimbabwe</th>\n",
       "    </tr>\n",
       "  </thead>\n",
       "  <tbody>\n",
       "    <tr>\n",
       "      <td>0</td>\n",
       "      <td>17:13:40.449</td>\n",
       "      <td>90.177.154.197</td>\n",
       "      <td>147.32.84.144</td>\n",
       "      <td>4.230</td>\n",
       "      <td>180</td>\n",
       "      <td>12628</td>\n",
       "      <td>0.0</td>\n",
       "      <td>0.0</td>\n",
       "      <td>0.0</td>\n",
       "      <td>0.0</td>\n",
       "      <td>...</td>\n",
       "      <td>0.0</td>\n",
       "      <td>0.0</td>\n",
       "      <td>0.0</td>\n",
       "      <td>0.0</td>\n",
       "      <td>0.0</td>\n",
       "      <td>0.0</td>\n",
       "      <td>0.0</td>\n",
       "      <td>0.0</td>\n",
       "      <td>0.0</td>\n",
       "      <td>0.0</td>\n",
       "    </tr>\n",
       "    <tr>\n",
       "      <td>1</td>\n",
       "      <td>17:13:40.449</td>\n",
       "      <td>147.32.84.144</td>\n",
       "      <td>90.177.154.197</td>\n",
       "      <td>4.204</td>\n",
       "      <td>329</td>\n",
       "      <td>478578</td>\n",
       "      <td>0.0</td>\n",
       "      <td>0.0</td>\n",
       "      <td>0.0</td>\n",
       "      <td>0.0</td>\n",
       "      <td>...</td>\n",
       "      <td>0.0</td>\n",
       "      <td>0.0</td>\n",
       "      <td>0.0</td>\n",
       "      <td>0.0</td>\n",
       "      <td>0.0</td>\n",
       "      <td>0.0</td>\n",
       "      <td>0.0</td>\n",
       "      <td>0.0</td>\n",
       "      <td>0.0</td>\n",
       "      <td>0.0</td>\n",
       "    </tr>\n",
       "    <tr>\n",
       "      <td>2</td>\n",
       "      <td>17:13:40.453</td>\n",
       "      <td>198.36.38.132</td>\n",
       "      <td>147.32.86.183</td>\n",
       "      <td>4.985</td>\n",
       "      <td>94</td>\n",
       "      <td>6212</td>\n",
       "      <td>0.0</td>\n",
       "      <td>0.0</td>\n",
       "      <td>0.0</td>\n",
       "      <td>0.0</td>\n",
       "      <td>...</td>\n",
       "      <td>0.0</td>\n",
       "      <td>0.0</td>\n",
       "      <td>0.0</td>\n",
       "      <td>0.0</td>\n",
       "      <td>0.0</td>\n",
       "      <td>0.0</td>\n",
       "      <td>0.0</td>\n",
       "      <td>0.0</td>\n",
       "      <td>0.0</td>\n",
       "      <td>0.0</td>\n",
       "    </tr>\n",
       "    <tr>\n",
       "      <td>3</td>\n",
       "      <td>17:13:40.456</td>\n",
       "      <td>41.103.64.21</td>\n",
       "      <td>147.32.86.183</td>\n",
       "      <td>4.975</td>\n",
       "      <td>182</td>\n",
       "      <td>61555</td>\n",
       "      <td>0.0</td>\n",
       "      <td>0.0</td>\n",
       "      <td>0.0</td>\n",
       "      <td>0.0</td>\n",
       "      <td>...</td>\n",
       "      <td>0.0</td>\n",
       "      <td>0.0</td>\n",
       "      <td>0.0</td>\n",
       "      <td>0.0</td>\n",
       "      <td>0.0</td>\n",
       "      <td>0.0</td>\n",
       "      <td>0.0</td>\n",
       "      <td>0.0</td>\n",
       "      <td>0.0</td>\n",
       "      <td>0.0</td>\n",
       "    </tr>\n",
       "    <tr>\n",
       "      <td>4</td>\n",
       "      <td>17:13:40.456</td>\n",
       "      <td>147.32.86.183</td>\n",
       "      <td>198.36.38.132</td>\n",
       "      <td>4.975</td>\n",
       "      <td>185</td>\n",
       "      <td>66524</td>\n",
       "      <td>0.0</td>\n",
       "      <td>0.0</td>\n",
       "      <td>0.0</td>\n",
       "      <td>0.0</td>\n",
       "      <td>...</td>\n",
       "      <td>0.0</td>\n",
       "      <td>0.0</td>\n",
       "      <td>0.0</td>\n",
       "      <td>0.0</td>\n",
       "      <td>0.0</td>\n",
       "      <td>0.0</td>\n",
       "      <td>0.0</td>\n",
       "      <td>0.0</td>\n",
       "      <td>0.0</td>\n",
       "      <td>0.0</td>\n",
       "    </tr>\n",
       "    <tr>\n",
       "      <td>...</td>\n",
       "      <td>...</td>\n",
       "      <td>...</td>\n",
       "      <td>...</td>\n",
       "      <td>...</td>\n",
       "      <td>...</td>\n",
       "      <td>...</td>\n",
       "      <td>...</td>\n",
       "      <td>...</td>\n",
       "      <td>...</td>\n",
       "      <td>...</td>\n",
       "      <td>...</td>\n",
       "      <td>...</td>\n",
       "      <td>...</td>\n",
       "      <td>...</td>\n",
       "      <td>...</td>\n",
       "      <td>...</td>\n",
       "      <td>...</td>\n",
       "      <td>...</td>\n",
       "      <td>...</td>\n",
       "      <td>...</td>\n",
       "      <td>...</td>\n",
       "    </tr>\n",
       "    <tr>\n",
       "      <td>1299085</td>\n",
       "      <td>19:17:33.765</td>\n",
       "      <td>147.32.84.2</td>\n",
       "      <td>66.194.55.249</td>\n",
       "      <td>0.134</td>\n",
       "      <td>5</td>\n",
       "      <td>3841</td>\n",
       "      <td>0.0</td>\n",
       "      <td>0.0</td>\n",
       "      <td>0.0</td>\n",
       "      <td>0.0</td>\n",
       "      <td>...</td>\n",
       "      <td>0.0</td>\n",
       "      <td>0.0</td>\n",
       "      <td>0.0</td>\n",
       "      <td>0.0</td>\n",
       "      <td>0.0</td>\n",
       "      <td>0.0</td>\n",
       "      <td>0.0</td>\n",
       "      <td>0.0</td>\n",
       "      <td>0.0</td>\n",
       "      <td>0.0</td>\n",
       "    </tr>\n",
       "    <tr>\n",
       "      <td>1299086</td>\n",
       "      <td>19:17:33.811</td>\n",
       "      <td>147.32.84.165</td>\n",
       "      <td>212.117.171.138</td>\n",
       "      <td>0.930</td>\n",
       "      <td>63</td>\n",
       "      <td>85828</td>\n",
       "      <td>0.0</td>\n",
       "      <td>0.0</td>\n",
       "      <td>0.0</td>\n",
       "      <td>0.0</td>\n",
       "      <td>...</td>\n",
       "      <td>0.0</td>\n",
       "      <td>0.0</td>\n",
       "      <td>0.0</td>\n",
       "      <td>0.0</td>\n",
       "      <td>0.0</td>\n",
       "      <td>0.0</td>\n",
       "      <td>0.0</td>\n",
       "      <td>0.0</td>\n",
       "      <td>0.0</td>\n",
       "      <td>0.0</td>\n",
       "    </tr>\n",
       "    <tr>\n",
       "      <td>1299087</td>\n",
       "      <td>19:17:33.811</td>\n",
       "      <td>147.32.84.171</td>\n",
       "      <td>95.211.93.1</td>\n",
       "      <td>0.000</td>\n",
       "      <td>1</td>\n",
       "      <td>71</td>\n",
       "      <td>0.0</td>\n",
       "      <td>0.0</td>\n",
       "      <td>0.0</td>\n",
       "      <td>0.0</td>\n",
       "      <td>...</td>\n",
       "      <td>0.0</td>\n",
       "      <td>0.0</td>\n",
       "      <td>0.0</td>\n",
       "      <td>0.0</td>\n",
       "      <td>0.0</td>\n",
       "      <td>0.0</td>\n",
       "      <td>0.0</td>\n",
       "      <td>0.0</td>\n",
       "      <td>0.0</td>\n",
       "      <td>0.0</td>\n",
       "    </tr>\n",
       "    <tr>\n",
       "      <td>1299088</td>\n",
       "      <td>19:17:33.828</td>\n",
       "      <td>95.211.93.1</td>\n",
       "      <td>147.32.84.171</td>\n",
       "      <td>0.000</td>\n",
       "      <td>1</td>\n",
       "      <td>66</td>\n",
       "      <td>1.0</td>\n",
       "      <td>0.0</td>\n",
       "      <td>0.0</td>\n",
       "      <td>0.0</td>\n",
       "      <td>...</td>\n",
       "      <td>0.0</td>\n",
       "      <td>0.0</td>\n",
       "      <td>0.0</td>\n",
       "      <td>0.0</td>\n",
       "      <td>0.0</td>\n",
       "      <td>0.0</td>\n",
       "      <td>0.0</td>\n",
       "      <td>0.0</td>\n",
       "      <td>0.0</td>\n",
       "      <td>0.0</td>\n",
       "    </tr>\n",
       "    <tr>\n",
       "      <td>1299089</td>\n",
       "      <td>19:17:33.828</td>\n",
       "      <td>147.32.84.229</td>\n",
       "      <td>114.39.240.193</td>\n",
       "      <td>1.999</td>\n",
       "      <td>2</td>\n",
       "      <td>352</td>\n",
       "      <td>0.0</td>\n",
       "      <td>0.0</td>\n",
       "      <td>0.0</td>\n",
       "      <td>0.0</td>\n",
       "      <td>...</td>\n",
       "      <td>0.0</td>\n",
       "      <td>0.0</td>\n",
       "      <td>0.0</td>\n",
       "      <td>0.0</td>\n",
       "      <td>0.0</td>\n",
       "      <td>0.0</td>\n",
       "      <td>0.0</td>\n",
       "      <td>0.0</td>\n",
       "      <td>0.0</td>\n",
       "      <td>0.0</td>\n",
       "    </tr>\n",
       "  </tbody>\n",
       "</table>\n",
       "<p>1299090 rows × 190 columns</p>\n",
       "</div>"
      ],
      "text/plain": [
       "           Flow_Start       Source_IP   Destination_IP  Duration  Packets  \\\n",
       "0        17:13:40.449  90.177.154.197    147.32.84.144     4.230      180   \n",
       "1        17:13:40.449   147.32.84.144   90.177.154.197     4.204      329   \n",
       "2        17:13:40.453   198.36.38.132    147.32.86.183     4.985       94   \n",
       "3        17:13:40.456    41.103.64.21    147.32.86.183     4.975      182   \n",
       "4        17:13:40.456   147.32.86.183    198.36.38.132     4.975      185   \n",
       "...               ...             ...              ...       ...      ...   \n",
       "1299085  19:17:33.765     147.32.84.2    66.194.55.249     0.134        5   \n",
       "1299086  19:17:33.811   147.32.84.165  212.117.171.138     0.930       63   \n",
       "1299087  19:17:33.811   147.32.84.171      95.211.93.1     0.000        1   \n",
       "1299088  19:17:33.828     95.211.93.1    147.32.84.171     0.000        1   \n",
       "1299089  19:17:33.828   147.32.84.229   114.39.240.193     1.999        2   \n",
       "\n",
       "          Bytes   A_  CON  ECO  ECR  ...  Thailand  Trinidad and Tobago  \\\n",
       "0         12628  0.0  0.0  0.0  0.0  ...       0.0                  0.0   \n",
       "1        478578  0.0  0.0  0.0  0.0  ...       0.0                  0.0   \n",
       "2          6212  0.0  0.0  0.0  0.0  ...       0.0                  0.0   \n",
       "3         61555  0.0  0.0  0.0  0.0  ...       0.0                  0.0   \n",
       "4         66524  0.0  0.0  0.0  0.0  ...       0.0                  0.0   \n",
       "...         ...  ...  ...  ...  ...  ...       ...                  ...   \n",
       "1299085    3841  0.0  0.0  0.0  0.0  ...       0.0                  0.0   \n",
       "1299086   85828  0.0  0.0  0.0  0.0  ...       0.0                  0.0   \n",
       "1299087      71  0.0  0.0  0.0  0.0  ...       0.0                  0.0   \n",
       "1299088      66  1.0  0.0  0.0  0.0  ...       0.0                  0.0   \n",
       "1299089     352  0.0  0.0  0.0  0.0  ...       0.0                  0.0   \n",
       "\n",
       "         Uganda  Ukraine  United Arab Emirates  United Kingdom  United States  \\\n",
       "0           0.0      0.0                   0.0             0.0            0.0   \n",
       "1           0.0      0.0                   0.0             0.0            0.0   \n",
       "2           0.0      0.0                   0.0             0.0            0.0   \n",
       "3           0.0      0.0                   0.0             0.0            0.0   \n",
       "4           0.0      0.0                   0.0             0.0            0.0   \n",
       "...         ...      ...                   ...             ...            ...   \n",
       "1299085     0.0      0.0                   0.0             0.0            0.0   \n",
       "1299086     0.0      0.0                   0.0             0.0            0.0   \n",
       "1299087     0.0      0.0                   0.0             0.0            0.0   \n",
       "1299088     0.0      0.0                   0.0             0.0            0.0   \n",
       "1299089     0.0      0.0                   0.0             0.0            0.0   \n",
       "\n",
       "         Uzbekistan  Venezuela  Zimbabwe  \n",
       "0               0.0        0.0       0.0  \n",
       "1               0.0        0.0       0.0  \n",
       "2               0.0        0.0       0.0  \n",
       "3               0.0        0.0       0.0  \n",
       "4               0.0        0.0       0.0  \n",
       "...             ...        ...       ...  \n",
       "1299085         0.0        0.0       0.0  \n",
       "1299086         0.0        0.0       0.0  \n",
       "1299087         0.0        0.0       0.0  \n",
       "1299088         0.0        0.0       0.0  \n",
       "1299089         0.0        0.0       0.0  \n",
       "\n",
       "[1299090 rows x 190 columns]"
      ]
     },
     "execution_count": 72,
     "metadata": {},
     "output_type": "execute_result"
    }
   ],
   "source": [
    "Exerything_Except_Ports"
   ]
  },
  {
   "cell_type": "code",
   "execution_count": 73,
   "metadata": {
    "ExecuteTime": {
     "end_time": "2020-04-29T16:33:28.782244Z",
     "start_time": "2020-04-29T16:33:28.688496Z"
    }
   },
   "outputs": [
    {
     "data": {
      "text/html": [
       "<div>\n",
       "<style scoped>\n",
       "    .dataframe tbody tr th:only-of-type {\n",
       "        vertical-align: middle;\n",
       "    }\n",
       "\n",
       "    .dataframe tbody tr th {\n",
       "        vertical-align: top;\n",
       "    }\n",
       "\n",
       "    .dataframe thead th {\n",
       "        text-align: right;\n",
       "    }\n",
       "</style>\n",
       "<table border=\"1\" class=\"dataframe\">\n",
       "  <thead>\n",
       "    <tr style=\"text-align: right;\">\n",
       "      <th></th>\n",
       "      <th>Label</th>\n",
       "    </tr>\n",
       "  </thead>\n",
       "  <tbody>\n",
       "    <tr>\n",
       "      <td>0</td>\n",
       "      <td>Background</td>\n",
       "    </tr>\n",
       "    <tr>\n",
       "      <td>1</td>\n",
       "      <td>Background</td>\n",
       "    </tr>\n",
       "    <tr>\n",
       "      <td>2</td>\n",
       "      <td>Background</td>\n",
       "    </tr>\n",
       "    <tr>\n",
       "      <td>3</td>\n",
       "      <td>Background</td>\n",
       "    </tr>\n",
       "    <tr>\n",
       "      <td>4</td>\n",
       "      <td>Background</td>\n",
       "    </tr>\n",
       "  </tbody>\n",
       "</table>\n",
       "</div>"
      ],
      "text/plain": [
       "        Label\n",
       "0  Background\n",
       "1  Background\n",
       "2  Background\n",
       "3  Background\n",
       "4  Background"
      ]
     },
     "execution_count": 73,
     "metadata": {},
     "output_type": "execute_result"
    }
   ],
   "source": [
    "Target = df.iloc[:,11:12]\n",
    "Target.rename(columns = {11:'label'}, inplace = True) \n",
    "Target.head()"
   ]
  },
  {
   "cell_type": "code",
   "execution_count": 74,
   "metadata": {
    "ExecuteTime": {
     "end_time": "2020-04-29T16:33:29.222067Z",
     "start_time": "2020-04-29T16:33:28.784237Z"
    }
   },
   "outputs": [],
   "source": [
    "# Classifying labels into two categories:\n",
    "# botnet, botnetfilter_leg = Yes\n",
    "# Background, legitimate = No\n",
    "a = ['Botnet', 'BotnetFILTER_LEGITIMATE']\n",
    "Target['yes/no'] = np.where(Target['Label'].isin(a), 'yes', 'no')"
   ]
  },
  {
   "cell_type": "code",
   "execution_count": 75,
   "metadata": {
    "ExecuteTime": {
     "end_time": "2020-04-29T16:33:29.235034Z",
     "start_time": "2020-04-29T16:33:29.224062Z"
    }
   },
   "outputs": [
    {
     "data": {
      "text/html": [
       "<div>\n",
       "<style scoped>\n",
       "    .dataframe tbody tr th:only-of-type {\n",
       "        vertical-align: middle;\n",
       "    }\n",
       "\n",
       "    .dataframe tbody tr th {\n",
       "        vertical-align: top;\n",
       "    }\n",
       "\n",
       "    .dataframe thead th {\n",
       "        text-align: right;\n",
       "    }\n",
       "</style>\n",
       "<table border=\"1\" class=\"dataframe\">\n",
       "  <thead>\n",
       "    <tr style=\"text-align: right;\">\n",
       "      <th></th>\n",
       "      <th>Label</th>\n",
       "      <th>yes/no</th>\n",
       "    </tr>\n",
       "  </thead>\n",
       "  <tbody>\n",
       "    <tr>\n",
       "      <td>0</td>\n",
       "      <td>Background</td>\n",
       "      <td>no</td>\n",
       "    </tr>\n",
       "    <tr>\n",
       "      <td>1</td>\n",
       "      <td>Background</td>\n",
       "      <td>no</td>\n",
       "    </tr>\n",
       "    <tr>\n",
       "      <td>2</td>\n",
       "      <td>Background</td>\n",
       "      <td>no</td>\n",
       "    </tr>\n",
       "    <tr>\n",
       "      <td>3</td>\n",
       "      <td>Background</td>\n",
       "      <td>no</td>\n",
       "    </tr>\n",
       "    <tr>\n",
       "      <td>4</td>\n",
       "      <td>Background</td>\n",
       "      <td>no</td>\n",
       "    </tr>\n",
       "  </tbody>\n",
       "</table>\n",
       "</div>"
      ],
      "text/plain": [
       "        Label yes/no\n",
       "0  Background     no\n",
       "1  Background     no\n",
       "2  Background     no\n",
       "3  Background     no\n",
       "4  Background     no"
      ]
     },
     "execution_count": 75,
     "metadata": {},
     "output_type": "execute_result"
    }
   ],
   "source": [
    "Target.head()"
   ]
  },
  {
   "cell_type": "code",
   "execution_count": 76,
   "metadata": {
    "ExecuteTime": {
     "end_time": "2020-04-29T16:33:29.451484Z",
     "start_time": "2020-04-29T16:33:29.237028Z"
    }
   },
   "outputs": [
    {
     "data": {
      "text/plain": [
       "Background                 1218140\n",
       "LEGITIMATE                   59190\n",
       "Botnet                       21112\n",
       "BotnetFILTER_LEGITIMATE        648\n",
       "Name: Label, dtype: int64"
      ]
     },
     "execution_count": 76,
     "metadata": {},
     "output_type": "execute_result"
    }
   ],
   "source": [
    "# The Labels are not balanced.  We need to resample to have balancd labels because otherwise future classifications will \n",
    "# skew heavily in favor of the overweight labels. \n",
    "Target['Label'].value_counts()"
   ]
  },
  {
   "cell_type": "code",
   "execution_count": 77,
   "metadata": {
    "ExecuteTime": {
     "end_time": "2020-04-29T16:33:30.120665Z",
     "start_time": "2020-04-29T16:33:29.453450Z"
    }
   },
   "outputs": [
    {
     "data": {
      "text/html": [
       "<div>\n",
       "<style scoped>\n",
       "    .dataframe tbody tr th:only-of-type {\n",
       "        vertical-align: middle;\n",
       "    }\n",
       "\n",
       "    .dataframe tbody tr th {\n",
       "        vertical-align: top;\n",
       "    }\n",
       "\n",
       "    .dataframe thead th {\n",
       "        text-align: right;\n",
       "    }\n",
       "</style>\n",
       "<table border=\"1\" class=\"dataframe\">\n",
       "  <thead>\n",
       "    <tr style=\"text-align: right;\">\n",
       "      <th></th>\n",
       "      <th>Label</th>\n",
       "      <th>yes/no</th>\n",
       "      <th>Flow_Start</th>\n",
       "      <th>Source_IP</th>\n",
       "      <th>Destination_IP</th>\n",
       "      <th>Duration</th>\n",
       "      <th>Packets</th>\n",
       "      <th>Bytes</th>\n",
       "      <th>A_</th>\n",
       "      <th>CON</th>\n",
       "      <th>...</th>\n",
       "      <th>Thailand</th>\n",
       "      <th>Trinidad and Tobago</th>\n",
       "      <th>Uganda</th>\n",
       "      <th>Ukraine</th>\n",
       "      <th>United Arab Emirates</th>\n",
       "      <th>United Kingdom</th>\n",
       "      <th>United States</th>\n",
       "      <th>Uzbekistan</th>\n",
       "      <th>Venezuela</th>\n",
       "      <th>Zimbabwe</th>\n",
       "    </tr>\n",
       "  </thead>\n",
       "  <tbody>\n",
       "    <tr>\n",
       "      <td>0</td>\n",
       "      <td>Background</td>\n",
       "      <td>no</td>\n",
       "      <td>17:13:40.449</td>\n",
       "      <td>90.177.154.197</td>\n",
       "      <td>147.32.84.144</td>\n",
       "      <td>4.230</td>\n",
       "      <td>180</td>\n",
       "      <td>12628</td>\n",
       "      <td>0.0</td>\n",
       "      <td>0.0</td>\n",
       "      <td>...</td>\n",
       "      <td>0.0</td>\n",
       "      <td>0.0</td>\n",
       "      <td>0.0</td>\n",
       "      <td>0.0</td>\n",
       "      <td>0.0</td>\n",
       "      <td>0.0</td>\n",
       "      <td>0.0</td>\n",
       "      <td>0.0</td>\n",
       "      <td>0.0</td>\n",
       "      <td>0.0</td>\n",
       "    </tr>\n",
       "    <tr>\n",
       "      <td>1</td>\n",
       "      <td>Background</td>\n",
       "      <td>no</td>\n",
       "      <td>17:13:40.449</td>\n",
       "      <td>147.32.84.144</td>\n",
       "      <td>90.177.154.197</td>\n",
       "      <td>4.204</td>\n",
       "      <td>329</td>\n",
       "      <td>478578</td>\n",
       "      <td>0.0</td>\n",
       "      <td>0.0</td>\n",
       "      <td>...</td>\n",
       "      <td>0.0</td>\n",
       "      <td>0.0</td>\n",
       "      <td>0.0</td>\n",
       "      <td>0.0</td>\n",
       "      <td>0.0</td>\n",
       "      <td>0.0</td>\n",
       "      <td>0.0</td>\n",
       "      <td>0.0</td>\n",
       "      <td>0.0</td>\n",
       "      <td>0.0</td>\n",
       "    </tr>\n",
       "    <tr>\n",
       "      <td>2</td>\n",
       "      <td>Background</td>\n",
       "      <td>no</td>\n",
       "      <td>17:13:40.453</td>\n",
       "      <td>198.36.38.132</td>\n",
       "      <td>147.32.86.183</td>\n",
       "      <td>4.985</td>\n",
       "      <td>94</td>\n",
       "      <td>6212</td>\n",
       "      <td>0.0</td>\n",
       "      <td>0.0</td>\n",
       "      <td>...</td>\n",
       "      <td>0.0</td>\n",
       "      <td>0.0</td>\n",
       "      <td>0.0</td>\n",
       "      <td>0.0</td>\n",
       "      <td>0.0</td>\n",
       "      <td>0.0</td>\n",
       "      <td>0.0</td>\n",
       "      <td>0.0</td>\n",
       "      <td>0.0</td>\n",
       "      <td>0.0</td>\n",
       "    </tr>\n",
       "    <tr>\n",
       "      <td>3</td>\n",
       "      <td>Background</td>\n",
       "      <td>no</td>\n",
       "      <td>17:13:40.456</td>\n",
       "      <td>41.103.64.21</td>\n",
       "      <td>147.32.86.183</td>\n",
       "      <td>4.975</td>\n",
       "      <td>182</td>\n",
       "      <td>61555</td>\n",
       "      <td>0.0</td>\n",
       "      <td>0.0</td>\n",
       "      <td>...</td>\n",
       "      <td>0.0</td>\n",
       "      <td>0.0</td>\n",
       "      <td>0.0</td>\n",
       "      <td>0.0</td>\n",
       "      <td>0.0</td>\n",
       "      <td>0.0</td>\n",
       "      <td>0.0</td>\n",
       "      <td>0.0</td>\n",
       "      <td>0.0</td>\n",
       "      <td>0.0</td>\n",
       "    </tr>\n",
       "    <tr>\n",
       "      <td>4</td>\n",
       "      <td>Background</td>\n",
       "      <td>no</td>\n",
       "      <td>17:13:40.456</td>\n",
       "      <td>147.32.86.183</td>\n",
       "      <td>198.36.38.132</td>\n",
       "      <td>4.975</td>\n",
       "      <td>185</td>\n",
       "      <td>66524</td>\n",
       "      <td>0.0</td>\n",
       "      <td>0.0</td>\n",
       "      <td>...</td>\n",
       "      <td>0.0</td>\n",
       "      <td>0.0</td>\n",
       "      <td>0.0</td>\n",
       "      <td>0.0</td>\n",
       "      <td>0.0</td>\n",
       "      <td>0.0</td>\n",
       "      <td>0.0</td>\n",
       "      <td>0.0</td>\n",
       "      <td>0.0</td>\n",
       "      <td>0.0</td>\n",
       "    </tr>\n",
       "  </tbody>\n",
       "</table>\n",
       "<p>5 rows × 192 columns</p>\n",
       "</div>"
      ],
      "text/plain": [
       "        Label yes/no    Flow_Start       Source_IP  Destination_IP  Duration  \\\n",
       "0  Background     no  17:13:40.449  90.177.154.197   147.32.84.144     4.230   \n",
       "1  Background     no  17:13:40.449   147.32.84.144  90.177.154.197     4.204   \n",
       "2  Background     no  17:13:40.453   198.36.38.132   147.32.86.183     4.985   \n",
       "3  Background     no  17:13:40.456    41.103.64.21   147.32.86.183     4.975   \n",
       "4  Background     no  17:13:40.456   147.32.86.183   198.36.38.132     4.975   \n",
       "\n",
       "   Packets   Bytes   A_  CON  ...  Thailand  Trinidad and Tobago  Uganda  \\\n",
       "0      180   12628  0.0  0.0  ...       0.0                  0.0     0.0   \n",
       "1      329  478578  0.0  0.0  ...       0.0                  0.0     0.0   \n",
       "2       94    6212  0.0  0.0  ...       0.0                  0.0     0.0   \n",
       "3      182   61555  0.0  0.0  ...       0.0                  0.0     0.0   \n",
       "4      185   66524  0.0  0.0  ...       0.0                  0.0     0.0   \n",
       "\n",
       "   Ukraine  United Arab Emirates  United Kingdom  United States  Uzbekistan  \\\n",
       "0      0.0                   0.0             0.0            0.0         0.0   \n",
       "1      0.0                   0.0             0.0            0.0         0.0   \n",
       "2      0.0                   0.0             0.0            0.0         0.0   \n",
       "3      0.0                   0.0             0.0            0.0         0.0   \n",
       "4      0.0                   0.0             0.0            0.0         0.0   \n",
       "\n",
       "   Venezuela  Zimbabwe  \n",
       "0        0.0       0.0  \n",
       "1        0.0       0.0  \n",
       "2        0.0       0.0  \n",
       "3        0.0       0.0  \n",
       "4        0.0       0.0  \n",
       "\n",
       "[5 rows x 192 columns]"
      ]
     },
     "execution_count": 77,
     "metadata": {},
     "output_type": "execute_result"
    }
   ],
   "source": [
    "from sklearn.utils import resample\n",
    "\n",
    "d = pd.merge(Target, Exerything_Except_Ports, right_index=True, left_index=True)\n",
    "d.head()"
   ]
  },
  {
   "cell_type": "code",
   "execution_count": 78,
   "metadata": {
    "ExecuteTime": {
     "end_time": "2020-04-29T16:33:30.137619Z",
     "start_time": "2020-04-29T16:33:30.123662Z"
    }
   },
   "outputs": [],
   "source": [
    "# There is a script at the end of this notebook that determines the below ports.  These are well-known ports that appear\n",
    "# in the dataset.  We want to limit ourselves to the well-known ports in this dataset in order to not employ too many\n",
    "# one-hot encoded variables. \n",
    "imp_ports = ['22', '443', '80', '53', '389', '25', '113', '123', '554', '520', '161', '995', '67', '993', '631', '110',\n",
    " '143', '0', '445', '137', '427', '138', '524', '514', '139', '1000', '784', '12', '465', '592', '587', '88', '2', '888', '21',\n",
    " '500', '544', '81', '418', '294', '34', '98', '68', '709', '23', '8', '625', '768', '579', '135', '104', '916', '877', '310',\n",
    " '490', '1', '82', '369', '1013', '83', '832', '843', '471', '118']"
   ]
  },
  {
   "cell_type": "code",
   "execution_count": 79,
   "metadata": {
    "ExecuteTime": {
     "end_time": "2020-04-29T16:33:30.791869Z",
     "start_time": "2020-04-29T16:33:30.139613Z"
    }
   },
   "outputs": [
    {
     "data": {
      "text/plain": [
       "64"
      ]
     },
     "execution_count": 79,
     "metadata": {},
     "output_type": "execute_result"
    }
   ],
   "source": [
    "len(imp_ports)"
   ]
  },
  {
   "cell_type": "code",
   "execution_count": 80,
   "metadata": {
    "ExecuteTime": {
     "end_time": "2020-04-29T16:33:32.538200Z",
     "start_time": "2020-04-29T16:33:30.793877Z"
    }
   },
   "outputs": [],
   "source": [
    "# Determining whether a port is in the above set of ports. \n",
    "df2['po']=np.where(df2.Destination_Port.isin(imp_ports), df2['Destination_Port'] , 'no')"
   ]
  },
  {
   "cell_type": "code",
   "execution_count": 81,
   "metadata": {
    "ExecuteTime": {
     "end_time": "2020-04-29T16:33:32.603046Z",
     "start_time": "2020-04-29T16:33:32.541192Z"
    },
    "scrolled": true
   },
   "outputs": [
    {
     "data": {
      "text/html": [
       "<div>\n",
       "<style scoped>\n",
       "    .dataframe tbody tr th:only-of-type {\n",
       "        vertical-align: middle;\n",
       "    }\n",
       "\n",
       "    .dataframe tbody tr th {\n",
       "        vertical-align: top;\n",
       "    }\n",
       "\n",
       "    .dataframe thead th {\n",
       "        text-align: right;\n",
       "    }\n",
       "</style>\n",
       "<table border=\"1\" class=\"dataframe\">\n",
       "  <thead>\n",
       "    <tr style=\"text-align: right;\">\n",
       "      <th></th>\n",
       "      <th>Flow_Start</th>\n",
       "      <th>Duration</th>\n",
       "      <th>Protocol</th>\n",
       "      <th>Flags</th>\n",
       "      <th>Type_of_Service</th>\n",
       "      <th>Packets</th>\n",
       "      <th>Bytes</th>\n",
       "      <th>Source_IP</th>\n",
       "      <th>Source_Port</th>\n",
       "      <th>Destination_IP</th>\n",
       "      <th>Destination_Port</th>\n",
       "      <th>Label</th>\n",
       "      <th>source_country</th>\n",
       "      <th>source_city</th>\n",
       "      <th>dest_country</th>\n",
       "      <th>dest_city</th>\n",
       "      <th>s</th>\n",
       "      <th>c</th>\n",
       "      <th>po</th>\n",
       "    </tr>\n",
       "  </thead>\n",
       "  <tbody>\n",
       "    <tr>\n",
       "      <td>0</td>\n",
       "      <td>17:13:40.449</td>\n",
       "      <td>4.230</td>\n",
       "      <td>TCP</td>\n",
       "      <td>PA_</td>\n",
       "      <td>0</td>\n",
       "      <td>180</td>\n",
       "      <td>12628</td>\n",
       "      <td>90.177.154.197</td>\n",
       "      <td>20127</td>\n",
       "      <td>147.32.84.144</td>\n",
       "      <td>22</td>\n",
       "      <td>Background</td>\n",
       "      <td>Czechia</td>\n",
       "      <td>NaN</td>\n",
       "      <td>Czechia</td>\n",
       "      <td>Prague</td>\n",
       "      <td>not_source</td>\n",
       "      <td>not_source</td>\n",
       "      <td>22</td>\n",
       "    </tr>\n",
       "    <tr>\n",
       "      <td>1</td>\n",
       "      <td>17:13:40.449</td>\n",
       "      <td>4.204</td>\n",
       "      <td>TCP</td>\n",
       "      <td>PA_</td>\n",
       "      <td>0</td>\n",
       "      <td>329</td>\n",
       "      <td>478578</td>\n",
       "      <td>147.32.84.144</td>\n",
       "      <td>22</td>\n",
       "      <td>90.177.154.197</td>\n",
       "      <td>20127</td>\n",
       "      <td>Background</td>\n",
       "      <td>Czechia</td>\n",
       "      <td>Prague</td>\n",
       "      <td>Czechia</td>\n",
       "      <td>NaN</td>\n",
       "      <td>not_source</td>\n",
       "      <td>not_source</td>\n",
       "      <td>no</td>\n",
       "    </tr>\n",
       "    <tr>\n",
       "      <td>2</td>\n",
       "      <td>17:13:40.453</td>\n",
       "      <td>4.985</td>\n",
       "      <td>TCP</td>\n",
       "      <td>PA_</td>\n",
       "      <td>0</td>\n",
       "      <td>94</td>\n",
       "      <td>6212</td>\n",
       "      <td>198.36.38.132</td>\n",
       "      <td>55530</td>\n",
       "      <td>147.32.86.183</td>\n",
       "      <td>443</td>\n",
       "      <td>Background</td>\n",
       "      <td>Saudi Arabia</td>\n",
       "      <td>Dhahran</td>\n",
       "      <td>Czechia</td>\n",
       "      <td>Prague</td>\n",
       "      <td>not_source</td>\n",
       "      <td>not_source</td>\n",
       "      <td>443</td>\n",
       "    </tr>\n",
       "    <tr>\n",
       "      <td>3</td>\n",
       "      <td>17:13:40.456</td>\n",
       "      <td>4.975</td>\n",
       "      <td>UDP</td>\n",
       "      <td>INT</td>\n",
       "      <td>0</td>\n",
       "      <td>182</td>\n",
       "      <td>61555</td>\n",
       "      <td>41.103.64.21</td>\n",
       "      <td>54617</td>\n",
       "      <td>147.32.86.183</td>\n",
       "      <td>51246</td>\n",
       "      <td>Background</td>\n",
       "      <td>Algeria</td>\n",
       "      <td>Chlef</td>\n",
       "      <td>Czechia</td>\n",
       "      <td>Prague</td>\n",
       "      <td>not_source</td>\n",
       "      <td>not_source</td>\n",
       "      <td>no</td>\n",
       "    </tr>\n",
       "    <tr>\n",
       "      <td>4</td>\n",
       "      <td>17:13:40.456</td>\n",
       "      <td>4.975</td>\n",
       "      <td>TCP</td>\n",
       "      <td>PA_</td>\n",
       "      <td>0</td>\n",
       "      <td>185</td>\n",
       "      <td>66524</td>\n",
       "      <td>147.32.86.183</td>\n",
       "      <td>443</td>\n",
       "      <td>198.36.38.132</td>\n",
       "      <td>55530</td>\n",
       "      <td>Background</td>\n",
       "      <td>Czechia</td>\n",
       "      <td>Prague</td>\n",
       "      <td>Saudi Arabia</td>\n",
       "      <td>Dhahran</td>\n",
       "      <td>not_source</td>\n",
       "      <td>not_source</td>\n",
       "      <td>no</td>\n",
       "    </tr>\n",
       "    <tr>\n",
       "      <td>...</td>\n",
       "      <td>...</td>\n",
       "      <td>...</td>\n",
       "      <td>...</td>\n",
       "      <td>...</td>\n",
       "      <td>...</td>\n",
       "      <td>...</td>\n",
       "      <td>...</td>\n",
       "      <td>...</td>\n",
       "      <td>...</td>\n",
       "      <td>...</td>\n",
       "      <td>...</td>\n",
       "      <td>...</td>\n",
       "      <td>...</td>\n",
       "      <td>...</td>\n",
       "      <td>...</td>\n",
       "      <td>...</td>\n",
       "      <td>...</td>\n",
       "      <td>...</td>\n",
       "      <td>...</td>\n",
       "    </tr>\n",
       "    <tr>\n",
       "      <td>1299085</td>\n",
       "      <td>19:17:33.765</td>\n",
       "      <td>0.134</td>\n",
       "      <td>TCP</td>\n",
       "      <td>SPA_</td>\n",
       "      <td>0</td>\n",
       "      <td>5</td>\n",
       "      <td>3841</td>\n",
       "      <td>147.32.84.2</td>\n",
       "      <td>80</td>\n",
       "      <td>66.194.55.249</td>\n",
       "      <td>43931</td>\n",
       "      <td>Background</td>\n",
       "      <td>Czechia</td>\n",
       "      <td>Prague</td>\n",
       "      <td>United States</td>\n",
       "      <td>Mechanicville</td>\n",
       "      <td>not_source</td>\n",
       "      <td>not_source</td>\n",
       "      <td>no</td>\n",
       "    </tr>\n",
       "    <tr>\n",
       "      <td>1299086</td>\n",
       "      <td>19:17:33.811</td>\n",
       "      <td>0.930</td>\n",
       "      <td>TCP</td>\n",
       "      <td>FPA_</td>\n",
       "      <td>0</td>\n",
       "      <td>63</td>\n",
       "      <td>85828</td>\n",
       "      <td>147.32.84.165</td>\n",
       "      <td>1386</td>\n",
       "      <td>212.117.171.138</td>\n",
       "      <td>65500</td>\n",
       "      <td>Botnet</td>\n",
       "      <td>Czechia</td>\n",
       "      <td>Prague</td>\n",
       "      <td>Luxembourg</td>\n",
       "      <td>NaN</td>\n",
       "      <td>Prague</td>\n",
       "      <td>Czechia</td>\n",
       "      <td>no</td>\n",
       "    </tr>\n",
       "    <tr>\n",
       "      <td>1299087</td>\n",
       "      <td>19:17:33.811</td>\n",
       "      <td>0.000</td>\n",
       "      <td>TCP</td>\n",
       "      <td>PA_</td>\n",
       "      <td>0</td>\n",
       "      <td>1</td>\n",
       "      <td>71</td>\n",
       "      <td>147.32.84.171</td>\n",
       "      <td>43352</td>\n",
       "      <td>95.211.93.1</td>\n",
       "      <td>30091</td>\n",
       "      <td>Background</td>\n",
       "      <td>Czechia</td>\n",
       "      <td>Prague</td>\n",
       "      <td>Netherlands</td>\n",
       "      <td>NaN</td>\n",
       "      <td>not_source</td>\n",
       "      <td>not_source</td>\n",
       "      <td>no</td>\n",
       "    </tr>\n",
       "    <tr>\n",
       "      <td>1299088</td>\n",
       "      <td>19:17:33.828</td>\n",
       "      <td>0.000</td>\n",
       "      <td>TCP</td>\n",
       "      <td>A_</td>\n",
       "      <td>0</td>\n",
       "      <td>1</td>\n",
       "      <td>66</td>\n",
       "      <td>95.211.93.1</td>\n",
       "      <td>30091</td>\n",
       "      <td>147.32.84.171</td>\n",
       "      <td>43352</td>\n",
       "      <td>Background</td>\n",
       "      <td>Netherlands</td>\n",
       "      <td>NaN</td>\n",
       "      <td>Czechia</td>\n",
       "      <td>Prague</td>\n",
       "      <td>not_source</td>\n",
       "      <td>not_source</td>\n",
       "      <td>no</td>\n",
       "    </tr>\n",
       "    <tr>\n",
       "      <td>1299089</td>\n",
       "      <td>19:17:33.828</td>\n",
       "      <td>1.999</td>\n",
       "      <td>UDP</td>\n",
       "      <td>INT</td>\n",
       "      <td>0</td>\n",
       "      <td>2</td>\n",
       "      <td>352</td>\n",
       "      <td>147.32.84.229</td>\n",
       "      <td>13363</td>\n",
       "      <td>114.39.240.193</td>\n",
       "      <td>65425</td>\n",
       "      <td>Background</td>\n",
       "      <td>Czechia</td>\n",
       "      <td>Prague</td>\n",
       "      <td>Taiwan</td>\n",
       "      <td>NaN</td>\n",
       "      <td>not_source</td>\n",
       "      <td>not_source</td>\n",
       "      <td>no</td>\n",
       "    </tr>\n",
       "  </tbody>\n",
       "</table>\n",
       "<p>1299090 rows × 19 columns</p>\n",
       "</div>"
      ],
      "text/plain": [
       "           Flow_Start  Duration Protocol Flags  Type_of_Service  Packets  \\\n",
       "0        17:13:40.449     4.230      TCP   PA_                0      180   \n",
       "1        17:13:40.449     4.204      TCP   PA_                0      329   \n",
       "2        17:13:40.453     4.985      TCP   PA_                0       94   \n",
       "3        17:13:40.456     4.975      UDP   INT                0      182   \n",
       "4        17:13:40.456     4.975      TCP   PA_                0      185   \n",
       "...               ...       ...      ...   ...              ...      ...   \n",
       "1299085  19:17:33.765     0.134      TCP  SPA_                0        5   \n",
       "1299086  19:17:33.811     0.930      TCP  FPA_                0       63   \n",
       "1299087  19:17:33.811     0.000      TCP   PA_                0        1   \n",
       "1299088  19:17:33.828     0.000      TCP    A_                0        1   \n",
       "1299089  19:17:33.828     1.999      UDP   INT                0        2   \n",
       "\n",
       "          Bytes       Source_IP Source_Port   Destination_IP Destination_Port  \\\n",
       "0         12628  90.177.154.197       20127    147.32.84.144               22   \n",
       "1        478578   147.32.84.144          22   90.177.154.197            20127   \n",
       "2          6212   198.36.38.132       55530    147.32.86.183              443   \n",
       "3         61555    41.103.64.21       54617    147.32.86.183            51246   \n",
       "4         66524   147.32.86.183         443    198.36.38.132            55530   \n",
       "...         ...             ...         ...              ...              ...   \n",
       "1299085    3841     147.32.84.2          80    66.194.55.249            43931   \n",
       "1299086   85828   147.32.84.165        1386  212.117.171.138            65500   \n",
       "1299087      71   147.32.84.171       43352      95.211.93.1            30091   \n",
       "1299088      66     95.211.93.1       30091    147.32.84.171            43352   \n",
       "1299089     352   147.32.84.229       13363   114.39.240.193            65425   \n",
       "\n",
       "              Label source_country source_city   dest_country      dest_city  \\\n",
       "0        Background        Czechia         NaN        Czechia         Prague   \n",
       "1        Background        Czechia      Prague        Czechia            NaN   \n",
       "2        Background   Saudi Arabia     Dhahran        Czechia         Prague   \n",
       "3        Background        Algeria       Chlef        Czechia         Prague   \n",
       "4        Background        Czechia      Prague   Saudi Arabia        Dhahran   \n",
       "...             ...            ...         ...            ...            ...   \n",
       "1299085  Background        Czechia      Prague  United States  Mechanicville   \n",
       "1299086      Botnet        Czechia      Prague     Luxembourg            NaN   \n",
       "1299087  Background        Czechia      Prague    Netherlands            NaN   \n",
       "1299088  Background    Netherlands         NaN        Czechia         Prague   \n",
       "1299089  Background        Czechia      Prague         Taiwan            NaN   \n",
       "\n",
       "                  s           c   po  \n",
       "0        not_source  not_source   22  \n",
       "1        not_source  not_source   no  \n",
       "2        not_source  not_source  443  \n",
       "3        not_source  not_source   no  \n",
       "4        not_source  not_source   no  \n",
       "...             ...         ...  ...  \n",
       "1299085  not_source  not_source   no  \n",
       "1299086      Prague     Czechia   no  \n",
       "1299087  not_source  not_source   no  \n",
       "1299088  not_source  not_source   no  \n",
       "1299089  not_source  not_source   no  \n",
       "\n",
       "[1299090 rows x 19 columns]"
      ]
     },
     "execution_count": 81,
     "metadata": {},
     "output_type": "execute_result"
    }
   ],
   "source": [
    "df2"
   ]
  },
  {
   "cell_type": "code",
   "execution_count": 82,
   "metadata": {
    "ExecuteTime": {
     "end_time": "2020-04-29T16:33:34.356338Z",
     "start_time": "2020-04-29T16:33:32.606021Z"
    }
   },
   "outputs": [
    {
     "data": {
      "text/plain": [
       "array([['22'],\n",
       "       ['no'],\n",
       "       ['443'],\n",
       "       ...,\n",
       "       ['no'],\n",
       "       ['no'],\n",
       "       ['no']], dtype=object)"
      ]
     },
     "execution_count": 82,
     "metadata": {},
     "output_type": "execute_result"
    }
   ],
   "source": [
    "port=df2[['po']].copy()\n",
    "\n",
    "port=pd.DataFrame(port).fillna('None')\n",
    "\n",
    "enc_port = OneHotEncoder(handle_unknown='ignore')\n",
    "cat_port=np.array(port).reshape(-1, 1)\n",
    "cat_port"
   ]
  },
  {
   "cell_type": "code",
   "execution_count": 83,
   "metadata": {
    "ExecuteTime": {
     "end_time": "2020-04-29T16:33:35.245965Z",
     "start_time": "2020-04-29T16:33:34.359331Z"
    }
   },
   "outputs": [
    {
     "data": {
      "text/plain": [
       "array([[0., 0., 0., ..., 0., 0., 0.],\n",
       "       [0., 0., 0., ..., 0., 0., 1.],\n",
       "       [0., 0., 0., ..., 0., 0., 0.],\n",
       "       ...,\n",
       "       [0., 0., 0., ..., 0., 0., 1.],\n",
       "       [0., 0., 0., ..., 0., 0., 1.],\n",
       "       [0., 0., 0., ..., 0., 0., 1.]])"
      ]
     },
     "execution_count": 83,
     "metadata": {},
     "output_type": "execute_result"
    }
   ],
   "source": [
    "cat_port=enc_port.fit_transform(cat_port)\n",
    "cat_port=cat_port.toarray()\n",
    "cat_port"
   ]
  },
  {
   "cell_type": "code",
   "execution_count": 84,
   "metadata": {
    "ExecuteTime": {
     "end_time": "2020-04-29T16:33:35.272894Z",
     "start_time": "2020-04-29T16:33:35.247968Z"
    }
   },
   "outputs": [
    {
     "data": {
      "text/html": [
       "<div>\n",
       "<style scoped>\n",
       "    .dataframe tbody tr th:only-of-type {\n",
       "        vertical-align: middle;\n",
       "    }\n",
       "\n",
       "    .dataframe tbody tr th {\n",
       "        vertical-align: top;\n",
       "    }\n",
       "\n",
       "    .dataframe thead th {\n",
       "        text-align: right;\n",
       "    }\n",
       "</style>\n",
       "<table border=\"1\" class=\"dataframe\">\n",
       "  <thead>\n",
       "    <tr style=\"text-align: right;\">\n",
       "      <th></th>\n",
       "      <th>0</th>\n",
       "      <th>1</th>\n",
       "      <th>2</th>\n",
       "      <th>3</th>\n",
       "      <th>4</th>\n",
       "      <th>5</th>\n",
       "      <th>6</th>\n",
       "      <th>7</th>\n",
       "      <th>8</th>\n",
       "      <th>9</th>\n",
       "      <th>...</th>\n",
       "      <th>55</th>\n",
       "      <th>56</th>\n",
       "      <th>57</th>\n",
       "      <th>58</th>\n",
       "      <th>59</th>\n",
       "      <th>60</th>\n",
       "      <th>61</th>\n",
       "      <th>62</th>\n",
       "      <th>63</th>\n",
       "      <th>64</th>\n",
       "    </tr>\n",
       "  </thead>\n",
       "  <tbody>\n",
       "    <tr>\n",
       "      <td>0</td>\n",
       "      <td>0.0</td>\n",
       "      <td>0.0</td>\n",
       "      <td>0.0</td>\n",
       "      <td>0.0</td>\n",
       "      <td>0.0</td>\n",
       "      <td>0.0</td>\n",
       "      <td>0.0</td>\n",
       "      <td>0.0</td>\n",
       "      <td>0.0</td>\n",
       "      <td>0.0</td>\n",
       "      <td>...</td>\n",
       "      <td>0.0</td>\n",
       "      <td>0.0</td>\n",
       "      <td>0.0</td>\n",
       "      <td>0.0</td>\n",
       "      <td>0.0</td>\n",
       "      <td>0.0</td>\n",
       "      <td>0.0</td>\n",
       "      <td>0.0</td>\n",
       "      <td>0.0</td>\n",
       "      <td>0.0</td>\n",
       "    </tr>\n",
       "    <tr>\n",
       "      <td>1</td>\n",
       "      <td>0.0</td>\n",
       "      <td>0.0</td>\n",
       "      <td>0.0</td>\n",
       "      <td>0.0</td>\n",
       "      <td>0.0</td>\n",
       "      <td>0.0</td>\n",
       "      <td>0.0</td>\n",
       "      <td>0.0</td>\n",
       "      <td>0.0</td>\n",
       "      <td>0.0</td>\n",
       "      <td>...</td>\n",
       "      <td>0.0</td>\n",
       "      <td>0.0</td>\n",
       "      <td>0.0</td>\n",
       "      <td>0.0</td>\n",
       "      <td>0.0</td>\n",
       "      <td>0.0</td>\n",
       "      <td>0.0</td>\n",
       "      <td>0.0</td>\n",
       "      <td>0.0</td>\n",
       "      <td>1.0</td>\n",
       "    </tr>\n",
       "    <tr>\n",
       "      <td>2</td>\n",
       "      <td>0.0</td>\n",
       "      <td>0.0</td>\n",
       "      <td>0.0</td>\n",
       "      <td>0.0</td>\n",
       "      <td>0.0</td>\n",
       "      <td>0.0</td>\n",
       "      <td>0.0</td>\n",
       "      <td>0.0</td>\n",
       "      <td>0.0</td>\n",
       "      <td>0.0</td>\n",
       "      <td>...</td>\n",
       "      <td>0.0</td>\n",
       "      <td>0.0</td>\n",
       "      <td>0.0</td>\n",
       "      <td>0.0</td>\n",
       "      <td>0.0</td>\n",
       "      <td>0.0</td>\n",
       "      <td>0.0</td>\n",
       "      <td>0.0</td>\n",
       "      <td>0.0</td>\n",
       "      <td>0.0</td>\n",
       "    </tr>\n",
       "    <tr>\n",
       "      <td>3</td>\n",
       "      <td>0.0</td>\n",
       "      <td>0.0</td>\n",
       "      <td>0.0</td>\n",
       "      <td>0.0</td>\n",
       "      <td>0.0</td>\n",
       "      <td>0.0</td>\n",
       "      <td>0.0</td>\n",
       "      <td>0.0</td>\n",
       "      <td>0.0</td>\n",
       "      <td>0.0</td>\n",
       "      <td>...</td>\n",
       "      <td>0.0</td>\n",
       "      <td>0.0</td>\n",
       "      <td>0.0</td>\n",
       "      <td>0.0</td>\n",
       "      <td>0.0</td>\n",
       "      <td>0.0</td>\n",
       "      <td>0.0</td>\n",
       "      <td>0.0</td>\n",
       "      <td>0.0</td>\n",
       "      <td>1.0</td>\n",
       "    </tr>\n",
       "    <tr>\n",
       "      <td>4</td>\n",
       "      <td>0.0</td>\n",
       "      <td>0.0</td>\n",
       "      <td>0.0</td>\n",
       "      <td>0.0</td>\n",
       "      <td>0.0</td>\n",
       "      <td>0.0</td>\n",
       "      <td>0.0</td>\n",
       "      <td>0.0</td>\n",
       "      <td>0.0</td>\n",
       "      <td>0.0</td>\n",
       "      <td>...</td>\n",
       "      <td>0.0</td>\n",
       "      <td>0.0</td>\n",
       "      <td>0.0</td>\n",
       "      <td>0.0</td>\n",
       "      <td>0.0</td>\n",
       "      <td>0.0</td>\n",
       "      <td>0.0</td>\n",
       "      <td>0.0</td>\n",
       "      <td>0.0</td>\n",
       "      <td>1.0</td>\n",
       "    </tr>\n",
       "  </tbody>\n",
       "</table>\n",
       "<p>5 rows × 65 columns</p>\n",
       "</div>"
      ],
      "text/plain": [
       "    0    1    2    3    4    5    6    7    8    9   ...   55   56   57   58  \\\n",
       "0  0.0  0.0  0.0  0.0  0.0  0.0  0.0  0.0  0.0  0.0  ...  0.0  0.0  0.0  0.0   \n",
       "1  0.0  0.0  0.0  0.0  0.0  0.0  0.0  0.0  0.0  0.0  ...  0.0  0.0  0.0  0.0   \n",
       "2  0.0  0.0  0.0  0.0  0.0  0.0  0.0  0.0  0.0  0.0  ...  0.0  0.0  0.0  0.0   \n",
       "3  0.0  0.0  0.0  0.0  0.0  0.0  0.0  0.0  0.0  0.0  ...  0.0  0.0  0.0  0.0   \n",
       "4  0.0  0.0  0.0  0.0  0.0  0.0  0.0  0.0  0.0  0.0  ...  0.0  0.0  0.0  0.0   \n",
       "\n",
       "    59   60   61   62   63   64  \n",
       "0  0.0  0.0  0.0  0.0  0.0  0.0  \n",
       "1  0.0  0.0  0.0  0.0  0.0  1.0  \n",
       "2  0.0  0.0  0.0  0.0  0.0  0.0  \n",
       "3  0.0  0.0  0.0  0.0  0.0  1.0  \n",
       "4  0.0  0.0  0.0  0.0  0.0  1.0  \n",
       "\n",
       "[5 rows x 65 columns]"
      ]
     },
     "execution_count": 84,
     "metadata": {},
     "output_type": "execute_result"
    }
   ],
   "source": [
    "New_port = pd.DataFrame(cat_port)\n",
    "New_port.head()"
   ]
  },
  {
   "cell_type": "code",
   "execution_count": 85,
   "metadata": {
    "ExecuteTime": {
     "end_time": "2020-04-29T16:33:35.301817Z",
     "start_time": "2020-04-29T16:33:35.274889Z"
    }
   },
   "outputs": [
    {
     "data": {
      "text/html": [
       "<div>\n",
       "<style scoped>\n",
       "    .dataframe tbody tr th:only-of-type {\n",
       "        vertical-align: middle;\n",
       "    }\n",
       "\n",
       "    .dataframe tbody tr th {\n",
       "        vertical-align: top;\n",
       "    }\n",
       "\n",
       "    .dataframe thead th {\n",
       "        text-align: right;\n",
       "    }\n",
       "</style>\n",
       "<table border=\"1\" class=\"dataframe\">\n",
       "  <thead>\n",
       "    <tr style=\"text-align: right;\">\n",
       "      <th></th>\n",
       "      <th>x0_0</th>\n",
       "      <th>x0_1</th>\n",
       "      <th>x0_1000</th>\n",
       "      <th>x0_1013</th>\n",
       "      <th>x0_104</th>\n",
       "      <th>x0_110</th>\n",
       "      <th>x0_113</th>\n",
       "      <th>x0_118</th>\n",
       "      <th>x0_12</th>\n",
       "      <th>x0_123</th>\n",
       "      <th>...</th>\n",
       "      <th>x0_832</th>\n",
       "      <th>x0_843</th>\n",
       "      <th>x0_877</th>\n",
       "      <th>x0_88</th>\n",
       "      <th>x0_888</th>\n",
       "      <th>x0_916</th>\n",
       "      <th>x0_98</th>\n",
       "      <th>x0_993</th>\n",
       "      <th>x0_995</th>\n",
       "      <th>x0_no</th>\n",
       "    </tr>\n",
       "  </thead>\n",
       "  <tbody>\n",
       "    <tr>\n",
       "      <td>0</td>\n",
       "      <td>0.0</td>\n",
       "      <td>0.0</td>\n",
       "      <td>0.0</td>\n",
       "      <td>0.0</td>\n",
       "      <td>0.0</td>\n",
       "      <td>0.0</td>\n",
       "      <td>0.0</td>\n",
       "      <td>0.0</td>\n",
       "      <td>0.0</td>\n",
       "      <td>0.0</td>\n",
       "      <td>...</td>\n",
       "      <td>0.0</td>\n",
       "      <td>0.0</td>\n",
       "      <td>0.0</td>\n",
       "      <td>0.0</td>\n",
       "      <td>0.0</td>\n",
       "      <td>0.0</td>\n",
       "      <td>0.0</td>\n",
       "      <td>0.0</td>\n",
       "      <td>0.0</td>\n",
       "      <td>0.0</td>\n",
       "    </tr>\n",
       "    <tr>\n",
       "      <td>1</td>\n",
       "      <td>0.0</td>\n",
       "      <td>0.0</td>\n",
       "      <td>0.0</td>\n",
       "      <td>0.0</td>\n",
       "      <td>0.0</td>\n",
       "      <td>0.0</td>\n",
       "      <td>0.0</td>\n",
       "      <td>0.0</td>\n",
       "      <td>0.0</td>\n",
       "      <td>0.0</td>\n",
       "      <td>...</td>\n",
       "      <td>0.0</td>\n",
       "      <td>0.0</td>\n",
       "      <td>0.0</td>\n",
       "      <td>0.0</td>\n",
       "      <td>0.0</td>\n",
       "      <td>0.0</td>\n",
       "      <td>0.0</td>\n",
       "      <td>0.0</td>\n",
       "      <td>0.0</td>\n",
       "      <td>1.0</td>\n",
       "    </tr>\n",
       "    <tr>\n",
       "      <td>2</td>\n",
       "      <td>0.0</td>\n",
       "      <td>0.0</td>\n",
       "      <td>0.0</td>\n",
       "      <td>0.0</td>\n",
       "      <td>0.0</td>\n",
       "      <td>0.0</td>\n",
       "      <td>0.0</td>\n",
       "      <td>0.0</td>\n",
       "      <td>0.0</td>\n",
       "      <td>0.0</td>\n",
       "      <td>...</td>\n",
       "      <td>0.0</td>\n",
       "      <td>0.0</td>\n",
       "      <td>0.0</td>\n",
       "      <td>0.0</td>\n",
       "      <td>0.0</td>\n",
       "      <td>0.0</td>\n",
       "      <td>0.0</td>\n",
       "      <td>0.0</td>\n",
       "      <td>0.0</td>\n",
       "      <td>0.0</td>\n",
       "    </tr>\n",
       "    <tr>\n",
       "      <td>3</td>\n",
       "      <td>0.0</td>\n",
       "      <td>0.0</td>\n",
       "      <td>0.0</td>\n",
       "      <td>0.0</td>\n",
       "      <td>0.0</td>\n",
       "      <td>0.0</td>\n",
       "      <td>0.0</td>\n",
       "      <td>0.0</td>\n",
       "      <td>0.0</td>\n",
       "      <td>0.0</td>\n",
       "      <td>...</td>\n",
       "      <td>0.0</td>\n",
       "      <td>0.0</td>\n",
       "      <td>0.0</td>\n",
       "      <td>0.0</td>\n",
       "      <td>0.0</td>\n",
       "      <td>0.0</td>\n",
       "      <td>0.0</td>\n",
       "      <td>0.0</td>\n",
       "      <td>0.0</td>\n",
       "      <td>1.0</td>\n",
       "    </tr>\n",
       "    <tr>\n",
       "      <td>4</td>\n",
       "      <td>0.0</td>\n",
       "      <td>0.0</td>\n",
       "      <td>0.0</td>\n",
       "      <td>0.0</td>\n",
       "      <td>0.0</td>\n",
       "      <td>0.0</td>\n",
       "      <td>0.0</td>\n",
       "      <td>0.0</td>\n",
       "      <td>0.0</td>\n",
       "      <td>0.0</td>\n",
       "      <td>...</td>\n",
       "      <td>0.0</td>\n",
       "      <td>0.0</td>\n",
       "      <td>0.0</td>\n",
       "      <td>0.0</td>\n",
       "      <td>0.0</td>\n",
       "      <td>0.0</td>\n",
       "      <td>0.0</td>\n",
       "      <td>0.0</td>\n",
       "      <td>0.0</td>\n",
       "      <td>1.0</td>\n",
       "    </tr>\n",
       "  </tbody>\n",
       "</table>\n",
       "<p>5 rows × 65 columns</p>\n",
       "</div>"
      ],
      "text/plain": [
       "   x0_0  x0_1  x0_1000  x0_1013  x0_104  x0_110  x0_113  x0_118  x0_12  \\\n",
       "0   0.0   0.0      0.0      0.0     0.0     0.0     0.0     0.0    0.0   \n",
       "1   0.0   0.0      0.0      0.0     0.0     0.0     0.0     0.0    0.0   \n",
       "2   0.0   0.0      0.0      0.0     0.0     0.0     0.0     0.0    0.0   \n",
       "3   0.0   0.0      0.0      0.0     0.0     0.0     0.0     0.0    0.0   \n",
       "4   0.0   0.0      0.0      0.0     0.0     0.0     0.0     0.0    0.0   \n",
       "\n",
       "   x0_123  ...  x0_832  x0_843  x0_877  x0_88  x0_888  x0_916  x0_98  x0_993  \\\n",
       "0     0.0  ...     0.0     0.0     0.0    0.0     0.0     0.0    0.0     0.0   \n",
       "1     0.0  ...     0.0     0.0     0.0    0.0     0.0     0.0    0.0     0.0   \n",
       "2     0.0  ...     0.0     0.0     0.0    0.0     0.0     0.0    0.0     0.0   \n",
       "3     0.0  ...     0.0     0.0     0.0    0.0     0.0     0.0    0.0     0.0   \n",
       "4     0.0  ...     0.0     0.0     0.0    0.0     0.0     0.0    0.0     0.0   \n",
       "\n",
       "   x0_995  x0_no  \n",
       "0     0.0    0.0  \n",
       "1     0.0    1.0  \n",
       "2     0.0    0.0  \n",
       "3     0.0    1.0  \n",
       "4     0.0    1.0  \n",
       "\n",
       "[5 rows x 65 columns]"
      ]
     },
     "execution_count": 85,
     "metadata": {},
     "output_type": "execute_result"
    }
   ],
   "source": [
    "enc_port.get_feature_names()\n",
    "New_port.columns = enc_port.get_feature_names()\n",
    "New_port.head()"
   ]
  },
  {
   "cell_type": "code",
   "execution_count": 86,
   "metadata": {
    "ExecuteTime": {
     "end_time": "2020-04-29T16:33:36.218398Z",
     "start_time": "2020-04-29T16:33:35.303811Z"
    },
    "scrolled": true
   },
   "outputs": [
    {
     "data": {
      "text/html": [
       "<div>\n",
       "<style scoped>\n",
       "    .dataframe tbody tr th:only-of-type {\n",
       "        vertical-align: middle;\n",
       "    }\n",
       "\n",
       "    .dataframe tbody tr th {\n",
       "        vertical-align: top;\n",
       "    }\n",
       "\n",
       "    .dataframe thead th {\n",
       "        text-align: right;\n",
       "    }\n",
       "</style>\n",
       "<table border=\"1\" class=\"dataframe\">\n",
       "  <thead>\n",
       "    <tr style=\"text-align: right;\">\n",
       "      <th></th>\n",
       "      <th>0</th>\n",
       "      <th>1</th>\n",
       "      <th>1000</th>\n",
       "      <th>1013</th>\n",
       "      <th>104</th>\n",
       "      <th>110</th>\n",
       "      <th>113</th>\n",
       "      <th>118</th>\n",
       "      <th>12</th>\n",
       "      <th>123</th>\n",
       "      <th>...</th>\n",
       "      <th>832</th>\n",
       "      <th>843</th>\n",
       "      <th>877</th>\n",
       "      <th>88</th>\n",
       "      <th>888</th>\n",
       "      <th>916</th>\n",
       "      <th>98</th>\n",
       "      <th>993</th>\n",
       "      <th>995</th>\n",
       "      <th>no</th>\n",
       "    </tr>\n",
       "  </thead>\n",
       "  <tbody>\n",
       "    <tr>\n",
       "      <td>0</td>\n",
       "      <td>0.0</td>\n",
       "      <td>0.0</td>\n",
       "      <td>0.0</td>\n",
       "      <td>0.0</td>\n",
       "      <td>0.0</td>\n",
       "      <td>0.0</td>\n",
       "      <td>0.0</td>\n",
       "      <td>0.0</td>\n",
       "      <td>0.0</td>\n",
       "      <td>0.0</td>\n",
       "      <td>...</td>\n",
       "      <td>0.0</td>\n",
       "      <td>0.0</td>\n",
       "      <td>0.0</td>\n",
       "      <td>0.0</td>\n",
       "      <td>0.0</td>\n",
       "      <td>0.0</td>\n",
       "      <td>0.0</td>\n",
       "      <td>0.0</td>\n",
       "      <td>0.0</td>\n",
       "      <td>0.0</td>\n",
       "    </tr>\n",
       "    <tr>\n",
       "      <td>1</td>\n",
       "      <td>0.0</td>\n",
       "      <td>0.0</td>\n",
       "      <td>0.0</td>\n",
       "      <td>0.0</td>\n",
       "      <td>0.0</td>\n",
       "      <td>0.0</td>\n",
       "      <td>0.0</td>\n",
       "      <td>0.0</td>\n",
       "      <td>0.0</td>\n",
       "      <td>0.0</td>\n",
       "      <td>...</td>\n",
       "      <td>0.0</td>\n",
       "      <td>0.0</td>\n",
       "      <td>0.0</td>\n",
       "      <td>0.0</td>\n",
       "      <td>0.0</td>\n",
       "      <td>0.0</td>\n",
       "      <td>0.0</td>\n",
       "      <td>0.0</td>\n",
       "      <td>0.0</td>\n",
       "      <td>1.0</td>\n",
       "    </tr>\n",
       "    <tr>\n",
       "      <td>2</td>\n",
       "      <td>0.0</td>\n",
       "      <td>0.0</td>\n",
       "      <td>0.0</td>\n",
       "      <td>0.0</td>\n",
       "      <td>0.0</td>\n",
       "      <td>0.0</td>\n",
       "      <td>0.0</td>\n",
       "      <td>0.0</td>\n",
       "      <td>0.0</td>\n",
       "      <td>0.0</td>\n",
       "      <td>...</td>\n",
       "      <td>0.0</td>\n",
       "      <td>0.0</td>\n",
       "      <td>0.0</td>\n",
       "      <td>0.0</td>\n",
       "      <td>0.0</td>\n",
       "      <td>0.0</td>\n",
       "      <td>0.0</td>\n",
       "      <td>0.0</td>\n",
       "      <td>0.0</td>\n",
       "      <td>0.0</td>\n",
       "    </tr>\n",
       "    <tr>\n",
       "      <td>3</td>\n",
       "      <td>0.0</td>\n",
       "      <td>0.0</td>\n",
       "      <td>0.0</td>\n",
       "      <td>0.0</td>\n",
       "      <td>0.0</td>\n",
       "      <td>0.0</td>\n",
       "      <td>0.0</td>\n",
       "      <td>0.0</td>\n",
       "      <td>0.0</td>\n",
       "      <td>0.0</td>\n",
       "      <td>...</td>\n",
       "      <td>0.0</td>\n",
       "      <td>0.0</td>\n",
       "      <td>0.0</td>\n",
       "      <td>0.0</td>\n",
       "      <td>0.0</td>\n",
       "      <td>0.0</td>\n",
       "      <td>0.0</td>\n",
       "      <td>0.0</td>\n",
       "      <td>0.0</td>\n",
       "      <td>1.0</td>\n",
       "    </tr>\n",
       "    <tr>\n",
       "      <td>4</td>\n",
       "      <td>0.0</td>\n",
       "      <td>0.0</td>\n",
       "      <td>0.0</td>\n",
       "      <td>0.0</td>\n",
       "      <td>0.0</td>\n",
       "      <td>0.0</td>\n",
       "      <td>0.0</td>\n",
       "      <td>0.0</td>\n",
       "      <td>0.0</td>\n",
       "      <td>0.0</td>\n",
       "      <td>...</td>\n",
       "      <td>0.0</td>\n",
       "      <td>0.0</td>\n",
       "      <td>0.0</td>\n",
       "      <td>0.0</td>\n",
       "      <td>0.0</td>\n",
       "      <td>0.0</td>\n",
       "      <td>0.0</td>\n",
       "      <td>0.0</td>\n",
       "      <td>0.0</td>\n",
       "      <td>1.0</td>\n",
       "    </tr>\n",
       "    <tr>\n",
       "      <td>...</td>\n",
       "      <td>...</td>\n",
       "      <td>...</td>\n",
       "      <td>...</td>\n",
       "      <td>...</td>\n",
       "      <td>...</td>\n",
       "      <td>...</td>\n",
       "      <td>...</td>\n",
       "      <td>...</td>\n",
       "      <td>...</td>\n",
       "      <td>...</td>\n",
       "      <td>...</td>\n",
       "      <td>...</td>\n",
       "      <td>...</td>\n",
       "      <td>...</td>\n",
       "      <td>...</td>\n",
       "      <td>...</td>\n",
       "      <td>...</td>\n",
       "      <td>...</td>\n",
       "      <td>...</td>\n",
       "      <td>...</td>\n",
       "      <td>...</td>\n",
       "    </tr>\n",
       "    <tr>\n",
       "      <td>1299085</td>\n",
       "      <td>0.0</td>\n",
       "      <td>0.0</td>\n",
       "      <td>0.0</td>\n",
       "      <td>0.0</td>\n",
       "      <td>0.0</td>\n",
       "      <td>0.0</td>\n",
       "      <td>0.0</td>\n",
       "      <td>0.0</td>\n",
       "      <td>0.0</td>\n",
       "      <td>0.0</td>\n",
       "      <td>...</td>\n",
       "      <td>0.0</td>\n",
       "      <td>0.0</td>\n",
       "      <td>0.0</td>\n",
       "      <td>0.0</td>\n",
       "      <td>0.0</td>\n",
       "      <td>0.0</td>\n",
       "      <td>0.0</td>\n",
       "      <td>0.0</td>\n",
       "      <td>0.0</td>\n",
       "      <td>1.0</td>\n",
       "    </tr>\n",
       "    <tr>\n",
       "      <td>1299086</td>\n",
       "      <td>0.0</td>\n",
       "      <td>0.0</td>\n",
       "      <td>0.0</td>\n",
       "      <td>0.0</td>\n",
       "      <td>0.0</td>\n",
       "      <td>0.0</td>\n",
       "      <td>0.0</td>\n",
       "      <td>0.0</td>\n",
       "      <td>0.0</td>\n",
       "      <td>0.0</td>\n",
       "      <td>...</td>\n",
       "      <td>0.0</td>\n",
       "      <td>0.0</td>\n",
       "      <td>0.0</td>\n",
       "      <td>0.0</td>\n",
       "      <td>0.0</td>\n",
       "      <td>0.0</td>\n",
       "      <td>0.0</td>\n",
       "      <td>0.0</td>\n",
       "      <td>0.0</td>\n",
       "      <td>1.0</td>\n",
       "    </tr>\n",
       "    <tr>\n",
       "      <td>1299087</td>\n",
       "      <td>0.0</td>\n",
       "      <td>0.0</td>\n",
       "      <td>0.0</td>\n",
       "      <td>0.0</td>\n",
       "      <td>0.0</td>\n",
       "      <td>0.0</td>\n",
       "      <td>0.0</td>\n",
       "      <td>0.0</td>\n",
       "      <td>0.0</td>\n",
       "      <td>0.0</td>\n",
       "      <td>...</td>\n",
       "      <td>0.0</td>\n",
       "      <td>0.0</td>\n",
       "      <td>0.0</td>\n",
       "      <td>0.0</td>\n",
       "      <td>0.0</td>\n",
       "      <td>0.0</td>\n",
       "      <td>0.0</td>\n",
       "      <td>0.0</td>\n",
       "      <td>0.0</td>\n",
       "      <td>1.0</td>\n",
       "    </tr>\n",
       "    <tr>\n",
       "      <td>1299088</td>\n",
       "      <td>0.0</td>\n",
       "      <td>0.0</td>\n",
       "      <td>0.0</td>\n",
       "      <td>0.0</td>\n",
       "      <td>0.0</td>\n",
       "      <td>0.0</td>\n",
       "      <td>0.0</td>\n",
       "      <td>0.0</td>\n",
       "      <td>0.0</td>\n",
       "      <td>0.0</td>\n",
       "      <td>...</td>\n",
       "      <td>0.0</td>\n",
       "      <td>0.0</td>\n",
       "      <td>0.0</td>\n",
       "      <td>0.0</td>\n",
       "      <td>0.0</td>\n",
       "      <td>0.0</td>\n",
       "      <td>0.0</td>\n",
       "      <td>0.0</td>\n",
       "      <td>0.0</td>\n",
       "      <td>1.0</td>\n",
       "    </tr>\n",
       "    <tr>\n",
       "      <td>1299089</td>\n",
       "      <td>0.0</td>\n",
       "      <td>0.0</td>\n",
       "      <td>0.0</td>\n",
       "      <td>0.0</td>\n",
       "      <td>0.0</td>\n",
       "      <td>0.0</td>\n",
       "      <td>0.0</td>\n",
       "      <td>0.0</td>\n",
       "      <td>0.0</td>\n",
       "      <td>0.0</td>\n",
       "      <td>...</td>\n",
       "      <td>0.0</td>\n",
       "      <td>0.0</td>\n",
       "      <td>0.0</td>\n",
       "      <td>0.0</td>\n",
       "      <td>0.0</td>\n",
       "      <td>0.0</td>\n",
       "      <td>0.0</td>\n",
       "      <td>0.0</td>\n",
       "      <td>0.0</td>\n",
       "      <td>1.0</td>\n",
       "    </tr>\n",
       "  </tbody>\n",
       "</table>\n",
       "<p>1299090 rows × 65 columns</p>\n",
       "</div>"
      ],
      "text/plain": [
       "           0    1  1000  1013  104  110  113  118   12  123  ...  832  843  \\\n",
       "0        0.0  0.0   0.0   0.0  0.0  0.0  0.0  0.0  0.0  0.0  ...  0.0  0.0   \n",
       "1        0.0  0.0   0.0   0.0  0.0  0.0  0.0  0.0  0.0  0.0  ...  0.0  0.0   \n",
       "2        0.0  0.0   0.0   0.0  0.0  0.0  0.0  0.0  0.0  0.0  ...  0.0  0.0   \n",
       "3        0.0  0.0   0.0   0.0  0.0  0.0  0.0  0.0  0.0  0.0  ...  0.0  0.0   \n",
       "4        0.0  0.0   0.0   0.0  0.0  0.0  0.0  0.0  0.0  0.0  ...  0.0  0.0   \n",
       "...      ...  ...   ...   ...  ...  ...  ...  ...  ...  ...  ...  ...  ...   \n",
       "1299085  0.0  0.0   0.0   0.0  0.0  0.0  0.0  0.0  0.0  0.0  ...  0.0  0.0   \n",
       "1299086  0.0  0.0   0.0   0.0  0.0  0.0  0.0  0.0  0.0  0.0  ...  0.0  0.0   \n",
       "1299087  0.0  0.0   0.0   0.0  0.0  0.0  0.0  0.0  0.0  0.0  ...  0.0  0.0   \n",
       "1299088  0.0  0.0   0.0   0.0  0.0  0.0  0.0  0.0  0.0  0.0  ...  0.0  0.0   \n",
       "1299089  0.0  0.0   0.0   0.0  0.0  0.0  0.0  0.0  0.0  0.0  ...  0.0  0.0   \n",
       "\n",
       "         877   88  888  916   98  993  995   no  \n",
       "0        0.0  0.0  0.0  0.0  0.0  0.0  0.0  0.0  \n",
       "1        0.0  0.0  0.0  0.0  0.0  0.0  0.0  1.0  \n",
       "2        0.0  0.0  0.0  0.0  0.0  0.0  0.0  0.0  \n",
       "3        0.0  0.0  0.0  0.0  0.0  0.0  0.0  1.0  \n",
       "4        0.0  0.0  0.0  0.0  0.0  0.0  0.0  1.0  \n",
       "...      ...  ...  ...  ...  ...  ...  ...  ...  \n",
       "1299085  0.0  0.0  0.0  0.0  0.0  0.0  0.0  1.0  \n",
       "1299086  0.0  0.0  0.0  0.0  0.0  0.0  0.0  1.0  \n",
       "1299087  0.0  0.0  0.0  0.0  0.0  0.0  0.0  1.0  \n",
       "1299088  0.0  0.0  0.0  0.0  0.0  0.0  0.0  1.0  \n",
       "1299089  0.0  0.0  0.0  0.0  0.0  0.0  0.0  1.0  \n",
       "\n",
       "[1299090 rows x 65 columns]"
      ]
     },
     "execution_count": 86,
     "metadata": {},
     "output_type": "execute_result"
    }
   ],
   "source": [
    "# Removing the first 3 characters from each column name.  Not sure why it does those x0_ characters in front.  \n",
    "New_port.columns = New_port.columns.str[3:]\n",
    "New_port"
   ]
  },
  {
   "cell_type": "code",
   "execution_count": 87,
   "metadata": {
    "ExecuteTime": {
     "end_time": "2020-04-29T16:33:36.755954Z",
     "start_time": "2020-04-29T16:33:36.220360Z"
    }
   },
   "outputs": [],
   "source": [
    "New_port = New_port.drop(columns=['no'],axis=1)"
   ]
  },
  {
   "cell_type": "code",
   "execution_count": 88,
   "metadata": {
    "ExecuteTime": {
     "end_time": "2020-04-29T16:33:39.445736Z",
     "start_time": "2020-04-29T16:33:36.758921Z"
    },
    "scrolled": true
   },
   "outputs": [],
   "source": [
    "final_X=pd.merge(Exerything_Except_Ports, New_port, right_index=True,left_index=True)"
   ]
  },
  {
   "cell_type": "code",
   "execution_count": 89,
   "metadata": {
    "ExecuteTime": {
     "end_time": "2020-04-29T16:33:40.412151Z",
     "start_time": "2020-04-29T16:33:39.447731Z"
    },
    "scrolled": true
   },
   "outputs": [
    {
     "data": {
      "text/html": [
       "<div>\n",
       "<style scoped>\n",
       "    .dataframe tbody tr th:only-of-type {\n",
       "        vertical-align: middle;\n",
       "    }\n",
       "\n",
       "    .dataframe tbody tr th {\n",
       "        vertical-align: top;\n",
       "    }\n",
       "\n",
       "    .dataframe thead th {\n",
       "        text-align: right;\n",
       "    }\n",
       "</style>\n",
       "<table border=\"1\" class=\"dataframe\">\n",
       "  <thead>\n",
       "    <tr style=\"text-align: right;\">\n",
       "      <th></th>\n",
       "      <th>Flow_Start</th>\n",
       "      <th>Source_IP</th>\n",
       "      <th>Destination_IP</th>\n",
       "      <th>Duration</th>\n",
       "      <th>Packets</th>\n",
       "      <th>Bytes</th>\n",
       "      <th>A_</th>\n",
       "      <th>CON</th>\n",
       "      <th>ECO</th>\n",
       "      <th>ECR</th>\n",
       "      <th>...</th>\n",
       "      <th>83</th>\n",
       "      <th>832</th>\n",
       "      <th>843</th>\n",
       "      <th>877</th>\n",
       "      <th>88</th>\n",
       "      <th>888</th>\n",
       "      <th>916</th>\n",
       "      <th>98</th>\n",
       "      <th>993</th>\n",
       "      <th>995</th>\n",
       "    </tr>\n",
       "  </thead>\n",
       "  <tbody>\n",
       "    <tr>\n",
       "      <td>0</td>\n",
       "      <td>17:13:40.449</td>\n",
       "      <td>90.177.154.197</td>\n",
       "      <td>147.32.84.144</td>\n",
       "      <td>4.230</td>\n",
       "      <td>180</td>\n",
       "      <td>12628</td>\n",
       "      <td>0.0</td>\n",
       "      <td>0.0</td>\n",
       "      <td>0.0</td>\n",
       "      <td>0.0</td>\n",
       "      <td>...</td>\n",
       "      <td>0.0</td>\n",
       "      <td>0.0</td>\n",
       "      <td>0.0</td>\n",
       "      <td>0.0</td>\n",
       "      <td>0.0</td>\n",
       "      <td>0.0</td>\n",
       "      <td>0.0</td>\n",
       "      <td>0.0</td>\n",
       "      <td>0.0</td>\n",
       "      <td>0.0</td>\n",
       "    </tr>\n",
       "    <tr>\n",
       "      <td>1</td>\n",
       "      <td>17:13:40.449</td>\n",
       "      <td>147.32.84.144</td>\n",
       "      <td>90.177.154.197</td>\n",
       "      <td>4.204</td>\n",
       "      <td>329</td>\n",
       "      <td>478578</td>\n",
       "      <td>0.0</td>\n",
       "      <td>0.0</td>\n",
       "      <td>0.0</td>\n",
       "      <td>0.0</td>\n",
       "      <td>...</td>\n",
       "      <td>0.0</td>\n",
       "      <td>0.0</td>\n",
       "      <td>0.0</td>\n",
       "      <td>0.0</td>\n",
       "      <td>0.0</td>\n",
       "      <td>0.0</td>\n",
       "      <td>0.0</td>\n",
       "      <td>0.0</td>\n",
       "      <td>0.0</td>\n",
       "      <td>0.0</td>\n",
       "    </tr>\n",
       "    <tr>\n",
       "      <td>2</td>\n",
       "      <td>17:13:40.453</td>\n",
       "      <td>198.36.38.132</td>\n",
       "      <td>147.32.86.183</td>\n",
       "      <td>4.985</td>\n",
       "      <td>94</td>\n",
       "      <td>6212</td>\n",
       "      <td>0.0</td>\n",
       "      <td>0.0</td>\n",
       "      <td>0.0</td>\n",
       "      <td>0.0</td>\n",
       "      <td>...</td>\n",
       "      <td>0.0</td>\n",
       "      <td>0.0</td>\n",
       "      <td>0.0</td>\n",
       "      <td>0.0</td>\n",
       "      <td>0.0</td>\n",
       "      <td>0.0</td>\n",
       "      <td>0.0</td>\n",
       "      <td>0.0</td>\n",
       "      <td>0.0</td>\n",
       "      <td>0.0</td>\n",
       "    </tr>\n",
       "    <tr>\n",
       "      <td>3</td>\n",
       "      <td>17:13:40.456</td>\n",
       "      <td>41.103.64.21</td>\n",
       "      <td>147.32.86.183</td>\n",
       "      <td>4.975</td>\n",
       "      <td>182</td>\n",
       "      <td>61555</td>\n",
       "      <td>0.0</td>\n",
       "      <td>0.0</td>\n",
       "      <td>0.0</td>\n",
       "      <td>0.0</td>\n",
       "      <td>...</td>\n",
       "      <td>0.0</td>\n",
       "      <td>0.0</td>\n",
       "      <td>0.0</td>\n",
       "      <td>0.0</td>\n",
       "      <td>0.0</td>\n",
       "      <td>0.0</td>\n",
       "      <td>0.0</td>\n",
       "      <td>0.0</td>\n",
       "      <td>0.0</td>\n",
       "      <td>0.0</td>\n",
       "    </tr>\n",
       "    <tr>\n",
       "      <td>4</td>\n",
       "      <td>17:13:40.456</td>\n",
       "      <td>147.32.86.183</td>\n",
       "      <td>198.36.38.132</td>\n",
       "      <td>4.975</td>\n",
       "      <td>185</td>\n",
       "      <td>66524</td>\n",
       "      <td>0.0</td>\n",
       "      <td>0.0</td>\n",
       "      <td>0.0</td>\n",
       "      <td>0.0</td>\n",
       "      <td>...</td>\n",
       "      <td>0.0</td>\n",
       "      <td>0.0</td>\n",
       "      <td>0.0</td>\n",
       "      <td>0.0</td>\n",
       "      <td>0.0</td>\n",
       "      <td>0.0</td>\n",
       "      <td>0.0</td>\n",
       "      <td>0.0</td>\n",
       "      <td>0.0</td>\n",
       "      <td>0.0</td>\n",
       "    </tr>\n",
       "    <tr>\n",
       "      <td>...</td>\n",
       "      <td>...</td>\n",
       "      <td>...</td>\n",
       "      <td>...</td>\n",
       "      <td>...</td>\n",
       "      <td>...</td>\n",
       "      <td>...</td>\n",
       "      <td>...</td>\n",
       "      <td>...</td>\n",
       "      <td>...</td>\n",
       "      <td>...</td>\n",
       "      <td>...</td>\n",
       "      <td>...</td>\n",
       "      <td>...</td>\n",
       "      <td>...</td>\n",
       "      <td>...</td>\n",
       "      <td>...</td>\n",
       "      <td>...</td>\n",
       "      <td>...</td>\n",
       "      <td>...</td>\n",
       "      <td>...</td>\n",
       "      <td>...</td>\n",
       "    </tr>\n",
       "    <tr>\n",
       "      <td>1299085</td>\n",
       "      <td>19:17:33.765</td>\n",
       "      <td>147.32.84.2</td>\n",
       "      <td>66.194.55.249</td>\n",
       "      <td>0.134</td>\n",
       "      <td>5</td>\n",
       "      <td>3841</td>\n",
       "      <td>0.0</td>\n",
       "      <td>0.0</td>\n",
       "      <td>0.0</td>\n",
       "      <td>0.0</td>\n",
       "      <td>...</td>\n",
       "      <td>0.0</td>\n",
       "      <td>0.0</td>\n",
       "      <td>0.0</td>\n",
       "      <td>0.0</td>\n",
       "      <td>0.0</td>\n",
       "      <td>0.0</td>\n",
       "      <td>0.0</td>\n",
       "      <td>0.0</td>\n",
       "      <td>0.0</td>\n",
       "      <td>0.0</td>\n",
       "    </tr>\n",
       "    <tr>\n",
       "      <td>1299086</td>\n",
       "      <td>19:17:33.811</td>\n",
       "      <td>147.32.84.165</td>\n",
       "      <td>212.117.171.138</td>\n",
       "      <td>0.930</td>\n",
       "      <td>63</td>\n",
       "      <td>85828</td>\n",
       "      <td>0.0</td>\n",
       "      <td>0.0</td>\n",
       "      <td>0.0</td>\n",
       "      <td>0.0</td>\n",
       "      <td>...</td>\n",
       "      <td>0.0</td>\n",
       "      <td>0.0</td>\n",
       "      <td>0.0</td>\n",
       "      <td>0.0</td>\n",
       "      <td>0.0</td>\n",
       "      <td>0.0</td>\n",
       "      <td>0.0</td>\n",
       "      <td>0.0</td>\n",
       "      <td>0.0</td>\n",
       "      <td>0.0</td>\n",
       "    </tr>\n",
       "    <tr>\n",
       "      <td>1299087</td>\n",
       "      <td>19:17:33.811</td>\n",
       "      <td>147.32.84.171</td>\n",
       "      <td>95.211.93.1</td>\n",
       "      <td>0.000</td>\n",
       "      <td>1</td>\n",
       "      <td>71</td>\n",
       "      <td>0.0</td>\n",
       "      <td>0.0</td>\n",
       "      <td>0.0</td>\n",
       "      <td>0.0</td>\n",
       "      <td>...</td>\n",
       "      <td>0.0</td>\n",
       "      <td>0.0</td>\n",
       "      <td>0.0</td>\n",
       "      <td>0.0</td>\n",
       "      <td>0.0</td>\n",
       "      <td>0.0</td>\n",
       "      <td>0.0</td>\n",
       "      <td>0.0</td>\n",
       "      <td>0.0</td>\n",
       "      <td>0.0</td>\n",
       "    </tr>\n",
       "    <tr>\n",
       "      <td>1299088</td>\n",
       "      <td>19:17:33.828</td>\n",
       "      <td>95.211.93.1</td>\n",
       "      <td>147.32.84.171</td>\n",
       "      <td>0.000</td>\n",
       "      <td>1</td>\n",
       "      <td>66</td>\n",
       "      <td>1.0</td>\n",
       "      <td>0.0</td>\n",
       "      <td>0.0</td>\n",
       "      <td>0.0</td>\n",
       "      <td>...</td>\n",
       "      <td>0.0</td>\n",
       "      <td>0.0</td>\n",
       "      <td>0.0</td>\n",
       "      <td>0.0</td>\n",
       "      <td>0.0</td>\n",
       "      <td>0.0</td>\n",
       "      <td>0.0</td>\n",
       "      <td>0.0</td>\n",
       "      <td>0.0</td>\n",
       "      <td>0.0</td>\n",
       "    </tr>\n",
       "    <tr>\n",
       "      <td>1299089</td>\n",
       "      <td>19:17:33.828</td>\n",
       "      <td>147.32.84.229</td>\n",
       "      <td>114.39.240.193</td>\n",
       "      <td>1.999</td>\n",
       "      <td>2</td>\n",
       "      <td>352</td>\n",
       "      <td>0.0</td>\n",
       "      <td>0.0</td>\n",
       "      <td>0.0</td>\n",
       "      <td>0.0</td>\n",
       "      <td>...</td>\n",
       "      <td>0.0</td>\n",
       "      <td>0.0</td>\n",
       "      <td>0.0</td>\n",
       "      <td>0.0</td>\n",
       "      <td>0.0</td>\n",
       "      <td>0.0</td>\n",
       "      <td>0.0</td>\n",
       "      <td>0.0</td>\n",
       "      <td>0.0</td>\n",
       "      <td>0.0</td>\n",
       "    </tr>\n",
       "  </tbody>\n",
       "</table>\n",
       "<p>1299090 rows × 254 columns</p>\n",
       "</div>"
      ],
      "text/plain": [
       "           Flow_Start       Source_IP   Destination_IP  Duration  Packets  \\\n",
       "0        17:13:40.449  90.177.154.197    147.32.84.144     4.230      180   \n",
       "1        17:13:40.449   147.32.84.144   90.177.154.197     4.204      329   \n",
       "2        17:13:40.453   198.36.38.132    147.32.86.183     4.985       94   \n",
       "3        17:13:40.456    41.103.64.21    147.32.86.183     4.975      182   \n",
       "4        17:13:40.456   147.32.86.183    198.36.38.132     4.975      185   \n",
       "...               ...             ...              ...       ...      ...   \n",
       "1299085  19:17:33.765     147.32.84.2    66.194.55.249     0.134        5   \n",
       "1299086  19:17:33.811   147.32.84.165  212.117.171.138     0.930       63   \n",
       "1299087  19:17:33.811   147.32.84.171      95.211.93.1     0.000        1   \n",
       "1299088  19:17:33.828     95.211.93.1    147.32.84.171     0.000        1   \n",
       "1299089  19:17:33.828   147.32.84.229   114.39.240.193     1.999        2   \n",
       "\n",
       "          Bytes   A_  CON  ECO  ECR  ...   83  832  843  877   88  888  916  \\\n",
       "0         12628  0.0  0.0  0.0  0.0  ...  0.0  0.0  0.0  0.0  0.0  0.0  0.0   \n",
       "1        478578  0.0  0.0  0.0  0.0  ...  0.0  0.0  0.0  0.0  0.0  0.0  0.0   \n",
       "2          6212  0.0  0.0  0.0  0.0  ...  0.0  0.0  0.0  0.0  0.0  0.0  0.0   \n",
       "3         61555  0.0  0.0  0.0  0.0  ...  0.0  0.0  0.0  0.0  0.0  0.0  0.0   \n",
       "4         66524  0.0  0.0  0.0  0.0  ...  0.0  0.0  0.0  0.0  0.0  0.0  0.0   \n",
       "...         ...  ...  ...  ...  ...  ...  ...  ...  ...  ...  ...  ...  ...   \n",
       "1299085    3841  0.0  0.0  0.0  0.0  ...  0.0  0.0  0.0  0.0  0.0  0.0  0.0   \n",
       "1299086   85828  0.0  0.0  0.0  0.0  ...  0.0  0.0  0.0  0.0  0.0  0.0  0.0   \n",
       "1299087      71  0.0  0.0  0.0  0.0  ...  0.0  0.0  0.0  0.0  0.0  0.0  0.0   \n",
       "1299088      66  1.0  0.0  0.0  0.0  ...  0.0  0.0  0.0  0.0  0.0  0.0  0.0   \n",
       "1299089     352  0.0  0.0  0.0  0.0  ...  0.0  0.0  0.0  0.0  0.0  0.0  0.0   \n",
       "\n",
       "          98  993  995  \n",
       "0        0.0  0.0  0.0  \n",
       "1        0.0  0.0  0.0  \n",
       "2        0.0  0.0  0.0  \n",
       "3        0.0  0.0  0.0  \n",
       "4        0.0  0.0  0.0  \n",
       "...      ...  ...  ...  \n",
       "1299085  0.0  0.0  0.0  \n",
       "1299086  0.0  0.0  0.0  \n",
       "1299087  0.0  0.0  0.0  \n",
       "1299088  0.0  0.0  0.0  \n",
       "1299089  0.0  0.0  0.0  \n",
       "\n",
       "[1299090 rows x 254 columns]"
      ]
     },
     "execution_count": 89,
     "metadata": {},
     "output_type": "execute_result"
    }
   ],
   "source": [
    "final_X"
   ]
  },
  {
   "cell_type": "code",
   "execution_count": 90,
   "metadata": {
    "ExecuteTime": {
     "end_time": "2020-04-29T16:33:47.514109Z",
     "start_time": "2020-04-29T16:33:40.415143Z"
    }
   },
   "outputs": [
    {
     "data": {
      "text/html": [
       "<div>\n",
       "<style scoped>\n",
       "    .dataframe tbody tr th:only-of-type {\n",
       "        vertical-align: middle;\n",
       "    }\n",
       "\n",
       "    .dataframe tbody tr th {\n",
       "        vertical-align: top;\n",
       "    }\n",
       "\n",
       "    .dataframe thead th {\n",
       "        text-align: right;\n",
       "    }\n",
       "</style>\n",
       "<table border=\"1\" class=\"dataframe\">\n",
       "  <thead>\n",
       "    <tr style=\"text-align: right;\">\n",
       "      <th></th>\n",
       "      <th>Label</th>\n",
       "      <th>yes/no</th>\n",
       "    </tr>\n",
       "  </thead>\n",
       "  <tbody>\n",
       "    <tr>\n",
       "      <td>0</td>\n",
       "      <td>Background</td>\n",
       "      <td>no</td>\n",
       "    </tr>\n",
       "    <tr>\n",
       "      <td>1</td>\n",
       "      <td>Background</td>\n",
       "      <td>no</td>\n",
       "    </tr>\n",
       "    <tr>\n",
       "      <td>2</td>\n",
       "      <td>Background</td>\n",
       "      <td>no</td>\n",
       "    </tr>\n",
       "    <tr>\n",
       "      <td>3</td>\n",
       "      <td>Background</td>\n",
       "      <td>no</td>\n",
       "    </tr>\n",
       "    <tr>\n",
       "      <td>4</td>\n",
       "      <td>Background</td>\n",
       "      <td>no</td>\n",
       "    </tr>\n",
       "  </tbody>\n",
       "</table>\n",
       "</div>"
      ],
      "text/plain": [
       "        Label yes/no\n",
       "0  Background     no\n",
       "1  Background     no\n",
       "2  Background     no\n",
       "3  Background     no\n",
       "4  Background     no"
      ]
     },
     "execution_count": 90,
     "metadata": {},
     "output_type": "execute_result"
    }
   ],
   "source": [
    "Labels_and_YN = d[['Label', 'yes/no']]\n",
    "Labels_and_YN.head()"
   ]
  },
  {
   "cell_type": "code",
   "execution_count": 91,
   "metadata": {
    "ExecuteTime": {
     "end_time": "2020-04-29T16:33:48.330920Z",
     "start_time": "2020-04-29T16:33:47.523080Z"
    },
    "scrolled": true
   },
   "outputs": [],
   "source": [
    "Final_Dataset = pd.merge(Labels_and_YN, final_X, left_index=True, right_index=True)"
   ]
  },
  {
   "cell_type": "code",
   "execution_count": 92,
   "metadata": {
    "ExecuteTime": {
     "end_time": "2020-04-29T16:33:48.352867Z",
     "start_time": "2020-04-29T16:33:48.333912Z"
    }
   },
   "outputs": [
    {
     "data": {
      "text/plain": [
       "array(['Label', 'yes/no', 'Flow_Start', 'Source_IP', 'Destination_IP',\n",
       "       'Duration', 'Packets', 'Bytes', 'A_', 'CON', 'ECO', 'ECR', 'FAC_',\n",
       "       'FAU_', 'FA_', 'FPAC_', 'FPA_', 'FRAEC_', 'FRA_', 'FRPAC_',\n",
       "       'FRPA_', 'FR_', 'FSA_', 'FSPAC_', 'FSPA_', 'FSRA_', 'FSRPAC_',\n",
       "       'FSRPA_', 'FSR_', 'FS_', 'F_', 'INT', 'NNS', 'NRA', 'PAC_', 'PA_',\n",
       "       'RA_', 'RC_', 'RED', 'RE_', 'RPA_', 'RPA_FRPA', 'R_', 'SA_',\n",
       "       'SEC_', 'SPAC_', 'SPA_', 'SRA_', 'SRC', 'SRPA_', 'SR_', 'S_',\n",
       "       'TXD', 'URF', 'URFIL', 'URH', 'URHPRO', 'URN', 'URO', 'URP',\n",
       "       '_FSA', '_FSPA', '_FSPAC', '_FSRA', '_FSRPA', 'ARP', 'ICMP',\n",
       "       'IGMP', 'IPV6', 'IPV6-ICMP', 'IPX/SPX', 'PIM', 'RTCP', 'RTP',\n",
       "       'TCP', 'UDP', 'Alameda', 'Almaty', 'Amsterdam', 'Arichuna',\n",
       "       'Asunción', 'Bangkok', 'Bayamón', 'Beijing', 'Brest', 'Budapest',\n",
       "       'Cairo', 'Caracas', 'Casablanca', 'Central', 'Chikmagalūr',\n",
       "       'Chodzież', 'Dallas', 'Dimitrovgrad', 'Dnipro', 'Ernakulam',\n",
       "       'Gomel', 'Gomez Palacio', 'Guiyang', 'Harare', 'Hermes',\n",
       "       'Hermosillo', 'Iași', 'Islamabad', 'Ixtapaluca', 'Karachi',\n",
       "       'Kasur', 'Kharkiv', 'Kiev', 'Kolkata', 'Kunming', 'Kyoto', 'Lahti',\n",
       "       'Lancaster', 'Lviv', 'Macul', 'Mancherial', 'Minsk', 'Mogilev',\n",
       "       'Mogoi', 'Moscow', 'Mumbai', 'Murcia', 'Nagar', 'Nagpur',\n",
       "       'Nanjing', 'New Delhi', 'None_x', 'Odesa', 'Olsztyn', 'Paris',\n",
       "       'Paços de Ferreira', 'Port of Spain', 'Prague', 'Quito', 'Redmond',\n",
       "       'Santa Isabel', 'Shaoxing', 'Sunnyvale', 'Tainan City', 'Taipei',\n",
       "       'Taiyuan', 'Una', 'Washington', 'Xuzhou', 'Zhengzhou',\n",
       "       'Épinay-sur-Seine', 'Ürümqi', 'Austria', 'Belarus', 'Bulgaria',\n",
       "       'Canada', 'Chile', 'China', 'Czechia', 'Ecuador', 'Egypt',\n",
       "       'Finland', 'France', 'Hong Kong', 'Hungary', 'India', 'Indonesia',\n",
       "       'Iran', 'Japan', 'Kazakhstan', 'Luxembourg', 'Malaysia', 'Mexico',\n",
       "       'Morocco', 'Netherlands', 'None_y', 'Pakistan', 'Paraguay',\n",
       "       'Poland', 'Portugal', 'Puerto Rico', 'Republic of Lithuania',\n",
       "       'Romania', 'Russia', 'Spain', 'Taiwan', 'Thailand',\n",
       "       'Trinidad and Tobago', 'Uganda', 'Ukraine', 'United Arab Emirates',\n",
       "       'United Kingdom', 'United States', 'Uzbekistan', 'Venezuela',\n",
       "       'Zimbabwe', '0', '1', '1000', '1013', '104', '110', '113', '118',\n",
       "       '12', '123', '135', '137', '138', '139', '143', '161', '2', '21',\n",
       "       '22', '23', '25', '294', '310', '34', '369', '389', '418', '427',\n",
       "       '443', '445', '465', '471', '490', '500', '514', '520', '524',\n",
       "       '53', '544', '554', '579', '587', '592', '625', '631', '67', '68',\n",
       "       '709', '768', '784', '8', '80', '81', '82', '83', '832', '843',\n",
       "       '877', '88', '888', '916', '98', '993', '995'], dtype=object)"
      ]
     },
     "execution_count": 92,
     "metadata": {},
     "output_type": "execute_result"
    }
   ],
   "source": [
    "Final_Dataset.columns.values"
   ]
  },
  {
   "cell_type": "code",
   "execution_count": 93,
   "metadata": {
    "ExecuteTime": {
     "end_time": "2020-04-29T16:33:56.299612Z",
     "start_time": "2020-04-29T16:33:48.355853Z"
    }
   },
   "outputs": [],
   "source": [
    "# Separate majority and minority classes.\n",
    "majority = Final_Dataset.loc[Final_Dataset.Label.isin(['Background', 'LEGITIMATE'])]\n",
    "minority = Final_Dataset.loc[Final_Dataset.Label.isin(['Botnet', 'BotnetFILTER_LEGITIMATE'])]"
   ]
  },
  {
   "cell_type": "code",
   "execution_count": 94,
   "metadata": {
    "ExecuteTime": {
     "end_time": "2020-04-29T16:33:56.602611Z",
     "start_time": "2020-04-29T16:33:56.332523Z"
    }
   },
   "outputs": [],
   "source": [
    "# Downsampling the majority class.\n",
    "df_majority_upsampled = resample(majority, \n",
    "                                 replace=False,     # sample with replacement\n",
    "                                 n_samples=21760,   # to match minority class\n",
    "                                 random_state=1)    # reproducible results"
   ]
  },
  {
   "cell_type": "code",
   "execution_count": 95,
   "metadata": {
    "ExecuteTime": {
     "end_time": "2020-04-29T16:33:56.772464Z",
     "start_time": "2020-04-29T16:33:56.603581Z"
    }
   },
   "outputs": [],
   "source": [
    "# Combining the majority class with the downsampled majority class.\n",
    "downsampled = pd.concat([minority, df_majority_upsampled])"
   ]
  },
  {
   "cell_type": "code",
   "execution_count": 96,
   "metadata": {
    "ExecuteTime": {
     "end_time": "2020-04-29T16:33:56.804383Z",
     "start_time": "2020-04-29T16:33:56.774458Z"
    }
   },
   "outputs": [
    {
     "data": {
      "text/plain": [
       "Botnet                     21112\n",
       "Background                 20745\n",
       "LEGITIMATE                  1015\n",
       "BotnetFILTER_LEGITIMATE      648\n",
       "Name: Label, dtype: int64"
      ]
     },
     "execution_count": 96,
     "metadata": {},
     "output_type": "execute_result"
    }
   ],
   "source": [
    "downsampled['Label'].value_counts()"
   ]
  },
  {
   "cell_type": "code",
   "execution_count": 97,
   "metadata": {
    "ExecuteTime": {
     "end_time": "2020-04-29T16:33:57.199743Z",
     "start_time": "2020-04-29T16:33:56.828559Z"
    }
   },
   "outputs": [
    {
     "data": {
      "text/html": [
       "<div>\n",
       "<style scoped>\n",
       "    .dataframe tbody tr th:only-of-type {\n",
       "        vertical-align: middle;\n",
       "    }\n",
       "\n",
       "    .dataframe tbody tr th {\n",
       "        vertical-align: top;\n",
       "    }\n",
       "\n",
       "    .dataframe thead th {\n",
       "        text-align: right;\n",
       "    }\n",
       "</style>\n",
       "<table border=\"1\" class=\"dataframe\">\n",
       "  <thead>\n",
       "    <tr style=\"text-align: right;\">\n",
       "      <th></th>\n",
       "      <th>Flow_Start</th>\n",
       "      <th>Source_IP</th>\n",
       "      <th>Destination_IP</th>\n",
       "      <th>Duration</th>\n",
       "      <th>Packets</th>\n",
       "      <th>Bytes</th>\n",
       "      <th>A_</th>\n",
       "      <th>CON</th>\n",
       "      <th>ECO</th>\n",
       "      <th>ECR</th>\n",
       "      <th>...</th>\n",
       "      <th>83</th>\n",
       "      <th>832</th>\n",
       "      <th>843</th>\n",
       "      <th>877</th>\n",
       "      <th>88</th>\n",
       "      <th>888</th>\n",
       "      <th>916</th>\n",
       "      <th>98</th>\n",
       "      <th>993</th>\n",
       "      <th>995</th>\n",
       "    </tr>\n",
       "  </thead>\n",
       "  <tbody>\n",
       "    <tr>\n",
       "      <td>4117</td>\n",
       "      <td>17:13:56.723</td>\n",
       "      <td>64.12.175.136</td>\n",
       "      <td>147.32.84.165</td>\n",
       "      <td>0.000</td>\n",
       "      <td>1</td>\n",
       "      <td>263</td>\n",
       "      <td>0.0</td>\n",
       "      <td>0.0</td>\n",
       "      <td>0.0</td>\n",
       "      <td>0.0</td>\n",
       "      <td>...</td>\n",
       "      <td>0.0</td>\n",
       "      <td>0.0</td>\n",
       "      <td>0.0</td>\n",
       "      <td>0.0</td>\n",
       "      <td>0.0</td>\n",
       "      <td>0.0</td>\n",
       "      <td>0.0</td>\n",
       "      <td>0.0</td>\n",
       "      <td>0.0</td>\n",
       "      <td>0.0</td>\n",
       "    </tr>\n",
       "    <tr>\n",
       "      <td>6269</td>\n",
       "      <td>17:14:06.078</td>\n",
       "      <td>212.117.171.138</td>\n",
       "      <td>147.32.84.165</td>\n",
       "      <td>0.000</td>\n",
       "      <td>1</td>\n",
       "      <td>66</td>\n",
       "      <td>0.0</td>\n",
       "      <td>0.0</td>\n",
       "      <td>0.0</td>\n",
       "      <td>0.0</td>\n",
       "      <td>...</td>\n",
       "      <td>0.0</td>\n",
       "      <td>0.0</td>\n",
       "      <td>0.0</td>\n",
       "      <td>0.0</td>\n",
       "      <td>0.0</td>\n",
       "      <td>0.0</td>\n",
       "      <td>0.0</td>\n",
       "      <td>0.0</td>\n",
       "      <td>0.0</td>\n",
       "      <td>0.0</td>\n",
       "    </tr>\n",
       "    <tr>\n",
       "      <td>8919</td>\n",
       "      <td>17:14:17.100</td>\n",
       "      <td>94.63.149.150</td>\n",
       "      <td>147.32.84.165</td>\n",
       "      <td>2.712</td>\n",
       "      <td>4</td>\n",
       "      <td>256</td>\n",
       "      <td>0.0</td>\n",
       "      <td>0.0</td>\n",
       "      <td>0.0</td>\n",
       "      <td>0.0</td>\n",
       "      <td>...</td>\n",
       "      <td>0.0</td>\n",
       "      <td>0.0</td>\n",
       "      <td>0.0</td>\n",
       "      <td>0.0</td>\n",
       "      <td>0.0</td>\n",
       "      <td>0.0</td>\n",
       "      <td>0.0</td>\n",
       "      <td>0.0</td>\n",
       "      <td>0.0</td>\n",
       "      <td>0.0</td>\n",
       "    </tr>\n",
       "    <tr>\n",
       "      <td>10127</td>\n",
       "      <td>17:14:22.915</td>\n",
       "      <td>94.63.149.150</td>\n",
       "      <td>147.32.84.165</td>\n",
       "      <td>0.000</td>\n",
       "      <td>1</td>\n",
       "      <td>64</td>\n",
       "      <td>0.0</td>\n",
       "      <td>0.0</td>\n",
       "      <td>0.0</td>\n",
       "      <td>0.0</td>\n",
       "      <td>...</td>\n",
       "      <td>0.0</td>\n",
       "      <td>0.0</td>\n",
       "      <td>0.0</td>\n",
       "      <td>0.0</td>\n",
       "      <td>0.0</td>\n",
       "      <td>0.0</td>\n",
       "      <td>0.0</td>\n",
       "      <td>0.0</td>\n",
       "      <td>0.0</td>\n",
       "      <td>0.0</td>\n",
       "    </tr>\n",
       "    <tr>\n",
       "      <td>11546</td>\n",
       "      <td>17:14:29.123</td>\n",
       "      <td>94.63.149.150</td>\n",
       "      <td>147.32.84.165</td>\n",
       "      <td>0.000</td>\n",
       "      <td>1</td>\n",
       "      <td>64</td>\n",
       "      <td>0.0</td>\n",
       "      <td>0.0</td>\n",
       "      <td>0.0</td>\n",
       "      <td>0.0</td>\n",
       "      <td>...</td>\n",
       "      <td>0.0</td>\n",
       "      <td>0.0</td>\n",
       "      <td>0.0</td>\n",
       "      <td>0.0</td>\n",
       "      <td>0.0</td>\n",
       "      <td>0.0</td>\n",
       "      <td>0.0</td>\n",
       "      <td>0.0</td>\n",
       "      <td>0.0</td>\n",
       "      <td>0.0</td>\n",
       "    </tr>\n",
       "    <tr>\n",
       "      <td>...</td>\n",
       "      <td>...</td>\n",
       "      <td>...</td>\n",
       "      <td>...</td>\n",
       "      <td>...</td>\n",
       "      <td>...</td>\n",
       "      <td>...</td>\n",
       "      <td>...</td>\n",
       "      <td>...</td>\n",
       "      <td>...</td>\n",
       "      <td>...</td>\n",
       "      <td>...</td>\n",
       "      <td>...</td>\n",
       "      <td>...</td>\n",
       "      <td>...</td>\n",
       "      <td>...</td>\n",
       "      <td>...</td>\n",
       "      <td>...</td>\n",
       "      <td>...</td>\n",
       "      <td>...</td>\n",
       "      <td>...</td>\n",
       "      <td>...</td>\n",
       "    </tr>\n",
       "    <tr>\n",
       "      <td>937125</td>\n",
       "      <td>18:37:34.662</td>\n",
       "      <td>213.110.89.63</td>\n",
       "      <td>147.32.84.229</td>\n",
       "      <td>0.000</td>\n",
       "      <td>1</td>\n",
       "      <td>66</td>\n",
       "      <td>0.0</td>\n",
       "      <td>0.0</td>\n",
       "      <td>0.0</td>\n",
       "      <td>0.0</td>\n",
       "      <td>...</td>\n",
       "      <td>0.0</td>\n",
       "      <td>0.0</td>\n",
       "      <td>0.0</td>\n",
       "      <td>0.0</td>\n",
       "      <td>0.0</td>\n",
       "      <td>0.0</td>\n",
       "      <td>0.0</td>\n",
       "      <td>0.0</td>\n",
       "      <td>0.0</td>\n",
       "      <td>0.0</td>\n",
       "    </tr>\n",
       "    <tr>\n",
       "      <td>58713</td>\n",
       "      <td>17:18:02.785</td>\n",
       "      <td>147.32.84.229</td>\n",
       "      <td>201.250.104.62</td>\n",
       "      <td>0.000</td>\n",
       "      <td>3</td>\n",
       "      <td>2969</td>\n",
       "      <td>0.0</td>\n",
       "      <td>0.0</td>\n",
       "      <td>0.0</td>\n",
       "      <td>0.0</td>\n",
       "      <td>...</td>\n",
       "      <td>0.0</td>\n",
       "      <td>0.0</td>\n",
       "      <td>0.0</td>\n",
       "      <td>0.0</td>\n",
       "      <td>0.0</td>\n",
       "      <td>0.0</td>\n",
       "      <td>0.0</td>\n",
       "      <td>0.0</td>\n",
       "      <td>0.0</td>\n",
       "      <td>0.0</td>\n",
       "    </tr>\n",
       "    <tr>\n",
       "      <td>87402</td>\n",
       "      <td>17:20:15.670</td>\n",
       "      <td>147.32.84.229</td>\n",
       "      <td>107.3.105.226</td>\n",
       "      <td>0.000</td>\n",
       "      <td>1</td>\n",
       "      <td>74</td>\n",
       "      <td>0.0</td>\n",
       "      <td>0.0</td>\n",
       "      <td>0.0</td>\n",
       "      <td>0.0</td>\n",
       "      <td>...</td>\n",
       "      <td>0.0</td>\n",
       "      <td>0.0</td>\n",
       "      <td>0.0</td>\n",
       "      <td>0.0</td>\n",
       "      <td>0.0</td>\n",
       "      <td>0.0</td>\n",
       "      <td>0.0</td>\n",
       "      <td>0.0</td>\n",
       "      <td>0.0</td>\n",
       "      <td>0.0</td>\n",
       "    </tr>\n",
       "    <tr>\n",
       "      <td>877661</td>\n",
       "      <td>18:31:51.521</td>\n",
       "      <td>77.233.5.72</td>\n",
       "      <td>147.32.84.229</td>\n",
       "      <td>0.000</td>\n",
       "      <td>1</td>\n",
       "      <td>80</td>\n",
       "      <td>0.0</td>\n",
       "      <td>0.0</td>\n",
       "      <td>0.0</td>\n",
       "      <td>0.0</td>\n",
       "      <td>...</td>\n",
       "      <td>0.0</td>\n",
       "      <td>0.0</td>\n",
       "      <td>0.0</td>\n",
       "      <td>0.0</td>\n",
       "      <td>0.0</td>\n",
       "      <td>0.0</td>\n",
       "      <td>0.0</td>\n",
       "      <td>0.0</td>\n",
       "      <td>0.0</td>\n",
       "      <td>0.0</td>\n",
       "    </tr>\n",
       "    <tr>\n",
       "      <td>823910</td>\n",
       "      <td>18:26:34.854</td>\n",
       "      <td>147.32.84.184</td>\n",
       "      <td>62.168.92.250</td>\n",
       "      <td>4.798</td>\n",
       "      <td>55</td>\n",
       "      <td>3300</td>\n",
       "      <td>1.0</td>\n",
       "      <td>0.0</td>\n",
       "      <td>0.0</td>\n",
       "      <td>0.0</td>\n",
       "      <td>...</td>\n",
       "      <td>0.0</td>\n",
       "      <td>0.0</td>\n",
       "      <td>0.0</td>\n",
       "      <td>0.0</td>\n",
       "      <td>0.0</td>\n",
       "      <td>0.0</td>\n",
       "      <td>0.0</td>\n",
       "      <td>0.0</td>\n",
       "      <td>0.0</td>\n",
       "      <td>0.0</td>\n",
       "    </tr>\n",
       "  </tbody>\n",
       "</table>\n",
       "<p>43520 rows × 254 columns</p>\n",
       "</div>"
      ],
      "text/plain": [
       "          Flow_Start        Source_IP  Destination_IP  Duration  Packets  \\\n",
       "4117    17:13:56.723    64.12.175.136   147.32.84.165     0.000        1   \n",
       "6269    17:14:06.078  212.117.171.138   147.32.84.165     0.000        1   \n",
       "8919    17:14:17.100    94.63.149.150   147.32.84.165     2.712        4   \n",
       "10127   17:14:22.915    94.63.149.150   147.32.84.165     0.000        1   \n",
       "11546   17:14:29.123    94.63.149.150   147.32.84.165     0.000        1   \n",
       "...              ...              ...             ...       ...      ...   \n",
       "937125  18:37:34.662    213.110.89.63   147.32.84.229     0.000        1   \n",
       "58713   17:18:02.785    147.32.84.229  201.250.104.62     0.000        3   \n",
       "87402   17:20:15.670    147.32.84.229   107.3.105.226     0.000        1   \n",
       "877661  18:31:51.521      77.233.5.72   147.32.84.229     0.000        1   \n",
       "823910  18:26:34.854    147.32.84.184   62.168.92.250     4.798       55   \n",
       "\n",
       "        Bytes   A_  CON  ECO  ECR  ...   83  832  843  877   88  888  916  \\\n",
       "4117      263  0.0  0.0  0.0  0.0  ...  0.0  0.0  0.0  0.0  0.0  0.0  0.0   \n",
       "6269       66  0.0  0.0  0.0  0.0  ...  0.0  0.0  0.0  0.0  0.0  0.0  0.0   \n",
       "8919      256  0.0  0.0  0.0  0.0  ...  0.0  0.0  0.0  0.0  0.0  0.0  0.0   \n",
       "10127      64  0.0  0.0  0.0  0.0  ...  0.0  0.0  0.0  0.0  0.0  0.0  0.0   \n",
       "11546      64  0.0  0.0  0.0  0.0  ...  0.0  0.0  0.0  0.0  0.0  0.0  0.0   \n",
       "...       ...  ...  ...  ...  ...  ...  ...  ...  ...  ...  ...  ...  ...   \n",
       "937125     66  0.0  0.0  0.0  0.0  ...  0.0  0.0  0.0  0.0  0.0  0.0  0.0   \n",
       "58713    2969  0.0  0.0  0.0  0.0  ...  0.0  0.0  0.0  0.0  0.0  0.0  0.0   \n",
       "87402      74  0.0  0.0  0.0  0.0  ...  0.0  0.0  0.0  0.0  0.0  0.0  0.0   \n",
       "877661     80  0.0  0.0  0.0  0.0  ...  0.0  0.0  0.0  0.0  0.0  0.0  0.0   \n",
       "823910   3300  1.0  0.0  0.0  0.0  ...  0.0  0.0  0.0  0.0  0.0  0.0  0.0   \n",
       "\n",
       "         98  993  995  \n",
       "4117    0.0  0.0  0.0  \n",
       "6269    0.0  0.0  0.0  \n",
       "8919    0.0  0.0  0.0  \n",
       "10127   0.0  0.0  0.0  \n",
       "11546   0.0  0.0  0.0  \n",
       "...     ...  ...  ...  \n",
       "937125  0.0  0.0  0.0  \n",
       "58713   0.0  0.0  0.0  \n",
       "87402   0.0  0.0  0.0  \n",
       "877661  0.0  0.0  0.0  \n",
       "823910  0.0  0.0  0.0  \n",
       "\n",
       "[43520 rows x 254 columns]"
      ]
     },
     "execution_count": 97,
     "metadata": {},
     "output_type": "execute_result"
    }
   ],
   "source": [
    "y_downsampled = downsampled[['yes/no']]\n",
    "X_downsampled = downsampled.drop(columns=['Label','yes/no'], axis=1) # Dropping response variables. \n",
    "\n",
    "X_downsampled "
   ]
  },
  {
   "cell_type": "code",
   "execution_count": 98,
   "metadata": {
    "ExecuteTime": {
     "end_time": "2020-04-29T16:33:57.215701Z",
     "start_time": "2020-04-29T16:33:57.203734Z"
    }
   },
   "outputs": [
    {
     "data": {
      "text/html": [
       "<div>\n",
       "<style scoped>\n",
       "    .dataframe tbody tr th:only-of-type {\n",
       "        vertical-align: middle;\n",
       "    }\n",
       "\n",
       "    .dataframe tbody tr th {\n",
       "        vertical-align: top;\n",
       "    }\n",
       "\n",
       "    .dataframe thead th {\n",
       "        text-align: right;\n",
       "    }\n",
       "</style>\n",
       "<table border=\"1\" class=\"dataframe\">\n",
       "  <thead>\n",
       "    <tr style=\"text-align: right;\">\n",
       "      <th></th>\n",
       "      <th>yes/no</th>\n",
       "    </tr>\n",
       "  </thead>\n",
       "  <tbody>\n",
       "    <tr>\n",
       "      <td>4117</td>\n",
       "      <td>yes</td>\n",
       "    </tr>\n",
       "    <tr>\n",
       "      <td>6269</td>\n",
       "      <td>yes</td>\n",
       "    </tr>\n",
       "    <tr>\n",
       "      <td>8919</td>\n",
       "      <td>yes</td>\n",
       "    </tr>\n",
       "    <tr>\n",
       "      <td>10127</td>\n",
       "      <td>yes</td>\n",
       "    </tr>\n",
       "    <tr>\n",
       "      <td>11546</td>\n",
       "      <td>yes</td>\n",
       "    </tr>\n",
       "  </tbody>\n",
       "</table>\n",
       "</div>"
      ],
      "text/plain": [
       "      yes/no\n",
       "4117     yes\n",
       "6269     yes\n",
       "8919     yes\n",
       "10127    yes\n",
       "11546    yes"
      ]
     },
     "execution_count": 98,
     "metadata": {},
     "output_type": "execute_result"
    }
   ],
   "source": [
    "y_downsampled.head()"
   ]
  },
  {
   "cell_type": "code",
   "execution_count": 99,
   "metadata": {
    "ExecuteTime": {
     "end_time": "2020-04-29T16:33:57.327403Z",
     "start_time": "2020-04-29T16:33:57.219690Z"
    }
   },
   "outputs": [
    {
     "data": {
      "text/html": [
       "<div>\n",
       "<style scoped>\n",
       "    .dataframe tbody tr th:only-of-type {\n",
       "        vertical-align: middle;\n",
       "    }\n",
       "\n",
       "    .dataframe tbody tr th {\n",
       "        vertical-align: top;\n",
       "    }\n",
       "\n",
       "    .dataframe thead th {\n",
       "        text-align: right;\n",
       "    }\n",
       "</style>\n",
       "<table border=\"1\" class=\"dataframe\">\n",
       "  <thead>\n",
       "    <tr style=\"text-align: right;\">\n",
       "      <th></th>\n",
       "      <th>Duration</th>\n",
       "      <th>Packets</th>\n",
       "      <th>Bytes</th>\n",
       "      <th>A_</th>\n",
       "      <th>CON</th>\n",
       "      <th>ECO</th>\n",
       "      <th>ECR</th>\n",
       "      <th>FAC_</th>\n",
       "      <th>FAU_</th>\n",
       "      <th>FA_</th>\n",
       "      <th>...</th>\n",
       "      <th>83</th>\n",
       "      <th>832</th>\n",
       "      <th>843</th>\n",
       "      <th>877</th>\n",
       "      <th>88</th>\n",
       "      <th>888</th>\n",
       "      <th>916</th>\n",
       "      <th>98</th>\n",
       "      <th>993</th>\n",
       "      <th>995</th>\n",
       "    </tr>\n",
       "  </thead>\n",
       "  <tbody>\n",
       "    <tr>\n",
       "      <td>4117</td>\n",
       "      <td>0.000</td>\n",
       "      <td>1</td>\n",
       "      <td>263</td>\n",
       "      <td>0.0</td>\n",
       "      <td>0.0</td>\n",
       "      <td>0.0</td>\n",
       "      <td>0.0</td>\n",
       "      <td>0.0</td>\n",
       "      <td>0.0</td>\n",
       "      <td>0.0</td>\n",
       "      <td>...</td>\n",
       "      <td>0.0</td>\n",
       "      <td>0.0</td>\n",
       "      <td>0.0</td>\n",
       "      <td>0.0</td>\n",
       "      <td>0.0</td>\n",
       "      <td>0.0</td>\n",
       "      <td>0.0</td>\n",
       "      <td>0.0</td>\n",
       "      <td>0.0</td>\n",
       "      <td>0.0</td>\n",
       "    </tr>\n",
       "    <tr>\n",
       "      <td>6269</td>\n",
       "      <td>0.000</td>\n",
       "      <td>1</td>\n",
       "      <td>66</td>\n",
       "      <td>0.0</td>\n",
       "      <td>0.0</td>\n",
       "      <td>0.0</td>\n",
       "      <td>0.0</td>\n",
       "      <td>0.0</td>\n",
       "      <td>0.0</td>\n",
       "      <td>0.0</td>\n",
       "      <td>...</td>\n",
       "      <td>0.0</td>\n",
       "      <td>0.0</td>\n",
       "      <td>0.0</td>\n",
       "      <td>0.0</td>\n",
       "      <td>0.0</td>\n",
       "      <td>0.0</td>\n",
       "      <td>0.0</td>\n",
       "      <td>0.0</td>\n",
       "      <td>0.0</td>\n",
       "      <td>0.0</td>\n",
       "    </tr>\n",
       "    <tr>\n",
       "      <td>8919</td>\n",
       "      <td>2.712</td>\n",
       "      <td>4</td>\n",
       "      <td>256</td>\n",
       "      <td>0.0</td>\n",
       "      <td>0.0</td>\n",
       "      <td>0.0</td>\n",
       "      <td>0.0</td>\n",
       "      <td>0.0</td>\n",
       "      <td>0.0</td>\n",
       "      <td>0.0</td>\n",
       "      <td>...</td>\n",
       "      <td>0.0</td>\n",
       "      <td>0.0</td>\n",
       "      <td>0.0</td>\n",
       "      <td>0.0</td>\n",
       "      <td>0.0</td>\n",
       "      <td>0.0</td>\n",
       "      <td>0.0</td>\n",
       "      <td>0.0</td>\n",
       "      <td>0.0</td>\n",
       "      <td>0.0</td>\n",
       "    </tr>\n",
       "    <tr>\n",
       "      <td>10127</td>\n",
       "      <td>0.000</td>\n",
       "      <td>1</td>\n",
       "      <td>64</td>\n",
       "      <td>0.0</td>\n",
       "      <td>0.0</td>\n",
       "      <td>0.0</td>\n",
       "      <td>0.0</td>\n",
       "      <td>0.0</td>\n",
       "      <td>0.0</td>\n",
       "      <td>0.0</td>\n",
       "      <td>...</td>\n",
       "      <td>0.0</td>\n",
       "      <td>0.0</td>\n",
       "      <td>0.0</td>\n",
       "      <td>0.0</td>\n",
       "      <td>0.0</td>\n",
       "      <td>0.0</td>\n",
       "      <td>0.0</td>\n",
       "      <td>0.0</td>\n",
       "      <td>0.0</td>\n",
       "      <td>0.0</td>\n",
       "    </tr>\n",
       "    <tr>\n",
       "      <td>11546</td>\n",
       "      <td>0.000</td>\n",
       "      <td>1</td>\n",
       "      <td>64</td>\n",
       "      <td>0.0</td>\n",
       "      <td>0.0</td>\n",
       "      <td>0.0</td>\n",
       "      <td>0.0</td>\n",
       "      <td>0.0</td>\n",
       "      <td>0.0</td>\n",
       "      <td>0.0</td>\n",
       "      <td>...</td>\n",
       "      <td>0.0</td>\n",
       "      <td>0.0</td>\n",
       "      <td>0.0</td>\n",
       "      <td>0.0</td>\n",
       "      <td>0.0</td>\n",
       "      <td>0.0</td>\n",
       "      <td>0.0</td>\n",
       "      <td>0.0</td>\n",
       "      <td>0.0</td>\n",
       "      <td>0.0</td>\n",
       "    </tr>\n",
       "  </tbody>\n",
       "</table>\n",
       "<p>5 rows × 251 columns</p>\n",
       "</div>"
      ],
      "text/plain": [
       "       Duration  Packets  Bytes   A_  CON  ECO  ECR  FAC_  FAU_  FA_  ...  \\\n",
       "4117      0.000        1    263  0.0  0.0  0.0  0.0   0.0   0.0  0.0  ...   \n",
       "6269      0.000        1     66  0.0  0.0  0.0  0.0   0.0   0.0  0.0  ...   \n",
       "8919      2.712        4    256  0.0  0.0  0.0  0.0   0.0   0.0  0.0  ...   \n",
       "10127     0.000        1     64  0.0  0.0  0.0  0.0   0.0   0.0  0.0  ...   \n",
       "11546     0.000        1     64  0.0  0.0  0.0  0.0   0.0   0.0  0.0  ...   \n",
       "\n",
       "        83  832  843  877   88  888  916   98  993  995  \n",
       "4117   0.0  0.0  0.0  0.0  0.0  0.0  0.0  0.0  0.0  0.0  \n",
       "6269   0.0  0.0  0.0  0.0  0.0  0.0  0.0  0.0  0.0  0.0  \n",
       "8919   0.0  0.0  0.0  0.0  0.0  0.0  0.0  0.0  0.0  0.0  \n",
       "10127  0.0  0.0  0.0  0.0  0.0  0.0  0.0  0.0  0.0  0.0  \n",
       "11546  0.0  0.0  0.0  0.0  0.0  0.0  0.0  0.0  0.0  0.0  \n",
       "\n",
       "[5 rows x 251 columns]"
      ]
     },
     "execution_count": 99,
     "metadata": {},
     "output_type": "execute_result"
    }
   ],
   "source": [
    "# Dropping the flow start, source IP, and destination IP variables because they cannot contribute to the final regression. \n",
    "X_downsampled = X_downsampled.drop(columns=['Flow_Start','Source_IP','Destination_IP'])\n",
    "X_downsampled.head()"
   ]
  },
  {
   "cell_type": "code",
   "execution_count": 100,
   "metadata": {
    "ExecuteTime": {
     "end_time": "2020-04-29T16:33:57.377269Z",
     "start_time": "2020-04-29T16:33:57.330395Z"
    }
   },
   "outputs": [
    {
     "data": {
      "text/plain": [
       "Duration    False\n",
       "Packets     False\n",
       "Bytes       False\n",
       "A_          False\n",
       "CON         False\n",
       "            ...  \n",
       "888         False\n",
       "916         False\n",
       "98          False\n",
       "993         False\n",
       "995         False\n",
       "Length: 251, dtype: bool"
      ]
     },
     "execution_count": 100,
     "metadata": {},
     "output_type": "execute_result"
    }
   ],
   "source": [
    "# There are apparently missing values with the country and city data. \n",
    "X_downsampled.isnull().any()"
   ]
  },
  {
   "cell_type": "code",
   "execution_count": 101,
   "metadata": {
    "ExecuteTime": {
     "end_time": "2020-04-29T16:33:57.418160Z",
     "start_time": "2020-04-29T16:33:57.380261Z"
    }
   },
   "outputs": [],
   "source": [
    "# Filling in all missing values with 0. \n",
    "X_downsampled.fillna(0, inplace=True)"
   ]
  },
  {
   "cell_type": "markdown",
   "metadata": {
    "ExecuteTime": {
     "end_time": "2020-04-24T21:49:57.269013Z",
     "start_time": "2020-04-24T21:49:57.265023Z"
    }
   },
   "source": [
    "<font size=5><font color='red'>Qs.2.a.\tFlags – Do individual flags or sets of flags influence classification?"
   ]
  },
  {
   "cell_type": "code",
   "execution_count": 102,
   "metadata": {
    "ExecuteTime": {
     "end_time": "2020-04-29T16:33:57.512908Z",
     "start_time": "2020-04-29T16:33:57.420154Z"
    }
   },
   "outputs": [
    {
     "data": {
      "text/plain": [
       "array(['PA_', 'INT', 'A_', 'SA_', 'FSPA_', '_FSPA', 'URP', 'S_', 'RA_',\n",
       "       'FSRPA_', 'SRPA_', 'FA_', 'SPA_', 'FPA_', 'RED', 'ECR', 'URH',\n",
       "       'R_', 'FSA_', '_FSA', 'FRA_', '_FSRPA', 'FRPA_', 'SR_', 'ECO',\n",
       "       'SRA_', 'CON', 'TXD', 'PAC_', 'RPA_', 'NRA', 'URN', 'FSRA_',\n",
       "       'URFIL', 'NNS', 'FRPAC_', 'URHPRO', '_FSRA', 'FSRPAC_', 'URO',\n",
       "       'F_', 'FSPAC_', 'RE_', 'FS_', 'FPAC_', 'SPAC_', 'URF', 'FAU_',\n",
       "       'RPA_FRPA', '_FSPAC', 'RC_', 'FR_', 'FSR_', 'SRC', 'SEC_', 'FAC_',\n",
       "       'FRAEC_'], dtype=object)"
      ]
     },
     "execution_count": 102,
     "metadata": {},
     "output_type": "execute_result"
    }
   ],
   "source": [
    "# There are flags in the below list that are not TCP or UDP flags.\n",
    "# https://docs.netgate.com/pfsense/en/latest/firewall/tcp-flag-definitions.html\n",
    "df.Flags.unique()"
   ]
  },
  {
   "cell_type": "code",
   "execution_count": 103,
   "metadata": {
    "ExecuteTime": {
     "end_time": "2020-04-29T16:33:57.595688Z",
     "start_time": "2020-04-29T16:33:57.515898Z"
    }
   },
   "outputs": [
    {
     "data": {
      "text/plain": [
       "array(['TCP', 'UDP', 'ICMP', 'IGMP', 'ARP', 'PIM', 'IPX/SPX', 'RTCP',\n",
       "       'IPV6-ICMP', 'IPV6', 'RTP'], dtype=object)"
      ]
     },
     "execution_count": 103,
     "metadata": {},
     "output_type": "execute_result"
    }
   ],
   "source": [
    "# I was definitly not expecting the below response.  That is why we have so many weird flags. \n",
    "# I am only used to TCP and UDP flags in netflow traffic.  \n",
    "# Some of these are computer-to-computer traffic, some of these are network infrastructure traffic. \n",
    "df.Protocol.unique()"
   ]
  },
  {
   "cell_type": "code",
   "execution_count": 104,
   "metadata": {
    "ExecuteTime": {
     "end_time": "2020-04-29T16:33:58.201134Z",
     "start_time": "2020-04-29T16:33:57.599674Z"
    }
   },
   "outputs": [
    {
     "data": {
      "text/plain": [
       "array(['INT'], dtype=object)"
      ]
     },
     "execution_count": 104,
     "metadata": {},
     "output_type": "execute_result"
    }
   ],
   "source": [
    "# User Datagram Protocol\n",
    "Only_UDP_Flags = df[df['Protocol']=='UDP']\n",
    "Only_UDP_Flags.Flags.unique()"
   ]
  },
  {
   "cell_type": "code",
   "execution_count": 105,
   "metadata": {
    "ExecuteTime": {
     "end_time": "2020-04-29T16:33:58.342736Z",
     "start_time": "2020-04-29T16:33:58.203108Z"
    }
   },
   "outputs": [
    {
     "name": "stdout",
     "output_type": "stream",
     "text": [
      "Label\n",
      "Background    778216\n",
      "Botnet          9770\n",
      "LEGITIMATE      2374\n",
      "dtype: int64\n"
     ]
    }
   ],
   "source": [
    "print(Only_UDP_Flags.groupby('Label').size())"
   ]
  },
  {
   "cell_type": "code",
   "execution_count": 106,
   "metadata": {
    "ExecuteTime": {
     "end_time": "2020-04-29T16:33:58.618998Z",
     "start_time": "2020-04-29T16:33:58.344730Z"
    }
   },
   "outputs": [
    {
     "data": {
      "text/plain": [
       "array(['PA_', 'A_', 'SA_', 'FSPA_', '_FSPA', 'S_', 'RA_', 'FSRPA_',\n",
       "       'SRPA_', 'FA_', 'SPA_', 'FPA_', 'R_', 'FSA_', '_FSA', 'FRA_',\n",
       "       '_FSRPA', 'FRPA_', 'SR_', 'SRA_', 'PAC_', 'RPA_', 'FSRA_',\n",
       "       'FRPAC_', '_FSRA', 'FSRPAC_', 'F_', 'FSPAC_', 'RE_', 'FS_',\n",
       "       'FPAC_', 'SPAC_', 'FAU_', 'RPA_FRPA', '_FSPAC', 'RC_', 'FR_',\n",
       "       'FSR_', 'SEC_', 'FAC_', 'FRAEC_'], dtype=object)"
      ]
     },
     "execution_count": 106,
     "metadata": {},
     "output_type": "execute_result"
    }
   ],
   "source": [
    "# Transmission Control Protocol\n",
    "Only_TCP_Flags = df[df['Protocol']=='TCP']\n",
    "Only_TCP_Flags.Flags.unique()"
   ]
  },
  {
   "cell_type": "code",
   "execution_count": 107,
   "metadata": {
    "ExecuteTime": {
     "end_time": "2020-04-29T16:33:58.715739Z",
     "start_time": "2020-04-29T16:33:58.631964Z"
    }
   },
   "outputs": [
    {
     "name": "stdout",
     "output_type": "stream",
     "text": [
      "Label\n",
      "Background                 421876\n",
      "Botnet                      11288\n",
      "BotnetFILTER_LEGITIMATE       648\n",
      "LEGITIMATE                  56609\n",
      "dtype: int64\n"
     ]
    }
   ],
   "source": [
    "print(Only_TCP_Flags.groupby('Label').size())"
   ]
  },
  {
   "cell_type": "code",
   "execution_count": 108,
   "metadata": {
    "ExecuteTime": {
     "end_time": "2020-04-29T16:33:58.861349Z",
     "start_time": "2020-04-29T16:33:58.717734Z"
    }
   },
   "outputs": [
    {
     "data": {
      "text/plain": [
       "array(['URP', 'RED', 'ECR', 'URH', 'ECO', 'TXD', 'URN', 'URFIL', 'URHPRO',\n",
       "       'URO', 'URF', 'SRC'], dtype=object)"
      ]
     },
     "execution_count": 108,
     "metadata": {},
     "output_type": "execute_result"
    }
   ],
   "source": [
    "# Internet Control Message Protocol (ICMP) - an error-reporting protocol network devices like routers use to generate \n",
    "# error messages to the source IP address when network problems prevent delivery of IP packets.\n",
    "# https://tools.ietf.org/html/rfc792\n",
    "Only_ICMP_Flags = df[df['Protocol']=='ICMP']\n",
    "Only_ICMP_Flags.Flags.unique()"
   ]
  },
  {
   "cell_type": "code",
   "execution_count": 109,
   "metadata": {
    "ExecuteTime": {
     "end_time": "2020-04-29T16:33:58.900263Z",
     "start_time": "2020-04-29T16:33:58.874315Z"
    }
   },
   "outputs": [
    {
     "name": "stdout",
     "output_type": "stream",
     "text": [
      "Label\n",
      "Background    12283\n",
      "Botnet           54\n",
      "LEGITIMATE      207\n",
      "dtype: int64\n"
     ]
    }
   ],
   "source": [
    "print(Only_ICMP_Flags.groupby('Label').size())"
   ]
  },
  {
   "cell_type": "code",
   "execution_count": 110,
   "metadata": {
    "ExecuteTime": {
     "end_time": "2020-04-29T16:33:59.048847Z",
     "start_time": "2020-04-29T16:33:58.937112Z"
    }
   },
   "outputs": [
    {
     "data": {
      "text/plain": [
       "array(['INT'], dtype=object)"
      ]
     },
     "execution_count": 110,
     "metadata": {},
     "output_type": "execute_result"
    }
   ],
   "source": [
    "# Internet Group Management Protocol (IGMP) - A communications protocol used by hosts and adjacent routers on IPv4 \n",
    "# networks to establish multicast group memberships. IGMP is an integral part of IP multicast.\n",
    "# https://tools.ietf.org/html/rfc3376\n",
    "Only_IGMP_Flags = df[df['Protocol']=='IGMP']\n",
    "Only_IGMP_Flags.Flags.unique()"
   ]
  },
  {
   "cell_type": "code",
   "execution_count": 111,
   "metadata": {
    "ExecuteTime": {
     "end_time": "2020-04-29T16:33:59.085817Z",
     "start_time": "2020-04-29T16:33:59.050842Z"
    }
   },
   "outputs": [
    {
     "name": "stdout",
     "output_type": "stream",
     "text": [
      "Label\n",
      "Background    607\n",
      "dtype: int64\n"
     ]
    }
   ],
   "source": [
    "print(Only_IGMP_Flags.groupby('Label').size())"
   ]
  },
  {
   "cell_type": "code",
   "execution_count": 112,
   "metadata": {
    "ExecuteTime": {
     "end_time": "2020-04-29T16:33:59.224447Z",
     "start_time": "2020-04-29T16:33:59.087812Z"
    }
   },
   "outputs": [
    {
     "data": {
      "text/plain": [
       "array(['INT', 'CON'], dtype=object)"
      ]
     },
     "execution_count": 112,
     "metadata": {},
     "output_type": "execute_result"
    }
   ],
   "source": [
    "# Address Resolution Protocol (ARP) - A communication protocol used for discovering the link layer address, such as a \n",
    "# MAC address, associated with a given internet layer address, typically an IPv4 address. \n",
    "# This mapping is a critical function in the Internet protocol suite.\n",
    "# https://www.pcmag.com/encyclopedia/term/arp\n",
    "Only_ARP_Flags = df[df['Protocol']=='ARP']\n",
    "Only_ARP_Flags.Flags.unique()"
   ]
  },
  {
   "cell_type": "code",
   "execution_count": 113,
   "metadata": {
    "ExecuteTime": {
     "end_time": "2020-04-29T16:33:59.254399Z",
     "start_time": "2020-04-29T16:33:59.234433Z"
    }
   },
   "outputs": [
    {
     "name": "stdout",
     "output_type": "stream",
     "text": [
      "Label\n",
      "Background    2913\n",
      "dtype: int64\n"
     ]
    }
   ],
   "source": [
    "print(Only_ARP_Flags.groupby('Label').size())"
   ]
  },
  {
   "cell_type": "code",
   "execution_count": 114,
   "metadata": {
    "ExecuteTime": {
     "end_time": "2020-04-29T16:33:59.454393Z",
     "start_time": "2020-04-29T16:33:59.257394Z"
    }
   },
   "outputs": [
    {
     "data": {
      "text/plain": [
       "array(['INT'], dtype=object)"
      ]
     },
     "execution_count": 114,
     "metadata": {},
     "output_type": "execute_result"
    }
   ],
   "source": [
    "# Protocol-Independent Multicast (PIM) - A family of multicast routing protocols for Internet Protocol (IP) networks that \n",
    "# provide one-to-many and many-to-many distribution of data over a LAN, WAN or the Internet. It is termed protocol-\n",
    "# independent because PIM does not include its own topology discovery mechanism, but instead uses routing information \n",
    "# supplied by other routing protocols.\n",
    "# http://www.cs.columbia.edu/~hgs/research/projects/multicast/PIM_SM.html\n",
    "Only_PIM_Flags = df[df['Protocol']=='PIM']\n",
    "Only_PIM_Flags.Flags.unique()"
   ]
  },
  {
   "cell_type": "code",
   "execution_count": 115,
   "metadata": {
    "ExecuteTime": {
     "end_time": "2020-04-29T16:33:59.473341Z",
     "start_time": "2020-04-29T16:33:59.459385Z"
    }
   },
   "outputs": [
    {
     "name": "stdout",
     "output_type": "stream",
     "text": [
      "Label\n",
      "Background    337\n",
      "dtype: int64\n"
     ]
    }
   ],
   "source": [
    "print(Only_PIM_Flags.groupby('Label').size())"
   ]
  },
  {
   "cell_type": "code",
   "execution_count": 116,
   "metadata": {
    "ExecuteTime": {
     "end_time": "2020-04-29T16:33:59.639896Z",
     "start_time": "2020-04-29T16:33:59.479327Z"
    }
   },
   "outputs": [
    {
     "data": {
      "text/plain": [
       "array(['INT'], dtype=object)"
      ]
     },
     "execution_count": 116,
     "metadata": {},
     "output_type": "execute_result"
    }
   ],
   "source": [
    "# Internetwork Packet Exchange (IPX/SPX) - A network layer protocol in the IPX/SPX protocol suite.  It may act as a \n",
    "# transport layer protocol as well.  A big advantage of IPX was a small memory footprint of the IPX driver, which was \n",
    "# vital for DOS and Windows up to the version Windows 95 because of limited size of the conventional memory. Another IPX \n",
    "# advantage is an easy configuration of the client computers.  \n",
    "# https://www.linux.org/threads/internetwork-packet-exchange-sequenced-packet-exchange-ipx-spx.9094/\n",
    "Only_IPX_SPX_Flags = df[df['Protocol']=='IPX/SPX']\n",
    "Only_IPX_SPX_Flags.Flags.unique()"
   ]
  },
  {
   "cell_type": "code",
   "execution_count": 117,
   "metadata": {
    "ExecuteTime": {
     "end_time": "2020-04-29T16:33:59.652860Z",
     "start_time": "2020-04-29T16:33:59.642887Z"
    }
   },
   "outputs": [
    {
     "name": "stdout",
     "output_type": "stream",
     "text": [
      "Label\n",
      "Background    892\n",
      "dtype: int64\n"
     ]
    }
   ],
   "source": [
    "print(Only_IPX_SPX_Flags.groupby('Label').size())"
   ]
  },
  {
   "cell_type": "code",
   "execution_count": 118,
   "metadata": {
    "ExecuteTime": {
     "end_time": "2020-04-29T16:33:59.758578Z",
     "start_time": "2020-04-29T16:33:59.658845Z"
    }
   },
   "outputs": [
    {
     "data": {
      "text/plain": [
       "array(['INT'], dtype=object)"
      ]
     },
     "execution_count": 118,
     "metadata": {},
     "output_type": "execute_result"
    }
   ],
   "source": [
    "# RTP Control Protocol (RTCP) - A sister protocol of the Real-time Transport Protocol (RTP). Its basic functionality and \n",
    "# packet structure is defined in RFC 3550. RTCP provides out-of-band statistics and control information for an RTP session.\n",
    "# It partners with RTP in the delivery and packaging of multimedia data, but does not transport any media data itself. \n",
    "# https://tools.ietf.org/html/rfc3550\n",
    "Only_RTCP_Flags = df[df['Protocol']=='RTCP']\n",
    "Only_RTCP_Flags.Flags.unique()"
   ]
  },
  {
   "cell_type": "code",
   "execution_count": 119,
   "metadata": {
    "ExecuteTime": {
     "end_time": "2020-04-29T16:33:59.788774Z",
     "start_time": "2020-04-29T16:33:59.780775Z"
    }
   },
   "outputs": [
    {
     "name": "stdout",
     "output_type": "stream",
     "text": [
      "Label\n",
      "Background    927\n",
      "dtype: int64\n"
     ]
    }
   ],
   "source": [
    "print(Only_RTCP_Flags.groupby('Label').size())"
   ]
  },
  {
   "cell_type": "code",
   "execution_count": 120,
   "metadata": {
    "ExecuteTime": {
     "end_time": "2020-04-29T16:33:59.889488Z",
     "start_time": "2020-04-29T16:33:59.791747Z"
    }
   },
   "outputs": [
    {
     "data": {
      "text/plain": [
       "array(['NRA', 'NNS'], dtype=object)"
      ]
     },
     "execution_count": 120,
     "metadata": {},
     "output_type": "execute_result"
    }
   ],
   "source": [
    "# IPV6-ICMP\n",
    "Only_IPV6_ICMP_Flags = df[df['Protocol']=='IPV6-ICMP']\n",
    "Only_IPV6_ICMP_Flags.Flags.unique()"
   ]
  },
  {
   "cell_type": "code",
   "execution_count": 121,
   "metadata": {
    "ExecuteTime": {
     "end_time": "2020-04-29T16:33:59.899459Z",
     "start_time": "2020-04-29T16:33:59.891492Z"
    }
   },
   "outputs": [
    {
     "name": "stdout",
     "output_type": "stream",
     "text": [
      "Label\n",
      "Background    83\n",
      "dtype: int64\n"
     ]
    }
   ],
   "source": [
    "print(Only_IPV6_ICMP_Flags.groupby('Label').size())"
   ]
  },
  {
   "cell_type": "code",
   "execution_count": 122,
   "metadata": {
    "ExecuteTime": {
     "end_time": "2020-04-29T16:34:00.008178Z",
     "start_time": "2020-04-29T16:33:59.901453Z"
    }
   },
   "outputs": [
    {
     "data": {
      "text/plain": [
       "array(['INT'], dtype=object)"
      ]
     },
     "execution_count": 122,
     "metadata": {},
     "output_type": "execute_result"
    }
   ],
   "source": [
    "# IPV6 - The replacement for the current IPV4. \n",
    "Only_IPV6_Flags = df[df['Protocol']=='IPV6']\n",
    "Only_IPV6_Flags.Flags.unique()"
   ]
  },
  {
   "cell_type": "code",
   "execution_count": 123,
   "metadata": {
    "ExecuteTime": {
     "end_time": "2020-04-29T16:34:00.022131Z",
     "start_time": "2020-04-29T16:34:00.012159Z"
    }
   },
   "outputs": [
    {
     "name": "stdout",
     "output_type": "stream",
     "text": [
      "Label\n",
      "Background    2\n",
      "dtype: int64\n"
     ]
    }
   ],
   "source": [
    "print(Only_IPV6_Flags.groupby('Label').size())"
   ]
  },
  {
   "cell_type": "code",
   "execution_count": 124,
   "metadata": {
    "ExecuteTime": {
     "end_time": "2020-04-29T16:34:00.147794Z",
     "start_time": "2020-04-29T16:34:00.027117Z"
    }
   },
   "outputs": [
    {
     "data": {
      "text/plain": [
       "array(['INT'], dtype=object)"
      ]
     },
     "execution_count": 124,
     "metadata": {},
     "output_type": "execute_result"
    }
   ],
   "source": [
    "# RTP - The Real-time Transport Protocol (RTP), defined in RFC 3550, is an IETF standard protocol to enable real-time \n",
    "# connectivity for exchanging data that needing high priority and low latency.\n",
    "# https://developer.mozilla.org/en-US/docs/Web/API/WebRTC_API/Intro_to_RTP\n",
    "Only_RTP_Flags = df[df['Protocol']=='RTP']\n",
    "Only_RTP_Flags.Flags.unique()"
   ]
  },
  {
   "cell_type": "code",
   "execution_count": 125,
   "metadata": {
    "ExecuteTime": {
     "end_time": "2020-04-29T16:34:00.157768Z",
     "start_time": "2020-04-29T16:34:00.150787Z"
    }
   },
   "outputs": [
    {
     "name": "stdout",
     "output_type": "stream",
     "text": [
      "Label\n",
      "Background    4\n",
      "dtype: int64\n"
     ]
    }
   ],
   "source": [
    "print(Only_RTP_Flags.groupby('Label').size())"
   ]
  },
  {
   "cell_type": "code",
   "execution_count": 126,
   "metadata": {
    "ExecuteTime": {
     "end_time": "2020-04-29T16:34:00.165747Z",
     "start_time": "2020-04-29T16:34:00.161758Z"
    }
   },
   "outputs": [],
   "source": [
    "# Only TCP, UDP, and ICMP traffic appear to have botnet and legitimate traffic.\n",
    "# Also note how multiple different types of protocols are using the same flags (i.e., INT, CON, etc.)\n",
    "# Only the TCP flags can be broken down into meaningful individual letters, but they appear to lose context when broken \n",
    "# down.  As such, we are leaving the flags in place without modification. "
   ]
  },
  {
   "cell_type": "markdown",
   "metadata": {},
   "source": [
    "<font size=5><font color='red'>3.\tOnce the final variable set is created, which of the following techniques most effectively classifies or aides in classifying botnet traffic?<br><br>\n",
    "<font size=4>e.\tGradient Boosting (through XGBoost)<br><br>\n",
    "g.\tSupport Vector Machine (SVM)<br><br>\n"
   ]
  },
  {
   "cell_type": "markdown",
   "metadata": {},
   "source": [
    "## Gradient Boosting (through XGBoost)"
   ]
  },
  {
   "cell_type": "code",
   "execution_count": 127,
   "metadata": {
    "ExecuteTime": {
     "end_time": "2020-04-29T16:34:00.649733Z",
     "start_time": "2020-04-29T16:34:00.169736Z"
    }
   },
   "outputs": [],
   "source": [
    "# First using all available variables.  We will later compare with results generated without the source country or city. \n",
    "from sklearn import metrics\n",
    "from sklearn.model_selection import train_test_split\n",
    "X_train, X_test, y_train, y_test = train_test_split(X_downsampled, y_downsampled, test_size=0.3, random_state=0)"
   ]
  },
  {
   "cell_type": "code",
   "execution_count": 128,
   "metadata": {
    "ExecuteTime": {
     "end_time": "2020-04-29T16:34:00.918024Z",
     "start_time": "2020-04-29T16:34:00.651728Z"
    }
   },
   "outputs": [],
   "source": [
    "# Fitting and transforming the train and the test data to the min max scaler. \n",
    "# I chose the min max scalar because I want to maintain the distribution of the data. \n",
    "# https://towardsdatascience.com/scale-standardize-or-normalize-with-scikit-learn-6ccc7d176a02\n",
    "\n",
    "from sklearn.preprocessing import MinMaxScaler\n",
    "\n",
    "scaler_minmax = MinMaxScaler()\n",
    "\n",
    "scaler_minmax.fit(X_train)\n",
    "scaler_minmax.fit(X_test)\n",
    "\n",
    "X_train_MinMaxScaled = scaler_minmax.transform(X_train)\n",
    "X_test_MinMaxScaled = scaler_minmax.transform(X_test)"
   ]
  },
  {
   "cell_type": "code",
   "execution_count": null,
   "metadata": {},
   "outputs": [],
   "source": []
  },
  {
   "cell_type": "code",
   "execution_count": 129,
   "metadata": {
    "ExecuteTime": {
     "end_time": "2020-04-29T16:34:16.265373Z",
     "start_time": "2020-04-29T16:34:00.921007Z"
    }
   },
   "outputs": [
    {
     "name": "stdout",
     "output_type": "stream",
     "text": [
      "Accuracy: 99.89%\n"
     ]
    }
   ],
   "source": [
    "# I chose xgboost instead of the GradientBoostingClassifier because xgboost is approximately 10x faster than the\n",
    "# GradientBoostingClassifier and uses parallel computing. \n",
    "# https://analyticsindiamag.com/comparing-the-gradient-boosting-decision-tree-packages-xgboost-vs-lightgbm/\n",
    "from xgboost import XGBClassifier\n",
    "from sklearn.metrics import accuracy_score\n",
    "\n",
    "# Fitting the model. \n",
    "model = XGBClassifier()\n",
    "model.fit(X_train_MinMaxScaled, y_train)\n",
    "\n",
    "# Making predictions for the test data. \n",
    "y_pred = model.predict(X_test_MinMaxScaled)\n",
    "predictions = y_pred     \n",
    "\n",
    "# Evaluating predictions for the test data. \n",
    "accuracy = accuracy_score(y_test, predictions)\n",
    "print(\"Accuracy: %.2f%%\" % (accuracy * 100.0))"
   ]
  },
  {
   "cell_type": "markdown",
   "metadata": {},
   "source": [
    "## Support Vector Machine (SVM)"
   ]
  },
  {
   "cell_type": "code",
   "execution_count": 130,
   "metadata": {
    "ExecuteTime": {
     "end_time": "2020-04-29T16:41:31.561136Z",
     "start_time": "2020-04-29T16:34:16.268366Z"
    }
   },
   "outputs": [
    {
     "name": "stdout",
     "output_type": "stream",
     "text": [
      "Accuracy: 96.82%\n"
     ]
    }
   ],
   "source": [
    "from sklearn import svm\n",
    "\n",
    "# SVC = Support Vector Classification.  We are using NuSVC over SVC because the documentation says that NuSVC is\n",
    "# impractical when used for tens of thousands of samples.  Although we have a smaller dataset here, I am employing NuSVC \n",
    "# in case we want to expand the dataset in the future. \n",
    "model = svm.NuSVC(kernel='rbf') # rbf = radial basis function.  This is the default, but I am specifying just in case. \n",
    "model.fit(X_train_MinMaxScaled, y_train)\n",
    "\n",
    "# Making predictions for the test data. \n",
    "y_pred = model.predict(X_test_MinMaxScaled)\n",
    "predictions = y_pred     # replaced [round(value) for value in y_pred] with y_pred\n",
    "\n",
    "# Evaluating predictions for the test data. \n",
    "accuracy = accuracy_score(y_test, predictions)\n",
    "print(\"Accuracy: %.2f%%\" % (accuracy * 100.0))"
   ]
  },
  {
   "cell_type": "code",
   "execution_count": null,
   "metadata": {},
   "outputs": [],
   "source": []
  },
  {
   "cell_type": "code",
   "execution_count": 131,
   "metadata": {
    "ExecuteTime": {
     "end_time": "2020-04-29T16:41:31.585059Z",
     "start_time": "2020-04-29T16:41:31.563107Z"
    }
   },
   "outputs": [
    {
     "data": {
      "text/html": [
       "<div>\n",
       "<style scoped>\n",
       "    .dataframe tbody tr th:only-of-type {\n",
       "        vertical-align: middle;\n",
       "    }\n",
       "\n",
       "    .dataframe tbody tr th {\n",
       "        vertical-align: top;\n",
       "    }\n",
       "\n",
       "    .dataframe thead th {\n",
       "        text-align: right;\n",
       "    }\n",
       "</style>\n",
       "<table border=\"1\" class=\"dataframe\">\n",
       "  <thead>\n",
       "    <tr style=\"text-align: right;\">\n",
       "      <th></th>\n",
       "      <th>IPX/SPX</th>\n",
       "      <th>PIM</th>\n",
       "      <th>RTCP</th>\n",
       "      <th>RTP</th>\n",
       "      <th>TCP</th>\n",
       "      <th>UDP</th>\n",
       "      <th>Alameda</th>\n",
       "      <th>Almaty</th>\n",
       "      <th>Amsterdam</th>\n",
       "      <th>Arichuna</th>\n",
       "    </tr>\n",
       "  </thead>\n",
       "  <tbody>\n",
       "    <tr>\n",
       "      <td>4117</td>\n",
       "      <td>0.0</td>\n",
       "      <td>0.0</td>\n",
       "      <td>0.0</td>\n",
       "      <td>0.0</td>\n",
       "      <td>1.0</td>\n",
       "      <td>0.0</td>\n",
       "      <td>0.0</td>\n",
       "      <td>0.0</td>\n",
       "      <td>0.0</td>\n",
       "      <td>0.0</td>\n",
       "    </tr>\n",
       "    <tr>\n",
       "      <td>6269</td>\n",
       "      <td>0.0</td>\n",
       "      <td>0.0</td>\n",
       "      <td>0.0</td>\n",
       "      <td>0.0</td>\n",
       "      <td>1.0</td>\n",
       "      <td>0.0</td>\n",
       "      <td>0.0</td>\n",
       "      <td>0.0</td>\n",
       "      <td>0.0</td>\n",
       "      <td>0.0</td>\n",
       "    </tr>\n",
       "    <tr>\n",
       "      <td>8919</td>\n",
       "      <td>0.0</td>\n",
       "      <td>0.0</td>\n",
       "      <td>0.0</td>\n",
       "      <td>0.0</td>\n",
       "      <td>1.0</td>\n",
       "      <td>0.0</td>\n",
       "      <td>0.0</td>\n",
       "      <td>0.0</td>\n",
       "      <td>0.0</td>\n",
       "      <td>0.0</td>\n",
       "    </tr>\n",
       "    <tr>\n",
       "      <td>10127</td>\n",
       "      <td>0.0</td>\n",
       "      <td>0.0</td>\n",
       "      <td>0.0</td>\n",
       "      <td>0.0</td>\n",
       "      <td>1.0</td>\n",
       "      <td>0.0</td>\n",
       "      <td>0.0</td>\n",
       "      <td>0.0</td>\n",
       "      <td>0.0</td>\n",
       "      <td>0.0</td>\n",
       "    </tr>\n",
       "    <tr>\n",
       "      <td>11546</td>\n",
       "      <td>0.0</td>\n",
       "      <td>0.0</td>\n",
       "      <td>0.0</td>\n",
       "      <td>0.0</td>\n",
       "      <td>1.0</td>\n",
       "      <td>0.0</td>\n",
       "      <td>0.0</td>\n",
       "      <td>0.0</td>\n",
       "      <td>0.0</td>\n",
       "      <td>0.0</td>\n",
       "    </tr>\n",
       "  </tbody>\n",
       "</table>\n",
       "</div>"
      ],
      "text/plain": [
       "       IPX/SPX  PIM  RTCP  RTP  TCP  UDP  Alameda  Almaty  Amsterdam  Arichuna\n",
       "4117       0.0  0.0   0.0  0.0  1.0  0.0      0.0     0.0        0.0       0.0\n",
       "6269       0.0  0.0   0.0  0.0  1.0  0.0      0.0     0.0        0.0       0.0\n",
       "8919       0.0  0.0   0.0  0.0  1.0  0.0      0.0     0.0        0.0       0.0\n",
       "10127      0.0  0.0   0.0  0.0  1.0  0.0      0.0     0.0        0.0       0.0\n",
       "11546      0.0  0.0   0.0  0.0  1.0  0.0      0.0     0.0        0.0       0.0"
      ]
     },
     "execution_count": 131,
     "metadata": {},
     "output_type": "execute_result"
    }
   ],
   "source": [
    "# Showing where the demarcation between the protocol variables and the city variables lies. \n",
    "X_downsampled.iloc[:,65:75].head()"
   ]
  },
  {
   "cell_type": "code",
   "execution_count": 132,
   "metadata": {
    "ExecuteTime": {
     "end_time": "2020-04-29T16:41:31.641906Z",
     "start_time": "2020-04-29T16:41:31.589027Z"
    }
   },
   "outputs": [
    {
     "data": {
      "text/html": [
       "<div>\n",
       "<style scoped>\n",
       "    .dataframe tbody tr th:only-of-type {\n",
       "        vertical-align: middle;\n",
       "    }\n",
       "\n",
       "    .dataframe tbody tr th {\n",
       "        vertical-align: top;\n",
       "    }\n",
       "\n",
       "    .dataframe thead th {\n",
       "        text-align: right;\n",
       "    }\n",
       "</style>\n",
       "<table border=\"1\" class=\"dataframe\">\n",
       "  <thead>\n",
       "    <tr style=\"text-align: right;\">\n",
       "      <th></th>\n",
       "      <th>Duration</th>\n",
       "      <th>Packets</th>\n",
       "      <th>Bytes</th>\n",
       "      <th>A_</th>\n",
       "      <th>CON</th>\n",
       "      <th>ECO</th>\n",
       "      <th>ECR</th>\n",
       "      <th>FAC_</th>\n",
       "      <th>FAU_</th>\n",
       "      <th>FA_</th>\n",
       "      <th>...</th>\n",
       "      <th>ICMP</th>\n",
       "      <th>IGMP</th>\n",
       "      <th>IPV6</th>\n",
       "      <th>IPV6-ICMP</th>\n",
       "      <th>IPX/SPX</th>\n",
       "      <th>PIM</th>\n",
       "      <th>RTCP</th>\n",
       "      <th>RTP</th>\n",
       "      <th>TCP</th>\n",
       "      <th>UDP</th>\n",
       "    </tr>\n",
       "  </thead>\n",
       "  <tbody>\n",
       "    <tr>\n",
       "      <td>4117</td>\n",
       "      <td>0.000</td>\n",
       "      <td>1</td>\n",
       "      <td>263</td>\n",
       "      <td>0.0</td>\n",
       "      <td>0.0</td>\n",
       "      <td>0.0</td>\n",
       "      <td>0.0</td>\n",
       "      <td>0.0</td>\n",
       "      <td>0.0</td>\n",
       "      <td>0.0</td>\n",
       "      <td>...</td>\n",
       "      <td>0.0</td>\n",
       "      <td>0.0</td>\n",
       "      <td>0.0</td>\n",
       "      <td>0.0</td>\n",
       "      <td>0.0</td>\n",
       "      <td>0.0</td>\n",
       "      <td>0.0</td>\n",
       "      <td>0.0</td>\n",
       "      <td>1.0</td>\n",
       "      <td>0.0</td>\n",
       "    </tr>\n",
       "    <tr>\n",
       "      <td>6269</td>\n",
       "      <td>0.000</td>\n",
       "      <td>1</td>\n",
       "      <td>66</td>\n",
       "      <td>0.0</td>\n",
       "      <td>0.0</td>\n",
       "      <td>0.0</td>\n",
       "      <td>0.0</td>\n",
       "      <td>0.0</td>\n",
       "      <td>0.0</td>\n",
       "      <td>0.0</td>\n",
       "      <td>...</td>\n",
       "      <td>0.0</td>\n",
       "      <td>0.0</td>\n",
       "      <td>0.0</td>\n",
       "      <td>0.0</td>\n",
       "      <td>0.0</td>\n",
       "      <td>0.0</td>\n",
       "      <td>0.0</td>\n",
       "      <td>0.0</td>\n",
       "      <td>1.0</td>\n",
       "      <td>0.0</td>\n",
       "    </tr>\n",
       "    <tr>\n",
       "      <td>8919</td>\n",
       "      <td>2.712</td>\n",
       "      <td>4</td>\n",
       "      <td>256</td>\n",
       "      <td>0.0</td>\n",
       "      <td>0.0</td>\n",
       "      <td>0.0</td>\n",
       "      <td>0.0</td>\n",
       "      <td>0.0</td>\n",
       "      <td>0.0</td>\n",
       "      <td>0.0</td>\n",
       "      <td>...</td>\n",
       "      <td>0.0</td>\n",
       "      <td>0.0</td>\n",
       "      <td>0.0</td>\n",
       "      <td>0.0</td>\n",
       "      <td>0.0</td>\n",
       "      <td>0.0</td>\n",
       "      <td>0.0</td>\n",
       "      <td>0.0</td>\n",
       "      <td>1.0</td>\n",
       "      <td>0.0</td>\n",
       "    </tr>\n",
       "    <tr>\n",
       "      <td>10127</td>\n",
       "      <td>0.000</td>\n",
       "      <td>1</td>\n",
       "      <td>64</td>\n",
       "      <td>0.0</td>\n",
       "      <td>0.0</td>\n",
       "      <td>0.0</td>\n",
       "      <td>0.0</td>\n",
       "      <td>0.0</td>\n",
       "      <td>0.0</td>\n",
       "      <td>0.0</td>\n",
       "      <td>...</td>\n",
       "      <td>0.0</td>\n",
       "      <td>0.0</td>\n",
       "      <td>0.0</td>\n",
       "      <td>0.0</td>\n",
       "      <td>0.0</td>\n",
       "      <td>0.0</td>\n",
       "      <td>0.0</td>\n",
       "      <td>0.0</td>\n",
       "      <td>1.0</td>\n",
       "      <td>0.0</td>\n",
       "    </tr>\n",
       "    <tr>\n",
       "      <td>11546</td>\n",
       "      <td>0.000</td>\n",
       "      <td>1</td>\n",
       "      <td>64</td>\n",
       "      <td>0.0</td>\n",
       "      <td>0.0</td>\n",
       "      <td>0.0</td>\n",
       "      <td>0.0</td>\n",
       "      <td>0.0</td>\n",
       "      <td>0.0</td>\n",
       "      <td>0.0</td>\n",
       "      <td>...</td>\n",
       "      <td>0.0</td>\n",
       "      <td>0.0</td>\n",
       "      <td>0.0</td>\n",
       "      <td>0.0</td>\n",
       "      <td>0.0</td>\n",
       "      <td>0.0</td>\n",
       "      <td>0.0</td>\n",
       "      <td>0.0</td>\n",
       "      <td>1.0</td>\n",
       "      <td>0.0</td>\n",
       "    </tr>\n",
       "  </tbody>\n",
       "</table>\n",
       "<p>5 rows × 71 columns</p>\n",
       "</div>"
      ],
      "text/plain": [
       "       Duration  Packets  Bytes   A_  CON  ECO  ECR  FAC_  FAU_  FA_  ...  \\\n",
       "4117      0.000        1    263  0.0  0.0  0.0  0.0   0.0   0.0  0.0  ...   \n",
       "6269      0.000        1     66  0.0  0.0  0.0  0.0   0.0   0.0  0.0  ...   \n",
       "8919      2.712        4    256  0.0  0.0  0.0  0.0   0.0   0.0  0.0  ...   \n",
       "10127     0.000        1     64  0.0  0.0  0.0  0.0   0.0   0.0  0.0  ...   \n",
       "11546     0.000        1     64  0.0  0.0  0.0  0.0   0.0   0.0  0.0  ...   \n",
       "\n",
       "       ICMP  IGMP  IPV6  IPV6-ICMP  IPX/SPX  PIM  RTCP  RTP  TCP  UDP  \n",
       "4117    0.0   0.0   0.0        0.0      0.0  0.0   0.0  0.0  1.0  0.0  \n",
       "6269    0.0   0.0   0.0        0.0      0.0  0.0   0.0  0.0  1.0  0.0  \n",
       "8919    0.0   0.0   0.0        0.0      0.0  0.0   0.0  0.0  1.0  0.0  \n",
       "10127   0.0   0.0   0.0        0.0      0.0  0.0   0.0  0.0  1.0  0.0  \n",
       "11546   0.0   0.0   0.0        0.0      0.0  0.0   0.0  0.0  1.0  0.0  \n",
       "\n",
       "[5 rows x 71 columns]"
      ]
     },
     "execution_count": 132,
     "metadata": {},
     "output_type": "execute_result"
    }
   ],
   "source": [
    "front_side = X_downsampled.iloc[:,0:71]\n",
    "front_side.head()"
   ]
  },
  {
   "cell_type": "code",
   "execution_count": 133,
   "metadata": {
    "ExecuteTime": {
     "end_time": "2020-04-29T16:41:31.666821Z",
     "start_time": "2020-04-29T16:41:31.644878Z"
    }
   },
   "outputs": [
    {
     "data": {
      "text/html": [
       "<div>\n",
       "<style scoped>\n",
       "    .dataframe tbody tr th:only-of-type {\n",
       "        vertical-align: middle;\n",
       "    }\n",
       "\n",
       "    .dataframe tbody tr th {\n",
       "        vertical-align: top;\n",
       "    }\n",
       "\n",
       "    .dataframe thead th {\n",
       "        text-align: right;\n",
       "    }\n",
       "</style>\n",
       "<table border=\"1\" class=\"dataframe\">\n",
       "  <thead>\n",
       "    <tr style=\"text-align: right;\">\n",
       "      <th></th>\n",
       "      <th>Ukraine</th>\n",
       "      <th>United Arab Emirates</th>\n",
       "      <th>United Kingdom</th>\n",
       "      <th>United States</th>\n",
       "      <th>Uzbekistan</th>\n",
       "      <th>Venezuela</th>\n",
       "      <th>Zimbabwe</th>\n",
       "      <th>0</th>\n",
       "      <th>1</th>\n",
       "      <th>1000</th>\n",
       "    </tr>\n",
       "  </thead>\n",
       "  <tbody>\n",
       "    <tr>\n",
       "      <td>4117</td>\n",
       "      <td>0.0</td>\n",
       "      <td>0.0</td>\n",
       "      <td>0.0</td>\n",
       "      <td>1.0</td>\n",
       "      <td>0.0</td>\n",
       "      <td>0.0</td>\n",
       "      <td>0.0</td>\n",
       "      <td>0.0</td>\n",
       "      <td>0.0</td>\n",
       "      <td>0.0</td>\n",
       "    </tr>\n",
       "    <tr>\n",
       "      <td>6269</td>\n",
       "      <td>0.0</td>\n",
       "      <td>0.0</td>\n",
       "      <td>0.0</td>\n",
       "      <td>0.0</td>\n",
       "      <td>0.0</td>\n",
       "      <td>0.0</td>\n",
       "      <td>0.0</td>\n",
       "      <td>0.0</td>\n",
       "      <td>0.0</td>\n",
       "      <td>0.0</td>\n",
       "    </tr>\n",
       "    <tr>\n",
       "      <td>8919</td>\n",
       "      <td>0.0</td>\n",
       "      <td>0.0</td>\n",
       "      <td>0.0</td>\n",
       "      <td>0.0</td>\n",
       "      <td>0.0</td>\n",
       "      <td>0.0</td>\n",
       "      <td>0.0</td>\n",
       "      <td>0.0</td>\n",
       "      <td>0.0</td>\n",
       "      <td>0.0</td>\n",
       "    </tr>\n",
       "    <tr>\n",
       "      <td>10127</td>\n",
       "      <td>0.0</td>\n",
       "      <td>0.0</td>\n",
       "      <td>0.0</td>\n",
       "      <td>0.0</td>\n",
       "      <td>0.0</td>\n",
       "      <td>0.0</td>\n",
       "      <td>0.0</td>\n",
       "      <td>0.0</td>\n",
       "      <td>0.0</td>\n",
       "      <td>0.0</td>\n",
       "    </tr>\n",
       "    <tr>\n",
       "      <td>11546</td>\n",
       "      <td>0.0</td>\n",
       "      <td>0.0</td>\n",
       "      <td>0.0</td>\n",
       "      <td>0.0</td>\n",
       "      <td>0.0</td>\n",
       "      <td>0.0</td>\n",
       "      <td>0.0</td>\n",
       "      <td>0.0</td>\n",
       "      <td>0.0</td>\n",
       "      <td>0.0</td>\n",
       "    </tr>\n",
       "  </tbody>\n",
       "</table>\n",
       "</div>"
      ],
      "text/plain": [
       "       Ukraine  United Arab Emirates  United Kingdom  United States  \\\n",
       "4117       0.0                   0.0             0.0            1.0   \n",
       "6269       0.0                   0.0             0.0            0.0   \n",
       "8919       0.0                   0.0             0.0            0.0   \n",
       "10127      0.0                   0.0             0.0            0.0   \n",
       "11546      0.0                   0.0             0.0            0.0   \n",
       "\n",
       "       Uzbekistan  Venezuela  Zimbabwe    0    1  1000  \n",
       "4117          0.0        0.0       0.0  0.0  0.0   0.0  \n",
       "6269          0.0        0.0       0.0  0.0  0.0   0.0  \n",
       "8919          0.0        0.0       0.0  0.0  0.0   0.0  \n",
       "10127         0.0        0.0       0.0  0.0  0.0   0.0  \n",
       "11546         0.0        0.0       0.0  0.0  0.0   0.0  "
      ]
     },
     "execution_count": 133,
     "metadata": {},
     "output_type": "execute_result"
    }
   ],
   "source": [
    "# Showing where the demarcation between the country variables and the port variables lies. \n",
    "X_downsampled.iloc[:,180:190].head()"
   ]
  },
  {
   "cell_type": "code",
   "execution_count": 134,
   "metadata": {
    "ExecuteTime": {
     "end_time": "2020-04-29T16:41:31.715719Z",
     "start_time": "2020-04-29T16:41:31.668832Z"
    }
   },
   "outputs": [
    {
     "data": {
      "text/html": [
       "<div>\n",
       "<style scoped>\n",
       "    .dataframe tbody tr th:only-of-type {\n",
       "        vertical-align: middle;\n",
       "    }\n",
       "\n",
       "    .dataframe tbody tr th {\n",
       "        vertical-align: top;\n",
       "    }\n",
       "\n",
       "    .dataframe thead th {\n",
       "        text-align: right;\n",
       "    }\n",
       "</style>\n",
       "<table border=\"1\" class=\"dataframe\">\n",
       "  <thead>\n",
       "    <tr style=\"text-align: right;\">\n",
       "      <th></th>\n",
       "      <th>0</th>\n",
       "      <th>1</th>\n",
       "      <th>1000</th>\n",
       "      <th>1013</th>\n",
       "      <th>104</th>\n",
       "      <th>110</th>\n",
       "      <th>113</th>\n",
       "      <th>118</th>\n",
       "      <th>12</th>\n",
       "      <th>123</th>\n",
       "      <th>...</th>\n",
       "      <th>83</th>\n",
       "      <th>832</th>\n",
       "      <th>843</th>\n",
       "      <th>877</th>\n",
       "      <th>88</th>\n",
       "      <th>888</th>\n",
       "      <th>916</th>\n",
       "      <th>98</th>\n",
       "      <th>993</th>\n",
       "      <th>995</th>\n",
       "    </tr>\n",
       "  </thead>\n",
       "  <tbody>\n",
       "    <tr>\n",
       "      <td>4117</td>\n",
       "      <td>0.0</td>\n",
       "      <td>0.0</td>\n",
       "      <td>0.0</td>\n",
       "      <td>0.0</td>\n",
       "      <td>0.0</td>\n",
       "      <td>0.0</td>\n",
       "      <td>0.0</td>\n",
       "      <td>0.0</td>\n",
       "      <td>0.0</td>\n",
       "      <td>0.0</td>\n",
       "      <td>...</td>\n",
       "      <td>0.0</td>\n",
       "      <td>0.0</td>\n",
       "      <td>0.0</td>\n",
       "      <td>0.0</td>\n",
       "      <td>0.0</td>\n",
       "      <td>0.0</td>\n",
       "      <td>0.0</td>\n",
       "      <td>0.0</td>\n",
       "      <td>0.0</td>\n",
       "      <td>0.0</td>\n",
       "    </tr>\n",
       "    <tr>\n",
       "      <td>6269</td>\n",
       "      <td>0.0</td>\n",
       "      <td>0.0</td>\n",
       "      <td>0.0</td>\n",
       "      <td>0.0</td>\n",
       "      <td>0.0</td>\n",
       "      <td>0.0</td>\n",
       "      <td>0.0</td>\n",
       "      <td>0.0</td>\n",
       "      <td>0.0</td>\n",
       "      <td>0.0</td>\n",
       "      <td>...</td>\n",
       "      <td>0.0</td>\n",
       "      <td>0.0</td>\n",
       "      <td>0.0</td>\n",
       "      <td>0.0</td>\n",
       "      <td>0.0</td>\n",
       "      <td>0.0</td>\n",
       "      <td>0.0</td>\n",
       "      <td>0.0</td>\n",
       "      <td>0.0</td>\n",
       "      <td>0.0</td>\n",
       "    </tr>\n",
       "    <tr>\n",
       "      <td>8919</td>\n",
       "      <td>0.0</td>\n",
       "      <td>0.0</td>\n",
       "      <td>0.0</td>\n",
       "      <td>0.0</td>\n",
       "      <td>0.0</td>\n",
       "      <td>0.0</td>\n",
       "      <td>0.0</td>\n",
       "      <td>0.0</td>\n",
       "      <td>0.0</td>\n",
       "      <td>0.0</td>\n",
       "      <td>...</td>\n",
       "      <td>0.0</td>\n",
       "      <td>0.0</td>\n",
       "      <td>0.0</td>\n",
       "      <td>0.0</td>\n",
       "      <td>0.0</td>\n",
       "      <td>0.0</td>\n",
       "      <td>0.0</td>\n",
       "      <td>0.0</td>\n",
       "      <td>0.0</td>\n",
       "      <td>0.0</td>\n",
       "    </tr>\n",
       "    <tr>\n",
       "      <td>10127</td>\n",
       "      <td>0.0</td>\n",
       "      <td>0.0</td>\n",
       "      <td>0.0</td>\n",
       "      <td>0.0</td>\n",
       "      <td>0.0</td>\n",
       "      <td>0.0</td>\n",
       "      <td>0.0</td>\n",
       "      <td>0.0</td>\n",
       "      <td>0.0</td>\n",
       "      <td>0.0</td>\n",
       "      <td>...</td>\n",
       "      <td>0.0</td>\n",
       "      <td>0.0</td>\n",
       "      <td>0.0</td>\n",
       "      <td>0.0</td>\n",
       "      <td>0.0</td>\n",
       "      <td>0.0</td>\n",
       "      <td>0.0</td>\n",
       "      <td>0.0</td>\n",
       "      <td>0.0</td>\n",
       "      <td>0.0</td>\n",
       "    </tr>\n",
       "    <tr>\n",
       "      <td>11546</td>\n",
       "      <td>0.0</td>\n",
       "      <td>0.0</td>\n",
       "      <td>0.0</td>\n",
       "      <td>0.0</td>\n",
       "      <td>0.0</td>\n",
       "      <td>0.0</td>\n",
       "      <td>0.0</td>\n",
       "      <td>0.0</td>\n",
       "      <td>0.0</td>\n",
       "      <td>0.0</td>\n",
       "      <td>...</td>\n",
       "      <td>0.0</td>\n",
       "      <td>0.0</td>\n",
       "      <td>0.0</td>\n",
       "      <td>0.0</td>\n",
       "      <td>0.0</td>\n",
       "      <td>0.0</td>\n",
       "      <td>0.0</td>\n",
       "      <td>0.0</td>\n",
       "      <td>0.0</td>\n",
       "      <td>0.0</td>\n",
       "    </tr>\n",
       "  </tbody>\n",
       "</table>\n",
       "<p>5 rows × 64 columns</p>\n",
       "</div>"
      ],
      "text/plain": [
       "         0    1  1000  1013  104  110  113  118   12  123  ...   83  832  843  \\\n",
       "4117   0.0  0.0   0.0   0.0  0.0  0.0  0.0  0.0  0.0  0.0  ...  0.0  0.0  0.0   \n",
       "6269   0.0  0.0   0.0   0.0  0.0  0.0  0.0  0.0  0.0  0.0  ...  0.0  0.0  0.0   \n",
       "8919   0.0  0.0   0.0   0.0  0.0  0.0  0.0  0.0  0.0  0.0  ...  0.0  0.0  0.0   \n",
       "10127  0.0  0.0   0.0   0.0  0.0  0.0  0.0  0.0  0.0  0.0  ...  0.0  0.0  0.0   \n",
       "11546  0.0  0.0   0.0   0.0  0.0  0.0  0.0  0.0  0.0  0.0  ...  0.0  0.0  0.0   \n",
       "\n",
       "       877   88  888  916   98  993  995  \n",
       "4117   0.0  0.0  0.0  0.0  0.0  0.0  0.0  \n",
       "6269   0.0  0.0  0.0  0.0  0.0  0.0  0.0  \n",
       "8919   0.0  0.0  0.0  0.0  0.0  0.0  0.0  \n",
       "10127  0.0  0.0  0.0  0.0  0.0  0.0  0.0  \n",
       "11546  0.0  0.0  0.0  0.0  0.0  0.0  0.0  \n",
       "\n",
       "[5 rows x 64 columns]"
      ]
     },
     "execution_count": 134,
     "metadata": {},
     "output_type": "execute_result"
    }
   ],
   "source": [
    "back_side = X_downsampled.iloc[:,187:]\n",
    "back_side.head()"
   ]
  },
  {
   "cell_type": "markdown",
   "metadata": {},
   "source": [
    "# Without src city and country"
   ]
  },
  {
   "cell_type": "code",
   "execution_count": 135,
   "metadata": {
    "ExecuteTime": {
     "end_time": "2020-04-29T16:41:31.776526Z",
     "start_time": "2020-04-29T16:41:31.717683Z"
    }
   },
   "outputs": [
    {
     "data": {
      "text/html": [
       "<div>\n",
       "<style scoped>\n",
       "    .dataframe tbody tr th:only-of-type {\n",
       "        vertical-align: middle;\n",
       "    }\n",
       "\n",
       "    .dataframe tbody tr th {\n",
       "        vertical-align: top;\n",
       "    }\n",
       "\n",
       "    .dataframe thead th {\n",
       "        text-align: right;\n",
       "    }\n",
       "</style>\n",
       "<table border=\"1\" class=\"dataframe\">\n",
       "  <thead>\n",
       "    <tr style=\"text-align: right;\">\n",
       "      <th></th>\n",
       "      <th>Duration</th>\n",
       "      <th>Packets</th>\n",
       "      <th>Bytes</th>\n",
       "      <th>A_</th>\n",
       "      <th>CON</th>\n",
       "      <th>ECO</th>\n",
       "      <th>ECR</th>\n",
       "      <th>FAC_</th>\n",
       "      <th>FAU_</th>\n",
       "      <th>FA_</th>\n",
       "      <th>...</th>\n",
       "      <th>83</th>\n",
       "      <th>832</th>\n",
       "      <th>843</th>\n",
       "      <th>877</th>\n",
       "      <th>88</th>\n",
       "      <th>888</th>\n",
       "      <th>916</th>\n",
       "      <th>98</th>\n",
       "      <th>993</th>\n",
       "      <th>995</th>\n",
       "    </tr>\n",
       "  </thead>\n",
       "  <tbody>\n",
       "    <tr>\n",
       "      <td>4117</td>\n",
       "      <td>0.000</td>\n",
       "      <td>1</td>\n",
       "      <td>263</td>\n",
       "      <td>0.0</td>\n",
       "      <td>0.0</td>\n",
       "      <td>0.0</td>\n",
       "      <td>0.0</td>\n",
       "      <td>0.0</td>\n",
       "      <td>0.0</td>\n",
       "      <td>0.0</td>\n",
       "      <td>...</td>\n",
       "      <td>0.0</td>\n",
       "      <td>0.0</td>\n",
       "      <td>0.0</td>\n",
       "      <td>0.0</td>\n",
       "      <td>0.0</td>\n",
       "      <td>0.0</td>\n",
       "      <td>0.0</td>\n",
       "      <td>0.0</td>\n",
       "      <td>0.0</td>\n",
       "      <td>0.0</td>\n",
       "    </tr>\n",
       "    <tr>\n",
       "      <td>6269</td>\n",
       "      <td>0.000</td>\n",
       "      <td>1</td>\n",
       "      <td>66</td>\n",
       "      <td>0.0</td>\n",
       "      <td>0.0</td>\n",
       "      <td>0.0</td>\n",
       "      <td>0.0</td>\n",
       "      <td>0.0</td>\n",
       "      <td>0.0</td>\n",
       "      <td>0.0</td>\n",
       "      <td>...</td>\n",
       "      <td>0.0</td>\n",
       "      <td>0.0</td>\n",
       "      <td>0.0</td>\n",
       "      <td>0.0</td>\n",
       "      <td>0.0</td>\n",
       "      <td>0.0</td>\n",
       "      <td>0.0</td>\n",
       "      <td>0.0</td>\n",
       "      <td>0.0</td>\n",
       "      <td>0.0</td>\n",
       "    </tr>\n",
       "    <tr>\n",
       "      <td>8919</td>\n",
       "      <td>2.712</td>\n",
       "      <td>4</td>\n",
       "      <td>256</td>\n",
       "      <td>0.0</td>\n",
       "      <td>0.0</td>\n",
       "      <td>0.0</td>\n",
       "      <td>0.0</td>\n",
       "      <td>0.0</td>\n",
       "      <td>0.0</td>\n",
       "      <td>0.0</td>\n",
       "      <td>...</td>\n",
       "      <td>0.0</td>\n",
       "      <td>0.0</td>\n",
       "      <td>0.0</td>\n",
       "      <td>0.0</td>\n",
       "      <td>0.0</td>\n",
       "      <td>0.0</td>\n",
       "      <td>0.0</td>\n",
       "      <td>0.0</td>\n",
       "      <td>0.0</td>\n",
       "      <td>0.0</td>\n",
       "    </tr>\n",
       "    <tr>\n",
       "      <td>10127</td>\n",
       "      <td>0.000</td>\n",
       "      <td>1</td>\n",
       "      <td>64</td>\n",
       "      <td>0.0</td>\n",
       "      <td>0.0</td>\n",
       "      <td>0.0</td>\n",
       "      <td>0.0</td>\n",
       "      <td>0.0</td>\n",
       "      <td>0.0</td>\n",
       "      <td>0.0</td>\n",
       "      <td>...</td>\n",
       "      <td>0.0</td>\n",
       "      <td>0.0</td>\n",
       "      <td>0.0</td>\n",
       "      <td>0.0</td>\n",
       "      <td>0.0</td>\n",
       "      <td>0.0</td>\n",
       "      <td>0.0</td>\n",
       "      <td>0.0</td>\n",
       "      <td>0.0</td>\n",
       "      <td>0.0</td>\n",
       "    </tr>\n",
       "    <tr>\n",
       "      <td>11546</td>\n",
       "      <td>0.000</td>\n",
       "      <td>1</td>\n",
       "      <td>64</td>\n",
       "      <td>0.0</td>\n",
       "      <td>0.0</td>\n",
       "      <td>0.0</td>\n",
       "      <td>0.0</td>\n",
       "      <td>0.0</td>\n",
       "      <td>0.0</td>\n",
       "      <td>0.0</td>\n",
       "      <td>...</td>\n",
       "      <td>0.0</td>\n",
       "      <td>0.0</td>\n",
       "      <td>0.0</td>\n",
       "      <td>0.0</td>\n",
       "      <td>0.0</td>\n",
       "      <td>0.0</td>\n",
       "      <td>0.0</td>\n",
       "      <td>0.0</td>\n",
       "      <td>0.0</td>\n",
       "      <td>0.0</td>\n",
       "    </tr>\n",
       "  </tbody>\n",
       "</table>\n",
       "<p>5 rows × 135 columns</p>\n",
       "</div>"
      ],
      "text/plain": [
       "       Duration  Packets  Bytes   A_  CON  ECO  ECR  FAC_  FAU_  FA_  ...  \\\n",
       "4117      0.000        1    263  0.0  0.0  0.0  0.0   0.0   0.0  0.0  ...   \n",
       "6269      0.000        1     66  0.0  0.0  0.0  0.0   0.0   0.0  0.0  ...   \n",
       "8919      2.712        4    256  0.0  0.0  0.0  0.0   0.0   0.0  0.0  ...   \n",
       "10127     0.000        1     64  0.0  0.0  0.0  0.0   0.0   0.0  0.0  ...   \n",
       "11546     0.000        1     64  0.0  0.0  0.0  0.0   0.0   0.0  0.0  ...   \n",
       "\n",
       "        83  832  843  877   88  888  916   98  993  995  \n",
       "4117   0.0  0.0  0.0  0.0  0.0  0.0  0.0  0.0  0.0  0.0  \n",
       "6269   0.0  0.0  0.0  0.0  0.0  0.0  0.0  0.0  0.0  0.0  \n",
       "8919   0.0  0.0  0.0  0.0  0.0  0.0  0.0  0.0  0.0  0.0  \n",
       "10127  0.0  0.0  0.0  0.0  0.0  0.0  0.0  0.0  0.0  0.0  \n",
       "11546  0.0  0.0  0.0  0.0  0.0  0.0  0.0  0.0  0.0  0.0  \n",
       "\n",
       "[5 rows x 135 columns]"
      ]
     },
     "execution_count": 135,
     "metadata": {},
     "output_type": "execute_result"
    }
   ],
   "source": [
    "Without_States_Countries = pd.merge(front_side, back_side, right_index=True,left_index=True)\n",
    "Without_States_Countries.head()"
   ]
  },
  {
   "cell_type": "code",
   "execution_count": 136,
   "metadata": {
    "ExecuteTime": {
     "end_time": "2020-04-29T16:41:31.783508Z",
     "start_time": "2020-04-29T16:41:31.778522Z"
    }
   },
   "outputs": [],
   "source": [
    "X_Without_States_Countries = Without_States_Countries\n",
    "y_Without_States_Countries = y_downsampled"
   ]
  },
  {
   "cell_type": "markdown",
   "metadata": {},
   "source": [
    "## Gradient Boosting (through XGBoost)"
   ]
  },
  {
   "cell_type": "code",
   "execution_count": 152,
   "metadata": {
    "ExecuteTime": {
     "end_time": "2020-04-26T15:48:13.120125Z",
     "start_time": "2020-04-26T15:48:12.980500Z"
    }
   },
   "outputs": [],
   "source": [
    "# First using all available variables.  We will later compare with results generated without the source country or city. \n",
    "from sklearn import metrics\n",
    "from sklearn.model_selection import train_test_split\n",
    "X_train, X_test, y_train, y_test = train_test_split(X_Without_States_Countries, y_Without_States_Countries, \n",
    "                                                    test_size=0.3, random_state=0)"
   ]
  },
  {
   "cell_type": "code",
   "execution_count": 153,
   "metadata": {
    "ExecuteTime": {
     "end_time": "2020-04-26T15:48:13.281694Z",
     "start_time": "2020-04-26T15:48:13.123118Z"
    }
   },
   "outputs": [],
   "source": [
    "# Fitting and transforming the train and the test data to the min max scaler. \n",
    "# I chose the min max scalar because I want to maintain the distribution of the data. \n",
    "# https://towardsdatascience.com/scale-standardize-or-normalize-with-scikit-learn-6ccc7d176a02\n",
    "\n",
    "from sklearn.preprocessing import MinMaxScaler\n",
    "\n",
    "scaler_minmax = MinMaxScaler()\n",
    "\n",
    "scaler_minmax.fit(X_train)\n",
    "scaler_minmax.fit(X_test)\n",
    "\n",
    "X_train_MinMaxScaled = scaler_minmax.transform(X_train)\n",
    "X_test_MinMaxScaled = scaler_minmax.transform(X_test)"
   ]
  },
  {
   "cell_type": "code",
   "execution_count": null,
   "metadata": {},
   "outputs": [],
   "source": []
  },
  {
   "cell_type": "code",
   "execution_count": 154,
   "metadata": {
    "ExecuteTime": {
     "end_time": "2020-04-26T15:48:19.916952Z",
     "start_time": "2020-04-26T15:48:13.283691Z"
    }
   },
   "outputs": [
    {
     "name": "stdout",
     "output_type": "stream",
     "text": [
      "Accuracy: 86.86%\n"
     ]
    }
   ],
   "source": [
    "# I chose xgboost instead of the GradientBoostingClassifier because xgboost is approximately 10x faster than the\n",
    "# GradientBoostingClassifier and uses parallel computing. \n",
    "# https://analyticsindiamag.com/comparing-the-gradient-boosting-decision-tree-packages-xgboost-vs-lightgbm/\n",
    "from xgboost import XGBClassifier\n",
    "from sklearn.metrics import accuracy_score\n",
    "\n",
    "# Fitting the model. \n",
    "model = XGBClassifier()\n",
    "model.fit(X_train_MinMaxScaled, y_train)\n",
    "\n",
    "# Making predictions for the test data. \n",
    "y_pred = model.predict(X_test_MinMaxScaled)\n",
    "predictions = y_pred     \n",
    "\n",
    "# Evaluating predictions for the test data. \n",
    "accuracy = accuracy_score(y_test, predictions)\n",
    "print(\"Accuracy: %.2f%%\" % (accuracy * 100.0))"
   ]
  },
  {
   "cell_type": "markdown",
   "metadata": {},
   "source": [
    "## Support Vector Machine (SVM)"
   ]
  },
  {
   "cell_type": "code",
   "execution_count": 155,
   "metadata": {
    "ExecuteTime": {
     "end_time": "2020-04-26T15:52:28.802995Z",
     "start_time": "2020-04-26T15:48:19.919932Z"
    }
   },
   "outputs": [
    {
     "name": "stdout",
     "output_type": "stream",
     "text": [
      "Accuracy: 78.91%\n"
     ]
    }
   ],
   "source": [
    "from sklearn import svm\n",
    "\n",
    "# SVC = Support Vector Classification.  We are using NuSVC over SVC because the documentation says that NuSVC is\n",
    "# impractical when used for tens of thousands of samples.  Although we have a smaller dataset here, I am employing NuSVC \n",
    "# in case we want to expand the dataset in the future. \n",
    "model = svm.NuSVC(kernel='rbf') # rbf = radial basis function.  This is the default, but I am specifying just in case. \n",
    "model.fit(X_train_MinMaxScaled, y_train)\n",
    "\n",
    "# Making predictions for the test data. \n",
    "y_pred = model.predict(X_test_MinMaxScaled)\n",
    "predictions = y_pred     # replaced [round(value) for value in y_pred] with y_pred\n",
    "\n",
    "# Evaluating predictions for the test data. \n",
    "accuracy = accuracy_score(y_test, predictions)\n",
    "print(\"Accuracy: %.2f%%\" % (accuracy * 100.0))"
   ]
  },
  {
   "cell_type": "code",
   "execution_count": null,
   "metadata": {},
   "outputs": [],
   "source": []
  },
  {
   "cell_type": "markdown",
   "metadata": {},
   "source": [
    "<font size=5><font color='red'>4.\tWhich of the variables in the final dataset proved to be most important?  Least important?  Use dominance analysis to determine."
   ]
  },
  {
   "cell_type": "code",
   "execution_count": 156,
   "metadata": {
    "ExecuteTime": {
     "end_time": "2020-04-26T15:52:33.918910Z",
     "start_time": "2020-04-26T15:52:28.804964Z"
    }
   },
   "outputs": [
    {
     "data": {
      "text/html": [
       "\n",
       "    <div class=\"bk-root\">\n",
       "        <a href=\"https://bokeh.pydata.org\" target=\"_blank\" class=\"bk-logo bk-logo-small bk-logo-notebook\"></a>\n",
       "        <span id=\"1001\">Loading BokehJS ...</span>\n",
       "    </div>"
      ]
     },
     "metadata": {},
     "output_type": "display_data"
    },
    {
     "data": {
      "application/javascript": [
       "\n",
       "(function(root) {\n",
       "  function now() {\n",
       "    return new Date();\n",
       "  }\n",
       "\n",
       "  var force = true;\n",
       "\n",
       "  if (typeof root._bokeh_onload_callbacks === \"undefined\" || force === true) {\n",
       "    root._bokeh_onload_callbacks = [];\n",
       "    root._bokeh_is_loading = undefined;\n",
       "  }\n",
       "\n",
       "  var JS_MIME_TYPE = 'application/javascript';\n",
       "  var HTML_MIME_TYPE = 'text/html';\n",
       "  var EXEC_MIME_TYPE = 'application/vnd.bokehjs_exec.v0+json';\n",
       "  var CLASS_NAME = 'output_bokeh rendered_html';\n",
       "\n",
       "  /**\n",
       "   * Render data to the DOM node\n",
       "   */\n",
       "  function render(props, node) {\n",
       "    var script = document.createElement(\"script\");\n",
       "    node.appendChild(script);\n",
       "  }\n",
       "\n",
       "  /**\n",
       "   * Handle when an output is cleared or removed\n",
       "   */\n",
       "  function handleClearOutput(event, handle) {\n",
       "    var cell = handle.cell;\n",
       "\n",
       "    var id = cell.output_area._bokeh_element_id;\n",
       "    var server_id = cell.output_area._bokeh_server_id;\n",
       "    // Clean up Bokeh references\n",
       "    if (id != null && id in Bokeh.index) {\n",
       "      Bokeh.index[id].model.document.clear();\n",
       "      delete Bokeh.index[id];\n",
       "    }\n",
       "\n",
       "    if (server_id !== undefined) {\n",
       "      // Clean up Bokeh references\n",
       "      var cmd = \"from bokeh.io.state import curstate; print(curstate().uuid_to_server['\" + server_id + \"'].get_sessions()[0].document.roots[0]._id)\";\n",
       "      cell.notebook.kernel.execute(cmd, {\n",
       "        iopub: {\n",
       "          output: function(msg) {\n",
       "            var id = msg.content.text.trim();\n",
       "            if (id in Bokeh.index) {\n",
       "              Bokeh.index[id].model.document.clear();\n",
       "              delete Bokeh.index[id];\n",
       "            }\n",
       "          }\n",
       "        }\n",
       "      });\n",
       "      // Destroy server and session\n",
       "      var cmd = \"import bokeh.io.notebook as ion; ion.destroy_server('\" + server_id + \"')\";\n",
       "      cell.notebook.kernel.execute(cmd);\n",
       "    }\n",
       "  }\n",
       "\n",
       "  /**\n",
       "   * Handle when a new output is added\n",
       "   */\n",
       "  function handleAddOutput(event, handle) {\n",
       "    var output_area = handle.output_area;\n",
       "    var output = handle.output;\n",
       "\n",
       "    // limit handleAddOutput to display_data with EXEC_MIME_TYPE content only\n",
       "    if ((output.output_type != \"display_data\") || (!output.data.hasOwnProperty(EXEC_MIME_TYPE))) {\n",
       "      return\n",
       "    }\n",
       "\n",
       "    var toinsert = output_area.element.find(\".\" + CLASS_NAME.split(' ')[0]);\n",
       "\n",
       "    if (output.metadata[EXEC_MIME_TYPE][\"id\"] !== undefined) {\n",
       "      toinsert[toinsert.length - 1].firstChild.textContent = output.data[JS_MIME_TYPE];\n",
       "      // store reference to embed id on output_area\n",
       "      output_area._bokeh_element_id = output.metadata[EXEC_MIME_TYPE][\"id\"];\n",
       "    }\n",
       "    if (output.metadata[EXEC_MIME_TYPE][\"server_id\"] !== undefined) {\n",
       "      var bk_div = document.createElement(\"div\");\n",
       "      bk_div.innerHTML = output.data[HTML_MIME_TYPE];\n",
       "      var script_attrs = bk_div.children[0].attributes;\n",
       "      for (var i = 0; i < script_attrs.length; i++) {\n",
       "        toinsert[toinsert.length - 1].firstChild.setAttribute(script_attrs[i].name, script_attrs[i].value);\n",
       "      }\n",
       "      // store reference to server id on output_area\n",
       "      output_area._bokeh_server_id = output.metadata[EXEC_MIME_TYPE][\"server_id\"];\n",
       "    }\n",
       "  }\n",
       "\n",
       "  function register_renderer(events, OutputArea) {\n",
       "\n",
       "    function append_mime(data, metadata, element) {\n",
       "      // create a DOM node to render to\n",
       "      var toinsert = this.create_output_subarea(\n",
       "        metadata,\n",
       "        CLASS_NAME,\n",
       "        EXEC_MIME_TYPE\n",
       "      );\n",
       "      this.keyboard_manager.register_events(toinsert);\n",
       "      // Render to node\n",
       "      var props = {data: data, metadata: metadata[EXEC_MIME_TYPE]};\n",
       "      render(props, toinsert[toinsert.length - 1]);\n",
       "      element.append(toinsert);\n",
       "      return toinsert\n",
       "    }\n",
       "\n",
       "    /* Handle when an output is cleared or removed */\n",
       "    events.on('clear_output.CodeCell', handleClearOutput);\n",
       "    events.on('delete.Cell', handleClearOutput);\n",
       "\n",
       "    /* Handle when a new output is added */\n",
       "    events.on('output_added.OutputArea', handleAddOutput);\n",
       "\n",
       "    /**\n",
       "     * Register the mime type and append_mime function with output_area\n",
       "     */\n",
       "    OutputArea.prototype.register_mime_type(EXEC_MIME_TYPE, append_mime, {\n",
       "      /* Is output safe? */\n",
       "      safe: true,\n",
       "      /* Index of renderer in `output_area.display_order` */\n",
       "      index: 0\n",
       "    });\n",
       "  }\n",
       "\n",
       "  // register the mime type if in Jupyter Notebook environment and previously unregistered\n",
       "  if (root.Jupyter !== undefined) {\n",
       "    var events = require('base/js/events');\n",
       "    var OutputArea = require('notebook/js/outputarea').OutputArea;\n",
       "\n",
       "    if (OutputArea.prototype.mime_types().indexOf(EXEC_MIME_TYPE) == -1) {\n",
       "      register_renderer(events, OutputArea);\n",
       "    }\n",
       "  }\n",
       "\n",
       "  \n",
       "  if (typeof (root._bokeh_timeout) === \"undefined\" || force === true) {\n",
       "    root._bokeh_timeout = Date.now() + 5000;\n",
       "    root._bokeh_failed_load = false;\n",
       "  }\n",
       "\n",
       "  var NB_LOAD_WARNING = {'data': {'text/html':\n",
       "     \"<div style='background-color: #fdd'>\\n\"+\n",
       "     \"<p>\\n\"+\n",
       "     \"BokehJS does not appear to have successfully loaded. If loading BokehJS from CDN, this \\n\"+\n",
       "     \"may be due to a slow or bad network connection. Possible fixes:\\n\"+\n",
       "     \"</p>\\n\"+\n",
       "     \"<ul>\\n\"+\n",
       "     \"<li>re-rerun `output_notebook()` to attempt to load from CDN again, or</li>\\n\"+\n",
       "     \"<li>use INLINE resources instead, as so:</li>\\n\"+\n",
       "     \"</ul>\\n\"+\n",
       "     \"<code>\\n\"+\n",
       "     \"from bokeh.resources import INLINE\\n\"+\n",
       "     \"output_notebook(resources=INLINE)\\n\"+\n",
       "     \"</code>\\n\"+\n",
       "     \"</div>\"}};\n",
       "\n",
       "  function display_loaded() {\n",
       "    var el = document.getElementById(\"1001\");\n",
       "    if (el != null) {\n",
       "      el.textContent = \"BokehJS is loading...\";\n",
       "    }\n",
       "    if (root.Bokeh !== undefined) {\n",
       "      if (el != null) {\n",
       "        el.textContent = \"BokehJS \" + root.Bokeh.version + \" successfully loaded.\";\n",
       "      }\n",
       "    } else if (Date.now() < root._bokeh_timeout) {\n",
       "      setTimeout(display_loaded, 100)\n",
       "    }\n",
       "  }\n",
       "\n",
       "\n",
       "  function run_callbacks() {\n",
       "    try {\n",
       "      root._bokeh_onload_callbacks.forEach(function(callback) {\n",
       "        if (callback != null)\n",
       "          callback();\n",
       "      });\n",
       "    } finally {\n",
       "      delete root._bokeh_onload_callbacks\n",
       "    }\n",
       "    console.debug(\"Bokeh: all callbacks have finished\");\n",
       "  }\n",
       "\n",
       "  function load_libs(css_urls, js_urls, callback) {\n",
       "    if (css_urls == null) css_urls = [];\n",
       "    if (js_urls == null) js_urls = [];\n",
       "\n",
       "    root._bokeh_onload_callbacks.push(callback);\n",
       "    if (root._bokeh_is_loading > 0) {\n",
       "      console.debug(\"Bokeh: BokehJS is being loaded, scheduling callback at\", now());\n",
       "      return null;\n",
       "    }\n",
       "    if (js_urls == null || js_urls.length === 0) {\n",
       "      run_callbacks();\n",
       "      return null;\n",
       "    }\n",
       "    console.debug(\"Bokeh: BokehJS not loaded, scheduling load and callback at\", now());\n",
       "    root._bokeh_is_loading = css_urls.length + js_urls.length;\n",
       "\n",
       "    function on_load() {\n",
       "      root._bokeh_is_loading--;\n",
       "      if (root._bokeh_is_loading === 0) {\n",
       "        console.debug(\"Bokeh: all BokehJS libraries/stylesheets loaded\");\n",
       "        run_callbacks()\n",
       "      }\n",
       "    }\n",
       "\n",
       "    function on_error() {\n",
       "      console.error(\"failed to load \" + url);\n",
       "    }\n",
       "\n",
       "    for (var i = 0; i < css_urls.length; i++) {\n",
       "      var url = css_urls[i];\n",
       "      const element = document.createElement(\"link\");\n",
       "      element.onload = on_load;\n",
       "      element.onerror = on_error;\n",
       "      element.rel = \"stylesheet\";\n",
       "      element.type = \"text/css\";\n",
       "      element.href = url;\n",
       "      console.debug(\"Bokeh: injecting link tag for BokehJS stylesheet: \", url);\n",
       "      document.body.appendChild(element);\n",
       "    }\n",
       "\n",
       "    for (var i = 0; i < js_urls.length; i++) {\n",
       "      var url = js_urls[i];\n",
       "      var element = document.createElement('script');\n",
       "      element.onload = on_load;\n",
       "      element.onerror = on_error;\n",
       "      element.async = false;\n",
       "      element.src = url;\n",
       "      console.debug(\"Bokeh: injecting script tag for BokehJS library: \", url);\n",
       "      document.head.appendChild(element);\n",
       "    }\n",
       "  };var element = document.getElementById(\"1001\");\n",
       "  if (element == null) {\n",
       "    console.error(\"Bokeh: ERROR: autoload.js configured with elementid '1001' but no matching script tag was found. \")\n",
       "    return false;\n",
       "  }\n",
       "\n",
       "  function inject_raw_css(css) {\n",
       "    const element = document.createElement(\"style\");\n",
       "    element.appendChild(document.createTextNode(css));\n",
       "    document.body.appendChild(element);\n",
       "  }\n",
       "\n",
       "  var js_urls = [\"https://cdn.pydata.org/bokeh/release/bokeh-1.3.4.min.js\", \"https://cdn.pydata.org/bokeh/release/bokeh-widgets-1.3.4.min.js\", \"https://cdn.pydata.org/bokeh/release/bokeh-tables-1.3.4.min.js\", \"https://cdn.pydata.org/bokeh/release/bokeh-gl-1.3.4.min.js\"];\n",
       "  var css_urls = [];\n",
       "\n",
       "  var inline_js = [\n",
       "    function(Bokeh) {\n",
       "      Bokeh.set_log_level(\"info\");\n",
       "    },\n",
       "    \n",
       "    function(Bokeh) {\n",
       "      \n",
       "    },\n",
       "    function(Bokeh) {} // ensure no trailing comma for IE\n",
       "  ];\n",
       "\n",
       "  function run_inline_js() {\n",
       "    \n",
       "    if ((root.Bokeh !== undefined) || (force === true)) {\n",
       "      for (var i = 0; i < inline_js.length; i++) {\n",
       "        inline_js[i].call(root, root.Bokeh);\n",
       "      }if (force === true) {\n",
       "        display_loaded();\n",
       "      }} else if (Date.now() < root._bokeh_timeout) {\n",
       "      setTimeout(run_inline_js, 100);\n",
       "    } else if (!root._bokeh_failed_load) {\n",
       "      console.log(\"Bokeh: BokehJS failed to load within specified timeout.\");\n",
       "      root._bokeh_failed_load = true;\n",
       "    } else if (force !== true) {\n",
       "      var cell = $(document.getElementById(\"1001\")).parents('.cell').data().cell;\n",
       "      cell.output_area.append_execute_result(NB_LOAD_WARNING)\n",
       "    }\n",
       "\n",
       "  }\n",
       "\n",
       "  if (root._bokeh_is_loading === 0) {\n",
       "    console.debug(\"Bokeh: BokehJS loaded, going straight to plotting\");\n",
       "    run_inline_js();\n",
       "  } else {\n",
       "    load_libs(css_urls, js_urls, function() {\n",
       "      console.debug(\"Bokeh: BokehJS plotting callback run at\", now());\n",
       "      run_inline_js();\n",
       "    });\n",
       "  }\n",
       "}(window));"
      ],
      "application/vnd.bokehjs_load.v0+json": "\n(function(root) {\n  function now() {\n    return new Date();\n  }\n\n  var force = true;\n\n  if (typeof root._bokeh_onload_callbacks === \"undefined\" || force === true) {\n    root._bokeh_onload_callbacks = [];\n    root._bokeh_is_loading = undefined;\n  }\n\n  \n\n  \n  if (typeof (root._bokeh_timeout) === \"undefined\" || force === true) {\n    root._bokeh_timeout = Date.now() + 5000;\n    root._bokeh_failed_load = false;\n  }\n\n  var NB_LOAD_WARNING = {'data': {'text/html':\n     \"<div style='background-color: #fdd'>\\n\"+\n     \"<p>\\n\"+\n     \"BokehJS does not appear to have successfully loaded. If loading BokehJS from CDN, this \\n\"+\n     \"may be due to a slow or bad network connection. Possible fixes:\\n\"+\n     \"</p>\\n\"+\n     \"<ul>\\n\"+\n     \"<li>re-rerun `output_notebook()` to attempt to load from CDN again, or</li>\\n\"+\n     \"<li>use INLINE resources instead, as so:</li>\\n\"+\n     \"</ul>\\n\"+\n     \"<code>\\n\"+\n     \"from bokeh.resources import INLINE\\n\"+\n     \"output_notebook(resources=INLINE)\\n\"+\n     \"</code>\\n\"+\n     \"</div>\"}};\n\n  function display_loaded() {\n    var el = document.getElementById(\"1001\");\n    if (el != null) {\n      el.textContent = \"BokehJS is loading...\";\n    }\n    if (root.Bokeh !== undefined) {\n      if (el != null) {\n        el.textContent = \"BokehJS \" + root.Bokeh.version + \" successfully loaded.\";\n      }\n    } else if (Date.now() < root._bokeh_timeout) {\n      setTimeout(display_loaded, 100)\n    }\n  }\n\n\n  function run_callbacks() {\n    try {\n      root._bokeh_onload_callbacks.forEach(function(callback) {\n        if (callback != null)\n          callback();\n      });\n    } finally {\n      delete root._bokeh_onload_callbacks\n    }\n    console.debug(\"Bokeh: all callbacks have finished\");\n  }\n\n  function load_libs(css_urls, js_urls, callback) {\n    if (css_urls == null) css_urls = [];\n    if (js_urls == null) js_urls = [];\n\n    root._bokeh_onload_callbacks.push(callback);\n    if (root._bokeh_is_loading > 0) {\n      console.debug(\"Bokeh: BokehJS is being loaded, scheduling callback at\", now());\n      return null;\n    }\n    if (js_urls == null || js_urls.length === 0) {\n      run_callbacks();\n      return null;\n    }\n    console.debug(\"Bokeh: BokehJS not loaded, scheduling load and callback at\", now());\n    root._bokeh_is_loading = css_urls.length + js_urls.length;\n\n    function on_load() {\n      root._bokeh_is_loading--;\n      if (root._bokeh_is_loading === 0) {\n        console.debug(\"Bokeh: all BokehJS libraries/stylesheets loaded\");\n        run_callbacks()\n      }\n    }\n\n    function on_error() {\n      console.error(\"failed to load \" + url);\n    }\n\n    for (var i = 0; i < css_urls.length; i++) {\n      var url = css_urls[i];\n      const element = document.createElement(\"link\");\n      element.onload = on_load;\n      element.onerror = on_error;\n      element.rel = \"stylesheet\";\n      element.type = \"text/css\";\n      element.href = url;\n      console.debug(\"Bokeh: injecting link tag for BokehJS stylesheet: \", url);\n      document.body.appendChild(element);\n    }\n\n    for (var i = 0; i < js_urls.length; i++) {\n      var url = js_urls[i];\n      var element = document.createElement('script');\n      element.onload = on_load;\n      element.onerror = on_error;\n      element.async = false;\n      element.src = url;\n      console.debug(\"Bokeh: injecting script tag for BokehJS library: \", url);\n      document.head.appendChild(element);\n    }\n  };var element = document.getElementById(\"1001\");\n  if (element == null) {\n    console.error(\"Bokeh: ERROR: autoload.js configured with elementid '1001' but no matching script tag was found. \")\n    return false;\n  }\n\n  function inject_raw_css(css) {\n    const element = document.createElement(\"style\");\n    element.appendChild(document.createTextNode(css));\n    document.body.appendChild(element);\n  }\n\n  var js_urls = [\"https://cdn.pydata.org/bokeh/release/bokeh-1.3.4.min.js\", \"https://cdn.pydata.org/bokeh/release/bokeh-widgets-1.3.4.min.js\", \"https://cdn.pydata.org/bokeh/release/bokeh-tables-1.3.4.min.js\", \"https://cdn.pydata.org/bokeh/release/bokeh-gl-1.3.4.min.js\"];\n  var css_urls = [];\n\n  var inline_js = [\n    function(Bokeh) {\n      Bokeh.set_log_level(\"info\");\n    },\n    \n    function(Bokeh) {\n      \n    },\n    function(Bokeh) {} // ensure no trailing comma for IE\n  ];\n\n  function run_inline_js() {\n    \n    if ((root.Bokeh !== undefined) || (force === true)) {\n      for (var i = 0; i < inline_js.length; i++) {\n        inline_js[i].call(root, root.Bokeh);\n      }if (force === true) {\n        display_loaded();\n      }} else if (Date.now() < root._bokeh_timeout) {\n      setTimeout(run_inline_js, 100);\n    } else if (!root._bokeh_failed_load) {\n      console.log(\"Bokeh: BokehJS failed to load within specified timeout.\");\n      root._bokeh_failed_load = true;\n    } else if (force !== true) {\n      var cell = $(document.getElementById(\"1001\")).parents('.cell').data().cell;\n      cell.output_area.append_execute_result(NB_LOAD_WARNING)\n    }\n\n  }\n\n  if (root._bokeh_is_loading === 0) {\n    console.debug(\"Bokeh: BokehJS loaded, going straight to plotting\");\n    run_inline_js();\n  } else {\n    load_libs(css_urls, js_urls, function() {\n      console.debug(\"Bokeh: BokehJS plotting callback run at\", now());\n      run_inline_js();\n    });\n  }\n}(window));"
     },
     "metadata": {},
     "output_type": "display_data"
    },
    {
     "data": {
      "text/html": [
       "        <script type=\"text/javascript\">\n",
       "        window.PlotlyConfig = {MathJaxConfig: 'local'};\n",
       "        if (window.MathJax) {MathJax.Hub.Config({SVG: {font: \"STIX-Web\"}});}\n",
       "        if (typeof require !== 'undefined') {\n",
       "        require.undef(\"plotly\");\n",
       "        requirejs.config({\n",
       "            paths: {\n",
       "                'plotly': ['https://cdn.plot.ly/plotly-latest.min']\n",
       "            }\n",
       "        });\n",
       "        require(['plotly'], function(Plotly) {\n",
       "            window._Plotly = Plotly;\n",
       "        });\n",
       "        }\n",
       "        </script>\n",
       "        "
      ]
     },
     "metadata": {},
     "output_type": "display_data"
    }
   ],
   "source": [
    "# Dominance Analysis is used to determine the relative importance of one predictor over other predictors in multiple \n",
    "# regressions. \n",
    "from dominance_analysis import Dominance_Datasets\n",
    "from dominance_analysis import Dominance"
   ]
  },
  {
   "cell_type": "code",
   "execution_count": 157,
   "metadata": {
    "ExecuteTime": {
     "end_time": "2020-04-26T15:52:34.026623Z",
     "start_time": "2020-04-26T15:52:33.920904Z"
    }
   },
   "outputs": [
    {
     "data": {
      "text/html": [
       "<div>\n",
       "<style scoped>\n",
       "    .dataframe tbody tr th:only-of-type {\n",
       "        vertical-align: middle;\n",
       "    }\n",
       "\n",
       "    .dataframe tbody tr th {\n",
       "        vertical-align: top;\n",
       "    }\n",
       "\n",
       "    .dataframe thead th {\n",
       "        text-align: right;\n",
       "    }\n",
       "</style>\n",
       "<table border=\"1\" class=\"dataframe\">\n",
       "  <thead>\n",
       "    <tr style=\"text-align: right;\">\n",
       "      <th></th>\n",
       "      <th>Duration</th>\n",
       "      <th>Packets</th>\n",
       "      <th>Bytes</th>\n",
       "      <th>A_</th>\n",
       "      <th>CON</th>\n",
       "      <th>ECO</th>\n",
       "      <th>ECR</th>\n",
       "      <th>FAC_</th>\n",
       "      <th>FAU_</th>\n",
       "      <th>FA_</th>\n",
       "      <th>...</th>\n",
       "      <th>832</th>\n",
       "      <th>843</th>\n",
       "      <th>877</th>\n",
       "      <th>88</th>\n",
       "      <th>888</th>\n",
       "      <th>916</th>\n",
       "      <th>98</th>\n",
       "      <th>993</th>\n",
       "      <th>995</th>\n",
       "      <th>yes/no</th>\n",
       "    </tr>\n",
       "  </thead>\n",
       "  <tbody>\n",
       "    <tr>\n",
       "      <td>4117</td>\n",
       "      <td>0.000</td>\n",
       "      <td>1</td>\n",
       "      <td>263</td>\n",
       "      <td>0.0</td>\n",
       "      <td>0.0</td>\n",
       "      <td>0.0</td>\n",
       "      <td>0.0</td>\n",
       "      <td>0.0</td>\n",
       "      <td>0.0</td>\n",
       "      <td>0.0</td>\n",
       "      <td>...</td>\n",
       "      <td>0.0</td>\n",
       "      <td>0.0</td>\n",
       "      <td>0.0</td>\n",
       "      <td>0.0</td>\n",
       "      <td>0.0</td>\n",
       "      <td>0.0</td>\n",
       "      <td>0.0</td>\n",
       "      <td>0.0</td>\n",
       "      <td>0.0</td>\n",
       "      <td>yes</td>\n",
       "    </tr>\n",
       "    <tr>\n",
       "      <td>6269</td>\n",
       "      <td>0.000</td>\n",
       "      <td>1</td>\n",
       "      <td>66</td>\n",
       "      <td>0.0</td>\n",
       "      <td>0.0</td>\n",
       "      <td>0.0</td>\n",
       "      <td>0.0</td>\n",
       "      <td>0.0</td>\n",
       "      <td>0.0</td>\n",
       "      <td>0.0</td>\n",
       "      <td>...</td>\n",
       "      <td>0.0</td>\n",
       "      <td>0.0</td>\n",
       "      <td>0.0</td>\n",
       "      <td>0.0</td>\n",
       "      <td>0.0</td>\n",
       "      <td>0.0</td>\n",
       "      <td>0.0</td>\n",
       "      <td>0.0</td>\n",
       "      <td>0.0</td>\n",
       "      <td>yes</td>\n",
       "    </tr>\n",
       "    <tr>\n",
       "      <td>8919</td>\n",
       "      <td>2.712</td>\n",
       "      <td>4</td>\n",
       "      <td>256</td>\n",
       "      <td>0.0</td>\n",
       "      <td>0.0</td>\n",
       "      <td>0.0</td>\n",
       "      <td>0.0</td>\n",
       "      <td>0.0</td>\n",
       "      <td>0.0</td>\n",
       "      <td>0.0</td>\n",
       "      <td>...</td>\n",
       "      <td>0.0</td>\n",
       "      <td>0.0</td>\n",
       "      <td>0.0</td>\n",
       "      <td>0.0</td>\n",
       "      <td>0.0</td>\n",
       "      <td>0.0</td>\n",
       "      <td>0.0</td>\n",
       "      <td>0.0</td>\n",
       "      <td>0.0</td>\n",
       "      <td>yes</td>\n",
       "    </tr>\n",
       "    <tr>\n",
       "      <td>10127</td>\n",
       "      <td>0.000</td>\n",
       "      <td>1</td>\n",
       "      <td>64</td>\n",
       "      <td>0.0</td>\n",
       "      <td>0.0</td>\n",
       "      <td>0.0</td>\n",
       "      <td>0.0</td>\n",
       "      <td>0.0</td>\n",
       "      <td>0.0</td>\n",
       "      <td>0.0</td>\n",
       "      <td>...</td>\n",
       "      <td>0.0</td>\n",
       "      <td>0.0</td>\n",
       "      <td>0.0</td>\n",
       "      <td>0.0</td>\n",
       "      <td>0.0</td>\n",
       "      <td>0.0</td>\n",
       "      <td>0.0</td>\n",
       "      <td>0.0</td>\n",
       "      <td>0.0</td>\n",
       "      <td>yes</td>\n",
       "    </tr>\n",
       "    <tr>\n",
       "      <td>11546</td>\n",
       "      <td>0.000</td>\n",
       "      <td>1</td>\n",
       "      <td>64</td>\n",
       "      <td>0.0</td>\n",
       "      <td>0.0</td>\n",
       "      <td>0.0</td>\n",
       "      <td>0.0</td>\n",
       "      <td>0.0</td>\n",
       "      <td>0.0</td>\n",
       "      <td>0.0</td>\n",
       "      <td>...</td>\n",
       "      <td>0.0</td>\n",
       "      <td>0.0</td>\n",
       "      <td>0.0</td>\n",
       "      <td>0.0</td>\n",
       "      <td>0.0</td>\n",
       "      <td>0.0</td>\n",
       "      <td>0.0</td>\n",
       "      <td>0.0</td>\n",
       "      <td>0.0</td>\n",
       "      <td>yes</td>\n",
       "    </tr>\n",
       "  </tbody>\n",
       "</table>\n",
       "<p>5 rows × 252 columns</p>\n",
       "</div>"
      ],
      "text/plain": [
       "       Duration  Packets  Bytes   A_  CON  ECO  ECR  FAC_  FAU_  FA_  ...  \\\n",
       "4117      0.000        1    263  0.0  0.0  0.0  0.0   0.0   0.0  0.0  ...   \n",
       "6269      0.000        1     66  0.0  0.0  0.0  0.0   0.0   0.0  0.0  ...   \n",
       "8919      2.712        4    256  0.0  0.0  0.0  0.0   0.0   0.0  0.0  ...   \n",
       "10127     0.000        1     64  0.0  0.0  0.0  0.0   0.0   0.0  0.0  ...   \n",
       "11546     0.000        1     64  0.0  0.0  0.0  0.0   0.0   0.0  0.0  ...   \n",
       "\n",
       "       832  843  877   88  888  916   98  993  995  yes/no  \n",
       "4117   0.0  0.0  0.0  0.0  0.0  0.0  0.0  0.0  0.0     yes  \n",
       "6269   0.0  0.0  0.0  0.0  0.0  0.0  0.0  0.0  0.0     yes  \n",
       "8919   0.0  0.0  0.0  0.0  0.0  0.0  0.0  0.0  0.0     yes  \n",
       "10127  0.0  0.0  0.0  0.0  0.0  0.0  0.0  0.0  0.0     yes  \n",
       "11546  0.0  0.0  0.0  0.0  0.0  0.0  0.0  0.0  0.0     yes  \n",
       "\n",
       "[5 rows x 252 columns]"
      ]
     },
     "execution_count": 157,
     "metadata": {},
     "output_type": "execute_result"
    }
   ],
   "source": [
    "# Dominance Analysis wants the target variable in the dataset, not as a seperate dataframe. \n",
    "dsampled_data = pd.merge(X_downsampled, y_downsampled, left_index=True, right_index=True)\n",
    "dsampled_data.head()"
   ]
  },
  {
   "cell_type": "code",
   "execution_count": 158,
   "metadata": {
    "ExecuteTime": {
     "end_time": "2020-04-26T15:52:34.051557Z",
     "start_time": "2020-04-26T15:52:34.030611Z"
    }
   },
   "outputs": [
    {
     "data": {
      "text/plain": [
       "array(['yes', 'no'], dtype=object)"
      ]
     },
     "execution_count": 158,
     "metadata": {},
     "output_type": "execute_result"
    }
   ],
   "source": [
    "dsampled_data['yes/no'].unique()"
   ]
  },
  {
   "cell_type": "code",
   "execution_count": 159,
   "metadata": {
    "ExecuteTime": {
     "end_time": "2020-04-26T15:52:34.209133Z",
     "start_time": "2020-04-26T15:52:34.054547Z"
    }
   },
   "outputs": [],
   "source": [
    "# We need to change the column title here, otherwise will get an error when running the dominance_regression function. \n",
    "dsampled_data = dsampled_data.rename(columns={\"yes/no\": \"Botnet\"})"
   ]
  },
  {
   "cell_type": "code",
   "execution_count": 160,
   "metadata": {
    "ExecuteTime": {
     "end_time": "2020-04-26T15:52:34.287921Z",
     "start_time": "2020-04-26T15:52:34.211127Z"
    }
   },
   "outputs": [
    {
     "data": {
      "text/html": [
       "<div>\n",
       "<style scoped>\n",
       "    .dataframe tbody tr th:only-of-type {\n",
       "        vertical-align: middle;\n",
       "    }\n",
       "\n",
       "    .dataframe tbody tr th {\n",
       "        vertical-align: top;\n",
       "    }\n",
       "\n",
       "    .dataframe thead th {\n",
       "        text-align: right;\n",
       "    }\n",
       "</style>\n",
       "<table border=\"1\" class=\"dataframe\">\n",
       "  <thead>\n",
       "    <tr style=\"text-align: right;\">\n",
       "      <th></th>\n",
       "      <th>Duration</th>\n",
       "      <th>Packets</th>\n",
       "      <th>Bytes</th>\n",
       "      <th>A_</th>\n",
       "      <th>CON</th>\n",
       "      <th>ECO</th>\n",
       "      <th>ECR</th>\n",
       "      <th>FAC_</th>\n",
       "      <th>FAU_</th>\n",
       "      <th>FA_</th>\n",
       "      <th>...</th>\n",
       "      <th>832</th>\n",
       "      <th>843</th>\n",
       "      <th>877</th>\n",
       "      <th>88</th>\n",
       "      <th>888</th>\n",
       "      <th>916</th>\n",
       "      <th>98</th>\n",
       "      <th>993</th>\n",
       "      <th>995</th>\n",
       "      <th>Botnet</th>\n",
       "    </tr>\n",
       "  </thead>\n",
       "  <tbody>\n",
       "    <tr>\n",
       "      <td>4117</td>\n",
       "      <td>0.000</td>\n",
       "      <td>1</td>\n",
       "      <td>263</td>\n",
       "      <td>0.0</td>\n",
       "      <td>0.0</td>\n",
       "      <td>0.0</td>\n",
       "      <td>0.0</td>\n",
       "      <td>0.0</td>\n",
       "      <td>0.0</td>\n",
       "      <td>0.0</td>\n",
       "      <td>...</td>\n",
       "      <td>0.0</td>\n",
       "      <td>0.0</td>\n",
       "      <td>0.0</td>\n",
       "      <td>0.0</td>\n",
       "      <td>0.0</td>\n",
       "      <td>0.0</td>\n",
       "      <td>0.0</td>\n",
       "      <td>0.0</td>\n",
       "      <td>0.0</td>\n",
       "      <td>True</td>\n",
       "    </tr>\n",
       "    <tr>\n",
       "      <td>6269</td>\n",
       "      <td>0.000</td>\n",
       "      <td>1</td>\n",
       "      <td>66</td>\n",
       "      <td>0.0</td>\n",
       "      <td>0.0</td>\n",
       "      <td>0.0</td>\n",
       "      <td>0.0</td>\n",
       "      <td>0.0</td>\n",
       "      <td>0.0</td>\n",
       "      <td>0.0</td>\n",
       "      <td>...</td>\n",
       "      <td>0.0</td>\n",
       "      <td>0.0</td>\n",
       "      <td>0.0</td>\n",
       "      <td>0.0</td>\n",
       "      <td>0.0</td>\n",
       "      <td>0.0</td>\n",
       "      <td>0.0</td>\n",
       "      <td>0.0</td>\n",
       "      <td>0.0</td>\n",
       "      <td>True</td>\n",
       "    </tr>\n",
       "    <tr>\n",
       "      <td>8919</td>\n",
       "      <td>2.712</td>\n",
       "      <td>4</td>\n",
       "      <td>256</td>\n",
       "      <td>0.0</td>\n",
       "      <td>0.0</td>\n",
       "      <td>0.0</td>\n",
       "      <td>0.0</td>\n",
       "      <td>0.0</td>\n",
       "      <td>0.0</td>\n",
       "      <td>0.0</td>\n",
       "      <td>...</td>\n",
       "      <td>0.0</td>\n",
       "      <td>0.0</td>\n",
       "      <td>0.0</td>\n",
       "      <td>0.0</td>\n",
       "      <td>0.0</td>\n",
       "      <td>0.0</td>\n",
       "      <td>0.0</td>\n",
       "      <td>0.0</td>\n",
       "      <td>0.0</td>\n",
       "      <td>True</td>\n",
       "    </tr>\n",
       "    <tr>\n",
       "      <td>10127</td>\n",
       "      <td>0.000</td>\n",
       "      <td>1</td>\n",
       "      <td>64</td>\n",
       "      <td>0.0</td>\n",
       "      <td>0.0</td>\n",
       "      <td>0.0</td>\n",
       "      <td>0.0</td>\n",
       "      <td>0.0</td>\n",
       "      <td>0.0</td>\n",
       "      <td>0.0</td>\n",
       "      <td>...</td>\n",
       "      <td>0.0</td>\n",
       "      <td>0.0</td>\n",
       "      <td>0.0</td>\n",
       "      <td>0.0</td>\n",
       "      <td>0.0</td>\n",
       "      <td>0.0</td>\n",
       "      <td>0.0</td>\n",
       "      <td>0.0</td>\n",
       "      <td>0.0</td>\n",
       "      <td>True</td>\n",
       "    </tr>\n",
       "    <tr>\n",
       "      <td>11546</td>\n",
       "      <td>0.000</td>\n",
       "      <td>1</td>\n",
       "      <td>64</td>\n",
       "      <td>0.0</td>\n",
       "      <td>0.0</td>\n",
       "      <td>0.0</td>\n",
       "      <td>0.0</td>\n",
       "      <td>0.0</td>\n",
       "      <td>0.0</td>\n",
       "      <td>0.0</td>\n",
       "      <td>...</td>\n",
       "      <td>0.0</td>\n",
       "      <td>0.0</td>\n",
       "      <td>0.0</td>\n",
       "      <td>0.0</td>\n",
       "      <td>0.0</td>\n",
       "      <td>0.0</td>\n",
       "      <td>0.0</td>\n",
       "      <td>0.0</td>\n",
       "      <td>0.0</td>\n",
       "      <td>True</td>\n",
       "    </tr>\n",
       "    <tr>\n",
       "      <td>...</td>\n",
       "      <td>...</td>\n",
       "      <td>...</td>\n",
       "      <td>...</td>\n",
       "      <td>...</td>\n",
       "      <td>...</td>\n",
       "      <td>...</td>\n",
       "      <td>...</td>\n",
       "      <td>...</td>\n",
       "      <td>...</td>\n",
       "      <td>...</td>\n",
       "      <td>...</td>\n",
       "      <td>...</td>\n",
       "      <td>...</td>\n",
       "      <td>...</td>\n",
       "      <td>...</td>\n",
       "      <td>...</td>\n",
       "      <td>...</td>\n",
       "      <td>...</td>\n",
       "      <td>...</td>\n",
       "      <td>...</td>\n",
       "      <td>...</td>\n",
       "    </tr>\n",
       "    <tr>\n",
       "      <td>937125</td>\n",
       "      <td>0.000</td>\n",
       "      <td>1</td>\n",
       "      <td>66</td>\n",
       "      <td>0.0</td>\n",
       "      <td>0.0</td>\n",
       "      <td>0.0</td>\n",
       "      <td>0.0</td>\n",
       "      <td>0.0</td>\n",
       "      <td>0.0</td>\n",
       "      <td>0.0</td>\n",
       "      <td>...</td>\n",
       "      <td>0.0</td>\n",
       "      <td>0.0</td>\n",
       "      <td>0.0</td>\n",
       "      <td>0.0</td>\n",
       "      <td>0.0</td>\n",
       "      <td>0.0</td>\n",
       "      <td>0.0</td>\n",
       "      <td>0.0</td>\n",
       "      <td>0.0</td>\n",
       "      <td>False</td>\n",
       "    </tr>\n",
       "    <tr>\n",
       "      <td>58713</td>\n",
       "      <td>0.000</td>\n",
       "      <td>3</td>\n",
       "      <td>2969</td>\n",
       "      <td>0.0</td>\n",
       "      <td>0.0</td>\n",
       "      <td>0.0</td>\n",
       "      <td>0.0</td>\n",
       "      <td>0.0</td>\n",
       "      <td>0.0</td>\n",
       "      <td>0.0</td>\n",
       "      <td>...</td>\n",
       "      <td>0.0</td>\n",
       "      <td>0.0</td>\n",
       "      <td>0.0</td>\n",
       "      <td>0.0</td>\n",
       "      <td>0.0</td>\n",
       "      <td>0.0</td>\n",
       "      <td>0.0</td>\n",
       "      <td>0.0</td>\n",
       "      <td>0.0</td>\n",
       "      <td>False</td>\n",
       "    </tr>\n",
       "    <tr>\n",
       "      <td>87402</td>\n",
       "      <td>0.000</td>\n",
       "      <td>1</td>\n",
       "      <td>74</td>\n",
       "      <td>0.0</td>\n",
       "      <td>0.0</td>\n",
       "      <td>0.0</td>\n",
       "      <td>0.0</td>\n",
       "      <td>0.0</td>\n",
       "      <td>0.0</td>\n",
       "      <td>0.0</td>\n",
       "      <td>...</td>\n",
       "      <td>0.0</td>\n",
       "      <td>0.0</td>\n",
       "      <td>0.0</td>\n",
       "      <td>0.0</td>\n",
       "      <td>0.0</td>\n",
       "      <td>0.0</td>\n",
       "      <td>0.0</td>\n",
       "      <td>0.0</td>\n",
       "      <td>0.0</td>\n",
       "      <td>False</td>\n",
       "    </tr>\n",
       "    <tr>\n",
       "      <td>877661</td>\n",
       "      <td>0.000</td>\n",
       "      <td>1</td>\n",
       "      <td>80</td>\n",
       "      <td>0.0</td>\n",
       "      <td>0.0</td>\n",
       "      <td>0.0</td>\n",
       "      <td>0.0</td>\n",
       "      <td>0.0</td>\n",
       "      <td>0.0</td>\n",
       "      <td>0.0</td>\n",
       "      <td>...</td>\n",
       "      <td>0.0</td>\n",
       "      <td>0.0</td>\n",
       "      <td>0.0</td>\n",
       "      <td>0.0</td>\n",
       "      <td>0.0</td>\n",
       "      <td>0.0</td>\n",
       "      <td>0.0</td>\n",
       "      <td>0.0</td>\n",
       "      <td>0.0</td>\n",
       "      <td>False</td>\n",
       "    </tr>\n",
       "    <tr>\n",
       "      <td>823910</td>\n",
       "      <td>4.798</td>\n",
       "      <td>55</td>\n",
       "      <td>3300</td>\n",
       "      <td>1.0</td>\n",
       "      <td>0.0</td>\n",
       "      <td>0.0</td>\n",
       "      <td>0.0</td>\n",
       "      <td>0.0</td>\n",
       "      <td>0.0</td>\n",
       "      <td>0.0</td>\n",
       "      <td>...</td>\n",
       "      <td>0.0</td>\n",
       "      <td>0.0</td>\n",
       "      <td>0.0</td>\n",
       "      <td>0.0</td>\n",
       "      <td>0.0</td>\n",
       "      <td>0.0</td>\n",
       "      <td>0.0</td>\n",
       "      <td>0.0</td>\n",
       "      <td>0.0</td>\n",
       "      <td>False</td>\n",
       "    </tr>\n",
       "  </tbody>\n",
       "</table>\n",
       "<p>43520 rows × 252 columns</p>\n",
       "</div>"
      ],
      "text/plain": [
       "        Duration  Packets  Bytes   A_  CON  ECO  ECR  FAC_  FAU_  FA_  ...  \\\n",
       "4117       0.000        1    263  0.0  0.0  0.0  0.0   0.0   0.0  0.0  ...   \n",
       "6269       0.000        1     66  0.0  0.0  0.0  0.0   0.0   0.0  0.0  ...   \n",
       "8919       2.712        4    256  0.0  0.0  0.0  0.0   0.0   0.0  0.0  ...   \n",
       "10127      0.000        1     64  0.0  0.0  0.0  0.0   0.0   0.0  0.0  ...   \n",
       "11546      0.000        1     64  0.0  0.0  0.0  0.0   0.0   0.0  0.0  ...   \n",
       "...          ...      ...    ...  ...  ...  ...  ...   ...   ...  ...  ...   \n",
       "937125     0.000        1     66  0.0  0.0  0.0  0.0   0.0   0.0  0.0  ...   \n",
       "58713      0.000        3   2969  0.0  0.0  0.0  0.0   0.0   0.0  0.0  ...   \n",
       "87402      0.000        1     74  0.0  0.0  0.0  0.0   0.0   0.0  0.0  ...   \n",
       "877661     0.000        1     80  0.0  0.0  0.0  0.0   0.0   0.0  0.0  ...   \n",
       "823910     4.798       55   3300  1.0  0.0  0.0  0.0   0.0   0.0  0.0  ...   \n",
       "\n",
       "        832  843  877   88  888  916   98  993  995  Botnet  \n",
       "4117    0.0  0.0  0.0  0.0  0.0  0.0  0.0  0.0  0.0    True  \n",
       "6269    0.0  0.0  0.0  0.0  0.0  0.0  0.0  0.0  0.0    True  \n",
       "8919    0.0  0.0  0.0  0.0  0.0  0.0  0.0  0.0  0.0    True  \n",
       "10127   0.0  0.0  0.0  0.0  0.0  0.0  0.0  0.0  0.0    True  \n",
       "11546   0.0  0.0  0.0  0.0  0.0  0.0  0.0  0.0  0.0    True  \n",
       "...     ...  ...  ...  ...  ...  ...  ...  ...  ...     ...  \n",
       "937125  0.0  0.0  0.0  0.0  0.0  0.0  0.0  0.0  0.0   False  \n",
       "58713   0.0  0.0  0.0  0.0  0.0  0.0  0.0  0.0  0.0   False  \n",
       "87402   0.0  0.0  0.0  0.0  0.0  0.0  0.0  0.0  0.0   False  \n",
       "877661  0.0  0.0  0.0  0.0  0.0  0.0  0.0  0.0  0.0   False  \n",
       "823910  0.0  0.0  0.0  0.0  0.0  0.0  0.0  0.0  0.0   False  \n",
       "\n",
       "[43520 rows x 252 columns]"
      ]
     },
     "execution_count": 160,
     "metadata": {},
     "output_type": "execute_result"
    }
   ],
   "source": [
    "# Turning the response variable into a boolean for use. \n",
    "dsampled_data['Botnet'] = dsampled_data['Botnet'].replace({'yes': True, 'no': False})\n",
    "dsampled_data"
   ]
  },
  {
   "cell_type": "code",
   "execution_count": 161,
   "metadata": {
    "ExecuteTime": {
     "end_time": "2020-04-26T15:52:34.649956Z",
     "start_time": "2020-04-26T15:52:34.289917Z"
    }
   },
   "outputs": [
    {
     "name": "stdout",
     "output_type": "stream",
     "text": [
      "Selecting 15 Best Predictors for the Model\n",
      "Selected Predictors :  ['Duration', 'INT', 'PA_', 'RA_', 'S_', 'TCP', 'UDP', 'Dallas', 'None_x', 'Prague', 'Czechia', 'United States', '25', '53', '80']\n",
      "\n",
      "********************  R-Squared of Complete Model :  ********************\n",
      "R Squared : 0.9826477565796212\n",
      "\n"
     ]
    }
   ],
   "source": [
    "# Notice the high R-Squared value of 98.26%. \n",
    "dominance_regression=Dominance(data=dsampled_data,target='Botnet')"
   ]
  },
  {
   "cell_type": "code",
   "execution_count": 162,
   "metadata": {
    "ExecuteTime": {
     "end_time": "2020-04-26T16:04:57.239815Z",
     "start_time": "2020-04-26T15:52:34.653943Z"
    }
   },
   "outputs": [
    {
     "name": "stdout",
     "output_type": "stream",
     "text": [
      "Selecting 15 Best Predictors for the Model\n",
      "Selected Predictors :  ['Duration', 'INT', 'PA_', 'RA_', 'S_', 'TCP', 'UDP', 'Dallas', 'None_x', 'Prague', 'Czechia', 'United States', '25', '53', '80']\n",
      "\n",
      "Creating models for 32767 possible combinations of 15 features :\n"
     ]
    },
    {
     "name": "stderr",
     "output_type": "stream",
     "text": [
      "100%|██████████████████████████████████████████████████████████████████████████████████| 15/15 [07:33<00:00, 30.20s/it]\n"
     ]
    },
    {
     "name": "stdout",
     "output_type": "stream",
     "text": [
      "#########################  Model Training Done!!!!!  #########################\n",
      "\n",
      "#########################  Calculating Variable Dominances  #########################\n"
     ]
    },
    {
     "name": "stderr",
     "output_type": "stream",
     "text": [
      "100%|██████████████████████████████████████████████████████████████████████████████████| 14/14 [04:48<00:00, 20.63s/it]\n"
     ]
    },
    {
     "name": "stdout",
     "output_type": "stream",
     "text": [
      "#########################  Variable Dominance Calculation Done!!!!!  #########################\n",
      "\n"
     ]
    }
   ],
   "source": [
    "incr_variable_rsquare=dominance_regression.incremental_rsquare()"
   ]
  },
  {
   "cell_type": "code",
   "execution_count": 163,
   "metadata": {
    "ExecuteTime": {
     "end_time": "2020-04-26T16:04:59.207750Z",
     "start_time": "2020-04-26T16:04:57.242810Z"
    }
   },
   "outputs": [
    {
     "data": {
      "application/vnd.plotly.v1+json": {
       "config": {
        "linkText": "Export to plot.ly",
        "plotlyServerURL": "https://plot.ly",
        "showLink": false
       },
       "data": [
        {
         "marker": {
          "color": "rgba(255, 153, 51, 0.6)",
          "line": {
           "color": "rgba(255, 153, 51, 1.0)",
           "width": 1
          }
         },
         "name": "incremental_r2",
         "orientation": "v",
         "text": "",
         "type": "bar",
         "x": [
          "Prague",
          "Czechia",
          "None_x",
          "S_",
          "25",
          "United States",
          "PA_",
          "Dallas",
          "53",
          "RA_",
          "80",
          "TCP",
          "INT",
          "UDP",
          "Duration"
         ],
         "y": [
          0.35162402507356105,
          0.3516108716617545,
          0.05908255079159644,
          0.05433209851871198,
          0.03532917280616923,
          0.020801387243081622,
          0.01932868794368207,
          0.018805513153564997,
          0.01806747105384644,
          0.017755575425323498,
          0.011088915248776138,
          0.0074523027792515965,
          0.006788821568335965,
          0.006536197252929674,
          0.004044166059035981
         ]
        }
       ],
       "layout": {
        "legend": {
         "bgcolor": "#F5F6F9",
         "font": {
          "color": "#4D5663"
         }
        },
        "paper_bgcolor": "#F5F6F9",
        "plot_bgcolor": "#F5F6F9",
        "template": {
         "data": {
          "bar": [
           {
            "error_x": {
             "color": "#2a3f5f"
            },
            "error_y": {
             "color": "#2a3f5f"
            },
            "marker": {
             "line": {
              "color": "#E5ECF6",
              "width": 0.5
             }
            },
            "type": "bar"
           }
          ],
          "barpolar": [
           {
            "marker": {
             "line": {
              "color": "#E5ECF6",
              "width": 0.5
             }
            },
            "type": "barpolar"
           }
          ],
          "carpet": [
           {
            "aaxis": {
             "endlinecolor": "#2a3f5f",
             "gridcolor": "white",
             "linecolor": "white",
             "minorgridcolor": "white",
             "startlinecolor": "#2a3f5f"
            },
            "baxis": {
             "endlinecolor": "#2a3f5f",
             "gridcolor": "white",
             "linecolor": "white",
             "minorgridcolor": "white",
             "startlinecolor": "#2a3f5f"
            },
            "type": "carpet"
           }
          ],
          "choropleth": [
           {
            "colorbar": {
             "outlinewidth": 0,
             "ticks": ""
            },
            "type": "choropleth"
           }
          ],
          "contour": [
           {
            "colorbar": {
             "outlinewidth": 0,
             "ticks": ""
            },
            "colorscale": [
             [
              0,
              "#0d0887"
             ],
             [
              0.1111111111111111,
              "#46039f"
             ],
             [
              0.2222222222222222,
              "#7201a8"
             ],
             [
              0.3333333333333333,
              "#9c179e"
             ],
             [
              0.4444444444444444,
              "#bd3786"
             ],
             [
              0.5555555555555556,
              "#d8576b"
             ],
             [
              0.6666666666666666,
              "#ed7953"
             ],
             [
              0.7777777777777778,
              "#fb9f3a"
             ],
             [
              0.8888888888888888,
              "#fdca26"
             ],
             [
              1,
              "#f0f921"
             ]
            ],
            "type": "contour"
           }
          ],
          "contourcarpet": [
           {
            "colorbar": {
             "outlinewidth": 0,
             "ticks": ""
            },
            "type": "contourcarpet"
           }
          ],
          "heatmap": [
           {
            "colorbar": {
             "outlinewidth": 0,
             "ticks": ""
            },
            "colorscale": [
             [
              0,
              "#0d0887"
             ],
             [
              0.1111111111111111,
              "#46039f"
             ],
             [
              0.2222222222222222,
              "#7201a8"
             ],
             [
              0.3333333333333333,
              "#9c179e"
             ],
             [
              0.4444444444444444,
              "#bd3786"
             ],
             [
              0.5555555555555556,
              "#d8576b"
             ],
             [
              0.6666666666666666,
              "#ed7953"
             ],
             [
              0.7777777777777778,
              "#fb9f3a"
             ],
             [
              0.8888888888888888,
              "#fdca26"
             ],
             [
              1,
              "#f0f921"
             ]
            ],
            "type": "heatmap"
           }
          ],
          "heatmapgl": [
           {
            "colorbar": {
             "outlinewidth": 0,
             "ticks": ""
            },
            "colorscale": [
             [
              0,
              "#0d0887"
             ],
             [
              0.1111111111111111,
              "#46039f"
             ],
             [
              0.2222222222222222,
              "#7201a8"
             ],
             [
              0.3333333333333333,
              "#9c179e"
             ],
             [
              0.4444444444444444,
              "#bd3786"
             ],
             [
              0.5555555555555556,
              "#d8576b"
             ],
             [
              0.6666666666666666,
              "#ed7953"
             ],
             [
              0.7777777777777778,
              "#fb9f3a"
             ],
             [
              0.8888888888888888,
              "#fdca26"
             ],
             [
              1,
              "#f0f921"
             ]
            ],
            "type": "heatmapgl"
           }
          ],
          "histogram": [
           {
            "marker": {
             "colorbar": {
              "outlinewidth": 0,
              "ticks": ""
             }
            },
            "type": "histogram"
           }
          ],
          "histogram2d": [
           {
            "colorbar": {
             "outlinewidth": 0,
             "ticks": ""
            },
            "colorscale": [
             [
              0,
              "#0d0887"
             ],
             [
              0.1111111111111111,
              "#46039f"
             ],
             [
              0.2222222222222222,
              "#7201a8"
             ],
             [
              0.3333333333333333,
              "#9c179e"
             ],
             [
              0.4444444444444444,
              "#bd3786"
             ],
             [
              0.5555555555555556,
              "#d8576b"
             ],
             [
              0.6666666666666666,
              "#ed7953"
             ],
             [
              0.7777777777777778,
              "#fb9f3a"
             ],
             [
              0.8888888888888888,
              "#fdca26"
             ],
             [
              1,
              "#f0f921"
             ]
            ],
            "type": "histogram2d"
           }
          ],
          "histogram2dcontour": [
           {
            "colorbar": {
             "outlinewidth": 0,
             "ticks": ""
            },
            "colorscale": [
             [
              0,
              "#0d0887"
             ],
             [
              0.1111111111111111,
              "#46039f"
             ],
             [
              0.2222222222222222,
              "#7201a8"
             ],
             [
              0.3333333333333333,
              "#9c179e"
             ],
             [
              0.4444444444444444,
              "#bd3786"
             ],
             [
              0.5555555555555556,
              "#d8576b"
             ],
             [
              0.6666666666666666,
              "#ed7953"
             ],
             [
              0.7777777777777778,
              "#fb9f3a"
             ],
             [
              0.8888888888888888,
              "#fdca26"
             ],
             [
              1,
              "#f0f921"
             ]
            ],
            "type": "histogram2dcontour"
           }
          ],
          "mesh3d": [
           {
            "colorbar": {
             "outlinewidth": 0,
             "ticks": ""
            },
            "type": "mesh3d"
           }
          ],
          "parcoords": [
           {
            "line": {
             "colorbar": {
              "outlinewidth": 0,
              "ticks": ""
             }
            },
            "type": "parcoords"
           }
          ],
          "pie": [
           {
            "automargin": true,
            "type": "pie"
           }
          ],
          "scatter": [
           {
            "marker": {
             "colorbar": {
              "outlinewidth": 0,
              "ticks": ""
             }
            },
            "type": "scatter"
           }
          ],
          "scatter3d": [
           {
            "line": {
             "colorbar": {
              "outlinewidth": 0,
              "ticks": ""
             }
            },
            "marker": {
             "colorbar": {
              "outlinewidth": 0,
              "ticks": ""
             }
            },
            "type": "scatter3d"
           }
          ],
          "scattercarpet": [
           {
            "marker": {
             "colorbar": {
              "outlinewidth": 0,
              "ticks": ""
             }
            },
            "type": "scattercarpet"
           }
          ],
          "scattergeo": [
           {
            "marker": {
             "colorbar": {
              "outlinewidth": 0,
              "ticks": ""
             }
            },
            "type": "scattergeo"
           }
          ],
          "scattergl": [
           {
            "marker": {
             "colorbar": {
              "outlinewidth": 0,
              "ticks": ""
             }
            },
            "type": "scattergl"
           }
          ],
          "scattermapbox": [
           {
            "marker": {
             "colorbar": {
              "outlinewidth": 0,
              "ticks": ""
             }
            },
            "type": "scattermapbox"
           }
          ],
          "scatterpolar": [
           {
            "marker": {
             "colorbar": {
              "outlinewidth": 0,
              "ticks": ""
             }
            },
            "type": "scatterpolar"
           }
          ],
          "scatterpolargl": [
           {
            "marker": {
             "colorbar": {
              "outlinewidth": 0,
              "ticks": ""
             }
            },
            "type": "scatterpolargl"
           }
          ],
          "scatterternary": [
           {
            "marker": {
             "colorbar": {
              "outlinewidth": 0,
              "ticks": ""
             }
            },
            "type": "scatterternary"
           }
          ],
          "surface": [
           {
            "colorbar": {
             "outlinewidth": 0,
             "ticks": ""
            },
            "colorscale": [
             [
              0,
              "#0d0887"
             ],
             [
              0.1111111111111111,
              "#46039f"
             ],
             [
              0.2222222222222222,
              "#7201a8"
             ],
             [
              0.3333333333333333,
              "#9c179e"
             ],
             [
              0.4444444444444444,
              "#bd3786"
             ],
             [
              0.5555555555555556,
              "#d8576b"
             ],
             [
              0.6666666666666666,
              "#ed7953"
             ],
             [
              0.7777777777777778,
              "#fb9f3a"
             ],
             [
              0.8888888888888888,
              "#fdca26"
             ],
             [
              1,
              "#f0f921"
             ]
            ],
            "type": "surface"
           }
          ],
          "table": [
           {
            "cells": {
             "fill": {
              "color": "#EBF0F8"
             },
             "line": {
              "color": "white"
             }
            },
            "header": {
             "fill": {
              "color": "#C8D4E3"
             },
             "line": {
              "color": "white"
             }
            },
            "type": "table"
           }
          ]
         },
         "layout": {
          "annotationdefaults": {
           "arrowcolor": "#2a3f5f",
           "arrowhead": 0,
           "arrowwidth": 1
          },
          "coloraxis": {
           "colorbar": {
            "outlinewidth": 0,
            "ticks": ""
           }
          },
          "colorscale": {
           "diverging": [
            [
             0,
             "#8e0152"
            ],
            [
             0.1,
             "#c51b7d"
            ],
            [
             0.2,
             "#de77ae"
            ],
            [
             0.3,
             "#f1b6da"
            ],
            [
             0.4,
             "#fde0ef"
            ],
            [
             0.5,
             "#f7f7f7"
            ],
            [
             0.6,
             "#e6f5d0"
            ],
            [
             0.7,
             "#b8e186"
            ],
            [
             0.8,
             "#7fbc41"
            ],
            [
             0.9,
             "#4d9221"
            ],
            [
             1,
             "#276419"
            ]
           ],
           "sequential": [
            [
             0,
             "#0d0887"
            ],
            [
             0.1111111111111111,
             "#46039f"
            ],
            [
             0.2222222222222222,
             "#7201a8"
            ],
            [
             0.3333333333333333,
             "#9c179e"
            ],
            [
             0.4444444444444444,
             "#bd3786"
            ],
            [
             0.5555555555555556,
             "#d8576b"
            ],
            [
             0.6666666666666666,
             "#ed7953"
            ],
            [
             0.7777777777777778,
             "#fb9f3a"
            ],
            [
             0.8888888888888888,
             "#fdca26"
            ],
            [
             1,
             "#f0f921"
            ]
           ],
           "sequentialminus": [
            [
             0,
             "#0d0887"
            ],
            [
             0.1111111111111111,
             "#46039f"
            ],
            [
             0.2222222222222222,
             "#7201a8"
            ],
            [
             0.3333333333333333,
             "#9c179e"
            ],
            [
             0.4444444444444444,
             "#bd3786"
            ],
            [
             0.5555555555555556,
             "#d8576b"
            ],
            [
             0.6666666666666666,
             "#ed7953"
            ],
            [
             0.7777777777777778,
             "#fb9f3a"
            ],
            [
             0.8888888888888888,
             "#fdca26"
            ],
            [
             1,
             "#f0f921"
            ]
           ]
          },
          "colorway": [
           "#636efa",
           "#EF553B",
           "#00cc96",
           "#ab63fa",
           "#FFA15A",
           "#19d3f3",
           "#FF6692",
           "#B6E880",
           "#FF97FF",
           "#FECB52"
          ],
          "font": {
           "color": "#2a3f5f"
          },
          "geo": {
           "bgcolor": "white",
           "lakecolor": "white",
           "landcolor": "#E5ECF6",
           "showlakes": true,
           "showland": true,
           "subunitcolor": "white"
          },
          "hoverlabel": {
           "align": "left"
          },
          "hovermode": "closest",
          "mapbox": {
           "style": "light"
          },
          "paper_bgcolor": "white",
          "plot_bgcolor": "#E5ECF6",
          "polar": {
           "angularaxis": {
            "gridcolor": "white",
            "linecolor": "white",
            "ticks": ""
           },
           "bgcolor": "#E5ECF6",
           "radialaxis": {
            "gridcolor": "white",
            "linecolor": "white",
            "ticks": ""
           }
          },
          "scene": {
           "xaxis": {
            "backgroundcolor": "#E5ECF6",
            "gridcolor": "white",
            "gridwidth": 2,
            "linecolor": "white",
            "showbackground": true,
            "ticks": "",
            "zerolinecolor": "white"
           },
           "yaxis": {
            "backgroundcolor": "#E5ECF6",
            "gridcolor": "white",
            "gridwidth": 2,
            "linecolor": "white",
            "showbackground": true,
            "ticks": "",
            "zerolinecolor": "white"
           },
           "zaxis": {
            "backgroundcolor": "#E5ECF6",
            "gridcolor": "white",
            "gridwidth": 2,
            "linecolor": "white",
            "showbackground": true,
            "ticks": "",
            "zerolinecolor": "white"
           }
          },
          "shapedefaults": {
           "line": {
            "color": "#2a3f5f"
           }
          },
          "ternary": {
           "aaxis": {
            "gridcolor": "white",
            "linecolor": "white",
            "ticks": ""
           },
           "baxis": {
            "gridcolor": "white",
            "linecolor": "white",
            "ticks": ""
           },
           "bgcolor": "#E5ECF6",
           "caxis": {
            "gridcolor": "white",
            "linecolor": "white",
            "ticks": ""
           }
          },
          "title": {
           "x": 0.05
          },
          "xaxis": {
           "automargin": true,
           "gridcolor": "white",
           "linecolor": "white",
           "ticks": "",
           "title": {
            "standoff": 15
           },
           "zerolinecolor": "white",
           "zerolinewidth": 2
          },
          "yaxis": {
           "automargin": true,
           "gridcolor": "white",
           "linecolor": "white",
           "ticks": "",
           "title": {
            "standoff": 15
           },
           "zerolinecolor": "white",
           "zerolinewidth": 2
          }
         }
        },
        "title": {
         "font": {
          "color": "#4D5663"
         },
         "text": "Incremental  R Squared for Top 15 Variables "
        },
        "xaxis": {
         "gridcolor": "#E1E5ED",
         "showgrid": true,
         "tickfont": {
          "color": "#4D5663"
         },
         "title": {
          "font": {
           "color": "#4D5663"
          },
          "text": "Estimators"
         },
         "zerolinecolor": "#E1E5ED"
        },
        "yaxis": {
         "gridcolor": "#E1E5ED",
         "showgrid": true,
         "tickfont": {
          "color": "#4D5663"
         },
         "title": {
          "font": {
           "color": "#4D5663"
          },
          "text": "Incremental R2"
         },
         "zerolinecolor": "#E1E5ED"
        }
       }
      },
      "text/html": [
       "<div>\n",
       "        \n",
       "        \n",
       "            <div id=\"41703693-6fa5-4ef4-9f70-477e6a9671de\" class=\"plotly-graph-div\" style=\"height:525px; width:100%;\"></div>\n",
       "            <script type=\"text/javascript\">\n",
       "                require([\"plotly\"], function(Plotly) {\n",
       "                    window.PLOTLYENV=window.PLOTLYENV || {};\n",
       "                    \n",
       "                if (document.getElementById(\"41703693-6fa5-4ef4-9f70-477e6a9671de\")) {\n",
       "                    Plotly.newPlot(\n",
       "                        '41703693-6fa5-4ef4-9f70-477e6a9671de',\n",
       "                        [{\"marker\": {\"color\": \"rgba(255, 153, 51, 0.6)\", \"line\": {\"color\": \"rgba(255, 153, 51, 1.0)\", \"width\": 1}}, \"name\": \"incremental_r2\", \"orientation\": \"v\", \"text\": \"\", \"type\": \"bar\", \"x\": [\"Prague\", \"Czechia\", \"None_x\", \"S_\", \"25\", \"United States\", \"PA_\", \"Dallas\", \"53\", \"RA_\", \"80\", \"TCP\", \"INT\", \"UDP\", \"Duration\"], \"y\": [0.35162402507356105, 0.3516108716617545, 0.05908255079159644, 0.05433209851871198, 0.03532917280616923, 0.020801387243081622, 0.01932868794368207, 0.018805513153564997, 0.01806747105384644, 0.017755575425323498, 0.011088915248776138, 0.0074523027792515965, 0.006788821568335965, 0.006536197252929674, 0.004044166059035981]}],\n",
       "                        {\"legend\": {\"bgcolor\": \"#F5F6F9\", \"font\": {\"color\": \"#4D5663\"}}, \"paper_bgcolor\": \"#F5F6F9\", \"plot_bgcolor\": \"#F5F6F9\", \"template\": {\"data\": {\"bar\": [{\"error_x\": {\"color\": \"#2a3f5f\"}, \"error_y\": {\"color\": \"#2a3f5f\"}, \"marker\": {\"line\": {\"color\": \"#E5ECF6\", \"width\": 0.5}}, \"type\": \"bar\"}], \"barpolar\": [{\"marker\": {\"line\": {\"color\": \"#E5ECF6\", \"width\": 0.5}}, \"type\": \"barpolar\"}], \"carpet\": [{\"aaxis\": {\"endlinecolor\": \"#2a3f5f\", \"gridcolor\": \"white\", \"linecolor\": \"white\", \"minorgridcolor\": \"white\", \"startlinecolor\": \"#2a3f5f\"}, \"baxis\": {\"endlinecolor\": \"#2a3f5f\", \"gridcolor\": \"white\", \"linecolor\": \"white\", \"minorgridcolor\": \"white\", \"startlinecolor\": \"#2a3f5f\"}, \"type\": \"carpet\"}], \"choropleth\": [{\"colorbar\": {\"outlinewidth\": 0, \"ticks\": \"\"}, \"type\": \"choropleth\"}], \"contour\": [{\"colorbar\": {\"outlinewidth\": 0, \"ticks\": \"\"}, \"colorscale\": [[0.0, \"#0d0887\"], [0.1111111111111111, \"#46039f\"], [0.2222222222222222, \"#7201a8\"], [0.3333333333333333, \"#9c179e\"], [0.4444444444444444, \"#bd3786\"], [0.5555555555555556, \"#d8576b\"], [0.6666666666666666, \"#ed7953\"], [0.7777777777777778, \"#fb9f3a\"], [0.8888888888888888, \"#fdca26\"], [1.0, \"#f0f921\"]], \"type\": \"contour\"}], \"contourcarpet\": [{\"colorbar\": {\"outlinewidth\": 0, \"ticks\": \"\"}, \"type\": \"contourcarpet\"}], \"heatmap\": [{\"colorbar\": {\"outlinewidth\": 0, \"ticks\": \"\"}, \"colorscale\": [[0.0, \"#0d0887\"], [0.1111111111111111, \"#46039f\"], [0.2222222222222222, \"#7201a8\"], [0.3333333333333333, \"#9c179e\"], [0.4444444444444444, \"#bd3786\"], [0.5555555555555556, \"#d8576b\"], [0.6666666666666666, \"#ed7953\"], [0.7777777777777778, \"#fb9f3a\"], [0.8888888888888888, \"#fdca26\"], [1.0, \"#f0f921\"]], \"type\": \"heatmap\"}], \"heatmapgl\": [{\"colorbar\": {\"outlinewidth\": 0, \"ticks\": \"\"}, \"colorscale\": [[0.0, \"#0d0887\"], [0.1111111111111111, \"#46039f\"], [0.2222222222222222, \"#7201a8\"], [0.3333333333333333, \"#9c179e\"], [0.4444444444444444, \"#bd3786\"], [0.5555555555555556, \"#d8576b\"], [0.6666666666666666, \"#ed7953\"], [0.7777777777777778, \"#fb9f3a\"], [0.8888888888888888, \"#fdca26\"], [1.0, \"#f0f921\"]], \"type\": \"heatmapgl\"}], \"histogram\": [{\"marker\": {\"colorbar\": {\"outlinewidth\": 0, \"ticks\": \"\"}}, \"type\": \"histogram\"}], \"histogram2d\": [{\"colorbar\": {\"outlinewidth\": 0, \"ticks\": \"\"}, \"colorscale\": [[0.0, \"#0d0887\"], [0.1111111111111111, \"#46039f\"], [0.2222222222222222, \"#7201a8\"], [0.3333333333333333, \"#9c179e\"], [0.4444444444444444, \"#bd3786\"], [0.5555555555555556, \"#d8576b\"], [0.6666666666666666, \"#ed7953\"], [0.7777777777777778, \"#fb9f3a\"], [0.8888888888888888, \"#fdca26\"], [1.0, \"#f0f921\"]], \"type\": \"histogram2d\"}], \"histogram2dcontour\": [{\"colorbar\": {\"outlinewidth\": 0, \"ticks\": \"\"}, \"colorscale\": [[0.0, \"#0d0887\"], [0.1111111111111111, \"#46039f\"], [0.2222222222222222, \"#7201a8\"], [0.3333333333333333, \"#9c179e\"], [0.4444444444444444, \"#bd3786\"], [0.5555555555555556, \"#d8576b\"], [0.6666666666666666, \"#ed7953\"], [0.7777777777777778, \"#fb9f3a\"], [0.8888888888888888, \"#fdca26\"], [1.0, \"#f0f921\"]], \"type\": \"histogram2dcontour\"}], \"mesh3d\": [{\"colorbar\": {\"outlinewidth\": 0, \"ticks\": \"\"}, \"type\": \"mesh3d\"}], \"parcoords\": [{\"line\": {\"colorbar\": {\"outlinewidth\": 0, \"ticks\": \"\"}}, \"type\": \"parcoords\"}], \"pie\": [{\"automargin\": true, \"type\": \"pie\"}], \"scatter\": [{\"marker\": {\"colorbar\": {\"outlinewidth\": 0, \"ticks\": \"\"}}, \"type\": \"scatter\"}], \"scatter3d\": [{\"line\": {\"colorbar\": {\"outlinewidth\": 0, \"ticks\": \"\"}}, \"marker\": {\"colorbar\": {\"outlinewidth\": 0, \"ticks\": \"\"}}, \"type\": \"scatter3d\"}], \"scattercarpet\": [{\"marker\": {\"colorbar\": {\"outlinewidth\": 0, \"ticks\": \"\"}}, \"type\": \"scattercarpet\"}], \"scattergeo\": [{\"marker\": {\"colorbar\": {\"outlinewidth\": 0, \"ticks\": \"\"}}, \"type\": \"scattergeo\"}], \"scattergl\": [{\"marker\": {\"colorbar\": {\"outlinewidth\": 0, \"ticks\": \"\"}}, \"type\": \"scattergl\"}], \"scattermapbox\": [{\"marker\": {\"colorbar\": {\"outlinewidth\": 0, \"ticks\": \"\"}}, \"type\": \"scattermapbox\"}], \"scatterpolar\": [{\"marker\": {\"colorbar\": {\"outlinewidth\": 0, \"ticks\": \"\"}}, \"type\": \"scatterpolar\"}], \"scatterpolargl\": [{\"marker\": {\"colorbar\": {\"outlinewidth\": 0, \"ticks\": \"\"}}, \"type\": \"scatterpolargl\"}], \"scatterternary\": [{\"marker\": {\"colorbar\": {\"outlinewidth\": 0, \"ticks\": \"\"}}, \"type\": \"scatterternary\"}], \"surface\": [{\"colorbar\": {\"outlinewidth\": 0, \"ticks\": \"\"}, \"colorscale\": [[0.0, \"#0d0887\"], [0.1111111111111111, \"#46039f\"], [0.2222222222222222, \"#7201a8\"], [0.3333333333333333, \"#9c179e\"], [0.4444444444444444, \"#bd3786\"], [0.5555555555555556, \"#d8576b\"], [0.6666666666666666, \"#ed7953\"], [0.7777777777777778, \"#fb9f3a\"], [0.8888888888888888, \"#fdca26\"], [1.0, \"#f0f921\"]], \"type\": \"surface\"}], \"table\": [{\"cells\": {\"fill\": {\"color\": \"#EBF0F8\"}, \"line\": {\"color\": \"white\"}}, \"header\": {\"fill\": {\"color\": \"#C8D4E3\"}, \"line\": {\"color\": \"white\"}}, \"type\": \"table\"}]}, \"layout\": {\"annotationdefaults\": {\"arrowcolor\": \"#2a3f5f\", \"arrowhead\": 0, \"arrowwidth\": 1}, \"coloraxis\": {\"colorbar\": {\"outlinewidth\": 0, \"ticks\": \"\"}}, \"colorscale\": {\"diverging\": [[0, \"#8e0152\"], [0.1, \"#c51b7d\"], [0.2, \"#de77ae\"], [0.3, \"#f1b6da\"], [0.4, \"#fde0ef\"], [0.5, \"#f7f7f7\"], [0.6, \"#e6f5d0\"], [0.7, \"#b8e186\"], [0.8, \"#7fbc41\"], [0.9, \"#4d9221\"], [1, \"#276419\"]], \"sequential\": [[0.0, \"#0d0887\"], [0.1111111111111111, \"#46039f\"], [0.2222222222222222, \"#7201a8\"], [0.3333333333333333, \"#9c179e\"], [0.4444444444444444, \"#bd3786\"], [0.5555555555555556, \"#d8576b\"], [0.6666666666666666, \"#ed7953\"], [0.7777777777777778, \"#fb9f3a\"], [0.8888888888888888, \"#fdca26\"], [1.0, \"#f0f921\"]], \"sequentialminus\": [[0.0, \"#0d0887\"], [0.1111111111111111, \"#46039f\"], [0.2222222222222222, \"#7201a8\"], [0.3333333333333333, \"#9c179e\"], [0.4444444444444444, \"#bd3786\"], [0.5555555555555556, \"#d8576b\"], [0.6666666666666666, \"#ed7953\"], [0.7777777777777778, \"#fb9f3a\"], [0.8888888888888888, \"#fdca26\"], [1.0, \"#f0f921\"]]}, \"colorway\": [\"#636efa\", \"#EF553B\", \"#00cc96\", \"#ab63fa\", \"#FFA15A\", \"#19d3f3\", \"#FF6692\", \"#B6E880\", \"#FF97FF\", \"#FECB52\"], \"font\": {\"color\": \"#2a3f5f\"}, \"geo\": {\"bgcolor\": \"white\", \"lakecolor\": \"white\", \"landcolor\": \"#E5ECF6\", \"showlakes\": true, \"showland\": true, \"subunitcolor\": \"white\"}, \"hoverlabel\": {\"align\": \"left\"}, \"hovermode\": \"closest\", \"mapbox\": {\"style\": \"light\"}, \"paper_bgcolor\": \"white\", \"plot_bgcolor\": \"#E5ECF6\", \"polar\": {\"angularaxis\": {\"gridcolor\": \"white\", \"linecolor\": \"white\", \"ticks\": \"\"}, \"bgcolor\": \"#E5ECF6\", \"radialaxis\": {\"gridcolor\": \"white\", \"linecolor\": \"white\", \"ticks\": \"\"}}, \"scene\": {\"xaxis\": {\"backgroundcolor\": \"#E5ECF6\", \"gridcolor\": \"white\", \"gridwidth\": 2, \"linecolor\": \"white\", \"showbackground\": true, \"ticks\": \"\", \"zerolinecolor\": \"white\"}, \"yaxis\": {\"backgroundcolor\": \"#E5ECF6\", \"gridcolor\": \"white\", \"gridwidth\": 2, \"linecolor\": \"white\", \"showbackground\": true, \"ticks\": \"\", \"zerolinecolor\": \"white\"}, \"zaxis\": {\"backgroundcolor\": \"#E5ECF6\", \"gridcolor\": \"white\", \"gridwidth\": 2, \"linecolor\": \"white\", \"showbackground\": true, \"ticks\": \"\", \"zerolinecolor\": \"white\"}}, \"shapedefaults\": {\"line\": {\"color\": \"#2a3f5f\"}}, \"ternary\": {\"aaxis\": {\"gridcolor\": \"white\", \"linecolor\": \"white\", \"ticks\": \"\"}, \"baxis\": {\"gridcolor\": \"white\", \"linecolor\": \"white\", \"ticks\": \"\"}, \"bgcolor\": \"#E5ECF6\", \"caxis\": {\"gridcolor\": \"white\", \"linecolor\": \"white\", \"ticks\": \"\"}}, \"title\": {\"x\": 0.05}, \"xaxis\": {\"automargin\": true, \"gridcolor\": \"white\", \"linecolor\": \"white\", \"ticks\": \"\", \"title\": {\"standoff\": 15}, \"zerolinecolor\": \"white\", \"zerolinewidth\": 2}, \"yaxis\": {\"automargin\": true, \"gridcolor\": \"white\", \"linecolor\": \"white\", \"ticks\": \"\", \"title\": {\"standoff\": 15}, \"zerolinecolor\": \"white\", \"zerolinewidth\": 2}}}, \"title\": {\"font\": {\"color\": \"#4D5663\"}, \"text\": \"Incremental  R Squared for Top 15 Variables \"}, \"xaxis\": {\"gridcolor\": \"#E1E5ED\", \"showgrid\": true, \"tickfont\": {\"color\": \"#4D5663\"}, \"title\": {\"font\": {\"color\": \"#4D5663\"}, \"text\": \"Estimators\"}, \"zerolinecolor\": \"#E1E5ED\"}, \"yaxis\": {\"gridcolor\": \"#E1E5ED\", \"showgrid\": true, \"tickfont\": {\"color\": \"#4D5663\"}, \"title\": {\"font\": {\"color\": \"#4D5663\"}, \"text\": \"Incremental R2\"}, \"zerolinecolor\": \"#E1E5ED\"}},\n",
       "                        {\"responsive\": true}\n",
       "                    ).then(function(){\n",
       "                            \n",
       "var gd = document.getElementById('41703693-6fa5-4ef4-9f70-477e6a9671de');\n",
       "var x = new MutationObserver(function (mutations, observer) {{\n",
       "        var display = window.getComputedStyle(gd).display;\n",
       "        if (!display || display === 'none') {{\n",
       "            console.log([gd, 'removed!']);\n",
       "            Plotly.purge(gd);\n",
       "            observer.disconnect();\n",
       "        }}\n",
       "}});\n",
       "\n",
       "// Listen for the removal of the full notebook cells\n",
       "var notebookContainer = gd.closest('#notebook-container');\n",
       "if (notebookContainer) {{\n",
       "    x.observe(notebookContainer, {childList: true});\n",
       "}}\n",
       "\n",
       "// Listen for the clearing of the current output cell\n",
       "var outputEl = gd.closest('.output');\n",
       "if (outputEl) {{\n",
       "    x.observe(outputEl, {childList: true});\n",
       "}}\n",
       "\n",
       "                        })\n",
       "                };\n",
       "                });\n",
       "            </script>\n",
       "        </div>"
      ]
     },
     "metadata": {},
     "output_type": "display_data"
    },
    {
     "data": {
      "application/vnd.plotly.v1+json": {
       "config": {
        "linkText": "Export to plot.ly",
        "plotlyServerURL": "https://plot.ly",
        "showLink": false
       },
       "data": [
        {
         "labels": [
          "Prague",
          "Czechia",
          "None_x",
          "S_",
          "25",
          "United States",
          "PA_",
          "Dallas",
          "53",
          "RA_",
          "80",
          "TCP",
          "INT",
          "UDP",
          "Duration"
         ],
         "marker": {
          "colors": [
           "rgba(255, 153, 51, 1.0)",
           "rgba(55, 128, 191, 1.0)",
           "rgba(50, 171, 96, 1.0)",
           "rgba(128, 0, 128, 1.0)",
           "rgba(219, 64, 82, 1.0)",
           "rgba(0, 128, 128, 1.0)",
           "rgba(255, 255, 51, 1.0)",
           "rgba(128, 128, 0, 1.0)",
           "rgba(251, 128, 114, 1.0)",
           "rgba(128, 177, 211, 1.0)",
           "rgba(128, 177, 211, 0.8999999999999999)",
           "rgba(255, 153, 51, 0.8999999999999999)",
           "rgba(55, 128, 191, 0.8999999999999999)",
           "rgba(50, 171, 96, 0.8999999999999999)",
           "rgba(128, 0, 128, 0.8999999999999999)"
          ]
         },
         "name": "",
         "type": "pie",
         "values": [
          35.783323446184454,
          35.781984877840046,
          6.012586951528765,
          5.529153061706461,
          3.5953038685136005,
          2.116871188459905,
          1.967000668780942,
          1.9137593331533995,
          1.838651839671959,
          1.8069115109087226,
          1.1284730641806167,
          0.7583900466217325,
          0.6908703065650246,
          0.6651617743148092,
          0.4115580615695726
         ]
        }
       ],
       "layout": {
        "legend": {
         "bgcolor": "#F5F6F9",
         "font": {
          "color": "#4D5663"
         }
        },
        "paper_bgcolor": "#F5F6F9",
        "plot_bgcolor": "#F5F6F9",
        "template": {
         "data": {
          "bar": [
           {
            "error_x": {
             "color": "#2a3f5f"
            },
            "error_y": {
             "color": "#2a3f5f"
            },
            "marker": {
             "line": {
              "color": "#E5ECF6",
              "width": 0.5
             }
            },
            "type": "bar"
           }
          ],
          "barpolar": [
           {
            "marker": {
             "line": {
              "color": "#E5ECF6",
              "width": 0.5
             }
            },
            "type": "barpolar"
           }
          ],
          "carpet": [
           {
            "aaxis": {
             "endlinecolor": "#2a3f5f",
             "gridcolor": "white",
             "linecolor": "white",
             "minorgridcolor": "white",
             "startlinecolor": "#2a3f5f"
            },
            "baxis": {
             "endlinecolor": "#2a3f5f",
             "gridcolor": "white",
             "linecolor": "white",
             "minorgridcolor": "white",
             "startlinecolor": "#2a3f5f"
            },
            "type": "carpet"
           }
          ],
          "choropleth": [
           {
            "colorbar": {
             "outlinewidth": 0,
             "ticks": ""
            },
            "type": "choropleth"
           }
          ],
          "contour": [
           {
            "colorbar": {
             "outlinewidth": 0,
             "ticks": ""
            },
            "colorscale": [
             [
              0,
              "#0d0887"
             ],
             [
              0.1111111111111111,
              "#46039f"
             ],
             [
              0.2222222222222222,
              "#7201a8"
             ],
             [
              0.3333333333333333,
              "#9c179e"
             ],
             [
              0.4444444444444444,
              "#bd3786"
             ],
             [
              0.5555555555555556,
              "#d8576b"
             ],
             [
              0.6666666666666666,
              "#ed7953"
             ],
             [
              0.7777777777777778,
              "#fb9f3a"
             ],
             [
              0.8888888888888888,
              "#fdca26"
             ],
             [
              1,
              "#f0f921"
             ]
            ],
            "type": "contour"
           }
          ],
          "contourcarpet": [
           {
            "colorbar": {
             "outlinewidth": 0,
             "ticks": ""
            },
            "type": "contourcarpet"
           }
          ],
          "heatmap": [
           {
            "colorbar": {
             "outlinewidth": 0,
             "ticks": ""
            },
            "colorscale": [
             [
              0,
              "#0d0887"
             ],
             [
              0.1111111111111111,
              "#46039f"
             ],
             [
              0.2222222222222222,
              "#7201a8"
             ],
             [
              0.3333333333333333,
              "#9c179e"
             ],
             [
              0.4444444444444444,
              "#bd3786"
             ],
             [
              0.5555555555555556,
              "#d8576b"
             ],
             [
              0.6666666666666666,
              "#ed7953"
             ],
             [
              0.7777777777777778,
              "#fb9f3a"
             ],
             [
              0.8888888888888888,
              "#fdca26"
             ],
             [
              1,
              "#f0f921"
             ]
            ],
            "type": "heatmap"
           }
          ],
          "heatmapgl": [
           {
            "colorbar": {
             "outlinewidth": 0,
             "ticks": ""
            },
            "colorscale": [
             [
              0,
              "#0d0887"
             ],
             [
              0.1111111111111111,
              "#46039f"
             ],
             [
              0.2222222222222222,
              "#7201a8"
             ],
             [
              0.3333333333333333,
              "#9c179e"
             ],
             [
              0.4444444444444444,
              "#bd3786"
             ],
             [
              0.5555555555555556,
              "#d8576b"
             ],
             [
              0.6666666666666666,
              "#ed7953"
             ],
             [
              0.7777777777777778,
              "#fb9f3a"
             ],
             [
              0.8888888888888888,
              "#fdca26"
             ],
             [
              1,
              "#f0f921"
             ]
            ],
            "type": "heatmapgl"
           }
          ],
          "histogram": [
           {
            "marker": {
             "colorbar": {
              "outlinewidth": 0,
              "ticks": ""
             }
            },
            "type": "histogram"
           }
          ],
          "histogram2d": [
           {
            "colorbar": {
             "outlinewidth": 0,
             "ticks": ""
            },
            "colorscale": [
             [
              0,
              "#0d0887"
             ],
             [
              0.1111111111111111,
              "#46039f"
             ],
             [
              0.2222222222222222,
              "#7201a8"
             ],
             [
              0.3333333333333333,
              "#9c179e"
             ],
             [
              0.4444444444444444,
              "#bd3786"
             ],
             [
              0.5555555555555556,
              "#d8576b"
             ],
             [
              0.6666666666666666,
              "#ed7953"
             ],
             [
              0.7777777777777778,
              "#fb9f3a"
             ],
             [
              0.8888888888888888,
              "#fdca26"
             ],
             [
              1,
              "#f0f921"
             ]
            ],
            "type": "histogram2d"
           }
          ],
          "histogram2dcontour": [
           {
            "colorbar": {
             "outlinewidth": 0,
             "ticks": ""
            },
            "colorscale": [
             [
              0,
              "#0d0887"
             ],
             [
              0.1111111111111111,
              "#46039f"
             ],
             [
              0.2222222222222222,
              "#7201a8"
             ],
             [
              0.3333333333333333,
              "#9c179e"
             ],
             [
              0.4444444444444444,
              "#bd3786"
             ],
             [
              0.5555555555555556,
              "#d8576b"
             ],
             [
              0.6666666666666666,
              "#ed7953"
             ],
             [
              0.7777777777777778,
              "#fb9f3a"
             ],
             [
              0.8888888888888888,
              "#fdca26"
             ],
             [
              1,
              "#f0f921"
             ]
            ],
            "type": "histogram2dcontour"
           }
          ],
          "mesh3d": [
           {
            "colorbar": {
             "outlinewidth": 0,
             "ticks": ""
            },
            "type": "mesh3d"
           }
          ],
          "parcoords": [
           {
            "line": {
             "colorbar": {
              "outlinewidth": 0,
              "ticks": ""
             }
            },
            "type": "parcoords"
           }
          ],
          "pie": [
           {
            "automargin": true,
            "type": "pie"
           }
          ],
          "scatter": [
           {
            "marker": {
             "colorbar": {
              "outlinewidth": 0,
              "ticks": ""
             }
            },
            "type": "scatter"
           }
          ],
          "scatter3d": [
           {
            "line": {
             "colorbar": {
              "outlinewidth": 0,
              "ticks": ""
             }
            },
            "marker": {
             "colorbar": {
              "outlinewidth": 0,
              "ticks": ""
             }
            },
            "type": "scatter3d"
           }
          ],
          "scattercarpet": [
           {
            "marker": {
             "colorbar": {
              "outlinewidth": 0,
              "ticks": ""
             }
            },
            "type": "scattercarpet"
           }
          ],
          "scattergeo": [
           {
            "marker": {
             "colorbar": {
              "outlinewidth": 0,
              "ticks": ""
             }
            },
            "type": "scattergeo"
           }
          ],
          "scattergl": [
           {
            "marker": {
             "colorbar": {
              "outlinewidth": 0,
              "ticks": ""
             }
            },
            "type": "scattergl"
           }
          ],
          "scattermapbox": [
           {
            "marker": {
             "colorbar": {
              "outlinewidth": 0,
              "ticks": ""
             }
            },
            "type": "scattermapbox"
           }
          ],
          "scatterpolar": [
           {
            "marker": {
             "colorbar": {
              "outlinewidth": 0,
              "ticks": ""
             }
            },
            "type": "scatterpolar"
           }
          ],
          "scatterpolargl": [
           {
            "marker": {
             "colorbar": {
              "outlinewidth": 0,
              "ticks": ""
             }
            },
            "type": "scatterpolargl"
           }
          ],
          "scatterternary": [
           {
            "marker": {
             "colorbar": {
              "outlinewidth": 0,
              "ticks": ""
             }
            },
            "type": "scatterternary"
           }
          ],
          "surface": [
           {
            "colorbar": {
             "outlinewidth": 0,
             "ticks": ""
            },
            "colorscale": [
             [
              0,
              "#0d0887"
             ],
             [
              0.1111111111111111,
              "#46039f"
             ],
             [
              0.2222222222222222,
              "#7201a8"
             ],
             [
              0.3333333333333333,
              "#9c179e"
             ],
             [
              0.4444444444444444,
              "#bd3786"
             ],
             [
              0.5555555555555556,
              "#d8576b"
             ],
             [
              0.6666666666666666,
              "#ed7953"
             ],
             [
              0.7777777777777778,
              "#fb9f3a"
             ],
             [
              0.8888888888888888,
              "#fdca26"
             ],
             [
              1,
              "#f0f921"
             ]
            ],
            "type": "surface"
           }
          ],
          "table": [
           {
            "cells": {
             "fill": {
              "color": "#EBF0F8"
             },
             "line": {
              "color": "white"
             }
            },
            "header": {
             "fill": {
              "color": "#C8D4E3"
             },
             "line": {
              "color": "white"
             }
            },
            "type": "table"
           }
          ]
         },
         "layout": {
          "annotationdefaults": {
           "arrowcolor": "#2a3f5f",
           "arrowhead": 0,
           "arrowwidth": 1
          },
          "coloraxis": {
           "colorbar": {
            "outlinewidth": 0,
            "ticks": ""
           }
          },
          "colorscale": {
           "diverging": [
            [
             0,
             "#8e0152"
            ],
            [
             0.1,
             "#c51b7d"
            ],
            [
             0.2,
             "#de77ae"
            ],
            [
             0.3,
             "#f1b6da"
            ],
            [
             0.4,
             "#fde0ef"
            ],
            [
             0.5,
             "#f7f7f7"
            ],
            [
             0.6,
             "#e6f5d0"
            ],
            [
             0.7,
             "#b8e186"
            ],
            [
             0.8,
             "#7fbc41"
            ],
            [
             0.9,
             "#4d9221"
            ],
            [
             1,
             "#276419"
            ]
           ],
           "sequential": [
            [
             0,
             "#0d0887"
            ],
            [
             0.1111111111111111,
             "#46039f"
            ],
            [
             0.2222222222222222,
             "#7201a8"
            ],
            [
             0.3333333333333333,
             "#9c179e"
            ],
            [
             0.4444444444444444,
             "#bd3786"
            ],
            [
             0.5555555555555556,
             "#d8576b"
            ],
            [
             0.6666666666666666,
             "#ed7953"
            ],
            [
             0.7777777777777778,
             "#fb9f3a"
            ],
            [
             0.8888888888888888,
             "#fdca26"
            ],
            [
             1,
             "#f0f921"
            ]
           ],
           "sequentialminus": [
            [
             0,
             "#0d0887"
            ],
            [
             0.1111111111111111,
             "#46039f"
            ],
            [
             0.2222222222222222,
             "#7201a8"
            ],
            [
             0.3333333333333333,
             "#9c179e"
            ],
            [
             0.4444444444444444,
             "#bd3786"
            ],
            [
             0.5555555555555556,
             "#d8576b"
            ],
            [
             0.6666666666666666,
             "#ed7953"
            ],
            [
             0.7777777777777778,
             "#fb9f3a"
            ],
            [
             0.8888888888888888,
             "#fdca26"
            ],
            [
             1,
             "#f0f921"
            ]
           ]
          },
          "colorway": [
           "#636efa",
           "#EF553B",
           "#00cc96",
           "#ab63fa",
           "#FFA15A",
           "#19d3f3",
           "#FF6692",
           "#B6E880",
           "#FF97FF",
           "#FECB52"
          ],
          "font": {
           "color": "#2a3f5f"
          },
          "geo": {
           "bgcolor": "white",
           "lakecolor": "white",
           "landcolor": "#E5ECF6",
           "showlakes": true,
           "showland": true,
           "subunitcolor": "white"
          },
          "hoverlabel": {
           "align": "left"
          },
          "hovermode": "closest",
          "mapbox": {
           "style": "light"
          },
          "paper_bgcolor": "white",
          "plot_bgcolor": "#E5ECF6",
          "polar": {
           "angularaxis": {
            "gridcolor": "white",
            "linecolor": "white",
            "ticks": ""
           },
           "bgcolor": "#E5ECF6",
           "radialaxis": {
            "gridcolor": "white",
            "linecolor": "white",
            "ticks": ""
           }
          },
          "scene": {
           "xaxis": {
            "backgroundcolor": "#E5ECF6",
            "gridcolor": "white",
            "gridwidth": 2,
            "linecolor": "white",
            "showbackground": true,
            "ticks": "",
            "zerolinecolor": "white"
           },
           "yaxis": {
            "backgroundcolor": "#E5ECF6",
            "gridcolor": "white",
            "gridwidth": 2,
            "linecolor": "white",
            "showbackground": true,
            "ticks": "",
            "zerolinecolor": "white"
           },
           "zaxis": {
            "backgroundcolor": "#E5ECF6",
            "gridcolor": "white",
            "gridwidth": 2,
            "linecolor": "white",
            "showbackground": true,
            "ticks": "",
            "zerolinecolor": "white"
           }
          },
          "shapedefaults": {
           "line": {
            "color": "#2a3f5f"
           }
          },
          "ternary": {
           "aaxis": {
            "gridcolor": "white",
            "linecolor": "white",
            "ticks": ""
           },
           "baxis": {
            "gridcolor": "white",
            "linecolor": "white",
            "ticks": ""
           },
           "bgcolor": "#E5ECF6",
           "caxis": {
            "gridcolor": "white",
            "linecolor": "white",
            "ticks": ""
           }
          },
          "title": {
           "x": 0.05
          },
          "xaxis": {
           "automargin": true,
           "gridcolor": "white",
           "linecolor": "white",
           "ticks": "",
           "title": {
            "standoff": 15
           },
           "zerolinecolor": "white",
           "zerolinewidth": 2
          },
          "yaxis": {
           "automargin": true,
           "gridcolor": "white",
           "linecolor": "white",
           "ticks": "",
           "title": {
            "standoff": 15
           },
           "zerolinecolor": "white",
           "zerolinewidth": 2
          }
         }
        },
        "title": {
         "font": {
          "color": "#4D5663"
         },
         "text": "Percentage Relative Importance for Top 15 Variables "
        }
       }
      },
      "text/html": [
       "<div>\n",
       "        \n",
       "        \n",
       "            <div id=\"30ad5ae3-cb0a-4511-ac5f-d48c0e1d2df7\" class=\"plotly-graph-div\" style=\"height:525px; width:100%;\"></div>\n",
       "            <script type=\"text/javascript\">\n",
       "                require([\"plotly\"], function(Plotly) {\n",
       "                    window.PLOTLYENV=window.PLOTLYENV || {};\n",
       "                    \n",
       "                if (document.getElementById(\"30ad5ae3-cb0a-4511-ac5f-d48c0e1d2df7\")) {\n",
       "                    Plotly.newPlot(\n",
       "                        '30ad5ae3-cb0a-4511-ac5f-d48c0e1d2df7',\n",
       "                        [{\"labels\": [\"Prague\", \"Czechia\", \"None_x\", \"S_\", \"25\", \"United States\", \"PA_\", \"Dallas\", \"53\", \"RA_\", \"80\", \"TCP\", \"INT\", \"UDP\", \"Duration\"], \"marker\": {\"colors\": [\"rgba(255, 153, 51, 1.0)\", \"rgba(55, 128, 191, 1.0)\", \"rgba(50, 171, 96, 1.0)\", \"rgba(128, 0, 128, 1.0)\", \"rgba(219, 64, 82, 1.0)\", \"rgba(0, 128, 128, 1.0)\", \"rgba(255, 255, 51, 1.0)\", \"rgba(128, 128, 0, 1.0)\", \"rgba(251, 128, 114, 1.0)\", \"rgba(128, 177, 211, 1.0)\", \"rgba(128, 177, 211, 0.8999999999999999)\", \"rgba(255, 153, 51, 0.8999999999999999)\", \"rgba(55, 128, 191, 0.8999999999999999)\", \"rgba(50, 171, 96, 0.8999999999999999)\", \"rgba(128, 0, 128, 0.8999999999999999)\"]}, \"name\": \"\", \"type\": \"pie\", \"values\": [35.783323446184454, 35.781984877840046, 6.012586951528765, 5.529153061706461, 3.5953038685136005, 2.116871188459905, 1.967000668780942, 1.9137593331533995, 1.838651839671959, 1.8069115109087226, 1.1284730641806167, 0.7583900466217325, 0.6908703065650246, 0.6651617743148092, 0.4115580615695726]}],\n",
       "                        {\"legend\": {\"bgcolor\": \"#F5F6F9\", \"font\": {\"color\": \"#4D5663\"}}, \"paper_bgcolor\": \"#F5F6F9\", \"plot_bgcolor\": \"#F5F6F9\", \"template\": {\"data\": {\"bar\": [{\"error_x\": {\"color\": \"#2a3f5f\"}, \"error_y\": {\"color\": \"#2a3f5f\"}, \"marker\": {\"line\": {\"color\": \"#E5ECF6\", \"width\": 0.5}}, \"type\": \"bar\"}], \"barpolar\": [{\"marker\": {\"line\": {\"color\": \"#E5ECF6\", \"width\": 0.5}}, \"type\": \"barpolar\"}], \"carpet\": [{\"aaxis\": {\"endlinecolor\": \"#2a3f5f\", \"gridcolor\": \"white\", \"linecolor\": \"white\", \"minorgridcolor\": \"white\", \"startlinecolor\": \"#2a3f5f\"}, \"baxis\": {\"endlinecolor\": \"#2a3f5f\", \"gridcolor\": \"white\", \"linecolor\": \"white\", \"minorgridcolor\": \"white\", \"startlinecolor\": \"#2a3f5f\"}, \"type\": \"carpet\"}], \"choropleth\": [{\"colorbar\": {\"outlinewidth\": 0, \"ticks\": \"\"}, \"type\": \"choropleth\"}], \"contour\": [{\"colorbar\": {\"outlinewidth\": 0, \"ticks\": \"\"}, \"colorscale\": [[0.0, \"#0d0887\"], [0.1111111111111111, \"#46039f\"], [0.2222222222222222, \"#7201a8\"], [0.3333333333333333, \"#9c179e\"], [0.4444444444444444, \"#bd3786\"], [0.5555555555555556, \"#d8576b\"], [0.6666666666666666, \"#ed7953\"], [0.7777777777777778, \"#fb9f3a\"], [0.8888888888888888, \"#fdca26\"], [1.0, \"#f0f921\"]], \"type\": \"contour\"}], \"contourcarpet\": [{\"colorbar\": {\"outlinewidth\": 0, \"ticks\": \"\"}, \"type\": \"contourcarpet\"}], \"heatmap\": [{\"colorbar\": {\"outlinewidth\": 0, \"ticks\": \"\"}, \"colorscale\": [[0.0, \"#0d0887\"], [0.1111111111111111, \"#46039f\"], [0.2222222222222222, \"#7201a8\"], [0.3333333333333333, \"#9c179e\"], [0.4444444444444444, \"#bd3786\"], [0.5555555555555556, \"#d8576b\"], [0.6666666666666666, \"#ed7953\"], [0.7777777777777778, \"#fb9f3a\"], [0.8888888888888888, \"#fdca26\"], [1.0, \"#f0f921\"]], \"type\": \"heatmap\"}], \"heatmapgl\": [{\"colorbar\": {\"outlinewidth\": 0, \"ticks\": \"\"}, \"colorscale\": [[0.0, \"#0d0887\"], [0.1111111111111111, \"#46039f\"], [0.2222222222222222, \"#7201a8\"], [0.3333333333333333, \"#9c179e\"], [0.4444444444444444, \"#bd3786\"], [0.5555555555555556, \"#d8576b\"], [0.6666666666666666, \"#ed7953\"], [0.7777777777777778, \"#fb9f3a\"], [0.8888888888888888, \"#fdca26\"], [1.0, \"#f0f921\"]], \"type\": \"heatmapgl\"}], \"histogram\": [{\"marker\": {\"colorbar\": {\"outlinewidth\": 0, \"ticks\": \"\"}}, \"type\": \"histogram\"}], \"histogram2d\": [{\"colorbar\": {\"outlinewidth\": 0, \"ticks\": \"\"}, \"colorscale\": [[0.0, \"#0d0887\"], [0.1111111111111111, \"#46039f\"], [0.2222222222222222, \"#7201a8\"], [0.3333333333333333, \"#9c179e\"], [0.4444444444444444, \"#bd3786\"], [0.5555555555555556, \"#d8576b\"], [0.6666666666666666, \"#ed7953\"], [0.7777777777777778, \"#fb9f3a\"], [0.8888888888888888, \"#fdca26\"], [1.0, \"#f0f921\"]], \"type\": \"histogram2d\"}], \"histogram2dcontour\": [{\"colorbar\": {\"outlinewidth\": 0, \"ticks\": \"\"}, \"colorscale\": [[0.0, \"#0d0887\"], [0.1111111111111111, \"#46039f\"], [0.2222222222222222, \"#7201a8\"], [0.3333333333333333, \"#9c179e\"], [0.4444444444444444, \"#bd3786\"], [0.5555555555555556, \"#d8576b\"], [0.6666666666666666, \"#ed7953\"], [0.7777777777777778, \"#fb9f3a\"], [0.8888888888888888, \"#fdca26\"], [1.0, \"#f0f921\"]], \"type\": \"histogram2dcontour\"}], \"mesh3d\": [{\"colorbar\": {\"outlinewidth\": 0, \"ticks\": \"\"}, \"type\": \"mesh3d\"}], \"parcoords\": [{\"line\": {\"colorbar\": {\"outlinewidth\": 0, \"ticks\": \"\"}}, \"type\": \"parcoords\"}], \"pie\": [{\"automargin\": true, \"type\": \"pie\"}], \"scatter\": [{\"marker\": {\"colorbar\": {\"outlinewidth\": 0, \"ticks\": \"\"}}, \"type\": \"scatter\"}], \"scatter3d\": [{\"line\": {\"colorbar\": {\"outlinewidth\": 0, \"ticks\": \"\"}}, \"marker\": {\"colorbar\": {\"outlinewidth\": 0, \"ticks\": \"\"}}, \"type\": \"scatter3d\"}], \"scattercarpet\": [{\"marker\": {\"colorbar\": {\"outlinewidth\": 0, \"ticks\": \"\"}}, \"type\": \"scattercarpet\"}], \"scattergeo\": [{\"marker\": {\"colorbar\": {\"outlinewidth\": 0, \"ticks\": \"\"}}, \"type\": \"scattergeo\"}], \"scattergl\": [{\"marker\": {\"colorbar\": {\"outlinewidth\": 0, \"ticks\": \"\"}}, \"type\": \"scattergl\"}], \"scattermapbox\": [{\"marker\": {\"colorbar\": {\"outlinewidth\": 0, \"ticks\": \"\"}}, \"type\": \"scattermapbox\"}], \"scatterpolar\": [{\"marker\": {\"colorbar\": {\"outlinewidth\": 0, \"ticks\": \"\"}}, \"type\": \"scatterpolar\"}], \"scatterpolargl\": [{\"marker\": {\"colorbar\": {\"outlinewidth\": 0, \"ticks\": \"\"}}, \"type\": \"scatterpolargl\"}], \"scatterternary\": [{\"marker\": {\"colorbar\": {\"outlinewidth\": 0, \"ticks\": \"\"}}, \"type\": \"scatterternary\"}], \"surface\": [{\"colorbar\": {\"outlinewidth\": 0, \"ticks\": \"\"}, \"colorscale\": [[0.0, \"#0d0887\"], [0.1111111111111111, \"#46039f\"], [0.2222222222222222, \"#7201a8\"], [0.3333333333333333, \"#9c179e\"], [0.4444444444444444, \"#bd3786\"], [0.5555555555555556, \"#d8576b\"], [0.6666666666666666, \"#ed7953\"], [0.7777777777777778, \"#fb9f3a\"], [0.8888888888888888, \"#fdca26\"], [1.0, \"#f0f921\"]], \"type\": \"surface\"}], \"table\": [{\"cells\": {\"fill\": {\"color\": \"#EBF0F8\"}, \"line\": {\"color\": \"white\"}}, \"header\": {\"fill\": {\"color\": \"#C8D4E3\"}, \"line\": {\"color\": \"white\"}}, \"type\": \"table\"}]}, \"layout\": {\"annotationdefaults\": {\"arrowcolor\": \"#2a3f5f\", \"arrowhead\": 0, \"arrowwidth\": 1}, \"coloraxis\": {\"colorbar\": {\"outlinewidth\": 0, \"ticks\": \"\"}}, \"colorscale\": {\"diverging\": [[0, \"#8e0152\"], [0.1, \"#c51b7d\"], [0.2, \"#de77ae\"], [0.3, \"#f1b6da\"], [0.4, \"#fde0ef\"], [0.5, \"#f7f7f7\"], [0.6, \"#e6f5d0\"], [0.7, \"#b8e186\"], [0.8, \"#7fbc41\"], [0.9, \"#4d9221\"], [1, \"#276419\"]], \"sequential\": [[0.0, \"#0d0887\"], [0.1111111111111111, \"#46039f\"], [0.2222222222222222, \"#7201a8\"], [0.3333333333333333, \"#9c179e\"], [0.4444444444444444, \"#bd3786\"], [0.5555555555555556, \"#d8576b\"], [0.6666666666666666, \"#ed7953\"], [0.7777777777777778, \"#fb9f3a\"], [0.8888888888888888, \"#fdca26\"], [1.0, \"#f0f921\"]], \"sequentialminus\": [[0.0, \"#0d0887\"], [0.1111111111111111, \"#46039f\"], [0.2222222222222222, \"#7201a8\"], [0.3333333333333333, \"#9c179e\"], [0.4444444444444444, \"#bd3786\"], [0.5555555555555556, \"#d8576b\"], [0.6666666666666666, \"#ed7953\"], [0.7777777777777778, \"#fb9f3a\"], [0.8888888888888888, \"#fdca26\"], [1.0, \"#f0f921\"]]}, \"colorway\": [\"#636efa\", \"#EF553B\", \"#00cc96\", \"#ab63fa\", \"#FFA15A\", \"#19d3f3\", \"#FF6692\", \"#B6E880\", \"#FF97FF\", \"#FECB52\"], \"font\": {\"color\": \"#2a3f5f\"}, \"geo\": {\"bgcolor\": \"white\", \"lakecolor\": \"white\", \"landcolor\": \"#E5ECF6\", \"showlakes\": true, \"showland\": true, \"subunitcolor\": \"white\"}, \"hoverlabel\": {\"align\": \"left\"}, \"hovermode\": \"closest\", \"mapbox\": {\"style\": \"light\"}, \"paper_bgcolor\": \"white\", \"plot_bgcolor\": \"#E5ECF6\", \"polar\": {\"angularaxis\": {\"gridcolor\": \"white\", \"linecolor\": \"white\", \"ticks\": \"\"}, \"bgcolor\": \"#E5ECF6\", \"radialaxis\": {\"gridcolor\": \"white\", \"linecolor\": \"white\", \"ticks\": \"\"}}, \"scene\": {\"xaxis\": {\"backgroundcolor\": \"#E5ECF6\", \"gridcolor\": \"white\", \"gridwidth\": 2, \"linecolor\": \"white\", \"showbackground\": true, \"ticks\": \"\", \"zerolinecolor\": \"white\"}, \"yaxis\": {\"backgroundcolor\": \"#E5ECF6\", \"gridcolor\": \"white\", \"gridwidth\": 2, \"linecolor\": \"white\", \"showbackground\": true, \"ticks\": \"\", \"zerolinecolor\": \"white\"}, \"zaxis\": {\"backgroundcolor\": \"#E5ECF6\", \"gridcolor\": \"white\", \"gridwidth\": 2, \"linecolor\": \"white\", \"showbackground\": true, \"ticks\": \"\", \"zerolinecolor\": \"white\"}}, \"shapedefaults\": {\"line\": {\"color\": \"#2a3f5f\"}}, \"ternary\": {\"aaxis\": {\"gridcolor\": \"white\", \"linecolor\": \"white\", \"ticks\": \"\"}, \"baxis\": {\"gridcolor\": \"white\", \"linecolor\": \"white\", \"ticks\": \"\"}, \"bgcolor\": \"#E5ECF6\", \"caxis\": {\"gridcolor\": \"white\", \"linecolor\": \"white\", \"ticks\": \"\"}}, \"title\": {\"x\": 0.05}, \"xaxis\": {\"automargin\": true, \"gridcolor\": \"white\", \"linecolor\": \"white\", \"ticks\": \"\", \"title\": {\"standoff\": 15}, \"zerolinecolor\": \"white\", \"zerolinewidth\": 2}, \"yaxis\": {\"automargin\": true, \"gridcolor\": \"white\", \"linecolor\": \"white\", \"ticks\": \"\", \"title\": {\"standoff\": 15}, \"zerolinecolor\": \"white\", \"zerolinewidth\": 2}}}, \"title\": {\"font\": {\"color\": \"#4D5663\"}, \"text\": \"Percentage Relative Importance for Top 15 Variables \"}},\n",
       "                        {\"responsive\": true}\n",
       "                    ).then(function(){\n",
       "                            \n",
       "var gd = document.getElementById('30ad5ae3-cb0a-4511-ac5f-d48c0e1d2df7');\n",
       "var x = new MutationObserver(function (mutations, observer) {{\n",
       "        var display = window.getComputedStyle(gd).display;\n",
       "        if (!display || display === 'none') {{\n",
       "            console.log([gd, 'removed!']);\n",
       "            Plotly.purge(gd);\n",
       "            observer.disconnect();\n",
       "        }}\n",
       "}});\n",
       "\n",
       "// Listen for the removal of the full notebook cells\n",
       "var notebookContainer = gd.closest('#notebook-container');\n",
       "if (notebookContainer) {{\n",
       "    x.observe(notebookContainer, {childList: true});\n",
       "}}\n",
       "\n",
       "// Listen for the clearing of the current output cell\n",
       "var outputEl = gd.closest('.output');\n",
       "if (outputEl) {{\n",
       "    x.observe(outputEl, {childList: true});\n",
       "}}\n",
       "\n",
       "                        })\n",
       "                };\n",
       "                });\n",
       "            </script>\n",
       "        </div>"
      ]
     },
     "metadata": {},
     "output_type": "display_data"
    },
    {
     "data": {
      "text/html": [
       "\n",
       "\n",
       "\n",
       "\n",
       "\n",
       "\n",
       "  <div class=\"bk-root\" id=\"b8a2c85c-8104-4e25-8b76-e65e11fc7dce\" data-root-id=\"1003\"></div>\n"
      ]
     },
     "metadata": {},
     "output_type": "display_data"
    },
    {
     "data": {
      "application/javascript": [
       "(function(root) {\n",
       "  function embed_document(root) {\n",
       "    \n",
       "  var docs_json = {\"f44215d1-1b58-4377-9179-671621e98863\":{\"roots\":{\"references\":[{\"attributes\":{\"below\":[{\"id\":\"1014\",\"type\":\"CategoricalAxis\"}],\"center\":[{\"id\":\"1017\",\"type\":\"Grid\"},{\"id\":\"1022\",\"type\":\"Grid\"},{\"id\":\"1035\",\"type\":\"LabelSet\"}],\"left\":[{\"id\":\"1018\",\"type\":\"LinearAxis\"}],\"plot_width\":1000,\"renderers\":[{\"id\":\"1031\",\"type\":\"GlyphRenderer\"}],\"title\":{\"id\":\"1004\",\"type\":\"Title\"},\"toolbar\":{\"id\":\"1025\",\"type\":\"Toolbar\"},\"x_range\":{\"id\":\"1006\",\"type\":\"FactorRange\"},\"x_scale\":{\"id\":\"1010\",\"type\":\"CategoricalScale\"},\"y_range\":{\"id\":\"1008\",\"type\":\"Range1d\"},\"y_scale\":{\"id\":\"1012\",\"type\":\"LinearScale\"}},\"id\":\"1003\",\"subtype\":\"Figure\",\"type\":\"Plot\"},{\"attributes\":{\"active_drag\":\"auto\",\"active_inspect\":\"auto\",\"active_multi\":null,\"active_scroll\":\"auto\",\"active_tap\":\"auto\",\"tools\":[{\"id\":\"1023\",\"type\":\"ResetTool\"},{\"id\":\"1024\",\"type\":\"SaveTool\"}]},\"id\":\"1025\",\"type\":\"Toolbar\"},{\"attributes\":{\"callback\":null,\"data\":{\"Percentage Relative Importance\":{\"__ndarray__\":\"sMZT8UPkQUAQJZoUGORBQIWwBJjjDBhAGm7aTNodFkDplbOsLsMMQFQ9Yila7wBAB/15sdV4/z8b8EQbwp7+P9jwATEea/0/D+dhCxzp/D+bKZHFOQ7yP69F+zO7ROg/Qi2PC5wb5j/xZ2dYAUnlP4sstp/3Vto/AAAAAAAAWUA=\",\"dtype\":\"float64\",\"shape\":[16]},\"bar_label\":[\"35.8\",\"35.8\",\"6.0\",\"5.5\",\"3.6\",\"2.1\",\"2.0\",\"1.9\",\"1.8\",\"1.8\",\"1.1\",\"0.8\",\"0.7\",\"0.7\",\"0.4\",\"100.0\"],\"color\":[\"#1de9b6\",\"#1de9b6\",\"#1de9b6\",\"#1de9b6\",\"#1de9b6\",\"#1de9b6\",\"#1de9b6\",\"#1de9b6\",\"#1de9b6\",\"#1de9b6\",\"#1de9b6\",\"#1de9b6\",\"#1de9b6\",\"#1de9b6\",\"#1de9b6\",\"#29b6f6\"],\"index\":[\"Prague\",\"Czechia\",\"None_x\",\"S_\",\"25\",\"United States\",\"PA_\",\"Dallas\",\"53\",\"RA_\",\"80\",\"TCP\",\"INT\",\"UDP\",\"Duration\",\"net\"],\"label_pos\":{\"__ndarray__\":\"sMZT8UPkQUDg9fYCLuRRQOhAdzz8ZFNAyudE4dnGVEB5hKpW86xVQGSW9SduNFZAWH67flGyVkAYkiiHzCxXQNuZ7P94oldAdyEacB0WWEAdZjBXVl5YQKhcmM3fjlhAA3uvBRe7WEDTSWAIqeVYQAAAAAAAAFlAAAAAAAAAWUA=\",\"dtype\":\"float64\",\"shape\":[16]},\"running_total\":{\"__ndarray__\":\"sMZT8UPkQUDg9fYCLuRRQOhAdzz8ZFNAyudE4dnGVEB5hKpW86xVQGSW9SduNFZAWH67flGyVkAYkiiHzCxXQNuZ7P94oldAdyEacB0WWEAdZjBXVl5YQKhcmM3fjlhAA3uvBRe7WEDTSWAIqeVYQAAAAAAAAFlAAAAAAAAAWUA=\",\"dtype\":\"float64\",\"shape\":[16]},\"y_start\":{\"__ndarray__\":\"AAAAAAAAAACwxlPxQ+RBQOD19gIu5FFA6EB3PPxkU0DK50Th2cZUQHmEqlbzrFVAZJb1J240VkBYfrt+UbJWQBiSKIfMLFdA25ns/3iiV0B3IRpwHRZYQB1mMFdWXlhAqFyYzd+OWEADe68FF7tYQNNJYAip5VhAAAAAAAAAAAA=\",\"dtype\":\"float64\",\"shape\":[16]}},\"selected\":{\"id\":\"1042\",\"type\":\"Selection\"},\"selection_policy\":{\"id\":\"1041\",\"type\":\"UnionRenderers\"}},\"id\":\"1002\",\"type\":\"ColumnDataSource\"},{\"attributes\":{},\"id\":\"1023\",\"type\":\"ResetTool\"},{\"attributes\":{\"data_source\":{\"id\":\"1002\",\"type\":\"ColumnDataSource\"},\"glyph\":{\"id\":\"1029\",\"type\":\"Segment\"},\"hover_glyph\":null,\"muted_glyph\":null,\"nonselection_glyph\":{\"id\":\"1030\",\"type\":\"Segment\"},\"selection_glyph\":null,\"view\":{\"id\":\"1032\",\"type\":\"CDSView\"}},\"id\":\"1031\",\"type\":\"GlyphRenderer\"},{\"attributes\":{},\"id\":\"1015\",\"type\":\"CategoricalTicker\"},{\"attributes\":{},\"id\":\"1012\",\"type\":\"LinearScale\"},{\"attributes\":{\"source\":{\"id\":\"1002\",\"type\":\"ColumnDataSource\"}},\"id\":\"1032\",\"type\":\"CDSView\"},{\"attributes\":{},\"id\":\"1010\",\"type\":\"CategoricalScale\"},{\"attributes\":{\"grid_line_alpha\":0.4,\"ticker\":{\"id\":\"1015\",\"type\":\"CategoricalTicker\"}},\"id\":\"1017\",\"type\":\"Grid\"},{\"attributes\":{},\"id\":\"1041\",\"type\":\"UnionRenderers\"},{\"attributes\":{\"callback\":null,\"factors\":[\"Prague\",\"Czechia\",\"None_x\",\"S_\",\"25\",\"United States\",\"PA_\",\"Dallas\",\"53\",\"RA_\",\"80\",\"TCP\",\"INT\",\"UDP\",\"Duration\",\"net\"]},\"id\":\"1006\",\"type\":\"FactorRange\"},{\"attributes\":{},\"id\":\"1019\",\"type\":\"BasicTicker\"},{\"attributes\":{},\"id\":\"1042\",\"type\":\"Selection\"},{\"attributes\":{\"line_color\":{\"field\":\"color\"},\"line_width\":{\"value\":35},\"x0\":{\"field\":\"index\"},\"x1\":{\"field\":\"index\"},\"y0\":{\"field\":\"y_start\"},\"y1\":{\"field\":\"running_total\"}},\"id\":\"1029\",\"type\":\"Segment\"},{\"attributes\":{\"axis_label\":\"Percentage Relative Importance(%)\",\"axis_label_text_font_size\":{\"value\":\"12pt\"},\"formatter\":{\"id\":\"1033\",\"type\":\"NumeralTickFormatter\"},\"ticker\":{\"id\":\"1019\",\"type\":\"BasicTicker\"}},\"id\":\"1018\",\"type\":\"LinearAxis\"},{\"attributes\":{\"text\":\"Percentage Relative Importance Waterfall\"},\"id\":\"1004\",\"type\":\"Title\"},{\"attributes\":{\"line_alpha\":{\"value\":0.1},\"line_color\":{\"value\":\"#1f77b4\"},\"line_width\":{\"value\":35},\"x0\":{\"field\":\"index\"},\"x1\":{\"field\":\"index\"},\"y0\":{\"field\":\"y_start\"},\"y1\":{\"field\":\"running_total\"}},\"id\":\"1030\",\"type\":\"Segment\"},{\"attributes\":{\"callback\":null,\"end\":110.0},\"id\":\"1008\",\"type\":\"Range1d\"},{\"attributes\":{},\"id\":\"1038\",\"type\":\"CategoricalTickFormatter\"},{\"attributes\":{\"format\":\"(0 a)\"},\"id\":\"1033\",\"type\":\"NumeralTickFormatter\"},{\"attributes\":{\"axis_label\":\"Predictors\",\"axis_label_text_font_size\":{\"value\":\"12pt\"},\"formatter\":{\"id\":\"1038\",\"type\":\"CategoricalTickFormatter\"},\"major_label_orientation\":-0.7853981633974483,\"ticker\":{\"id\":\"1015\",\"type\":\"CategoricalTicker\"}},\"id\":\"1014\",\"type\":\"CategoricalAxis\"},{\"attributes\":{\"dimension\":1,\"grid_line_alpha\":0.4,\"ticker\":{\"id\":\"1019\",\"type\":\"BasicTicker\"}},\"id\":\"1022\",\"type\":\"Grid\"},{\"attributes\":{\"level\":\"glyph\",\"source\":{\"id\":\"1002\",\"type\":\"ColumnDataSource\"},\"text\":{\"field\":\"bar_label\"},\"text_font_size\":{\"value\":\"11pt\"},\"x\":{\"field\":\"index\"},\"x_offset\":{\"value\":-14},\"y\":{\"field\":\"label_pos\"}},\"id\":\"1035\",\"type\":\"LabelSet\"},{\"attributes\":{},\"id\":\"1024\",\"type\":\"SaveTool\"}],\"root_ids\":[\"1003\"]},\"title\":\"Bokeh Application\",\"version\":\"1.3.4\"}};\n",
       "  var render_items = [{\"docid\":\"f44215d1-1b58-4377-9179-671621e98863\",\"roots\":{\"1003\":\"b8a2c85c-8104-4e25-8b76-e65e11fc7dce\"}}];\n",
       "  root.Bokeh.embed.embed_items_notebook(docs_json, render_items);\n",
       "\n",
       "  }\n",
       "  if (root.Bokeh !== undefined) {\n",
       "    embed_document(root);\n",
       "  } else {\n",
       "    var attempts = 0;\n",
       "    var timer = setInterval(function(root) {\n",
       "      if (root.Bokeh !== undefined) {\n",
       "        embed_document(root);\n",
       "        clearInterval(timer);\n",
       "      }\n",
       "      attempts++;\n",
       "      if (attempts > 100) {\n",
       "        console.log(\"Bokeh: ERROR: Unable to run BokehJS code because BokehJS library is missing\");\n",
       "        clearInterval(timer);\n",
       "      }\n",
       "    }, 10, root)\n",
       "  }\n",
       "})(window);"
      ],
      "application/vnd.bokehjs_exec.v0+json": ""
     },
     "metadata": {
      "application/vnd.bokehjs_exec.v0+json": {
       "id": "1003"
      }
     },
     "output_type": "display_data"
    }
   ],
   "source": [
    "# Notice how profound the relative importance of Prague and Czechia are in the below pie chart.  They make up approximately\n",
    "# 70% of the relative importance. \n",
    "dominance_regression.plot_incremental_rsquare()"
   ]
  },
  {
   "cell_type": "code",
   "execution_count": 1,
   "metadata": {
    "ExecuteTime": {
     "end_time": "2020-04-28T17:47:11.876978Z",
     "start_time": "2020-04-28T17:47:11.873021Z"
    }
   },
   "outputs": [],
   "source": [
    "# In case you cannot see the above relative importance bar chart, pie chart, and waterfall, I am manually including the \n",
    "# images below. There is a bug with the dominance_analysis library.  The above images were rendered using SciKit Leanr \n",
    "# v0.22.2, not v0.19.2.  As such, they may not render on computers running SciKit Learn v0.19.2."
   ]
  },
  {
   "cell_type": "markdown",
   "metadata": {
    "ExecuteTime": {
     "end_time": "2020-04-28T17:47:12.281895Z",
     "start_time": "2020-04-28T17:47:12.275912Z"
    }
   },
   "source": [
    "<img src=\"Relative_Importance_Bar_Chart_All_Variables.png\" width=1000 height=200>"
   ]
  },
  {
   "cell_type": "markdown",
   "metadata": {
    "ExecuteTime": {
     "end_time": "2020-04-28T17:47:12.710758Z",
     "start_time": "2020-04-28T17:47:12.705762Z"
    }
   },
   "source": [
    "<img src=\"Relative_Importance_Pie_Chart_All_Variables.png\" width=1000 height=200>"
   ]
  },
  {
   "cell_type": "markdown",
   "metadata": {},
   "source": [
    "<img src=\"Relative_Importance_Waterfall_All_Variables.png\" width=1000 height=200>"
   ]
  },
  {
   "cell_type": "code",
   "execution_count": null,
   "metadata": {},
   "outputs": [],
   "source": []
  },
  {
   "cell_type": "code",
   "execution_count": 164,
   "metadata": {
    "ExecuteTime": {
     "end_time": "2020-04-26T16:04:59.231663Z",
     "start_time": "2020-04-26T16:04:59.209722Z"
    }
   },
   "outputs": [
    {
     "data": {
      "text/html": [
       "<div>\n",
       "<style scoped>\n",
       "    .dataframe tbody tr th:only-of-type {\n",
       "        vertical-align: middle;\n",
       "    }\n",
       "\n",
       "    .dataframe tbody tr th {\n",
       "        vertical-align: top;\n",
       "    }\n",
       "\n",
       "    .dataframe thead th {\n",
       "        text-align: right;\n",
       "    }\n",
       "</style>\n",
       "<table border=\"1\" class=\"dataframe\">\n",
       "  <thead>\n",
       "    <tr style=\"text-align: right;\">\n",
       "      <th></th>\n",
       "      <th>Interactional Dominance</th>\n",
       "      <th>Individual Dominance</th>\n",
       "      <th>Average Partial Dominance</th>\n",
       "      <th>Total Dominance</th>\n",
       "      <th>Percentage Relative Importance</th>\n",
       "    </tr>\n",
       "  </thead>\n",
       "  <tbody>\n",
       "    <tr>\n",
       "      <td>Prague</td>\n",
       "      <td>0.000173364</td>\n",
       "      <td>0.796491</td>\n",
       "      <td>0.344438</td>\n",
       "      <td>0.351624</td>\n",
       "      <td>35.7833</td>\n",
       "    </tr>\n",
       "    <tr>\n",
       "      <td>Czechia</td>\n",
       "      <td>9.02926e-08</td>\n",
       "      <td>0.79664</td>\n",
       "      <td>0.344425</td>\n",
       "      <td>0.351611</td>\n",
       "      <td>35.782</td>\n",
       "    </tr>\n",
       "    <tr>\n",
       "      <td>None_x</td>\n",
       "      <td>0.0688226</td>\n",
       "      <td>0.0257861</td>\n",
       "      <td>0.060895</td>\n",
       "      <td>0.0590826</td>\n",
       "      <td>6.01259</td>\n",
       "    </tr>\n",
       "    <tr>\n",
       "      <td>S_</td>\n",
       "      <td>1.56289e-05</td>\n",
       "      <td>0.20777</td>\n",
       "      <td>0.046707</td>\n",
       "      <td>0.0543321</td>\n",
       "      <td>5.52915</td>\n",
       "    </tr>\n",
       "    <tr>\n",
       "      <td>25</td>\n",
       "      <td>3.48668e-08</td>\n",
       "      <td>0.157271</td>\n",
       "      <td>0.028667</td>\n",
       "      <td>0.0353292</td>\n",
       "      <td>3.5953</td>\n",
       "    </tr>\n",
       "    <tr>\n",
       "      <td>United States</td>\n",
       "      <td>6.98704e-05</td>\n",
       "      <td>0.0312796</td>\n",
       "      <td>0.021590</td>\n",
       "      <td>0.0208014</td>\n",
       "      <td>2.11687</td>\n",
       "    </tr>\n",
       "    <tr>\n",
       "      <td>PA_</td>\n",
       "      <td>3.69213e-06</td>\n",
       "      <td>0.0595586</td>\n",
       "      <td>0.017721</td>\n",
       "      <td>0.0193287</td>\n",
       "      <td>1.967</td>\n",
       "    </tr>\n",
       "    <tr>\n",
       "      <td>Dallas</td>\n",
       "      <td>0.00252789</td>\n",
       "      <td>0.0269722</td>\n",
       "      <td>0.019429</td>\n",
       "      <td>0.0188055</td>\n",
       "      <td>1.91376</td>\n",
       "    </tr>\n",
       "    <tr>\n",
       "      <td>53</td>\n",
       "      <td>1.5127e-06</td>\n",
       "      <td>0.0281776</td>\n",
       "      <td>0.018679</td>\n",
       "      <td>0.0180675</td>\n",
       "      <td>1.83865</td>\n",
       "    </tr>\n",
       "    <tr>\n",
       "      <td>RA_</td>\n",
       "      <td>0.00278111</td>\n",
       "      <td>0.0238535</td>\n",
       "      <td>0.018438</td>\n",
       "      <td>0.0177556</td>\n",
       "      <td>1.80691</td>\n",
       "    </tr>\n",
       "    <tr>\n",
       "      <td>80</td>\n",
       "      <td>0.000107266</td>\n",
       "      <td>0.0343153</td>\n",
       "      <td>0.010147</td>\n",
       "      <td>0.0110889</td>\n",
       "      <td>1.12847</td>\n",
       "    </tr>\n",
       "    <tr>\n",
       "      <td>TCP</td>\n",
       "      <td>0.000121938</td>\n",
       "      <td>0.0316881</td>\n",
       "      <td>0.006152</td>\n",
       "      <td>0.0074523</td>\n",
       "      <td>0.75839</td>\n",
       "    </tr>\n",
       "    <tr>\n",
       "      <td>INT</td>\n",
       "      <td>5.39371e-05</td>\n",
       "      <td>0.0290151</td>\n",
       "      <td>0.005597</td>\n",
       "      <td>0.00678882</td>\n",
       "      <td>0.69087</td>\n",
       "    </tr>\n",
       "    <tr>\n",
       "      <td>UDP</td>\n",
       "      <td>1.97498e-08</td>\n",
       "      <td>0.0274967</td>\n",
       "      <td>0.005427</td>\n",
       "      <td>0.0065362</td>\n",
       "      <td>0.665162</td>\n",
       "    </tr>\n",
       "    <tr>\n",
       "      <td>Duration</td>\n",
       "      <td>3.90734e-06</td>\n",
       "      <td>0.0229993</td>\n",
       "      <td>0.002897</td>\n",
       "      <td>0.00404417</td>\n",
       "      <td>0.411558</td>\n",
       "    </tr>\n",
       "  </tbody>\n",
       "</table>\n",
       "</div>"
      ],
      "text/plain": [
       "              Interactional Dominance Individual Dominance  \\\n",
       "Prague                    0.000173364             0.796491   \n",
       "Czechia                   9.02926e-08              0.79664   \n",
       "None_x                      0.0688226            0.0257861   \n",
       "S_                        1.56289e-05              0.20777   \n",
       "25                        3.48668e-08             0.157271   \n",
       "United States             6.98704e-05            0.0312796   \n",
       "PA_                       3.69213e-06            0.0595586   \n",
       "Dallas                     0.00252789            0.0269722   \n",
       "53                         1.5127e-06            0.0281776   \n",
       "RA_                        0.00278111            0.0238535   \n",
       "80                        0.000107266            0.0343153   \n",
       "TCP                       0.000121938            0.0316881   \n",
       "INT                       5.39371e-05            0.0290151   \n",
       "UDP                       1.97498e-08            0.0274967   \n",
       "Duration                  3.90734e-06            0.0229993   \n",
       "\n",
       "               Average Partial Dominance Total Dominance  \\\n",
       "Prague                          0.344438        0.351624   \n",
       "Czechia                         0.344425        0.351611   \n",
       "None_x                          0.060895       0.0590826   \n",
       "S_                              0.046707       0.0543321   \n",
       "25                              0.028667       0.0353292   \n",
       "United States                   0.021590       0.0208014   \n",
       "PA_                             0.017721       0.0193287   \n",
       "Dallas                          0.019429       0.0188055   \n",
       "53                              0.018679       0.0180675   \n",
       "RA_                             0.018438       0.0177556   \n",
       "80                              0.010147       0.0110889   \n",
       "TCP                             0.006152       0.0074523   \n",
       "INT                             0.005597      0.00678882   \n",
       "UDP                             0.005427       0.0065362   \n",
       "Duration                        0.002897      0.00404417   \n",
       "\n",
       "              Percentage Relative Importance  \n",
       "Prague                               35.7833  \n",
       "Czechia                               35.782  \n",
       "None_x                               6.01259  \n",
       "S_                                   5.52915  \n",
       "25                                    3.5953  \n",
       "United States                        2.11687  \n",
       "PA_                                    1.967  \n",
       "Dallas                               1.91376  \n",
       "53                                   1.83865  \n",
       "RA_                                  1.80691  \n",
       "80                                   1.12847  \n",
       "TCP                                  0.75839  \n",
       "INT                                  0.69087  \n",
       "UDP                                 0.665162  \n",
       "Duration                            0.411558  "
      ]
     },
     "execution_count": 164,
     "metadata": {},
     "output_type": "execute_result"
    }
   ],
   "source": [
    "# The most prominent locations (Prague, Czechia) accounts for 70% of the relative importance. \n",
    "dominance_regression.dominance_stats()"
   ]
  },
  {
   "cell_type": "code",
   "execution_count": null,
   "metadata": {},
   "outputs": [],
   "source": []
  },
  {
   "cell_type": "code",
   "execution_count": 165,
   "metadata": {
    "ExecuteTime": {
     "end_time": "2020-04-26T16:04:59.348343Z",
     "start_time": "2020-04-26T16:04:59.233649Z"
    }
   },
   "outputs": [
    {
     "data": {
      "text/html": [
       "<div>\n",
       "<style scoped>\n",
       "    .dataframe tbody tr th:only-of-type {\n",
       "        vertical-align: middle;\n",
       "    }\n",
       "\n",
       "    .dataframe tbody tr th {\n",
       "        vertical-align: top;\n",
       "    }\n",
       "\n",
       "    .dataframe thead th {\n",
       "        text-align: right;\n",
       "    }\n",
       "</style>\n",
       "<table border=\"1\" class=\"dataframe\">\n",
       "  <thead>\n",
       "    <tr style=\"text-align: right;\">\n",
       "      <th></th>\n",
       "      <th>Duration</th>\n",
       "      <th>Packets</th>\n",
       "      <th>Bytes</th>\n",
       "      <th>A_</th>\n",
       "      <th>CON</th>\n",
       "      <th>ECO</th>\n",
       "      <th>ECR</th>\n",
       "      <th>FAC_</th>\n",
       "      <th>FAU_</th>\n",
       "      <th>FA_</th>\n",
       "      <th>...</th>\n",
       "      <th>832</th>\n",
       "      <th>843</th>\n",
       "      <th>877</th>\n",
       "      <th>88</th>\n",
       "      <th>888</th>\n",
       "      <th>916</th>\n",
       "      <th>98</th>\n",
       "      <th>993</th>\n",
       "      <th>995</th>\n",
       "      <th>Botnet</th>\n",
       "    </tr>\n",
       "  </thead>\n",
       "  <tbody>\n",
       "    <tr>\n",
       "      <td>4117</td>\n",
       "      <td>0.000</td>\n",
       "      <td>1</td>\n",
       "      <td>263</td>\n",
       "      <td>0.0</td>\n",
       "      <td>0.0</td>\n",
       "      <td>0.0</td>\n",
       "      <td>0.0</td>\n",
       "      <td>0.0</td>\n",
       "      <td>0.0</td>\n",
       "      <td>0.0</td>\n",
       "      <td>...</td>\n",
       "      <td>0.0</td>\n",
       "      <td>0.0</td>\n",
       "      <td>0.0</td>\n",
       "      <td>0.0</td>\n",
       "      <td>0.0</td>\n",
       "      <td>0.0</td>\n",
       "      <td>0.0</td>\n",
       "      <td>0.0</td>\n",
       "      <td>0.0</td>\n",
       "      <td>True</td>\n",
       "    </tr>\n",
       "    <tr>\n",
       "      <td>6269</td>\n",
       "      <td>0.000</td>\n",
       "      <td>1</td>\n",
       "      <td>66</td>\n",
       "      <td>0.0</td>\n",
       "      <td>0.0</td>\n",
       "      <td>0.0</td>\n",
       "      <td>0.0</td>\n",
       "      <td>0.0</td>\n",
       "      <td>0.0</td>\n",
       "      <td>0.0</td>\n",
       "      <td>...</td>\n",
       "      <td>0.0</td>\n",
       "      <td>0.0</td>\n",
       "      <td>0.0</td>\n",
       "      <td>0.0</td>\n",
       "      <td>0.0</td>\n",
       "      <td>0.0</td>\n",
       "      <td>0.0</td>\n",
       "      <td>0.0</td>\n",
       "      <td>0.0</td>\n",
       "      <td>True</td>\n",
       "    </tr>\n",
       "    <tr>\n",
       "      <td>8919</td>\n",
       "      <td>2.712</td>\n",
       "      <td>4</td>\n",
       "      <td>256</td>\n",
       "      <td>0.0</td>\n",
       "      <td>0.0</td>\n",
       "      <td>0.0</td>\n",
       "      <td>0.0</td>\n",
       "      <td>0.0</td>\n",
       "      <td>0.0</td>\n",
       "      <td>0.0</td>\n",
       "      <td>...</td>\n",
       "      <td>0.0</td>\n",
       "      <td>0.0</td>\n",
       "      <td>0.0</td>\n",
       "      <td>0.0</td>\n",
       "      <td>0.0</td>\n",
       "      <td>0.0</td>\n",
       "      <td>0.0</td>\n",
       "      <td>0.0</td>\n",
       "      <td>0.0</td>\n",
       "      <td>True</td>\n",
       "    </tr>\n",
       "    <tr>\n",
       "      <td>10127</td>\n",
       "      <td>0.000</td>\n",
       "      <td>1</td>\n",
       "      <td>64</td>\n",
       "      <td>0.0</td>\n",
       "      <td>0.0</td>\n",
       "      <td>0.0</td>\n",
       "      <td>0.0</td>\n",
       "      <td>0.0</td>\n",
       "      <td>0.0</td>\n",
       "      <td>0.0</td>\n",
       "      <td>...</td>\n",
       "      <td>0.0</td>\n",
       "      <td>0.0</td>\n",
       "      <td>0.0</td>\n",
       "      <td>0.0</td>\n",
       "      <td>0.0</td>\n",
       "      <td>0.0</td>\n",
       "      <td>0.0</td>\n",
       "      <td>0.0</td>\n",
       "      <td>0.0</td>\n",
       "      <td>True</td>\n",
       "    </tr>\n",
       "    <tr>\n",
       "      <td>11546</td>\n",
       "      <td>0.000</td>\n",
       "      <td>1</td>\n",
       "      <td>64</td>\n",
       "      <td>0.0</td>\n",
       "      <td>0.0</td>\n",
       "      <td>0.0</td>\n",
       "      <td>0.0</td>\n",
       "      <td>0.0</td>\n",
       "      <td>0.0</td>\n",
       "      <td>0.0</td>\n",
       "      <td>...</td>\n",
       "      <td>0.0</td>\n",
       "      <td>0.0</td>\n",
       "      <td>0.0</td>\n",
       "      <td>0.0</td>\n",
       "      <td>0.0</td>\n",
       "      <td>0.0</td>\n",
       "      <td>0.0</td>\n",
       "      <td>0.0</td>\n",
       "      <td>0.0</td>\n",
       "      <td>True</td>\n",
       "    </tr>\n",
       "  </tbody>\n",
       "</table>\n",
       "<p>5 rows × 250 columns</p>\n",
       "</div>"
      ],
      "text/plain": [
       "       Duration  Packets  Bytes   A_  CON  ECO  ECR  FAC_  FAU_  FA_  ...  \\\n",
       "4117      0.000        1    263  0.0  0.0  0.0  0.0   0.0   0.0  0.0  ...   \n",
       "6269      0.000        1     66  0.0  0.0  0.0  0.0   0.0   0.0  0.0  ...   \n",
       "8919      2.712        4    256  0.0  0.0  0.0  0.0   0.0   0.0  0.0  ...   \n",
       "10127     0.000        1     64  0.0  0.0  0.0  0.0   0.0   0.0  0.0  ...   \n",
       "11546     0.000        1     64  0.0  0.0  0.0  0.0   0.0   0.0  0.0  ...   \n",
       "\n",
       "       832  843  877   88  888  916   98  993  995  Botnet  \n",
       "4117   0.0  0.0  0.0  0.0  0.0  0.0  0.0  0.0  0.0    True  \n",
       "6269   0.0  0.0  0.0  0.0  0.0  0.0  0.0  0.0  0.0    True  \n",
       "8919   0.0  0.0  0.0  0.0  0.0  0.0  0.0  0.0  0.0    True  \n",
       "10127  0.0  0.0  0.0  0.0  0.0  0.0  0.0  0.0  0.0    True  \n",
       "11546  0.0  0.0  0.0  0.0  0.0  0.0  0.0  0.0  0.0    True  \n",
       "\n",
       "[5 rows x 250 columns]"
      ]
     },
     "execution_count": 165,
     "metadata": {},
     "output_type": "execute_result"
    }
   ],
   "source": [
    "# We are now testing the relative importance without Prague and Czechia. \n",
    "dsampled_data_WO_Prague_Czecha = dsampled_data.drop(['Prague','Czechia'], axis=1)\n",
    "dsampled_data_WO_Prague_Czecha.head()"
   ]
  },
  {
   "cell_type": "code",
   "execution_count": 166,
   "metadata": {
    "ExecuteTime": {
     "end_time": "2020-04-26T16:04:59.812102Z",
     "start_time": "2020-04-26T16:04:59.351335Z"
    }
   },
   "outputs": [
    {
     "name": "stdout",
     "output_type": "stream",
     "text": [
      "Selecting 15 Best Predictors for the Model\n",
      "Selected Predictors :  ['Duration', 'A_', 'INT', 'PA_', 'RA_', 'S_', 'TCP', 'UDP', 'Dallas', 'None_x', 'Luxembourg', 'United States', '25', '53', '80']\n",
      "\n",
      "********************  R-Squared of Complete Model :  ********************\n",
      "R Squared : 0.4153356165872567\n",
      "\n"
     ]
    }
   ],
   "source": [
    "# Notice that when Prague and Czechia are dropped, the top selected predictors change from what we saw previously in the \n",
    "# 3rd, 4th, 5th, etc. spots.  Also notice that the R-Squared drops to 41.53%.  \n",
    "dominance_regression=Dominance(data=dsampled_data_WO_Prague_Czecha,target='Botnet')"
   ]
  },
  {
   "cell_type": "code",
   "execution_count": 167,
   "metadata": {
    "ExecuteTime": {
     "end_time": "2020-04-26T16:17:56.420642Z",
     "start_time": "2020-04-26T16:04:59.814096Z"
    }
   },
   "outputs": [
    {
     "name": "stdout",
     "output_type": "stream",
     "text": [
      "Selecting 15 Best Predictors for the Model\n",
      "Selected Predictors :  ['Duration', 'A_', 'INT', 'PA_', 'RA_', 'S_', 'TCP', 'UDP', 'Dallas', 'None_x', 'Luxembourg', 'United States', '25', '53', '80']\n",
      "\n",
      "Creating models for 32767 possible combinations of 15 features :\n"
     ]
    },
    {
     "name": "stderr",
     "output_type": "stream",
     "text": [
      "100%|██████████████████████████████████████████████████████████████████████████████████| 15/15 [07:53<00:00, 31.58s/it]\n"
     ]
    },
    {
     "name": "stdout",
     "output_type": "stream",
     "text": [
      "#########################  Model Training Done!!!!!  #########################\n",
      "\n",
      "#########################  Calculating Variable Dominances  #########################\n"
     ]
    },
    {
     "name": "stderr",
     "output_type": "stream",
     "text": [
      "100%|██████████████████████████████████████████████████████████████████████████████████| 14/14 [05:02<00:00, 21.59s/it]\n"
     ]
    },
    {
     "name": "stdout",
     "output_type": "stream",
     "text": [
      "#########################  Variable Dominance Calculation Done!!!!!  #########################\n",
      "\n"
     ]
    }
   ],
   "source": [
    "incr_variable_rsquare=dominance_regression.incremental_rsquare()"
   ]
  },
  {
   "cell_type": "code",
   "execution_count": 168,
   "metadata": {
    "ExecuteTime": {
     "end_time": "2020-04-26T16:17:57.049990Z",
     "start_time": "2020-04-26T16:17:56.426656Z"
    }
   },
   "outputs": [
    {
     "data": {
      "application/vnd.plotly.v1+json": {
       "config": {
        "linkText": "Export to plot.ly",
        "plotlyServerURL": "https://plot.ly",
        "showLink": false
       },
       "data": [
        {
         "marker": {
          "color": "rgba(255, 153, 51, 0.6)",
          "line": {
           "color": "rgba(255, 153, 51, 1.0)",
           "width": 1
          }
         },
         "name": "incremental_r2",
         "orientation": "v",
         "text": "",
         "type": "bar",
         "x": [
          "S_",
          "25",
          "53",
          "PA_",
          "80",
          "None_x",
          "A_",
          "Luxembourg",
          "United States",
          "TCP",
          "Dallas",
          "RA_",
          "INT",
          "UDP",
          "Duration"
         ],
         "y": [
          0.1136962881085266,
          0.062299657929608884,
          0.0618781346152515,
          0.04342415939492685,
          0.02102104172120195,
          0.01722339440709773,
          0.014143632610177401,
          0.013261067727047902,
          0.012484928991468474,
          0.011287486402611846,
          0.010759695190028533,
          0.009571875934211015,
          0.009483347222085036,
          0.009469749070964529,
          0.005331157262048455
         ]
        }
       ],
       "layout": {
        "legend": {
         "bgcolor": "#F5F6F9",
         "font": {
          "color": "#4D5663"
         }
        },
        "paper_bgcolor": "#F5F6F9",
        "plot_bgcolor": "#F5F6F9",
        "template": {
         "data": {
          "bar": [
           {
            "error_x": {
             "color": "#2a3f5f"
            },
            "error_y": {
             "color": "#2a3f5f"
            },
            "marker": {
             "line": {
              "color": "#E5ECF6",
              "width": 0.5
             }
            },
            "type": "bar"
           }
          ],
          "barpolar": [
           {
            "marker": {
             "line": {
              "color": "#E5ECF6",
              "width": 0.5
             }
            },
            "type": "barpolar"
           }
          ],
          "carpet": [
           {
            "aaxis": {
             "endlinecolor": "#2a3f5f",
             "gridcolor": "white",
             "linecolor": "white",
             "minorgridcolor": "white",
             "startlinecolor": "#2a3f5f"
            },
            "baxis": {
             "endlinecolor": "#2a3f5f",
             "gridcolor": "white",
             "linecolor": "white",
             "minorgridcolor": "white",
             "startlinecolor": "#2a3f5f"
            },
            "type": "carpet"
           }
          ],
          "choropleth": [
           {
            "colorbar": {
             "outlinewidth": 0,
             "ticks": ""
            },
            "type": "choropleth"
           }
          ],
          "contour": [
           {
            "colorbar": {
             "outlinewidth": 0,
             "ticks": ""
            },
            "colorscale": [
             [
              0,
              "#0d0887"
             ],
             [
              0.1111111111111111,
              "#46039f"
             ],
             [
              0.2222222222222222,
              "#7201a8"
             ],
             [
              0.3333333333333333,
              "#9c179e"
             ],
             [
              0.4444444444444444,
              "#bd3786"
             ],
             [
              0.5555555555555556,
              "#d8576b"
             ],
             [
              0.6666666666666666,
              "#ed7953"
             ],
             [
              0.7777777777777778,
              "#fb9f3a"
             ],
             [
              0.8888888888888888,
              "#fdca26"
             ],
             [
              1,
              "#f0f921"
             ]
            ],
            "type": "contour"
           }
          ],
          "contourcarpet": [
           {
            "colorbar": {
             "outlinewidth": 0,
             "ticks": ""
            },
            "type": "contourcarpet"
           }
          ],
          "heatmap": [
           {
            "colorbar": {
             "outlinewidth": 0,
             "ticks": ""
            },
            "colorscale": [
             [
              0,
              "#0d0887"
             ],
             [
              0.1111111111111111,
              "#46039f"
             ],
             [
              0.2222222222222222,
              "#7201a8"
             ],
             [
              0.3333333333333333,
              "#9c179e"
             ],
             [
              0.4444444444444444,
              "#bd3786"
             ],
             [
              0.5555555555555556,
              "#d8576b"
             ],
             [
              0.6666666666666666,
              "#ed7953"
             ],
             [
              0.7777777777777778,
              "#fb9f3a"
             ],
             [
              0.8888888888888888,
              "#fdca26"
             ],
             [
              1,
              "#f0f921"
             ]
            ],
            "type": "heatmap"
           }
          ],
          "heatmapgl": [
           {
            "colorbar": {
             "outlinewidth": 0,
             "ticks": ""
            },
            "colorscale": [
             [
              0,
              "#0d0887"
             ],
             [
              0.1111111111111111,
              "#46039f"
             ],
             [
              0.2222222222222222,
              "#7201a8"
             ],
             [
              0.3333333333333333,
              "#9c179e"
             ],
             [
              0.4444444444444444,
              "#bd3786"
             ],
             [
              0.5555555555555556,
              "#d8576b"
             ],
             [
              0.6666666666666666,
              "#ed7953"
             ],
             [
              0.7777777777777778,
              "#fb9f3a"
             ],
             [
              0.8888888888888888,
              "#fdca26"
             ],
             [
              1,
              "#f0f921"
             ]
            ],
            "type": "heatmapgl"
           }
          ],
          "histogram": [
           {
            "marker": {
             "colorbar": {
              "outlinewidth": 0,
              "ticks": ""
             }
            },
            "type": "histogram"
           }
          ],
          "histogram2d": [
           {
            "colorbar": {
             "outlinewidth": 0,
             "ticks": ""
            },
            "colorscale": [
             [
              0,
              "#0d0887"
             ],
             [
              0.1111111111111111,
              "#46039f"
             ],
             [
              0.2222222222222222,
              "#7201a8"
             ],
             [
              0.3333333333333333,
              "#9c179e"
             ],
             [
              0.4444444444444444,
              "#bd3786"
             ],
             [
              0.5555555555555556,
              "#d8576b"
             ],
             [
              0.6666666666666666,
              "#ed7953"
             ],
             [
              0.7777777777777778,
              "#fb9f3a"
             ],
             [
              0.8888888888888888,
              "#fdca26"
             ],
             [
              1,
              "#f0f921"
             ]
            ],
            "type": "histogram2d"
           }
          ],
          "histogram2dcontour": [
           {
            "colorbar": {
             "outlinewidth": 0,
             "ticks": ""
            },
            "colorscale": [
             [
              0,
              "#0d0887"
             ],
             [
              0.1111111111111111,
              "#46039f"
             ],
             [
              0.2222222222222222,
              "#7201a8"
             ],
             [
              0.3333333333333333,
              "#9c179e"
             ],
             [
              0.4444444444444444,
              "#bd3786"
             ],
             [
              0.5555555555555556,
              "#d8576b"
             ],
             [
              0.6666666666666666,
              "#ed7953"
             ],
             [
              0.7777777777777778,
              "#fb9f3a"
             ],
             [
              0.8888888888888888,
              "#fdca26"
             ],
             [
              1,
              "#f0f921"
             ]
            ],
            "type": "histogram2dcontour"
           }
          ],
          "mesh3d": [
           {
            "colorbar": {
             "outlinewidth": 0,
             "ticks": ""
            },
            "type": "mesh3d"
           }
          ],
          "parcoords": [
           {
            "line": {
             "colorbar": {
              "outlinewidth": 0,
              "ticks": ""
             }
            },
            "type": "parcoords"
           }
          ],
          "pie": [
           {
            "automargin": true,
            "type": "pie"
           }
          ],
          "scatter": [
           {
            "marker": {
             "colorbar": {
              "outlinewidth": 0,
              "ticks": ""
             }
            },
            "type": "scatter"
           }
          ],
          "scatter3d": [
           {
            "line": {
             "colorbar": {
              "outlinewidth": 0,
              "ticks": ""
             }
            },
            "marker": {
             "colorbar": {
              "outlinewidth": 0,
              "ticks": ""
             }
            },
            "type": "scatter3d"
           }
          ],
          "scattercarpet": [
           {
            "marker": {
             "colorbar": {
              "outlinewidth": 0,
              "ticks": ""
             }
            },
            "type": "scattercarpet"
           }
          ],
          "scattergeo": [
           {
            "marker": {
             "colorbar": {
              "outlinewidth": 0,
              "ticks": ""
             }
            },
            "type": "scattergeo"
           }
          ],
          "scattergl": [
           {
            "marker": {
             "colorbar": {
              "outlinewidth": 0,
              "ticks": ""
             }
            },
            "type": "scattergl"
           }
          ],
          "scattermapbox": [
           {
            "marker": {
             "colorbar": {
              "outlinewidth": 0,
              "ticks": ""
             }
            },
            "type": "scattermapbox"
           }
          ],
          "scatterpolar": [
           {
            "marker": {
             "colorbar": {
              "outlinewidth": 0,
              "ticks": ""
             }
            },
            "type": "scatterpolar"
           }
          ],
          "scatterpolargl": [
           {
            "marker": {
             "colorbar": {
              "outlinewidth": 0,
              "ticks": ""
             }
            },
            "type": "scatterpolargl"
           }
          ],
          "scatterternary": [
           {
            "marker": {
             "colorbar": {
              "outlinewidth": 0,
              "ticks": ""
             }
            },
            "type": "scatterternary"
           }
          ],
          "surface": [
           {
            "colorbar": {
             "outlinewidth": 0,
             "ticks": ""
            },
            "colorscale": [
             [
              0,
              "#0d0887"
             ],
             [
              0.1111111111111111,
              "#46039f"
             ],
             [
              0.2222222222222222,
              "#7201a8"
             ],
             [
              0.3333333333333333,
              "#9c179e"
             ],
             [
              0.4444444444444444,
              "#bd3786"
             ],
             [
              0.5555555555555556,
              "#d8576b"
             ],
             [
              0.6666666666666666,
              "#ed7953"
             ],
             [
              0.7777777777777778,
              "#fb9f3a"
             ],
             [
              0.8888888888888888,
              "#fdca26"
             ],
             [
              1,
              "#f0f921"
             ]
            ],
            "type": "surface"
           }
          ],
          "table": [
           {
            "cells": {
             "fill": {
              "color": "#EBF0F8"
             },
             "line": {
              "color": "white"
             }
            },
            "header": {
             "fill": {
              "color": "#C8D4E3"
             },
             "line": {
              "color": "white"
             }
            },
            "type": "table"
           }
          ]
         },
         "layout": {
          "annotationdefaults": {
           "arrowcolor": "#2a3f5f",
           "arrowhead": 0,
           "arrowwidth": 1
          },
          "coloraxis": {
           "colorbar": {
            "outlinewidth": 0,
            "ticks": ""
           }
          },
          "colorscale": {
           "diverging": [
            [
             0,
             "#8e0152"
            ],
            [
             0.1,
             "#c51b7d"
            ],
            [
             0.2,
             "#de77ae"
            ],
            [
             0.3,
             "#f1b6da"
            ],
            [
             0.4,
             "#fde0ef"
            ],
            [
             0.5,
             "#f7f7f7"
            ],
            [
             0.6,
             "#e6f5d0"
            ],
            [
             0.7,
             "#b8e186"
            ],
            [
             0.8,
             "#7fbc41"
            ],
            [
             0.9,
             "#4d9221"
            ],
            [
             1,
             "#276419"
            ]
           ],
           "sequential": [
            [
             0,
             "#0d0887"
            ],
            [
             0.1111111111111111,
             "#46039f"
            ],
            [
             0.2222222222222222,
             "#7201a8"
            ],
            [
             0.3333333333333333,
             "#9c179e"
            ],
            [
             0.4444444444444444,
             "#bd3786"
            ],
            [
             0.5555555555555556,
             "#d8576b"
            ],
            [
             0.6666666666666666,
             "#ed7953"
            ],
            [
             0.7777777777777778,
             "#fb9f3a"
            ],
            [
             0.8888888888888888,
             "#fdca26"
            ],
            [
             1,
             "#f0f921"
            ]
           ],
           "sequentialminus": [
            [
             0,
             "#0d0887"
            ],
            [
             0.1111111111111111,
             "#46039f"
            ],
            [
             0.2222222222222222,
             "#7201a8"
            ],
            [
             0.3333333333333333,
             "#9c179e"
            ],
            [
             0.4444444444444444,
             "#bd3786"
            ],
            [
             0.5555555555555556,
             "#d8576b"
            ],
            [
             0.6666666666666666,
             "#ed7953"
            ],
            [
             0.7777777777777778,
             "#fb9f3a"
            ],
            [
             0.8888888888888888,
             "#fdca26"
            ],
            [
             1,
             "#f0f921"
            ]
           ]
          },
          "colorway": [
           "#636efa",
           "#EF553B",
           "#00cc96",
           "#ab63fa",
           "#FFA15A",
           "#19d3f3",
           "#FF6692",
           "#B6E880",
           "#FF97FF",
           "#FECB52"
          ],
          "font": {
           "color": "#2a3f5f"
          },
          "geo": {
           "bgcolor": "white",
           "lakecolor": "white",
           "landcolor": "#E5ECF6",
           "showlakes": true,
           "showland": true,
           "subunitcolor": "white"
          },
          "hoverlabel": {
           "align": "left"
          },
          "hovermode": "closest",
          "mapbox": {
           "style": "light"
          },
          "paper_bgcolor": "white",
          "plot_bgcolor": "#E5ECF6",
          "polar": {
           "angularaxis": {
            "gridcolor": "white",
            "linecolor": "white",
            "ticks": ""
           },
           "bgcolor": "#E5ECF6",
           "radialaxis": {
            "gridcolor": "white",
            "linecolor": "white",
            "ticks": ""
           }
          },
          "scene": {
           "xaxis": {
            "backgroundcolor": "#E5ECF6",
            "gridcolor": "white",
            "gridwidth": 2,
            "linecolor": "white",
            "showbackground": true,
            "ticks": "",
            "zerolinecolor": "white"
           },
           "yaxis": {
            "backgroundcolor": "#E5ECF6",
            "gridcolor": "white",
            "gridwidth": 2,
            "linecolor": "white",
            "showbackground": true,
            "ticks": "",
            "zerolinecolor": "white"
           },
           "zaxis": {
            "backgroundcolor": "#E5ECF6",
            "gridcolor": "white",
            "gridwidth": 2,
            "linecolor": "white",
            "showbackground": true,
            "ticks": "",
            "zerolinecolor": "white"
           }
          },
          "shapedefaults": {
           "line": {
            "color": "#2a3f5f"
           }
          },
          "ternary": {
           "aaxis": {
            "gridcolor": "white",
            "linecolor": "white",
            "ticks": ""
           },
           "baxis": {
            "gridcolor": "white",
            "linecolor": "white",
            "ticks": ""
           },
           "bgcolor": "#E5ECF6",
           "caxis": {
            "gridcolor": "white",
            "linecolor": "white",
            "ticks": ""
           }
          },
          "title": {
           "x": 0.05
          },
          "xaxis": {
           "automargin": true,
           "gridcolor": "white",
           "linecolor": "white",
           "ticks": "",
           "title": {
            "standoff": 15
           },
           "zerolinecolor": "white",
           "zerolinewidth": 2
          },
          "yaxis": {
           "automargin": true,
           "gridcolor": "white",
           "linecolor": "white",
           "ticks": "",
           "title": {
            "standoff": 15
           },
           "zerolinecolor": "white",
           "zerolinewidth": 2
          }
         }
        },
        "title": {
         "font": {
          "color": "#4D5663"
         },
         "text": "Incremental  R Squared for Top 15 Variables "
        },
        "xaxis": {
         "gridcolor": "#E1E5ED",
         "showgrid": true,
         "tickfont": {
          "color": "#4D5663"
         },
         "title": {
          "font": {
           "color": "#4D5663"
          },
          "text": "Estimators"
         },
         "zerolinecolor": "#E1E5ED"
        },
        "yaxis": {
         "gridcolor": "#E1E5ED",
         "showgrid": true,
         "tickfont": {
          "color": "#4D5663"
         },
         "title": {
          "font": {
           "color": "#4D5663"
          },
          "text": "Incremental R2"
         },
         "zerolinecolor": "#E1E5ED"
        }
       }
      },
      "text/html": [
       "<div>\n",
       "        \n",
       "        \n",
       "            <div id=\"b4276a15-6143-488c-83e1-c5bf75588027\" class=\"plotly-graph-div\" style=\"height:525px; width:100%;\"></div>\n",
       "            <script type=\"text/javascript\">\n",
       "                require([\"plotly\"], function(Plotly) {\n",
       "                    window.PLOTLYENV=window.PLOTLYENV || {};\n",
       "                    \n",
       "                if (document.getElementById(\"b4276a15-6143-488c-83e1-c5bf75588027\")) {\n",
       "                    Plotly.newPlot(\n",
       "                        'b4276a15-6143-488c-83e1-c5bf75588027',\n",
       "                        [{\"marker\": {\"color\": \"rgba(255, 153, 51, 0.6)\", \"line\": {\"color\": \"rgba(255, 153, 51, 1.0)\", \"width\": 1}}, \"name\": \"incremental_r2\", \"orientation\": \"v\", \"text\": \"\", \"type\": \"bar\", \"x\": [\"S_\", \"25\", \"53\", \"PA_\", \"80\", \"None_x\", \"A_\", \"Luxembourg\", \"United States\", \"TCP\", \"Dallas\", \"RA_\", \"INT\", \"UDP\", \"Duration\"], \"y\": [0.1136962881085266, 0.062299657929608884, 0.0618781346152515, 0.04342415939492685, 0.02102104172120195, 0.01722339440709773, 0.014143632610177401, 0.013261067727047902, 0.012484928991468474, 0.011287486402611846, 0.010759695190028533, 0.009571875934211015, 0.009483347222085036, 0.009469749070964529, 0.005331157262048455]}],\n",
       "                        {\"legend\": {\"bgcolor\": \"#F5F6F9\", \"font\": {\"color\": \"#4D5663\"}}, \"paper_bgcolor\": \"#F5F6F9\", \"plot_bgcolor\": \"#F5F6F9\", \"template\": {\"data\": {\"bar\": [{\"error_x\": {\"color\": \"#2a3f5f\"}, \"error_y\": {\"color\": \"#2a3f5f\"}, \"marker\": {\"line\": {\"color\": \"#E5ECF6\", \"width\": 0.5}}, \"type\": \"bar\"}], \"barpolar\": [{\"marker\": {\"line\": {\"color\": \"#E5ECF6\", \"width\": 0.5}}, \"type\": \"barpolar\"}], \"carpet\": [{\"aaxis\": {\"endlinecolor\": \"#2a3f5f\", \"gridcolor\": \"white\", \"linecolor\": \"white\", \"minorgridcolor\": \"white\", \"startlinecolor\": \"#2a3f5f\"}, \"baxis\": {\"endlinecolor\": \"#2a3f5f\", \"gridcolor\": \"white\", \"linecolor\": \"white\", \"minorgridcolor\": \"white\", \"startlinecolor\": \"#2a3f5f\"}, \"type\": \"carpet\"}], \"choropleth\": [{\"colorbar\": {\"outlinewidth\": 0, \"ticks\": \"\"}, \"type\": \"choropleth\"}], \"contour\": [{\"colorbar\": {\"outlinewidth\": 0, \"ticks\": \"\"}, \"colorscale\": [[0.0, \"#0d0887\"], [0.1111111111111111, \"#46039f\"], [0.2222222222222222, \"#7201a8\"], [0.3333333333333333, \"#9c179e\"], [0.4444444444444444, \"#bd3786\"], [0.5555555555555556, \"#d8576b\"], [0.6666666666666666, \"#ed7953\"], [0.7777777777777778, \"#fb9f3a\"], [0.8888888888888888, \"#fdca26\"], [1.0, \"#f0f921\"]], \"type\": \"contour\"}], \"contourcarpet\": [{\"colorbar\": {\"outlinewidth\": 0, \"ticks\": \"\"}, \"type\": \"contourcarpet\"}], \"heatmap\": [{\"colorbar\": {\"outlinewidth\": 0, \"ticks\": \"\"}, \"colorscale\": [[0.0, \"#0d0887\"], [0.1111111111111111, \"#46039f\"], [0.2222222222222222, \"#7201a8\"], [0.3333333333333333, \"#9c179e\"], [0.4444444444444444, \"#bd3786\"], [0.5555555555555556, \"#d8576b\"], [0.6666666666666666, \"#ed7953\"], [0.7777777777777778, \"#fb9f3a\"], [0.8888888888888888, \"#fdca26\"], [1.0, \"#f0f921\"]], \"type\": \"heatmap\"}], \"heatmapgl\": [{\"colorbar\": {\"outlinewidth\": 0, \"ticks\": \"\"}, \"colorscale\": [[0.0, \"#0d0887\"], [0.1111111111111111, \"#46039f\"], [0.2222222222222222, \"#7201a8\"], [0.3333333333333333, \"#9c179e\"], [0.4444444444444444, \"#bd3786\"], [0.5555555555555556, \"#d8576b\"], [0.6666666666666666, \"#ed7953\"], [0.7777777777777778, \"#fb9f3a\"], [0.8888888888888888, \"#fdca26\"], [1.0, \"#f0f921\"]], \"type\": \"heatmapgl\"}], \"histogram\": [{\"marker\": {\"colorbar\": {\"outlinewidth\": 0, \"ticks\": \"\"}}, \"type\": \"histogram\"}], \"histogram2d\": [{\"colorbar\": {\"outlinewidth\": 0, \"ticks\": \"\"}, \"colorscale\": [[0.0, \"#0d0887\"], [0.1111111111111111, \"#46039f\"], [0.2222222222222222, \"#7201a8\"], [0.3333333333333333, \"#9c179e\"], [0.4444444444444444, \"#bd3786\"], [0.5555555555555556, \"#d8576b\"], [0.6666666666666666, \"#ed7953\"], [0.7777777777777778, \"#fb9f3a\"], [0.8888888888888888, \"#fdca26\"], [1.0, \"#f0f921\"]], \"type\": \"histogram2d\"}], \"histogram2dcontour\": [{\"colorbar\": {\"outlinewidth\": 0, \"ticks\": \"\"}, \"colorscale\": [[0.0, \"#0d0887\"], [0.1111111111111111, \"#46039f\"], [0.2222222222222222, \"#7201a8\"], [0.3333333333333333, \"#9c179e\"], [0.4444444444444444, \"#bd3786\"], [0.5555555555555556, \"#d8576b\"], [0.6666666666666666, \"#ed7953\"], [0.7777777777777778, \"#fb9f3a\"], [0.8888888888888888, \"#fdca26\"], [1.0, \"#f0f921\"]], \"type\": \"histogram2dcontour\"}], \"mesh3d\": [{\"colorbar\": {\"outlinewidth\": 0, \"ticks\": \"\"}, \"type\": \"mesh3d\"}], \"parcoords\": [{\"line\": {\"colorbar\": {\"outlinewidth\": 0, \"ticks\": \"\"}}, \"type\": \"parcoords\"}], \"pie\": [{\"automargin\": true, \"type\": \"pie\"}], \"scatter\": [{\"marker\": {\"colorbar\": {\"outlinewidth\": 0, \"ticks\": \"\"}}, \"type\": \"scatter\"}], \"scatter3d\": [{\"line\": {\"colorbar\": {\"outlinewidth\": 0, \"ticks\": \"\"}}, \"marker\": {\"colorbar\": {\"outlinewidth\": 0, \"ticks\": \"\"}}, \"type\": \"scatter3d\"}], \"scattercarpet\": [{\"marker\": {\"colorbar\": {\"outlinewidth\": 0, \"ticks\": \"\"}}, \"type\": \"scattercarpet\"}], \"scattergeo\": [{\"marker\": {\"colorbar\": {\"outlinewidth\": 0, \"ticks\": \"\"}}, \"type\": \"scattergeo\"}], \"scattergl\": [{\"marker\": {\"colorbar\": {\"outlinewidth\": 0, \"ticks\": \"\"}}, \"type\": \"scattergl\"}], \"scattermapbox\": [{\"marker\": {\"colorbar\": {\"outlinewidth\": 0, \"ticks\": \"\"}}, \"type\": \"scattermapbox\"}], \"scatterpolar\": [{\"marker\": {\"colorbar\": {\"outlinewidth\": 0, \"ticks\": \"\"}}, \"type\": \"scatterpolar\"}], \"scatterpolargl\": [{\"marker\": {\"colorbar\": {\"outlinewidth\": 0, \"ticks\": \"\"}}, \"type\": \"scatterpolargl\"}], \"scatterternary\": [{\"marker\": {\"colorbar\": {\"outlinewidth\": 0, \"ticks\": \"\"}}, \"type\": \"scatterternary\"}], \"surface\": [{\"colorbar\": {\"outlinewidth\": 0, \"ticks\": \"\"}, \"colorscale\": [[0.0, \"#0d0887\"], [0.1111111111111111, \"#46039f\"], [0.2222222222222222, \"#7201a8\"], [0.3333333333333333, \"#9c179e\"], [0.4444444444444444, \"#bd3786\"], [0.5555555555555556, \"#d8576b\"], [0.6666666666666666, \"#ed7953\"], [0.7777777777777778, \"#fb9f3a\"], [0.8888888888888888, \"#fdca26\"], [1.0, \"#f0f921\"]], \"type\": \"surface\"}], \"table\": [{\"cells\": {\"fill\": {\"color\": \"#EBF0F8\"}, \"line\": {\"color\": \"white\"}}, \"header\": {\"fill\": {\"color\": \"#C8D4E3\"}, \"line\": {\"color\": \"white\"}}, \"type\": \"table\"}]}, \"layout\": {\"annotationdefaults\": {\"arrowcolor\": \"#2a3f5f\", \"arrowhead\": 0, \"arrowwidth\": 1}, \"coloraxis\": {\"colorbar\": {\"outlinewidth\": 0, \"ticks\": \"\"}}, \"colorscale\": {\"diverging\": [[0, \"#8e0152\"], [0.1, \"#c51b7d\"], [0.2, \"#de77ae\"], [0.3, \"#f1b6da\"], [0.4, \"#fde0ef\"], [0.5, \"#f7f7f7\"], [0.6, \"#e6f5d0\"], [0.7, \"#b8e186\"], [0.8, \"#7fbc41\"], [0.9, \"#4d9221\"], [1, \"#276419\"]], \"sequential\": [[0.0, \"#0d0887\"], [0.1111111111111111, \"#46039f\"], [0.2222222222222222, \"#7201a8\"], [0.3333333333333333, \"#9c179e\"], [0.4444444444444444, \"#bd3786\"], [0.5555555555555556, \"#d8576b\"], [0.6666666666666666, \"#ed7953\"], [0.7777777777777778, \"#fb9f3a\"], [0.8888888888888888, \"#fdca26\"], [1.0, \"#f0f921\"]], \"sequentialminus\": [[0.0, \"#0d0887\"], [0.1111111111111111, \"#46039f\"], [0.2222222222222222, \"#7201a8\"], [0.3333333333333333, \"#9c179e\"], [0.4444444444444444, \"#bd3786\"], [0.5555555555555556, \"#d8576b\"], [0.6666666666666666, \"#ed7953\"], [0.7777777777777778, \"#fb9f3a\"], [0.8888888888888888, \"#fdca26\"], [1.0, \"#f0f921\"]]}, \"colorway\": [\"#636efa\", \"#EF553B\", \"#00cc96\", \"#ab63fa\", \"#FFA15A\", \"#19d3f3\", \"#FF6692\", \"#B6E880\", \"#FF97FF\", \"#FECB52\"], \"font\": {\"color\": \"#2a3f5f\"}, \"geo\": {\"bgcolor\": \"white\", \"lakecolor\": \"white\", \"landcolor\": \"#E5ECF6\", \"showlakes\": true, \"showland\": true, \"subunitcolor\": \"white\"}, \"hoverlabel\": {\"align\": \"left\"}, \"hovermode\": \"closest\", \"mapbox\": {\"style\": \"light\"}, \"paper_bgcolor\": \"white\", \"plot_bgcolor\": \"#E5ECF6\", \"polar\": {\"angularaxis\": {\"gridcolor\": \"white\", \"linecolor\": \"white\", \"ticks\": \"\"}, \"bgcolor\": \"#E5ECF6\", \"radialaxis\": {\"gridcolor\": \"white\", \"linecolor\": \"white\", \"ticks\": \"\"}}, \"scene\": {\"xaxis\": {\"backgroundcolor\": \"#E5ECF6\", \"gridcolor\": \"white\", \"gridwidth\": 2, \"linecolor\": \"white\", \"showbackground\": true, \"ticks\": \"\", \"zerolinecolor\": \"white\"}, \"yaxis\": {\"backgroundcolor\": \"#E5ECF6\", \"gridcolor\": \"white\", \"gridwidth\": 2, \"linecolor\": \"white\", \"showbackground\": true, \"ticks\": \"\", \"zerolinecolor\": \"white\"}, \"zaxis\": {\"backgroundcolor\": \"#E5ECF6\", \"gridcolor\": \"white\", \"gridwidth\": 2, \"linecolor\": \"white\", \"showbackground\": true, \"ticks\": \"\", \"zerolinecolor\": \"white\"}}, \"shapedefaults\": {\"line\": {\"color\": \"#2a3f5f\"}}, \"ternary\": {\"aaxis\": {\"gridcolor\": \"white\", \"linecolor\": \"white\", \"ticks\": \"\"}, \"baxis\": {\"gridcolor\": \"white\", \"linecolor\": \"white\", \"ticks\": \"\"}, \"bgcolor\": \"#E5ECF6\", \"caxis\": {\"gridcolor\": \"white\", \"linecolor\": \"white\", \"ticks\": \"\"}}, \"title\": {\"x\": 0.05}, \"xaxis\": {\"automargin\": true, \"gridcolor\": \"white\", \"linecolor\": \"white\", \"ticks\": \"\", \"title\": {\"standoff\": 15}, \"zerolinecolor\": \"white\", \"zerolinewidth\": 2}, \"yaxis\": {\"automargin\": true, \"gridcolor\": \"white\", \"linecolor\": \"white\", \"ticks\": \"\", \"title\": {\"standoff\": 15}, \"zerolinecolor\": \"white\", \"zerolinewidth\": 2}}}, \"title\": {\"font\": {\"color\": \"#4D5663\"}, \"text\": \"Incremental  R Squared for Top 15 Variables \"}, \"xaxis\": {\"gridcolor\": \"#E1E5ED\", \"showgrid\": true, \"tickfont\": {\"color\": \"#4D5663\"}, \"title\": {\"font\": {\"color\": \"#4D5663\"}, \"text\": \"Estimators\"}, \"zerolinecolor\": \"#E1E5ED\"}, \"yaxis\": {\"gridcolor\": \"#E1E5ED\", \"showgrid\": true, \"tickfont\": {\"color\": \"#4D5663\"}, \"title\": {\"font\": {\"color\": \"#4D5663\"}, \"text\": \"Incremental R2\"}, \"zerolinecolor\": \"#E1E5ED\"}},\n",
       "                        {\"responsive\": true}\n",
       "                    ).then(function(){\n",
       "                            \n",
       "var gd = document.getElementById('b4276a15-6143-488c-83e1-c5bf75588027');\n",
       "var x = new MutationObserver(function (mutations, observer) {{\n",
       "        var display = window.getComputedStyle(gd).display;\n",
       "        if (!display || display === 'none') {{\n",
       "            console.log([gd, 'removed!']);\n",
       "            Plotly.purge(gd);\n",
       "            observer.disconnect();\n",
       "        }}\n",
       "}});\n",
       "\n",
       "// Listen for the removal of the full notebook cells\n",
       "var notebookContainer = gd.closest('#notebook-container');\n",
       "if (notebookContainer) {{\n",
       "    x.observe(notebookContainer, {childList: true});\n",
       "}}\n",
       "\n",
       "// Listen for the clearing of the current output cell\n",
       "var outputEl = gd.closest('.output');\n",
       "if (outputEl) {{\n",
       "    x.observe(outputEl, {childList: true});\n",
       "}}\n",
       "\n",
       "                        })\n",
       "                };\n",
       "                });\n",
       "            </script>\n",
       "        </div>"
      ]
     },
     "metadata": {},
     "output_type": "display_data"
    },
    {
     "data": {
      "application/vnd.plotly.v1+json": {
       "config": {
        "linkText": "Export to plot.ly",
        "plotlyServerURL": "https://plot.ly",
        "showLink": false
       },
       "data": [
        {
         "labels": [
          "S_",
          "25",
          "53",
          "PA_",
          "80",
          "None_x",
          "A_",
          "Luxembourg",
          "United States",
          "TCP",
          "Dallas",
          "RA_",
          "INT",
          "UDP",
          "Duration"
         ],
         "marker": {
          "colors": [
           "rgba(255, 153, 51, 1.0)",
           "rgba(55, 128, 191, 1.0)",
           "rgba(50, 171, 96, 1.0)",
           "rgba(128, 0, 128, 1.0)",
           "rgba(219, 64, 82, 1.0)",
           "rgba(0, 128, 128, 1.0)",
           "rgba(255, 255, 51, 1.0)",
           "rgba(128, 128, 0, 1.0)",
           "rgba(251, 128, 114, 1.0)",
           "rgba(128, 177, 211, 1.0)",
           "rgba(128, 177, 211, 0.8999999999999999)",
           "rgba(255, 153, 51, 0.8999999999999999)",
           "rgba(55, 128, 191, 0.8999999999999999)",
           "rgba(50, 171, 96, 0.8999999999999999)",
           "rgba(128, 0, 128, 0.8999999999999999)"
          ]
         },
         "name": "",
         "type": "pie",
         "values": [
          27.37455772340209,
          14.999835179442291,
          14.898345372759932,
          10.455197594594923,
          5.061218176743024,
          4.146861891744194,
          3.4053502866894165,
          3.1928558971204732,
          3.0059856397712887,
          2.7176784151957,
          2.5906025778475605,
          2.3046123549098723,
          2.2832973728591144,
          2.280023357682607,
          1.283578159237506
         ]
        }
       ],
       "layout": {
        "legend": {
         "bgcolor": "#F5F6F9",
         "font": {
          "color": "#4D5663"
         }
        },
        "paper_bgcolor": "#F5F6F9",
        "plot_bgcolor": "#F5F6F9",
        "template": {
         "data": {
          "bar": [
           {
            "error_x": {
             "color": "#2a3f5f"
            },
            "error_y": {
             "color": "#2a3f5f"
            },
            "marker": {
             "line": {
              "color": "#E5ECF6",
              "width": 0.5
             }
            },
            "type": "bar"
           }
          ],
          "barpolar": [
           {
            "marker": {
             "line": {
              "color": "#E5ECF6",
              "width": 0.5
             }
            },
            "type": "barpolar"
           }
          ],
          "carpet": [
           {
            "aaxis": {
             "endlinecolor": "#2a3f5f",
             "gridcolor": "white",
             "linecolor": "white",
             "minorgridcolor": "white",
             "startlinecolor": "#2a3f5f"
            },
            "baxis": {
             "endlinecolor": "#2a3f5f",
             "gridcolor": "white",
             "linecolor": "white",
             "minorgridcolor": "white",
             "startlinecolor": "#2a3f5f"
            },
            "type": "carpet"
           }
          ],
          "choropleth": [
           {
            "colorbar": {
             "outlinewidth": 0,
             "ticks": ""
            },
            "type": "choropleth"
           }
          ],
          "contour": [
           {
            "colorbar": {
             "outlinewidth": 0,
             "ticks": ""
            },
            "colorscale": [
             [
              0,
              "#0d0887"
             ],
             [
              0.1111111111111111,
              "#46039f"
             ],
             [
              0.2222222222222222,
              "#7201a8"
             ],
             [
              0.3333333333333333,
              "#9c179e"
             ],
             [
              0.4444444444444444,
              "#bd3786"
             ],
             [
              0.5555555555555556,
              "#d8576b"
             ],
             [
              0.6666666666666666,
              "#ed7953"
             ],
             [
              0.7777777777777778,
              "#fb9f3a"
             ],
             [
              0.8888888888888888,
              "#fdca26"
             ],
             [
              1,
              "#f0f921"
             ]
            ],
            "type": "contour"
           }
          ],
          "contourcarpet": [
           {
            "colorbar": {
             "outlinewidth": 0,
             "ticks": ""
            },
            "type": "contourcarpet"
           }
          ],
          "heatmap": [
           {
            "colorbar": {
             "outlinewidth": 0,
             "ticks": ""
            },
            "colorscale": [
             [
              0,
              "#0d0887"
             ],
             [
              0.1111111111111111,
              "#46039f"
             ],
             [
              0.2222222222222222,
              "#7201a8"
             ],
             [
              0.3333333333333333,
              "#9c179e"
             ],
             [
              0.4444444444444444,
              "#bd3786"
             ],
             [
              0.5555555555555556,
              "#d8576b"
             ],
             [
              0.6666666666666666,
              "#ed7953"
             ],
             [
              0.7777777777777778,
              "#fb9f3a"
             ],
             [
              0.8888888888888888,
              "#fdca26"
             ],
             [
              1,
              "#f0f921"
             ]
            ],
            "type": "heatmap"
           }
          ],
          "heatmapgl": [
           {
            "colorbar": {
             "outlinewidth": 0,
             "ticks": ""
            },
            "colorscale": [
             [
              0,
              "#0d0887"
             ],
             [
              0.1111111111111111,
              "#46039f"
             ],
             [
              0.2222222222222222,
              "#7201a8"
             ],
             [
              0.3333333333333333,
              "#9c179e"
             ],
             [
              0.4444444444444444,
              "#bd3786"
             ],
             [
              0.5555555555555556,
              "#d8576b"
             ],
             [
              0.6666666666666666,
              "#ed7953"
             ],
             [
              0.7777777777777778,
              "#fb9f3a"
             ],
             [
              0.8888888888888888,
              "#fdca26"
             ],
             [
              1,
              "#f0f921"
             ]
            ],
            "type": "heatmapgl"
           }
          ],
          "histogram": [
           {
            "marker": {
             "colorbar": {
              "outlinewidth": 0,
              "ticks": ""
             }
            },
            "type": "histogram"
           }
          ],
          "histogram2d": [
           {
            "colorbar": {
             "outlinewidth": 0,
             "ticks": ""
            },
            "colorscale": [
             [
              0,
              "#0d0887"
             ],
             [
              0.1111111111111111,
              "#46039f"
             ],
             [
              0.2222222222222222,
              "#7201a8"
             ],
             [
              0.3333333333333333,
              "#9c179e"
             ],
             [
              0.4444444444444444,
              "#bd3786"
             ],
             [
              0.5555555555555556,
              "#d8576b"
             ],
             [
              0.6666666666666666,
              "#ed7953"
             ],
             [
              0.7777777777777778,
              "#fb9f3a"
             ],
             [
              0.8888888888888888,
              "#fdca26"
             ],
             [
              1,
              "#f0f921"
             ]
            ],
            "type": "histogram2d"
           }
          ],
          "histogram2dcontour": [
           {
            "colorbar": {
             "outlinewidth": 0,
             "ticks": ""
            },
            "colorscale": [
             [
              0,
              "#0d0887"
             ],
             [
              0.1111111111111111,
              "#46039f"
             ],
             [
              0.2222222222222222,
              "#7201a8"
             ],
             [
              0.3333333333333333,
              "#9c179e"
             ],
             [
              0.4444444444444444,
              "#bd3786"
             ],
             [
              0.5555555555555556,
              "#d8576b"
             ],
             [
              0.6666666666666666,
              "#ed7953"
             ],
             [
              0.7777777777777778,
              "#fb9f3a"
             ],
             [
              0.8888888888888888,
              "#fdca26"
             ],
             [
              1,
              "#f0f921"
             ]
            ],
            "type": "histogram2dcontour"
           }
          ],
          "mesh3d": [
           {
            "colorbar": {
             "outlinewidth": 0,
             "ticks": ""
            },
            "type": "mesh3d"
           }
          ],
          "parcoords": [
           {
            "line": {
             "colorbar": {
              "outlinewidth": 0,
              "ticks": ""
             }
            },
            "type": "parcoords"
           }
          ],
          "pie": [
           {
            "automargin": true,
            "type": "pie"
           }
          ],
          "scatter": [
           {
            "marker": {
             "colorbar": {
              "outlinewidth": 0,
              "ticks": ""
             }
            },
            "type": "scatter"
           }
          ],
          "scatter3d": [
           {
            "line": {
             "colorbar": {
              "outlinewidth": 0,
              "ticks": ""
             }
            },
            "marker": {
             "colorbar": {
              "outlinewidth": 0,
              "ticks": ""
             }
            },
            "type": "scatter3d"
           }
          ],
          "scattercarpet": [
           {
            "marker": {
             "colorbar": {
              "outlinewidth": 0,
              "ticks": ""
             }
            },
            "type": "scattercarpet"
           }
          ],
          "scattergeo": [
           {
            "marker": {
             "colorbar": {
              "outlinewidth": 0,
              "ticks": ""
             }
            },
            "type": "scattergeo"
           }
          ],
          "scattergl": [
           {
            "marker": {
             "colorbar": {
              "outlinewidth": 0,
              "ticks": ""
             }
            },
            "type": "scattergl"
           }
          ],
          "scattermapbox": [
           {
            "marker": {
             "colorbar": {
              "outlinewidth": 0,
              "ticks": ""
             }
            },
            "type": "scattermapbox"
           }
          ],
          "scatterpolar": [
           {
            "marker": {
             "colorbar": {
              "outlinewidth": 0,
              "ticks": ""
             }
            },
            "type": "scatterpolar"
           }
          ],
          "scatterpolargl": [
           {
            "marker": {
             "colorbar": {
              "outlinewidth": 0,
              "ticks": ""
             }
            },
            "type": "scatterpolargl"
           }
          ],
          "scatterternary": [
           {
            "marker": {
             "colorbar": {
              "outlinewidth": 0,
              "ticks": ""
             }
            },
            "type": "scatterternary"
           }
          ],
          "surface": [
           {
            "colorbar": {
             "outlinewidth": 0,
             "ticks": ""
            },
            "colorscale": [
             [
              0,
              "#0d0887"
             ],
             [
              0.1111111111111111,
              "#46039f"
             ],
             [
              0.2222222222222222,
              "#7201a8"
             ],
             [
              0.3333333333333333,
              "#9c179e"
             ],
             [
              0.4444444444444444,
              "#bd3786"
             ],
             [
              0.5555555555555556,
              "#d8576b"
             ],
             [
              0.6666666666666666,
              "#ed7953"
             ],
             [
              0.7777777777777778,
              "#fb9f3a"
             ],
             [
              0.8888888888888888,
              "#fdca26"
             ],
             [
              1,
              "#f0f921"
             ]
            ],
            "type": "surface"
           }
          ],
          "table": [
           {
            "cells": {
             "fill": {
              "color": "#EBF0F8"
             },
             "line": {
              "color": "white"
             }
            },
            "header": {
             "fill": {
              "color": "#C8D4E3"
             },
             "line": {
              "color": "white"
             }
            },
            "type": "table"
           }
          ]
         },
         "layout": {
          "annotationdefaults": {
           "arrowcolor": "#2a3f5f",
           "arrowhead": 0,
           "arrowwidth": 1
          },
          "coloraxis": {
           "colorbar": {
            "outlinewidth": 0,
            "ticks": ""
           }
          },
          "colorscale": {
           "diverging": [
            [
             0,
             "#8e0152"
            ],
            [
             0.1,
             "#c51b7d"
            ],
            [
             0.2,
             "#de77ae"
            ],
            [
             0.3,
             "#f1b6da"
            ],
            [
             0.4,
             "#fde0ef"
            ],
            [
             0.5,
             "#f7f7f7"
            ],
            [
             0.6,
             "#e6f5d0"
            ],
            [
             0.7,
             "#b8e186"
            ],
            [
             0.8,
             "#7fbc41"
            ],
            [
             0.9,
             "#4d9221"
            ],
            [
             1,
             "#276419"
            ]
           ],
           "sequential": [
            [
             0,
             "#0d0887"
            ],
            [
             0.1111111111111111,
             "#46039f"
            ],
            [
             0.2222222222222222,
             "#7201a8"
            ],
            [
             0.3333333333333333,
             "#9c179e"
            ],
            [
             0.4444444444444444,
             "#bd3786"
            ],
            [
             0.5555555555555556,
             "#d8576b"
            ],
            [
             0.6666666666666666,
             "#ed7953"
            ],
            [
             0.7777777777777778,
             "#fb9f3a"
            ],
            [
             0.8888888888888888,
             "#fdca26"
            ],
            [
             1,
             "#f0f921"
            ]
           ],
           "sequentialminus": [
            [
             0,
             "#0d0887"
            ],
            [
             0.1111111111111111,
             "#46039f"
            ],
            [
             0.2222222222222222,
             "#7201a8"
            ],
            [
             0.3333333333333333,
             "#9c179e"
            ],
            [
             0.4444444444444444,
             "#bd3786"
            ],
            [
             0.5555555555555556,
             "#d8576b"
            ],
            [
             0.6666666666666666,
             "#ed7953"
            ],
            [
             0.7777777777777778,
             "#fb9f3a"
            ],
            [
             0.8888888888888888,
             "#fdca26"
            ],
            [
             1,
             "#f0f921"
            ]
           ]
          },
          "colorway": [
           "#636efa",
           "#EF553B",
           "#00cc96",
           "#ab63fa",
           "#FFA15A",
           "#19d3f3",
           "#FF6692",
           "#B6E880",
           "#FF97FF",
           "#FECB52"
          ],
          "font": {
           "color": "#2a3f5f"
          },
          "geo": {
           "bgcolor": "white",
           "lakecolor": "white",
           "landcolor": "#E5ECF6",
           "showlakes": true,
           "showland": true,
           "subunitcolor": "white"
          },
          "hoverlabel": {
           "align": "left"
          },
          "hovermode": "closest",
          "mapbox": {
           "style": "light"
          },
          "paper_bgcolor": "white",
          "plot_bgcolor": "#E5ECF6",
          "polar": {
           "angularaxis": {
            "gridcolor": "white",
            "linecolor": "white",
            "ticks": ""
           },
           "bgcolor": "#E5ECF6",
           "radialaxis": {
            "gridcolor": "white",
            "linecolor": "white",
            "ticks": ""
           }
          },
          "scene": {
           "xaxis": {
            "backgroundcolor": "#E5ECF6",
            "gridcolor": "white",
            "gridwidth": 2,
            "linecolor": "white",
            "showbackground": true,
            "ticks": "",
            "zerolinecolor": "white"
           },
           "yaxis": {
            "backgroundcolor": "#E5ECF6",
            "gridcolor": "white",
            "gridwidth": 2,
            "linecolor": "white",
            "showbackground": true,
            "ticks": "",
            "zerolinecolor": "white"
           },
           "zaxis": {
            "backgroundcolor": "#E5ECF6",
            "gridcolor": "white",
            "gridwidth": 2,
            "linecolor": "white",
            "showbackground": true,
            "ticks": "",
            "zerolinecolor": "white"
           }
          },
          "shapedefaults": {
           "line": {
            "color": "#2a3f5f"
           }
          },
          "ternary": {
           "aaxis": {
            "gridcolor": "white",
            "linecolor": "white",
            "ticks": ""
           },
           "baxis": {
            "gridcolor": "white",
            "linecolor": "white",
            "ticks": ""
           },
           "bgcolor": "#E5ECF6",
           "caxis": {
            "gridcolor": "white",
            "linecolor": "white",
            "ticks": ""
           }
          },
          "title": {
           "x": 0.05
          },
          "xaxis": {
           "automargin": true,
           "gridcolor": "white",
           "linecolor": "white",
           "ticks": "",
           "title": {
            "standoff": 15
           },
           "zerolinecolor": "white",
           "zerolinewidth": 2
          },
          "yaxis": {
           "automargin": true,
           "gridcolor": "white",
           "linecolor": "white",
           "ticks": "",
           "title": {
            "standoff": 15
           },
           "zerolinecolor": "white",
           "zerolinewidth": 2
          }
         }
        },
        "title": {
         "font": {
          "color": "#4D5663"
         },
         "text": "Percentage Relative Importance for Top 15 Variables "
        }
       }
      },
      "text/html": [
       "<div>\n",
       "        \n",
       "        \n",
       "            <div id=\"29ee28a0-b38f-4d1b-b40e-62339d6f5b88\" class=\"plotly-graph-div\" style=\"height:525px; width:100%;\"></div>\n",
       "            <script type=\"text/javascript\">\n",
       "                require([\"plotly\"], function(Plotly) {\n",
       "                    window.PLOTLYENV=window.PLOTLYENV || {};\n",
       "                    \n",
       "                if (document.getElementById(\"29ee28a0-b38f-4d1b-b40e-62339d6f5b88\")) {\n",
       "                    Plotly.newPlot(\n",
       "                        '29ee28a0-b38f-4d1b-b40e-62339d6f5b88',\n",
       "                        [{\"labels\": [\"S_\", \"25\", \"53\", \"PA_\", \"80\", \"None_x\", \"A_\", \"Luxembourg\", \"United States\", \"TCP\", \"Dallas\", \"RA_\", \"INT\", \"UDP\", \"Duration\"], \"marker\": {\"colors\": [\"rgba(255, 153, 51, 1.0)\", \"rgba(55, 128, 191, 1.0)\", \"rgba(50, 171, 96, 1.0)\", \"rgba(128, 0, 128, 1.0)\", \"rgba(219, 64, 82, 1.0)\", \"rgba(0, 128, 128, 1.0)\", \"rgba(255, 255, 51, 1.0)\", \"rgba(128, 128, 0, 1.0)\", \"rgba(251, 128, 114, 1.0)\", \"rgba(128, 177, 211, 1.0)\", \"rgba(128, 177, 211, 0.8999999999999999)\", \"rgba(255, 153, 51, 0.8999999999999999)\", \"rgba(55, 128, 191, 0.8999999999999999)\", \"rgba(50, 171, 96, 0.8999999999999999)\", \"rgba(128, 0, 128, 0.8999999999999999)\"]}, \"name\": \"\", \"type\": \"pie\", \"values\": [27.37455772340209, 14.999835179442291, 14.898345372759932, 10.455197594594923, 5.061218176743024, 4.146861891744194, 3.4053502866894165, 3.1928558971204732, 3.0059856397712887, 2.7176784151957, 2.5906025778475605, 2.3046123549098723, 2.2832973728591144, 2.280023357682607, 1.283578159237506]}],\n",
       "                        {\"legend\": {\"bgcolor\": \"#F5F6F9\", \"font\": {\"color\": \"#4D5663\"}}, \"paper_bgcolor\": \"#F5F6F9\", \"plot_bgcolor\": \"#F5F6F9\", \"template\": {\"data\": {\"bar\": [{\"error_x\": {\"color\": \"#2a3f5f\"}, \"error_y\": {\"color\": \"#2a3f5f\"}, \"marker\": {\"line\": {\"color\": \"#E5ECF6\", \"width\": 0.5}}, \"type\": \"bar\"}], \"barpolar\": [{\"marker\": {\"line\": {\"color\": \"#E5ECF6\", \"width\": 0.5}}, \"type\": \"barpolar\"}], \"carpet\": [{\"aaxis\": {\"endlinecolor\": \"#2a3f5f\", \"gridcolor\": \"white\", \"linecolor\": \"white\", \"minorgridcolor\": \"white\", \"startlinecolor\": \"#2a3f5f\"}, \"baxis\": {\"endlinecolor\": \"#2a3f5f\", \"gridcolor\": \"white\", \"linecolor\": \"white\", \"minorgridcolor\": \"white\", \"startlinecolor\": \"#2a3f5f\"}, \"type\": \"carpet\"}], \"choropleth\": [{\"colorbar\": {\"outlinewidth\": 0, \"ticks\": \"\"}, \"type\": \"choropleth\"}], \"contour\": [{\"colorbar\": {\"outlinewidth\": 0, \"ticks\": \"\"}, \"colorscale\": [[0.0, \"#0d0887\"], [0.1111111111111111, \"#46039f\"], [0.2222222222222222, \"#7201a8\"], [0.3333333333333333, \"#9c179e\"], [0.4444444444444444, \"#bd3786\"], [0.5555555555555556, \"#d8576b\"], [0.6666666666666666, \"#ed7953\"], [0.7777777777777778, \"#fb9f3a\"], [0.8888888888888888, \"#fdca26\"], [1.0, \"#f0f921\"]], \"type\": \"contour\"}], \"contourcarpet\": [{\"colorbar\": {\"outlinewidth\": 0, \"ticks\": \"\"}, \"type\": \"contourcarpet\"}], \"heatmap\": [{\"colorbar\": {\"outlinewidth\": 0, \"ticks\": \"\"}, \"colorscale\": [[0.0, \"#0d0887\"], [0.1111111111111111, \"#46039f\"], [0.2222222222222222, \"#7201a8\"], [0.3333333333333333, \"#9c179e\"], [0.4444444444444444, \"#bd3786\"], [0.5555555555555556, \"#d8576b\"], [0.6666666666666666, \"#ed7953\"], [0.7777777777777778, \"#fb9f3a\"], [0.8888888888888888, \"#fdca26\"], [1.0, \"#f0f921\"]], \"type\": \"heatmap\"}], \"heatmapgl\": [{\"colorbar\": {\"outlinewidth\": 0, \"ticks\": \"\"}, \"colorscale\": [[0.0, \"#0d0887\"], [0.1111111111111111, \"#46039f\"], [0.2222222222222222, \"#7201a8\"], [0.3333333333333333, \"#9c179e\"], [0.4444444444444444, \"#bd3786\"], [0.5555555555555556, \"#d8576b\"], [0.6666666666666666, \"#ed7953\"], [0.7777777777777778, \"#fb9f3a\"], [0.8888888888888888, \"#fdca26\"], [1.0, \"#f0f921\"]], \"type\": \"heatmapgl\"}], \"histogram\": [{\"marker\": {\"colorbar\": {\"outlinewidth\": 0, \"ticks\": \"\"}}, \"type\": \"histogram\"}], \"histogram2d\": [{\"colorbar\": {\"outlinewidth\": 0, \"ticks\": \"\"}, \"colorscale\": [[0.0, \"#0d0887\"], [0.1111111111111111, \"#46039f\"], [0.2222222222222222, \"#7201a8\"], [0.3333333333333333, \"#9c179e\"], [0.4444444444444444, \"#bd3786\"], [0.5555555555555556, \"#d8576b\"], [0.6666666666666666, \"#ed7953\"], [0.7777777777777778, \"#fb9f3a\"], [0.8888888888888888, \"#fdca26\"], [1.0, \"#f0f921\"]], \"type\": \"histogram2d\"}], \"histogram2dcontour\": [{\"colorbar\": {\"outlinewidth\": 0, \"ticks\": \"\"}, \"colorscale\": [[0.0, \"#0d0887\"], [0.1111111111111111, \"#46039f\"], [0.2222222222222222, \"#7201a8\"], [0.3333333333333333, \"#9c179e\"], [0.4444444444444444, \"#bd3786\"], [0.5555555555555556, \"#d8576b\"], [0.6666666666666666, \"#ed7953\"], [0.7777777777777778, \"#fb9f3a\"], [0.8888888888888888, \"#fdca26\"], [1.0, \"#f0f921\"]], \"type\": \"histogram2dcontour\"}], \"mesh3d\": [{\"colorbar\": {\"outlinewidth\": 0, \"ticks\": \"\"}, \"type\": \"mesh3d\"}], \"parcoords\": [{\"line\": {\"colorbar\": {\"outlinewidth\": 0, \"ticks\": \"\"}}, \"type\": \"parcoords\"}], \"pie\": [{\"automargin\": true, \"type\": \"pie\"}], \"scatter\": [{\"marker\": {\"colorbar\": {\"outlinewidth\": 0, \"ticks\": \"\"}}, \"type\": \"scatter\"}], \"scatter3d\": [{\"line\": {\"colorbar\": {\"outlinewidth\": 0, \"ticks\": \"\"}}, \"marker\": {\"colorbar\": {\"outlinewidth\": 0, \"ticks\": \"\"}}, \"type\": \"scatter3d\"}], \"scattercarpet\": [{\"marker\": {\"colorbar\": {\"outlinewidth\": 0, \"ticks\": \"\"}}, \"type\": \"scattercarpet\"}], \"scattergeo\": [{\"marker\": {\"colorbar\": {\"outlinewidth\": 0, \"ticks\": \"\"}}, \"type\": \"scattergeo\"}], \"scattergl\": [{\"marker\": {\"colorbar\": {\"outlinewidth\": 0, \"ticks\": \"\"}}, \"type\": \"scattergl\"}], \"scattermapbox\": [{\"marker\": {\"colorbar\": {\"outlinewidth\": 0, \"ticks\": \"\"}}, \"type\": \"scattermapbox\"}], \"scatterpolar\": [{\"marker\": {\"colorbar\": {\"outlinewidth\": 0, \"ticks\": \"\"}}, \"type\": \"scatterpolar\"}], \"scatterpolargl\": [{\"marker\": {\"colorbar\": {\"outlinewidth\": 0, \"ticks\": \"\"}}, \"type\": \"scatterpolargl\"}], \"scatterternary\": [{\"marker\": {\"colorbar\": {\"outlinewidth\": 0, \"ticks\": \"\"}}, \"type\": \"scatterternary\"}], \"surface\": [{\"colorbar\": {\"outlinewidth\": 0, \"ticks\": \"\"}, \"colorscale\": [[0.0, \"#0d0887\"], [0.1111111111111111, \"#46039f\"], [0.2222222222222222, \"#7201a8\"], [0.3333333333333333, \"#9c179e\"], [0.4444444444444444, \"#bd3786\"], [0.5555555555555556, \"#d8576b\"], [0.6666666666666666, \"#ed7953\"], [0.7777777777777778, \"#fb9f3a\"], [0.8888888888888888, \"#fdca26\"], [1.0, \"#f0f921\"]], \"type\": \"surface\"}], \"table\": [{\"cells\": {\"fill\": {\"color\": \"#EBF0F8\"}, \"line\": {\"color\": \"white\"}}, \"header\": {\"fill\": {\"color\": \"#C8D4E3\"}, \"line\": {\"color\": \"white\"}}, \"type\": \"table\"}]}, \"layout\": {\"annotationdefaults\": {\"arrowcolor\": \"#2a3f5f\", \"arrowhead\": 0, \"arrowwidth\": 1}, \"coloraxis\": {\"colorbar\": {\"outlinewidth\": 0, \"ticks\": \"\"}}, \"colorscale\": {\"diverging\": [[0, \"#8e0152\"], [0.1, \"#c51b7d\"], [0.2, \"#de77ae\"], [0.3, \"#f1b6da\"], [0.4, \"#fde0ef\"], [0.5, \"#f7f7f7\"], [0.6, \"#e6f5d0\"], [0.7, \"#b8e186\"], [0.8, \"#7fbc41\"], [0.9, \"#4d9221\"], [1, \"#276419\"]], \"sequential\": [[0.0, \"#0d0887\"], [0.1111111111111111, \"#46039f\"], [0.2222222222222222, \"#7201a8\"], [0.3333333333333333, \"#9c179e\"], [0.4444444444444444, \"#bd3786\"], [0.5555555555555556, \"#d8576b\"], [0.6666666666666666, \"#ed7953\"], [0.7777777777777778, \"#fb9f3a\"], [0.8888888888888888, \"#fdca26\"], [1.0, \"#f0f921\"]], \"sequentialminus\": [[0.0, \"#0d0887\"], [0.1111111111111111, \"#46039f\"], [0.2222222222222222, \"#7201a8\"], [0.3333333333333333, \"#9c179e\"], [0.4444444444444444, \"#bd3786\"], [0.5555555555555556, \"#d8576b\"], [0.6666666666666666, \"#ed7953\"], [0.7777777777777778, \"#fb9f3a\"], [0.8888888888888888, \"#fdca26\"], [1.0, \"#f0f921\"]]}, \"colorway\": [\"#636efa\", \"#EF553B\", \"#00cc96\", \"#ab63fa\", \"#FFA15A\", \"#19d3f3\", \"#FF6692\", \"#B6E880\", \"#FF97FF\", \"#FECB52\"], \"font\": {\"color\": \"#2a3f5f\"}, \"geo\": {\"bgcolor\": \"white\", \"lakecolor\": \"white\", \"landcolor\": \"#E5ECF6\", \"showlakes\": true, \"showland\": true, \"subunitcolor\": \"white\"}, \"hoverlabel\": {\"align\": \"left\"}, \"hovermode\": \"closest\", \"mapbox\": {\"style\": \"light\"}, \"paper_bgcolor\": \"white\", \"plot_bgcolor\": \"#E5ECF6\", \"polar\": {\"angularaxis\": {\"gridcolor\": \"white\", \"linecolor\": \"white\", \"ticks\": \"\"}, \"bgcolor\": \"#E5ECF6\", \"radialaxis\": {\"gridcolor\": \"white\", \"linecolor\": \"white\", \"ticks\": \"\"}}, \"scene\": {\"xaxis\": {\"backgroundcolor\": \"#E5ECF6\", \"gridcolor\": \"white\", \"gridwidth\": 2, \"linecolor\": \"white\", \"showbackground\": true, \"ticks\": \"\", \"zerolinecolor\": \"white\"}, \"yaxis\": {\"backgroundcolor\": \"#E5ECF6\", \"gridcolor\": \"white\", \"gridwidth\": 2, \"linecolor\": \"white\", \"showbackground\": true, \"ticks\": \"\", \"zerolinecolor\": \"white\"}, \"zaxis\": {\"backgroundcolor\": \"#E5ECF6\", \"gridcolor\": \"white\", \"gridwidth\": 2, \"linecolor\": \"white\", \"showbackground\": true, \"ticks\": \"\", \"zerolinecolor\": \"white\"}}, \"shapedefaults\": {\"line\": {\"color\": \"#2a3f5f\"}}, \"ternary\": {\"aaxis\": {\"gridcolor\": \"white\", \"linecolor\": \"white\", \"ticks\": \"\"}, \"baxis\": {\"gridcolor\": \"white\", \"linecolor\": \"white\", \"ticks\": \"\"}, \"bgcolor\": \"#E5ECF6\", \"caxis\": {\"gridcolor\": \"white\", \"linecolor\": \"white\", \"ticks\": \"\"}}, \"title\": {\"x\": 0.05}, \"xaxis\": {\"automargin\": true, \"gridcolor\": \"white\", \"linecolor\": \"white\", \"ticks\": \"\", \"title\": {\"standoff\": 15}, \"zerolinecolor\": \"white\", \"zerolinewidth\": 2}, \"yaxis\": {\"automargin\": true, \"gridcolor\": \"white\", \"linecolor\": \"white\", \"ticks\": \"\", \"title\": {\"standoff\": 15}, \"zerolinecolor\": \"white\", \"zerolinewidth\": 2}}}, \"title\": {\"font\": {\"color\": \"#4D5663\"}, \"text\": \"Percentage Relative Importance for Top 15 Variables \"}},\n",
       "                        {\"responsive\": true}\n",
       "                    ).then(function(){\n",
       "                            \n",
       "var gd = document.getElementById('29ee28a0-b38f-4d1b-b40e-62339d6f5b88');\n",
       "var x = new MutationObserver(function (mutations, observer) {{\n",
       "        var display = window.getComputedStyle(gd).display;\n",
       "        if (!display || display === 'none') {{\n",
       "            console.log([gd, 'removed!']);\n",
       "            Plotly.purge(gd);\n",
       "            observer.disconnect();\n",
       "        }}\n",
       "}});\n",
       "\n",
       "// Listen for the removal of the full notebook cells\n",
       "var notebookContainer = gd.closest('#notebook-container');\n",
       "if (notebookContainer) {{\n",
       "    x.observe(notebookContainer, {childList: true});\n",
       "}}\n",
       "\n",
       "// Listen for the clearing of the current output cell\n",
       "var outputEl = gd.closest('.output');\n",
       "if (outputEl) {{\n",
       "    x.observe(outputEl, {childList: true});\n",
       "}}\n",
       "\n",
       "                        })\n",
       "                };\n",
       "                });\n",
       "            </script>\n",
       "        </div>"
      ]
     },
     "metadata": {},
     "output_type": "display_data"
    },
    {
     "data": {
      "text/html": [
       "\n",
       "\n",
       "\n",
       "\n",
       "\n",
       "\n",
       "  <div class=\"bk-root\" id=\"fa37843f-013c-430c-a298-7e8eb6638b26\" data-root-id=\"1080\"></div>\n"
      ]
     },
     "metadata": {},
     "output_type": "display_data"
    },
    {
     "data": {
      "application/javascript": [
       "(function(root) {\n",
       "  function embed_document(root) {\n",
       "    \n",
       "  var docs_json = {\"52f6e602-ec76-4803-885e-4ca21ad78bec\":{\"roots\":{\"references\":[{\"attributes\":{\"below\":[{\"id\":\"1091\",\"type\":\"CategoricalAxis\"}],\"center\":[{\"id\":\"1094\",\"type\":\"Grid\"},{\"id\":\"1099\",\"type\":\"Grid\"},{\"id\":\"1112\",\"type\":\"LabelSet\"}],\"left\":[{\"id\":\"1095\",\"type\":\"LinearAxis\"}],\"plot_width\":1000,\"renderers\":[{\"id\":\"1108\",\"type\":\"GlyphRenderer\"}],\"title\":{\"id\":\"1081\",\"type\":\"Title\"},\"toolbar\":{\"id\":\"1102\",\"type\":\"Toolbar\"},\"x_range\":{\"id\":\"1083\",\"type\":\"FactorRange\"},\"x_scale\":{\"id\":\"1087\",\"type\":\"CategoricalScale\"},\"y_range\":{\"id\":\"1085\",\"type\":\"Range1d\"},\"y_scale\":{\"id\":\"1089\",\"type\":\"LinearScale\"}},\"id\":\"1080\",\"subtype\":\"Figure\",\"type\":\"Plot\"},{\"attributes\":{},\"id\":\"1124\",\"type\":\"UnionRenderers\"},{\"attributes\":{\"source\":{\"id\":\"1079\",\"type\":\"ColumnDataSource\"}},\"id\":\"1109\",\"type\":\"CDSView\"},{\"attributes\":{\"callback\":null,\"data\":{\"Percentage Relative Importance\":{\"__ndarray__\":\"6HnUA+NfO0CbMIpl6v8tQJ8Iuezzyy1AkQG8qA/pJEDOIEz6rz4UQLBHuPZilhBAygqGSig+C0APyVcI+IoJQK+B+DJCDAhAMXxSLs69BUD8TibYjbkEQBNdMprYbwJA6se7aTFEAkA859rifD0CQDuPfECJifQ/AQAAAAAAWUA=\",\"dtype\":\"float64\",\"shape\":[16]},\"bar_label\":[\"27.4\",\"15.0\",\"14.9\",\"10.5\",\"5.1\",\"4.1\",\"3.4\",\"3.2\",\"3.0\",\"2.7\",\"2.6\",\"2.3\",\"2.3\",\"2.3\",\"1.3\",\"100.0\"],\"color\":[\"#1de9b6\",\"#1de9b6\",\"#1de9b6\",\"#1de9b6\",\"#1de9b6\",\"#1de9b6\",\"#1de9b6\",\"#1de9b6\",\"#1de9b6\",\"#1de9b6\",\"#1de9b6\",\"#1de9b6\",\"#1de9b6\",\"#1de9b6\",\"#1de9b6\",\"#1de9b6\"],\"index\":[\"S_\",\"25\",\"53\",\"PA_\",\"80\",\"None_x\",\"A_\",\"Luxembourg\",\"United States\",\"TCP\",\"Dallas\",\"RA_\",\"INT\",\"UDP\",\"Duration\",\"net\"],\"label_pos\":{\"__ndarray__\":\"6HnUA+NfO0AbyUwb7C9FQEMLexbpokxA1AVVgJbuUEDhx/l/gTJSQFxMZa/nO1NAsny58dgVVED6OvyxMOJUQAf/k8OSolVA6ZIGNYFQVkBhxcejTfZWQEpYmWjMiVdAiTbn8+0bWEDDDf7a2a1YQAAAAAAAAFlAAQAAAAAAWUA=\",\"dtype\":\"float64\",\"shape\":[16]},\"running_total\":{\"__ndarray__\":\"6HnUA+NfO0AbyUwb7C9FQEMLexbpokxA1AVVgJbuUEDhx/l/gTJSQFxMZa/nO1NAsny58dgVVED6OvyxMOJUQAf/k8OSolVA6ZIGNYFQVkBhxcejTfZWQEpYmWjMiVdAiTbn8+0bWEDDDf7a2a1YQAAAAAAAAFlAAQAAAAAAWUA=\",\"dtype\":\"float64\",\"shape\":[16]},\"y_start\":{\"__ndarray__\":\"AAAAAAAAAADoedQD4187QBvJTBvsL0VARAt7FumiTEDUBVWAlu5QQOHH+X+BMlJAXExlr+c7U0CyfLnx2BVUQPo6/LEw4lRAB/+Tw5KiVUDpkgY1gVBWQGHFx6NN9lZASliZaMyJV0CJNufz7RtYQMMN/trZrVhAAAAAAAAAAAA=\",\"dtype\":\"float64\",\"shape\":[16]}},\"selected\":{\"id\":\"1125\",\"type\":\"Selection\"},\"selection_policy\":{\"id\":\"1124\",\"type\":\"UnionRenderers\"}},\"id\":\"1079\",\"type\":\"ColumnDataSource\"},{\"attributes\":{\"line_color\":{\"field\":\"color\"},\"line_width\":{\"value\":35},\"x0\":{\"field\":\"index\"},\"x1\":{\"field\":\"index\"},\"y0\":{\"field\":\"y_start\"},\"y1\":{\"field\":\"running_total\"}},\"id\":\"1106\",\"type\":\"Segment\"},{\"attributes\":{},\"id\":\"1121\",\"type\":\"CategoricalTickFormatter\"},{\"attributes\":{},\"id\":\"1089\",\"type\":\"LinearScale\"},{\"attributes\":{\"format\":\"(0 a)\"},\"id\":\"1110\",\"type\":\"NumeralTickFormatter\"},{\"attributes\":{},\"id\":\"1092\",\"type\":\"CategoricalTicker\"},{\"attributes\":{},\"id\":\"1087\",\"type\":\"CategoricalScale\"},{\"attributes\":{\"callback\":null,\"factors\":[\"S_\",\"25\",\"53\",\"PA_\",\"80\",\"None_x\",\"A_\",\"Luxembourg\",\"United States\",\"TCP\",\"Dallas\",\"RA_\",\"INT\",\"UDP\",\"Duration\",\"net\"]},\"id\":\"1083\",\"type\":\"FactorRange\"},{\"attributes\":{\"callback\":null,\"end\":110.00000000000001},\"id\":\"1085\",\"type\":\"Range1d\"},{\"attributes\":{\"line_alpha\":{\"value\":0.1},\"line_color\":{\"value\":\"#1f77b4\"},\"line_width\":{\"value\":35},\"x0\":{\"field\":\"index\"},\"x1\":{\"field\":\"index\"},\"y0\":{\"field\":\"y_start\"},\"y1\":{\"field\":\"running_total\"}},\"id\":\"1107\",\"type\":\"Segment\"},{\"attributes\":{\"text\":\"Percentage Relative Importance Waterfall\"},\"id\":\"1081\",\"type\":\"Title\"},{\"attributes\":{\"active_drag\":\"auto\",\"active_inspect\":\"auto\",\"active_multi\":null,\"active_scroll\":\"auto\",\"active_tap\":\"auto\",\"tools\":[{\"id\":\"1100\",\"type\":\"ResetTool\"},{\"id\":\"1101\",\"type\":\"SaveTool\"}]},\"id\":\"1102\",\"type\":\"Toolbar\"},{\"attributes\":{},\"id\":\"1096\",\"type\":\"BasicTicker\"},{\"attributes\":{\"axis_label\":\"Predictors\",\"axis_label_text_font_size\":{\"value\":\"12pt\"},\"formatter\":{\"id\":\"1121\",\"type\":\"CategoricalTickFormatter\"},\"major_label_orientation\":-0.7853981633974483,\"ticker\":{\"id\":\"1092\",\"type\":\"CategoricalTicker\"}},\"id\":\"1091\",\"type\":\"CategoricalAxis\"},{\"attributes\":{},\"id\":\"1100\",\"type\":\"ResetTool\"},{\"attributes\":{},\"id\":\"1125\",\"type\":\"Selection\"},{\"attributes\":{\"axis_label\":\"Percentage Relative Importance(%)\",\"axis_label_text_font_size\":{\"value\":\"12pt\"},\"formatter\":{\"id\":\"1110\",\"type\":\"NumeralTickFormatter\"},\"ticker\":{\"id\":\"1096\",\"type\":\"BasicTicker\"}},\"id\":\"1095\",\"type\":\"LinearAxis\"},{\"attributes\":{\"dimension\":1,\"grid_line_alpha\":0.4,\"ticker\":{\"id\":\"1096\",\"type\":\"BasicTicker\"}},\"id\":\"1099\",\"type\":\"Grid\"},{\"attributes\":{\"level\":\"glyph\",\"source\":{\"id\":\"1079\",\"type\":\"ColumnDataSource\"},\"text\":{\"field\":\"bar_label\"},\"text_font_size\":{\"value\":\"11pt\"},\"x\":{\"field\":\"index\"},\"x_offset\":{\"value\":-14},\"y\":{\"field\":\"label_pos\"}},\"id\":\"1112\",\"type\":\"LabelSet\"},{\"attributes\":{},\"id\":\"1101\",\"type\":\"SaveTool\"},{\"attributes\":{\"data_source\":{\"id\":\"1079\",\"type\":\"ColumnDataSource\"},\"glyph\":{\"id\":\"1106\",\"type\":\"Segment\"},\"hover_glyph\":null,\"muted_glyph\":null,\"nonselection_glyph\":{\"id\":\"1107\",\"type\":\"Segment\"},\"selection_glyph\":null,\"view\":{\"id\":\"1109\",\"type\":\"CDSView\"}},\"id\":\"1108\",\"type\":\"GlyphRenderer\"},{\"attributes\":{\"grid_line_alpha\":0.4,\"ticker\":{\"id\":\"1092\",\"type\":\"CategoricalTicker\"}},\"id\":\"1094\",\"type\":\"Grid\"}],\"root_ids\":[\"1080\"]},\"title\":\"Bokeh Application\",\"version\":\"1.3.4\"}};\n",
       "  var render_items = [{\"docid\":\"52f6e602-ec76-4803-885e-4ca21ad78bec\",\"roots\":{\"1080\":\"fa37843f-013c-430c-a298-7e8eb6638b26\"}}];\n",
       "  root.Bokeh.embed.embed_items_notebook(docs_json, render_items);\n",
       "\n",
       "  }\n",
       "  if (root.Bokeh !== undefined) {\n",
       "    embed_document(root);\n",
       "  } else {\n",
       "    var attempts = 0;\n",
       "    var timer = setInterval(function(root) {\n",
       "      if (root.Bokeh !== undefined) {\n",
       "        embed_document(root);\n",
       "        clearInterval(timer);\n",
       "      }\n",
       "      attempts++;\n",
       "      if (attempts > 100) {\n",
       "        console.log(\"Bokeh: ERROR: Unable to run BokehJS code because BokehJS library is missing\");\n",
       "        clearInterval(timer);\n",
       "      }\n",
       "    }, 10, root)\n",
       "  }\n",
       "})(window);"
      ],
      "application/vnd.bokehjs_exec.v0+json": ""
     },
     "metadata": {
      "application/vnd.bokehjs_exec.v0+json": {
       "id": "1080"
      }
     },
     "output_type": "display_data"
    }
   ],
   "source": [
    "# Notice how the distribution of relative importance is much less concentrated than before.  Also notice how more technical\n",
    "# indicators, such as SYN (S_) and ports, are more prominant. \n",
    "dominance_regression.plot_incremental_rsquare()"
   ]
  },
  {
   "cell_type": "code",
   "execution_count": null,
   "metadata": {},
   "outputs": [],
   "source": [
    "# In case you cannot see the above relative importance bar chart, pie chart, and waterfall, I am manually including the \n",
    "# images below. There is a bug with the dominance_analysis library.  The above images were rendered using SciKit Leanr \n",
    "# v0.22.2, not v0.19.2.  As such, they may not render on computers running SciKit Learn v0.19.2. "
   ]
  },
  {
   "cell_type": "markdown",
   "metadata": {},
   "source": [
    "<img src=\"Relative_Importance_Bar_Chart_WO_City_Country.png\" width=1000 height=200>"
   ]
  },
  {
   "cell_type": "markdown",
   "metadata": {},
   "source": [
    "<img src=\"Relative_Importance_Pie_Chart_WO_City_Country.png\" width=1000 height=200>"
   ]
  },
  {
   "cell_type": "markdown",
   "metadata": {},
   "source": [
    "<img src=\"Relative_Importance_Waterfall_WO_City_Country.png\" width=1000 height=200>"
   ]
  },
  {
   "cell_type": "code",
   "execution_count": null,
   "metadata": {},
   "outputs": [],
   "source": []
  },
  {
   "cell_type": "code",
   "execution_count": 169,
   "metadata": {
    "ExecuteTime": {
     "end_time": "2020-04-26T16:17:57.075922Z",
     "start_time": "2020-04-26T16:17:57.053981Z"
    }
   },
   "outputs": [
    {
     "data": {
      "text/html": [
       "<div>\n",
       "<style scoped>\n",
       "    .dataframe tbody tr th:only-of-type {\n",
       "        vertical-align: middle;\n",
       "    }\n",
       "\n",
       "    .dataframe tbody tr th {\n",
       "        vertical-align: top;\n",
       "    }\n",
       "\n",
       "    .dataframe thead th {\n",
       "        text-align: right;\n",
       "    }\n",
       "</style>\n",
       "<table border=\"1\" class=\"dataframe\">\n",
       "  <thead>\n",
       "    <tr style=\"text-align: right;\">\n",
       "      <th></th>\n",
       "      <th>Interactional Dominance</th>\n",
       "      <th>Individual Dominance</th>\n",
       "      <th>Average Partial Dominance</th>\n",
       "      <th>Total Dominance</th>\n",
       "      <th>Percentage Relative Importance</th>\n",
       "    </tr>\n",
       "  </thead>\n",
       "  <tbody>\n",
       "    <tr>\n",
       "      <td>S_</td>\n",
       "      <td>0.0337228</td>\n",
       "      <td>0.20777</td>\n",
       "      <td>0.112612</td>\n",
       "      <td>0.113696</td>\n",
       "      <td>27.3746</td>\n",
       "    </tr>\n",
       "    <tr>\n",
       "      <td>25</td>\n",
       "      <td>0.000968924</td>\n",
       "      <td>0.157271</td>\n",
       "      <td>0.059712</td>\n",
       "      <td>0.0622997</td>\n",
       "      <td>14.9998</td>\n",
       "    </tr>\n",
       "    <tr>\n",
       "      <td>53</td>\n",
       "      <td>0.0676842</td>\n",
       "      <td>0.0281776</td>\n",
       "      <td>0.064024</td>\n",
       "      <td>0.0618781</td>\n",
       "      <td>14.8983</td>\n",
       "    </tr>\n",
       "    <tr>\n",
       "      <td>PA_</td>\n",
       "      <td>0.0129373</td>\n",
       "      <td>0.0595586</td>\n",
       "      <td>0.044528</td>\n",
       "      <td>0.0434242</td>\n",
       "      <td>10.4552</td>\n",
       "    </tr>\n",
       "    <tr>\n",
       "      <td>80</td>\n",
       "      <td>0.00764158</td>\n",
       "      <td>0.0343153</td>\n",
       "      <td>0.021028</td>\n",
       "      <td>0.021021</td>\n",
       "      <td>5.06122</td>\n",
       "    </tr>\n",
       "    <tr>\n",
       "      <td>None_x</td>\n",
       "      <td>0.00236778</td>\n",
       "      <td>0.0257861</td>\n",
       "      <td>0.017707</td>\n",
       "      <td>0.0172234</td>\n",
       "      <td>4.14686</td>\n",
       "    </tr>\n",
       "    <tr>\n",
       "      <td>A_</td>\n",
       "      <td>0.00622813</td>\n",
       "      <td>0.020924</td>\n",
       "      <td>0.014231</td>\n",
       "      <td>0.0141436</td>\n",
       "      <td>3.40535</td>\n",
       "    </tr>\n",
       "    <tr>\n",
       "      <td>Luxembourg</td>\n",
       "      <td>7.10631e-05</td>\n",
       "      <td>0.0201833</td>\n",
       "      <td>0.013743</td>\n",
       "      <td>0.0132611</td>\n",
       "      <td>3.19286</td>\n",
       "    </tr>\n",
       "    <tr>\n",
       "      <td>United States</td>\n",
       "      <td>2.91744e-05</td>\n",
       "      <td>0.0312796</td>\n",
       "      <td>0.011997</td>\n",
       "      <td>0.0124849</td>\n",
       "      <td>3.00599</td>\n",
       "    </tr>\n",
       "    <tr>\n",
       "      <td>TCP</td>\n",
       "      <td>0.0012071</td>\n",
       "      <td>0.0316881</td>\n",
       "      <td>0.010494</td>\n",
       "      <td>0.0112875</td>\n",
       "      <td>2.71768</td>\n",
       "    </tr>\n",
       "    <tr>\n",
       "      <td>Dallas</td>\n",
       "      <td>0.000497221</td>\n",
       "      <td>0.0269722</td>\n",
       "      <td>0.010302</td>\n",
       "      <td>0.0107597</td>\n",
       "      <td>2.5906</td>\n",
       "    </tr>\n",
       "    <tr>\n",
       "      <td>RA_</td>\n",
       "      <td>0.000704285</td>\n",
       "      <td>0.0238535</td>\n",
       "      <td>0.009155</td>\n",
       "      <td>0.00957188</td>\n",
       "      <td>2.30461</td>\n",
       "    </tr>\n",
       "    <tr>\n",
       "      <td>INT</td>\n",
       "      <td>0.000138702</td>\n",
       "      <td>0.0290151</td>\n",
       "      <td>0.008700</td>\n",
       "      <td>0.00948335</td>\n",
       "      <td>2.2833</td>\n",
       "    </tr>\n",
       "    <tr>\n",
       "      <td>UDP</td>\n",
       "      <td>0.000827153</td>\n",
       "      <td>0.0274967</td>\n",
       "      <td>0.008748</td>\n",
       "      <td>0.00946975</td>\n",
       "      <td>2.28002</td>\n",
       "    </tr>\n",
       "    <tr>\n",
       "      <td>Duration</td>\n",
       "      <td>0.000265568</td>\n",
       "      <td>0.0229993</td>\n",
       "      <td>0.004362</td>\n",
       "      <td>0.00533116</td>\n",
       "      <td>1.28358</td>\n",
       "    </tr>\n",
       "  </tbody>\n",
       "</table>\n",
       "</div>"
      ],
      "text/plain": [
       "              Interactional Dominance Individual Dominance  \\\n",
       "S_                          0.0337228              0.20777   \n",
       "25                        0.000968924             0.157271   \n",
       "53                          0.0676842            0.0281776   \n",
       "PA_                         0.0129373            0.0595586   \n",
       "80                         0.00764158            0.0343153   \n",
       "None_x                     0.00236778            0.0257861   \n",
       "A_                         0.00622813             0.020924   \n",
       "Luxembourg                7.10631e-05            0.0201833   \n",
       "United States             2.91744e-05            0.0312796   \n",
       "TCP                         0.0012071            0.0316881   \n",
       "Dallas                    0.000497221            0.0269722   \n",
       "RA_                       0.000704285            0.0238535   \n",
       "INT                       0.000138702            0.0290151   \n",
       "UDP                       0.000827153            0.0274967   \n",
       "Duration                  0.000265568            0.0229993   \n",
       "\n",
       "               Average Partial Dominance Total Dominance  \\\n",
       "S_                              0.112612        0.113696   \n",
       "25                              0.059712       0.0622997   \n",
       "53                              0.064024       0.0618781   \n",
       "PA_                             0.044528       0.0434242   \n",
       "80                              0.021028        0.021021   \n",
       "None_x                          0.017707       0.0172234   \n",
       "A_                              0.014231       0.0141436   \n",
       "Luxembourg                      0.013743       0.0132611   \n",
       "United States                   0.011997       0.0124849   \n",
       "TCP                             0.010494       0.0112875   \n",
       "Dallas                          0.010302       0.0107597   \n",
       "RA_                             0.009155      0.00957188   \n",
       "INT                             0.008700      0.00948335   \n",
       "UDP                             0.008748      0.00946975   \n",
       "Duration                        0.004362      0.00533116   \n",
       "\n",
       "              Percentage Relative Importance  \n",
       "S_                                   27.3746  \n",
       "25                                   14.9998  \n",
       "53                                   14.8983  \n",
       "PA_                                  10.4552  \n",
       "80                                   5.06122  \n",
       "None_x                               4.14686  \n",
       "A_                                   3.40535  \n",
       "Luxembourg                           3.19286  \n",
       "United States                        3.00599  \n",
       "TCP                                  2.71768  \n",
       "Dallas                                2.5906  \n",
       "RA_                                  2.30461  \n",
       "INT                                   2.2833  \n",
       "UDP                                  2.28002  \n",
       "Duration                             1.28358  "
      ]
     },
     "execution_count": 169,
     "metadata": {},
     "output_type": "execute_result"
    }
   ],
   "source": [
    "dominance_regression.dominance_stats()"
   ]
  },
  {
   "cell_type": "markdown",
   "metadata": {},
   "source": [
    "# Question 5 "
   ]
  },
  {
   "cell_type": "code",
   "execution_count": 137,
   "metadata": {
    "ExecuteTime": {
     "end_time": "2020-04-29T16:52:17.421221Z",
     "start_time": "2020-04-29T16:52:16.659411Z"
    }
   },
   "outputs": [],
   "source": [
    "# Reference: The following code is a modified version of code found at \n",
    "# https://www.kaggle.com/kmader/active-learning-optimization-improvement\n",
    "# Attempts to use the superintendant Python library (https://pypi.org/project/superintendent/)\n",
    "# and a few other code examples did not yield the necessary results. \n",
    "\n",
    "#Importing packages\n",
    "import pandas as pd\n",
    "import warnings\n",
    "%matplotlib inline\n",
    "import numpy as np # linear algebra\n",
    "import pandas as pd # data processing, CSV file I/O (e.g. pd.read_csv)\n",
    "import seaborn as sns # for nicer factor plots\n",
    "import matplotlib.pyplot as plt\n",
    "warnings.filterwarnings('ignore')"
   ]
  },
  {
   "cell_type": "code",
   "execution_count": 169,
   "metadata": {
    "ExecuteTime": {
     "end_time": "2020-04-29T17:29:44.599926Z",
     "start_time": "2020-04-29T17:29:44.581974Z"
    }
   },
   "outputs": [
    {
     "data": {
      "text/html": [
       "<div>\n",
       "<style scoped>\n",
       "    .dataframe tbody tr th:only-of-type {\n",
       "        vertical-align: middle;\n",
       "    }\n",
       "\n",
       "    .dataframe tbody tr th {\n",
       "        vertical-align: top;\n",
       "    }\n",
       "\n",
       "    .dataframe thead th {\n",
       "        text-align: right;\n",
       "    }\n",
       "</style>\n",
       "<table border=\"1\" class=\"dataframe\">\n",
       "  <thead>\n",
       "    <tr style=\"text-align: right;\">\n",
       "      <th></th>\n",
       "      <th>Duration</th>\n",
       "      <th>Bytes</th>\n",
       "      <th>yes/no</th>\n",
       "    </tr>\n",
       "  </thead>\n",
       "  <tbody>\n",
       "    <tr>\n",
       "      <td>4117</td>\n",
       "      <td>0.000</td>\n",
       "      <td>263</td>\n",
       "      <td>yes</td>\n",
       "    </tr>\n",
       "    <tr>\n",
       "      <td>6269</td>\n",
       "      <td>0.000</td>\n",
       "      <td>66</td>\n",
       "      <td>yes</td>\n",
       "    </tr>\n",
       "    <tr>\n",
       "      <td>8919</td>\n",
       "      <td>2.712</td>\n",
       "      <td>256</td>\n",
       "      <td>yes</td>\n",
       "    </tr>\n",
       "    <tr>\n",
       "      <td>10127</td>\n",
       "      <td>0.000</td>\n",
       "      <td>64</td>\n",
       "      <td>yes</td>\n",
       "    </tr>\n",
       "    <tr>\n",
       "      <td>11546</td>\n",
       "      <td>0.000</td>\n",
       "      <td>64</td>\n",
       "      <td>yes</td>\n",
       "    </tr>\n",
       "    <tr>\n",
       "      <td>...</td>\n",
       "      <td>...</td>\n",
       "      <td>...</td>\n",
       "      <td>...</td>\n",
       "    </tr>\n",
       "    <tr>\n",
       "      <td>937125</td>\n",
       "      <td>0.000</td>\n",
       "      <td>66</td>\n",
       "      <td>no</td>\n",
       "    </tr>\n",
       "    <tr>\n",
       "      <td>58713</td>\n",
       "      <td>0.000</td>\n",
       "      <td>2969</td>\n",
       "      <td>no</td>\n",
       "    </tr>\n",
       "    <tr>\n",
       "      <td>87402</td>\n",
       "      <td>0.000</td>\n",
       "      <td>74</td>\n",
       "      <td>no</td>\n",
       "    </tr>\n",
       "    <tr>\n",
       "      <td>877661</td>\n",
       "      <td>0.000</td>\n",
       "      <td>80</td>\n",
       "      <td>no</td>\n",
       "    </tr>\n",
       "    <tr>\n",
       "      <td>823910</td>\n",
       "      <td>4.798</td>\n",
       "      <td>3300</td>\n",
       "      <td>no</td>\n",
       "    </tr>\n",
       "  </tbody>\n",
       "</table>\n",
       "<p>43520 rows × 3 columns</p>\n",
       "</div>"
      ],
      "text/plain": [
       "        Duration  Bytes yes/no\n",
       "4117       0.000    263    yes\n",
       "6269       0.000     66    yes\n",
       "8919       2.712    256    yes\n",
       "10127      0.000     64    yes\n",
       "11546      0.000     64    yes\n",
       "...          ...    ...    ...\n",
       "937125     0.000     66     no\n",
       "58713      0.000   2969     no\n",
       "87402      0.000     74     no\n",
       "877661     0.000     80     no\n",
       "823910     4.798   3300     no\n",
       "\n",
       "[43520 rows x 3 columns]"
      ]
     },
     "execution_count": 169,
     "metadata": {},
     "output_type": "execute_result"
    }
   ],
   "source": [
    "df=pd.merge(X_downsampled[['Duration','Bytes']], y_downsampled, left_index=True, right_index=True)\n",
    "df"
   ]
  },
  {
   "cell_type": "code",
   "execution_count": 171,
   "metadata": {
    "ExecuteTime": {
     "end_time": "2020-04-29T17:30:25.616651Z",
     "start_time": "2020-04-29T17:30:25.591743Z"
    }
   },
   "outputs": [
    {
     "data": {
      "text/html": [
       "<div>\n",
       "<style scoped>\n",
       "    .dataframe tbody tr th:only-of-type {\n",
       "        vertical-align: middle;\n",
       "    }\n",
       "\n",
       "    .dataframe tbody tr th {\n",
       "        vertical-align: top;\n",
       "    }\n",
       "\n",
       "    .dataframe thead th {\n",
       "        text-align: right;\n",
       "    }\n",
       "</style>\n",
       "<table border=\"1\" class=\"dataframe\">\n",
       "  <thead>\n",
       "    <tr style=\"text-align: right;\">\n",
       "      <th></th>\n",
       "      <th>Duration</th>\n",
       "      <th>Bytes</th>\n",
       "      <th>Botnet</th>\n",
       "    </tr>\n",
       "  </thead>\n",
       "  <tbody>\n",
       "    <tr>\n",
       "      <td>0</td>\n",
       "      <td>0.000</td>\n",
       "      <td>263</td>\n",
       "      <td>yes</td>\n",
       "    </tr>\n",
       "    <tr>\n",
       "      <td>1</td>\n",
       "      <td>0.000</td>\n",
       "      <td>66</td>\n",
       "      <td>yes</td>\n",
       "    </tr>\n",
       "    <tr>\n",
       "      <td>2</td>\n",
       "      <td>2.712</td>\n",
       "      <td>256</td>\n",
       "      <td>yes</td>\n",
       "    </tr>\n",
       "    <tr>\n",
       "      <td>3</td>\n",
       "      <td>0.000</td>\n",
       "      <td>64</td>\n",
       "      <td>yes</td>\n",
       "    </tr>\n",
       "    <tr>\n",
       "      <td>4</td>\n",
       "      <td>0.000</td>\n",
       "      <td>64</td>\n",
       "      <td>yes</td>\n",
       "    </tr>\n",
       "  </tbody>\n",
       "</table>\n",
       "</div>"
      ],
      "text/plain": [
       "   Duration  Bytes Botnet\n",
       "0     0.000    263    yes\n",
       "1     0.000     66    yes\n",
       "2     2.712    256    yes\n",
       "3     0.000     64    yes\n",
       "4     0.000     64    yes"
      ]
     },
     "execution_count": 171,
     "metadata": {},
     "output_type": "execute_result"
    }
   ],
   "source": [
    "df = df.reset_index()\n",
    "df = df.drop(['index'], axis=1)\n",
    "df = df.rename(columns={'yes/no':'Botnet'})\n",
    "df.head()"
   ]
  },
  {
   "cell_type": "code",
   "execution_count": 172,
   "metadata": {
    "ExecuteTime": {
     "end_time": "2020-04-29T17:30:32.296767Z",
     "start_time": "2020-04-29T17:30:32.275823Z"
    }
   },
   "outputs": [],
   "source": [
    "# Fitting and transforming the train and the test data to the min max scaler. \n",
    "# I chose the min max scalar because I want to maintain the distribution of the data. \n",
    "# https://towardsdatascience.com/scale-standardize-or-normalize-with-scikit-learn-6ccc7d176a02\n",
    "\n",
    "from sklearn.preprocessing import MinMaxScaler\n",
    "\n",
    "df[['Duration', 'Bytes']] = scaler_minmax.fit_transform(df[['Duration', 'Bytes']])"
   ]
  },
  {
   "cell_type": "code",
   "execution_count": 173,
   "metadata": {
    "ExecuteTime": {
     "end_time": "2020-04-29T17:30:36.913421Z",
     "start_time": "2020-04-29T17:30:36.903448Z"
    }
   },
   "outputs": [
    {
     "data": {
      "text/html": [
       "<div>\n",
       "<style scoped>\n",
       "    .dataframe tbody tr th:only-of-type {\n",
       "        vertical-align: middle;\n",
       "    }\n",
       "\n",
       "    .dataframe tbody tr th {\n",
       "        vertical-align: top;\n",
       "    }\n",
       "\n",
       "    .dataframe thead th {\n",
       "        text-align: right;\n",
       "    }\n",
       "</style>\n",
       "<table border=\"1\" class=\"dataframe\">\n",
       "  <thead>\n",
       "    <tr style=\"text-align: right;\">\n",
       "      <th></th>\n",
       "      <th>Duration</th>\n",
       "      <th>Bytes</th>\n",
       "      <th>Botnet</th>\n",
       "    </tr>\n",
       "  </thead>\n",
       "  <tbody>\n",
       "    <tr>\n",
       "      <td>0</td>\n",
       "      <td>0.000000</td>\n",
       "      <td>3.038905e-05</td>\n",
       "      <td>yes</td>\n",
       "    </tr>\n",
       "    <tr>\n",
       "      <td>1</td>\n",
       "      <td>0.000000</td>\n",
       "      <td>8.981985e-07</td>\n",
       "      <td>yes</td>\n",
       "    </tr>\n",
       "    <tr>\n",
       "      <td>2</td>\n",
       "      <td>0.540239</td>\n",
       "      <td>2.934115e-05</td>\n",
       "      <td>yes</td>\n",
       "    </tr>\n",
       "    <tr>\n",
       "      <td>3</td>\n",
       "      <td>0.000000</td>\n",
       "      <td>5.987990e-07</td>\n",
       "      <td>yes</td>\n",
       "    </tr>\n",
       "    <tr>\n",
       "      <td>4</td>\n",
       "      <td>0.000000</td>\n",
       "      <td>5.987990e-07</td>\n",
       "      <td>yes</td>\n",
       "    </tr>\n",
       "  </tbody>\n",
       "</table>\n",
       "</div>"
      ],
      "text/plain": [
       "   Duration         Bytes Botnet\n",
       "0  0.000000  3.038905e-05    yes\n",
       "1  0.000000  8.981985e-07    yes\n",
       "2  0.540239  2.934115e-05    yes\n",
       "3  0.000000  5.987990e-07    yes\n",
       "4  0.000000  5.987990e-07    yes"
      ]
     },
     "execution_count": 173,
     "metadata": {},
     "output_type": "execute_result"
    }
   ],
   "source": [
    "df.head()"
   ]
  },
  {
   "cell_type": "code",
   "execution_count": 182,
   "metadata": {
    "ExecuteTime": {
     "end_time": "2020-04-29T17:33:40.873525Z",
     "start_time": "2020-04-29T17:33:40.855602Z"
    }
   },
   "outputs": [
    {
     "data": {
      "text/plain": [
       "yes    21760\n",
       "no     21760\n",
       "Name: Botnet, dtype: int64"
      ]
     },
     "execution_count": 182,
     "metadata": {},
     "output_type": "execute_result"
    }
   ],
   "source": [
    "df['Botnet'].value_counts()"
   ]
  },
  {
   "cell_type": "code",
   "execution_count": 174,
   "metadata": {
    "ExecuteTime": {
     "end_time": "2020-04-29T17:30:51.030610Z",
     "start_time": "2020-04-29T17:30:51.025645Z"
    }
   },
   "outputs": [],
   "source": [
    "def tasty_papaya_func(Duration_Dummy, Bytes_Dummy):\n",
    "    r_dist = np.sqrt(np.square(Duration_Dummy)+np.square(Bytes_Dummy))\n",
    "    return (r_dist<0.65) & (r_dist>0.45)"
   ]
  },
  {
   "cell_type": "code",
   "execution_count": 183,
   "metadata": {
    "ExecuteTime": {
     "end_time": "2020-04-29T17:49:36.493572Z",
     "start_time": "2020-04-29T17:49:36.477646Z"
    }
   },
   "outputs": [],
   "source": [
    "allsamples_df = pd.DataFrame(dict(duration = df['Duration'], \n",
    "                  bytes = df['Bytes'], \n",
    "                  botnet = tasty_papaya_func(df['Duration'], df['Bytes'])))\n",
    "# 430 was chosen as the number for the sample because the downsampled dataset contained approximately 43,000 entries. \n",
    "# 430 is 1% of the total, as specified in the question. \n",
    "train_df = allsamples_df.sample(430, random_state=0)"
   ]
  },
  {
   "cell_type": "code",
   "execution_count": 184,
   "metadata": {
    "ExecuteTime": {
     "end_time": "2020-04-29T17:49:41.923747Z",
     "start_time": "2020-04-29T17:49:41.908786Z"
    }
   },
   "outputs": [
    {
     "data": {
      "text/html": [
       "<div>\n",
       "<style scoped>\n",
       "    .dataframe tbody tr th:only-of-type {\n",
       "        vertical-align: middle;\n",
       "    }\n",
       "\n",
       "    .dataframe tbody tr th {\n",
       "        vertical-align: top;\n",
       "    }\n",
       "\n",
       "    .dataframe thead th {\n",
       "        text-align: right;\n",
       "    }\n",
       "</style>\n",
       "<table border=\"1\" class=\"dataframe\">\n",
       "  <thead>\n",
       "    <tr style=\"text-align: right;\">\n",
       "      <th></th>\n",
       "      <th>duration</th>\n",
       "      <th>bytes</th>\n",
       "      <th>botnet</th>\n",
       "    </tr>\n",
       "  </thead>\n",
       "  <tbody>\n",
       "    <tr>\n",
       "      <td>35688</td>\n",
       "      <td>0.000000</td>\n",
       "      <td>5.838290e-06</td>\n",
       "      <td>False</td>\n",
       "    </tr>\n",
       "    <tr>\n",
       "      <td>14999</td>\n",
       "      <td>0.000000</td>\n",
       "      <td>4.026923e-05</td>\n",
       "      <td>False</td>\n",
       "    </tr>\n",
       "    <tr>\n",
       "      <td>9017</td>\n",
       "      <td>0.589044</td>\n",
       "      <td>9.580784e-06</td>\n",
       "      <td>True</td>\n",
       "    </tr>\n",
       "    <tr>\n",
       "      <td>882</td>\n",
       "      <td>0.445219</td>\n",
       "      <td>2.309867e-04</td>\n",
       "      <td>False</td>\n",
       "    </tr>\n",
       "    <tr>\n",
       "      <td>15789</td>\n",
       "      <td>0.000000</td>\n",
       "      <td>2.993995e-07</td>\n",
       "      <td>False</td>\n",
       "    </tr>\n",
       "    <tr>\n",
       "      <td>...</td>\n",
       "      <td>...</td>\n",
       "      <td>...</td>\n",
       "      <td>...</td>\n",
       "    </tr>\n",
       "    <tr>\n",
       "      <td>11416</td>\n",
       "      <td>0.000000</td>\n",
       "      <td>1.646697e-06</td>\n",
       "      <td>False</td>\n",
       "    </tr>\n",
       "    <tr>\n",
       "      <td>13266</td>\n",
       "      <td>0.598406</td>\n",
       "      <td>9.580784e-06</td>\n",
       "      <td>True</td>\n",
       "    </tr>\n",
       "    <tr>\n",
       "      <td>10291</td>\n",
       "      <td>0.239243</td>\n",
       "      <td>1.886217e-05</td>\n",
       "      <td>False</td>\n",
       "    </tr>\n",
       "    <tr>\n",
       "      <td>40911</td>\n",
       "      <td>0.000000</td>\n",
       "      <td>2.694595e-06</td>\n",
       "      <td>False</td>\n",
       "    </tr>\n",
       "    <tr>\n",
       "      <td>10197</td>\n",
       "      <td>0.000000</td>\n",
       "      <td>2.365256e-05</td>\n",
       "      <td>False</td>\n",
       "    </tr>\n",
       "  </tbody>\n",
       "</table>\n",
       "<p>430 rows × 3 columns</p>\n",
       "</div>"
      ],
      "text/plain": [
       "       duration         bytes  botnet\n",
       "35688  0.000000  5.838290e-06   False\n",
       "14999  0.000000  4.026923e-05   False\n",
       "9017   0.589044  9.580784e-06    True\n",
       "882    0.445219  2.309867e-04   False\n",
       "15789  0.000000  2.993995e-07   False\n",
       "...         ...           ...     ...\n",
       "11416  0.000000  1.646697e-06   False\n",
       "13266  0.598406  9.580784e-06    True\n",
       "10291  0.239243  1.886217e-05   False\n",
       "40911  0.000000  2.694595e-06   False\n",
       "10197  0.000000  2.365256e-05   False\n",
       "\n",
       "[430 rows x 3 columns]"
      ]
     },
     "execution_count": 184,
     "metadata": {},
     "output_type": "execute_result"
    }
   ],
   "source": [
    "train_df"
   ]
  },
  {
   "cell_type": "code",
   "execution_count": 186,
   "metadata": {
    "ExecuteTime": {
     "end_time": "2020-04-29T17:52:02.432357Z",
     "start_time": "2020-04-29T17:52:02.423377Z"
    }
   },
   "outputs": [
    {
     "data": {
      "text/plain": [
       "False    386\n",
       "True      44\n",
       "Name: botnet, dtype: int64"
      ]
     },
     "execution_count": 186,
     "metadata": {},
     "output_type": "execute_result"
    }
   ],
   "source": [
    "train_df['botnet'].value_counts()"
   ]
  },
  {
   "cell_type": "code",
   "execution_count": 187,
   "metadata": {
    "ExecuteTime": {
     "end_time": "2020-04-29T17:52:07.912881Z",
     "start_time": "2020-04-29T17:52:07.694465Z"
    }
   },
   "outputs": [
    {
     "data": {
      "text/html": [
       "<div>\n",
       "<style scoped>\n",
       "    .dataframe tbody tr th:only-of-type {\n",
       "        vertical-align: middle;\n",
       "    }\n",
       "\n",
       "    .dataframe tbody tr th {\n",
       "        vertical-align: top;\n",
       "    }\n",
       "\n",
       "    .dataframe thead th {\n",
       "        text-align: right;\n",
       "    }\n",
       "</style>\n",
       "<table border=\"1\" class=\"dataframe\">\n",
       "  <thead>\n",
       "    <tr style=\"text-align: right;\">\n",
       "      <th></th>\n",
       "      <th>duration</th>\n",
       "      <th>bytes</th>\n",
       "      <th>botnet</th>\n",
       "    </tr>\n",
       "  </thead>\n",
       "  <tbody>\n",
       "    <tr>\n",
       "      <td>35688</td>\n",
       "      <td>0.000000</td>\n",
       "      <td>5.838290e-06</td>\n",
       "      <td>False</td>\n",
       "    </tr>\n",
       "    <tr>\n",
       "      <td>14999</td>\n",
       "      <td>0.000000</td>\n",
       "      <td>4.026923e-05</td>\n",
       "      <td>False</td>\n",
       "    </tr>\n",
       "    <tr>\n",
       "      <td>9017</td>\n",
       "      <td>0.589044</td>\n",
       "      <td>9.580784e-06</td>\n",
       "      <td>True</td>\n",
       "    </tr>\n",
       "    <tr>\n",
       "      <td>882</td>\n",
       "      <td>0.445219</td>\n",
       "      <td>2.309867e-04</td>\n",
       "      <td>False</td>\n",
       "    </tr>\n",
       "    <tr>\n",
       "      <td>15789</td>\n",
       "      <td>0.000000</td>\n",
       "      <td>2.993995e-07</td>\n",
       "      <td>False</td>\n",
       "    </tr>\n",
       "    <tr>\n",
       "      <td>35805</td>\n",
       "      <td>0.440637</td>\n",
       "      <td>5.464041e-04</td>\n",
       "      <td>False</td>\n",
       "    </tr>\n",
       "    <tr>\n",
       "      <td>13608</td>\n",
       "      <td>0.000000</td>\n",
       "      <td>2.993995e-07</td>\n",
       "      <td>False</td>\n",
       "    </tr>\n",
       "    <tr>\n",
       "      <td>1604</td>\n",
       "      <td>0.000000</td>\n",
       "      <td>4.595782e-05</td>\n",
       "      <td>False</td>\n",
       "    </tr>\n",
       "    <tr>\n",
       "      <td>12785</td>\n",
       "      <td>0.000000</td>\n",
       "      <td>8.981985e-07</td>\n",
       "      <td>False</td>\n",
       "    </tr>\n",
       "    <tr>\n",
       "      <td>5709</td>\n",
       "      <td>0.000000</td>\n",
       "      <td>2.993995e-07</td>\n",
       "      <td>False</td>\n",
       "    </tr>\n",
       "  </tbody>\n",
       "</table>\n",
       "</div>"
      ],
      "text/plain": [
       "       duration         bytes  botnet\n",
       "35688  0.000000  5.838290e-06   False\n",
       "14999  0.000000  4.026923e-05   False\n",
       "9017   0.589044  9.580784e-06    True\n",
       "882    0.445219  2.309867e-04   False\n",
       "15789  0.000000  2.993995e-07   False\n",
       "35805  0.440637  5.464041e-04   False\n",
       "13608  0.000000  2.993995e-07   False\n",
       "1604   0.000000  4.595782e-05   False\n",
       "12785  0.000000  8.981985e-07   False\n",
       "5709   0.000000  2.993995e-07   False"
      ]
     },
     "execution_count": 187,
     "metadata": {},
     "output_type": "execute_result"
    },
    {
     "data": {
      "image/png": "[encoded data removed]",
      "text/plain": [
       "<Figure size 432x288 with 1 Axes>"
      ]
     },
     "metadata": {
      "needs_background": "light"
     },
     "output_type": "display_data"
    }
   ],
   "source": [
    "plt.scatter(train_df['duration'], train_df['bytes'], c = train_df['botnet'])\n",
    "train_df.head(10)"
   ]
  },
  {
   "cell_type": "markdown",
   "metadata": {},
   "source": [
    "<font size=5><font color='red'>5.\tOnce the previous questions are answered, attempt to use active learning with the dataset.  Employ 1% of the available data with 0.5% of the data (one half the 1%) initially tagged for training and 0.5% of the data (the second half of the 1%) to improve the initial model. "
   ]
  },
  {
   "cell_type": "code",
   "execution_count": 209,
   "metadata": {
    "ExecuteTime": {
     "end_time": "2020-04-29T18:26:05.119703Z",
     "start_time": "2020-04-29T18:26:05.107729Z"
    }
   },
   "outputs": [
    {
     "data": {
      "text/plain": [
       "SVC(C=1.0, break_ties=False, cache_size=200, class_weight=None, coef0=0.0,\n",
       "    decision_function_shape='ovr', degree=3, gamma='scale', kernel='rbf',\n",
       "    max_iter=-1, probability=True, random_state=None, shrinking=True, tol=0.001,\n",
       "    verbose=False)"
      ]
     },
     "execution_count": 209,
     "metadata": {},
     "output_type": "execute_result"
    }
   ],
   "source": [
    "from sklearn.svm import SVC\n",
    "simple_svm = SVC(kernel = 'rbf', probability=True)\n",
    "simple_svm.fit(train_df[['duration', 'bytes']], train_df['botnet'])"
   ]
  },
  {
   "cell_type": "code",
   "execution_count": 210,
   "metadata": {
    "ExecuteTime": {
     "end_time": "2020-04-29T18:26:10.239037Z",
     "start_time": "2020-04-29T18:26:10.072453Z"
    }
   },
   "outputs": [
    {
     "data": {
      "image/png": "[encoded data removed]",
      "text/plain": [
       "<Figure size 576x432 with 1 Axes>"
      ]
     },
     "metadata": {
      "needs_background": "light"
     },
     "output_type": "display_data"
    }
   ],
   "source": [
    "src_xx, source_yy = np.meshgrid(np.linspace(0,1,40), np.linspace(0,1,40))\n",
    "srccountry_x, sourcebytes_y = [x.ravel() for x in [src_xx, source_yy]]\n",
    "fig, ax1 = plt.subplots(1,1, figsize = (8,6))\n",
    "ax1.contourf(src_xx[0,:], source_yy[:,0], \n",
    "             simple_svm.predict_proba(np.stack([srccountry_x, sourcebytes_y],-1))[:,1].reshape(src_xx.shape), \n",
    "             cmap = 'viridis',\n",
    "            vmin = 0,\n",
    "            vmax = 0.75)\n",
    "\n",
    "ax1.set_xlabel('duration')\n",
    "ax1.set_ylabel('bytes')\n",
    "ax1.set_title('botnet');"
   ]
  },
  {
   "cell_type": "code",
   "execution_count": 211,
   "metadata": {
    "ExecuteTime": {
     "end_time": "2020-04-29T18:26:14.769893Z",
     "start_time": "2020-04-29T18:26:14.759918Z"
    }
   },
   "outputs": [],
   "source": [
    "from sklearn.metrics import accuracy_score\n",
    "botnet_z = tasty_papaya_func(srccountry_x, sourcebytes_y)\n",
    "def fit_and_show_model(model, \n",
    "                       cur_df, \n",
    "                       ax = None, \n",
    "                       title_str = 'Botnet',\n",
    "                       fit_model = True\n",
    "                      ):\n",
    "    if fit_model:\n",
    "        model.fit(cur_df[['duration', 'bytes']], cur_df['botnet'])\n",
    "    pred_y_proba = model.predict_proba(np.stack([srccountry_x, sourcebytes_y],-1))[:,1]\n",
    "    model_accuracy = accuracy_score(botnet_z, pred_y_proba>0.5)\n",
    "    \n",
    "    if ax is None:\n",
    "        fig, ax = plt.subplots(1,1, figsize = (8,6))\n",
    "    ax.contourf(src_xx[0,:], source_yy[:,0], \n",
    "             pred_y_proba.reshape(src_xx.shape), \n",
    "             cmap = 'viridis',\n",
    "            vmin = 0,\n",
    "            vmax = 0.75)\n",
    "    ax.set_xlabel('Duration')\n",
    "    ax.set_ylabel('Bytes')\n",
    "    ax.set_title('%s, Accuracy %2.1f%%' % (title_str, 100*model_accuracy));\n",
    "    return model, model_accuracy"
   ]
  },
  {
   "cell_type": "code",
   "execution_count": 212,
   "metadata": {
    "ExecuteTime": {
     "end_time": "2020-04-29T18:26:20.343026Z",
     "start_time": "2020-04-29T18:26:19.436413Z"
    }
   },
   "outputs": [
    {
     "data": {
      "image/png": "[encoded data removed]",
      "text/plain": [
       "<Figure size 864x1152 with 6 Axes>"
      ]
     },
     "metadata": {
      "needs_background": "light"
     },
     "output_type": "display_data"
    }
   ],
   "source": [
    "fig, m_axs = plt.subplots(2, 3, figsize = (12, 16))\n",
    "# As specified in question 5, 0.5% of the data (215 observations) is tagged for initial training with the following\n",
    "# 215 observations, the second 0.5% of the observations, used to improve the model over 6 steps. \n",
    "# This is expressed in the below np.linspace(215, 430, 6) code segment. \n",
    "for c_ax, c_pts in zip(m_axs.flatten(), np.linspace(215, 430, 6).astype(int)):\n",
    "    cur_svm = SVC(kernel = 'rbf', probability=True, random_state=0)\n",
    "    fit_and_show_model(cur_svm, \n",
    "                       allsamples_df.sample(c_pts, random_state=0), \n",
    "                       title_str = 'Sampled: {}'.format(c_pts),\n",
    "                       ax = c_ax)"
   ]
  },
  {
   "cell_type": "code",
   "execution_count": 213,
   "metadata": {
    "ExecuteTime": {
     "end_time": "2020-04-29T18:26:25.259841Z",
     "start_time": "2020-04-29T18:26:25.180055Z"
    }
   },
   "outputs": [
    {
     "data": {
      "text/plain": [
       "(array([29115], dtype=int64), array([[6.80677291e-01, 2.60477560e-05]]))"
      ]
     },
     "execution_count": 213,
     "metadata": {},
     "output_type": "execute_result"
    }
   ],
   "source": [
    "# initializing the learner\n",
    "from modAL.models import ActiveLearner\n",
    "# The initial dataframe is set to 215 observations, 0.5% of the dataset. \n",
    "initial_df = allsamples_df.sample(215, random_state=0)\n",
    "learner = ActiveLearner(\n",
    "    estimator=SVC(kernel = 'rbf', probability=True, random_state = 2018),\n",
    "    X_training=initial_df[['duration', 'bytes']], \n",
    "    y_training=initial_df['botnet']\n",
    ")\n",
    "# query for labels\n",
    "X_pool = allsamples_df[['duration', 'bytes']].values\n",
    "y_pool = allsamples_df['botnet'].values\n",
    "query_idx, query_inst = learner.query(X_pool)\n",
    "query_idx, query_inst"
   ]
  },
  {
   "cell_type": "code",
   "execution_count": 214,
   "metadata": {
    "ExecuteTime": {
     "end_time": "2020-04-29T18:26:58.999632Z",
     "start_time": "2020-04-29T18:26:30.149778Z"
    }
   },
   "outputs": [
    {
     "data": {
      "image/png": "[encoded data removed]",
      "text/plain": [
       "<Figure size 864x864 with 6 Axes>"
      ]
     },
     "metadata": {
      "needs_background": "light"
     },
     "output_type": "display_data"
    }
   ],
   "source": [
    "fig, m_axs = plt.subplots(2, 3, figsize = (12, 12))\n",
    "last_pts = initial_df.shape[0]\n",
    "queried_pts = []\n",
    "# As specified in question 5, 0.5% of the data (215 observations) is tagged for initial training with the following\n",
    "# 215 observations, the second 0.5% of the observations, used to improve the model over 6 steps. \n",
    "# This is expressed in the below np.linspace(215, 430, 6) code segment. \n",
    "for c_ax, c_pts in zip(m_axs.flatten(), np.linspace(215, 430, 6).astype(int)):\n",
    "    for _ in range(c_pts-last_pts):\n",
    "        query_idx, _ = learner.query(X_pool)\n",
    "        queried_pts += [query_idx]\n",
    "        learner.teach(X_pool[query_idx], y_pool[query_idx])\n",
    "    last_pts = c_pts\n",
    "    fit_and_show_model(learner, \n",
    "                       None, \n",
    "                       title_str = 'Sampled: {}'.format(c_pts),\n",
    "                       ax = c_ax,\n",
    "                       fit_model = False\n",
    "                      )\n"
   ]
  },
  {
   "cell_type": "markdown",
   "metadata": {},
   "source": [
    "## Question 5 with Random Forest"
   ]
  },
  {
   "cell_type": "code",
   "execution_count": 215,
   "metadata": {
    "ExecuteTime": {
     "end_time": "2020-04-29T18:27:05.006572Z",
     "start_time": "2020-04-29T18:27:03.652192Z"
    }
   },
   "outputs": [
    {
     "data": {
      "image/png": "[encoded data removed]",
      "text/plain": [
       "<Figure size 864x1152 with 6 Axes>"
      ]
     },
     "metadata": {
      "needs_background": "light"
     },
     "output_type": "display_data"
    }
   ],
   "source": [
    "from sklearn.ensemble import RandomForestClassifier\n",
    "fig, m_axs = plt.subplots(2, 3, figsize = (12, 16))\n",
    "# As specified in question 5, 0.5% of the data (215 observations) is tagged for initial training with the following\n",
    "# 215 observations, the second 0.5% of the observations, used to improve the model over 6 steps. \n",
    "# This is expressed in the below np.linspace(215, 430, 6) code segment. \n",
    "for c_ax, c_pts in zip(m_axs.flatten(), np.linspace(215, 400, 6).astype(int)):\n",
    "    cur_rf = RandomForestClassifier(random_state = 0)\n",
    "    fit_and_show_model(cur_rf, \n",
    "                       allsamples_df.sample(c_pts, random_state=0), \n",
    "                       title_str = 'Sampled: {}'.format(c_pts),\n",
    "                       ax = c_ax)"
   ]
  },
  {
   "cell_type": "code",
   "execution_count": 216,
   "metadata": {
    "ExecuteTime": {
     "end_time": "2020-04-29T18:27:09.773854Z",
     "start_time": "2020-04-29T18:27:09.498558Z"
    }
   },
   "outputs": [
    {
     "data": {
      "text/plain": [
       "(array([30785], dtype=int64), array([[4.93625498e-01, 4.49099242e-05]]))"
      ]
     },
     "execution_count": 216,
     "metadata": {},
     "output_type": "execute_result"
    }
   ],
   "source": [
    "learner = ActiveLearner(\n",
    "    estimator=RandomForestClassifier(random_state=0),\n",
    "    X_training=initial_df[['duration', 'bytes']], \n",
    "    y_training=initial_df['botnet']\n",
    ")\n",
    "query_idx, query_inst = learner.query(X_pool)\n",
    "query_idx, query_inst"
   ]
  },
  {
   "cell_type": "code",
   "execution_count": 217,
   "metadata": {
    "ExecuteTime": {
     "end_time": "2020-04-29T18:28:12.921966Z",
     "start_time": "2020-04-29T18:27:14.286754Z"
    }
   },
   "outputs": [
    {
     "data": {
      "image/png": "[encoded data removed]",
      "text/plain": [
       "<Figure size 864x864 with 6 Axes>"
      ]
     },
     "metadata": {
      "needs_background": "light"
     },
     "output_type": "display_data"
    }
   ],
   "source": [
    "fig, m_axs = plt.subplots(2, 3, figsize = (12, 12))\n",
    "last_pts = initial_df.shape[0]\n",
    "queried_pts = []\n",
    "# As specified in question 5, 0.5% of the data (215 observations) is tagged for initial training with the following\n",
    "# 215 observations, the second 0.5% of the observations, used to improve the model over 6 steps. \n",
    "# This is expressed in the below np.linspace(215, 430, 6) code segment. \n",
    "for c_ax, c_pts in zip(m_axs.flatten(), np.linspace(215, 430, 6).astype(int)):\n",
    "    for _ in range(c_pts-last_pts):\n",
    "        query_idx, _ = learner.query(X_pool)\n",
    "        queried_pts += [query_idx]\n",
    "        learner.teach(X_pool[query_idx], y_pool[query_idx])\n",
    "    last_pts = c_pts\n",
    "    fit_and_show_model(learner, \n",
    "                       None, \n",
    "                       title_str = 'Sampled: {}'.format(c_pts),\n",
    "                       ax = c_ax,\n",
    "                       fit_model = False\n",
    "                      )"
   ]
  },
  {
   "cell_type": "markdown",
   "metadata": {},
   "source": [
    "## Question 5 Running a Full Experiment"
   ]
  },
  {
   "cell_type": "code",
   "execution_count": 218,
   "metadata": {
    "ExecuteTime": {
     "end_time": "2020-04-29T18:28:17.443902Z",
     "start_time": "2020-04-29T18:28:17.428928Z"
    }
   },
   "outputs": [],
   "source": [
    "#srccountry_x, sourcebytes_y\n",
    "def run_full_experiment(create_model_func,\n",
    "                        data_df,\n",
    "                        initial_pts,\n",
    "                        sample_counts,\n",
    "                        random_state,\n",
    "                       n_instances=1):\n",
    "    for i in range(215):\n",
    "        initial_df = data_df.sample(initial_pts, random_state=random_state+1000*i)\n",
    "        # ensure there is at least one positive case\n",
    "        if initial_df['botnet'].max():\n",
    "            break\n",
    "    learner = ActiveLearner(\n",
    "        estimator=create_model_func(),\n",
    "        X_training=initial_df[['duration', 'bytes']], \n",
    "        y_training=initial_df['botnet']\n",
    "    )\n",
    "    X_pool = data_df[['duration', 'bytes']].values\n",
    "    y_pool = data_df['botnet'].values\n",
    "    last_pts = initial_df.shape[0]\n",
    "    results_list = []\n",
    "    for c_pts in [x for x in sample_counts if x>=initial_pts]:\n",
    "        for _ in range(0, c_pts-last_pts, n_instances):\n",
    "            query_idx, _ = learner.query(X_pool, n_instances = n_instances)\n",
    "            learner.teach(X_pool[query_idx], y_pool[query_idx])\n",
    "        last_pts = c_pts\n",
    "        \n",
    "        try:\n",
    "            pred_y_proba = learner.predict_proba(np.stack([srccountry_x, sourcebytes_y],-1))[:,1]\n",
    "        except IndexError as e:\n",
    "            pred_y_proba = np.zeros_like(srccountry_x)\n",
    "        model_accuracy = accuracy_score(botnet_z, pred_y_proba>0.5)\n",
    "        random_model = create_model_func()\n",
    "        results_list+=[dict(model = 'Active Learning', accuracy = model_accuracy, points = c_pts, \n",
    "                            classifier = random_model.__class__.__name__)]\n",
    "        for i in range(20):\n",
    "            cur_df = data_df.sample(c_pts, random_state=random_state+1000*i)\n",
    "            # ensure there is at least one positive case\n",
    "            if cur_df['botnet'].max():\n",
    "                break\n",
    "        random_model.fit(cur_df[['duration', 'bytes']], cur_df['botnet'])\n",
    "        \n",
    "        try:\n",
    "            pred_y_proba = random_model.predict_proba(np.stack([srccountry_x, sourcebytes_y],-1))[:,1]\n",
    "        except IndexError as e:\n",
    "            pred_y_proba = np.zeros_like(srccountry_x)\n",
    "        \n",
    "        model_accuracy = accuracy_score(botnet_z, pred_y_proba>0.5)\n",
    "        results_list+=[dict(model = 'Random Sampling', accuracy = model_accuracy, points = c_pts,\n",
    "                           classifier = random_model.__class__.__name__)]\n",
    "    return pd.DataFrame(results_list)\n",
    "from dask import bag # run the experiments in parallel\n",
    "def run_multiple_experiments(n_exp, **kwargs):\n",
    "    seq_iter = bag.from_sequence(range(n_exp)).map(lambda i: run_full_experiment(random_state = i, **kwargs))\n",
    "    return pd.concat(seq_iter.compute())"
   ]
  },
  {
   "cell_type": "code",
   "execution_count": 219,
   "metadata": {
    "ExecuteTime": {
     "end_time": "2020-04-29T18:31:21.884128Z",
     "start_time": "2020-04-29T18:28:21.926885Z"
    }
   },
   "outputs": [
    {
     "data": {
      "text/plain": [
       "<seaborn.axisgrid.FacetGrid at 0x24c12564e48>"
      ]
     },
     "execution_count": 219,
     "metadata": {},
     "output_type": "execute_result"
    },
    {
     "data": {
      "image/png": "[encoded data removed]",
      "text/plain": [
       "<Figure size 559.25x432 with 1 Axes>"
      ]
     },
     "metadata": {
      "needs_background": "light"
     },
     "output_type": "display_data"
    }
   ],
   "source": [
    "# As specified in question 5, 0.5% of the data (215 observations) is tagged for initial training with the following\n",
    "# 215 observations, the second 0.5% of the observations, used to improve the model over 6 steps. \n",
    "# This is expressed in the below np.linspace(215, 430, 6) code segment. \n",
    "sample_counts = np.linspace(215, 430, 6).astype(int)\n",
    "rf_results = run_multiple_experiments(n_exp = 10, \n",
    "                                      create_model_func = lambda : RandomForestClassifier(random_state = 0),\n",
    "                    data_df = allsamples_df,\n",
    "                    initial_pts = 215,\n",
    "                   sample_counts = sample_counts)\n",
    "sns.factorplot(x = 'points', y = 'accuracy', hue = 'model', data = rf_results, size = 6)"
   ]
  },
  {
   "cell_type": "code",
   "execution_count": 220,
   "metadata": {
    "ExecuteTime": {
     "end_time": "2020-04-29T18:32:12.447899Z",
     "start_time": "2020-04-29T18:31:26.461858Z"
    }
   },
   "outputs": [
    {
     "data": {
      "text/plain": [
       "<seaborn.axisgrid.FacetGrid at 0x24a9cbba508>"
      ]
     },
     "execution_count": 220,
     "metadata": {},
     "output_type": "execute_result"
    },
    {
     "data": {
      "image/png": "[encoded data removed]",
      "text/plain": [
       "<Figure size 559.25x432 with 1 Axes>"
      ]
     },
     "metadata": {
      "needs_background": "light"
     },
     "output_type": "display_data"
    }
   ],
   "source": [
    "svm_results = run_multiple_experiments(n_exp = 6, \n",
    "                                       create_model_func=lambda :  SVC(kernel = 'rbf', probability=True, random_state=0),\n",
    "                    data_df = allsamples_df,\n",
    "                    initial_pts = 215,\n",
    "                   sample_counts = sample_counts)\n",
    "sns.factorplot(x = 'points', y = 'accuracy', hue = 'model', data = svm_results, size = 6)"
   ]
  },
  {
   "cell_type": "code",
   "execution_count": 221,
   "metadata": {
    "ExecuteTime": {
     "end_time": "2020-04-29T18:32:51.631547Z",
     "start_time": "2020-04-29T18:32:17.034032Z"
    }
   },
   "outputs": [
    {
     "data": {
      "text/plain": [
       "<seaborn.axisgrid.FacetGrid at 0x24c11d1cd08>"
      ]
     },
     "execution_count": 221,
     "metadata": {},
     "output_type": "execute_result"
    },
    {
     "data": {
      "image/png": "[encoded data removed]",
      "text/plain": [
       "<Figure size 559.25x432 with 1 Axes>"
      ]
     },
     "metadata": {
      "needs_background": "light"
     },
     "output_type": "display_data"
    }
   ],
   "source": [
    "from sklearn.neighbors import KNeighborsClassifier\n",
    "kn_results = run_multiple_experiments(n_exp = 6, \n",
    "                                      create_model_func=lambda : KNeighborsClassifier(3),\n",
    "                    data_df = allsamples_df,\n",
    "                    initial_pts = 215,\n",
    "                   sample_counts = sample_counts)\n",
    "sns.factorplot(x = 'points', y = 'accuracy', hue = 'model', data = kn_results, size = 6)"
   ]
  },
  {
   "cell_type": "code",
   "execution_count": 222,
   "metadata": {
    "ExecuteTime": {
     "end_time": "2020-04-29T18:32:57.228267Z",
     "start_time": "2020-04-29T18:32:56.152429Z"
    }
   },
   "outputs": [
    {
     "data": {
      "text/plain": [
       "<seaborn.axisgrid.FacetGrid at 0x24b359f7148>"
      ]
     },
     "execution_count": 222,
     "metadata": {},
     "output_type": "execute_result"
    },
    {
     "data": {
      "image/png": "[encoded data removed]",
      "text/plain": [
       "<Figure size 1423.25x432 with 3 Axes>"
      ]
     },
     "metadata": {
      "needs_background": "light"
     },
     "output_type": "display_data"
    }
   ],
   "source": [
    "all_results = pd.concat([rf_results, svm_results, kn_results])\n",
    "sns.factorplot(x = 'points', y = 'accuracy',\n",
    "               col = 'classifier',\n",
    "               hue = 'model',\n",
    "               data = all_results,\n",
    "               size = 6)"
   ]
  },
  {
   "cell_type": "code",
   "execution_count": 223,
   "metadata": {
    "ExecuteTime": {
     "end_time": "2020-04-29T18:33:01.877838Z",
     "start_time": "2020-04-29T18:33:01.851879Z"
    }
   },
   "outputs": [
    {
     "data": {
      "text/html": [
       "<div>\n",
       "<style scoped>\n",
       "    .dataframe tbody tr th:only-of-type {\n",
       "        vertical-align: middle;\n",
       "    }\n",
       "\n",
       "    .dataframe tbody tr th {\n",
       "        vertical-align: top;\n",
       "    }\n",
       "\n",
       "    .dataframe thead th {\n",
       "        text-align: right;\n",
       "    }\n",
       "</style>\n",
       "<table border=\"1\" class=\"dataframe\">\n",
       "  <thead>\n",
       "    <tr style=\"text-align: right;\">\n",
       "      <th>model</th>\n",
       "      <th>points</th>\n",
       "      <th>classifier</th>\n",
       "      <th>Active Learning</th>\n",
       "      <th>Random Sampling</th>\n",
       "      <th>Active Boost (%)</th>\n",
       "      <th>Active Accuracy Boost (%)</th>\n",
       "    </tr>\n",
       "  </thead>\n",
       "  <tbody>\n",
       "    <tr>\n",
       "      <td>0</td>\n",
       "      <td>215</td>\n",
       "      <td>KNeighborsClassifier</td>\n",
       "      <td>0.763333</td>\n",
       "      <td>0.763333</td>\n",
       "      <td>0.000000</td>\n",
       "      <td>0.00000</td>\n",
       "    </tr>\n",
       "    <tr>\n",
       "      <td>1</td>\n",
       "      <td>215</td>\n",
       "      <td>RandomForestClassifier</td>\n",
       "      <td>0.762313</td>\n",
       "      <td>0.762313</td>\n",
       "      <td>0.000000</td>\n",
       "      <td>0.00000</td>\n",
       "    </tr>\n",
       "    <tr>\n",
       "      <td>2</td>\n",
       "      <td>215</td>\n",
       "      <td>SVC</td>\n",
       "      <td>0.855104</td>\n",
       "      <td>0.855104</td>\n",
       "      <td>0.000000</td>\n",
       "      <td>0.00000</td>\n",
       "    </tr>\n",
       "    <tr>\n",
       "      <td>3</td>\n",
       "      <td>258</td>\n",
       "      <td>KNeighborsClassifier</td>\n",
       "      <td>0.796562</td>\n",
       "      <td>0.782500</td>\n",
       "      <td>1.797125</td>\n",
       "      <td>1.40625</td>\n",
       "    </tr>\n",
       "    <tr>\n",
       "      <td>4</td>\n",
       "      <td>258</td>\n",
       "      <td>RandomForestClassifier</td>\n",
       "      <td>0.760625</td>\n",
       "      <td>0.765750</td>\n",
       "      <td>-0.669278</td>\n",
       "      <td>-0.51250</td>\n",
       "    </tr>\n",
       "  </tbody>\n",
       "</table>\n",
       "</div>"
      ],
      "text/plain": [
       "model  points              classifier  Active Learning  Random Sampling  \\\n",
       "0         215    KNeighborsClassifier         0.763333         0.763333   \n",
       "1         215  RandomForestClassifier         0.762313         0.762313   \n",
       "2         215                     SVC         0.855104         0.855104   \n",
       "3         258    KNeighborsClassifier         0.796562         0.782500   \n",
       "4         258  RandomForestClassifier         0.760625         0.765750   \n",
       "\n",
       "model  Active Boost (%)  Active Accuracy Boost (%)  \n",
       "0              0.000000                    0.00000  \n",
       "1              0.000000                    0.00000  \n",
       "2              0.000000                    0.00000  \n",
       "3              1.797125                    1.40625  \n",
       "4             -0.669278                   -0.51250  "
      ]
     },
     "execution_count": 223,
     "metadata": {},
     "output_type": "execute_result"
    }
   ],
   "source": [
    "nice_results = all_results.pivot_table(values = 'accuracy', \n",
    "                        index = ['points', 'classifier'], \n",
    "                        columns = 'model').reset_index()\n",
    "nice_results['Active Boost (%)'] = 100*(nice_results['Active Learning']-nice_results['Random Sampling'])/nice_results['Random Sampling']\n",
    "nice_results['Active Accuracy Boost (%)'] = 100*(nice_results['Active Learning']-nice_results['Random Sampling'])\n",
    "nice_results.head(5)"
   ]
  },
  {
   "cell_type": "code",
   "execution_count": 224,
   "metadata": {
    "ExecuteTime": {
     "end_time": "2020-04-29T18:46:30.350664Z",
     "start_time": "2020-04-29T18:46:30.033511Z"
    }
   },
   "outputs": [
    {
     "data": {
      "text/plain": [
       "<seaborn.axisgrid.FacetGrid at 0x24a5c845888>"
      ]
     },
     "execution_count": 224,
     "metadata": {},
     "output_type": "execute_result"
    },
    {
     "data": {
      "image/png": "[encoded data removed]",
      "text/plain": [
       "<Figure size 586.5x432 with 1 Axes>"
      ]
     },
     "metadata": {
      "needs_background": "light"
     },
     "output_type": "display_data"
    }
   ],
   "source": [
    "sns.factorplot(x='points',y='Active Boost (%)', hue='classifier', data=nice_results, size=6)"
   ]
  },
  {
   "cell_type": "code",
   "execution_count": null,
   "metadata": {},
   "outputs": [],
   "source": []
  },
  {
   "cell_type": "markdown",
   "metadata": {},
   "source": [
    "## Extra Scripts for Processing Port Data"
   ]
  },
  {
   "cell_type": "code",
   "execution_count": 192,
   "metadata": {
    "ExecuteTime": {
     "end_time": "2020-04-26T16:21:50.403234Z",
     "start_time": "2020-04-26T16:21:50.146878Z"
    }
   },
   "outputs": [
    {
     "data": {
      "text/plain": [
       "array(['22', '20127', '443', ..., '16567', '16157', '7747'], dtype=object)"
      ]
     },
     "execution_count": 192,
     "metadata": {},
     "output_type": "execute_result"
    }
   ],
   "source": [
    "# We are only using the destination ports.  Using both the source port and the destination port might inadvertently cancel\n",
    "# or dampen the effect of attempting to identify ports associated with botnet traffic.  This is due to the fact that \n",
    "# many connections, most prominently TCP and ICMP, involve two-way connections that would duplicate the targeted port\n",
    "# number if both the source and destination ports were included. \n",
    "df2.Destination_Port.unique()"
   ]
  },
  {
   "cell_type": "code",
   "execution_count": 193,
   "metadata": {
    "ExecuteTime": {
     "end_time": "2020-04-26T16:21:50.607679Z",
     "start_time": "2020-04-26T16:21:50.405199Z"
    }
   },
   "outputs": [
    {
     "data": {
      "text/plain": [
       "58789"
      ]
     },
     "execution_count": 193,
     "metadata": {},
     "output_type": "execute_result"
    }
   ],
   "source": [
    "# The below is far too many to put into a one-hot encoded format. \n",
    "len(df2.Destination_Port.unique())"
   ]
  },
  {
   "cell_type": "code",
   "execution_count": 194,
   "metadata": {
    "ExecuteTime": {
     "end_time": "2020-04-26T16:21:50.792184Z",
     "start_time": "2020-04-26T16:21:50.610659Z"
    }
   },
   "outputs": [],
   "source": [
    "unique_dest_ports = df2.Destination_Port.unique()"
   ]
  },
  {
   "cell_type": "code",
   "execution_count": 195,
   "metadata": {
    "ExecuteTime": {
     "end_time": "2020-04-26T16:21:50.867013Z",
     "start_time": "2020-04-26T16:21:50.795176Z"
    }
   },
   "outputs": [
    {
     "name": "stdout",
     "output_type": "stream",
     "text": [
      "Well Known Ports Total: 64\n",
      "Registered Ports Total: 42405\n",
      "Ephemeral Ports Total: 16314\n",
      "Ports Not On Any Chart Total: 0\n",
      "Entries Not Valid Total: 6\n"
     ]
    }
   ],
   "source": [
    "# Attempting to discern the total amount of ports in each category of port (well-known, registered, and ephemeral)\n",
    "well_known_ports_all = []\n",
    "registered_ports_all = []\n",
    "ephemeral_ports_all = []\n",
    "off_the_charts_all = []\n",
    "not_valid_all = []\n",
    "\n",
    "# Note that this is only counting unique ports, not the total number of ports in each category. \n",
    "for i in unique_dest_ports:\n",
    "    try:\n",
    "        i = int(i)\n",
    "        if 0 <= int(i) <= 1023:\n",
    "            well_known_ports_all.append(i)\n",
    "        elif 1024 <= int(i) <= 49151:\n",
    "            registered_ports_all.append(i)\n",
    "        elif 49152 <= int(i) <= 65535:\n",
    "            ephemeral_ports_all.append(i)\n",
    "        else:\n",
    "            off_the_charts_all.append(i)\n",
    "    except:\n",
    "        not_valid_all.append(i)\n",
    "        continue\n",
    "print(\"Well Known Ports Total: \"+str(len(well_known_ports_all)))\n",
    "print(\"Registered Ports Total: \"+str(len(registered_ports_all)))\n",
    "print(\"Ephemeral Ports Total: \"+str(len(ephemeral_ports_all)))\n",
    "print(\"Ports Not On Any Chart Total: \"+str(len(off_the_charts_all)))\n",
    "print(\"Entries Not Valid Total: \"+str(len(not_valid_all)))\n",
    "\n",
    "# From the below, only the well-known ports appear to be in the correct range to include as one-hot encoded variables. "
   ]
  },
  {
   "cell_type": "code",
   "execution_count": 196,
   "metadata": {
    "ExecuteTime": {
     "end_time": "2020-04-26T16:21:50.921845Z",
     "start_time": "2020-04-26T16:21:50.868981Z"
    }
   },
   "outputs": [
    {
     "data": {
      "text/plain": [
       "4117     2243\n",
       "6269     2193\n",
       "8919     1038\n",
       "10127    1038\n",
       "11546    1038\n",
       "Name: Destination_Port, dtype: object"
      ]
     },
     "execution_count": 196,
     "metadata": {},
     "output_type": "execute_result"
    }
   ],
   "source": [
    "botnet_df = df2['Destination_Port'].loc[df2['Label'].isin(['Botnet','BotnetFILTER_LEGITIMATE'])]\n",
    "botnet_df.head()"
   ]
  },
  {
   "cell_type": "code",
   "execution_count": 197,
   "metadata": {
    "ExecuteTime": {
     "end_time": "2020-04-26T16:21:50.961742Z",
     "start_time": "2020-04-26T16:21:50.924836Z"
    }
   },
   "outputs": [
    {
     "name": "stdout",
     "output_type": "stream",
     "text": [
      "Well Known Ports Total: 12647\n",
      "Registered Ports Total: 8195\n",
      "Ephemeral Ports Total: 864\n",
      "Ports Not On Any Chart Total: 0\n",
      "Entries Not Valid Total: 54\n"
     ]
    }
   ],
   "source": [
    "# Attempting to discern the total amount of ports in each category of port (well-known, registered, and ephemeral)\n",
    "# just for botnet traffic. \n",
    "well_known_ports_botnet = []\n",
    "registered_ports_botnet = []\n",
    "ephemeral_ports_botnet = []\n",
    "off_the_charts_botnet = []\n",
    "not_valid_botnet = []\n",
    "\n",
    "# Note that this is counting the total number of ports for all observations associated with botnet traffic.\n",
    "for i in botnet_df:\n",
    "    try:\n",
    "        i = int(i)\n",
    "        if 0 <= int(i) <= 1023:\n",
    "            well_known_ports_botnet.append(i)\n",
    "        elif 1024 <= int(i) <= 49151:\n",
    "            registered_ports_botnet.append(i)\n",
    "        elif 49152 <= int(i) <= 65535:\n",
    "            ephemeral_ports_botnet.append(i)\n",
    "        else:\n",
    "            off_the_charts_botnet.append(i)\n",
    "    except:\n",
    "        not_valid_botnet.append(i)\n",
    "        continue\n",
    "print(\"Well Known Ports Total: \"+str(len(well_known_ports_botnet)))\n",
    "print(\"Registered Ports Total: \"+str(len(registered_ports_botnet)))\n",
    "print(\"Ephemeral Ports Total: \"+str(len(ephemeral_ports_botnet)))\n",
    "print(\"Ports Not On Any Chart Total: \"+str(len(off_the_charts_botnet)))\n",
    "print(\"Entries Not Valid Total: \"+str(len(not_valid_botnet)))\n",
    "\n",
    "# From the below, botnet traffic appears to take on a mix of well-known, registered, and ephemeral ports.  \n",
    "# I think that just using well-known ports, for simplicity and given our limited resources, is fine for training. "
   ]
  },
  {
   "cell_type": "code",
   "execution_count": null,
   "metadata": {},
   "outputs": [],
   "source": []
  },
  {
   "cell_type": "code",
   "execution_count": null,
   "metadata": {},
   "outputs": [],
   "source": []
  }
 ],
 "metadata": {
  "hide_input": false,
  "kernelspec": {
   "display_name": "Python 3",
   "language": "python",
   "name": "python3"
  },
  "language_info": {
   "codemirror_mode": {
    "name": "ipython",
    "version": 3
   },
   "file_extension": ".py",
   "mimetype": "text/x-python",
   "name": "python",
   "nbconvert_exporter": "python",
   "pygments_lexer": "ipython3",
   "version": "3.7.4"
  },
  "toc": {
   "base_numbering": 1,
   "nav_menu": {},
   "number_sections": true,
   "sideBar": true,
   "skip_h1_title": false,
   "title_cell": "Table of Contents",
   "title_sidebar": "Contents",
   "toc_cell": false,
   "toc_position": {},
   "toc_section_display": true,
   "toc_window_display": false
  },
  "varInspector": {
   "cols": {
    "lenName": 16,
    "lenType": 16,
    "lenVar": 40
   },
   "kernels_config": {
    "python": {
     "delete_cmd_postfix": "",
     "delete_cmd_prefix": "del ",
     "library": "var_list.py",
     "varRefreshCmd": "print(var_dic_list())"
    },
    "r": {
     "delete_cmd_postfix": ") ",
     "delete_cmd_prefix": "rm(",
     "library": "var_list.r",
     "varRefreshCmd": "cat(var_dic_list()) "
    }
   },
   "types_to_exclude": [
    "module",
    "function",
    "builtin_function_or_method",
    "instance",
    "_Feature"
   ],
   "window_display": false
  }
 },
 "nbformat": 4,
 "nbformat_minor": 2
}
