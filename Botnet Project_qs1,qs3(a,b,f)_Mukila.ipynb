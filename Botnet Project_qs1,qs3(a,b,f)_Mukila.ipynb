{
 "cells": [
  {
   "cell_type": "markdown",
   "metadata": {},
   "source": [
    " <font size=6><b>DSC 522 Ghost Hunting: Finding a Botnet in Netflow Traffic<br>\n",
    "    <font size=4>Cleaning the dataset, Qs.1 and Qs.3 a,b,f done by Mukila Rajasekar\n",
    " "
   ]
  },
  {
   "cell_type": "markdown",
   "metadata": {},
   "source": [
    "## Cleaning the dataset"
   ]
  },
  {
   "cell_type": "code",
   "execution_count": 1,
   "metadata": {
    "ExecuteTime": {
     "end_time": "2020-04-30T21:26:05.973807Z",
     "start_time": "2020-04-30T21:26:05.969850Z"
    }
   },
   "outputs": [],
   "source": [
    "# Please note!!!  The group had to expand the RAM available to Jupyter for this code to run. \n",
    "# We exapnded the RAM to 4GB and recommend you do the same.  Please see the answer to the below\n",
    "# stackoverflow page concerning expanding the amount of max_buffer_size. \n",
    "# https://stackoverflow.com/questions/57948003/how-to-increase-jupyter-notebook-memory-limit"
   ]
  },
  {
   "cell_type": "code",
   "execution_count": 2,
   "metadata": {
    "ExecuteTime": {
     "end_time": "2020-04-30T21:26:07.150942Z",
     "start_time": "2020-04-30T21:26:06.492652Z"
    }
   },
   "outputs": [],
   "source": [
    "#Importing packages\n",
    "import pandas as pd\n",
    "import warnings\n",
    "warnings.filterwarnings('ignore')"
   ]
  },
  {
   "cell_type": "code",
   "execution_count": 3,
   "metadata": {
    "ExecuteTime": {
     "end_time": "2020-04-30T21:26:10.982411Z",
     "start_time": "2020-04-30T21:26:08.221774Z"
    },
    "scrolled": true
   },
   "outputs": [
    {
     "data": {
      "text/html": [
       "<div>\n",
       "<style scoped>\n",
       "    .dataframe tbody tr th:only-of-type {\n",
       "        vertical-align: middle;\n",
       "    }\n",
       "\n",
       "    .dataframe tbody tr th {\n",
       "        vertical-align: top;\n",
       "    }\n",
       "\n",
       "    .dataframe thead th {\n",
       "        text-align: right;\n",
       "    }\n",
       "</style>\n",
       "<table border=\"1\" class=\"dataframe\">\n",
       "  <thead>\n",
       "    <tr style=\"text-align: right;\">\n",
       "      <th></th>\n",
       "      <th>Date</th>\n",
       "      <th>flow</th>\n",
       "      <th>start</th>\n",
       "      <th>Durat</th>\n",
       "      <th>Prot</th>\n",
       "      <th>Src</th>\n",
       "      <th>IP</th>\n",
       "      <th>Addr:Port</th>\n",
       "      <th>Dst</th>\n",
       "      <th>IP.1</th>\n",
       "      <th>Addr:Port.1</th>\n",
       "      <th>Flags</th>\n",
       "      <th>Tos</th>\n",
       "      <th>Packets</th>\n",
       "      <th>Bytes</th>\n",
       "      <th>Flows</th>\n",
       "      <th>Label</th>\n",
       "      <th>Labels</th>\n",
       "    </tr>\n",
       "  </thead>\n",
       "  <tbody>\n",
       "    <tr>\n",
       "      <td>0</td>\n",
       "      <td>2011-08-15</td>\n",
       "      <td>17:13:40.449</td>\n",
       "      <td>4.230</td>\n",
       "      <td>TCP</td>\n",
       "      <td>90.177.154.197:20127</td>\n",
       "      <td>-&gt;</td>\n",
       "      <td>147.32.84.144:22</td>\n",
       "      <td>PA_</td>\n",
       "      <td>0</td>\n",
       "      <td>180</td>\n",
       "      <td>12628</td>\n",
       "      <td>1</td>\n",
       "      <td>Background</td>\n",
       "      <td>NaN</td>\n",
       "      <td>NaN</td>\n",
       "      <td>NaN</td>\n",
       "      <td>NaN</td>\n",
       "      <td>NaN</td>\n",
       "    </tr>\n",
       "    <tr>\n",
       "      <td>1</td>\n",
       "      <td>2011-08-15</td>\n",
       "      <td>17:13:40.449</td>\n",
       "      <td>4.204</td>\n",
       "      <td>TCP</td>\n",
       "      <td>147.32.84.144:22</td>\n",
       "      <td>-&gt;</td>\n",
       "      <td>90.177.154.197:20127</td>\n",
       "      <td>PA_</td>\n",
       "      <td>0</td>\n",
       "      <td>329</td>\n",
       "      <td>478578</td>\n",
       "      <td>1</td>\n",
       "      <td>Background</td>\n",
       "      <td>NaN</td>\n",
       "      <td>NaN</td>\n",
       "      <td>NaN</td>\n",
       "      <td>NaN</td>\n",
       "      <td>NaN</td>\n",
       "    </tr>\n",
       "  </tbody>\n",
       "</table>\n",
       "</div>"
      ],
      "text/plain": [
       "         Date          flow  start Durat                  Prot Src  \\\n",
       "0  2011-08-15  17:13:40.449  4.230   TCP  90.177.154.197:20127  ->   \n",
       "1  2011-08-15  17:13:40.449  4.204   TCP      147.32.84.144:22  ->   \n",
       "\n",
       "                     IP Addr:Port  Dst  IP.1  Addr:Port.1  Flags         Tos  \\\n",
       "0      147.32.84.144:22       PA_    0   180        12628      1  Background   \n",
       "1  90.177.154.197:20127       PA_    0   329       478578      1  Background   \n",
       "\n",
       "  Packets  Bytes  Flows  Label  Labels  \n",
       "0     NaN    NaN    NaN    NaN     NaN  \n",
       "1     NaN    NaN    NaN    NaN     NaN  "
      ]
     },
     "execution_count": 3,
     "metadata": {},
     "output_type": "execute_result"
    }
   ],
   "source": [
    "#Reading df\n",
    "df = pd.read_csv(r'capture20110815-3.pcap.netflow_v2.txt', delim_whitespace=True)\n",
    "df.head(2)"
   ]
  },
  {
   "cell_type": "code",
   "execution_count": 6,
   "metadata": {
    "ExecuteTime": {
     "end_time": "2020-04-28T20:46:41.861430Z",
     "start_time": "2020-04-28T20:46:41.801597Z"
    }
   },
   "outputs": [
    {
     "data": {
      "text/plain": [
       "array([nan, 'FILTER_LEGITIMATE'], dtype=object)"
      ]
     },
     "execution_count": 6,
     "metadata": {},
     "output_type": "execute_result"
    }
   ],
   "source": [
    "#The below was an extra, hidden column in the data set. \n",
    "df.Packets.unique()"
   ]
  },
  {
   "cell_type": "code",
   "execution_count": 7,
   "metadata": {
    "ExecuteTime": {
     "end_time": "2020-04-28T20:46:41.979121Z",
     "start_time": "2020-04-28T20:46:41.864415Z"
    }
   },
   "outputs": [],
   "source": [
    "#Dropping unneccesary columns\n",
    "df.drop(['Src','Bytes','Flows','Label','Labels','Flags'],axis=1,inplace = True)"
   ]
  },
  {
   "cell_type": "code",
   "execution_count": 8,
   "metadata": {
    "ExecuteTime": {
     "end_time": "2020-04-28T20:46:41.998058Z",
     "start_time": "2020-04-28T20:46:41.982100Z"
    },
    "scrolled": true
   },
   "outputs": [
    {
     "data": {
      "text/html": [
       "<div>\n",
       "<style scoped>\n",
       "    .dataframe tbody tr th:only-of-type {\n",
       "        vertical-align: middle;\n",
       "    }\n",
       "\n",
       "    .dataframe tbody tr th {\n",
       "        vertical-align: top;\n",
       "    }\n",
       "\n",
       "    .dataframe thead th {\n",
       "        text-align: right;\n",
       "    }\n",
       "</style>\n",
       "<table border=\"1\" class=\"dataframe\">\n",
       "  <thead>\n",
       "    <tr style=\"text-align: right;\">\n",
       "      <th></th>\n",
       "      <th>Date</th>\n",
       "      <th>flow</th>\n",
       "      <th>start</th>\n",
       "      <th>Durat</th>\n",
       "      <th>Prot</th>\n",
       "      <th>IP</th>\n",
       "      <th>Addr:Port</th>\n",
       "      <th>Dst</th>\n",
       "      <th>IP.1</th>\n",
       "      <th>Addr:Port.1</th>\n",
       "      <th>Tos</th>\n",
       "      <th>Packets</th>\n",
       "    </tr>\n",
       "  </thead>\n",
       "  <tbody>\n",
       "    <tr>\n",
       "      <th>0</th>\n",
       "      <td>2011-08-15</td>\n",
       "      <td>17:13:40.449</td>\n",
       "      <td>4.230</td>\n",
       "      <td>TCP</td>\n",
       "      <td>90.177.154.197:20127</td>\n",
       "      <td>147.32.84.144:22</td>\n",
       "      <td>PA_</td>\n",
       "      <td>0</td>\n",
       "      <td>180</td>\n",
       "      <td>12628</td>\n",
       "      <td>Background</td>\n",
       "      <td>NaN</td>\n",
       "    </tr>\n",
       "    <tr>\n",
       "      <th>1</th>\n",
       "      <td>2011-08-15</td>\n",
       "      <td>17:13:40.449</td>\n",
       "      <td>4.204</td>\n",
       "      <td>TCP</td>\n",
       "      <td>147.32.84.144:22</td>\n",
       "      <td>90.177.154.197:20127</td>\n",
       "      <td>PA_</td>\n",
       "      <td>0</td>\n",
       "      <td>329</td>\n",
       "      <td>478578</td>\n",
       "      <td>Background</td>\n",
       "      <td>NaN</td>\n",
       "    </tr>\n",
       "  </tbody>\n",
       "</table>\n",
       "</div>"
      ],
      "text/plain": [
       "         Date          flow  start Durat                  Prot  \\\n",
       "0  2011-08-15  17:13:40.449  4.230   TCP  90.177.154.197:20127   \n",
       "1  2011-08-15  17:13:40.449  4.204   TCP      147.32.84.144:22   \n",
       "\n",
       "                     IP Addr:Port  Dst  IP.1  Addr:Port.1         Tos Packets  \n",
       "0      147.32.84.144:22       PA_    0   180        12628  Background     NaN  \n",
       "1  90.177.154.197:20127       PA_    0   329       478578  Background     NaN  "
      ]
     },
     "execution_count": 8,
     "metadata": {},
     "output_type": "execute_result"
    }
   ],
   "source": [
    "df.head(2)"
   ]
  },
  {
   "cell_type": "code",
   "execution_count": 9,
   "metadata": {
    "ExecuteTime": {
     "end_time": "2020-04-28T20:46:47.819632Z",
     "start_time": "2020-04-28T20:46:42.001050Z"
    }
   },
   "outputs": [],
   "source": [
    "#Splitting Prot and IP columns into their respective IPs and Ports\n",
    "df[['a','b']] = df.Prot.str.split(\":\",n=1,expand=True)\n",
    "df[['c','d']] = df.IP.str.split(\":\",n=1,expand=True)\n",
    "\n",
    "#Drop those columns to avaoid confusion after splitting\n",
    "df.drop(['Prot','IP'],axis=1,inplace = True)"
   ]
  },
  {
   "cell_type": "code",
   "execution_count": 10,
   "metadata": {
    "ExecuteTime": {
     "end_time": "2020-04-28T20:46:47.836606Z",
     "start_time": "2020-04-28T20:46:47.820629Z"
    },
    "scrolled": true
   },
   "outputs": [
    {
     "data": {
      "text/html": [
       "<div>\n",
       "<style scoped>\n",
       "    .dataframe tbody tr th:only-of-type {\n",
       "        vertical-align: middle;\n",
       "    }\n",
       "\n",
       "    .dataframe tbody tr th {\n",
       "        vertical-align: top;\n",
       "    }\n",
       "\n",
       "    .dataframe thead th {\n",
       "        text-align: right;\n",
       "    }\n",
       "</style>\n",
       "<table border=\"1\" class=\"dataframe\">\n",
       "  <thead>\n",
       "    <tr style=\"text-align: right;\">\n",
       "      <th></th>\n",
       "      <th>Date</th>\n",
       "      <th>flow</th>\n",
       "      <th>start</th>\n",
       "      <th>Durat</th>\n",
       "      <th>Addr:Port</th>\n",
       "      <th>Dst</th>\n",
       "      <th>IP.1</th>\n",
       "      <th>Addr:Port.1</th>\n",
       "      <th>Tos</th>\n",
       "      <th>Packets</th>\n",
       "      <th>a</th>\n",
       "      <th>b</th>\n",
       "      <th>c</th>\n",
       "      <th>d</th>\n",
       "    </tr>\n",
       "  </thead>\n",
       "  <tbody>\n",
       "    <tr>\n",
       "      <th>0</th>\n",
       "      <td>2011-08-15</td>\n",
       "      <td>17:13:40.449</td>\n",
       "      <td>4.230</td>\n",
       "      <td>TCP</td>\n",
       "      <td>PA_</td>\n",
       "      <td>0</td>\n",
       "      <td>180</td>\n",
       "      <td>12628</td>\n",
       "      <td>Background</td>\n",
       "      <td>NaN</td>\n",
       "      <td>90.177.154.197</td>\n",
       "      <td>20127</td>\n",
       "      <td>147.32.84.144</td>\n",
       "      <td>22</td>\n",
       "    </tr>\n",
       "    <tr>\n",
       "      <th>1</th>\n",
       "      <td>2011-08-15</td>\n",
       "      <td>17:13:40.449</td>\n",
       "      <td>4.204</td>\n",
       "      <td>TCP</td>\n",
       "      <td>PA_</td>\n",
       "      <td>0</td>\n",
       "      <td>329</td>\n",
       "      <td>478578</td>\n",
       "      <td>Background</td>\n",
       "      <td>NaN</td>\n",
       "      <td>147.32.84.144</td>\n",
       "      <td>22</td>\n",
       "      <td>90.177.154.197</td>\n",
       "      <td>20127</td>\n",
       "    </tr>\n",
       "  </tbody>\n",
       "</table>\n",
       "</div>"
      ],
      "text/plain": [
       "         Date          flow  start Durat Addr:Port  Dst  IP.1  Addr:Port.1  \\\n",
       "0  2011-08-15  17:13:40.449  4.230   TCP       PA_    0   180        12628   \n",
       "1  2011-08-15  17:13:40.449  4.204   TCP       PA_    0   329       478578   \n",
       "\n",
       "          Tos Packets               a      b               c      d  \n",
       "0  Background     NaN  90.177.154.197  20127   147.32.84.144     22  \n",
       "1  Background     NaN   147.32.84.144     22  90.177.154.197  20127  "
      ]
     },
     "execution_count": 10,
     "metadata": {},
     "output_type": "execute_result"
    }
   ],
   "source": [
    "df.head(2)"
   ]
  },
  {
   "cell_type": "code",
   "execution_count": 11,
   "metadata": {
    "ExecuteTime": {
     "end_time": "2020-04-28T20:46:47.955129Z",
     "start_time": "2020-04-28T20:46:47.838908Z"
    }
   },
   "outputs": [],
   "source": [
    "#Renaming the columns using their proper names from the excel file\n",
    "df.rename(columns = {list(df)[1]:'Flow_Start',list(df)[2]:'Duration',list(df)[3]:'Protocol',list(df)[10]:'Source_IP',list(df)[11]:'Source_Port',\n",
    "                    list(df)[12]:'Destination_IP',list(df)[13]:'Destination_Port',list(df)[4]:'Flags',list(df)[5]:'Type_of_Service',\n",
    "                    list(df)[6]:'Packets',list(df)[7]:'Bytes',list(df)[8]:'Labels',list(df)[9]:'Additional_Label'}, inplace = True)"
   ]
  },
  {
   "cell_type": "code",
   "execution_count": 12,
   "metadata": {
    "ExecuteTime": {
     "end_time": "2020-04-28T20:46:47.973059Z",
     "start_time": "2020-04-28T20:46:47.958105Z"
    }
   },
   "outputs": [
    {
     "data": {
      "text/html": [
       "<div>\n",
       "<style scoped>\n",
       "    .dataframe tbody tr th:only-of-type {\n",
       "        vertical-align: middle;\n",
       "    }\n",
       "\n",
       "    .dataframe tbody tr th {\n",
       "        vertical-align: top;\n",
       "    }\n",
       "\n",
       "    .dataframe thead th {\n",
       "        text-align: right;\n",
       "    }\n",
       "</style>\n",
       "<table border=\"1\" class=\"dataframe\">\n",
       "  <thead>\n",
       "    <tr style=\"text-align: right;\">\n",
       "      <th></th>\n",
       "      <th>Date</th>\n",
       "      <th>Flow_Start</th>\n",
       "      <th>Duration</th>\n",
       "      <th>Protocol</th>\n",
       "      <th>Flags</th>\n",
       "      <th>Type_of_Service</th>\n",
       "      <th>Packets</th>\n",
       "      <th>Bytes</th>\n",
       "      <th>Labels</th>\n",
       "      <th>Additional_Label</th>\n",
       "      <th>Source_IP</th>\n",
       "      <th>Source_Port</th>\n",
       "      <th>Destination_IP</th>\n",
       "      <th>Destination_Port</th>\n",
       "    </tr>\n",
       "  </thead>\n",
       "  <tbody>\n",
       "    <tr>\n",
       "      <th>0</th>\n",
       "      <td>2011-08-15</td>\n",
       "      <td>17:13:40.449</td>\n",
       "      <td>4.230</td>\n",
       "      <td>TCP</td>\n",
       "      <td>PA_</td>\n",
       "      <td>0</td>\n",
       "      <td>180</td>\n",
       "      <td>12628</td>\n",
       "      <td>Background</td>\n",
       "      <td>NaN</td>\n",
       "      <td>90.177.154.197</td>\n",
       "      <td>20127</td>\n",
       "      <td>147.32.84.144</td>\n",
       "      <td>22</td>\n",
       "    </tr>\n",
       "    <tr>\n",
       "      <th>1</th>\n",
       "      <td>2011-08-15</td>\n",
       "      <td>17:13:40.449</td>\n",
       "      <td>4.204</td>\n",
       "      <td>TCP</td>\n",
       "      <td>PA_</td>\n",
       "      <td>0</td>\n",
       "      <td>329</td>\n",
       "      <td>478578</td>\n",
       "      <td>Background</td>\n",
       "      <td>NaN</td>\n",
       "      <td>147.32.84.144</td>\n",
       "      <td>22</td>\n",
       "      <td>90.177.154.197</td>\n",
       "      <td>20127</td>\n",
       "    </tr>\n",
       "  </tbody>\n",
       "</table>\n",
       "</div>"
      ],
      "text/plain": [
       "         Date    Flow_Start  Duration Protocol Flags  Type_of_Service  \\\n",
       "0  2011-08-15  17:13:40.449     4.230      TCP   PA_                0   \n",
       "1  2011-08-15  17:13:40.449     4.204      TCP   PA_                0   \n",
       "\n",
       "   Packets   Bytes      Labels Additional_Label       Source_IP Source_Port  \\\n",
       "0      180   12628  Background              NaN  90.177.154.197       20127   \n",
       "1      329  478578  Background              NaN   147.32.84.144          22   \n",
       "\n",
       "   Destination_IP Destination_Port  \n",
       "0   147.32.84.144               22  \n",
       "1  90.177.154.197            20127  "
      ]
     },
     "execution_count": 12,
     "metadata": {},
     "output_type": "execute_result"
    }
   ],
   "source": [
    "df.head(2)"
   ]
  },
  {
   "cell_type": "code",
   "execution_count": 13,
   "metadata": {
    "ExecuteTime": {
     "end_time": "2020-04-28T20:46:48.040903Z",
     "start_time": "2020-04-28T20:46:47.976051Z"
    }
   },
   "outputs": [
    {
     "data": {
      "text/plain": [
       "array(['2011-08-15'], dtype=object)"
      ]
     },
     "execution_count": 13,
     "metadata": {},
     "output_type": "execute_result"
    }
   ],
   "source": [
    "df.Date.unique() #Looks like all the rows of the DATE column are same so I'm dropping it"
   ]
  },
  {
   "cell_type": "code",
   "execution_count": 14,
   "metadata": {
    "ExecuteTime": {
     "end_time": "2020-04-28T20:46:48.191475Z",
     "start_time": "2020-04-28T20:46:48.042886Z"
    }
   },
   "outputs": [],
   "source": [
    "df.drop(['Date'],axis=1,inplace = True)"
   ]
  },
  {
   "cell_type": "code",
   "execution_count": 15,
   "metadata": {
    "ExecuteTime": {
     "end_time": "2020-04-28T20:46:48.206434Z",
     "start_time": "2020-04-28T20:46:48.193470Z"
    },
    "scrolled": true
   },
   "outputs": [
    {
     "data": {
      "text/html": [
       "<div>\n",
       "<style scoped>\n",
       "    .dataframe tbody tr th:only-of-type {\n",
       "        vertical-align: middle;\n",
       "    }\n",
       "\n",
       "    .dataframe tbody tr th {\n",
       "        vertical-align: top;\n",
       "    }\n",
       "\n",
       "    .dataframe thead th {\n",
       "        text-align: right;\n",
       "    }\n",
       "</style>\n",
       "<table border=\"1\" class=\"dataframe\">\n",
       "  <thead>\n",
       "    <tr style=\"text-align: right;\">\n",
       "      <th></th>\n",
       "      <th>Flow_Start</th>\n",
       "      <th>Duration</th>\n",
       "      <th>Protocol</th>\n",
       "      <th>Flags</th>\n",
       "      <th>Type_of_Service</th>\n",
       "      <th>Packets</th>\n",
       "      <th>Bytes</th>\n",
       "      <th>Labels</th>\n",
       "      <th>Additional_Label</th>\n",
       "      <th>Source_IP</th>\n",
       "      <th>Source_Port</th>\n",
       "      <th>Destination_IP</th>\n",
       "      <th>Destination_Port</th>\n",
       "    </tr>\n",
       "  </thead>\n",
       "  <tbody>\n",
       "    <tr>\n",
       "      <th>0</th>\n",
       "      <td>17:13:40.449</td>\n",
       "      <td>4.230</td>\n",
       "      <td>TCP</td>\n",
       "      <td>PA_</td>\n",
       "      <td>0</td>\n",
       "      <td>180</td>\n",
       "      <td>12628</td>\n",
       "      <td>Background</td>\n",
       "      <td>NaN</td>\n",
       "      <td>90.177.154.197</td>\n",
       "      <td>20127</td>\n",
       "      <td>147.32.84.144</td>\n",
       "      <td>22</td>\n",
       "    </tr>\n",
       "    <tr>\n",
       "      <th>1</th>\n",
       "      <td>17:13:40.449</td>\n",
       "      <td>4.204</td>\n",
       "      <td>TCP</td>\n",
       "      <td>PA_</td>\n",
       "      <td>0</td>\n",
       "      <td>329</td>\n",
       "      <td>478578</td>\n",
       "      <td>Background</td>\n",
       "      <td>NaN</td>\n",
       "      <td>147.32.84.144</td>\n",
       "      <td>22</td>\n",
       "      <td>90.177.154.197</td>\n",
       "      <td>20127</td>\n",
       "    </tr>\n",
       "  </tbody>\n",
       "</table>\n",
       "</div>"
      ],
      "text/plain": [
       "     Flow_Start  Duration Protocol Flags  Type_of_Service  Packets   Bytes  \\\n",
       "0  17:13:40.449     4.230      TCP   PA_                0      180   12628   \n",
       "1  17:13:40.449     4.204      TCP   PA_                0      329  478578   \n",
       "\n",
       "       Labels Additional_Label       Source_IP Source_Port  Destination_IP  \\\n",
       "0  Background              NaN  90.177.154.197       20127   147.32.84.144   \n",
       "1  Background              NaN   147.32.84.144          22  90.177.154.197   \n",
       "\n",
       "  Destination_Port  \n",
       "0               22  \n",
       "1            20127  "
      ]
     },
     "execution_count": 15,
     "metadata": {},
     "output_type": "execute_result"
    }
   ],
   "source": [
    "df.head(2)"
   ]
  },
  {
   "cell_type": "code",
   "execution_count": 16,
   "metadata": {
    "ExecuteTime": {
     "end_time": "2020-04-28T20:46:48.294202Z",
     "start_time": "2020-04-28T20:46:48.208470Z"
    }
   },
   "outputs": [
    {
     "data": {
      "text/plain": [
       "array([nan, 'FILTER_LEGITIMATE'], dtype=object)"
      ]
     },
     "execution_count": 16,
     "metadata": {},
     "output_type": "execute_result"
    }
   ],
   "source": [
    "#Combining 2 label columns\n",
    "df.Additional_Label.unique()"
   ]
  },
  {
   "cell_type": "code",
   "execution_count": 17,
   "metadata": {
    "ExecuteTime": {
     "end_time": "2020-04-28T20:46:48.677176Z",
     "start_time": "2020-04-28T20:46:48.296195Z"
    }
   },
   "outputs": [],
   "source": [
    "df['Label'] = df['Labels'].astype(str) + df['Additional_Label'].astype(str)"
   ]
  },
  {
   "cell_type": "code",
   "execution_count": 18,
   "metadata": {
    "ExecuteTime": {
     "end_time": "2020-04-28T20:46:48.792866Z",
     "start_time": "2020-04-28T20:46:48.679171Z"
    }
   },
   "outputs": [
    {
     "data": {
      "text/plain": [
       "array(['Backgroundnan', 'LEGITIMATEnan', 'Botnetnan',\n",
       "       'BotnetFILTER_LEGITIMATE'], dtype=object)"
      ]
     },
     "execution_count": 18,
     "metadata": {},
     "output_type": "execute_result"
    }
   ],
   "source": [
    "# The 'nan' at the end of each of the below are annoying, but workable.  \n",
    "df.Label.unique() "
   ]
  },
  {
   "cell_type": "code",
   "execution_count": 19,
   "metadata": {
    "ExecuteTime": {
     "end_time": "2020-04-28T20:46:49.309988Z",
     "start_time": "2020-04-28T20:46:48.794862Z"
    }
   },
   "outputs": [],
   "source": [
    "#Dropping unneccesary columns\n",
    "df.drop(['Labels','Additional_Label'],axis=1,inplace = True)"
   ]
  },
  {
   "cell_type": "code",
   "execution_count": 20,
   "metadata": {
    "ExecuteTime": {
     "end_time": "2020-04-28T20:46:49.323952Z",
     "start_time": "2020-04-28T20:46:49.310985Z"
    }
   },
   "outputs": [
    {
     "data": {
      "text/html": [
       "<div>\n",
       "<style scoped>\n",
       "    .dataframe tbody tr th:only-of-type {\n",
       "        vertical-align: middle;\n",
       "    }\n",
       "\n",
       "    .dataframe tbody tr th {\n",
       "        vertical-align: top;\n",
       "    }\n",
       "\n",
       "    .dataframe thead th {\n",
       "        text-align: right;\n",
       "    }\n",
       "</style>\n",
       "<table border=\"1\" class=\"dataframe\">\n",
       "  <thead>\n",
       "    <tr style=\"text-align: right;\">\n",
       "      <th></th>\n",
       "      <th>Flow_Start</th>\n",
       "      <th>Duration</th>\n",
       "      <th>Protocol</th>\n",
       "      <th>Flags</th>\n",
       "      <th>Type_of_Service</th>\n",
       "      <th>Packets</th>\n",
       "      <th>Bytes</th>\n",
       "      <th>Source_IP</th>\n",
       "      <th>Source_Port</th>\n",
       "      <th>Destination_IP</th>\n",
       "      <th>Destination_Port</th>\n",
       "      <th>Label</th>\n",
       "    </tr>\n",
       "  </thead>\n",
       "  <tbody>\n",
       "    <tr>\n",
       "      <th>0</th>\n",
       "      <td>17:13:40.449</td>\n",
       "      <td>4.230</td>\n",
       "      <td>TCP</td>\n",
       "      <td>PA_</td>\n",
       "      <td>0</td>\n",
       "      <td>180</td>\n",
       "      <td>12628</td>\n",
       "      <td>90.177.154.197</td>\n",
       "      <td>20127</td>\n",
       "      <td>147.32.84.144</td>\n",
       "      <td>22</td>\n",
       "      <td>Backgroundnan</td>\n",
       "    </tr>\n",
       "    <tr>\n",
       "      <th>1</th>\n",
       "      <td>17:13:40.449</td>\n",
       "      <td>4.204</td>\n",
       "      <td>TCP</td>\n",
       "      <td>PA_</td>\n",
       "      <td>0</td>\n",
       "      <td>329</td>\n",
       "      <td>478578</td>\n",
       "      <td>147.32.84.144</td>\n",
       "      <td>22</td>\n",
       "      <td>90.177.154.197</td>\n",
       "      <td>20127</td>\n",
       "      <td>Backgroundnan</td>\n",
       "    </tr>\n",
       "  </tbody>\n",
       "</table>\n",
       "</div>"
      ],
      "text/plain": [
       "     Flow_Start  Duration Protocol Flags  Type_of_Service  Packets   Bytes  \\\n",
       "0  17:13:40.449     4.230      TCP   PA_                0      180   12628   \n",
       "1  17:13:40.449     4.204      TCP   PA_                0      329  478578   \n",
       "\n",
       "        Source_IP Source_Port  Destination_IP Destination_Port          Label  \n",
       "0  90.177.154.197       20127   147.32.84.144               22  Backgroundnan  \n",
       "1   147.32.84.144          22  90.177.154.197            20127  Backgroundnan  "
      ]
     },
     "execution_count": 20,
     "metadata": {},
     "output_type": "execute_result"
    }
   ],
   "source": [
    "df.head(2)"
   ]
  },
  {
   "cell_type": "code",
   "execution_count": 21,
   "metadata": {
    "ExecuteTime": {
     "end_time": "2020-04-28T20:46:49.960477Z",
     "start_time": "2020-04-28T20:46:49.325975Z"
    },
    "scrolled": true
   },
   "outputs": [
    {
     "name": "stdout",
     "output_type": "stream",
     "text": [
      "<class 'pandas.core.frame.DataFrame'>\n",
      "RangeIndex: 1299090 entries, 0 to 1299089\n",
      "Data columns (total 12 columns):\n",
      "Flow_Start          1299090 non-null object\n",
      "Duration            1299090 non-null float64\n",
      "Protocol            1299090 non-null object\n",
      "Flags               1299090 non-null object\n",
      "Type_of_Service     1299090 non-null int64\n",
      "Packets             1299090 non-null int64\n",
      "Bytes               1299090 non-null int64\n",
      "Source_IP           1299090 non-null object\n",
      "Source_Port         1282687 non-null object\n",
      "Destination_IP      1299090 non-null object\n",
      "Destination_Port    1281795 non-null object\n",
      "Label               1299090 non-null object\n",
      "dtypes: float64(1), int64(3), object(8)\n",
      "memory usage: 118.9+ MB\n"
     ]
    }
   ],
   "source": [
    "df.info() #Source_port and destination_port have a few missing values"
   ]
  },
  {
   "cell_type": "code",
   "execution_count": 22,
   "metadata": {
    "ExecuteTime": {
     "end_time": "2020-04-28T20:46:49.976434Z",
     "start_time": "2020-04-28T20:46:49.962472Z"
    }
   },
   "outputs": [
    {
     "data": {
      "text/plain": [
       "array([  0,   3, 192,   2,   1], dtype=int64)"
      ]
     },
     "execution_count": 22,
     "metadata": {},
     "output_type": "execute_result"
    }
   ],
   "source": [
    "df.Type_of_Service.unique() #Only 5 unique TOS.  Will need to scale this variable later. "
   ]
  },
  {
   "cell_type": "code",
   "execution_count": 23,
   "metadata": {
    "ExecuteTime": {
     "end_time": "2020-04-28T20:46:50.270680Z",
     "start_time": "2020-04-28T20:46:49.978429Z"
    }
   },
   "outputs": [
    {
     "name": "stdout",
     "output_type": "stream",
     "text": [
      "Label\n",
      "Backgroundnan              1218140\n",
      "BotnetFILTER_LEGITIMATE        648\n",
      "Botnetnan                    21112\n",
      "LEGITIMATEnan                59190\n",
      "dtype: int64 Label\n",
      "Backgroundnan              0.937687\n",
      "BotnetFILTER_LEGITIMATE    0.000499\n",
      "Botnetnan                  0.016251\n",
      "LEGITIMATEnan              0.045563\n",
      "dtype: float64\n"
     ]
    }
   ],
   "source": [
    "print(df.groupby('Label').size(), df.groupby('Label').size()/1299090) #Percent of data for each label type\n",
    "\n",
    "#Total number of obs = 1299090(1.29million)"
   ]
  },
  {
   "cell_type": "code",
   "execution_count": 24,
   "metadata": {
    "ExecuteTime": {
     "end_time": "2020-04-28T20:46:50.324062Z",
     "start_time": "2020-04-28T20:46:50.272673Z"
    }
   },
   "outputs": [
    {
     "data": {
      "text/plain": [
       "array(['PA_', 'INT', 'A_', 'SA_', 'FSPA_', '_FSPA', 'URP', 'S_', 'RA_',\n",
       "       'FSRPA_', 'SRPA_', 'FA_', 'SPA_', 'FPA_', 'RED', 'ECR', 'URH',\n",
       "       'R_', 'FSA_', '_FSA', 'FRA_', '_FSRPA', 'FRPA_', 'SR_', 'ECO',\n",
       "       'SRA_', 'CON', 'TXD', 'PAC_', 'RPA_', 'NRA', 'URN', 'FSRA_',\n",
       "       'URFIL', 'NNS', 'FRPAC_', 'URHPRO', '_FSRA', 'FSRPAC_', 'URO',\n",
       "       'F_', 'FSPAC_', 'RE_', 'FS_', 'FPAC_', 'SPAC_', 'URF', 'FAU_',\n",
       "       'RPA_FRPA', '_FSPAC', 'RC_', 'FR_', 'FSR_', 'SRC', 'SEC_', 'FAC_',\n",
       "       'FRAEC_'], dtype=object)"
      ]
     },
     "execution_count": 24,
     "metadata": {},
     "output_type": "execute_result"
    }
   ],
   "source": [
    "df.Flags.unique()"
   ]
  },
  {
   "cell_type": "code",
   "execution_count": 25,
   "metadata": {
    "ExecuteTime": {
     "end_time": "2020-04-28T20:46:51.270752Z",
     "start_time": "2020-04-28T20:46:50.326025Z"
    }
   },
   "outputs": [],
   "source": [
    "df['Label'] = df['Label'].str.replace(r'nan', '')"
   ]
  },
  {
   "cell_type": "code",
   "execution_count": 26,
   "metadata": {
    "ExecuteTime": {
     "end_time": "2020-04-28T20:46:51.286647Z",
     "start_time": "2020-04-28T20:46:51.271669Z"
    },
    "scrolled": true
   },
   "outputs": [
    {
     "data": {
      "text/html": [
       "<div>\n",
       "<style scoped>\n",
       "    .dataframe tbody tr th:only-of-type {\n",
       "        vertical-align: middle;\n",
       "    }\n",
       "\n",
       "    .dataframe tbody tr th {\n",
       "        vertical-align: top;\n",
       "    }\n",
       "\n",
       "    .dataframe thead th {\n",
       "        text-align: right;\n",
       "    }\n",
       "</style>\n",
       "<table border=\"1\" class=\"dataframe\">\n",
       "  <thead>\n",
       "    <tr style=\"text-align: right;\">\n",
       "      <th></th>\n",
       "      <th>Flow_Start</th>\n",
       "      <th>Duration</th>\n",
       "      <th>Protocol</th>\n",
       "      <th>Flags</th>\n",
       "      <th>Type_of_Service</th>\n",
       "      <th>Packets</th>\n",
       "      <th>Bytes</th>\n",
       "      <th>Source_IP</th>\n",
       "      <th>Source_Port</th>\n",
       "      <th>Destination_IP</th>\n",
       "      <th>Destination_Port</th>\n",
       "      <th>Label</th>\n",
       "    </tr>\n",
       "  </thead>\n",
       "  <tbody>\n",
       "    <tr>\n",
       "      <th>0</th>\n",
       "      <td>17:13:40.449</td>\n",
       "      <td>4.230</td>\n",
       "      <td>TCP</td>\n",
       "      <td>PA_</td>\n",
       "      <td>0</td>\n",
       "      <td>180</td>\n",
       "      <td>12628</td>\n",
       "      <td>90.177.154.197</td>\n",
       "      <td>20127</td>\n",
       "      <td>147.32.84.144</td>\n",
       "      <td>22</td>\n",
       "      <td>Background</td>\n",
       "    </tr>\n",
       "    <tr>\n",
       "      <th>1</th>\n",
       "      <td>17:13:40.449</td>\n",
       "      <td>4.204</td>\n",
       "      <td>TCP</td>\n",
       "      <td>PA_</td>\n",
       "      <td>0</td>\n",
       "      <td>329</td>\n",
       "      <td>478578</td>\n",
       "      <td>147.32.84.144</td>\n",
       "      <td>22</td>\n",
       "      <td>90.177.154.197</td>\n",
       "      <td>20127</td>\n",
       "      <td>Background</td>\n",
       "    </tr>\n",
       "  </tbody>\n",
       "</table>\n",
       "</div>"
      ],
      "text/plain": [
       "     Flow_Start  Duration Protocol Flags  Type_of_Service  Packets   Bytes  \\\n",
       "0  17:13:40.449     4.230      TCP   PA_                0      180   12628   \n",
       "1  17:13:40.449     4.204      TCP   PA_                0      329  478578   \n",
       "\n",
       "        Source_IP Source_Port  Destination_IP Destination_Port       Label  \n",
       "0  90.177.154.197       20127   147.32.84.144               22  Background  \n",
       "1   147.32.84.144          22  90.177.154.197            20127  Background  "
      ]
     },
     "execution_count": 26,
     "metadata": {},
     "output_type": "execute_result"
    }
   ],
   "source": [
    "df.head(2)"
   ]
  },
  {
   "cell_type": "markdown",
   "metadata": {},
   "source": [
    "## Label Encoding Categorical Variables"
   ]
  },
  {
   "cell_type": "markdown",
   "metadata": {},
   "source": [
    "### Flags"
   ]
  },
  {
   "cell_type": "code",
   "execution_count": 27,
   "metadata": {
    "ExecuteTime": {
     "end_time": "2020-04-28T20:46:52.700178Z",
     "start_time": "2020-04-28T20:46:51.292615Z"
    },
    "scrolled": true
   },
   "outputs": [],
   "source": [
    "# Import label encoder \n",
    "from sklearn import preprocessing \n",
    "  \n",
    "# label_encoder object knows how to understand word labels. \n",
    "label_encoder = preprocessing.LabelEncoder() \n",
    "  \n",
    "cat_flags_data= label_encoder.fit_transform(df[['Flags']]) \n",
    "New_cat_flags = pd.DataFrame(cat_flags_data)\n",
    "New_cat_flags=New_cat_flags.rename(columns={0:'Flags'})"
   ]
  },
  {
   "cell_type": "markdown",
   "metadata": {},
   "source": [
    "### Protocol"
   ]
  },
  {
   "cell_type": "code",
   "execution_count": 28,
   "metadata": {
    "ExecuteTime": {
     "end_time": "2020-04-28T20:46:52.950121Z",
     "start_time": "2020-04-28T20:46:52.703088Z"
    },
    "scrolled": true
   },
   "outputs": [],
   "source": [
    "label_encoder = preprocessing.LabelEncoder() \n",
    "  \n",
    "Protocol_Copy= label_encoder.fit_transform(df[['Protocol']]) \n",
    "New_cat_protocol = pd.DataFrame(Protocol_Copy)\n",
    "New_cat_protocol=New_cat_protocol.rename(columns={0:'Protocol'})"
   ]
  },
  {
   "cell_type": "markdown",
   "metadata": {},
   "source": [
    "<font size=5><font color='red'>Qs.1.\tCan we use the geoip2 Python library to effectively expand the variables available with this dataset? <br><br>\n",
    "<font size=4>a.\tCan we determine the home country, city, and organization of each IP address, adding them to the variables list?<br><br>\n",
    "b.\tAre there other variables that the geoip2 library can add to our set?\n",
    "<br><br>\n",
    "<font color='blue'><font size=3>Answer: Only country and city names can be derived from the IP addresses using GeoIP2 package. There were no other variables worth exploring other than the source location variables namely, Source City and Source Country."
   ]
  },
  {
   "cell_type": "markdown",
   "metadata": {},
   "source": [
    "### Adding Source Country and City and then Encoding them"
   ]
  },
  {
   "cell_type": "code",
   "execution_count": 29,
   "metadata": {
    "ExecuteTime": {
     "end_time": "2020-04-28T20:47:19.044825Z",
     "start_time": "2020-04-28T20:46:52.951081Z"
    }
   },
   "outputs": [],
   "source": [
    "# Now recreating the geoip2 data. \n",
    "#Source country\n",
    "import pandas as pd\n",
    "from geolite2 import geolite2\n",
    "\n",
    "def get_country(ip):\n",
    "    try:\n",
    "        df = geo.get(ip)\n",
    "    except ValueError:\n",
    "        return pd.np.nan\n",
    "    try:\n",
    "        return df['country']['names']['en'] if df else pd.np.nan\n",
    "    except KeyError:\n",
    "        return pd.np.nan\n",
    "\n",
    "geo = geolite2.reader()\n",
    "# get unique IPs\n",
    "unique_ips = df['Source_IP'].unique()\n",
    "# make series out of it\n",
    "unique_ips = pd.Series(unique_ips, index = unique_ips)\n",
    "# map IP --> country\n",
    "df['country'] = df['Source_IP'].map(unique_ips.apply(get_country))\n",
    "\n",
    "geolite2.close()"
   ]
  },
  {
   "cell_type": "code",
   "execution_count": 30,
   "metadata": {
    "ExecuteTime": {
     "end_time": "2020-04-28T20:47:45.704108Z",
     "start_time": "2020-04-28T20:47:19.046439Z"
    }
   },
   "outputs": [],
   "source": [
    "#source city\n",
    "def get_city(ip):\n",
    "    try:\n",
    "        df = geo.get(ip)\n",
    "    except ValueError:\n",
    "        return pd.np.nan\n",
    "    try:\n",
    "        return df['city']['names']['en'] if df else pd.np.nan\n",
    "    except KeyError:\n",
    "        return pd.np.nan\n",
    "\n",
    "geo = geolite2.reader()\n",
    "# get unique IPs\n",
    "unique_ips = df['Source_IP'].unique()\n",
    "# make series out of it\n",
    "unique_ips = pd.Series(unique_ips, index = unique_ips)\n",
    "# map IP --> country\n",
    "df['city'] = df['Source_IP'].map(unique_ips.apply(get_city))\n",
    "\n",
    "geolite2.close()"
   ]
  },
  {
   "cell_type": "code",
   "execution_count": 31,
   "metadata": {
    "ExecuteTime": {
     "end_time": "2020-04-28T20:47:46.461119Z",
     "start_time": "2020-04-28T20:47:45.705111Z"
    }
   },
   "outputs": [],
   "source": [
    "df=df.rename(columns={list(df)[-2]:'source_country',list(df)[-1]:'source_city'})"
   ]
  },
  {
   "cell_type": "code",
   "execution_count": 32,
   "metadata": {
    "ExecuteTime": {
     "end_time": "2020-04-28T20:47:46.477052Z",
     "start_time": "2020-04-28T20:47:46.463108Z"
    }
   },
   "outputs": [
    {
     "data": {
      "text/html": [
       "<div>\n",
       "<style scoped>\n",
       "    .dataframe tbody tr th:only-of-type {\n",
       "        vertical-align: middle;\n",
       "    }\n",
       "\n",
       "    .dataframe tbody tr th {\n",
       "        vertical-align: top;\n",
       "    }\n",
       "\n",
       "    .dataframe thead th {\n",
       "        text-align: right;\n",
       "    }\n",
       "</style>\n",
       "<table border=\"1\" class=\"dataframe\">\n",
       "  <thead>\n",
       "    <tr style=\"text-align: right;\">\n",
       "      <th></th>\n",
       "      <th>Flow_Start</th>\n",
       "      <th>Duration</th>\n",
       "      <th>Protocol</th>\n",
       "      <th>Flags</th>\n",
       "      <th>Type_of_Service</th>\n",
       "      <th>Packets</th>\n",
       "      <th>Bytes</th>\n",
       "      <th>Source_IP</th>\n",
       "      <th>Source_Port</th>\n",
       "      <th>Destination_IP</th>\n",
       "      <th>Destination_Port</th>\n",
       "      <th>Label</th>\n",
       "      <th>source_country</th>\n",
       "      <th>source_city</th>\n",
       "    </tr>\n",
       "  </thead>\n",
       "  <tbody>\n",
       "    <tr>\n",
       "      <th>0</th>\n",
       "      <td>17:13:40.449</td>\n",
       "      <td>4.230</td>\n",
       "      <td>TCP</td>\n",
       "      <td>PA_</td>\n",
       "      <td>0</td>\n",
       "      <td>180</td>\n",
       "      <td>12628</td>\n",
       "      <td>90.177.154.197</td>\n",
       "      <td>20127</td>\n",
       "      <td>147.32.84.144</td>\n",
       "      <td>22</td>\n",
       "      <td>Background</td>\n",
       "      <td>Czechia</td>\n",
       "      <td>NaN</td>\n",
       "    </tr>\n",
       "    <tr>\n",
       "      <th>1</th>\n",
       "      <td>17:13:40.449</td>\n",
       "      <td>4.204</td>\n",
       "      <td>TCP</td>\n",
       "      <td>PA_</td>\n",
       "      <td>0</td>\n",
       "      <td>329</td>\n",
       "      <td>478578</td>\n",
       "      <td>147.32.84.144</td>\n",
       "      <td>22</td>\n",
       "      <td>90.177.154.197</td>\n",
       "      <td>20127</td>\n",
       "      <td>Background</td>\n",
       "      <td>Czechia</td>\n",
       "      <td>Prague</td>\n",
       "    </tr>\n",
       "  </tbody>\n",
       "</table>\n",
       "</div>"
      ],
      "text/plain": [
       "     Flow_Start  Duration Protocol Flags  Type_of_Service  Packets   Bytes  \\\n",
       "0  17:13:40.449     4.230      TCP   PA_                0      180   12628   \n",
       "1  17:13:40.449     4.204      TCP   PA_                0      329  478578   \n",
       "\n",
       "        Source_IP Source_Port  Destination_IP Destination_Port       Label  \\\n",
       "0  90.177.154.197       20127   147.32.84.144               22  Background   \n",
       "1   147.32.84.144          22  90.177.154.197            20127  Background   \n",
       "\n",
       "  source_country source_city  \n",
       "0        Czechia         NaN  \n",
       "1        Czechia      Prague  "
      ]
     },
     "execution_count": 32,
     "metadata": {},
     "output_type": "execute_result"
    }
   ],
   "source": [
    "df.head(2)"
   ]
  },
  {
   "cell_type": "code",
   "execution_count": 33,
   "metadata": {
    "ExecuteTime": {
     "end_time": "2020-04-28T20:47:46.553877Z",
     "start_time": "2020-04-28T20:47:46.480031Z"
    },
    "scrolled": true
   },
   "outputs": [],
   "source": [
    "df_f =df.loc[df['Label'].isin(['Botnet','BotnetFILTER_LEGITIMATE'])]"
   ]
  },
  {
   "cell_type": "code",
   "execution_count": 34,
   "metadata": {
    "ExecuteTime": {
     "end_time": "2020-04-28T20:47:46.643594Z",
     "start_time": "2020-04-28T20:47:46.554854Z"
    },
    "scrolled": true
   },
   "outputs": [
    {
     "data": {
      "text/html": [
       "<div>\n",
       "<style scoped>\n",
       "    .dataframe tbody tr th:only-of-type {\n",
       "        vertical-align: middle;\n",
       "    }\n",
       "\n",
       "    .dataframe tbody tr th {\n",
       "        vertical-align: top;\n",
       "    }\n",
       "\n",
       "    .dataframe thead th {\n",
       "        text-align: right;\n",
       "    }\n",
       "</style>\n",
       "<table border=\"1\" class=\"dataframe\">\n",
       "  <thead>\n",
       "    <tr style=\"text-align: right;\">\n",
       "      <th></th>\n",
       "      <th>Flow_Start</th>\n",
       "      <th>Duration</th>\n",
       "      <th>Protocol</th>\n",
       "      <th>Flags</th>\n",
       "      <th>Type_of_Service</th>\n",
       "      <th>Packets</th>\n",
       "      <th>Bytes</th>\n",
       "      <th>Source_IP</th>\n",
       "      <th>Source_Port</th>\n",
       "      <th>Destination_IP</th>\n",
       "      <th>Destination_Port</th>\n",
       "      <th>Label</th>\n",
       "      <th>source_country</th>\n",
       "      <th>source_city</th>\n",
       "      <th>s</th>\n",
       "      <th>c</th>\n",
       "    </tr>\n",
       "  </thead>\n",
       "  <tbody>\n",
       "    <tr>\n",
       "      <th>0</th>\n",
       "      <td>17:13:40.449</td>\n",
       "      <td>4.230</td>\n",
       "      <td>TCP</td>\n",
       "      <td>PA_</td>\n",
       "      <td>0</td>\n",
       "      <td>180</td>\n",
       "      <td>12628</td>\n",
       "      <td>90.177.154.197</td>\n",
       "      <td>20127</td>\n",
       "      <td>147.32.84.144</td>\n",
       "      <td>22</td>\n",
       "      <td>Background</td>\n",
       "      <td>Czechia</td>\n",
       "      <td>NaN</td>\n",
       "      <td>not_source</td>\n",
       "      <td>not_source</td>\n",
       "    </tr>\n",
       "    <tr>\n",
       "      <th>1</th>\n",
       "      <td>17:13:40.449</td>\n",
       "      <td>4.204</td>\n",
       "      <td>TCP</td>\n",
       "      <td>PA_</td>\n",
       "      <td>0</td>\n",
       "      <td>329</td>\n",
       "      <td>478578</td>\n",
       "      <td>147.32.84.144</td>\n",
       "      <td>22</td>\n",
       "      <td>90.177.154.197</td>\n",
       "      <td>20127</td>\n",
       "      <td>Background</td>\n",
       "      <td>Czechia</td>\n",
       "      <td>Prague</td>\n",
       "      <td>not_source</td>\n",
       "      <td>not_source</td>\n",
       "    </tr>\n",
       "  </tbody>\n",
       "</table>\n",
       "</div>"
      ],
      "text/plain": [
       "     Flow_Start  Duration Protocol Flags  Type_of_Service  Packets   Bytes  \\\n",
       "0  17:13:40.449     4.230      TCP   PA_                0      180   12628   \n",
       "1  17:13:40.449     4.204      TCP   PA_                0      329  478578   \n",
       "\n",
       "        Source_IP Source_Port  Destination_IP Destination_Port       Label  \\\n",
       "0  90.177.154.197       20127   147.32.84.144               22  Background   \n",
       "1   147.32.84.144          22  90.177.154.197            20127  Background   \n",
       "\n",
       "  source_country source_city           s           c  \n",
       "0        Czechia         NaN  not_source  not_source  \n",
       "1        Czechia      Prague  not_source  not_source  "
      ]
     },
     "execution_count": 34,
     "metadata": {},
     "output_type": "execute_result"
    }
   ],
   "source": [
    "#We want to encode location data of only botnet packets\n",
    "df['s']=np.where(df['Label'].isin(['Botnet','BotnetFILTER_LEGITIMATE']), df['source_city'] , 'not_source')\n",
    "df['c']=np.where(df['Label'].isin(['Botnet','BotnetFILTER_LEGITIMATE']), df['source_country'] , 'not_source')\n",
    "df.head(2)"
   ]
  },
  {
   "cell_type": "code",
   "execution_count": 35,
   "metadata": {
    "ExecuteTime": {
     "end_time": "2020-04-28T20:47:46.991732Z",
     "start_time": "2020-04-28T20:47:46.645590Z"
    }
   },
   "outputs": [],
   "source": [
    "df_f = df.loc[df['Label'].isin(['Botnet','BotnetFILTER_LEGITIMATE'])]"
   ]
  },
  {
   "cell_type": "code",
   "execution_count": 36,
   "metadata": {
    "ExecuteTime": {
     "end_time": "2020-04-28T20:47:47.004311Z",
     "start_time": "2020-04-28T20:47:46.993707Z"
    }
   },
   "outputs": [
    {
     "name": "stdout",
     "output_type": "stream",
     "text": [
      "Unique cities count: 71\n",
      "Unique countries count: 43\n"
     ]
    }
   ],
   "source": [
    "print('Unique cities count:',df_f.source_city.nunique())\n",
    "print('Unique countries count:',df_f.source_country.nunique())"
   ]
  },
  {
   "cell_type": "code",
   "execution_count": 37,
   "metadata": {
    "ExecuteTime": {
     "end_time": "2020-04-28T20:47:47.091079Z",
     "start_time": "2020-04-28T20:47:47.007271Z"
    },
    "scrolled": true
   },
   "outputs": [],
   "source": [
    "df['s']=df['s'].astype(str)"
   ]
  },
  {
   "cell_type": "code",
   "execution_count": 38,
   "metadata": {
    "ExecuteTime": {
     "end_time": "2020-04-28T20:47:47.320534Z",
     "start_time": "2020-04-28T20:47:47.093055Z"
    },
    "scrolled": true
   },
   "outputs": [],
   "source": [
    "label_encoder = preprocessing.LabelEncoder() \n",
    "  \n",
    "cat_Src_City= label_encoder.fit_transform(df[['s']]) \n",
    "New_cat_Src_City = pd.DataFrame(cat_Src_City)\n",
    "New_cat_Src_City= New_cat_Src_City.rename(columns={0:'Src_city'})"
   ]
  },
  {
   "cell_type": "code",
   "execution_count": 39,
   "metadata": {
    "ExecuteTime": {
     "end_time": "2020-04-28T20:47:47.407829Z",
     "start_time": "2020-04-28T20:47:47.321538Z"
    }
   },
   "outputs": [],
   "source": [
    "df['c']=df['c'].astype(str)"
   ]
  },
  {
   "cell_type": "code",
   "execution_count": 40,
   "metadata": {
    "ExecuteTime": {
     "end_time": "2020-04-28T20:47:47.665899Z",
     "start_time": "2020-04-28T20:47:47.409810Z"
    }
   },
   "outputs": [],
   "source": [
    "label_encoder = preprocessing.LabelEncoder() \n",
    "  \n",
    "enc_Src_Country= label_encoder.fit_transform(df[['c']]) \n",
    "New_cat_Src_Country = pd.DataFrame(enc_Src_Country)\n",
    "New_cat_Src_Country= New_cat_Src_Country.rename(columns={0:'Src_country'})"
   ]
  },
  {
   "cell_type": "markdown",
   "metadata": {},
   "source": [
    "## Combining all encoded columns with df"
   ]
  },
  {
   "cell_type": "code",
   "execution_count": 41,
   "metadata": {
    "ExecuteTime": {
     "end_time": "2020-04-28T20:47:47.743690Z",
     "start_time": "2020-04-28T20:47:47.667890Z"
    }
   },
   "outputs": [
    {
     "data": {
      "text/html": [
       "<div>\n",
       "<style scoped>\n",
       "    .dataframe tbody tr th:only-of-type {\n",
       "        vertical-align: middle;\n",
       "    }\n",
       "\n",
       "    .dataframe tbody tr th {\n",
       "        vertical-align: top;\n",
       "    }\n",
       "\n",
       "    .dataframe thead th {\n",
       "        text-align: right;\n",
       "    }\n",
       "</style>\n",
       "<table border=\"1\" class=\"dataframe\">\n",
       "  <thead>\n",
       "    <tr style=\"text-align: right;\">\n",
       "      <th></th>\n",
       "      <th>Flow_Start</th>\n",
       "      <th>Source_IP</th>\n",
       "      <th>Destination_IP</th>\n",
       "      <th>Duration</th>\n",
       "      <th>Packets</th>\n",
       "      <th>Bytes</th>\n",
       "    </tr>\n",
       "  </thead>\n",
       "  <tbody>\n",
       "    <tr>\n",
       "      <th>0</th>\n",
       "      <td>17:13:40.449</td>\n",
       "      <td>90.177.154.197</td>\n",
       "      <td>147.32.84.144</td>\n",
       "      <td>4.230</td>\n",
       "      <td>180</td>\n",
       "      <td>12628</td>\n",
       "    </tr>\n",
       "    <tr>\n",
       "      <th>1</th>\n",
       "      <td>17:13:40.449</td>\n",
       "      <td>147.32.84.144</td>\n",
       "      <td>90.177.154.197</td>\n",
       "      <td>4.204</td>\n",
       "      <td>329</td>\n",
       "      <td>478578</td>\n",
       "    </tr>\n",
       "  </tbody>\n",
       "</table>\n",
       "</div>"
      ],
      "text/plain": [
       "     Flow_Start       Source_IP  Destination_IP  Duration  Packets   Bytes\n",
       "0  17:13:40.449  90.177.154.197   147.32.84.144     4.230      180   12628\n",
       "1  17:13:40.449   147.32.84.144  90.177.154.197     4.204      329  478578"
      ]
     },
     "execution_count": 41,
     "metadata": {},
     "output_type": "execute_result"
    }
   ],
   "source": [
    "Interval_Variables = df[['Flow_Start','Source_IP','Destination_IP','Duration','Packets','Bytes']]\n",
    "Interval_Variables.head(2)"
   ]
  },
  {
   "cell_type": "code",
   "execution_count": 42,
   "metadata": {
    "ExecuteTime": {
     "end_time": "2020-04-28T20:47:48.008023Z",
     "start_time": "2020-04-28T20:47:47.745683Z"
    },
    "scrolled": true
   },
   "outputs": [],
   "source": [
    "a = pd.merge(Interval_Variables, New_cat_flags, right_index=True,left_index=True)\n",
    "b = pd.merge(a, New_cat_protocol, right_index=True,left_index=True)\n",
    "c = pd.merge(b, New_cat_Src_City, right_index=True,left_index=True)\n",
    "Exerything_Except_Ports = pd.merge(c, New_cat_Src_Country, right_index=True,left_index=True)"
   ]
  },
  {
   "cell_type": "code",
   "execution_count": 43,
   "metadata": {
    "ExecuteTime": {
     "end_time": "2020-04-28T20:47:48.023939Z",
     "start_time": "2020-04-28T20:47:48.010008Z"
    },
    "scrolled": true
   },
   "outputs": [
    {
     "data": {
      "text/html": [
       "<div>\n",
       "<style scoped>\n",
       "    .dataframe tbody tr th:only-of-type {\n",
       "        vertical-align: middle;\n",
       "    }\n",
       "\n",
       "    .dataframe tbody tr th {\n",
       "        vertical-align: top;\n",
       "    }\n",
       "\n",
       "    .dataframe thead th {\n",
       "        text-align: right;\n",
       "    }\n",
       "</style>\n",
       "<table border=\"1\" class=\"dataframe\">\n",
       "  <thead>\n",
       "    <tr style=\"text-align: right;\">\n",
       "      <th></th>\n",
       "      <th>Flow_Start</th>\n",
       "      <th>Source_IP</th>\n",
       "      <th>Destination_IP</th>\n",
       "      <th>Duration</th>\n",
       "      <th>Packets</th>\n",
       "      <th>Bytes</th>\n",
       "      <th>Flags</th>\n",
       "      <th>Protocol</th>\n",
       "      <th>Src_city</th>\n",
       "      <th>Src_country</th>\n",
       "    </tr>\n",
       "  </thead>\n",
       "  <tbody>\n",
       "    <tr>\n",
       "      <th>0</th>\n",
       "      <td>17:13:40.449</td>\n",
       "      <td>90.177.154.197</td>\n",
       "      <td>147.32.84.144</td>\n",
       "      <td>4.230</td>\n",
       "      <td>180</td>\n",
       "      <td>12628</td>\n",
       "      <td>27</td>\n",
       "      <td>9</td>\n",
       "      <td>70</td>\n",
       "      <td>44</td>\n",
       "    </tr>\n",
       "    <tr>\n",
       "      <th>1</th>\n",
       "      <td>17:13:40.449</td>\n",
       "      <td>147.32.84.144</td>\n",
       "      <td>90.177.154.197</td>\n",
       "      <td>4.204</td>\n",
       "      <td>329</td>\n",
       "      <td>478578</td>\n",
       "      <td>27</td>\n",
       "      <td>9</td>\n",
       "      <td>70</td>\n",
       "      <td>44</td>\n",
       "    </tr>\n",
       "  </tbody>\n",
       "</table>\n",
       "</div>"
      ],
      "text/plain": [
       "     Flow_Start       Source_IP  Destination_IP  Duration  Packets   Bytes  \\\n",
       "0  17:13:40.449  90.177.154.197   147.32.84.144     4.230      180   12628   \n",
       "1  17:13:40.449   147.32.84.144  90.177.154.197     4.204      329  478578   \n",
       "\n",
       "   Flags  Protocol  Src_city  Src_country  \n",
       "0     27         9        70           44  \n",
       "1     27         9        70           44  "
      ]
     },
     "execution_count": 43,
     "metadata": {},
     "output_type": "execute_result"
    }
   ],
   "source": [
    "Exerything_Except_Ports.head(2)"
   ]
  },
  {
   "cell_type": "markdown",
   "metadata": {},
   "source": [
    "### Encoding Ports"
   ]
  },
  {
   "cell_type": "code",
   "execution_count": 44,
   "metadata": {
    "ExecuteTime": {
     "end_time": "2020-04-28T20:47:48.033913Z",
     "start_time": "2020-04-28T20:47:48.025934Z"
    }
   },
   "outputs": [],
   "source": [
    "imp_ports = ['22', '443', '80', '53', '389', '25', '113', '123', '554', '520', '161', '995', '67', '993', '631', '110',\n",
    " '143', '0', '445', '137', '427', '138', '524', '514', '139', '1000', '784', '12', '465', '592', '587', '88', '2', '888', '21',\n",
    " '500', '544', '81', '418', '294', '34', '98', '68', '709', '23', '8', '625', '768', '579', '135', '104', '916', '877', '310',\n",
    " '490', '1', '82', '369', '1013', '83', '832', '843', '471', '118']"
   ]
  },
  {
   "cell_type": "code",
   "execution_count": 45,
   "metadata": {
    "ExecuteTime": {
     "end_time": "2020-04-28T20:47:48.041907Z",
     "start_time": "2020-04-28T20:47:48.035907Z"
    }
   },
   "outputs": [
    {
     "data": {
      "text/plain": [
       "64"
      ]
     },
     "execution_count": 45,
     "metadata": {},
     "output_type": "execute_result"
    }
   ],
   "source": [
    "len(imp_ports)"
   ]
  },
  {
   "cell_type": "code",
   "execution_count": 46,
   "metadata": {
    "ExecuteTime": {
     "end_time": "2020-04-28T20:47:48.175535Z",
     "start_time": "2020-04-28T20:47:48.043885Z"
    }
   },
   "outputs": [],
   "source": [
    "# port = df[df.Destination_Port.isin(imp_ports)]\n",
    "df['po']=np.where(df.Destination_Port.isin(imp_ports), df['Destination_Port'] , 9999)"
   ]
  },
  {
   "cell_type": "code",
   "execution_count": 47,
   "metadata": {
    "ExecuteTime": {
     "end_time": "2020-04-28T20:47:48.295253Z",
     "start_time": "2020-04-28T20:47:48.177543Z"
    }
   },
   "outputs": [],
   "source": [
    "df['po']=df['po'].astype(int)"
   ]
  },
  {
   "cell_type": "code",
   "execution_count": 48,
   "metadata": {
    "ExecuteTime": {
     "end_time": "2020-04-28T20:47:48.386973Z",
     "start_time": "2020-04-28T20:47:48.297209Z"
    }
   },
   "outputs": [],
   "source": [
    "label_encoder = preprocessing.LabelEncoder() \n",
    "\n",
    "port= label_encoder.fit_transform(df[['po']]) \n",
    "New_port = pd.DataFrame(port)\n",
    "New_port= New_port.rename(columns={0:'port'})"
   ]
  },
  {
   "cell_type": "code",
   "execution_count": 49,
   "metadata": {
    "ExecuteTime": {
     "end_time": "2020-04-28T20:47:48.473782Z",
     "start_time": "2020-04-28T20:47:48.389963Z"
    },
    "scrolled": true
   },
   "outputs": [],
   "source": [
    "final_X=pd.merge(Exerything_Except_Ports, New_port, right_index=True,left_index=True)"
   ]
  },
  {
   "cell_type": "markdown",
   "metadata": {},
   "source": [
    "## Defining X and y Variables"
   ]
  },
  {
   "cell_type": "code",
   "execution_count": 50,
   "metadata": {
    "ExecuteTime": {
     "end_time": "2020-04-28T20:47:48.486702Z",
     "start_time": "2020-04-28T20:47:48.474735Z"
    },
    "scrolled": true
   },
   "outputs": [
    {
     "data": {
      "text/html": [
       "<div>\n",
       "<style scoped>\n",
       "    .dataframe tbody tr th:only-of-type {\n",
       "        vertical-align: middle;\n",
       "    }\n",
       "\n",
       "    .dataframe tbody tr th {\n",
       "        vertical-align: top;\n",
       "    }\n",
       "\n",
       "    .dataframe thead th {\n",
       "        text-align: right;\n",
       "    }\n",
       "</style>\n",
       "<table border=\"1\" class=\"dataframe\">\n",
       "  <thead>\n",
       "    <tr style=\"text-align: right;\">\n",
       "      <th></th>\n",
       "      <th>Flow_Start</th>\n",
       "      <th>Source_IP</th>\n",
       "      <th>Destination_IP</th>\n",
       "      <th>Duration</th>\n",
       "      <th>Packets</th>\n",
       "      <th>Bytes</th>\n",
       "      <th>Flags</th>\n",
       "      <th>Protocol</th>\n",
       "      <th>Src_city</th>\n",
       "      <th>Src_country</th>\n",
       "      <th>port</th>\n",
       "    </tr>\n",
       "  </thead>\n",
       "  <tbody>\n",
       "    <tr>\n",
       "      <th>0</th>\n",
       "      <td>17:13:40.449</td>\n",
       "      <td>90.177.154.197</td>\n",
       "      <td>147.32.84.144</td>\n",
       "      <td>4.230</td>\n",
       "      <td>180</td>\n",
       "      <td>12628</td>\n",
       "      <td>27</td>\n",
       "      <td>9</td>\n",
       "      <td>70</td>\n",
       "      <td>44</td>\n",
       "      <td>6</td>\n",
       "    </tr>\n",
       "    <tr>\n",
       "      <th>1</th>\n",
       "      <td>17:13:40.449</td>\n",
       "      <td>147.32.84.144</td>\n",
       "      <td>90.177.154.197</td>\n",
       "      <td>4.204</td>\n",
       "      <td>329</td>\n",
       "      <td>478578</td>\n",
       "      <td>27</td>\n",
       "      <td>9</td>\n",
       "      <td>70</td>\n",
       "      <td>44</td>\n",
       "      <td>64</td>\n",
       "    </tr>\n",
       "  </tbody>\n",
       "</table>\n",
       "</div>"
      ],
      "text/plain": [
       "     Flow_Start       Source_IP  Destination_IP  Duration  Packets   Bytes  \\\n",
       "0  17:13:40.449  90.177.154.197   147.32.84.144     4.230      180   12628   \n",
       "1  17:13:40.449   147.32.84.144  90.177.154.197     4.204      329  478578   \n",
       "\n",
       "   Flags  Protocol  Src_city  Src_country  port  \n",
       "0     27         9        70           44     6  \n",
       "1     27         9        70           44    64  "
      ]
     },
     "execution_count": 50,
     "metadata": {},
     "output_type": "execute_result"
    }
   ],
   "source": [
    "final_X.head(2)"
   ]
  },
  {
   "cell_type": "code",
   "execution_count": 51,
   "metadata": {
    "ExecuteTime": {
     "end_time": "2020-04-28T20:47:48.544063Z",
     "start_time": "2020-04-28T20:47:48.489696Z"
    }
   },
   "outputs": [
    {
     "data": {
      "text/html": [
       "<div>\n",
       "<style scoped>\n",
       "    .dataframe tbody tr th:only-of-type {\n",
       "        vertical-align: middle;\n",
       "    }\n",
       "\n",
       "    .dataframe tbody tr th {\n",
       "        vertical-align: top;\n",
       "    }\n",
       "\n",
       "    .dataframe thead th {\n",
       "        text-align: right;\n",
       "    }\n",
       "</style>\n",
       "<table border=\"1\" class=\"dataframe\">\n",
       "  <thead>\n",
       "    <tr style=\"text-align: right;\">\n",
       "      <th></th>\n",
       "      <th>Label</th>\n",
       "    </tr>\n",
       "  </thead>\n",
       "  <tbody>\n",
       "    <tr>\n",
       "      <th>0</th>\n",
       "      <td>Background</td>\n",
       "    </tr>\n",
       "    <tr>\n",
       "      <th>1</th>\n",
       "      <td>Background</td>\n",
       "    </tr>\n",
       "  </tbody>\n",
       "</table>\n",
       "</div>"
      ],
      "text/plain": [
       "        Label\n",
       "0  Background\n",
       "1  Background"
      ]
     },
     "execution_count": 51,
     "metadata": {},
     "output_type": "execute_result"
    }
   ],
   "source": [
    "Target = df.iloc[:,11:12]\n",
    "Target.rename(columns = {11:'label'}, inplace = True) \n",
    "Target.head(2)"
   ]
  },
  {
   "cell_type": "code",
   "execution_count": 52,
   "metadata": {
    "ExecuteTime": {
     "end_time": "2020-04-28T20:47:48.777506Z",
     "start_time": "2020-04-28T20:47:48.546058Z"
    }
   },
   "outputs": [],
   "source": [
    "#Classifying labels into two categories\n",
    "#botnet,botnetfilter_leg = Yes\n",
    "#Background,legitimate = No\n",
    "a = ['Botnet', 'BotnetFILTER_LEGITIMATE']\n",
    "Target['yes/no'] = np.where(Target['Label'].isin(a), 'yes', 'no')"
   ]
  },
  {
   "cell_type": "code",
   "execution_count": 53,
   "metadata": {
    "ExecuteTime": {
     "end_time": "2020-04-28T20:47:48.787463Z",
     "start_time": "2020-04-28T20:47:48.778471Z"
    }
   },
   "outputs": [
    {
     "data": {
      "text/html": [
       "<div>\n",
       "<style scoped>\n",
       "    .dataframe tbody tr th:only-of-type {\n",
       "        vertical-align: middle;\n",
       "    }\n",
       "\n",
       "    .dataframe tbody tr th {\n",
       "        vertical-align: top;\n",
       "    }\n",
       "\n",
       "    .dataframe thead th {\n",
       "        text-align: right;\n",
       "    }\n",
       "</style>\n",
       "<table border=\"1\" class=\"dataframe\">\n",
       "  <thead>\n",
       "    <tr style=\"text-align: right;\">\n",
       "      <th></th>\n",
       "      <th>Label</th>\n",
       "      <th>yes/no</th>\n",
       "    </tr>\n",
       "  </thead>\n",
       "  <tbody>\n",
       "    <tr>\n",
       "      <th>0</th>\n",
       "      <td>Background</td>\n",
       "      <td>no</td>\n",
       "    </tr>\n",
       "    <tr>\n",
       "      <th>1</th>\n",
       "      <td>Background</td>\n",
       "      <td>no</td>\n",
       "    </tr>\n",
       "  </tbody>\n",
       "</table>\n",
       "</div>"
      ],
      "text/plain": [
       "        Label yes/no\n",
       "0  Background     no\n",
       "1  Background     no"
      ]
     },
     "execution_count": 53,
     "metadata": {},
     "output_type": "execute_result"
    }
   ],
   "source": [
    "Target.head(2)"
   ]
  },
  {
   "cell_type": "code",
   "execution_count": 54,
   "metadata": {
    "ExecuteTime": {
     "end_time": "2020-04-28T20:47:48.992936Z",
     "start_time": "2020-04-28T20:47:48.790440Z"
    }
   },
   "outputs": [
    {
     "data": {
      "text/plain": [
       "no     1277330\n",
       "yes      21760\n",
       "Name: yes/no, dtype: int64"
      ]
     },
     "execution_count": 54,
     "metadata": {},
     "output_type": "execute_result"
    }
   ],
   "source": [
    "# Labels not balanced.  We need to resample to have balancd labels because otherwise future classifications will skew\n",
    "# heavily in favor of the overweight labels. \n",
    "Target['yes/no'].value_counts()"
   ]
  },
  {
   "cell_type": "code",
   "execution_count": 55,
   "metadata": {
    "ExecuteTime": {
     "end_time": "2020-04-28T20:47:49.098186Z",
     "start_time": "2020-04-28T20:47:48.994897Z"
    }
   },
   "outputs": [
    {
     "data": {
      "text/html": [
       "<div>\n",
       "<style scoped>\n",
       "    .dataframe tbody tr th:only-of-type {\n",
       "        vertical-align: middle;\n",
       "    }\n",
       "\n",
       "    .dataframe tbody tr th {\n",
       "        vertical-align: top;\n",
       "    }\n",
       "\n",
       "    .dataframe thead th {\n",
       "        text-align: right;\n",
       "    }\n",
       "</style>\n",
       "<table border=\"1\" class=\"dataframe\">\n",
       "  <thead>\n",
       "    <tr style=\"text-align: right;\">\n",
       "      <th></th>\n",
       "      <th>Label</th>\n",
       "      <th>yes/no</th>\n",
       "      <th>Flow_Start</th>\n",
       "      <th>Source_IP</th>\n",
       "      <th>Destination_IP</th>\n",
       "      <th>Duration</th>\n",
       "      <th>Packets</th>\n",
       "      <th>Bytes</th>\n",
       "      <th>Flags</th>\n",
       "      <th>Protocol</th>\n",
       "      <th>Src_city</th>\n",
       "      <th>Src_country</th>\n",
       "      <th>port</th>\n",
       "    </tr>\n",
       "  </thead>\n",
       "  <tbody>\n",
       "    <tr>\n",
       "      <th>0</th>\n",
       "      <td>Background</td>\n",
       "      <td>no</td>\n",
       "      <td>17:13:40.449</td>\n",
       "      <td>90.177.154.197</td>\n",
       "      <td>147.32.84.144</td>\n",
       "      <td>4.230</td>\n",
       "      <td>180</td>\n",
       "      <td>12628</td>\n",
       "      <td>27</td>\n",
       "      <td>9</td>\n",
       "      <td>70</td>\n",
       "      <td>44</td>\n",
       "      <td>6</td>\n",
       "    </tr>\n",
       "    <tr>\n",
       "      <th>1</th>\n",
       "      <td>Background</td>\n",
       "      <td>no</td>\n",
       "      <td>17:13:40.449</td>\n",
       "      <td>147.32.84.144</td>\n",
       "      <td>90.177.154.197</td>\n",
       "      <td>4.204</td>\n",
       "      <td>329</td>\n",
       "      <td>478578</td>\n",
       "      <td>27</td>\n",
       "      <td>9</td>\n",
       "      <td>70</td>\n",
       "      <td>44</td>\n",
       "      <td>64</td>\n",
       "    </tr>\n",
       "  </tbody>\n",
       "</table>\n",
       "</div>"
      ],
      "text/plain": [
       "        Label yes/no    Flow_Start       Source_IP  Destination_IP  Duration  \\\n",
       "0  Background     no  17:13:40.449  90.177.154.197   147.32.84.144     4.230   \n",
       "1  Background     no  17:13:40.449   147.32.84.144  90.177.154.197     4.204   \n",
       "\n",
       "   Packets   Bytes  Flags  Protocol  Src_city  Src_country  port  \n",
       "0      180   12628     27         9        70           44     6  \n",
       "1      329  478578     27         9        70           44    64  "
      ]
     },
     "execution_count": 55,
     "metadata": {},
     "output_type": "execute_result"
    }
   ],
   "source": [
    "from sklearn.utils import resample\n",
    "\n",
    "d = pd.merge(Target, final_X, right_index=True, left_index=True)\n",
    "d.head(2)"
   ]
  },
  {
   "cell_type": "markdown",
   "metadata": {},
   "source": [
    "### Downsampling target variable"
   ]
  },
  {
   "cell_type": "code",
   "execution_count": 56,
   "metadata": {
    "ExecuteTime": {
     "end_time": "2020-04-28T20:47:49.832017Z",
     "start_time": "2020-04-28T20:47:49.100207Z"
    }
   },
   "outputs": [],
   "source": [
    "majo = d.loc[d['yes/no']=='no']\n",
    "mino = d.loc[d['yes/no']=='yes']"
   ]
  },
  {
   "cell_type": "code",
   "execution_count": 57,
   "metadata": {
    "ExecuteTime": {
     "end_time": "2020-04-28T20:47:49.902850Z",
     "start_time": "2020-04-28T20:47:49.834010Z"
    }
   },
   "outputs": [],
   "source": [
    "# downsample majority class\n",
    "maj_dsampled = resample(majo, \n",
    "                        replace=False,     # sample with replacement\n",
    "                        n_samples=21760,   # to match minority class\n",
    "                        random_state=1)    # reproducible results"
   ]
  },
  {
   "cell_type": "code",
   "execution_count": 58,
   "metadata": {
    "ExecuteTime": {
     "end_time": "2020-04-28T20:47:50.043450Z",
     "start_time": "2020-04-28T20:47:49.904847Z"
    }
   },
   "outputs": [
    {
     "data": {
      "text/plain": [
       "no     21760\n",
       "yes    21760\n",
       "Name: yes/no, dtype: int64"
      ]
     },
     "execution_count": 58,
     "metadata": {},
     "output_type": "execute_result"
    }
   ],
   "source": [
    "dsampled = pd.concat([mino, maj_dsampled])\n",
    "dsampled['yes/no'].value_counts()"
   ]
  },
  {
   "cell_type": "code",
   "execution_count": 59,
   "metadata": {
    "ExecuteTime": {
     "end_time": "2020-04-28T20:47:50.058437Z",
     "start_time": "2020-04-28T20:47:50.045445Z"
    },
    "scrolled": true
   },
   "outputs": [],
   "source": [
    "y=dsampled[['yes/no']]\n",
    "X=dsampled.drop(['yes/no','Label','Flow_Start','Source_IP','Destination_IP'],axis=1)"
   ]
  },
  {
   "cell_type": "code",
   "execution_count": 60,
   "metadata": {
    "ExecuteTime": {
     "end_time": "2020-04-28T20:47:50.101318Z",
     "start_time": "2020-04-28T20:47:50.060412Z"
    }
   },
   "outputs": [
    {
     "name": "stdout",
     "output_type": "stream",
     "text": [
      "<class 'pandas.core.frame.DataFrame'>\n",
      "Int64Index: 43520 entries, 4117 to 823910\n",
      "Data columns (total 8 columns):\n",
      "Duration       43520 non-null float64\n",
      "Packets        43520 non-null int64\n",
      "Bytes          43520 non-null int64\n",
      "Flags          43520 non-null int32\n",
      "Protocol       43520 non-null int32\n",
      "Src_city       43520 non-null int32\n",
      "Src_country    43520 non-null int32\n",
      "port           43520 non-null int64\n",
      "dtypes: float64(1), int32(4), int64(3)\n",
      "memory usage: 2.3 MB\n"
     ]
    }
   ],
   "source": [
    "X.info()"
   ]
  },
  {
   "cell_type": "markdown",
   "metadata": {},
   "source": [
    "<font size=5><font color='red'>3.\tOnce the final variable set is created, which of the following techniques most effectively classifies or aides in classifying botnet traffic?<br><br>\n",
    "<font size=4>a.\tPrinciple Component Analysis (PCA)<br><br>\n",
    "b.\tK-Nearest Neighbor (KNN)<br><br>\n",
    "f.\tRandom Forest"
   ]
  },
  {
   "cell_type": "markdown",
   "metadata": {},
   "source": [
    "# Machine Learning Models"
   ]
  },
  {
   "cell_type": "markdown",
   "metadata": {},
   "source": [
    "## KNN"
   ]
  },
  {
   "cell_type": "code",
   "execution_count": 61,
   "metadata": {
    "ExecuteTime": {
     "end_time": "2020-04-28T20:47:50.253899Z",
     "start_time": "2020-04-28T20:47:50.104289Z"
    }
   },
   "outputs": [],
   "source": [
    "from sklearn.linear_model import LogisticRegression\n",
    "from sklearn import metrics\n",
    "from sklearn.model_selection import train_test_split\n"
   ]
  },
  {
   "cell_type": "code",
   "execution_count": 62,
   "metadata": {
    "ExecuteTime": {
     "end_time": "2020-04-28T20:47:50.276826Z",
     "start_time": "2020-04-28T20:47:50.255882Z"
    }
   },
   "outputs": [],
   "source": [
    "X_train, X_test, y_train, y_test = train_test_split(X,y,\n",
    "                                                    test_size=0.30,random_state =101)"
   ]
  },
  {
   "cell_type": "code",
   "execution_count": 63,
   "metadata": {
    "ExecuteTime": {
     "end_time": "2020-04-28T20:47:50.338660Z",
     "start_time": "2020-04-28T20:47:50.278820Z"
    }
   },
   "outputs": [],
   "source": [
    "from sklearn.neighbors import KNeighborsClassifier\n",
    "from sklearn.metrics import classification_report,confusion_matrix\n",
    "from sklearn import metrics"
   ]
  },
  {
   "cell_type": "code",
   "execution_count": 64,
   "metadata": {
    "ExecuteTime": {
     "end_time": "2020-04-28T20:47:50.357609Z",
     "start_time": "2020-04-28T20:47:50.340656Z"
    }
   },
   "outputs": [],
   "source": [
    "#43520 rows, kvalue = sqrt(N) = 208.6"
   ]
  },
  {
   "cell_type": "code",
   "execution_count": 65,
   "metadata": {
    "ExecuteTime": {
     "end_time": "2020-04-28T20:48:03.752008Z",
     "start_time": "2020-04-28T20:47:50.359605Z"
    },
    "scrolled": true
   },
   "outputs": [
    {
     "name": "stdout",
     "output_type": "stream",
     "text": [
      "WITH K= 150\n",
      "\n",
      "\n",
      "[[6268  141]\n",
      " [ 263 6384]]\n",
      "\n",
      "\n",
      "              precision    recall  f1-score   support\n",
      "\n",
      "          no       0.96      0.98      0.97      6409\n",
      "         yes       0.98      0.96      0.97      6647\n",
      "\n",
      "    accuracy                           0.97     13056\n",
      "   macro avg       0.97      0.97      0.97     13056\n",
      "weighted avg       0.97      0.97      0.97     13056\n",
      "\n",
      "WITH K= 180\n",
      "\n",
      "\n",
      "[[6265  144]\n",
      " [ 263 6384]]\n",
      "\n",
      "\n",
      "              precision    recall  f1-score   support\n",
      "\n",
      "          no       0.96      0.98      0.97      6409\n",
      "         yes       0.98      0.96      0.97      6647\n",
      "\n",
      "    accuracy                           0.97     13056\n",
      "   macro avg       0.97      0.97      0.97     13056\n",
      "weighted avg       0.97      0.97      0.97     13056\n",
      "\n",
      "WITH K= 200\n",
      "\n",
      "\n",
      "[[6262  147]\n",
      " [ 250 6397]]\n",
      "\n",
      "\n",
      "              precision    recall  f1-score   support\n",
      "\n",
      "          no       0.96      0.98      0.97      6409\n",
      "         yes       0.98      0.96      0.97      6647\n",
      "\n",
      "    accuracy                           0.97     13056\n",
      "   macro avg       0.97      0.97      0.97     13056\n",
      "weighted avg       0.97      0.97      0.97     13056\n",
      "\n",
      "WITH K= 209\n",
      "\n",
      "\n",
      "[[6262  147]\n",
      " [ 247 6400]]\n",
      "\n",
      "\n",
      "              precision    recall  f1-score   support\n",
      "\n",
      "          no       0.96      0.98      0.97      6409\n",
      "         yes       0.98      0.96      0.97      6647\n",
      "\n",
      "    accuracy                           0.97     13056\n",
      "   macro avg       0.97      0.97      0.97     13056\n",
      "weighted avg       0.97      0.97      0.97     13056\n",
      "\n",
      "WITH K= 220\n",
      "\n",
      "\n",
      "[[6261  148]\n",
      " [ 245 6402]]\n",
      "\n",
      "\n",
      "              precision    recall  f1-score   support\n",
      "\n",
      "          no       0.96      0.98      0.97      6409\n",
      "         yes       0.98      0.96      0.97      6647\n",
      "\n",
      "    accuracy                           0.97     13056\n",
      "   macro avg       0.97      0.97      0.97     13056\n",
      "weighted avg       0.97      0.97      0.97     13056\n",
      "\n",
      "WITH K= 250\n",
      "\n",
      "\n",
      "[[6257  152]\n",
      " [ 253 6394]]\n",
      "\n",
      "\n",
      "              precision    recall  f1-score   support\n",
      "\n",
      "          no       0.96      0.98      0.97      6409\n",
      "         yes       0.98      0.96      0.97      6647\n",
      "\n",
      "    accuracy                           0.97     13056\n",
      "   macro avg       0.97      0.97      0.97     13056\n",
      "weighted avg       0.97      0.97      0.97     13056\n",
      "\n",
      "[0.9690563725490197, 0.9688265931372549, 0.9695925245098039, 0.9698223039215687, 0.9698988970588235, 0.9689797794117647]\n"
     ]
    }
   ],
   "source": [
    "n_neighbors=[150,180,200,209,220,250] #Trying 6 different k values\n",
    "acc = []\n",
    "for i in n_neighbors:\n",
    "    knn = KNeighborsClassifier(i)\n",
    "    knn.fit(X_train,y_train)\n",
    "    pred = knn.predict(X_test)\n",
    "\n",
    "    print('WITH K=',i)\n",
    "    print('\\n')\n",
    "    print(confusion_matrix(y_test,pred))\n",
    "    print('\\n')\n",
    "    print(classification_report(y_test,pred))\n",
    "    acc.append(metrics.accuracy_score(y_test, pred))\n",
    "print(acc)\n"
   ]
  },
  {
   "cell_type": "code",
   "execution_count": 66,
   "metadata": {
    "ExecuteTime": {
     "end_time": "2020-04-28T20:48:04.265947Z",
     "start_time": "2020-04-28T20:48:03.753971Z"
    }
   },
   "outputs": [],
   "source": [
    "import matplotlib.pyplot as plt  \n",
    "plt.plot(n_neighbors,acc);\n",
    "plt.grid()"
   ]
  },
  {
   "cell_type": "code",
   "execution_count": 67,
   "metadata": {
    "ExecuteTime": {
     "end_time": "2020-04-28T20:48:04.302830Z",
     "start_time": "2020-04-28T20:48:04.267943Z"
    }
   },
   "outputs": [
    {
     "data": {
      "text/plain": [
       "0.9693627450980392"
      ]
     },
     "execution_count": 67,
     "metadata": {},
     "output_type": "execute_result"
    }
   ],
   "source": [
    "import statistics\n",
    "statistics.mean(acc)"
   ]
  },
  {
   "cell_type": "markdown",
   "metadata": {},
   "source": [
    "## PCA with KNN"
   ]
  },
  {
   "cell_type": "code",
   "execution_count": 68,
   "metadata": {
    "ExecuteTime": {
     "end_time": "2020-04-28T20:48:04.408535Z",
     "start_time": "2020-04-28T20:48:04.304812Z"
    }
   },
   "outputs": [],
   "source": [
    "from sklearn.model_selection import train_test_split\n",
    "\n",
    "X_train, X_test, y_train, y_test = train_test_split(X, y, random_state=1)\n",
    "from sklearn.decomposition import PCA\n",
    "\n",
    "pca_model = PCA(n_components=0.95) #95% of variance\n",
    "pca_model.fit(X_train)\n",
    "X_train = pca_model.transform(X_train)\n",
    "X_test = pca_model.transform(X_test)"
   ]
  },
  {
   "cell_type": "code",
   "execution_count": 69,
   "metadata": {
    "ExecuteTime": {
     "end_time": "2020-04-28T20:48:11.788295Z",
     "start_time": "2020-04-28T20:48:04.409533Z"
    },
    "scrolled": true
   },
   "outputs": [
    {
     "name": "stdout",
     "output_type": "stream",
     "text": [
      "WITH K= 150\n",
      "\n",
      "\n",
      "[[4535  895]\n",
      " [ 831 4619]]\n",
      "\n",
      "\n",
      "              precision    recall  f1-score   support\n",
      "\n",
      "          no       0.85      0.84      0.84      5430\n",
      "         yes       0.84      0.85      0.84      5450\n",
      "\n",
      "    accuracy                           0.84     10880\n",
      "   macro avg       0.84      0.84      0.84     10880\n",
      "weighted avg       0.84      0.84      0.84     10880\n",
      "\n",
      "WITH K= 180\n",
      "\n",
      "\n",
      "[[4522  908]\n",
      " [ 839 4611]]\n",
      "\n",
      "\n",
      "              precision    recall  f1-score   support\n",
      "\n",
      "          no       0.84      0.83      0.84      5430\n",
      "         yes       0.84      0.85      0.84      5450\n",
      "\n",
      "    accuracy                           0.84     10880\n",
      "   macro avg       0.84      0.84      0.84     10880\n",
      "weighted avg       0.84      0.84      0.84     10880\n",
      "\n",
      "WITH K= 200\n",
      "\n",
      "\n",
      "[[4551  879]\n",
      " [ 987 4463]]\n",
      "\n",
      "\n",
      "              precision    recall  f1-score   support\n",
      "\n",
      "          no       0.82      0.84      0.83      5430\n",
      "         yes       0.84      0.82      0.83      5450\n",
      "\n",
      "    accuracy                           0.83     10880\n",
      "   macro avg       0.83      0.83      0.83     10880\n",
      "weighted avg       0.83      0.83      0.83     10880\n",
      "\n",
      "WITH K= 209\n",
      "\n",
      "\n",
      "[[4538  892]\n",
      " [1036 4414]]\n",
      "\n",
      "\n",
      "              precision    recall  f1-score   support\n",
      "\n",
      "          no       0.81      0.84      0.82      5430\n",
      "         yes       0.83      0.81      0.82      5450\n",
      "\n",
      "    accuracy                           0.82     10880\n",
      "   macro avg       0.82      0.82      0.82     10880\n",
      "weighted avg       0.82      0.82      0.82     10880\n",
      "\n",
      "WITH K= 220\n",
      "\n",
      "\n",
      "[[4546  884]\n",
      " [1055 4395]]\n",
      "\n",
      "\n",
      "              precision    recall  f1-score   support\n",
      "\n",
      "          no       0.81      0.84      0.82      5430\n",
      "         yes       0.83      0.81      0.82      5450\n",
      "\n",
      "    accuracy                           0.82     10880\n",
      "   macro avg       0.82      0.82      0.82     10880\n",
      "weighted avg       0.82      0.82      0.82     10880\n",
      "\n",
      "WITH K= 250\n",
      "\n",
      "\n",
      "[[4570  860]\n",
      " [1158 4292]]\n",
      "\n",
      "\n",
      "              precision    recall  f1-score   support\n",
      "\n",
      "          no       0.80      0.84      0.82      5430\n",
      "         yes       0.83      0.79      0.81      5450\n",
      "\n",
      "    accuracy                           0.81     10880\n",
      "   macro avg       0.82      0.81      0.81     10880\n",
      "weighted avg       0.82      0.81      0.81     10880\n",
      "\n",
      "[0.841360294117647, 0.8394301470588236, 0.8284926470588235, 0.8227941176470588, 0.8217830882352941, 0.8145220588235295]\n"
     ]
    }
   ],
   "source": [
    "n_neighbors=[150,180,200,209,220,250] \n",
    "accuracy_scores=[]\n",
    "for i in n_neighbors:\n",
    "    knn = KNeighborsClassifier(i)\n",
    "    knn.fit(X_train,y_train)\n",
    "    pred = knn.predict(X_test)\n",
    "\n",
    "    print('WITH K=',i)\n",
    "    print('\\n')\n",
    "    print(confusion_matrix(y_test,pred))\n",
    "    print('\\n')\n",
    "    print(classification_report(y_test,pred))\n",
    "    accuracy_scores.append(metrics.accuracy_score(y_test, pred))\n",
    "print(accuracy_scores)\n"
   ]
  },
  {
   "cell_type": "code",
   "execution_count": 70,
   "metadata": {
    "ExecuteTime": {
     "end_time": "2020-04-28T20:48:11.980367Z",
     "start_time": "2020-04-28T20:48:11.791289Z"
    }
   },
   "outputs": [
    {
     "data": {
      "image/png": "[encoded data removed]",
      "text/plain": [
       "<Figure size 432x288 with 1 Axes>"
      ]
     },
     "metadata": {
      "needs_background": "light"
     },
     "output_type": "display_data"
    }
   ],
   "source": [
    "import matplotlib.pyplot as plt #K=209 is a good one with PCA\n",
    "plt.plot(n_neighbors,accuracy_scores);\n",
    "plt.ylim((.81,.85))\n",
    "plt.grid()"
   ]
  },
  {
   "cell_type": "code",
   "execution_count": 71,
   "metadata": {
    "ExecuteTime": {
     "end_time": "2020-04-28T20:48:11.985383Z",
     "start_time": "2020-04-28T20:48:11.981364Z"
    }
   },
   "outputs": [
    {
     "data": {
      "text/plain": [
       "0.8280637254901961"
      ]
     },
     "execution_count": 71,
     "metadata": {},
     "output_type": "execute_result"
    }
   ],
   "source": [
    "statistics.mean(accuracy_scores)"
   ]
  },
  {
   "cell_type": "markdown",
   "metadata": {},
   "source": [
    "## Random Forest"
   ]
  },
  {
   "cell_type": "code",
   "execution_count": 72,
   "metadata": {
    "ExecuteTime": {
     "end_time": "2020-04-28T20:48:12.087944Z",
     "start_time": "2020-04-28T20:48:11.993363Z"
    }
   },
   "outputs": [],
   "source": [
    "from sklearn.ensemble import RandomForestClassifier"
   ]
  },
  {
   "cell_type": "code",
   "execution_count": 73,
   "metadata": {
    "ExecuteTime": {
     "end_time": "2020-04-28T20:48:13.348350Z",
     "start_time": "2020-04-28T20:48:12.092922Z"
    }
   },
   "outputs": [
    {
     "data": {
      "text/plain": [
       "RandomForestClassifier(bootstrap=True, class_weight=None, criterion='gini',\n",
       "                       max_depth=None, max_features='auto', max_leaf_nodes=16,\n",
       "                       min_impurity_decrease=0.0, min_impurity_split=None,\n",
       "                       min_samples_leaf=1, min_samples_split=2,\n",
       "                       min_weight_fraction_leaf=0.0, n_estimators=500,\n",
       "                       n_jobs=-1, oob_score=False, random_state=None, verbose=0,\n",
       "                       warm_start=False)"
      ]
     },
     "execution_count": 73,
     "metadata": {},
     "output_type": "execute_result"
    }
   ],
   "source": [
    "X_train, X_test, y_train, y_test = train_test_split(X, y, test_size=0.3, random_state=0)\n",
    "r = RandomForestClassifier(n_estimators=500,n_jobs=-1,max_leaf_nodes=16)\n",
    "r.fit(X_train,y_train)"
   ]
  },
  {
   "cell_type": "code",
   "execution_count": 74,
   "metadata": {
    "ExecuteTime": {
     "end_time": "2020-04-28T20:48:13.803286Z",
     "start_time": "2020-04-28T20:48:13.349316Z"
    }
   },
   "outputs": [
    {
     "data": {
      "text/plain": [
       "1.0"
      ]
     },
     "execution_count": 74,
     "metadata": {},
     "output_type": "execute_result"
    }
   ],
   "source": [
    "pred = r.predict(X_test)\n",
    "r.score(X_test, y_test)"
   ]
  },
  {
   "cell_type": "code",
   "execution_count": 75,
   "metadata": {
    "ExecuteTime": {
     "end_time": "2020-04-28T20:48:27.905520Z",
     "start_time": "2020-04-28T20:48:13.804281Z"
    }
   },
   "outputs": [
    {
     "name": "stdout",
     "output_type": "stream",
     "text": [
      "[0.6270680147058824, 0.6369485294117647, 0.8039981617647058, 0.8375459558823529, 0.8360140931372549, 0.9998468137254902, 1.0, 1.0]\n"
     ]
    }
   ],
   "source": [
    "#Adding 1 column in each step\n",
    "ind = [1,2,3,4,5,6,7,8]\n",
    "sco=[]\n",
    "for i in ind:\n",
    "    xx = X.iloc[:,:i]\n",
    "    X_train, X_test, y_train, y_test = train_test_split(xx, y, test_size=0.30, random_state=101)\n",
    "    r = RandomForestClassifier(n_estimators=500,n_jobs=-1,max_leaf_nodes=16)\n",
    "    r.fit(X_train,y_train)\n",
    "    pred = r.predict(X_test)\n",
    "    sc = r.score(X_test, y_test)\n",
    "    sco.append(sc)\n",
    "print(sco)"
   ]
  },
  {
   "cell_type": "code",
   "execution_count": 76,
   "metadata": {
    "ExecuteTime": {
     "end_time": "2020-04-28T20:48:28.102022Z",
     "start_time": "2020-04-28T20:48:27.908514Z"
    }
   },
   "outputs": [
    {
     "data": {
      "image/png": "[encoded data removed]",
      "text/plain": [
       "<Figure size 720x360 with 1 Axes>"
      ]
     },
     "metadata": {
      "needs_background": "light"
     },
     "output_type": "display_data"
    }
   ],
   "source": [
    "plt.figure(figsize=(10,5))\n",
    "plt.plot(ind,sco)\n",
    "plt.xticks(np.arange(9),(0,'Duration','Packets','Bytes','Flags','Protocol','Src_city','Src_country','port'))\n",
    "plt.grid()"
   ]
  },
  {
   "cell_type": "markdown",
   "metadata": {},
   "source": [
    "## Feature Importance"
   ]
  },
  {
   "cell_type": "code",
   "execution_count": 77,
   "metadata": {
    "ExecuteTime": {
     "end_time": "2020-04-28T20:48:29.677272Z",
     "start_time": "2020-04-28T20:48:28.104022Z"
    }
   },
   "outputs": [
    {
     "name": "stdout",
     "output_type": "stream",
     "text": [
      "Duration 0.008422513124538462\n",
      "Packets 0.0033032036144540642\n",
      "Bytes 0.02646908387288938\n",
      "Flags 0.037919882107581945\n",
      "Protocol 0.002706874439153367\n",
      "Src_city 0.4055933069402839\n",
      "Src_country 0.47258634099169283\n",
      "port 0.04299879490940603\n"
     ]
    }
   ],
   "source": [
    "r = RandomForestClassifier(n_estimators=500,n_jobs=-1)\n",
    "r.fit(X,y)\n",
    "feat = []\n",
    "n = []\n",
    "for name,score in zip(X, r.feature_importances_):\n",
    "    print(name,score)\n",
    "    feat.append(score)\n",
    "    n.append(name)\n"
   ]
  },
  {
   "cell_type": "code",
   "execution_count": 78,
   "metadata": {
    "ExecuteTime": {
     "end_time": "2020-04-28T20:48:29.854784Z",
     "start_time": "2020-04-28T20:48:29.681248Z"
    }
   },
   "outputs": [
    {
     "data": {
      "image/png": "[encoded data removed]",
      "text/plain": [
       "<Figure size 720x360 with 1 Axes>"
      ]
     },
     "metadata": {
      "needs_background": "light"
     },
     "output_type": "display_data"
    }
   ],
   "source": [
    "plt.figure(figsize=(10,5))\n",
    "plt.plot(n,feat)\n",
    "#plt.ylim((.85,.92))\n",
    "plt.grid()"
   ]
  },
  {
   "cell_type": "markdown",
   "metadata": {},
   "source": [
    "<font color='Blue'><font size=4>The location variables appear to skew the models. So we will repeat the same models without location columns."
   ]
  },
  {
   "cell_type": "markdown",
   "metadata": {
    "ExecuteTime": {
     "end_time": "2020-04-10T17:29:59.283584Z",
     "start_time": "2020-04-10T17:29:42.161767Z"
    }
   },
   "source": [
    "<font size=6><b>Without src city and country"
   ]
  },
  {
   "cell_type": "code",
   "execution_count": 79,
   "metadata": {
    "ExecuteTime": {
     "end_time": "2020-04-28T20:48:29.869755Z",
     "start_time": "2020-04-28T20:48:29.856779Z"
    }
   },
   "outputs": [
    {
     "data": {
      "text/html": [
       "<div>\n",
       "<style scoped>\n",
       "    .dataframe tbody tr th:only-of-type {\n",
       "        vertical-align: middle;\n",
       "    }\n",
       "\n",
       "    .dataframe tbody tr th {\n",
       "        vertical-align: top;\n",
       "    }\n",
       "\n",
       "    .dataframe thead th {\n",
       "        text-align: right;\n",
       "    }\n",
       "</style>\n",
       "<table border=\"1\" class=\"dataframe\">\n",
       "  <thead>\n",
       "    <tr style=\"text-align: right;\">\n",
       "      <th></th>\n",
       "      <th>Duration</th>\n",
       "      <th>Packets</th>\n",
       "      <th>Bytes</th>\n",
       "      <th>Flags</th>\n",
       "      <th>Protocol</th>\n",
       "      <th>port</th>\n",
       "    </tr>\n",
       "  </thead>\n",
       "  <tbody>\n",
       "    <tr>\n",
       "      <th>4117</th>\n",
       "      <td>0.000</td>\n",
       "      <td>1</td>\n",
       "      <td>263</td>\n",
       "      <td>27</td>\n",
       "      <td>9</td>\n",
       "      <td>64</td>\n",
       "    </tr>\n",
       "    <tr>\n",
       "      <th>6269</th>\n",
       "      <td>0.000</td>\n",
       "      <td>1</td>\n",
       "      <td>66</td>\n",
       "      <td>8</td>\n",
       "      <td>9</td>\n",
       "      <td>64</td>\n",
       "    </tr>\n",
       "    <tr>\n",
       "      <th>8919</th>\n",
       "      <td>2.712</td>\n",
       "      <td>4</td>\n",
       "      <td>256</td>\n",
       "      <td>27</td>\n",
       "      <td>9</td>\n",
       "      <td>64</td>\n",
       "    </tr>\n",
       "    <tr>\n",
       "      <th>10127</th>\n",
       "      <td>0.000</td>\n",
       "      <td>1</td>\n",
       "      <td>64</td>\n",
       "      <td>27</td>\n",
       "      <td>9</td>\n",
       "      <td>64</td>\n",
       "    </tr>\n",
       "    <tr>\n",
       "      <th>11546</th>\n",
       "      <td>0.000</td>\n",
       "      <td>1</td>\n",
       "      <td>64</td>\n",
       "      <td>27</td>\n",
       "      <td>9</td>\n",
       "      <td>64</td>\n",
       "    </tr>\n",
       "  </tbody>\n",
       "</table>\n",
       "</div>"
      ],
      "text/plain": [
       "       Duration  Packets  Bytes  Flags  Protocol  port\n",
       "4117      0.000        1    263     27         9    64\n",
       "6269      0.000        1     66      8         9    64\n",
       "8919      2.712        4    256     27         9    64\n",
       "10127     0.000        1     64     27         9    64\n",
       "11546     0.000        1     64     27         9    64"
      ]
     },
     "execution_count": 79,
     "metadata": {},
     "output_type": "execute_result"
    }
   ],
   "source": [
    "newX = X[['Duration','Packets','Bytes','Flags','Protocol','port']]\n",
    "newX.head()"
   ]
  },
  {
   "cell_type": "code",
   "execution_count": 80,
   "metadata": {
    "ExecuteTime": {
     "end_time": "2020-04-28T20:48:32.523861Z",
     "start_time": "2020-04-28T20:48:29.871739Z"
    }
   },
   "outputs": [
    {
     "name": "stdout",
     "output_type": "stream",
     "text": [
      "Duration 0.10217901321295957\n",
      "Packets 0.06375059028374436\n",
      "Bytes 0.43897477641058774\n",
      "Flags 0.19874740831162466\n",
      "Protocol 0.022629689341759816\n",
      "port 0.17371852243932387\n"
     ]
    }
   ],
   "source": [
    "r = RandomForestClassifier(n_estimators=500,n_jobs=-1)\n",
    "r.fit(newX,y)\n",
    "feat = []\n",
    "n = []\n",
    "for name,score in zip(newX, r.feature_importances_):\n",
    "    print(name,score)\n",
    "    feat.append(score)\n",
    "    n.append(name)\n"
   ]
  },
  {
   "cell_type": "code",
   "execution_count": 81,
   "metadata": {
    "ExecuteTime": {
     "end_time": "2020-04-28T20:48:32.679444Z",
     "start_time": "2020-04-28T20:48:32.524887Z"
    }
   },
   "outputs": [
    {
     "data": {
      "image/png": "[encoded data removed]",
      "text/plain": [
       "<Figure size 720x360 with 1 Axes>"
      ]
     },
     "metadata": {
      "needs_background": "light"
     },
     "output_type": "display_data"
    }
   ],
   "source": [
    "plt.figure(figsize=(10,5))\n",
    "plt.plot(n,feat)\n",
    "plt.grid()"
   ]
  },
  {
   "cell_type": "markdown",
   "metadata": {},
   "source": [
    "### KNN"
   ]
  },
  {
   "cell_type": "code",
   "execution_count": 82,
   "metadata": {
    "ExecuteTime": {
     "end_time": "2020-04-28T20:48:32.697407Z",
     "start_time": "2020-04-28T20:48:32.682437Z"
    }
   },
   "outputs": [],
   "source": [
    "X_train, X_test, y_train, y_test = train_test_split(newX,y,\n",
    "                                                    test_size=0.30,random_state =101)"
   ]
  },
  {
   "cell_type": "code",
   "execution_count": 83,
   "metadata": {
    "ExecuteTime": {
     "end_time": "2020-04-28T20:48:32.703411Z",
     "start_time": "2020-04-28T20:48:32.699391Z"
    }
   },
   "outputs": [],
   "source": [
    "from sklearn.neighbors import KNeighborsClassifier\n",
    "from sklearn.metrics import classification_report,confusion_matrix\n",
    "from sklearn import metrics"
   ]
  },
  {
   "cell_type": "code",
   "execution_count": 84,
   "metadata": {
    "ExecuteTime": {
     "end_time": "2020-04-28T20:48:32.710397Z",
     "start_time": "2020-04-28T20:48:32.706372Z"
    }
   },
   "outputs": [],
   "source": [
    "#43520 rows, kvalue = sqrt(N) = 208.6"
   ]
  },
  {
   "cell_type": "code",
   "execution_count": 85,
   "metadata": {
    "ExecuteTime": {
     "end_time": "2020-04-28T20:48:44.237734Z",
     "start_time": "2020-04-28T20:48:32.713353Z"
    },
    "scrolled": true
   },
   "outputs": [
    {
     "name": "stdout",
     "output_type": "stream",
     "text": [
      "WITH K= 150\n",
      "\n",
      "\n",
      "[[5301 1108]\n",
      " [ 899 5748]]\n",
      "\n",
      "\n",
      "              precision    recall  f1-score   support\n",
      "\n",
      "          no       0.85      0.83      0.84      6409\n",
      "         yes       0.84      0.86      0.85      6647\n",
      "\n",
      "    accuracy                           0.85     13056\n",
      "   macro avg       0.85      0.85      0.85     13056\n",
      "weighted avg       0.85      0.85      0.85     13056\n",
      "\n",
      "WITH K= 180\n",
      "\n",
      "\n",
      "[[5226 1183]\n",
      " [ 999 5648]]\n",
      "\n",
      "\n",
      "              precision    recall  f1-score   support\n",
      "\n",
      "          no       0.84      0.82      0.83      6409\n",
      "         yes       0.83      0.85      0.84      6647\n",
      "\n",
      "    accuracy                           0.83     13056\n",
      "   macro avg       0.83      0.83      0.83     13056\n",
      "weighted avg       0.83      0.83      0.83     13056\n",
      "\n",
      "WITH K= 200\n",
      "\n",
      "\n",
      "[[5213 1196]\n",
      " [1005 5642]]\n",
      "\n",
      "\n",
      "              precision    recall  f1-score   support\n",
      "\n",
      "          no       0.84      0.81      0.83      6409\n",
      "         yes       0.83      0.85      0.84      6647\n",
      "\n",
      "    accuracy                           0.83     13056\n",
      "   macro avg       0.83      0.83      0.83     13056\n",
      "weighted avg       0.83      0.83      0.83     13056\n",
      "\n",
      "WITH K= 209\n",
      "\n",
      "\n",
      "[[5197 1212]\n",
      " [ 994 5653]]\n",
      "\n",
      "\n",
      "              precision    recall  f1-score   support\n",
      "\n",
      "          no       0.84      0.81      0.82      6409\n",
      "         yes       0.82      0.85      0.84      6647\n",
      "\n",
      "    accuracy                           0.83     13056\n",
      "   macro avg       0.83      0.83      0.83     13056\n",
      "weighted avg       0.83      0.83      0.83     13056\n",
      "\n",
      "WITH K= 220\n",
      "\n",
      "\n",
      "[[5202 1207]\n",
      " [1014 5633]]\n",
      "\n",
      "\n",
      "              precision    recall  f1-score   support\n",
      "\n",
      "          no       0.84      0.81      0.82      6409\n",
      "         yes       0.82      0.85      0.84      6647\n",
      "\n",
      "    accuracy                           0.83     13056\n",
      "   macro avg       0.83      0.83      0.83     13056\n",
      "weighted avg       0.83      0.83      0.83     13056\n",
      "\n",
      "WITH K= 250\n",
      "\n",
      "\n",
      "[[5105 1304]\n",
      " [ 992 5655]]\n",
      "\n",
      "\n",
      "              precision    recall  f1-score   support\n",
      "\n",
      "          no       0.84      0.80      0.82      6409\n",
      "         yes       0.81      0.85      0.83      6647\n",
      "\n",
      "    accuracy                           0.82     13056\n",
      "   macro avg       0.82      0.82      0.82     13056\n",
      "weighted avg       0.82      0.82      0.82     13056\n",
      "\n",
      "[0.8462775735294118, 0.8328737745098039, 0.8314185049019608, 0.8310355392156863, 0.8298866421568627, 0.8241421568627451]\n"
     ]
    }
   ],
   "source": [
    "n_neighbors=[150,180,200,209,220,250] \n",
    "acc = []\n",
    "for i in n_neighbors:\n",
    "    knn = KNeighborsClassifier(i)\n",
    "    knn.fit(X_train,y_train)\n",
    "    pred = knn.predict(X_test)\n",
    "\n",
    "    print('WITH K=',i)\n",
    "    print('\\n')\n",
    "    print(confusion_matrix(y_test,pred))\n",
    "    print('\\n')\n",
    "    print(classification_report(y_test,pred))\n",
    "    acc.append(metrics.accuracy_score(y_test, pred))\n",
    "print(acc)\n"
   ]
  },
  {
   "cell_type": "code",
   "execution_count": 86,
   "metadata": {
    "ExecuteTime": {
     "end_time": "2020-04-28T20:48:44.389951Z",
     "start_time": "2020-04-28T20:48:44.239699Z"
    }
   },
   "outputs": [
    {
     "data": {
      "image/png": "[encoded data removed]",
      "text/plain": [
       "<Figure size 432x288 with 1 Axes>"
      ]
     },
     "metadata": {
      "needs_background": "light"
     },
     "output_type": "display_data"
    }
   ],
   "source": [
    "import matplotlib.pyplot as plt  \n",
    "plt.plot(n_neighbors,acc);\n",
    "plt.grid()"
   ]
  },
  {
   "cell_type": "code",
   "execution_count": 87,
   "metadata": {
    "ExecuteTime": {
     "end_time": "2020-04-28T20:48:44.396926Z",
     "start_time": "2020-04-28T20:48:44.390925Z"
    }
   },
   "outputs": [
    {
     "data": {
      "text/plain": [
       "0.8326056985294118"
      ]
     },
     "execution_count": 87,
     "metadata": {},
     "output_type": "execute_result"
    }
   ],
   "source": [
    "statistics.mean(acc)"
   ]
  },
  {
   "cell_type": "markdown",
   "metadata": {},
   "source": [
    "### PCA with KNN"
   ]
  },
  {
   "cell_type": "code",
   "execution_count": 88,
   "metadata": {
    "ExecuteTime": {
     "end_time": "2020-04-28T20:48:44.426832Z",
     "start_time": "2020-04-28T20:48:44.398903Z"
    }
   },
   "outputs": [],
   "source": [
    "from sklearn.model_selection import train_test_split\n",
    "\n",
    "X_train, X_test, y_train, y_test = train_test_split(newX, y, random_state=1)\n",
    "from sklearn.decomposition import PCA\n",
    "\n",
    "pca_model = PCA(n_components=0.95) #95% of variance\n",
    "pca_model.fit(X_train)\n",
    "X_train = pca_model.transform(X_train)\n",
    "X_test = pca_model.transform(X_test)"
   ]
  },
  {
   "cell_type": "code",
   "execution_count": 89,
   "metadata": {
    "ExecuteTime": {
     "end_time": "2020-04-28T20:48:52.220701Z",
     "start_time": "2020-04-28T20:48:44.428822Z"
    },
    "scrolled": true
   },
   "outputs": [
    {
     "name": "stdout",
     "output_type": "stream",
     "text": [
      "WITH K= 150\n",
      "\n",
      "\n",
      "[[4532  898]\n",
      " [ 921 4529]]\n",
      "\n",
      "\n",
      "              precision    recall  f1-score   support\n",
      "\n",
      "          no       0.83      0.83      0.83      5430\n",
      "         yes       0.83      0.83      0.83      5450\n",
      "\n",
      "    accuracy                           0.83     10880\n",
      "   macro avg       0.83      0.83      0.83     10880\n",
      "weighted avg       0.83      0.83      0.83     10880\n",
      "\n",
      "WITH K= 180\n",
      "\n",
      "\n",
      "[[4476  954]\n",
      " [ 954 4496]]\n",
      "\n",
      "\n",
      "              precision    recall  f1-score   support\n",
      "\n",
      "          no       0.82      0.82      0.82      5430\n",
      "         yes       0.82      0.82      0.82      5450\n",
      "\n",
      "    accuracy                           0.82     10880\n",
      "   macro avg       0.82      0.82      0.82     10880\n",
      "weighted avg       0.82      0.82      0.82     10880\n",
      "\n",
      "WITH K= 200\n",
      "\n",
      "\n",
      "[[4554  876]\n",
      " [1071 4379]]\n",
      "\n",
      "\n",
      "              precision    recall  f1-score   support\n",
      "\n",
      "          no       0.81      0.84      0.82      5430\n",
      "         yes       0.83      0.80      0.82      5450\n",
      "\n",
      "    accuracy                           0.82     10880\n",
      "   macro avg       0.82      0.82      0.82     10880\n",
      "weighted avg       0.82      0.82      0.82     10880\n",
      "\n",
      "WITH K= 209\n",
      "\n",
      "\n",
      "[[4481  949]\n",
      " [1004 4446]]\n",
      "\n",
      "\n",
      "              precision    recall  f1-score   support\n",
      "\n",
      "          no       0.82      0.83      0.82      5430\n",
      "         yes       0.82      0.82      0.82      5450\n",
      "\n",
      "    accuracy                           0.82     10880\n",
      "   macro avg       0.82      0.82      0.82     10880\n",
      "weighted avg       0.82      0.82      0.82     10880\n",
      "\n",
      "WITH K= 220\n",
      "\n",
      "\n",
      "[[4553  877]\n",
      " [1034 4416]]\n",
      "\n",
      "\n",
      "              precision    recall  f1-score   support\n",
      "\n",
      "          no       0.81      0.84      0.83      5430\n",
      "         yes       0.83      0.81      0.82      5450\n",
      "\n",
      "    accuracy                           0.82     10880\n",
      "   macro avg       0.82      0.82      0.82     10880\n",
      "weighted avg       0.82      0.82      0.82     10880\n",
      "\n",
      "WITH K= 250\n",
      "\n",
      "\n",
      "[[4477  953]\n",
      " [1067 4383]]\n",
      "\n",
      "\n",
      "              precision    recall  f1-score   support\n",
      "\n",
      "          no       0.81      0.82      0.82      5430\n",
      "         yes       0.82      0.80      0.81      5450\n",
      "\n",
      "    accuracy                           0.81     10880\n",
      "   macro avg       0.81      0.81      0.81     10880\n",
      "weighted avg       0.81      0.81      0.81     10880\n",
      "\n",
      "[0.8328125, 0.8246323529411764, 0.8210477941176471, 0.8204963235294118, 0.8243566176470588, 0.8143382352941176]\n"
     ]
    }
   ],
   "source": [
    "n_neighbors=[150,180,200,209,220,250] \n",
    "accuracy_scores=[]\n",
    "for i in n_neighbors:\n",
    "    knn = KNeighborsClassifier(i)\n",
    "    knn.fit(X_train,y_train)\n",
    "    pred = knn.predict(X_test)\n",
    "\n",
    "    print('WITH K=',i)\n",
    "    print('\\n')\n",
    "    print(confusion_matrix(y_test,pred))\n",
    "    print('\\n')\n",
    "    print(classification_report(y_test,pred))\n",
    "    accuracy_scores.append(metrics.accuracy_score(y_test, pred))\n",
    "print(accuracy_scores)\n"
   ]
  },
  {
   "cell_type": "code",
   "execution_count": 90,
   "metadata": {
    "ExecuteTime": {
     "end_time": "2020-04-28T20:48:52.465049Z",
     "start_time": "2020-04-28T20:48:52.223693Z"
    }
   },
   "outputs": [
    {
     "data": {
      "image/png": "[encoded data removed]",
      "text/plain": [
       "<Figure size 432x288 with 1 Axes>"
      ]
     },
     "metadata": {
      "needs_background": "light"
     },
     "output_type": "display_data"
    }
   ],
   "source": [
    "import matplotlib.pyplot as plt \n",
    "plt.plot(n_neighbors,accuracy_scores);\n",
    "plt.ylim((.81,.85))\n",
    "plt.grid()"
   ]
  },
  {
   "cell_type": "code",
   "execution_count": 91,
   "metadata": {
    "ExecuteTime": {
     "end_time": "2020-04-28T20:48:52.475021Z",
     "start_time": "2020-04-28T20:48:52.468043Z"
    }
   },
   "outputs": [
    {
     "data": {
      "text/plain": [
       "0.8229473039215687"
      ]
     },
     "execution_count": 91,
     "metadata": {},
     "output_type": "execute_result"
    }
   ],
   "source": [
    "statistics.mean(accuracy_scores)"
   ]
  },
  {
   "cell_type": "markdown",
   "metadata": {},
   "source": [
    "### Random Forest"
   ]
  },
  {
   "cell_type": "code",
   "execution_count": 92,
   "metadata": {
    "ExecuteTime": {
     "end_time": "2020-04-28T20:48:54.110287Z",
     "start_time": "2020-04-28T20:48:52.477018Z"
    }
   },
   "outputs": [
    {
     "data": {
      "text/plain": [
       "RandomForestClassifier(bootstrap=True, class_weight=None, criterion='gini',\n",
       "                       max_depth=None, max_features='auto', max_leaf_nodes=16,\n",
       "                       min_impurity_decrease=0.0, min_impurity_split=None,\n",
       "                       min_samples_leaf=1, min_samples_split=2,\n",
       "                       min_weight_fraction_leaf=0.0, n_estimators=500,\n",
       "                       n_jobs=-1, oob_score=False, random_state=None, verbose=0,\n",
       "                       warm_start=False)"
      ]
     },
     "execution_count": 92,
     "metadata": {},
     "output_type": "execute_result"
    }
   ],
   "source": [
    "X_train, X_test, y_train, y_test = train_test_split(newX, y, test_size=0.3, random_state=0)\n",
    "r = RandomForestClassifier(n_estimators=500,n_jobs=-1,max_leaf_nodes=16)\n",
    "r.fit(X_train,y_train)"
   ]
  },
  {
   "cell_type": "code",
   "execution_count": 93,
   "metadata": {
    "ExecuteTime": {
     "end_time": "2020-04-28T20:48:54.570131Z",
     "start_time": "2020-04-28T20:48:54.111283Z"
    }
   },
   "outputs": [
    {
     "data": {
      "text/plain": [
       "0.8393841911764706"
      ]
     },
     "execution_count": 93,
     "metadata": {},
     "output_type": "execute_result"
    }
   ],
   "source": [
    "pred = r.predict(X_test)\n",
    "r.score(X_test, y_test)"
   ]
  },
  {
   "cell_type": "code",
   "execution_count": 94,
   "metadata": {
    "ExecuteTime": {
     "end_time": "2020-04-28T20:49:06.937464Z",
     "start_time": "2020-04-28T20:48:54.573121Z"
    }
   },
   "outputs": [
    {
     "name": "stdout",
     "output_type": "stream",
     "text": [
      "[0.6270680147058824, 0.6369485294117647, 0.7984834558823529, 0.8370863970588235, 0.8389246323529411, 0.8637408088235294]\n"
     ]
    }
   ],
   "source": [
    "#Adding 1 column in each step\n",
    "ind = [1,2,3,4,5,6]\n",
    "sco=[]\n",
    "for i in ind:\n",
    "    xx = newX.iloc[:,:i]\n",
    "    X_train, X_test, y_train, y_test = train_test_split(xx, y, test_size=0.30, random_state=101)\n",
    "    r = RandomForestClassifier(n_estimators=500,n_jobs=-1,max_leaf_nodes=16)\n",
    "    r.fit(X_train,y_train)\n",
    "    pred = r.predict(X_test)\n",
    "    sc = r.score(X_test, y_test)\n",
    "    sco.append(sc)\n",
    "print(sco)"
   ]
  },
  {
   "cell_type": "code",
   "execution_count": 95,
   "metadata": {
    "ExecuteTime": {
     "end_time": "2020-04-28T20:49:07.086059Z",
     "start_time": "2020-04-28T20:49:06.939431Z"
    }
   },
   "outputs": [
    {
     "data": {
      "image/png": "[encoded data removed]",
      "text/plain": [
       "<Figure size 720x360 with 1 Axes>"
      ]
     },
     "metadata": {
      "needs_background": "light"
     },
     "output_type": "display_data"
    }
   ],
   "source": [
    "plt.figure(figsize=(10,5))\n",
    "plt.plot(ind,sco)\n",
    "plt.xticks(np.arange(7),(0,'Duration','Packets','Bytes','Flags','Protocol','port'))\n",
    "plt.grid()"
   ]
  },
  {
   "cell_type": "code",
   "execution_count": null,
   "metadata": {},
   "outputs": [],
   "source": []
  }
 ],
 "metadata": {
  "hide_input": false,
  "kernelspec": {
   "display_name": "Python 3",
   "language": "python",
   "name": "python3"
  },
  "language_info": {
   "codemirror_mode": {
    "name": "ipython",
    "version": 3
   },
   "file_extension": ".py",
   "mimetype": "text/x-python",
   "name": "python",
   "nbconvert_exporter": "python",
   "pygments_lexer": "ipython3",
   "version": "3.7.4"
  },
  "toc": {
   "base_numbering": 1,
   "nav_menu": {},
   "number_sections": true,
   "sideBar": true,
   "skip_h1_title": false,
   "title_cell": "Table of Contents",
   "title_sidebar": "Contents",
   "toc_cell": false,
   "toc_position": {},
   "toc_section_display": true,
   "toc_window_display": false
  },
  "varInspector": {
   "cols": {
    "lenName": 16,
    "lenType": 16,
    "lenVar": 40
   },
   "kernels_config": {
    "python": {
     "delete_cmd_postfix": "",
     "delete_cmd_prefix": "del ",
     "library": "var_list.py",
     "varRefreshCmd": "print(var_dic_list())"
    },
    "r": {
     "delete_cmd_postfix": ") ",
     "delete_cmd_prefix": "rm(",
     "library": "var_list.r",
     "varRefreshCmd": "cat(var_dic_list()) "
    }
   },
   "types_to_exclude": [
    "module",
    "function",
    "builtin_function_or_method",
    "instance",
    "_Feature"
   ],
   "window_display": false
  }
 },
 "nbformat": 4,
 "nbformat_minor": 2
}
