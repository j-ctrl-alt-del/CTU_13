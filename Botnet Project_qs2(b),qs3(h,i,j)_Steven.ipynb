{
 "cells": [
  {
   "cell_type": "markdown",
   "metadata": {},
   "source": [
    " <font size=6><b>DSC 522 Ghost Hunting: Finding a Botnet in Netflow Traffic<br>\n",
    "    <font size=4>Qs.2 b and Qs.3 h,i,j done by Steven Moore"
   ]
  },
  {
   "cell_type": "code",
   "execution_count": 1,
   "metadata": {
    "ExecuteTime": {
     "end_time": "2020-04-30T23:19:53.892643Z",
     "start_time": "2020-04-30T23:19:53.888673Z"
    }
   },
   "outputs": [],
   "source": [
    "# Please note!!!  The group had to expand the RAM available to Jupyter for this code to run. \n",
    "# We exapnded the RAM to 4GB and recommend you do the same.  Please see the answer to the below\n",
    "# stackoverflow page concerning expanding the amount of max_buffer_size. \n",
    "# https://stackoverflow.com/questions/57948003/how-to-increase-jupyter-notebook-memory-limit"
   ]
  },
  {
   "cell_type": "code",
   "execution_count": 2,
   "metadata": {
    "ExecuteTime": {
     "end_time": "2020-04-30T23:22:26.841737Z",
     "start_time": "2020-04-30T23:19:54.343385Z"
    },
    "scrolled": true
   },
   "outputs": [
    {
     "name": "stderr",
     "output_type": "stream",
     "text": [
      "C:\\Users\\jft2456\\AppData\\Local\\Continuum\\anaconda3\\lib\\site-packages\\IPython\\core\\interactiveshell.py:3058: DtypeWarning: Columns (13) have mixed types. Specify dtype option on import or set low_memory=False.\n",
      "  interactivity=interactivity, compiler=compiler, result=result)\n"
     ]
    }
   ],
   "source": [
    "#I was not able to run the full cleaning/encoding process that Mukila did, so I used an intermediate, one-hot-encoded dataset,\n",
    "#along with the original dataset from which I collected the Y values.\n",
    "#Though I used one-hot encoding for these methods, Emma also ran these methods with her label encoded dataset, \n",
    "#and the differences for the bagging and KMeans accuracy were within .5%. (Differences in downsampling and different random states\n",
    "#likely contributed to the difference for DBSCAN.) \n",
    "\n",
    "import pandas as pd\n",
    "\n",
    "from sklearn.model_selection import train_test_split\n",
    "df = pd.read_csv(r'capture20110815-3.pcap.netflow_v2.txt', delim_whitespace=True)\n",
    "for index, row in df.iterrows():\n",
    "    if row.Tos in ['Background', 'LEGITIMATE']:\n",
    "        df.at[index, 'Label'] = 0\n",
    "    else:\n",
    "        df.at[index, 'Label'] = 1\n"
   ]
  },
  {
   "cell_type": "code",
   "execution_count": 3,
   "metadata": {
    "ExecuteTime": {
     "end_time": "2020-04-30T23:22:26.896093Z",
     "start_time": "2020-04-30T23:22:26.871149Z"
    }
   },
   "outputs": [
    {
     "data": {
      "text/plain": [
       "array([0., 1.])"
      ]
     },
     "execution_count": 3,
     "metadata": {},
     "output_type": "execute_result"
    }
   ],
   "source": [
    "df.Label.unique()"
   ]
  },
  {
   "cell_type": "code",
   "execution_count": 4,
   "metadata": {
    "ExecuteTime": {
     "end_time": "2020-04-30T23:23:07.505699Z",
     "start_time": "2020-04-30T23:22:26.918024Z"
    },
    "scrolled": false
   },
   "outputs": [
    {
     "data": {
      "text/html": [
       "<div>\n",
       "<style scoped>\n",
       "    .dataframe tbody tr th:only-of-type {\n",
       "        vertical-align: middle;\n",
       "    }\n",
       "\n",
       "    .dataframe tbody tr th {\n",
       "        vertical-align: top;\n",
       "    }\n",
       "\n",
       "    .dataframe thead th {\n",
       "        text-align: right;\n",
       "    }\n",
       "</style>\n",
       "<table border=\"1\" class=\"dataframe\">\n",
       "  <thead>\n",
       "    <tr style=\"text-align: right;\">\n",
       "      <th></th>\n",
       "      <th>Label</th>\n",
       "      <th>Duration</th>\n",
       "      <th>Packets</th>\n",
       "      <th>Bytes</th>\n",
       "      <th>A_</th>\n",
       "      <th>CON</th>\n",
       "      <th>ECO</th>\n",
       "      <th>ECR</th>\n",
       "      <th>FAC_</th>\n",
       "      <th>FAU_</th>\n",
       "      <th>...</th>\n",
       "      <th>83</th>\n",
       "      <th>832</th>\n",
       "      <th>843</th>\n",
       "      <th>877</th>\n",
       "      <th>88</th>\n",
       "      <th>888</th>\n",
       "      <th>916</th>\n",
       "      <th>98</th>\n",
       "      <th>993</th>\n",
       "      <th>995</th>\n",
       "    </tr>\n",
       "  </thead>\n",
       "  <tbody>\n",
       "    <tr>\n",
       "      <td>0</td>\n",
       "      <td>0.0</td>\n",
       "      <td>4.230</td>\n",
       "      <td>180</td>\n",
       "      <td>12628</td>\n",
       "      <td>0.0</td>\n",
       "      <td>0.0</td>\n",
       "      <td>0.0</td>\n",
       "      <td>0.0</td>\n",
       "      <td>0.0</td>\n",
       "      <td>0.0</td>\n",
       "      <td>...</td>\n",
       "      <td>0.0</td>\n",
       "      <td>0.0</td>\n",
       "      <td>0.0</td>\n",
       "      <td>0.0</td>\n",
       "      <td>0.0</td>\n",
       "      <td>0.0</td>\n",
       "      <td>0.0</td>\n",
       "      <td>0.0</td>\n",
       "      <td>0.0</td>\n",
       "      <td>0.0</td>\n",
       "    </tr>\n",
       "    <tr>\n",
       "      <td>1</td>\n",
       "      <td>0.0</td>\n",
       "      <td>4.204</td>\n",
       "      <td>329</td>\n",
       "      <td>478578</td>\n",
       "      <td>0.0</td>\n",
       "      <td>0.0</td>\n",
       "      <td>0.0</td>\n",
       "      <td>0.0</td>\n",
       "      <td>0.0</td>\n",
       "      <td>0.0</td>\n",
       "      <td>...</td>\n",
       "      <td>0.0</td>\n",
       "      <td>0.0</td>\n",
       "      <td>0.0</td>\n",
       "      <td>0.0</td>\n",
       "      <td>0.0</td>\n",
       "      <td>0.0</td>\n",
       "      <td>0.0</td>\n",
       "      <td>0.0</td>\n",
       "      <td>0.0</td>\n",
       "      <td>0.0</td>\n",
       "    </tr>\n",
       "    <tr>\n",
       "      <td>2</td>\n",
       "      <td>0.0</td>\n",
       "      <td>4.985</td>\n",
       "      <td>94</td>\n",
       "      <td>6212</td>\n",
       "      <td>0.0</td>\n",
       "      <td>0.0</td>\n",
       "      <td>0.0</td>\n",
       "      <td>0.0</td>\n",
       "      <td>0.0</td>\n",
       "      <td>0.0</td>\n",
       "      <td>...</td>\n",
       "      <td>0.0</td>\n",
       "      <td>0.0</td>\n",
       "      <td>0.0</td>\n",
       "      <td>0.0</td>\n",
       "      <td>0.0</td>\n",
       "      <td>0.0</td>\n",
       "      <td>0.0</td>\n",
       "      <td>0.0</td>\n",
       "      <td>0.0</td>\n",
       "      <td>0.0</td>\n",
       "    </tr>\n",
       "    <tr>\n",
       "      <td>3</td>\n",
       "      <td>0.0</td>\n",
       "      <td>4.975</td>\n",
       "      <td>182</td>\n",
       "      <td>61555</td>\n",
       "      <td>0.0</td>\n",
       "      <td>0.0</td>\n",
       "      <td>0.0</td>\n",
       "      <td>0.0</td>\n",
       "      <td>0.0</td>\n",
       "      <td>0.0</td>\n",
       "      <td>...</td>\n",
       "      <td>0.0</td>\n",
       "      <td>0.0</td>\n",
       "      <td>0.0</td>\n",
       "      <td>0.0</td>\n",
       "      <td>0.0</td>\n",
       "      <td>0.0</td>\n",
       "      <td>0.0</td>\n",
       "      <td>0.0</td>\n",
       "      <td>0.0</td>\n",
       "      <td>0.0</td>\n",
       "    </tr>\n",
       "    <tr>\n",
       "      <td>4</td>\n",
       "      <td>0.0</td>\n",
       "      <td>4.975</td>\n",
       "      <td>185</td>\n",
       "      <td>66524</td>\n",
       "      <td>0.0</td>\n",
       "      <td>0.0</td>\n",
       "      <td>0.0</td>\n",
       "      <td>0.0</td>\n",
       "      <td>0.0</td>\n",
       "      <td>0.0</td>\n",
       "      <td>...</td>\n",
       "      <td>0.0</td>\n",
       "      <td>0.0</td>\n",
       "      <td>0.0</td>\n",
       "      <td>0.0</td>\n",
       "      <td>0.0</td>\n",
       "      <td>0.0</td>\n",
       "      <td>0.0</td>\n",
       "      <td>0.0</td>\n",
       "      <td>0.0</td>\n",
       "      <td>0.0</td>\n",
       "    </tr>\n",
       "  </tbody>\n",
       "</table>\n",
       "<p>5 rows × 252 columns</p>\n",
       "</div>"
      ],
      "text/plain": [
       "   Label  Duration  Packets   Bytes   A_  CON  ECO  ECR  FAC_  FAU_  ...   83  \\\n",
       "0    0.0     4.230      180   12628  0.0  0.0  0.0  0.0   0.0   0.0  ...  0.0   \n",
       "1    0.0     4.204      329  478578  0.0  0.0  0.0  0.0   0.0   0.0  ...  0.0   \n",
       "2    0.0     4.985       94    6212  0.0  0.0  0.0  0.0   0.0   0.0  ...  0.0   \n",
       "3    0.0     4.975      182   61555  0.0  0.0  0.0  0.0   0.0   0.0  ...  0.0   \n",
       "4    0.0     4.975      185   66524  0.0  0.0  0.0  0.0   0.0   0.0  ...  0.0   \n",
       "\n",
       "   832  843  877   88  888  916   98  993  995  \n",
       "0  0.0  0.0  0.0  0.0  0.0  0.0  0.0  0.0  0.0  \n",
       "1  0.0  0.0  0.0  0.0  0.0  0.0  0.0  0.0  0.0  \n",
       "2  0.0  0.0  0.0  0.0  0.0  0.0  0.0  0.0  0.0  \n",
       "3  0.0  0.0  0.0  0.0  0.0  0.0  0.0  0.0  0.0  \n",
       "4  0.0  0.0  0.0  0.0  0.0  0.0  0.0  0.0  0.0  \n",
       "\n",
       "[5 rows x 252 columns]"
      ]
     },
     "execution_count": 4,
     "metadata": {},
     "output_type": "execute_result"
    }
   ],
   "source": [
    "X = pd.read_csv(r'final X.csv')\n",
    "df.rename(columns = {list(df)[1]:'Flow_Start',list(df)[2]:'Duration',list(df)[3]:'Protocol',list(df)[10]:'Source_IP',list(df)[11]:'Source_Port',\n",
    "                    list(df)[12]:'Destination_IP',list(df)[13]:'Destination_Port',list(df)[4]:'Flags',list(df)[5]:'Type_of_Service',\n",
    "                    list(df)[6]:'Packets',list(df)[7]:'Bytes',list(df)[8]:'Labels',list(df)[9]:'Additional_Label'}, inplace = True)\n",
    "df = df[['Flow_Start', 'Label']]\n",
    "df = df.join(X, lsuffix='_1', rsuffix='_2')\n",
    "df=df.drop(['Source_IP', 'Destination_IP', 'Flow_Start_1', 'Flow_Start_2'], axis=1)\n",
    "df = df.astype({'Label':'float64'})\n",
    "stage1=df\n",
    "df.head()\n",
    "\n"
   ]
  },
  {
   "cell_type": "code",
   "execution_count": 5,
   "metadata": {
    "ExecuteTime": {
     "end_time": "2020-04-30T23:23:08.947351Z",
     "start_time": "2020-04-30T23:23:08.553892Z"
    }
   },
   "outputs": [
    {
     "data": {
      "text/plain": [
       "array([0., 1.])"
      ]
     },
     "execution_count": 5,
     "metadata": {},
     "output_type": "execute_result"
    }
   ],
   "source": [
    "df['Label'].unique()"
   ]
  },
  {
   "cell_type": "code",
   "execution_count": 6,
   "metadata": {
    "ExecuteTime": {
     "end_time": "2020-04-30T23:23:17.213628Z",
     "start_time": "2020-04-30T23:23:09.854886Z"
    }
   },
   "outputs": [],
   "source": [
    "from sklearn.utils import resample\n",
    "majority = df[df.Label==0]\n",
    "minority = df[df.Label==1]\n",
    "df_majority_upsampled = resample(majority, \n",
    "                                 replace=False,     # sample with replacement\n",
    "                                 n_samples=21760,   # to match minority class\n",
    "                                 random_state=1)    # reproducible results\n",
    "df = pd.concat([df_majority_upsampled, minority] )\n",
    "stage2=df\n",
    "df2 = df\n",
    "for i in df2.columns[72:188]:\n",
    "    df2 = df2.drop(i, axis=1)\n",
    "df = df2\n",
    "stage3=df\n"
   ]
  },
  {
   "cell_type": "code",
   "execution_count": 7,
   "metadata": {
    "ExecuteTime": {
     "end_time": "2020-04-30T23:23:31.582340Z",
     "start_time": "2020-04-30T23:23:18.448295Z"
    }
   },
   "outputs": [
    {
     "data": {
      "text/plain": [
       "Label\n",
       "Backgroundnan              1218140\n",
       "BotnetFILTER_LEGITIMATE        648\n",
       "Botnetnan                    21112\n",
       "LEGITIMATEnan                59190\n",
       "dtype: int64"
      ]
     },
     "execution_count": 7,
     "metadata": {},
     "output_type": "execute_result"
    }
   ],
   "source": [
    "#This cell of preprocessing was done by Mukila\n",
    "\n",
    "#Importing packages\n",
    "import pandas as pd\n",
    "\n",
    "#Reading df\n",
    "df = pd.read_csv('capture20110815-3.pcap.netflow_v2.txt', delim_whitespace=True)\n",
    "#Dropping unneccesary columns\n",
    "df.drop(['Src','Bytes','Flows','Label','Labels','Flags'],axis=1,inplace = True)\n",
    "#Splitting Prot and IP columns into their respective IPs and Ports\n",
    "df[['a','b']] = df.Prot.str.split(\":\",n=1,expand=True)\n",
    "df[['c','d']] = df.IP.str.split(\":\",n=1,expand=True)\n",
    "\n",
    "#Drop those columns to avaoid confusion after splitting\n",
    "df.drop(['Prot','IP'],axis=1,inplace = True)\n",
    "df.rename(columns = {list(df)[1]:'Flow_Start',list(df)[2]:'Duration',list(df)[3]:'Protocol',list(df)[10]:'Source_IP',list(df)[11]:'Source_Port',\n",
    "                    list(df)[12]:'Destination_IP',list(df)[13]:'Destination_Port',list(df)[4]:'Flags',list(df)[5]:'Type_of_Service',\n",
    "                    list(df)[6]:'Packets',list(df)[7]:'Bytes',list(df)[8]:'Labels',list(df)[9]:'Additional_Label'}, inplace = True)\n",
    "df.drop(['Date'],axis=1,inplace = True)\n",
    "df['Label'] = df['Labels'].astype(str) + df['Additional_Label'].astype(str)\n",
    "#Dropping unneccesary columns\n",
    "df.drop(['Labels','Additional_Label'],axis=1,inplace = True)\n",
    "df.groupby('Label').size()"
   ]
  },
  {
   "cell_type": "markdown",
   "metadata": {},
   "source": [
    "<font size=5><font color='red'>Qs.2.b.\tFlow Start – Do traffic flows that start at certain intervals influence when botnet traffic will commence or call back (i.e., communicate via a command and control link)?"
   ]
  },
  {
   "cell_type": "code",
   "execution_count": 8,
   "metadata": {
    "ExecuteTime": {
     "end_time": "2020-04-30T22:56:22.177616Z",
     "start_time": "2020-04-30T22:54:22.282462Z"
    }
   },
   "outputs": [
    {
     "name": "stderr",
     "output_type": "stream",
     "text": [
      "C:\\ProgramData\\Anaconda3\\lib\\site-packages\\ipykernel_launcher.py:16: UserWarning: Pandas doesn't allow columns to be created via a new attribute name - see https://pandas.pydata.org/pandas-docs/stable/indexing.html#attribute-access\n",
      "  app.launch_new_instance()\n"
     ]
    }
   ],
   "source": [
    "#Produce timeseries graphs for the packets every second\n",
    "\n",
    "flow_check = df[['Flow_Start', 'Label']]\n",
    "for index, row in flow_check.iterrows():\n",
    "    flow_check.at[index, 'Flow_Start'] = flow_check.at[index, 'Flow_Start'][:8]\n",
    "bot_traffic_1 = flow_check[flow_check.Label == \"Botnetnan\"]\n",
    "bot_traffic_2 = flow_check[flow_check.Label == \"BotnetFILTER_LEGITIMATE\"]\n",
    "bot_traffic = pd.concat([bot_traffic_1, bot_traffic_2])\n",
    "full_count = flow_check.groupby('Flow_Start').size()\n",
    "bot_count = bot_traffic.groupby('Flow_Start').size()\n",
    "bot_count = bot_count.reset_index(\"Flow_Start\")\n",
    "full_count = full_count.reset_index('Flow_Start')\n",
    "combined = pd.merge(bot_count, full_count, left_on='Flow_Start', right_on='Flow_Start')\n",
    "combined.columns=['Flow_Start', 'Botnet_Packets', 'All_Packets']\n",
    "combined.sort_values('Botnet_Packets')\n",
    "combined.Legit_Packets = combined.All_Packets - combined.Botnet_Packets\n",
    "bot_count_2 = bot_traffic_2.groupby('Flow_Start').size()\n",
    "bot_count_2 = bot_count_2.reset_index(\"Flow_Start\")\n",
    "bot_count_2.columns = ['Flow_Start', 'Count']"
   ]
  },
  {
   "cell_type": "code",
   "execution_count": 11,
   "metadata": {
    "ExecuteTime": {
     "end_time": "2020-04-30T23:00:54.549500Z",
     "start_time": "2020-04-30T22:58:29.689020Z"
    }
   },
   "outputs": [
    {
     "data": {
      "text/plain": [
       "[<matplotlib.lines.Line2D at 0x1b9d26375f8>]"
      ]
     },
     "execution_count": 11,
     "metadata": {},
     "output_type": "execute_result"
    },
    {
     "data": {
      "image/png": "[encoded data removed]",
      "text/plain": [
       "<Figure size 1440x144 with 1 Axes>"
      ]
     },
     "metadata": {
      "needs_background": "light"
     },
     "output_type": "display_data"
    },
    {
     "data": {
      "image/png": "[encoded data removed]",
      "text/plain": [
       "<Figure size 1440x144 with 1 Axes>"
      ]
     },
     "metadata": {
      "needs_background": "light"
     },
     "output_type": "display_data"
    },
    {
     "data": {
      "image/png": "[encoded data removed]",
      "text/plain": [
       "<Figure size 1440x144 with 1 Axes>"
      ]
     },
     "metadata": {
      "needs_background": "light"
     },
     "output_type": "display_data"
    }
   ],
   "source": [
    "#Covert h:m:s format into a numeric value for timeseries\n",
    "check2 = bot_count_2.groupby('Flow_Start').size()\n",
    "h=17 # to 19\n",
    "m=16 # to 17\n",
    "s=49\n",
    "zeroes = pd.DataFrame([['17:16:47', 0]])\n",
    "while (h < 19) or (m < 18):\n",
    "    s += 1\n",
    "    if s > 59:\n",
    "        m += 1\n",
    "        s = 0\n",
    "    if m > 59:\n",
    "        m = 0\n",
    "        h += 1\n",
    "    if sum(check2.index== str(h)+\":\"+str(m)+\":\"+str(s))  < 1:\n",
    "        zero = pd.DataFrame([[str(h)+\":\"+str(m)+\":\"+str(s), 0]])\n",
    "        zero.columns=[\"Flow_Start\", 'Count']\n",
    "        bot_count_2 = pd.concat([bot_count_2, zero])\n",
    "combined.set_index('Flow_Start')\n",
    "import matplotlib.pyplot as plt\n",
    "fig = plt.figure(num=None, figsize=(20, 2))\n",
    "\n",
    "plt.plot(combined.index, combined.All_Packets)\n",
    "fig = plt.figure(num=None, figsize=(20, 2))\n",
    "plt.plot(combined.index, combined.Botnet_Packets)\n",
    "fig = plt.figure(num=None, figsize=(20, 2))\n",
    "bot_count_3 = bot_count_2\n",
    "bot_count_3 = bot_count_3.sort_values('Flow_Start').reset_index()\n",
    "plt.plot(bot_count_3.Flow_Start, bot_count_3.Count)\n",
    "# in descending order :All packets, Botnet packets, and Botnet_FILTERLEGITIMATE packets"
   ]
  },
  {
   "cell_type": "code",
   "execution_count": 12,
   "metadata": {
    "ExecuteTime": {
     "end_time": "2020-04-30T23:03:03.869844Z",
     "start_time": "2020-04-30T23:00:58.691330Z"
    }
   },
   "outputs": [
    {
     "name": "stderr",
     "output_type": "stream",
     "text": [
      "C:\\ProgramData\\Anaconda3\\lib\\site-packages\\ipykernel_launcher.py:15: UserWarning: Pandas doesn't allow columns to be created via a new attribute name - see https://pandas.pydata.org/pandas-docs/stable/indexing.html#attribute-access\n",
      "  from ipykernel import kernelapp as app\n"
     ]
    },
    {
     "data": {
      "text/plain": [
       "[<matplotlib.lines.Line2D at 0x1b9d0d21f98>]"
      ]
     },
     "execution_count": 12,
     "metadata": {},
     "output_type": "execute_result"
    },
    {
     "data": {
      "image/png": "[encoded data removed]",
      "text/plain": [
       "<Figure size 1440x144 with 1 Axes>"
      ]
     },
     "metadata": {
      "needs_background": "light"
     },
     "output_type": "display_data"
    },
    {
     "data": {
      "image/png": "[encoded data removed]",
      "text/plain": [
       "<Figure size 1440x144 with 1 Axes>"
      ]
     },
     "metadata": {
      "needs_background": "light"
     },
     "output_type": "display_data"
    },
    {
     "data": {
      "image/png": "[encoded data removed]",
      "text/plain": [
       "<Figure size 1440x144 with 1 Axes>"
      ]
     },
     "metadata": {
      "needs_background": "light"
     },
     "output_type": "display_data"
    }
   ],
   "source": [
    "#same graphs, but for a tenth of a second\n",
    "flow_check = df[['Flow_Start', 'Label']]\n",
    "for index, row in flow_check.iterrows():\n",
    "    flow_check.at[index, 'Flow_Start'] = flow_check.at[index, 'Flow_Start'][:10]\n",
    "bot_traffic_1 = flow_check[flow_check.Label == \"Botnetnan\"]\n",
    "bot_traffic_2 = flow_check[flow_check.Label == \"BotnetFILTER_LEGITIMATE\"]\n",
    "bot_traffic = pd.concat([bot_traffic_1, bot_traffic_2])\n",
    "full_count = flow_check.groupby('Flow_Start').size()\n",
    "bot_count = bot_traffic.groupby('Flow_Start').size()\n",
    "bot_count = bot_count.reset_index(\"Flow_Start\")\n",
    "full_count = full_count.reset_index('Flow_Start')\n",
    "combined = pd.merge(bot_count, full_count, left_on='Flow_Start', right_on='Flow_Start')\n",
    "combined.columns=['Flow_Start', 'Botnet_Packets', 'All_Packets']\n",
    "combined.sort_values('Botnet_Packets')\n",
    "combined.Clean_Packets = combined.All_Packets - combined.Botnet_Packets\n",
    "bot_count_2 = bot_traffic_2.groupby('Flow_Start').size()\n",
    "bot_count_2 = bot_count_2.reset_index(\"Flow_Start\")\n",
    "bot_count_2.columns = ['Flow_Start', 'Count']\n",
    "fig = plt.figure(num=None, figsize=(20, 2))\n",
    "plt.plot(combined.index, combined.All_Packets)\n",
    "fig = plt.figure(num=None, figsize=(20, 2))\n",
    "\n",
    "plt.plot(combined.index, combined.Botnet_Packets)\n",
    "fig = plt.figure(num=None, figsize=(20, 2))\n",
    "bot_count_3 = bot_count_2\n",
    "bot_count_3 = bot_count_3.sort_values('Flow_Start').reset_index()\n",
    "plt.plot(bot_count_3.Flow_Start, bot_count_3.Count)"
   ]
  },
  {
   "cell_type": "code",
   "execution_count": 13,
   "metadata": {
    "ExecuteTime": {
     "end_time": "2020-04-30T23:05:17.515767Z",
     "start_time": "2020-04-30T23:03:08.891387Z"
    }
   },
   "outputs": [
    {
     "name": "stderr",
     "output_type": "stream",
     "text": [
      "C:\\ProgramData\\Anaconda3\\lib\\site-packages\\ipykernel_launcher.py:15: UserWarning: Pandas doesn't allow columns to be created via a new attribute name - see https://pandas.pydata.org/pandas-docs/stable/indexing.html#attribute-access\n",
      "  from ipykernel import kernelapp as app\n"
     ]
    },
    {
     "data": {
      "text/plain": [
       "[<matplotlib.lines.Line2D at 0x1b9d8833e10>]"
      ]
     },
     "execution_count": 13,
     "metadata": {},
     "output_type": "execute_result"
    },
    {
     "data": {
      "image/png": "[encoded data removed]",
      "text/plain": [
       "<Figure size 1440x144 with 1 Axes>"
      ]
     },
     "metadata": {
      "needs_background": "light"
     },
     "output_type": "display_data"
    },
    {
     "data": {
      "image/png": "[encoded data removed]",
      "text/plain": [
       "<Figure size 1440x144 with 1 Axes>"
      ]
     },
     "metadata": {
      "needs_background": "light"
     },
     "output_type": "display_data"
    },
    {
     "data": {
      "image/png": "[encoded data removed]",
      "text/plain": [
       "<Figure size 1440x144 with 1 Axes>"
      ]
     },
     "metadata": {
      "needs_background": "light"
     },
     "output_type": "display_data"
    }
   ],
   "source": [
    "#...and for a hundredth of a second\n",
    "flow_check = df[['Flow_Start', 'Label']]\n",
    "for index, row in flow_check.iterrows():\n",
    "    flow_check.at[index, 'Flow_Start'] = flow_check.at[index, 'Flow_Start'][:11]\n",
    "bot_traffic_1 = flow_check[flow_check.Label == \"Botnetnan\"]\n",
    "bot_traffic_2 = flow_check[flow_check.Label == \"BotnetFILTER_LEGITIMATE\"]\n",
    "bot_traffic = pd.concat([bot_traffic_1, bot_traffic_2])\n",
    "full_count = flow_check.groupby('Flow_Start').size()\n",
    "bot_count = bot_traffic.groupby('Flow_Start').size()\n",
    "bot_count = bot_count.reset_index(\"Flow_Start\")\n",
    "full_count = full_count.reset_index('Flow_Start')\n",
    "combined = pd.merge(bot_count, full_count, left_on='Flow_Start', right_on='Flow_Start')\n",
    "combined.columns=['Flow_Start', 'Botnet_Packets', 'All_Packets']\n",
    "combined.sort_values('Botnet_Packets')\n",
    "combined.Clean_Packets = combined.All_Packets - combined.Botnet_Packets\n",
    "bot_count_2 = bot_traffic_2.groupby('Flow_Start').size()\n",
    "bot_count_2 = bot_count_2.reset_index(\"Flow_Start\")\n",
    "bot_count_2.columns = ['Flow_Start', 'Count']\n",
    "fig = plt.figure(num=None, figsize=(20, 2))\n",
    "plt.plot(combined.index, combined.All_Packets)\n",
    "fig = plt.figure(num=None, figsize=(20, 2))\n",
    "plt.plot(combined.index, combined.Botnet_Packets)\n",
    "fig = plt.figure(num=None, figsize=(20, 2))\n",
    "bot_count_3 = bot_count_2\n",
    "bot_count_3 = bot_count_3.sort_values('Flow_Start').reset_index()\n",
    "plt.plot(bot_count_3.Flow_Start, bot_count_3.Count)"
   ]
  },
  {
   "cell_type": "markdown",
   "metadata": {},
   "source": [
    "<font size=5><font color='red'>3.\tOnce the final variable set is created, which of the following techniques most effectively classifies or aides in classifying botnet traffic?<br><br>\n",
    "<font size=4>h.\tBagging<br><br>\n",
    "i.\tK-Means Clustering<br><br>\n",
    "j.\tDensity-Based Spatial Clustering of Applications with Noise (DBSCAN)"
   ]
  },
  {
   "cell_type": "markdown",
   "metadata": {},
   "source": [
    "## K Means Clustering"
   ]
  },
  {
   "cell_type": "code",
   "execution_count": 14,
   "metadata": {
    "ExecuteTime": {
     "end_time": "2020-04-30T23:05:31.811026Z",
     "start_time": "2020-04-30T23:05:23.644418Z"
    }
   },
   "outputs": [
    {
     "data": {
      "text/html": [
       "<div>\n",
       "<style scoped>\n",
       "    .dataframe tbody tr th:only-of-type {\n",
       "        vertical-align: middle;\n",
       "    }\n",
       "\n",
       "    .dataframe tbody tr th {\n",
       "        vertical-align: top;\n",
       "    }\n",
       "\n",
       "    .dataframe thead th {\n",
       "        text-align: right;\n",
       "    }\n",
       "</style>\n",
       "<table border=\"1\" class=\"dataframe\">\n",
       "  <thead>\n",
       "    <tr style=\"text-align: right;\">\n",
       "      <th>class</th>\n",
       "      <th>0.0</th>\n",
       "      <th>1.0</th>\n",
       "    </tr>\n",
       "    <tr>\n",
       "      <th>labels</th>\n",
       "      <th></th>\n",
       "      <th></th>\n",
       "    </tr>\n",
       "  </thead>\n",
       "  <tbody>\n",
       "    <tr>\n",
       "      <th>0</th>\n",
       "      <td>21759</td>\n",
       "      <td>21760</td>\n",
       "    </tr>\n",
       "    <tr>\n",
       "      <th>1</th>\n",
       "      <td>1</td>\n",
       "      <td>0</td>\n",
       "    </tr>\n",
       "  </tbody>\n",
       "</table>\n",
       "</div>"
      ],
      "text/plain": [
       "class     0.0    1.0\n",
       "labels              \n",
       "0       21759  21760\n",
       "1           1      0"
      ]
     },
     "execution_count": 14,
     "metadata": {},
     "output_type": "execute_result"
    }
   ],
   "source": [
    "df=stage2\n",
    "\n",
    "from sklearn.cluster import KMeans\n",
    "kmeans = KMeans(n_clusters = 2).fit(df)\n",
    "labels=kmeans.fit_predict(df)\n",
    "kmeans =pd.DataFrame(kmeans.labels_)\n",
    "\n",
    "kmeans.columns = [\"KMeans\"]\n",
    "kmeans = kmeans['KMeans']\n",
    "df2=df.reset_index().drop('index', axis=1)\n",
    "for index, row in df2.iterrows():\n",
    "    df2.at[index, 'KMeans'] = kmeans[index]\n",
    "key = df2[['Label', 'KMeans']]\n",
    "cm = pd.DataFrame({'labels':labels, 'class':df2['Label']})\n",
    "pd.crosstab(cm['labels'], cm['class'])\n",
    "#50.00%"
   ]
  },
  {
   "cell_type": "markdown",
   "metadata": {},
   "source": [
    "## DBSCAN"
   ]
  },
  {
   "cell_type": "code",
   "execution_count": 15,
   "metadata": {
    "ExecuteTime": {
     "end_time": "2020-04-30T23:06:02.056184Z",
     "start_time": "2020-04-30T23:05:31.813005Z"
    },
    "scrolled": false
   },
   "outputs": [
    {
     "name": "stdout",
     "output_type": "stream",
     "text": [
      "DBSCAN  Label\n",
      "-1.0    0.0      21096\n",
      "        1.0      18575\n",
      " 0.0    0.0        664\n",
      "        1.0       3185\n",
      "dtype: int64\n"
     ]
    }
   ],
   "source": [
    "from sklearn.cluster import DBSCAN \n",
    "#clustering = DBSCAN(eps=3, min_samples=2).fit(df)\n",
    "dbs = DBSCAN(eps=2, min_samples=3500).fit(df)\n",
    "DB =pd.DataFrame(dbs.labels_)\n",
    "DB.columns = [\"DBSCAN\"]\n",
    "DB = DB['DBSCAN']\n",
    "df2=df.reset_index().drop('index', axis=1)\n",
    "for index, row in df2.iterrows():\n",
    "    df2.at[index, 'DBSCAN'] = DB[index]\n",
    "key = df2[['Label', 'DBSCAN']]\n",
    "print(df2.groupby([\"DBSCAN\", \"Label\"]).size())\n",
    "#55.79%"
   ]
  },
  {
   "cell_type": "markdown",
   "metadata": {},
   "source": [
    "## Bagging Classifier"
   ]
  },
  {
   "cell_type": "code",
   "execution_count": 16,
   "metadata": {
    "ExecuteTime": {
     "end_time": "2020-04-30T23:06:04.296230Z",
     "start_time": "2020-04-30T23:06:02.058185Z"
    }
   },
   "outputs": [
    {
     "name": "stdout",
     "output_type": "stream",
     "text": [
      "[[6532    2]\n",
      " [   7 6515]]\n",
      "0.9993106617647058\n"
     ]
    }
   ],
   "source": [
    "X = df.drop(['Label'], axis=1)\n",
    "#X = df.drop(['Label'], axis=1)\n",
    "y = df.Label\n",
    "X_train, X_test, y_train, y_test = train_test_split(X, y, test_size=.3,random_state=42)\n",
    "from sklearn.preprocessing import MinMaxScaler\n",
    "scaler_minmax = MinMaxScaler()\n",
    "scaler_minmax.fit(X_train)\n",
    "scaler_minmax.fit(X_test)\n",
    "\n",
    "from sklearn.metrics import confusion_matrix\n",
    "from sklearn.ensemble import BaggingClassifier\n",
    "clf = BaggingClassifier(n_estimators=10).fit(X_train, y_train)\n",
    "y_pred=clf.predict(X_test)\n",
    "cm = confusion_matrix(y_test, y_pred)\n",
    "print(cm)\n",
    "print(clf.score(X_test, y_test))\n"
   ]
  },
  {
   "cell_type": "markdown",
   "metadata": {},
   "source": [
    "# With City and Country Removed"
   ]
  },
  {
   "cell_type": "markdown",
   "metadata": {},
   "source": [
    "## K Means Clustering"
   ]
  },
  {
   "cell_type": "code",
   "execution_count": 17,
   "metadata": {
    "ExecuteTime": {
     "end_time": "2020-04-30T23:06:35.769616Z",
     "start_time": "2020-04-30T23:06:30.376060Z"
    }
   },
   "outputs": [
    {
     "data": {
      "text/html": [
       "<div>\n",
       "<style scoped>\n",
       "    .dataframe tbody tr th:only-of-type {\n",
       "        vertical-align: middle;\n",
       "    }\n",
       "\n",
       "    .dataframe tbody tr th {\n",
       "        vertical-align: top;\n",
       "    }\n",
       "\n",
       "    .dataframe thead th {\n",
       "        text-align: right;\n",
       "    }\n",
       "</style>\n",
       "<table border=\"1\" class=\"dataframe\">\n",
       "  <thead>\n",
       "    <tr style=\"text-align: right;\">\n",
       "      <th>class</th>\n",
       "      <th>0.0</th>\n",
       "      <th>1.0</th>\n",
       "    </tr>\n",
       "    <tr>\n",
       "      <th>labels</th>\n",
       "      <th></th>\n",
       "      <th></th>\n",
       "    </tr>\n",
       "  </thead>\n",
       "  <tbody>\n",
       "    <tr>\n",
       "      <th>0</th>\n",
       "      <td>21759</td>\n",
       "      <td>21760</td>\n",
       "    </tr>\n",
       "    <tr>\n",
       "      <th>1</th>\n",
       "      <td>1</td>\n",
       "      <td>0</td>\n",
       "    </tr>\n",
       "  </tbody>\n",
       "</table>\n",
       "</div>"
      ],
      "text/plain": [
       "class     0.0    1.0\n",
       "labels              \n",
       "0       21759  21760\n",
       "1           1      0"
      ]
     },
     "execution_count": 17,
     "metadata": {},
     "output_type": "execute_result"
    }
   ],
   "source": [
    "df=stage3\n",
    "\n",
    "kmeans = KMeans(n_clusters = 2).fit(df)\n",
    "labels=kmeans.fit_predict(df)\n",
    "kmeans =pd.DataFrame(kmeans.labels_)\n",
    "\n",
    "kmeans.columns = [\"KMeans\"]\n",
    "kmeans = kmeans['KMeans']\n",
    "df2=df.reset_index().drop('index', axis=1)\n",
    "for index, row in df2.iterrows():\n",
    "    df2.at[index, 'KMeans'] = kmeans[index]\n",
    "key = df2[['Label', 'KMeans']]\n",
    "cm = pd.DataFrame({'labels':labels, 'class':df2['Label']})\n",
    "pd.crosstab(cm['labels'], cm['class'])\n",
    "#50.00%"
   ]
  },
  {
   "cell_type": "markdown",
   "metadata": {},
   "source": [
    "## DBSCAN"
   ]
  },
  {
   "cell_type": "code",
   "execution_count": 18,
   "metadata": {
    "ExecuteTime": {
     "end_time": "2020-04-30T23:06:52.009214Z",
     "start_time": "2020-04-30T23:06:35.771625Z"
    }
   },
   "outputs": [
    {
     "name": "stdout",
     "output_type": "stream",
     "text": [
      "DBSCAN  Label\n",
      "-1.0    0.0      21065\n",
      "        1.0      18467\n",
      " 0.0    0.0        695\n",
      "        1.0       3293\n",
      "dtype: int64\n"
     ]
    }
   ],
   "source": [
    "dbs = DBSCAN(eps=2, min_samples=3500).fit(df)\n",
    "DB =pd.DataFrame(dbs.labels_)\n",
    "DB.columns = [\"DBSCAN\"]\n",
    "DB = DB['DBSCAN']\n",
    "df2=df.reset_index().drop('index', axis=1)\n",
    "for index, row in df2.iterrows():\n",
    "    df2.at[index, 'DBSCAN'] = DB[index]\n",
    "key = df2[['Label', 'DBSCAN']]\n",
    "print(df2.groupby([\"DBSCAN\", \"Label\"]).size())\n",
    "#55.97%"
   ]
  },
  {
   "cell_type": "markdown",
   "metadata": {},
   "source": [
    "## Bagging Classifier"
   ]
  },
  {
   "cell_type": "code",
   "execution_count": 24,
   "metadata": {
    "ExecuteTime": {
     "end_time": "2020-04-30T23:07:32.802213Z",
     "start_time": "2020-04-30T23:07:31.564521Z"
    }
   },
   "outputs": [
    {
     "name": "stdout",
     "output_type": "stream",
     "text": [
      "[[5912  622]\n",
      " [ 406 6116]]\n",
      "0.9212622549019608\n"
     ]
    }
   ],
   "source": [
    "#note that the confusion matrix here is with test size 3. The one in the slideshow from earlier with test size 2\n",
    "\n",
    "X = df.drop(['Label'], axis=1)\n",
    "\n",
    "y = df.Label\n",
    "X_train, X_test, y_train, y_test = train_test_split(X, y, test_size=.3,random_state=42)\n",
    "scaler_minmax = MinMaxScaler()\n",
    "scaler_minmax.fit(X_train)\n",
    "scaler_minmax.fit(X_test)\n",
    "\n",
    "from sklearn.metrics import confusion_matrix\n",
    "from sklearn.ensemble import BaggingClassifier\n",
    "clf = BaggingClassifier(n_estimators=10).fit(X_train, y_train) #this will produce slightly different results every time\n",
    "y_pred=clf.predict(X_test)\n",
    "cm = confusion_matrix(y_test, y_pred)\n",
    "print(cm)\n",
    "print(clf.score(X_test, y_test))"
   ]
  },
  {
   "cell_type": "code",
   "execution_count": null,
   "metadata": {},
   "outputs": [],
   "source": []
  }
 ],
 "metadata": {
  "hide_input": false,
  "kernelspec": {
   "display_name": "Python 3",
   "language": "python",
   "name": "python3"
  },
  "language_info": {
   "codemirror_mode": {
    "name": "ipython",
    "version": 3
   },
   "file_extension": ".py",
   "mimetype": "text/x-python",
   "name": "python",
   "nbconvert_exporter": "python",
   "pygments_lexer": "ipython3",
   "version": "3.7.4"
  },
  "toc": {
   "base_numbering": 1,
   "nav_menu": {},
   "number_sections": true,
   "sideBar": true,
   "skip_h1_title": false,
   "title_cell": "Table of Contents",
   "title_sidebar": "Contents",
   "toc_cell": false,
   "toc_position": {},
   "toc_section_display": true,
   "toc_window_display": false
  },
  "varInspector": {
   "cols": {
    "lenName": 16,
    "lenType": 16,
    "lenVar": 40
   },
   "kernels_config": {
    "python": {
     "delete_cmd_postfix": "",
     "delete_cmd_prefix": "del ",
     "library": "var_list.py",
     "varRefreshCmd": "print(var_dic_list())"
    },
    "r": {
     "delete_cmd_postfix": ") ",
     "delete_cmd_prefix": "rm(",
     "library": "var_list.r",
     "varRefreshCmd": "cat(var_dic_list()) "
    }
   },
   "types_to_exclude": [
    "module",
    "function",
    "builtin_function_or_method",
    "instance",
    "_Feature"
   ],
   "window_display": false
  }
 },
 "nbformat": 4,
 "nbformat_minor": 2
}
