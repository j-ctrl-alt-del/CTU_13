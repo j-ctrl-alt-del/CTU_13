{
 "cells": [
  {
   "cell_type": "markdown",
   "metadata": {},
   "source": [
    " <font size=6><b>DSC 522 Ghost Hunting: Finding a Botnet in Netflow Traffic<br>\n",
    "    <font size=4>Qs.2 c and Qs.3 c,d,k done by Emma Delehanty"
   ]
  },
  {
   "cell_type": "code",
   "execution_count": null,
   "metadata": {},
   "outputs": [],
   "source": [
    "# Please note!!!  The group had to expand the RAM available to Jupyter for this code to run. \n",
    "# We exapnded the RAM to 4GB and recommend you do the same.  Please see the answer to the below\n",
    "# stackoverflow page concerning expanding the amount of max_buffer_size. \n",
    "# https://stackoverflow.com/questions/57948003/how-to-increase-jupyter-notebook-memory-limit"
   ]
  },
  {
   "cell_type": "code",
   "execution_count": 1,
   "metadata": {
    "ExecuteTime": {
     "end_time": "2020-04-30T17:27:49.625874Z",
     "start_time": "2020-04-30T17:27:47.769314Z"
    }
   },
   "outputs": [],
   "source": [
    "#Importing packages\n",
    "import pandas as pd\n",
    "import warnings\n",
    "import seaborn as sns\n",
    "import matplotlib.pyplot as plt\n",
    "import numpy as np\n",
    "%matplotlib inline\n",
    "warnings.filterwarnings('ignore')"
   ]
  },
  {
   "cell_type": "code",
   "execution_count": 2,
   "metadata": {
    "ExecuteTime": {
     "end_time": "2020-04-30T17:27:55.979648Z",
     "start_time": "2020-04-30T17:27:49.626726Z"
    },
    "scrolled": true
   },
   "outputs": [],
   "source": [
    "#Reading df\n",
    "df = pd.read_csv(r'capture20110815-3.pcap.netflow_v2.txt', delim_whitespace=True)\n"
   ]
  },
  {
   "cell_type": "code",
   "execution_count": 3,
   "metadata": {
    "ExecuteTime": {
     "end_time": "2020-04-30T17:27:56.127255Z",
     "start_time": "2020-04-30T17:27:55.981643Z"
    }
   },
   "outputs": [],
   "source": [
    "#Dropping unneccesary columns\n",
    "df.drop(['Src','Bytes','Flows','Label','Labels','Flags'],axis=1,inplace = True)"
   ]
  },
  {
   "cell_type": "code",
   "execution_count": 4,
   "metadata": {
    "ExecuteTime": {
     "end_time": "2020-04-30T17:28:02.592386Z",
     "start_time": "2020-04-30T17:27:56.128252Z"
    }
   },
   "outputs": [],
   "source": [
    "#Splitting Prot and IP columns into their respective IPs and Ports\n",
    "df[['a','b']] = df.Prot.str.split(\":\",n=1,expand=True)\n",
    "df[['c','d']] = df.IP.str.split(\":\",n=1,expand=True)\n",
    "\n",
    "#Drop those columns to avaoid confusion after splitting\n",
    "df.drop(['Prot','IP'],axis=1,inplace = True)"
   ]
  },
  {
   "cell_type": "code",
   "execution_count": 5,
   "metadata": {
    "ExecuteTime": {
     "end_time": "2020-04-30T17:28:02.606350Z",
     "start_time": "2020-04-30T17:28:02.593385Z"
    }
   },
   "outputs": [],
   "source": [
    "#Renaming the columns using their proper names from the excel file\n",
    "df.rename(columns = {list(df)[1]:'Flow_Start',list(df)[2]:'Duration',list(df)[3]:'Protocol',list(df)[10]:'Source_IP',list(df)[11]:'Source_Port',\n",
    "                    list(df)[12]:'Destination_IP',list(df)[13]:'Destination_Port',list(df)[4]:'Flags',list(df)[5]:'Type_of_Service',\n",
    "                    list(df)[6]:'Packets',list(df)[7]:'Bytes',list(df)[8]:'Labels',list(df)[9]:'Additional_Label'}, inplace = True)"
   ]
  },
  {
   "cell_type": "code",
   "execution_count": 6,
   "metadata": {
    "ExecuteTime": {
     "end_time": "2020-04-30T17:28:02.893581Z",
     "start_time": "2020-04-30T17:28:02.607347Z"
    }
   },
   "outputs": [],
   "source": [
    "df.drop(['Date'],axis=1,inplace = True)"
   ]
  },
  {
   "cell_type": "code",
   "execution_count": 7,
   "metadata": {
    "ExecuteTime": {
     "end_time": "2020-04-30T17:28:03.334589Z",
     "start_time": "2020-04-30T17:28:02.895577Z"
    }
   },
   "outputs": [],
   "source": [
    "df['Label'] = df['Labels'].astype(str) + df['Additional_Label'].astype(str)"
   ]
  },
  {
   "cell_type": "code",
   "execution_count": 8,
   "metadata": {
    "ExecuteTime": {
     "end_time": "2020-04-30T17:28:04.157282Z",
     "start_time": "2020-04-30T17:28:03.337451Z"
    }
   },
   "outputs": [],
   "source": [
    "#Dropping unneccesary columns\n",
    "df.drop(['Labels','Additional_Label'],axis=1,inplace = True)"
   ]
  },
  {
   "cell_type": "code",
   "execution_count": 9,
   "metadata": {
    "ExecuteTime": {
     "end_time": "2020-04-30T17:28:05.122783Z",
     "start_time": "2020-04-30T17:28:04.160251Z"
    }
   },
   "outputs": [],
   "source": [
    "df['Label'] = df['Label'].str.replace(r'nan', '')"
   ]
  },
  {
   "cell_type": "markdown",
   "metadata": {},
   "source": [
    "<font size=5><font color='red'>Qs.2.c.\tSource IP / Destination IP – Do certain IPv4 octaves have an effect on botnet classification? What effect do internal/external, broadcast/other special IPs, etc. have on botnet classification?"
   ]
  },
  {
   "cell_type": "markdown",
   "metadata": {},
   "source": [
    "ipaddress — IPv4/IPv6 manipulation library\n",
    "https://docs.python.org/3/library/ipaddress.html"
   ]
  },
  {
   "cell_type": "markdown",
   "metadata": {},
   "source": [
    "### Checking Source IP (check ip if its legal or ipv4 or ipv6)"
   ]
  },
  {
   "cell_type": "code",
   "execution_count": 10,
   "metadata": {
    "ExecuteTime": {
     "end_time": "2020-04-30T17:28:05.132684Z",
     "start_time": "2020-04-30T17:28:05.124673Z"
    }
   },
   "outputs": [],
   "source": [
    "import ipaddress\n",
    "def checkip(ip):\n",
    "    try:\n",
    "        ip_class=ipaddress.ip_network(ip)\n",
    "        return ip_class.__class__.__name__\n",
    "    except:\n",
    "        return 'invalid'"
   ]
  },
  {
   "cell_type": "code",
   "execution_count": 11,
   "metadata": {
    "ExecuteTime": {
     "end_time": "2020-04-30T17:28:05.173543Z",
     "start_time": "2020-04-30T17:28:05.133649Z"
    },
    "scrolled": false
   },
   "outputs": [
    {
     "data": {
      "text/html": [
       "<div>\n",
       "<style scoped>\n",
       "    .dataframe tbody tr th:only-of-type {\n",
       "        vertical-align: middle;\n",
       "    }\n",
       "\n",
       "    .dataframe tbody tr th {\n",
       "        vertical-align: top;\n",
       "    }\n",
       "\n",
       "    .dataframe thead th {\n",
       "        text-align: right;\n",
       "    }\n",
       "</style>\n",
       "<table border=\"1\" class=\"dataframe\">\n",
       "  <thead>\n",
       "    <tr style=\"text-align: right;\">\n",
       "      <th></th>\n",
       "      <th>Source_IP</th>\n",
       "    </tr>\n",
       "  </thead>\n",
       "  <tbody>\n",
       "    <tr>\n",
       "      <th>0</th>\n",
       "      <td>90.177.154.197</td>\n",
       "    </tr>\n",
       "    <tr>\n",
       "      <th>1</th>\n",
       "      <td>147.32.84.144</td>\n",
       "    </tr>\n",
       "    <tr>\n",
       "      <th>2</th>\n",
       "      <td>198.36.38.132</td>\n",
       "    </tr>\n",
       "    <tr>\n",
       "      <th>3</th>\n",
       "      <td>41.103.64.21</td>\n",
       "    </tr>\n",
       "    <tr>\n",
       "      <th>4</th>\n",
       "      <td>147.32.86.183</td>\n",
       "    </tr>\n",
       "    <tr>\n",
       "      <th>...</th>\n",
       "      <td>...</td>\n",
       "    </tr>\n",
       "    <tr>\n",
       "      <th>1299085</th>\n",
       "      <td>147.32.84.2</td>\n",
       "    </tr>\n",
       "    <tr>\n",
       "      <th>1299086</th>\n",
       "      <td>147.32.84.165</td>\n",
       "    </tr>\n",
       "    <tr>\n",
       "      <th>1299087</th>\n",
       "      <td>147.32.84.171</td>\n",
       "    </tr>\n",
       "    <tr>\n",
       "      <th>1299088</th>\n",
       "      <td>95.211.93.1</td>\n",
       "    </tr>\n",
       "    <tr>\n",
       "      <th>1299089</th>\n",
       "      <td>147.32.84.229</td>\n",
       "    </tr>\n",
       "  </tbody>\n",
       "</table>\n",
       "<p>1299090 rows × 1 columns</p>\n",
       "</div>"
      ],
      "text/plain": [
       "              Source_IP\n",
       "0        90.177.154.197\n",
       "1         147.32.84.144\n",
       "2         198.36.38.132\n",
       "3          41.103.64.21\n",
       "4         147.32.86.183\n",
       "...                 ...\n",
       "1299085     147.32.84.2\n",
       "1299086   147.32.84.165\n",
       "1299087   147.32.84.171\n",
       "1299088     95.211.93.1\n",
       "1299089   147.32.84.229\n",
       "\n",
       "[1299090 rows x 1 columns]"
      ]
     },
     "execution_count": 11,
     "metadata": {},
     "output_type": "execute_result"
    }
   ],
   "source": [
    "source1 = df[['Source_IP']]\n",
    "source1"
   ]
  },
  {
   "cell_type": "code",
   "execution_count": 12,
   "metadata": {
    "ExecuteTime": {
     "end_time": "2020-04-30T17:28:05.374007Z",
     "start_time": "2020-04-30T17:28:05.174539Z"
    }
   },
   "outputs": [
    {
     "data": {
      "text/plain": [
       "94235"
      ]
     },
     "execution_count": 12,
     "metadata": {},
     "output_type": "execute_result"
    }
   ],
   "source": [
    "unique_ips = source1['Source_IP'].unique()\n",
    "unique_ips = pd.Series(unique_ips, index = unique_ips)\n",
    "unique_ips.nunique()"
   ]
  },
  {
   "cell_type": "code",
   "execution_count": 13,
   "metadata": {
    "ExecuteTime": {
     "end_time": "2020-04-30T17:28:06.443177Z",
     "start_time": "2020-04-30T17:28:05.375002Z"
    },
    "scrolled": true
   },
   "outputs": [
    {
     "data": {
      "text/html": [
       "<div>\n",
       "<style scoped>\n",
       "    .dataframe tbody tr th:only-of-type {\n",
       "        vertical-align: middle;\n",
       "    }\n",
       "\n",
       "    .dataframe tbody tr th {\n",
       "        vertical-align: top;\n",
       "    }\n",
       "\n",
       "    .dataframe thead th {\n",
       "        text-align: right;\n",
       "    }\n",
       "</style>\n",
       "<table border=\"1\" class=\"dataframe\">\n",
       "  <thead>\n",
       "    <tr style=\"text-align: right;\">\n",
       "      <th></th>\n",
       "      <th>Flow_Start</th>\n",
       "      <th>Duration</th>\n",
       "      <th>Protocol</th>\n",
       "      <th>Flags</th>\n",
       "      <th>Type_of_Service</th>\n",
       "      <th>Packets</th>\n",
       "      <th>Bytes</th>\n",
       "      <th>Source_IP</th>\n",
       "      <th>Source_Port</th>\n",
       "      <th>Destination_IP</th>\n",
       "      <th>Destination_Port</th>\n",
       "      <th>Label</th>\n",
       "      <th>Network_class</th>\n",
       "    </tr>\n",
       "  </thead>\n",
       "  <tbody>\n",
       "    <tr>\n",
       "      <th>0</th>\n",
       "      <td>17:13:40.449</td>\n",
       "      <td>4.230</td>\n",
       "      <td>TCP</td>\n",
       "      <td>PA_</td>\n",
       "      <td>0</td>\n",
       "      <td>180</td>\n",
       "      <td>12628</td>\n",
       "      <td>90.177.154.197</td>\n",
       "      <td>20127</td>\n",
       "      <td>147.32.84.144</td>\n",
       "      <td>22</td>\n",
       "      <td>Background</td>\n",
       "      <td>IPv4Network</td>\n",
       "    </tr>\n",
       "    <tr>\n",
       "      <th>1</th>\n",
       "      <td>17:13:40.449</td>\n",
       "      <td>4.204</td>\n",
       "      <td>TCP</td>\n",
       "      <td>PA_</td>\n",
       "      <td>0</td>\n",
       "      <td>329</td>\n",
       "      <td>478578</td>\n",
       "      <td>147.32.84.144</td>\n",
       "      <td>22</td>\n",
       "      <td>90.177.154.197</td>\n",
       "      <td>20127</td>\n",
       "      <td>Background</td>\n",
       "      <td>IPv4Network</td>\n",
       "    </tr>\n",
       "    <tr>\n",
       "      <th>2</th>\n",
       "      <td>17:13:40.453</td>\n",
       "      <td>4.985</td>\n",
       "      <td>TCP</td>\n",
       "      <td>PA_</td>\n",
       "      <td>0</td>\n",
       "      <td>94</td>\n",
       "      <td>6212</td>\n",
       "      <td>198.36.38.132</td>\n",
       "      <td>55530</td>\n",
       "      <td>147.32.86.183</td>\n",
       "      <td>443</td>\n",
       "      <td>Background</td>\n",
       "      <td>IPv4Network</td>\n",
       "    </tr>\n",
       "    <tr>\n",
       "      <th>3</th>\n",
       "      <td>17:13:40.456</td>\n",
       "      <td>4.975</td>\n",
       "      <td>UDP</td>\n",
       "      <td>INT</td>\n",
       "      <td>0</td>\n",
       "      <td>182</td>\n",
       "      <td>61555</td>\n",
       "      <td>41.103.64.21</td>\n",
       "      <td>54617</td>\n",
       "      <td>147.32.86.183</td>\n",
       "      <td>51246</td>\n",
       "      <td>Background</td>\n",
       "      <td>IPv4Network</td>\n",
       "    </tr>\n",
       "    <tr>\n",
       "      <th>4</th>\n",
       "      <td>17:13:40.456</td>\n",
       "      <td>4.975</td>\n",
       "      <td>TCP</td>\n",
       "      <td>PA_</td>\n",
       "      <td>0</td>\n",
       "      <td>185</td>\n",
       "      <td>66524</td>\n",
       "      <td>147.32.86.183</td>\n",
       "      <td>443</td>\n",
       "      <td>198.36.38.132</td>\n",
       "      <td>55530</td>\n",
       "      <td>Background</td>\n",
       "      <td>IPv4Network</td>\n",
       "    </tr>\n",
       "    <tr>\n",
       "      <th>...</th>\n",
       "      <td>...</td>\n",
       "      <td>...</td>\n",
       "      <td>...</td>\n",
       "      <td>...</td>\n",
       "      <td>...</td>\n",
       "      <td>...</td>\n",
       "      <td>...</td>\n",
       "      <td>...</td>\n",
       "      <td>...</td>\n",
       "      <td>...</td>\n",
       "      <td>...</td>\n",
       "      <td>...</td>\n",
       "      <td>...</td>\n",
       "    </tr>\n",
       "    <tr>\n",
       "      <th>1299085</th>\n",
       "      <td>19:17:33.765</td>\n",
       "      <td>0.134</td>\n",
       "      <td>TCP</td>\n",
       "      <td>SPA_</td>\n",
       "      <td>0</td>\n",
       "      <td>5</td>\n",
       "      <td>3841</td>\n",
       "      <td>147.32.84.2</td>\n",
       "      <td>80</td>\n",
       "      <td>66.194.55.249</td>\n",
       "      <td>43931</td>\n",
       "      <td>Background</td>\n",
       "      <td>IPv4Network</td>\n",
       "    </tr>\n",
       "    <tr>\n",
       "      <th>1299086</th>\n",
       "      <td>19:17:33.811</td>\n",
       "      <td>0.930</td>\n",
       "      <td>TCP</td>\n",
       "      <td>FPA_</td>\n",
       "      <td>0</td>\n",
       "      <td>63</td>\n",
       "      <td>85828</td>\n",
       "      <td>147.32.84.165</td>\n",
       "      <td>1386</td>\n",
       "      <td>212.117.171.138</td>\n",
       "      <td>65500</td>\n",
       "      <td>Botnet</td>\n",
       "      <td>IPv4Network</td>\n",
       "    </tr>\n",
       "    <tr>\n",
       "      <th>1299087</th>\n",
       "      <td>19:17:33.811</td>\n",
       "      <td>0.000</td>\n",
       "      <td>TCP</td>\n",
       "      <td>PA_</td>\n",
       "      <td>0</td>\n",
       "      <td>1</td>\n",
       "      <td>71</td>\n",
       "      <td>147.32.84.171</td>\n",
       "      <td>43352</td>\n",
       "      <td>95.211.93.1</td>\n",
       "      <td>30091</td>\n",
       "      <td>Background</td>\n",
       "      <td>IPv4Network</td>\n",
       "    </tr>\n",
       "    <tr>\n",
       "      <th>1299088</th>\n",
       "      <td>19:17:33.828</td>\n",
       "      <td>0.000</td>\n",
       "      <td>TCP</td>\n",
       "      <td>A_</td>\n",
       "      <td>0</td>\n",
       "      <td>1</td>\n",
       "      <td>66</td>\n",
       "      <td>95.211.93.1</td>\n",
       "      <td>30091</td>\n",
       "      <td>147.32.84.171</td>\n",
       "      <td>43352</td>\n",
       "      <td>Background</td>\n",
       "      <td>IPv4Network</td>\n",
       "    </tr>\n",
       "    <tr>\n",
       "      <th>1299089</th>\n",
       "      <td>19:17:33.828</td>\n",
       "      <td>1.999</td>\n",
       "      <td>UDP</td>\n",
       "      <td>INT</td>\n",
       "      <td>0</td>\n",
       "      <td>2</td>\n",
       "      <td>352</td>\n",
       "      <td>147.32.84.229</td>\n",
       "      <td>13363</td>\n",
       "      <td>114.39.240.193</td>\n",
       "      <td>65425</td>\n",
       "      <td>Background</td>\n",
       "      <td>IPv4Network</td>\n",
       "    </tr>\n",
       "  </tbody>\n",
       "</table>\n",
       "<p>1299090 rows × 13 columns</p>\n",
       "</div>"
      ],
      "text/plain": [
       "           Flow_Start  Duration Protocol Flags  Type_of_Service  Packets  \\\n",
       "0        17:13:40.449     4.230      TCP   PA_                0      180   \n",
       "1        17:13:40.449     4.204      TCP   PA_                0      329   \n",
       "2        17:13:40.453     4.985      TCP   PA_                0       94   \n",
       "3        17:13:40.456     4.975      UDP   INT                0      182   \n",
       "4        17:13:40.456     4.975      TCP   PA_                0      185   \n",
       "...               ...       ...      ...   ...              ...      ...   \n",
       "1299085  19:17:33.765     0.134      TCP  SPA_                0        5   \n",
       "1299086  19:17:33.811     0.930      TCP  FPA_                0       63   \n",
       "1299087  19:17:33.811     0.000      TCP   PA_                0        1   \n",
       "1299088  19:17:33.828     0.000      TCP    A_                0        1   \n",
       "1299089  19:17:33.828     1.999      UDP   INT                0        2   \n",
       "\n",
       "          Bytes       Source_IP Source_Port   Destination_IP Destination_Port  \\\n",
       "0         12628  90.177.154.197       20127    147.32.84.144               22   \n",
       "1        478578   147.32.84.144          22   90.177.154.197            20127   \n",
       "2          6212   198.36.38.132       55530    147.32.86.183              443   \n",
       "3         61555    41.103.64.21       54617    147.32.86.183            51246   \n",
       "4         66524   147.32.86.183         443    198.36.38.132            55530   \n",
       "...         ...             ...         ...              ...              ...   \n",
       "1299085    3841     147.32.84.2          80    66.194.55.249            43931   \n",
       "1299086   85828   147.32.84.165        1386  212.117.171.138            65500   \n",
       "1299087      71   147.32.84.171       43352      95.211.93.1            30091   \n",
       "1299088      66     95.211.93.1       30091    147.32.84.171            43352   \n",
       "1299089     352   147.32.84.229       13363   114.39.240.193            65425   \n",
       "\n",
       "              Label Network_class  \n",
       "0        Background   IPv4Network  \n",
       "1        Background   IPv4Network  \n",
       "2        Background   IPv4Network  \n",
       "3        Background   IPv4Network  \n",
       "4        Background   IPv4Network  \n",
       "...             ...           ...  \n",
       "1299085  Background   IPv4Network  \n",
       "1299086      Botnet   IPv4Network  \n",
       "1299087  Background   IPv4Network  \n",
       "1299088  Background   IPv4Network  \n",
       "1299089  Background   IPv4Network  \n",
       "\n",
       "[1299090 rows x 13 columns]"
      ]
     },
     "execution_count": 13,
     "metadata": {},
     "output_type": "execute_result"
    }
   ],
   "source": [
    "df['Network_class']=source1['Source_IP'].map(unique_ips.apply(checkip))\n",
    "df"
   ]
  },
  {
   "cell_type": "code",
   "execution_count": 14,
   "metadata": {
    "ExecuteTime": {
     "end_time": "2020-04-30T17:28:06.502989Z",
     "start_time": "2020-04-30T17:28:06.444145Z"
    }
   },
   "outputs": [
    {
     "data": {
      "text/plain": [
       "array(['IPv4Network', 'invalid'], dtype=object)"
      ]
     },
     "execution_count": 14,
     "metadata": {},
     "output_type": "execute_result"
    }
   ],
   "source": [
    "df['Network_class'].unique()"
   ]
  },
  {
   "cell_type": "code",
   "execution_count": 15,
   "metadata": {
    "ExecuteTime": {
     "end_time": "2020-04-30T17:28:07.083447Z",
     "start_time": "2020-04-30T17:28:06.504981Z"
    }
   },
   "outputs": [
    {
     "name": "stdout",
     "output_type": "stream",
     "text": [
      "Network_class\n",
      "IPv4Network    1298114\n",
      "invalid            976\n",
      "dtype: int64\n"
     ]
    }
   ],
   "source": [
    "print(df.groupby('Network_class').size())"
   ]
  },
  {
   "cell_type": "markdown",
   "metadata": {},
   "source": [
    "<font color='blue'><font size=3>Only about 976 invalid,filter out invalid IP,dataset has 1298114 IPv4Network"
   ]
  },
  {
   "cell_type": "code",
   "execution_count": 16,
   "metadata": {
    "ExecuteTime": {
     "end_time": "2020-04-30T17:28:07.456451Z",
     "start_time": "2020-04-30T17:28:07.085442Z"
    },
    "scrolled": true
   },
   "outputs": [
    {
     "data": {
      "text/html": [
       "<div>\n",
       "<style scoped>\n",
       "    .dataframe tbody tr th:only-of-type {\n",
       "        vertical-align: middle;\n",
       "    }\n",
       "\n",
       "    .dataframe tbody tr th {\n",
       "        vertical-align: top;\n",
       "    }\n",
       "\n",
       "    .dataframe thead th {\n",
       "        text-align: right;\n",
       "    }\n",
       "</style>\n",
       "<table border=\"1\" class=\"dataframe\">\n",
       "  <thead>\n",
       "    <tr style=\"text-align: right;\">\n",
       "      <th></th>\n",
       "      <th>Flow_Start</th>\n",
       "      <th>Duration</th>\n",
       "      <th>Protocol</th>\n",
       "      <th>Flags</th>\n",
       "      <th>Type_of_Service</th>\n",
       "      <th>Packets</th>\n",
       "      <th>Bytes</th>\n",
       "      <th>Source_IP</th>\n",
       "      <th>Source_Port</th>\n",
       "      <th>Destination_IP</th>\n",
       "      <th>Destination_Port</th>\n",
       "      <th>Label</th>\n",
       "      <th>Network_class</th>\n",
       "    </tr>\n",
       "  </thead>\n",
       "  <tbody>\n",
       "    <tr>\n",
       "      <th>0</th>\n",
       "      <td>17:13:40.449</td>\n",
       "      <td>4.230</td>\n",
       "      <td>TCP</td>\n",
       "      <td>PA_</td>\n",
       "      <td>0</td>\n",
       "      <td>180</td>\n",
       "      <td>12628</td>\n",
       "      <td>90.177.154.197</td>\n",
       "      <td>20127</td>\n",
       "      <td>147.32.84.144</td>\n",
       "      <td>22</td>\n",
       "      <td>Background</td>\n",
       "      <td>IPv4Network</td>\n",
       "    </tr>\n",
       "    <tr>\n",
       "      <th>1</th>\n",
       "      <td>17:13:40.449</td>\n",
       "      <td>4.204</td>\n",
       "      <td>TCP</td>\n",
       "      <td>PA_</td>\n",
       "      <td>0</td>\n",
       "      <td>329</td>\n",
       "      <td>478578</td>\n",
       "      <td>147.32.84.144</td>\n",
       "      <td>22</td>\n",
       "      <td>90.177.154.197</td>\n",
       "      <td>20127</td>\n",
       "      <td>Background</td>\n",
       "      <td>IPv4Network</td>\n",
       "    </tr>\n",
       "    <tr>\n",
       "      <th>2</th>\n",
       "      <td>17:13:40.453</td>\n",
       "      <td>4.985</td>\n",
       "      <td>TCP</td>\n",
       "      <td>PA_</td>\n",
       "      <td>0</td>\n",
       "      <td>94</td>\n",
       "      <td>6212</td>\n",
       "      <td>198.36.38.132</td>\n",
       "      <td>55530</td>\n",
       "      <td>147.32.86.183</td>\n",
       "      <td>443</td>\n",
       "      <td>Background</td>\n",
       "      <td>IPv4Network</td>\n",
       "    </tr>\n",
       "    <tr>\n",
       "      <th>3</th>\n",
       "      <td>17:13:40.456</td>\n",
       "      <td>4.975</td>\n",
       "      <td>UDP</td>\n",
       "      <td>INT</td>\n",
       "      <td>0</td>\n",
       "      <td>182</td>\n",
       "      <td>61555</td>\n",
       "      <td>41.103.64.21</td>\n",
       "      <td>54617</td>\n",
       "      <td>147.32.86.183</td>\n",
       "      <td>51246</td>\n",
       "      <td>Background</td>\n",
       "      <td>IPv4Network</td>\n",
       "    </tr>\n",
       "    <tr>\n",
       "      <th>4</th>\n",
       "      <td>17:13:40.456</td>\n",
       "      <td>4.975</td>\n",
       "      <td>TCP</td>\n",
       "      <td>PA_</td>\n",
       "      <td>0</td>\n",
       "      <td>185</td>\n",
       "      <td>66524</td>\n",
       "      <td>147.32.86.183</td>\n",
       "      <td>443</td>\n",
       "      <td>198.36.38.132</td>\n",
       "      <td>55530</td>\n",
       "      <td>Background</td>\n",
       "      <td>IPv4Network</td>\n",
       "    </tr>\n",
       "    <tr>\n",
       "      <th>...</th>\n",
       "      <td>...</td>\n",
       "      <td>...</td>\n",
       "      <td>...</td>\n",
       "      <td>...</td>\n",
       "      <td>...</td>\n",
       "      <td>...</td>\n",
       "      <td>...</td>\n",
       "      <td>...</td>\n",
       "      <td>...</td>\n",
       "      <td>...</td>\n",
       "      <td>...</td>\n",
       "      <td>...</td>\n",
       "      <td>...</td>\n",
       "    </tr>\n",
       "    <tr>\n",
       "      <th>1299085</th>\n",
       "      <td>19:17:33.765</td>\n",
       "      <td>0.134</td>\n",
       "      <td>TCP</td>\n",
       "      <td>SPA_</td>\n",
       "      <td>0</td>\n",
       "      <td>5</td>\n",
       "      <td>3841</td>\n",
       "      <td>147.32.84.2</td>\n",
       "      <td>80</td>\n",
       "      <td>66.194.55.249</td>\n",
       "      <td>43931</td>\n",
       "      <td>Background</td>\n",
       "      <td>IPv4Network</td>\n",
       "    </tr>\n",
       "    <tr>\n",
       "      <th>1299086</th>\n",
       "      <td>19:17:33.811</td>\n",
       "      <td>0.930</td>\n",
       "      <td>TCP</td>\n",
       "      <td>FPA_</td>\n",
       "      <td>0</td>\n",
       "      <td>63</td>\n",
       "      <td>85828</td>\n",
       "      <td>147.32.84.165</td>\n",
       "      <td>1386</td>\n",
       "      <td>212.117.171.138</td>\n",
       "      <td>65500</td>\n",
       "      <td>Botnet</td>\n",
       "      <td>IPv4Network</td>\n",
       "    </tr>\n",
       "    <tr>\n",
       "      <th>1299087</th>\n",
       "      <td>19:17:33.811</td>\n",
       "      <td>0.000</td>\n",
       "      <td>TCP</td>\n",
       "      <td>PA_</td>\n",
       "      <td>0</td>\n",
       "      <td>1</td>\n",
       "      <td>71</td>\n",
       "      <td>147.32.84.171</td>\n",
       "      <td>43352</td>\n",
       "      <td>95.211.93.1</td>\n",
       "      <td>30091</td>\n",
       "      <td>Background</td>\n",
       "      <td>IPv4Network</td>\n",
       "    </tr>\n",
       "    <tr>\n",
       "      <th>1299088</th>\n",
       "      <td>19:17:33.828</td>\n",
       "      <td>0.000</td>\n",
       "      <td>TCP</td>\n",
       "      <td>A_</td>\n",
       "      <td>0</td>\n",
       "      <td>1</td>\n",
       "      <td>66</td>\n",
       "      <td>95.211.93.1</td>\n",
       "      <td>30091</td>\n",
       "      <td>147.32.84.171</td>\n",
       "      <td>43352</td>\n",
       "      <td>Background</td>\n",
       "      <td>IPv4Network</td>\n",
       "    </tr>\n",
       "    <tr>\n",
       "      <th>1299089</th>\n",
       "      <td>19:17:33.828</td>\n",
       "      <td>1.999</td>\n",
       "      <td>UDP</td>\n",
       "      <td>INT</td>\n",
       "      <td>0</td>\n",
       "      <td>2</td>\n",
       "      <td>352</td>\n",
       "      <td>147.32.84.229</td>\n",
       "      <td>13363</td>\n",
       "      <td>114.39.240.193</td>\n",
       "      <td>65425</td>\n",
       "      <td>Background</td>\n",
       "      <td>IPv4Network</td>\n",
       "    </tr>\n",
       "  </tbody>\n",
       "</table>\n",
       "<p>1298114 rows × 13 columns</p>\n",
       "</div>"
      ],
      "text/plain": [
       "           Flow_Start  Duration Protocol Flags  Type_of_Service  Packets  \\\n",
       "0        17:13:40.449     4.230      TCP   PA_                0      180   \n",
       "1        17:13:40.449     4.204      TCP   PA_                0      329   \n",
       "2        17:13:40.453     4.985      TCP   PA_                0       94   \n",
       "3        17:13:40.456     4.975      UDP   INT                0      182   \n",
       "4        17:13:40.456     4.975      TCP   PA_                0      185   \n",
       "...               ...       ...      ...   ...              ...      ...   \n",
       "1299085  19:17:33.765     0.134      TCP  SPA_                0        5   \n",
       "1299086  19:17:33.811     0.930      TCP  FPA_                0       63   \n",
       "1299087  19:17:33.811     0.000      TCP   PA_                0        1   \n",
       "1299088  19:17:33.828     0.000      TCP    A_                0        1   \n",
       "1299089  19:17:33.828     1.999      UDP   INT                0        2   \n",
       "\n",
       "          Bytes       Source_IP Source_Port   Destination_IP Destination_Port  \\\n",
       "0         12628  90.177.154.197       20127    147.32.84.144               22   \n",
       "1        478578   147.32.84.144          22   90.177.154.197            20127   \n",
       "2          6212   198.36.38.132       55530    147.32.86.183              443   \n",
       "3         61555    41.103.64.21       54617    147.32.86.183            51246   \n",
       "4         66524   147.32.86.183         443    198.36.38.132            55530   \n",
       "...         ...             ...         ...              ...              ...   \n",
       "1299085    3841     147.32.84.2          80    66.194.55.249            43931   \n",
       "1299086   85828   147.32.84.165        1386  212.117.171.138            65500   \n",
       "1299087      71   147.32.84.171       43352      95.211.93.1            30091   \n",
       "1299088      66     95.211.93.1       30091    147.32.84.171            43352   \n",
       "1299089     352   147.32.84.229       13363   114.39.240.193            65425   \n",
       "\n",
       "              Label Network_class  \n",
       "0        Background   IPv4Network  \n",
       "1        Background   IPv4Network  \n",
       "2        Background   IPv4Network  \n",
       "3        Background   IPv4Network  \n",
       "4        Background   IPv4Network  \n",
       "...             ...           ...  \n",
       "1299085  Background   IPv4Network  \n",
       "1299086      Botnet   IPv4Network  \n",
       "1299087  Background   IPv4Network  \n",
       "1299088  Background   IPv4Network  \n",
       "1299089  Background   IPv4Network  \n",
       "\n",
       "[1298114 rows x 13 columns]"
      ]
     },
     "execution_count": 16,
     "metadata": {},
     "output_type": "execute_result"
    }
   ],
   "source": [
    "df=df[df.Network_class !='invalid']\n",
    "df"
   ]
  },
  {
   "cell_type": "code",
   "execution_count": 17,
   "metadata": {
    "ExecuteTime": {
     "end_time": "2020-04-30T17:28:07.463432Z",
     "start_time": "2020-04-30T17:28:07.458445Z"
    }
   },
   "outputs": [],
   "source": [
    "# chech IP if private\n",
    "from ipaddress import IPv4Address\n",
    "import ipaddress\n",
    "def check_private(ip):\n",
    "    try:\n",
    "        ip_private=IPv4Address(ip).is_private\n",
    "        return ip_private\n",
    "    except:\n",
    "        return 'invalid'"
   ]
  },
  {
   "cell_type": "code",
   "execution_count": 18,
   "metadata": {
    "ExecuteTime": {
     "end_time": "2020-04-30T17:28:09.349389Z",
     "start_time": "2020-04-30T17:28:07.465427Z"
    }
   },
   "outputs": [],
   "source": [
    "df['Network_type']=source1['Source_IP'].map(unique_ips.apply(check_private))"
   ]
  },
  {
   "cell_type": "code",
   "execution_count": 19,
   "metadata": {
    "ExecuteTime": {
     "end_time": "2020-04-30T17:28:09.389283Z",
     "start_time": "2020-04-30T17:28:09.350385Z"
    }
   },
   "outputs": [
    {
     "data": {
      "text/plain": [
       "array([False, True], dtype=object)"
      ]
     },
     "execution_count": 19,
     "metadata": {},
     "output_type": "execute_result"
    }
   ],
   "source": [
    "df['Network_type'].unique()"
   ]
  },
  {
   "cell_type": "code",
   "execution_count": 20,
   "metadata": {
    "ExecuteTime": {
     "end_time": "2020-04-30T17:28:09.964800Z",
     "start_time": "2020-04-30T17:28:09.391277Z"
    }
   },
   "outputs": [
    {
     "name": "stdout",
     "output_type": "stream",
     "text": [
      "Network_type\n",
      "False    1295939\n",
      "True        2175\n",
      "dtype: int64\n"
     ]
    }
   ],
   "source": [
    "print(df.groupby('Network_type').size())"
   ]
  },
  {
   "cell_type": "markdown",
   "metadata": {},
   "source": [
    "<font color='blue'><font size=3>2175 are private, rest are not private network "
   ]
  },
  {
   "cell_type": "code",
   "execution_count": 21,
   "metadata": {
    "ExecuteTime": {
     "end_time": "2020-04-30T17:28:11.836738Z",
     "start_time": "2020-04-30T17:28:09.965742Z"
    }
   },
   "outputs": [],
   "source": [
    "from ipaddress import IPv4Address\n",
    "import ipaddress\n",
    "def check_global(ip):\n",
    "    try:\n",
    "        ip_private=IPv4Address(ip).is_global\n",
    "        return ip_private\n",
    "    except:\n",
    "        return 'invalid'\n",
    "df['Network_global']=source1['Source_IP'].map(unique_ips.apply(check_global))"
   ]
  },
  {
   "cell_type": "code",
   "execution_count": 22,
   "metadata": {
    "ExecuteTime": {
     "end_time": "2020-04-30T17:28:11.881618Z",
     "start_time": "2020-04-30T17:28:11.837734Z"
    }
   },
   "outputs": [
    {
     "data": {
      "text/plain": [
       "array([True, False], dtype=object)"
      ]
     },
     "execution_count": 22,
     "metadata": {},
     "output_type": "execute_result"
    }
   ],
   "source": [
    "df['Network_global'].unique()"
   ]
  },
  {
   "cell_type": "code",
   "execution_count": 23,
   "metadata": {
    "ExecuteTime": {
     "end_time": "2020-04-30T17:28:12.535869Z",
     "start_time": "2020-04-30T17:28:11.885640Z"
    }
   },
   "outputs": [
    {
     "name": "stdout",
     "output_type": "stream",
     "text": [
      "Network_global\n",
      "False       2175\n",
      "True     1295939\n",
      "dtype: int64\n"
     ]
    }
   ],
   "source": [
    "print(df.groupby('Network_global').size())"
   ]
  },
  {
   "cell_type": "markdown",
   "metadata": {},
   "source": [
    "<font color='blue'><font size=3>1295939 are private, rest are not private network"
   ]
  },
  {
   "cell_type": "code",
   "execution_count": 24,
   "metadata": {
    "ExecuteTime": {
     "end_time": "2020-04-30T17:28:13.227019Z",
     "start_time": "2020-04-30T17:28:12.537863Z"
    }
   },
   "outputs": [],
   "source": [
    "from ipaddress import IPv4Address\n",
    "import ipaddress\n",
    "def check_multi(ip):\n",
    "    try:\n",
    "        ip_private=IPv4Address(ip).is_unspecified\n",
    "        return ip_private\n",
    "    except:\n",
    "        return 'invalid'\n",
    "df['Network_is_unspecified']=source1['Source_IP'].map(unique_ips.apply(check_multi))"
   ]
  },
  {
   "cell_type": "code",
   "execution_count": 25,
   "metadata": {
    "ExecuteTime": {
     "end_time": "2020-04-30T17:28:13.270902Z",
     "start_time": "2020-04-30T17:28:13.228017Z"
    }
   },
   "outputs": [
    {
     "data": {
      "text/plain": [
       "array([False, True], dtype=object)"
      ]
     },
     "execution_count": 25,
     "metadata": {},
     "output_type": "execute_result"
    }
   ],
   "source": [
    "df['Network_is_unspecified'].unique()"
   ]
  },
  {
   "cell_type": "code",
   "execution_count": 26,
   "metadata": {
    "ExecuteTime": {
     "end_time": "2020-04-30T17:28:13.911245Z",
     "start_time": "2020-04-30T17:28:13.271899Z"
    }
   },
   "outputs": [
    {
     "name": "stdout",
     "output_type": "stream",
     "text": [
      "Network_is_unspecified\n",
      "False    1297547\n",
      "True         567\n",
      "dtype: int64\n"
     ]
    }
   ],
   "source": [
    "print(df.groupby('Network_is_unspecified').size())"
   ]
  },
  {
   "cell_type": "markdown",
   "metadata": {},
   "source": [
    " <font color='blue'><font size=3>567 are unspecified, rest are not unspecified network"
   ]
  },
  {
   "cell_type": "code",
   "execution_count": 27,
   "metadata": {
    "ExecuteTime": {
     "end_time": "2020-04-30T17:28:14.618325Z",
     "start_time": "2020-04-30T17:28:13.912191Z"
    }
   },
   "outputs": [],
   "source": [
    "from ipaddress import IPv4Address\n",
    "import ipaddress\n",
    "def check_reserved(ip):\n",
    "    try:\n",
    "        ip_private=IPv4Address(ip).is_reserved\n",
    "        return ip_private\n",
    "    except:\n",
    "        return 'invalid'\n",
    "df['Network_is_reserved']=source1['Source_IP'].map(unique_ips.apply(check_reserved))"
   ]
  },
  {
   "cell_type": "code",
   "execution_count": 28,
   "metadata": {
    "ExecuteTime": {
     "end_time": "2020-04-30T17:28:14.661185Z",
     "start_time": "2020-04-30T17:28:14.619298Z"
    }
   },
   "outputs": [
    {
     "data": {
      "text/plain": [
       "array([False], dtype=object)"
      ]
     },
     "execution_count": 28,
     "metadata": {},
     "output_type": "execute_result"
    }
   ],
   "source": [
    "df['Network_is_reserved'].unique()"
   ]
  },
  {
   "cell_type": "code",
   "execution_count": 29,
   "metadata": {
    "ExecuteTime": {
     "end_time": "2020-04-30T17:28:15.335382Z",
     "start_time": "2020-04-30T17:28:14.663179Z"
    }
   },
   "outputs": [
    {
     "name": "stdout",
     "output_type": "stream",
     "text": [
      "Network_is_reserved\n",
      "False    1298114\n",
      "dtype: int64\n"
     ]
    }
   ],
   "source": [
    "print(df.groupby('Network_is_reserved').size())"
   ]
  },
  {
   "cell_type": "markdown",
   "metadata": {},
   "source": [
    "<font color='blue'><font size=3>All IP are not reserved"
   ]
  },
  {
   "cell_type": "markdown",
   "metadata": {},
   "source": [
    "### Checking Destination_IP"
   ]
  },
  {
   "cell_type": "code",
   "execution_count": 30,
   "metadata": {
    "ExecuteTime": {
     "end_time": "2020-04-30T17:28:15.375276Z",
     "start_time": "2020-04-30T17:28:15.337376Z"
    },
    "scrolled": false
   },
   "outputs": [
    {
     "data": {
      "text/html": [
       "<div>\n",
       "<style scoped>\n",
       "    .dataframe tbody tr th:only-of-type {\n",
       "        vertical-align: middle;\n",
       "    }\n",
       "\n",
       "    .dataframe tbody tr th {\n",
       "        vertical-align: top;\n",
       "    }\n",
       "\n",
       "    .dataframe thead th {\n",
       "        text-align: right;\n",
       "    }\n",
       "</style>\n",
       "<table border=\"1\" class=\"dataframe\">\n",
       "  <thead>\n",
       "    <tr style=\"text-align: right;\">\n",
       "      <th></th>\n",
       "      <th>Destination_IP</th>\n",
       "    </tr>\n",
       "  </thead>\n",
       "  <tbody>\n",
       "    <tr>\n",
       "      <th>0</th>\n",
       "      <td>147.32.84.144</td>\n",
       "    </tr>\n",
       "    <tr>\n",
       "      <th>1</th>\n",
       "      <td>90.177.154.197</td>\n",
       "    </tr>\n",
       "    <tr>\n",
       "      <th>2</th>\n",
       "      <td>147.32.86.183</td>\n",
       "    </tr>\n",
       "    <tr>\n",
       "      <th>3</th>\n",
       "      <td>147.32.86.183</td>\n",
       "    </tr>\n",
       "    <tr>\n",
       "      <th>4</th>\n",
       "      <td>198.36.38.132</td>\n",
       "    </tr>\n",
       "    <tr>\n",
       "      <th>...</th>\n",
       "      <td>...</td>\n",
       "    </tr>\n",
       "    <tr>\n",
       "      <th>1299085</th>\n",
       "      <td>66.194.55.249</td>\n",
       "    </tr>\n",
       "    <tr>\n",
       "      <th>1299086</th>\n",
       "      <td>212.117.171.138</td>\n",
       "    </tr>\n",
       "    <tr>\n",
       "      <th>1299087</th>\n",
       "      <td>95.211.93.1</td>\n",
       "    </tr>\n",
       "    <tr>\n",
       "      <th>1299088</th>\n",
       "      <td>147.32.84.171</td>\n",
       "    </tr>\n",
       "    <tr>\n",
       "      <th>1299089</th>\n",
       "      <td>114.39.240.193</td>\n",
       "    </tr>\n",
       "  </tbody>\n",
       "</table>\n",
       "<p>1298114 rows × 1 columns</p>\n",
       "</div>"
      ],
      "text/plain": [
       "          Destination_IP\n",
       "0          147.32.84.144\n",
       "1         90.177.154.197\n",
       "2          147.32.86.183\n",
       "3          147.32.86.183\n",
       "4          198.36.38.132\n",
       "...                  ...\n",
       "1299085    66.194.55.249\n",
       "1299086  212.117.171.138\n",
       "1299087      95.211.93.1\n",
       "1299088    147.32.84.171\n",
       "1299089   114.39.240.193\n",
       "\n",
       "[1298114 rows x 1 columns]"
      ]
     },
     "execution_count": 30,
     "metadata": {},
     "output_type": "execute_result"
    }
   ],
   "source": [
    "source2 = df[['Destination_IP']]\n",
    "source2"
   ]
  },
  {
   "cell_type": "code",
   "execution_count": 31,
   "metadata": {
    "ExecuteTime": {
     "end_time": "2020-04-30T17:28:15.603698Z",
     "start_time": "2020-04-30T17:28:15.377270Z"
    }
   },
   "outputs": [
    {
     "data": {
      "text/plain": [
       "97093"
      ]
     },
     "execution_count": 31,
     "metadata": {},
     "output_type": "execute_result"
    }
   ],
   "source": [
    "import ipaddress\n",
    "def checkip(ip):\n",
    "    try:\n",
    "        ip_class=ipaddress.ip_network(ip)\n",
    "        return ip_class.__class__.__name__\n",
    "    except:\n",
    "        return 'invalid'\n",
    "unique_ipss = source2['Destination_IP'].unique()\n",
    "unique_ipss = pd.Series(unique_ipss, index = unique_ipss)\n",
    "unique_ipss.nunique()"
   ]
  },
  {
   "cell_type": "code",
   "execution_count": 32,
   "metadata": {
    "ExecuteTime": {
     "end_time": "2020-04-30T17:28:16.631025Z",
     "start_time": "2020-04-30T17:28:15.604695Z"
    }
   },
   "outputs": [],
   "source": [
    "df['D_Network_class']=source2['Destination_IP'].map(unique_ipss.apply(checkip))"
   ]
  },
  {
   "cell_type": "code",
   "execution_count": 33,
   "metadata": {
    "ExecuteTime": {
     "end_time": "2020-04-30T17:28:17.360070Z",
     "start_time": "2020-04-30T17:28:16.632043Z"
    }
   },
   "outputs": [
    {
     "name": "stdout",
     "output_type": "stream",
     "text": [
      "D_Network_class\n",
      "IPv4Network    1298114\n",
      "dtype: int64\n"
     ]
    }
   ],
   "source": [
    "df['D_Network_class'].unique()\n",
    "print(df.groupby('D_Network_class').size())"
   ]
  },
  {
   "cell_type": "markdown",
   "metadata": {},
   "source": [
    "<font color='blue'><font size=3>All IP address in this dataset are IPv4Network"
   ]
  },
  {
   "cell_type": "code",
   "execution_count": 34,
   "metadata": {
    "ExecuteTime": {
     "end_time": "2020-04-30T17:28:19.428597Z",
     "start_time": "2020-04-30T17:28:17.361074Z"
    }
   },
   "outputs": [
    {
     "data": {
      "text/plain": [
       "array([False,  True])"
      ]
     },
     "execution_count": 34,
     "metadata": {},
     "output_type": "execute_result"
    }
   ],
   "source": [
    "from ipaddress import IPv4Address\n",
    "import ipaddress\n",
    "def check_private(ip):\n",
    "    try:\n",
    "        ip_private=IPv4Address(ip).is_private\n",
    "        return ip_private\n",
    "    except:\n",
    "        return 'invalid'\n",
    "df['D_Network_type']=source2['Destination_IP'].map(unique_ipss.apply(check_private))\n",
    "df['D_Network_type'].unique()"
   ]
  },
  {
   "cell_type": "code",
   "execution_count": 35,
   "metadata": {
    "ExecuteTime": {
     "end_time": "2020-04-30T17:28:19.810878Z",
     "start_time": "2020-04-30T17:28:19.429547Z"
    }
   },
   "outputs": [
    {
     "name": "stdout",
     "output_type": "stream",
     "text": [
      "Label\n",
      "Background                 1213890\n",
      "Botnet                       21112\n",
      "BotnetFILTER_LEGITIMATE        648\n",
      "LEGITIMATE                   59190\n",
      "dtype: int64\n"
     ]
    }
   ],
   "source": [
    "Only_type_false = df[df['D_Network_type']==False]\n",
    "print(Only_type_false.groupby('Label').size())"
   ]
  },
  {
   "cell_type": "code",
   "execution_count": 36,
   "metadata": {
    "ExecuteTime": {
     "end_time": "2020-04-30T17:28:19.826835Z",
     "start_time": "2020-04-30T17:28:19.811875Z"
    }
   },
   "outputs": [
    {
     "name": "stdout",
     "output_type": "stream",
     "text": [
      "Label\n",
      "Background    3274\n",
      "dtype: int64\n"
     ]
    }
   ],
   "source": [
    "Only_type_true = df[df['D_Network_type']==True]\n",
    "print(Only_type_true.groupby('Label').size())"
   ]
  },
  {
   "cell_type": "code",
   "execution_count": 37,
   "metadata": {
    "ExecuteTime": {
     "end_time": "2020-04-30T17:28:21.763714Z",
     "start_time": "2020-04-30T17:28:19.827832Z"
    }
   },
   "outputs": [
    {
     "data": {
      "text/plain": [
       "array([ True, False])"
      ]
     },
     "execution_count": 37,
     "metadata": {},
     "output_type": "execute_result"
    }
   ],
   "source": [
    "from ipaddress import IPv4Address\n",
    "import ipaddress\n",
    "def check_global(ip):\n",
    "    try:\n",
    "        ip_private=IPv4Address(ip).is_global\n",
    "        return ip_private\n",
    "    except:\n",
    "        return 'invalid'\n",
    "df['D_Network_global']=source2['Destination_IP'].map(unique_ipss.apply(check_global))\n",
    "df['D_Network_global'].unique()"
   ]
  },
  {
   "cell_type": "code",
   "execution_count": 38,
   "metadata": {
    "ExecuteTime": {
     "end_time": "2020-04-30T17:28:21.802618Z",
     "start_time": "2020-04-30T17:28:21.764717Z"
    }
   },
   "outputs": [
    {
     "name": "stdout",
     "output_type": "stream",
     "text": [
      "D_Network_global\n",
      "False       3274\n",
      "True     1294840\n",
      "dtype: int64\n"
     ]
    }
   ],
   "source": [
    "print(df.groupby('D_Network_global').size())"
   ]
  },
  {
   "cell_type": "code",
   "execution_count": 39,
   "metadata": {
    "ExecuteTime": {
     "end_time": "2020-04-30T17:28:22.202549Z",
     "start_time": "2020-04-30T17:28:21.803615Z"
    }
   },
   "outputs": [
    {
     "name": "stdout",
     "output_type": "stream",
     "text": [
      "Label\n",
      "Background                 1213890\n",
      "Botnet                       21112\n",
      "BotnetFILTER_LEGITIMATE        648\n",
      "LEGITIMATE                   59190\n",
      "dtype: int64\n"
     ]
    }
   ],
   "source": [
    "Only_global_true = df[df['D_Network_global']==True]\n",
    "print(Only_global_true.groupby('Label').size())"
   ]
  },
  {
   "cell_type": "code",
   "execution_count": 40,
   "metadata": {
    "ExecuteTime": {
     "end_time": "2020-04-30T17:28:22.218506Z",
     "start_time": "2020-04-30T17:28:22.203546Z"
    }
   },
   "outputs": [
    {
     "name": "stdout",
     "output_type": "stream",
     "text": [
      "Label\n",
      "Background    3274\n",
      "dtype: int64\n"
     ]
    }
   ],
   "source": [
    "Only_global_flase = df[df['D_Network_global']==False]\n",
    "print(Only_global_flase.groupby('Label').size())"
   ]
  },
  {
   "cell_type": "code",
   "execution_count": 41,
   "metadata": {
    "ExecuteTime": {
     "end_time": "2020-04-30T17:28:22.953573Z",
     "start_time": "2020-04-30T17:28:22.219503Z"
    }
   },
   "outputs": [
    {
     "data": {
      "text/plain": [
       "array([False])"
      ]
     },
     "execution_count": 41,
     "metadata": {},
     "output_type": "execute_result"
    }
   ],
   "source": [
    "from ipaddress import IPv4Address\n",
    "import ipaddress\n",
    "def check_multi(ip):\n",
    "    try:\n",
    "        ip_private=IPv4Address(ip).is_unspecified\n",
    "        return ip_private\n",
    "    except:\n",
    "        return 'invalid'\n",
    "df['D_Network_is_unspecified']=source2['Destination_IP'].map(unique_ipss.apply(check_multi))\n",
    "df['D_Network_is_unspecified'].unique()"
   ]
  },
  {
   "cell_type": "code",
   "execution_count": 42,
   "metadata": {
    "ExecuteTime": {
     "end_time": "2020-04-30T17:28:22.996426Z",
     "start_time": "2020-04-30T17:28:22.954539Z"
    }
   },
   "outputs": [
    {
     "name": "stdout",
     "output_type": "stream",
     "text": [
      "D_Network_is_unspecified\n",
      "False    1298114\n",
      "dtype: int64\n"
     ]
    }
   ],
   "source": [
    "print(df.groupby('D_Network_is_unspecified').size())"
   ]
  },
  {
   "cell_type": "code",
   "execution_count": 43,
   "metadata": {
    "ExecuteTime": {
     "end_time": "2020-04-30T17:28:23.809284Z",
     "start_time": "2020-04-30T17:28:22.997437Z"
    }
   },
   "outputs": [
    {
     "data": {
      "text/plain": [
       "array([False,  True])"
      ]
     },
     "execution_count": 43,
     "metadata": {},
     "output_type": "execute_result"
    }
   ],
   "source": [
    "from ipaddress import IPv4Address\n",
    "import ipaddress\n",
    "def check_reserved(ip):\n",
    "    try:\n",
    "        ip_private=IPv4Address(ip).is_reserved\n",
    "        return ip_private\n",
    "    except:\n",
    "        return 'invalid'\n",
    "df['D_Network_is_reserved']=source2['Destination_IP'].map(unique_ipss.apply(check_reserved))\n",
    "df['D_Network_is_reserved'].unique()"
   ]
  },
  {
   "cell_type": "code",
   "execution_count": 44,
   "metadata": {
    "ExecuteTime": {
     "end_time": "2020-04-30T17:28:23.860116Z",
     "start_time": "2020-04-30T17:28:23.810250Z"
    }
   },
   "outputs": [
    {
     "name": "stdout",
     "output_type": "stream",
     "text": [
      "D_Network_is_reserved\n",
      "False    1297483\n",
      "True         631\n",
      "dtype: int64\n"
     ]
    }
   ],
   "source": [
    "print(df.groupby('D_Network_is_reserved').size())"
   ]
  },
  {
   "cell_type": "markdown",
   "metadata": {},
   "source": [
    "### check the ip which class  - class A ,class B"
   ]
  },
  {
   "cell_type": "code",
   "execution_count": 45,
   "metadata": {
    "ExecuteTime": {
     "end_time": "2020-04-30T17:28:23.867098Z",
     "start_time": "2020-04-30T17:28:23.862112Z"
    }
   },
   "outputs": [],
   "source": [
    "# get class A Destination_IP\n",
    "from ipaddress import IPv4Address, IPv4Network\n",
    "import ipaddress\n",
    "def check(unique_ipss):\n",
    "    try:\n",
    "        classA = IPv4Network((\"10.0.0.0\", \"255.0.0.0\"))  # or IPv4Network(\"10.0.0.0/8\")\n",
    "        unique_ipss in classA\n",
    "        return 'True'\n",
    "    except:\n",
    "        return 'False'"
   ]
  },
  {
   "cell_type": "code",
   "execution_count": 46,
   "metadata": {
    "ExecuteTime": {
     "end_time": "2020-04-30T17:28:26.384411Z",
     "start_time": "2020-04-30T17:28:23.869092Z"
    },
    "scrolled": true
   },
   "outputs": [
    {
     "data": {
      "text/html": [
       "<div>\n",
       "<style scoped>\n",
       "    .dataframe tbody tr th:only-of-type {\n",
       "        vertical-align: middle;\n",
       "    }\n",
       "\n",
       "    .dataframe tbody tr th {\n",
       "        vertical-align: top;\n",
       "    }\n",
       "\n",
       "    .dataframe thead th {\n",
       "        text-align: right;\n",
       "    }\n",
       "</style>\n",
       "<table border=\"1\" class=\"dataframe\">\n",
       "  <thead>\n",
       "    <tr style=\"text-align: right;\">\n",
       "      <th></th>\n",
       "      <th>Flow_Start</th>\n",
       "      <th>Duration</th>\n",
       "      <th>Protocol</th>\n",
       "      <th>Flags</th>\n",
       "      <th>Type_of_Service</th>\n",
       "      <th>Packets</th>\n",
       "      <th>Bytes</th>\n",
       "      <th>Source_IP</th>\n",
       "      <th>Source_Port</th>\n",
       "      <th>Destination_IP</th>\n",
       "      <th>...</th>\n",
       "      <th>Network_type</th>\n",
       "      <th>Network_global</th>\n",
       "      <th>Network_is_unspecified</th>\n",
       "      <th>Network_is_reserved</th>\n",
       "      <th>D_Network_class</th>\n",
       "      <th>D_Network_type</th>\n",
       "      <th>D_Network_global</th>\n",
       "      <th>D_Network_is_unspecified</th>\n",
       "      <th>D_Network_is_reserved</th>\n",
       "      <th>D_class_A</th>\n",
       "    </tr>\n",
       "  </thead>\n",
       "  <tbody>\n",
       "    <tr>\n",
       "      <th>0</th>\n",
       "      <td>17:13:40.449</td>\n",
       "      <td>4.230</td>\n",
       "      <td>TCP</td>\n",
       "      <td>PA_</td>\n",
       "      <td>0</td>\n",
       "      <td>180</td>\n",
       "      <td>12628</td>\n",
       "      <td>90.177.154.197</td>\n",
       "      <td>20127</td>\n",
       "      <td>147.32.84.144</td>\n",
       "      <td>...</td>\n",
       "      <td>False</td>\n",
       "      <td>True</td>\n",
       "      <td>False</td>\n",
       "      <td>False</td>\n",
       "      <td>IPv4Network</td>\n",
       "      <td>False</td>\n",
       "      <td>True</td>\n",
       "      <td>False</td>\n",
       "      <td>False</td>\n",
       "      <td>False</td>\n",
       "    </tr>\n",
       "    <tr>\n",
       "      <th>1</th>\n",
       "      <td>17:13:40.449</td>\n",
       "      <td>4.204</td>\n",
       "      <td>TCP</td>\n",
       "      <td>PA_</td>\n",
       "      <td>0</td>\n",
       "      <td>329</td>\n",
       "      <td>478578</td>\n",
       "      <td>147.32.84.144</td>\n",
       "      <td>22</td>\n",
       "      <td>90.177.154.197</td>\n",
       "      <td>...</td>\n",
       "      <td>False</td>\n",
       "      <td>True</td>\n",
       "      <td>False</td>\n",
       "      <td>False</td>\n",
       "      <td>IPv4Network</td>\n",
       "      <td>False</td>\n",
       "      <td>True</td>\n",
       "      <td>False</td>\n",
       "      <td>False</td>\n",
       "      <td>False</td>\n",
       "    </tr>\n",
       "    <tr>\n",
       "      <th>2</th>\n",
       "      <td>17:13:40.453</td>\n",
       "      <td>4.985</td>\n",
       "      <td>TCP</td>\n",
       "      <td>PA_</td>\n",
       "      <td>0</td>\n",
       "      <td>94</td>\n",
       "      <td>6212</td>\n",
       "      <td>198.36.38.132</td>\n",
       "      <td>55530</td>\n",
       "      <td>147.32.86.183</td>\n",
       "      <td>...</td>\n",
       "      <td>False</td>\n",
       "      <td>True</td>\n",
       "      <td>False</td>\n",
       "      <td>False</td>\n",
       "      <td>IPv4Network</td>\n",
       "      <td>False</td>\n",
       "      <td>True</td>\n",
       "      <td>False</td>\n",
       "      <td>False</td>\n",
       "      <td>False</td>\n",
       "    </tr>\n",
       "    <tr>\n",
       "      <th>3</th>\n",
       "      <td>17:13:40.456</td>\n",
       "      <td>4.975</td>\n",
       "      <td>UDP</td>\n",
       "      <td>INT</td>\n",
       "      <td>0</td>\n",
       "      <td>182</td>\n",
       "      <td>61555</td>\n",
       "      <td>41.103.64.21</td>\n",
       "      <td>54617</td>\n",
       "      <td>147.32.86.183</td>\n",
       "      <td>...</td>\n",
       "      <td>False</td>\n",
       "      <td>True</td>\n",
       "      <td>False</td>\n",
       "      <td>False</td>\n",
       "      <td>IPv4Network</td>\n",
       "      <td>False</td>\n",
       "      <td>True</td>\n",
       "      <td>False</td>\n",
       "      <td>False</td>\n",
       "      <td>False</td>\n",
       "    </tr>\n",
       "    <tr>\n",
       "      <th>4</th>\n",
       "      <td>17:13:40.456</td>\n",
       "      <td>4.975</td>\n",
       "      <td>TCP</td>\n",
       "      <td>PA_</td>\n",
       "      <td>0</td>\n",
       "      <td>185</td>\n",
       "      <td>66524</td>\n",
       "      <td>147.32.86.183</td>\n",
       "      <td>443</td>\n",
       "      <td>198.36.38.132</td>\n",
       "      <td>...</td>\n",
       "      <td>False</td>\n",
       "      <td>True</td>\n",
       "      <td>False</td>\n",
       "      <td>False</td>\n",
       "      <td>IPv4Network</td>\n",
       "      <td>False</td>\n",
       "      <td>True</td>\n",
       "      <td>False</td>\n",
       "      <td>False</td>\n",
       "      <td>False</td>\n",
       "    </tr>\n",
       "    <tr>\n",
       "      <th>...</th>\n",
       "      <td>...</td>\n",
       "      <td>...</td>\n",
       "      <td>...</td>\n",
       "      <td>...</td>\n",
       "      <td>...</td>\n",
       "      <td>...</td>\n",
       "      <td>...</td>\n",
       "      <td>...</td>\n",
       "      <td>...</td>\n",
       "      <td>...</td>\n",
       "      <td>...</td>\n",
       "      <td>...</td>\n",
       "      <td>...</td>\n",
       "      <td>...</td>\n",
       "      <td>...</td>\n",
       "      <td>...</td>\n",
       "      <td>...</td>\n",
       "      <td>...</td>\n",
       "      <td>...</td>\n",
       "      <td>...</td>\n",
       "      <td>...</td>\n",
       "    </tr>\n",
       "    <tr>\n",
       "      <th>1299085</th>\n",
       "      <td>19:17:33.765</td>\n",
       "      <td>0.134</td>\n",
       "      <td>TCP</td>\n",
       "      <td>SPA_</td>\n",
       "      <td>0</td>\n",
       "      <td>5</td>\n",
       "      <td>3841</td>\n",
       "      <td>147.32.84.2</td>\n",
       "      <td>80</td>\n",
       "      <td>66.194.55.249</td>\n",
       "      <td>...</td>\n",
       "      <td>False</td>\n",
       "      <td>True</td>\n",
       "      <td>False</td>\n",
       "      <td>False</td>\n",
       "      <td>IPv4Network</td>\n",
       "      <td>False</td>\n",
       "      <td>True</td>\n",
       "      <td>False</td>\n",
       "      <td>False</td>\n",
       "      <td>False</td>\n",
       "    </tr>\n",
       "    <tr>\n",
       "      <th>1299086</th>\n",
       "      <td>19:17:33.811</td>\n",
       "      <td>0.930</td>\n",
       "      <td>TCP</td>\n",
       "      <td>FPA_</td>\n",
       "      <td>0</td>\n",
       "      <td>63</td>\n",
       "      <td>85828</td>\n",
       "      <td>147.32.84.165</td>\n",
       "      <td>1386</td>\n",
       "      <td>212.117.171.138</td>\n",
       "      <td>...</td>\n",
       "      <td>False</td>\n",
       "      <td>True</td>\n",
       "      <td>False</td>\n",
       "      <td>False</td>\n",
       "      <td>IPv4Network</td>\n",
       "      <td>False</td>\n",
       "      <td>True</td>\n",
       "      <td>False</td>\n",
       "      <td>False</td>\n",
       "      <td>False</td>\n",
       "    </tr>\n",
       "    <tr>\n",
       "      <th>1299087</th>\n",
       "      <td>19:17:33.811</td>\n",
       "      <td>0.000</td>\n",
       "      <td>TCP</td>\n",
       "      <td>PA_</td>\n",
       "      <td>0</td>\n",
       "      <td>1</td>\n",
       "      <td>71</td>\n",
       "      <td>147.32.84.171</td>\n",
       "      <td>43352</td>\n",
       "      <td>95.211.93.1</td>\n",
       "      <td>...</td>\n",
       "      <td>False</td>\n",
       "      <td>True</td>\n",
       "      <td>False</td>\n",
       "      <td>False</td>\n",
       "      <td>IPv4Network</td>\n",
       "      <td>False</td>\n",
       "      <td>True</td>\n",
       "      <td>False</td>\n",
       "      <td>False</td>\n",
       "      <td>False</td>\n",
       "    </tr>\n",
       "    <tr>\n",
       "      <th>1299088</th>\n",
       "      <td>19:17:33.828</td>\n",
       "      <td>0.000</td>\n",
       "      <td>TCP</td>\n",
       "      <td>A_</td>\n",
       "      <td>0</td>\n",
       "      <td>1</td>\n",
       "      <td>66</td>\n",
       "      <td>95.211.93.1</td>\n",
       "      <td>30091</td>\n",
       "      <td>147.32.84.171</td>\n",
       "      <td>...</td>\n",
       "      <td>False</td>\n",
       "      <td>True</td>\n",
       "      <td>False</td>\n",
       "      <td>False</td>\n",
       "      <td>IPv4Network</td>\n",
       "      <td>False</td>\n",
       "      <td>True</td>\n",
       "      <td>False</td>\n",
       "      <td>False</td>\n",
       "      <td>False</td>\n",
       "    </tr>\n",
       "    <tr>\n",
       "      <th>1299089</th>\n",
       "      <td>19:17:33.828</td>\n",
       "      <td>1.999</td>\n",
       "      <td>UDP</td>\n",
       "      <td>INT</td>\n",
       "      <td>0</td>\n",
       "      <td>2</td>\n",
       "      <td>352</td>\n",
       "      <td>147.32.84.229</td>\n",
       "      <td>13363</td>\n",
       "      <td>114.39.240.193</td>\n",
       "      <td>...</td>\n",
       "      <td>False</td>\n",
       "      <td>True</td>\n",
       "      <td>False</td>\n",
       "      <td>False</td>\n",
       "      <td>IPv4Network</td>\n",
       "      <td>False</td>\n",
       "      <td>True</td>\n",
       "      <td>False</td>\n",
       "      <td>False</td>\n",
       "      <td>False</td>\n",
       "    </tr>\n",
       "  </tbody>\n",
       "</table>\n",
       "<p>1298114 rows × 23 columns</p>\n",
       "</div>"
      ],
      "text/plain": [
       "           Flow_Start  Duration Protocol Flags  Type_of_Service  Packets  \\\n",
       "0        17:13:40.449     4.230      TCP   PA_                0      180   \n",
       "1        17:13:40.449     4.204      TCP   PA_                0      329   \n",
       "2        17:13:40.453     4.985      TCP   PA_                0       94   \n",
       "3        17:13:40.456     4.975      UDP   INT                0      182   \n",
       "4        17:13:40.456     4.975      TCP   PA_                0      185   \n",
       "...               ...       ...      ...   ...              ...      ...   \n",
       "1299085  19:17:33.765     0.134      TCP  SPA_                0        5   \n",
       "1299086  19:17:33.811     0.930      TCP  FPA_                0       63   \n",
       "1299087  19:17:33.811     0.000      TCP   PA_                0        1   \n",
       "1299088  19:17:33.828     0.000      TCP    A_                0        1   \n",
       "1299089  19:17:33.828     1.999      UDP   INT                0        2   \n",
       "\n",
       "          Bytes       Source_IP Source_Port   Destination_IP  ...  \\\n",
       "0         12628  90.177.154.197       20127    147.32.84.144  ...   \n",
       "1        478578   147.32.84.144          22   90.177.154.197  ...   \n",
       "2          6212   198.36.38.132       55530    147.32.86.183  ...   \n",
       "3         61555    41.103.64.21       54617    147.32.86.183  ...   \n",
       "4         66524   147.32.86.183         443    198.36.38.132  ...   \n",
       "...         ...             ...         ...              ...  ...   \n",
       "1299085    3841     147.32.84.2          80    66.194.55.249  ...   \n",
       "1299086   85828   147.32.84.165        1386  212.117.171.138  ...   \n",
       "1299087      71   147.32.84.171       43352      95.211.93.1  ...   \n",
       "1299088      66     95.211.93.1       30091    147.32.84.171  ...   \n",
       "1299089     352   147.32.84.229       13363   114.39.240.193  ...   \n",
       "\n",
       "        Network_type Network_global Network_is_unspecified  \\\n",
       "0              False           True                  False   \n",
       "1              False           True                  False   \n",
       "2              False           True                  False   \n",
       "3              False           True                  False   \n",
       "4              False           True                  False   \n",
       "...              ...            ...                    ...   \n",
       "1299085        False           True                  False   \n",
       "1299086        False           True                  False   \n",
       "1299087        False           True                  False   \n",
       "1299088        False           True                  False   \n",
       "1299089        False           True                  False   \n",
       "\n",
       "        Network_is_reserved D_Network_class D_Network_type D_Network_global  \\\n",
       "0                     False     IPv4Network          False             True   \n",
       "1                     False     IPv4Network          False             True   \n",
       "2                     False     IPv4Network          False             True   \n",
       "3                     False     IPv4Network          False             True   \n",
       "4                     False     IPv4Network          False             True   \n",
       "...                     ...             ...            ...              ...   \n",
       "1299085               False     IPv4Network          False             True   \n",
       "1299086               False     IPv4Network          False             True   \n",
       "1299087               False     IPv4Network          False             True   \n",
       "1299088               False     IPv4Network          False             True   \n",
       "1299089               False     IPv4Network          False             True   \n",
       "\n",
       "        D_Network_is_unspecified  D_Network_is_reserved  D_class_A  \n",
       "0                          False                  False      False  \n",
       "1                          False                  False      False  \n",
       "2                          False                  False      False  \n",
       "3                          False                  False      False  \n",
       "4                          False                  False      False  \n",
       "...                          ...                    ...        ...  \n",
       "1299085                    False                  False      False  \n",
       "1299086                    False                  False      False  \n",
       "1299087                    False                  False      False  \n",
       "1299088                    False                  False      False  \n",
       "1299089                    False                  False      False  \n",
       "\n",
       "[1298114 rows x 23 columns]"
      ]
     },
     "execution_count": 46,
     "metadata": {},
     "output_type": "execute_result"
    }
   ],
   "source": [
    "df['D_class_A']=source2['Destination_IP'].map(unique_ipss.apply(check))\n",
    "df"
   ]
  },
  {
   "cell_type": "code",
   "execution_count": 47,
   "metadata": {
    "ExecuteTime": {
     "end_time": "2020-04-30T17:28:27.048592Z",
     "start_time": "2020-04-30T17:28:26.385398Z"
    }
   },
   "outputs": [
    {
     "name": "stdout",
     "output_type": "stream",
     "text": [
      "D_class_A\n",
      "False    1298114\n",
      "dtype: int64\n"
     ]
    }
   ],
   "source": [
    "print(df.groupby('D_class_A').size())"
   ]
  },
  {
   "cell_type": "code",
   "execution_count": 48,
   "metadata": {
    "ExecuteTime": {
     "end_time": "2020-04-30T17:28:27.054575Z",
     "start_time": "2020-04-30T17:28:27.049588Z"
    }
   },
   "outputs": [],
   "source": [
    "# get class B Destination_IP\n",
    "from ipaddress import IPv4Address, IPv4Network\n",
    "import ipaddress\n",
    "def check(unique_ipss):\n",
    "    try:\n",
    "        classB =IPv4Network((\"172.16.0.0\", \"255.240.0.0\"))  # or IPv4Network(\"172.16.0.0/12\")\n",
    "        IPv4Address(unique_ipss) in classB\n",
    "        return 'True'\n",
    "    except:\n",
    "        return 'False'"
   ]
  },
  {
   "cell_type": "code",
   "execution_count": 49,
   "metadata": {
    "ExecuteTime": {
     "end_time": "2020-04-30T17:28:28.409129Z",
     "start_time": "2020-04-30T17:28:27.056570Z"
    }
   },
   "outputs": [],
   "source": [
    "df['D_class_B']=source2['Destination_IP'].map(unique_ipss.apply(check))"
   ]
  },
  {
   "cell_type": "code",
   "execution_count": 50,
   "metadata": {
    "ExecuteTime": {
     "end_time": "2020-04-30T17:28:28.448011Z",
     "start_time": "2020-04-30T17:28:28.409952Z"
    }
   },
   "outputs": [
    {
     "data": {
      "text/plain": [
       "array(['True'], dtype=object)"
      ]
     },
     "execution_count": 50,
     "metadata": {},
     "output_type": "execute_result"
    }
   ],
   "source": [
    "df['D_class_B'].unique()"
   ]
  },
  {
   "cell_type": "code",
   "execution_count": 51,
   "metadata": {
    "ExecuteTime": {
     "end_time": "2020-04-30T17:28:29.143988Z",
     "start_time": "2020-04-30T17:28:28.448848Z"
    }
   },
   "outputs": [
    {
     "name": "stdout",
     "output_type": "stream",
     "text": [
      "D_class_B\n",
      "True    1298114\n",
      "dtype: int64\n"
     ]
    }
   ],
   "source": [
    "print(df.groupby('D_class_B').size())"
   ]
  },
  {
   "cell_type": "markdown",
   "metadata": {},
   "source": [
    "### Add all new features to dataframe"
   ]
  },
  {
   "cell_type": "code",
   "execution_count": 52,
   "metadata": {
    "ExecuteTime": {
     "end_time": "2020-04-30T17:28:30.110574Z",
     "start_time": "2020-04-30T17:28:29.145983Z"
    }
   },
   "outputs": [],
   "source": [
    "from sklearn import preprocessing\n",
    "#creating labelEncoder\n",
    "label_encoder = preprocessing.LabelEncoder()"
   ]
  },
  {
   "cell_type": "code",
   "execution_count": 53,
   "metadata": {
    "ExecuteTime": {
     "end_time": "2020-04-30T17:28:30.151204Z",
     "start_time": "2020-04-30T17:28:30.111309Z"
    }
   },
   "outputs": [],
   "source": [
    "df_features = df[['Network_type','Network_global','Network_is_unspecified','Network_is_reserved',\n",
    "                  'D_Network_type','D_Network_global', 'D_Network_is_unspecified', 'D_Network_is_reserved']]"
   ]
  },
  {
   "cell_type": "code",
   "execution_count": 54,
   "metadata": {
    "ExecuteTime": {
     "end_time": "2020-04-30T17:28:30.368624Z",
     "start_time": "2020-04-30T17:28:30.152201Z"
    },
    "scrolled": true
   },
   "outputs": [
    {
     "name": "stdout",
     "output_type": "stream",
     "text": [
      "<class 'pandas.core.frame.DataFrame'>\n",
      "Int64Index: 1298114 entries, 0 to 1299089\n",
      "Data columns (total 8 columns):\n",
      " #   Column                    Non-Null Count    Dtype \n",
      "---  ------                    --------------    ----- \n",
      " 0   Network_type              1298114 non-null  object\n",
      " 1   Network_global            1298114 non-null  object\n",
      " 2   Network_is_unspecified    1298114 non-null  object\n",
      " 3   Network_is_reserved       1298114 non-null  object\n",
      " 4   D_Network_type            1298114 non-null  bool  \n",
      " 5   D_Network_global          1298114 non-null  bool  \n",
      " 6   D_Network_is_unspecified  1298114 non-null  bool  \n",
      " 7   D_Network_is_reserved     1298114 non-null  bool  \n",
      "dtypes: bool(4), object(4)\n",
      "memory usage: 54.5+ MB\n"
     ]
    }
   ],
   "source": [
    "#check new dataset info\n",
    "df_features.info()"
   ]
  },
  {
   "cell_type": "code",
   "execution_count": 55,
   "metadata": {
    "ExecuteTime": {
     "end_time": "2020-04-30T17:28:32.405178Z",
     "start_time": "2020-04-30T17:28:30.370618Z"
    },
    "scrolled": true
   },
   "outputs": [
    {
     "data": {
      "text/html": [
       "<div>\n",
       "<style scoped>\n",
       "    .dataframe tbody tr th:only-of-type {\n",
       "        vertical-align: middle;\n",
       "    }\n",
       "\n",
       "    .dataframe tbody tr th {\n",
       "        vertical-align: top;\n",
       "    }\n",
       "\n",
       "    .dataframe thead th {\n",
       "        text-align: right;\n",
       "    }\n",
       "</style>\n",
       "<table border=\"1\" class=\"dataframe\">\n",
       "  <thead>\n",
       "    <tr style=\"text-align: right;\">\n",
       "      <th></th>\n",
       "      <th>Network_type</th>\n",
       "      <th>Network_global</th>\n",
       "      <th>Network_is_unspecified</th>\n",
       "      <th>Network_is_reserved</th>\n",
       "      <th>D_Network_type</th>\n",
       "      <th>D_Network_global</th>\n",
       "      <th>D_Network_is_unspecified</th>\n",
       "      <th>D_Network_is_reserved</th>\n",
       "    </tr>\n",
       "  </thead>\n",
       "  <tbody>\n",
       "    <tr>\n",
       "      <th>0</th>\n",
       "      <td>False</td>\n",
       "      <td>True</td>\n",
       "      <td>False</td>\n",
       "      <td>False</td>\n",
       "      <td>False</td>\n",
       "      <td>True</td>\n",
       "      <td>False</td>\n",
       "      <td>False</td>\n",
       "    </tr>\n",
       "    <tr>\n",
       "      <th>1</th>\n",
       "      <td>False</td>\n",
       "      <td>True</td>\n",
       "      <td>False</td>\n",
       "      <td>False</td>\n",
       "      <td>False</td>\n",
       "      <td>True</td>\n",
       "      <td>False</td>\n",
       "      <td>False</td>\n",
       "    </tr>\n",
       "    <tr>\n",
       "      <th>2</th>\n",
       "      <td>False</td>\n",
       "      <td>True</td>\n",
       "      <td>False</td>\n",
       "      <td>False</td>\n",
       "      <td>False</td>\n",
       "      <td>True</td>\n",
       "      <td>False</td>\n",
       "      <td>False</td>\n",
       "    </tr>\n",
       "    <tr>\n",
       "      <th>3</th>\n",
       "      <td>False</td>\n",
       "      <td>True</td>\n",
       "      <td>False</td>\n",
       "      <td>False</td>\n",
       "      <td>False</td>\n",
       "      <td>True</td>\n",
       "      <td>False</td>\n",
       "      <td>False</td>\n",
       "    </tr>\n",
       "    <tr>\n",
       "      <th>4</th>\n",
       "      <td>False</td>\n",
       "      <td>True</td>\n",
       "      <td>False</td>\n",
       "      <td>False</td>\n",
       "      <td>False</td>\n",
       "      <td>True</td>\n",
       "      <td>False</td>\n",
       "      <td>False</td>\n",
       "    </tr>\n",
       "    <tr>\n",
       "      <th>...</th>\n",
       "      <td>...</td>\n",
       "      <td>...</td>\n",
       "      <td>...</td>\n",
       "      <td>...</td>\n",
       "      <td>...</td>\n",
       "      <td>...</td>\n",
       "      <td>...</td>\n",
       "      <td>...</td>\n",
       "    </tr>\n",
       "    <tr>\n",
       "      <th>1299085</th>\n",
       "      <td>False</td>\n",
       "      <td>True</td>\n",
       "      <td>False</td>\n",
       "      <td>False</td>\n",
       "      <td>False</td>\n",
       "      <td>True</td>\n",
       "      <td>False</td>\n",
       "      <td>False</td>\n",
       "    </tr>\n",
       "    <tr>\n",
       "      <th>1299086</th>\n",
       "      <td>False</td>\n",
       "      <td>True</td>\n",
       "      <td>False</td>\n",
       "      <td>False</td>\n",
       "      <td>False</td>\n",
       "      <td>True</td>\n",
       "      <td>False</td>\n",
       "      <td>False</td>\n",
       "    </tr>\n",
       "    <tr>\n",
       "      <th>1299087</th>\n",
       "      <td>False</td>\n",
       "      <td>True</td>\n",
       "      <td>False</td>\n",
       "      <td>False</td>\n",
       "      <td>False</td>\n",
       "      <td>True</td>\n",
       "      <td>False</td>\n",
       "      <td>False</td>\n",
       "    </tr>\n",
       "    <tr>\n",
       "      <th>1299088</th>\n",
       "      <td>False</td>\n",
       "      <td>True</td>\n",
       "      <td>False</td>\n",
       "      <td>False</td>\n",
       "      <td>False</td>\n",
       "      <td>True</td>\n",
       "      <td>False</td>\n",
       "      <td>False</td>\n",
       "    </tr>\n",
       "    <tr>\n",
       "      <th>1299089</th>\n",
       "      <td>False</td>\n",
       "      <td>True</td>\n",
       "      <td>False</td>\n",
       "      <td>False</td>\n",
       "      <td>False</td>\n",
       "      <td>True</td>\n",
       "      <td>False</td>\n",
       "      <td>False</td>\n",
       "    </tr>\n",
       "  </tbody>\n",
       "</table>\n",
       "<p>1298114 rows × 8 columns</p>\n",
       "</div>"
      ],
      "text/plain": [
       "         Network_type  Network_global  Network_is_unspecified  \\\n",
       "0               False            True                   False   \n",
       "1               False            True                   False   \n",
       "2               False            True                   False   \n",
       "3               False            True                   False   \n",
       "4               False            True                   False   \n",
       "...               ...             ...                     ...   \n",
       "1299085         False            True                   False   \n",
       "1299086         False            True                   False   \n",
       "1299087         False            True                   False   \n",
       "1299088         False            True                   False   \n",
       "1299089         False            True                   False   \n",
       "\n",
       "         Network_is_reserved  D_Network_type  D_Network_global  \\\n",
       "0                      False           False              True   \n",
       "1                      False           False              True   \n",
       "2                      False           False              True   \n",
       "3                      False           False              True   \n",
       "4                      False           False              True   \n",
       "...                      ...             ...               ...   \n",
       "1299085                False           False              True   \n",
       "1299086                False           False              True   \n",
       "1299087                False           False              True   \n",
       "1299088                False           False              True   \n",
       "1299089                False           False              True   \n",
       "\n",
       "         D_Network_is_unspecified  D_Network_is_reserved  \n",
       "0                           False                  False  \n",
       "1                           False                  False  \n",
       "2                           False                  False  \n",
       "3                           False                  False  \n",
       "4                           False                  False  \n",
       "...                           ...                    ...  \n",
       "1299085                     False                  False  \n",
       "1299086                     False                  False  \n",
       "1299087                     False                  False  \n",
       "1299088                     False                  False  \n",
       "1299089                     False                  False  \n",
       "\n",
       "[1298114 rows x 8 columns]"
      ]
     },
     "execution_count": 55,
     "metadata": {},
     "output_type": "execute_result"
    }
   ],
   "source": [
    "# label encoding \n",
    "mymap = {'True':0,'False':1}\n",
    "df_features1= df_features.applymap(lambda s: mymap.get(s) if s in mymap else s)\n",
    "df_features1"
   ]
  },
  {
   "cell_type": "code",
   "execution_count": 56,
   "metadata": {
    "ExecuteTime": {
     "end_time": "2020-04-30T17:28:32.623629Z",
     "start_time": "2020-04-30T17:28:32.406175Z"
    },
    "scrolled": true
   },
   "outputs": [
    {
     "data": {
      "text/html": [
       "<div>\n",
       "<style scoped>\n",
       "    .dataframe tbody tr th:only-of-type {\n",
       "        vertical-align: middle;\n",
       "    }\n",
       "\n",
       "    .dataframe tbody tr th {\n",
       "        vertical-align: top;\n",
       "    }\n",
       "\n",
       "    .dataframe thead th {\n",
       "        text-align: right;\n",
       "    }\n",
       "</style>\n",
       "<table border=\"1\" class=\"dataframe\">\n",
       "  <thead>\n",
       "    <tr style=\"text-align: right;\">\n",
       "      <th></th>\n",
       "      <th>Network_type</th>\n",
       "      <th>Network_global</th>\n",
       "      <th>Network_is_unspecified</th>\n",
       "      <th>Network_is_reserved</th>\n",
       "      <th>D_Network_type</th>\n",
       "      <th>D_Network_global</th>\n",
       "      <th>D_Network_is_unspecified</th>\n",
       "      <th>D_Network_is_reserved</th>\n",
       "    </tr>\n",
       "  </thead>\n",
       "  <tbody>\n",
       "    <tr>\n",
       "      <th>0</th>\n",
       "      <td>0</td>\n",
       "      <td>1</td>\n",
       "      <td>0</td>\n",
       "      <td>0</td>\n",
       "      <td>0</td>\n",
       "      <td>1</td>\n",
       "      <td>0</td>\n",
       "      <td>0</td>\n",
       "    </tr>\n",
       "    <tr>\n",
       "      <th>1</th>\n",
       "      <td>0</td>\n",
       "      <td>1</td>\n",
       "      <td>0</td>\n",
       "      <td>0</td>\n",
       "      <td>0</td>\n",
       "      <td>1</td>\n",
       "      <td>0</td>\n",
       "      <td>0</td>\n",
       "    </tr>\n",
       "    <tr>\n",
       "      <th>2</th>\n",
       "      <td>0</td>\n",
       "      <td>1</td>\n",
       "      <td>0</td>\n",
       "      <td>0</td>\n",
       "      <td>0</td>\n",
       "      <td>1</td>\n",
       "      <td>0</td>\n",
       "      <td>0</td>\n",
       "    </tr>\n",
       "    <tr>\n",
       "      <th>3</th>\n",
       "      <td>0</td>\n",
       "      <td>1</td>\n",
       "      <td>0</td>\n",
       "      <td>0</td>\n",
       "      <td>0</td>\n",
       "      <td>1</td>\n",
       "      <td>0</td>\n",
       "      <td>0</td>\n",
       "    </tr>\n",
       "    <tr>\n",
       "      <th>4</th>\n",
       "      <td>0</td>\n",
       "      <td>1</td>\n",
       "      <td>0</td>\n",
       "      <td>0</td>\n",
       "      <td>0</td>\n",
       "      <td>1</td>\n",
       "      <td>0</td>\n",
       "      <td>0</td>\n",
       "    </tr>\n",
       "    <tr>\n",
       "      <th>...</th>\n",
       "      <td>...</td>\n",
       "      <td>...</td>\n",
       "      <td>...</td>\n",
       "      <td>...</td>\n",
       "      <td>...</td>\n",
       "      <td>...</td>\n",
       "      <td>...</td>\n",
       "      <td>...</td>\n",
       "    </tr>\n",
       "    <tr>\n",
       "      <th>1299085</th>\n",
       "      <td>0</td>\n",
       "      <td>1</td>\n",
       "      <td>0</td>\n",
       "      <td>0</td>\n",
       "      <td>0</td>\n",
       "      <td>1</td>\n",
       "      <td>0</td>\n",
       "      <td>0</td>\n",
       "    </tr>\n",
       "    <tr>\n",
       "      <th>1299086</th>\n",
       "      <td>0</td>\n",
       "      <td>1</td>\n",
       "      <td>0</td>\n",
       "      <td>0</td>\n",
       "      <td>0</td>\n",
       "      <td>1</td>\n",
       "      <td>0</td>\n",
       "      <td>0</td>\n",
       "    </tr>\n",
       "    <tr>\n",
       "      <th>1299087</th>\n",
       "      <td>0</td>\n",
       "      <td>1</td>\n",
       "      <td>0</td>\n",
       "      <td>0</td>\n",
       "      <td>0</td>\n",
       "      <td>1</td>\n",
       "      <td>0</td>\n",
       "      <td>0</td>\n",
       "    </tr>\n",
       "    <tr>\n",
       "      <th>1299088</th>\n",
       "      <td>0</td>\n",
       "      <td>1</td>\n",
       "      <td>0</td>\n",
       "      <td>0</td>\n",
       "      <td>0</td>\n",
       "      <td>1</td>\n",
       "      <td>0</td>\n",
       "      <td>0</td>\n",
       "    </tr>\n",
       "    <tr>\n",
       "      <th>1299089</th>\n",
       "      <td>0</td>\n",
       "      <td>1</td>\n",
       "      <td>0</td>\n",
       "      <td>0</td>\n",
       "      <td>0</td>\n",
       "      <td>1</td>\n",
       "      <td>0</td>\n",
       "      <td>0</td>\n",
       "    </tr>\n",
       "  </tbody>\n",
       "</table>\n",
       "<p>1298114 rows × 8 columns</p>\n",
       "</div>"
      ],
      "text/plain": [
       "         Network_type  Network_global  Network_is_unspecified  \\\n",
       "0                   0               1                       0   \n",
       "1                   0               1                       0   \n",
       "2                   0               1                       0   \n",
       "3                   0               1                       0   \n",
       "4                   0               1                       0   \n",
       "...               ...             ...                     ...   \n",
       "1299085             0               1                       0   \n",
       "1299086             0               1                       0   \n",
       "1299087             0               1                       0   \n",
       "1299088             0               1                       0   \n",
       "1299089             0               1                       0   \n",
       "\n",
       "         Network_is_reserved  D_Network_type  D_Network_global  \\\n",
       "0                          0               0                 1   \n",
       "1                          0               0                 1   \n",
       "2                          0               0                 1   \n",
       "3                          0               0                 1   \n",
       "4                          0               0                 1   \n",
       "...                      ...             ...               ...   \n",
       "1299085                    0               0                 1   \n",
       "1299086                    0               0                 1   \n",
       "1299087                    0               0                 1   \n",
       "1299088                    0               0                 1   \n",
       "1299089                    0               0                 1   \n",
       "\n",
       "         D_Network_is_unspecified  D_Network_is_reserved  \n",
       "0                               0                      0  \n",
       "1                               0                      0  \n",
       "2                               0                      0  \n",
       "3                               0                      0  \n",
       "4                               0                      0  \n",
       "...                           ...                    ...  \n",
       "1299085                         0                      0  \n",
       "1299086                         0                      0  \n",
       "1299087                         0                      0  \n",
       "1299088                         0                      0  \n",
       "1299089                         0                      0  \n",
       "\n",
       "[1298114 rows x 8 columns]"
      ]
     },
     "execution_count": 56,
     "metadata": {},
     "output_type": "execute_result"
    }
   ],
   "source": [
    "for u in df_features1.columns:\n",
    "    if df_features1[u].dtype == 'bool':\n",
    "        df_features1[u] = df_features[u].astype('int')\n",
    "df_features1"
   ]
  },
  {
   "cell_type": "code",
   "execution_count": 57,
   "metadata": {
    "ExecuteTime": {
     "end_time": "2020-04-30T17:28:32.696399Z",
     "start_time": "2020-04-30T17:28:32.624590Z"
    },
    "scrolled": true
   },
   "outputs": [
    {
     "data": {
      "text/html": [
       "<div>\n",
       "<style scoped>\n",
       "    .dataframe tbody tr th:only-of-type {\n",
       "        vertical-align: middle;\n",
       "    }\n",
       "\n",
       "    .dataframe tbody tr th {\n",
       "        vertical-align: top;\n",
       "    }\n",
       "\n",
       "    .dataframe thead th {\n",
       "        text-align: right;\n",
       "    }\n",
       "</style>\n",
       "<table border=\"1\" class=\"dataframe\">\n",
       "  <thead>\n",
       "    <tr style=\"text-align: right;\">\n",
       "      <th></th>\n",
       "      <th>Network_global</th>\n",
       "      <th>Network_is_unspecified</th>\n",
       "      <th>Network_is_reserved</th>\n",
       "      <th>D_Network_global</th>\n",
       "      <th>D_Network_is_unspecified</th>\n",
       "      <th>D_Network_is_reserved</th>\n",
       "      <th>Label</th>\n",
       "    </tr>\n",
       "  </thead>\n",
       "  <tbody>\n",
       "    <tr>\n",
       "      <th>0</th>\n",
       "      <td>1</td>\n",
       "      <td>0</td>\n",
       "      <td>0</td>\n",
       "      <td>1</td>\n",
       "      <td>0</td>\n",
       "      <td>0</td>\n",
       "      <td>Background</td>\n",
       "    </tr>\n",
       "    <tr>\n",
       "      <th>1</th>\n",
       "      <td>1</td>\n",
       "      <td>0</td>\n",
       "      <td>0</td>\n",
       "      <td>1</td>\n",
       "      <td>0</td>\n",
       "      <td>0</td>\n",
       "      <td>Background</td>\n",
       "    </tr>\n",
       "    <tr>\n",
       "      <th>2</th>\n",
       "      <td>1</td>\n",
       "      <td>0</td>\n",
       "      <td>0</td>\n",
       "      <td>1</td>\n",
       "      <td>0</td>\n",
       "      <td>0</td>\n",
       "      <td>Background</td>\n",
       "    </tr>\n",
       "    <tr>\n",
       "      <th>3</th>\n",
       "      <td>1</td>\n",
       "      <td>0</td>\n",
       "      <td>0</td>\n",
       "      <td>1</td>\n",
       "      <td>0</td>\n",
       "      <td>0</td>\n",
       "      <td>Background</td>\n",
       "    </tr>\n",
       "    <tr>\n",
       "      <th>4</th>\n",
       "      <td>1</td>\n",
       "      <td>0</td>\n",
       "      <td>0</td>\n",
       "      <td>1</td>\n",
       "      <td>0</td>\n",
       "      <td>0</td>\n",
       "      <td>Background</td>\n",
       "    </tr>\n",
       "    <tr>\n",
       "      <th>...</th>\n",
       "      <td>...</td>\n",
       "      <td>...</td>\n",
       "      <td>...</td>\n",
       "      <td>...</td>\n",
       "      <td>...</td>\n",
       "      <td>...</td>\n",
       "      <td>...</td>\n",
       "    </tr>\n",
       "    <tr>\n",
       "      <th>1299085</th>\n",
       "      <td>1</td>\n",
       "      <td>0</td>\n",
       "      <td>0</td>\n",
       "      <td>1</td>\n",
       "      <td>0</td>\n",
       "      <td>0</td>\n",
       "      <td>Background</td>\n",
       "    </tr>\n",
       "    <tr>\n",
       "      <th>1299086</th>\n",
       "      <td>1</td>\n",
       "      <td>0</td>\n",
       "      <td>0</td>\n",
       "      <td>1</td>\n",
       "      <td>0</td>\n",
       "      <td>0</td>\n",
       "      <td>Botnet</td>\n",
       "    </tr>\n",
       "    <tr>\n",
       "      <th>1299087</th>\n",
       "      <td>1</td>\n",
       "      <td>0</td>\n",
       "      <td>0</td>\n",
       "      <td>1</td>\n",
       "      <td>0</td>\n",
       "      <td>0</td>\n",
       "      <td>Background</td>\n",
       "    </tr>\n",
       "    <tr>\n",
       "      <th>1299088</th>\n",
       "      <td>1</td>\n",
       "      <td>0</td>\n",
       "      <td>0</td>\n",
       "      <td>1</td>\n",
       "      <td>0</td>\n",
       "      <td>0</td>\n",
       "      <td>Background</td>\n",
       "    </tr>\n",
       "    <tr>\n",
       "      <th>1299089</th>\n",
       "      <td>1</td>\n",
       "      <td>0</td>\n",
       "      <td>0</td>\n",
       "      <td>1</td>\n",
       "      <td>0</td>\n",
       "      <td>0</td>\n",
       "      <td>Background</td>\n",
       "    </tr>\n",
       "  </tbody>\n",
       "</table>\n",
       "<p>1298114 rows × 7 columns</p>\n",
       "</div>"
      ],
      "text/plain": [
       "         Network_global  Network_is_unspecified  Network_is_reserved  \\\n",
       "0                     1                       0                    0   \n",
       "1                     1                       0                    0   \n",
       "2                     1                       0                    0   \n",
       "3                     1                       0                    0   \n",
       "4                     1                       0                    0   \n",
       "...                 ...                     ...                  ...   \n",
       "1299085               1                       0                    0   \n",
       "1299086               1                       0                    0   \n",
       "1299087               1                       0                    0   \n",
       "1299088               1                       0                    0   \n",
       "1299089               1                       0                    0   \n",
       "\n",
       "         D_Network_global  D_Network_is_unspecified  D_Network_is_reserved  \\\n",
       "0                       1                         0                      0   \n",
       "1                       1                         0                      0   \n",
       "2                       1                         0                      0   \n",
       "3                       1                         0                      0   \n",
       "4                       1                         0                      0   \n",
       "...                   ...                       ...                    ...   \n",
       "1299085                 1                         0                      0   \n",
       "1299086                 1                         0                      0   \n",
       "1299087                 1                         0                      0   \n",
       "1299088                 1                         0                      0   \n",
       "1299089                 1                         0                      0   \n",
       "\n",
       "              Label  \n",
       "0        Background  \n",
       "1        Background  \n",
       "2        Background  \n",
       "3        Background  \n",
       "4        Background  \n",
       "...             ...  \n",
       "1299085  Background  \n",
       "1299086      Botnet  \n",
       "1299087  Background  \n",
       "1299088  Background  \n",
       "1299089  Background  \n",
       "\n",
       "[1298114 rows x 7 columns]"
      ]
     },
     "execution_count": 57,
     "metadata": {},
     "output_type": "execute_result"
    }
   ],
   "source": [
    "df_features2 = df_features1[['Network_global','Network_is_unspecified','Network_is_reserved',\n",
    "                 'D_Network_global', 'D_Network_is_unspecified', 'D_Network_is_reserved']]\n",
    "df_features2['Label']=df['Label']\n",
    "df_features2"
   ]
  },
  {
   "cell_type": "markdown",
   "metadata": {},
   "source": [
    "### Balancing the dataset using down-sampling\n"
   ]
  },
  {
   "cell_type": "code",
   "execution_count": 58,
   "metadata": {
    "ExecuteTime": {
     "end_time": "2020-04-30T17:28:32.939748Z",
     "start_time": "2020-04-30T17:28:32.698393Z"
    }
   },
   "outputs": [],
   "source": [
    "# Separate majority and minority classes\n",
    "majority = df_features2.loc[df_features2.Label.isin(['Background', 'LEGITIMATE'])]\n",
    "minority = df_features2.loc[df_features2.Label.isin(['Botnet', 'BotnetFILTER_LEGITIMATE'])]"
   ]
  },
  {
   "cell_type": "code",
   "execution_count": 59,
   "metadata": {
    "ExecuteTime": {
     "end_time": "2020-04-30T17:28:33.000589Z",
     "start_time": "2020-04-30T17:28:32.941743Z"
    }
   },
   "outputs": [],
   "source": [
    "from sklearn.utils import resample\n",
    "df_majority_upsampled = resample(majority, \n",
    "                                 replace=False,     # sample with replacement\n",
    "                                 n_samples=21760,   # to match minority class\n",
    "                                 random_state=1) # reproducible results"
   ]
  },
  {
   "cell_type": "code",
   "execution_count": 60,
   "metadata": {
    "ExecuteTime": {
     "end_time": "2020-04-30T17:28:33.008565Z",
     "start_time": "2020-04-30T17:28:33.001583Z"
    }
   },
   "outputs": [],
   "source": [
    "downsampled = pd.concat([minority, df_majority_upsampled])"
   ]
  },
  {
   "cell_type": "code",
   "execution_count": 61,
   "metadata": {
    "ExecuteTime": {
     "end_time": "2020-04-30T17:28:33.027514Z",
     "start_time": "2020-04-30T17:28:33.009562Z"
    }
   },
   "outputs": [
    {
     "data": {
      "text/plain": [
       "Botnet                     21112\n",
       "Background                 20713\n",
       "LEGITIMATE                  1047\n",
       "BotnetFILTER_LEGITIMATE      648\n",
       "Name: Label, dtype: int64"
      ]
     },
     "execution_count": 61,
     "metadata": {},
     "output_type": "execute_result"
    }
   ],
   "source": [
    "downsampled['Label'].value_counts()"
   ]
  },
  {
   "cell_type": "code",
   "execution_count": 62,
   "metadata": {
    "ExecuteTime": {
     "end_time": "2020-04-30T17:28:33.036489Z",
     "start_time": "2020-04-30T17:28:33.028511Z"
    }
   },
   "outputs": [],
   "source": [
    "X=downsampled.drop('Label',axis=1)\n",
    "y=downsampled[['Label']]\n"
   ]
  },
  {
   "cell_type": "code",
   "execution_count": 63,
   "metadata": {
    "ExecuteTime": {
     "end_time": "2020-04-30T17:28:33.083365Z",
     "start_time": "2020-04-30T17:28:33.038484Z"
    }
   },
   "outputs": [],
   "source": [
    "from sklearn.model_selection import train_test_split\n",
    "X_train, X_test, y_train, y_test = train_test_split(X, y, test_size = 0.3, random_state = 0)"
   ]
  },
  {
   "cell_type": "markdown",
   "metadata": {},
   "source": [
    "### Logistic Regression (only using these new features)"
   ]
  },
  {
   "cell_type": "code",
   "execution_count": 64,
   "metadata": {
    "ExecuteTime": {
     "end_time": "2020-04-30T17:28:33.578062Z",
     "start_time": "2020-04-30T17:28:33.084364Z"
    }
   },
   "outputs": [
    {
     "data": {
      "text/plain": [
       "LogisticRegression(C=1.0, class_weight=None, dual=False, fit_intercept=True,\n",
       "          intercept_scaling=1, max_iter=100, multi_class='warn',\n",
       "          n_jobs=None, penalty='l2', random_state=42, solver='lbfgs',\n",
       "          tol=0.0001, verbose=0, warm_start=False)"
      ]
     },
     "execution_count": 64,
     "metadata": {},
     "output_type": "execute_result"
    }
   ],
   "source": [
    "from sklearn.linear_model import LogisticRegression\n",
    "log_reg = LogisticRegression(random_state=42,solver='lbfgs')\n",
    "log_reg.fit(X_train,y_train)"
   ]
  },
  {
   "cell_type": "code",
   "execution_count": 65,
   "metadata": {
    "ExecuteTime": {
     "end_time": "2020-04-30T17:28:34.282179Z",
     "start_time": "2020-04-30T17:28:33.579060Z"
    }
   },
   "outputs": [
    {
     "name": "stdout",
     "output_type": "stream",
     "text": [
      "[0.48928845 0.4881317  0.48850575 0.48888889 0.48850575]\n",
      "Average of the scores 0.4886641059626825\n"
     ]
    }
   ],
   "source": [
    "from sklearn.model_selection import cross_val_score\n",
    "cvs=cross_val_score(log_reg, X_test, y_test, cv=5, scoring='accuracy')\n",
    "print(cvs)\n",
    "print(\"Average of the scores\",np.mean(cvs))"
   ]
  },
  {
   "cell_type": "code",
   "execution_count": 66,
   "metadata": {
    "ExecuteTime": {
     "end_time": "2020-04-30T17:28:34.328057Z",
     "start_time": "2020-04-30T17:28:34.283177Z"
    }
   },
   "outputs": [
    {
     "data": {
      "text/html": [
       "<div>\n",
       "<style scoped>\n",
       "    .dataframe tbody tr th:only-of-type {\n",
       "        vertical-align: middle;\n",
       "    }\n",
       "\n",
       "    .dataframe tbody tr th {\n",
       "        vertical-align: top;\n",
       "    }\n",
       "\n",
       "    .dataframe thead th {\n",
       "        text-align: right;\n",
       "    }\n",
       "</style>\n",
       "<table border=\"1\" class=\"dataframe\">\n",
       "  <thead>\n",
       "    <tr style=\"text-align: right;\">\n",
       "      <th></th>\n",
       "      <th>Label</th>\n",
       "    </tr>\n",
       "  </thead>\n",
       "  <tbody>\n",
       "    <tr>\n",
       "      <th>0</th>\n",
       "      <td>Background</td>\n",
       "    </tr>\n",
       "    <tr>\n",
       "      <th>1</th>\n",
       "      <td>Background</td>\n",
       "    </tr>\n",
       "    <tr>\n",
       "      <th>2</th>\n",
       "      <td>Background</td>\n",
       "    </tr>\n",
       "    <tr>\n",
       "      <th>3</th>\n",
       "      <td>Background</td>\n",
       "    </tr>\n",
       "    <tr>\n",
       "      <th>4</th>\n",
       "      <td>Background</td>\n",
       "    </tr>\n",
       "  </tbody>\n",
       "</table>\n",
       "</div>"
      ],
      "text/plain": [
       "        Label\n",
       "0  Background\n",
       "1  Background\n",
       "2  Background\n",
       "3  Background\n",
       "4  Background"
      ]
     },
     "execution_count": 66,
     "metadata": {},
     "output_type": "execute_result"
    }
   ],
   "source": [
    "Target =df.iloc[:,11:12]\n",
    "Target.rename(columns = {12:'label'}, inplace = True) \n",
    "Target.head()"
   ]
  },
  {
   "cell_type": "code",
   "execution_count": 67,
   "metadata": {
    "ExecuteTime": {
     "end_time": "2020-04-30T17:28:34.575396Z",
     "start_time": "2020-04-30T17:28:34.330052Z"
    }
   },
   "outputs": [],
   "source": [
    "#Classifying labels into two categories\n",
    "#botnet,botnetfilter_leg = Yes\n",
    "#Background,legitimate = No\n",
    "a = ['Botnet', 'BotnetFILTER_LEGITIMATE']\n",
    "Target['yes/no'] = np.where(Target['Label'].isin(a), 'yes', 'no')"
   ]
  },
  {
   "cell_type": "code",
   "execution_count": 68,
   "metadata": {
    "ExecuteTime": {
     "end_time": "2020-04-30T17:28:34.717016Z",
     "start_time": "2020-04-30T17:28:34.585369Z"
    },
    "scrolled": true
   },
   "outputs": [
    {
     "data": {
      "text/html": [
       "<div>\n",
       "<style scoped>\n",
       "    .dataframe tbody tr th:only-of-type {\n",
       "        vertical-align: middle;\n",
       "    }\n",
       "\n",
       "    .dataframe tbody tr th {\n",
       "        vertical-align: top;\n",
       "    }\n",
       "\n",
       "    .dataframe thead th {\n",
       "        text-align: right;\n",
       "    }\n",
       "</style>\n",
       "<table border=\"1\" class=\"dataframe\">\n",
       "  <thead>\n",
       "    <tr style=\"text-align: right;\">\n",
       "      <th></th>\n",
       "      <th>Label_x</th>\n",
       "      <th>yes/no</th>\n",
       "      <th>Network_global</th>\n",
       "      <th>Network_is_unspecified</th>\n",
       "      <th>Network_is_reserved</th>\n",
       "      <th>D_Network_global</th>\n",
       "      <th>D_Network_is_unspecified</th>\n",
       "      <th>D_Network_is_reserved</th>\n",
       "      <th>Label_y</th>\n",
       "    </tr>\n",
       "  </thead>\n",
       "  <tbody>\n",
       "    <tr>\n",
       "      <th>0</th>\n",
       "      <td>Background</td>\n",
       "      <td>no</td>\n",
       "      <td>1</td>\n",
       "      <td>0</td>\n",
       "      <td>0</td>\n",
       "      <td>1</td>\n",
       "      <td>0</td>\n",
       "      <td>0</td>\n",
       "      <td>Background</td>\n",
       "    </tr>\n",
       "    <tr>\n",
       "      <th>1</th>\n",
       "      <td>Background</td>\n",
       "      <td>no</td>\n",
       "      <td>1</td>\n",
       "      <td>0</td>\n",
       "      <td>0</td>\n",
       "      <td>1</td>\n",
       "      <td>0</td>\n",
       "      <td>0</td>\n",
       "      <td>Background</td>\n",
       "    </tr>\n",
       "    <tr>\n",
       "      <th>2</th>\n",
       "      <td>Background</td>\n",
       "      <td>no</td>\n",
       "      <td>1</td>\n",
       "      <td>0</td>\n",
       "      <td>0</td>\n",
       "      <td>1</td>\n",
       "      <td>0</td>\n",
       "      <td>0</td>\n",
       "      <td>Background</td>\n",
       "    </tr>\n",
       "    <tr>\n",
       "      <th>3</th>\n",
       "      <td>Background</td>\n",
       "      <td>no</td>\n",
       "      <td>1</td>\n",
       "      <td>0</td>\n",
       "      <td>0</td>\n",
       "      <td>1</td>\n",
       "      <td>0</td>\n",
       "      <td>0</td>\n",
       "      <td>Background</td>\n",
       "    </tr>\n",
       "    <tr>\n",
       "      <th>4</th>\n",
       "      <td>Background</td>\n",
       "      <td>no</td>\n",
       "      <td>1</td>\n",
       "      <td>0</td>\n",
       "      <td>0</td>\n",
       "      <td>1</td>\n",
       "      <td>0</td>\n",
       "      <td>0</td>\n",
       "      <td>Background</td>\n",
       "    </tr>\n",
       "    <tr>\n",
       "      <th>...</th>\n",
       "      <td>...</td>\n",
       "      <td>...</td>\n",
       "      <td>...</td>\n",
       "      <td>...</td>\n",
       "      <td>...</td>\n",
       "      <td>...</td>\n",
       "      <td>...</td>\n",
       "      <td>...</td>\n",
       "      <td>...</td>\n",
       "    </tr>\n",
       "    <tr>\n",
       "      <th>1299085</th>\n",
       "      <td>Background</td>\n",
       "      <td>no</td>\n",
       "      <td>1</td>\n",
       "      <td>0</td>\n",
       "      <td>0</td>\n",
       "      <td>1</td>\n",
       "      <td>0</td>\n",
       "      <td>0</td>\n",
       "      <td>Background</td>\n",
       "    </tr>\n",
       "    <tr>\n",
       "      <th>1299086</th>\n",
       "      <td>Botnet</td>\n",
       "      <td>yes</td>\n",
       "      <td>1</td>\n",
       "      <td>0</td>\n",
       "      <td>0</td>\n",
       "      <td>1</td>\n",
       "      <td>0</td>\n",
       "      <td>0</td>\n",
       "      <td>Botnet</td>\n",
       "    </tr>\n",
       "    <tr>\n",
       "      <th>1299087</th>\n",
       "      <td>Background</td>\n",
       "      <td>no</td>\n",
       "      <td>1</td>\n",
       "      <td>0</td>\n",
       "      <td>0</td>\n",
       "      <td>1</td>\n",
       "      <td>0</td>\n",
       "      <td>0</td>\n",
       "      <td>Background</td>\n",
       "    </tr>\n",
       "    <tr>\n",
       "      <th>1299088</th>\n",
       "      <td>Background</td>\n",
       "      <td>no</td>\n",
       "      <td>1</td>\n",
       "      <td>0</td>\n",
       "      <td>0</td>\n",
       "      <td>1</td>\n",
       "      <td>0</td>\n",
       "      <td>0</td>\n",
       "      <td>Background</td>\n",
       "    </tr>\n",
       "    <tr>\n",
       "      <th>1299089</th>\n",
       "      <td>Background</td>\n",
       "      <td>no</td>\n",
       "      <td>1</td>\n",
       "      <td>0</td>\n",
       "      <td>0</td>\n",
       "      <td>1</td>\n",
       "      <td>0</td>\n",
       "      <td>0</td>\n",
       "      <td>Background</td>\n",
       "    </tr>\n",
       "  </tbody>\n",
       "</table>\n",
       "<p>1298114 rows × 9 columns</p>\n",
       "</div>"
      ],
      "text/plain": [
       "            Label_x yes/no  Network_global  Network_is_unspecified  \\\n",
       "0        Background     no               1                       0   \n",
       "1        Background     no               1                       0   \n",
       "2        Background     no               1                       0   \n",
       "3        Background     no               1                       0   \n",
       "4        Background     no               1                       0   \n",
       "...             ...    ...             ...                     ...   \n",
       "1299085  Background     no               1                       0   \n",
       "1299086      Botnet    yes               1                       0   \n",
       "1299087  Background     no               1                       0   \n",
       "1299088  Background     no               1                       0   \n",
       "1299089  Background     no               1                       0   \n",
       "\n",
       "         Network_is_reserved  D_Network_global  D_Network_is_unspecified  \\\n",
       "0                          0                 1                         0   \n",
       "1                          0                 1                         0   \n",
       "2                          0                 1                         0   \n",
       "3                          0                 1                         0   \n",
       "4                          0                 1                         0   \n",
       "...                      ...               ...                       ...   \n",
       "1299085                    0                 1                         0   \n",
       "1299086                    0                 1                         0   \n",
       "1299087                    0                 1                         0   \n",
       "1299088                    0                 1                         0   \n",
       "1299089                    0                 1                         0   \n",
       "\n",
       "         D_Network_is_reserved     Label_y  \n",
       "0                            0  Background  \n",
       "1                            0  Background  \n",
       "2                            0  Background  \n",
       "3                            0  Background  \n",
       "4                            0  Background  \n",
       "...                        ...         ...  \n",
       "1299085                      0  Background  \n",
       "1299086                      0      Botnet  \n",
       "1299087                      0  Background  \n",
       "1299088                      0  Background  \n",
       "1299089                      0  Background  \n",
       "\n",
       "[1298114 rows x 9 columns]"
      ]
     },
     "execution_count": 68,
     "metadata": {},
     "output_type": "execute_result"
    }
   ],
   "source": [
    "d = pd.merge(Target, df_features2, right_index=True,left_index=True)\n",
    "d"
   ]
  },
  {
   "cell_type": "code",
   "execution_count": 69,
   "metadata": {
    "ExecuteTime": {
     "end_time": "2020-04-30T17:28:34.883573Z",
     "start_time": "2020-04-30T17:28:34.721006Z"
    }
   },
   "outputs": [
    {
     "data": {
      "text/plain": [
       "no     1276354\n",
       "yes      21760\n",
       "Name: yes/no, dtype: int64"
      ]
     },
     "execution_count": 69,
     "metadata": {},
     "output_type": "execute_result"
    }
   ],
   "source": [
    "d['yes/no'].value_counts()"
   ]
  },
  {
   "cell_type": "code",
   "execution_count": 70,
   "metadata": {
    "ExecuteTime": {
     "end_time": "2020-04-30T17:28:35.347495Z",
     "start_time": "2020-04-30T17:28:34.884569Z"
    }
   },
   "outputs": [],
   "source": [
    "majo = d.loc[d['yes/no']=='no']\n",
    "mino = d.loc[d['yes/no']=='yes']"
   ]
  },
  {
   "cell_type": "code",
   "execution_count": 71,
   "metadata": {
    "ExecuteTime": {
     "end_time": "2020-04-30T17:28:35.391214Z",
     "start_time": "2020-04-30T17:28:35.348168Z"
    }
   },
   "outputs": [],
   "source": [
    "# downsample majority class\n",
    "maj_dsampled = resample(majo, \n",
    "                        replace=False,     # sample with replacement\n",
    "                        n_samples=21760,   # to match minority class\n",
    "                        random_state=1) # reproducible results"
   ]
  },
  {
   "cell_type": "code",
   "execution_count": 72,
   "metadata": {
    "ExecuteTime": {
     "end_time": "2020-04-30T17:28:35.417888Z",
     "start_time": "2020-04-30T17:28:35.391921Z"
    },
    "scrolled": true
   },
   "outputs": [
    {
     "data": {
      "text/html": [
       "<div>\n",
       "<style scoped>\n",
       "    .dataframe tbody tr th:only-of-type {\n",
       "        vertical-align: middle;\n",
       "    }\n",
       "\n",
       "    .dataframe tbody tr th {\n",
       "        vertical-align: top;\n",
       "    }\n",
       "\n",
       "    .dataframe thead th {\n",
       "        text-align: right;\n",
       "    }\n",
       "</style>\n",
       "<table border=\"1\" class=\"dataframe\">\n",
       "  <thead>\n",
       "    <tr style=\"text-align: right;\">\n",
       "      <th></th>\n",
       "      <th>Label_x</th>\n",
       "      <th>yes/no</th>\n",
       "      <th>Network_global</th>\n",
       "      <th>Network_is_unspecified</th>\n",
       "      <th>Network_is_reserved</th>\n",
       "      <th>D_Network_global</th>\n",
       "      <th>D_Network_is_unspecified</th>\n",
       "      <th>D_Network_is_reserved</th>\n",
       "      <th>Label_y</th>\n",
       "    </tr>\n",
       "  </thead>\n",
       "  <tbody>\n",
       "    <tr>\n",
       "      <th>4117</th>\n",
       "      <td>Botnet</td>\n",
       "      <td>yes</td>\n",
       "      <td>1</td>\n",
       "      <td>0</td>\n",
       "      <td>0</td>\n",
       "      <td>1</td>\n",
       "      <td>0</td>\n",
       "      <td>0</td>\n",
       "      <td>Botnet</td>\n",
       "    </tr>\n",
       "    <tr>\n",
       "      <th>6269</th>\n",
       "      <td>Botnet</td>\n",
       "      <td>yes</td>\n",
       "      <td>1</td>\n",
       "      <td>0</td>\n",
       "      <td>0</td>\n",
       "      <td>1</td>\n",
       "      <td>0</td>\n",
       "      <td>0</td>\n",
       "      <td>Botnet</td>\n",
       "    </tr>\n",
       "    <tr>\n",
       "      <th>8919</th>\n",
       "      <td>Botnet</td>\n",
       "      <td>yes</td>\n",
       "      <td>1</td>\n",
       "      <td>0</td>\n",
       "      <td>0</td>\n",
       "      <td>1</td>\n",
       "      <td>0</td>\n",
       "      <td>0</td>\n",
       "      <td>Botnet</td>\n",
       "    </tr>\n",
       "    <tr>\n",
       "      <th>10127</th>\n",
       "      <td>Botnet</td>\n",
       "      <td>yes</td>\n",
       "      <td>1</td>\n",
       "      <td>0</td>\n",
       "      <td>0</td>\n",
       "      <td>1</td>\n",
       "      <td>0</td>\n",
       "      <td>0</td>\n",
       "      <td>Botnet</td>\n",
       "    </tr>\n",
       "    <tr>\n",
       "      <th>11546</th>\n",
       "      <td>Botnet</td>\n",
       "      <td>yes</td>\n",
       "      <td>1</td>\n",
       "      <td>0</td>\n",
       "      <td>0</td>\n",
       "      <td>1</td>\n",
       "      <td>0</td>\n",
       "      <td>0</td>\n",
       "      <td>Botnet</td>\n",
       "    </tr>\n",
       "    <tr>\n",
       "      <th>...</th>\n",
       "      <td>...</td>\n",
       "      <td>...</td>\n",
       "      <td>...</td>\n",
       "      <td>...</td>\n",
       "      <td>...</td>\n",
       "      <td>...</td>\n",
       "      <td>...</td>\n",
       "      <td>...</td>\n",
       "      <td>...</td>\n",
       "    </tr>\n",
       "    <tr>\n",
       "      <th>996336</th>\n",
       "      <td>Background</td>\n",
       "      <td>no</td>\n",
       "      <td>1</td>\n",
       "      <td>0</td>\n",
       "      <td>0</td>\n",
       "      <td>1</td>\n",
       "      <td>0</td>\n",
       "      <td>0</td>\n",
       "      <td>Background</td>\n",
       "    </tr>\n",
       "    <tr>\n",
       "      <th>789958</th>\n",
       "      <td>Background</td>\n",
       "      <td>no</td>\n",
       "      <td>1</td>\n",
       "      <td>0</td>\n",
       "      <td>0</td>\n",
       "      <td>1</td>\n",
       "      <td>0</td>\n",
       "      <td>0</td>\n",
       "      <td>Background</td>\n",
       "    </tr>\n",
       "    <tr>\n",
       "      <th>164550</th>\n",
       "      <td>Background</td>\n",
       "      <td>no</td>\n",
       "      <td>1</td>\n",
       "      <td>0</td>\n",
       "      <td>0</td>\n",
       "      <td>1</td>\n",
       "      <td>0</td>\n",
       "      <td>0</td>\n",
       "      <td>Background</td>\n",
       "    </tr>\n",
       "    <tr>\n",
       "      <th>210363</th>\n",
       "      <td>Background</td>\n",
       "      <td>no</td>\n",
       "      <td>1</td>\n",
       "      <td>0</td>\n",
       "      <td>0</td>\n",
       "      <td>1</td>\n",
       "      <td>0</td>\n",
       "      <td>0</td>\n",
       "      <td>Background</td>\n",
       "    </tr>\n",
       "    <tr>\n",
       "      <th>519951</th>\n",
       "      <td>Background</td>\n",
       "      <td>no</td>\n",
       "      <td>1</td>\n",
       "      <td>0</td>\n",
       "      <td>0</td>\n",
       "      <td>1</td>\n",
       "      <td>0</td>\n",
       "      <td>0</td>\n",
       "      <td>Background</td>\n",
       "    </tr>\n",
       "  </tbody>\n",
       "</table>\n",
       "<p>43520 rows × 9 columns</p>\n",
       "</div>"
      ],
      "text/plain": [
       "           Label_x yes/no  Network_global  Network_is_unspecified  \\\n",
       "4117        Botnet    yes               1                       0   \n",
       "6269        Botnet    yes               1                       0   \n",
       "8919        Botnet    yes               1                       0   \n",
       "10127       Botnet    yes               1                       0   \n",
       "11546       Botnet    yes               1                       0   \n",
       "...            ...    ...             ...                     ...   \n",
       "996336  Background     no               1                       0   \n",
       "789958  Background     no               1                       0   \n",
       "164550  Background     no               1                       0   \n",
       "210363  Background     no               1                       0   \n",
       "519951  Background     no               1                       0   \n",
       "\n",
       "        Network_is_reserved  D_Network_global  D_Network_is_unspecified  \\\n",
       "4117                      0                 1                         0   \n",
       "6269                      0                 1                         0   \n",
       "8919                      0                 1                         0   \n",
       "10127                     0                 1                         0   \n",
       "11546                     0                 1                         0   \n",
       "...                     ...               ...                       ...   \n",
       "996336                    0                 1                         0   \n",
       "789958                    0                 1                         0   \n",
       "164550                    0                 1                         0   \n",
       "210363                    0                 1                         0   \n",
       "519951                    0                 1                         0   \n",
       "\n",
       "        D_Network_is_reserved     Label_y  \n",
       "4117                        0      Botnet  \n",
       "6269                        0      Botnet  \n",
       "8919                        0      Botnet  \n",
       "10127                       0      Botnet  \n",
       "11546                       0      Botnet  \n",
       "...                       ...         ...  \n",
       "996336                      0  Background  \n",
       "789958                      0  Background  \n",
       "164550                      0  Background  \n",
       "210363                      0  Background  \n",
       "519951                      0  Background  \n",
       "\n",
       "[43520 rows x 9 columns]"
      ]
     },
     "execution_count": 72,
     "metadata": {},
     "output_type": "execute_result"
    }
   ],
   "source": [
    "dsampled = pd.concat([mino, maj_dsampled])\n",
    "dsampled"
   ]
  },
  {
   "cell_type": "code",
   "execution_count": 73,
   "metadata": {
    "ExecuteTime": {
     "end_time": "2020-04-30T17:28:35.434836Z",
     "start_time": "2020-04-30T17:28:35.418852Z"
    }
   },
   "outputs": [
    {
     "data": {
      "text/plain": [
       "no     21760\n",
       "yes    21760\n",
       "Name: yes/no, dtype: int64"
      ]
     },
     "execution_count": 73,
     "metadata": {},
     "output_type": "execute_result"
    }
   ],
   "source": [
    "dsampled['yes/no'].value_counts()"
   ]
  },
  {
   "cell_type": "code",
   "execution_count": 74,
   "metadata": {
    "ExecuteTime": {
     "end_time": "2020-04-30T17:28:35.450767Z",
     "start_time": "2020-04-30T17:28:35.435808Z"
    }
   },
   "outputs": [],
   "source": [
    "y=dsampled[['yes/no']]"
   ]
  },
  {
   "cell_type": "code",
   "execution_count": 75,
   "metadata": {
    "ExecuteTime": {
     "end_time": "2020-04-30T17:28:35.456752Z",
     "start_time": "2020-04-30T17:28:35.451765Z"
    }
   },
   "outputs": [],
   "source": [
    "X1=dsampled.drop(['yes/no','Label_y','Label_x'],axis=1)"
   ]
  },
  {
   "cell_type": "code",
   "execution_count": 76,
   "metadata": {
    "ExecuteTime": {
     "end_time": "2020-04-30T17:28:35.475699Z",
     "start_time": "2020-04-30T17:28:35.458747Z"
    }
   },
   "outputs": [],
   "source": [
    "from sklearn.linear_model import LogisticRegression\n",
    "from sklearn import metrics\n",
    "from sklearn.model_selection import train_test_split\n",
    "X_train, X_test, y_train, y_test = train_test_split(X1, y, test_size=0.3, random_state=0)"
   ]
  },
  {
   "cell_type": "code",
   "execution_count": 77,
   "metadata": {
    "ExecuteTime": {
     "end_time": "2020-04-30T17:28:35.588398Z",
     "start_time": "2020-04-30T17:28:35.477695Z"
    }
   },
   "outputs": [
    {
     "data": {
      "text/plain": [
       "LogisticRegression(C=1.0, class_weight=None, dual=False, fit_intercept=True,\n",
       "          intercept_scaling=1, max_iter=100, multi_class='warn',\n",
       "          n_jobs=None, penalty='l2', random_state=None, solver='warn',\n",
       "          tol=0.0001, verbose=0, warm_start=False)"
      ]
     },
     "execution_count": 77,
     "metadata": {},
     "output_type": "execute_result"
    }
   ],
   "source": [
    "model = LogisticRegression()\n",
    "model.fit(X_train, y_train)"
   ]
  },
  {
   "cell_type": "code",
   "execution_count": 78,
   "metadata": {
    "ExecuteTime": {
     "end_time": "2020-04-30T17:28:35.645246Z",
     "start_time": "2020-04-30T17:28:35.589396Z"
    }
   },
   "outputs": [
    {
     "data": {
      "text/plain": [
       "0.5014552696078431"
      ]
     },
     "execution_count": 78,
     "metadata": {},
     "output_type": "execute_result"
    }
   ],
   "source": [
    "y_pred = model.predict(X_test) \n",
    "model.score(X_test, y_test)"
   ]
  },
  {
   "cell_type": "markdown",
   "metadata": {},
   "source": [
    "### Adding  original Flags feature to the dataset "
   ]
  },
  {
   "cell_type": "code",
   "execution_count": 79,
   "metadata": {
    "ExecuteTime": {
     "end_time": "2020-04-30T17:28:35.695113Z",
     "start_time": "2020-04-30T17:28:35.647241Z"
    }
   },
   "outputs": [],
   "source": [
    "c=d.drop(['yes/no','Label_y'],axis=1)"
   ]
  },
  {
   "cell_type": "code",
   "execution_count": 80,
   "metadata": {
    "ExecuteTime": {
     "end_time": "2020-04-30T17:28:35.724036Z",
     "start_time": "2020-04-30T17:28:35.696110Z"
    }
   },
   "outputs": [
    {
     "data": {
      "text/plain": [
       "array([['PA_'],\n",
       "       ['PA_'],\n",
       "       ['PA_'],\n",
       "       ...,\n",
       "       ['PA_'],\n",
       "       ['A_'],\n",
       "       ['INT']], dtype=object)"
      ]
     },
     "execution_count": 80,
     "metadata": {},
     "output_type": "execute_result"
    }
   ],
   "source": [
    "Flags_Copy=df[['Flags']].copy()\n",
    "import numpy as np\n",
    "from sklearn.preprocessing import OneHotEncoder\n",
    "enc = OneHotEncoder(handle_unknown='ignore')\n",
    "cat_data=np.array(Flags_Copy).reshape(-1, 1)\n",
    "cat_data"
   ]
  },
  {
   "cell_type": "code",
   "execution_count": 81,
   "metadata": {
    "ExecuteTime": {
     "end_time": "2020-04-30T17:28:52.060355Z",
     "start_time": "2020-04-30T17:28:35.726030Z"
    },
    "scrolled": false
   },
   "outputs": [
    {
     "data": {
      "text/html": [
       "<div>\n",
       "<style scoped>\n",
       "    .dataframe tbody tr th:only-of-type {\n",
       "        vertical-align: middle;\n",
       "    }\n",
       "\n",
       "    .dataframe tbody tr th {\n",
       "        vertical-align: top;\n",
       "    }\n",
       "\n",
       "    .dataframe thead th {\n",
       "        text-align: right;\n",
       "    }\n",
       "</style>\n",
       "<table border=\"1\" class=\"dataframe\">\n",
       "  <thead>\n",
       "    <tr style=\"text-align: right;\">\n",
       "      <th></th>\n",
       "      <th>Label</th>\n",
       "      <th>1</th>\n",
       "      <th>2</th>\n",
       "      <th>3</th>\n",
       "      <th>4</th>\n",
       "      <th>5</th>\n",
       "      <th>6</th>\n",
       "      <th>7</th>\n",
       "      <th>8</th>\n",
       "      <th>9</th>\n",
       "      <th>...</th>\n",
       "      <th>52</th>\n",
       "      <th>53</th>\n",
       "      <th>54</th>\n",
       "      <th>55</th>\n",
       "      <th>56</th>\n",
       "      <th>57</th>\n",
       "      <th>58</th>\n",
       "      <th>59</th>\n",
       "      <th>60</th>\n",
       "      <th>61</th>\n",
       "    </tr>\n",
       "  </thead>\n",
       "  <tbody>\n",
       "    <tr>\n",
       "      <th>0</th>\n",
       "      <td>Background</td>\n",
       "      <td>1</td>\n",
       "      <td>0</td>\n",
       "      <td>0</td>\n",
       "      <td>1</td>\n",
       "      <td>0</td>\n",
       "      <td>0</td>\n",
       "      <td>0</td>\n",
       "      <td>0</td>\n",
       "      <td>0</td>\n",
       "      <td>...</td>\n",
       "      <td>0</td>\n",
       "      <td>0</td>\n",
       "      <td>0</td>\n",
       "      <td>0</td>\n",
       "      <td>0</td>\n",
       "      <td>0</td>\n",
       "      <td>0</td>\n",
       "      <td>0</td>\n",
       "      <td>0</td>\n",
       "      <td>0</td>\n",
       "    </tr>\n",
       "    <tr>\n",
       "      <th>1</th>\n",
       "      <td>Background</td>\n",
       "      <td>1</td>\n",
       "      <td>0</td>\n",
       "      <td>0</td>\n",
       "      <td>1</td>\n",
       "      <td>0</td>\n",
       "      <td>0</td>\n",
       "      <td>0</td>\n",
       "      <td>0</td>\n",
       "      <td>0</td>\n",
       "      <td>...</td>\n",
       "      <td>0</td>\n",
       "      <td>0</td>\n",
       "      <td>0</td>\n",
       "      <td>0</td>\n",
       "      <td>0</td>\n",
       "      <td>0</td>\n",
       "      <td>0</td>\n",
       "      <td>0</td>\n",
       "      <td>0</td>\n",
       "      <td>0</td>\n",
       "    </tr>\n",
       "    <tr>\n",
       "      <th>2</th>\n",
       "      <td>Background</td>\n",
       "      <td>1</td>\n",
       "      <td>0</td>\n",
       "      <td>0</td>\n",
       "      <td>1</td>\n",
       "      <td>0</td>\n",
       "      <td>0</td>\n",
       "      <td>0</td>\n",
       "      <td>0</td>\n",
       "      <td>0</td>\n",
       "      <td>...</td>\n",
       "      <td>0</td>\n",
       "      <td>0</td>\n",
       "      <td>0</td>\n",
       "      <td>0</td>\n",
       "      <td>0</td>\n",
       "      <td>0</td>\n",
       "      <td>0</td>\n",
       "      <td>0</td>\n",
       "      <td>0</td>\n",
       "      <td>0</td>\n",
       "    </tr>\n",
       "    <tr>\n",
       "      <th>3</th>\n",
       "      <td>Background</td>\n",
       "      <td>1</td>\n",
       "      <td>0</td>\n",
       "      <td>0</td>\n",
       "      <td>1</td>\n",
       "      <td>0</td>\n",
       "      <td>0</td>\n",
       "      <td>0</td>\n",
       "      <td>0</td>\n",
       "      <td>0</td>\n",
       "      <td>...</td>\n",
       "      <td>0</td>\n",
       "      <td>0</td>\n",
       "      <td>0</td>\n",
       "      <td>0</td>\n",
       "      <td>0</td>\n",
       "      <td>0</td>\n",
       "      <td>0</td>\n",
       "      <td>0</td>\n",
       "      <td>0</td>\n",
       "      <td>0</td>\n",
       "    </tr>\n",
       "    <tr>\n",
       "      <th>4</th>\n",
       "      <td>Background</td>\n",
       "      <td>1</td>\n",
       "      <td>0</td>\n",
       "      <td>0</td>\n",
       "      <td>1</td>\n",
       "      <td>0</td>\n",
       "      <td>0</td>\n",
       "      <td>0</td>\n",
       "      <td>0</td>\n",
       "      <td>0</td>\n",
       "      <td>...</td>\n",
       "      <td>0</td>\n",
       "      <td>0</td>\n",
       "      <td>0</td>\n",
       "      <td>0</td>\n",
       "      <td>0</td>\n",
       "      <td>0</td>\n",
       "      <td>0</td>\n",
       "      <td>0</td>\n",
       "      <td>0</td>\n",
       "      <td>0</td>\n",
       "    </tr>\n",
       "    <tr>\n",
       "      <th>...</th>\n",
       "      <td>...</td>\n",
       "      <td>...</td>\n",
       "      <td>...</td>\n",
       "      <td>...</td>\n",
       "      <td>...</td>\n",
       "      <td>...</td>\n",
       "      <td>...</td>\n",
       "      <td>...</td>\n",
       "      <td>...</td>\n",
       "      <td>...</td>\n",
       "      <td>...</td>\n",
       "      <td>...</td>\n",
       "      <td>...</td>\n",
       "      <td>...</td>\n",
       "      <td>...</td>\n",
       "      <td>...</td>\n",
       "      <td>...</td>\n",
       "      <td>...</td>\n",
       "      <td>...</td>\n",
       "      <td>...</td>\n",
       "      <td>...</td>\n",
       "    </tr>\n",
       "    <tr>\n",
       "      <th>1298109</th>\n",
       "      <td>Background</td>\n",
       "      <td>1</td>\n",
       "      <td>0</td>\n",
       "      <td>0</td>\n",
       "      <td>1</td>\n",
       "      <td>0</td>\n",
       "      <td>0</td>\n",
       "      <td>0</td>\n",
       "      <td>0</td>\n",
       "      <td>0</td>\n",
       "      <td>...</td>\n",
       "      <td>0</td>\n",
       "      <td>0</td>\n",
       "      <td>0</td>\n",
       "      <td>0</td>\n",
       "      <td>0</td>\n",
       "      <td>0</td>\n",
       "      <td>0</td>\n",
       "      <td>0</td>\n",
       "      <td>0</td>\n",
       "      <td>0</td>\n",
       "    </tr>\n",
       "    <tr>\n",
       "      <th>1298110</th>\n",
       "      <td>Botnet</td>\n",
       "      <td>1</td>\n",
       "      <td>0</td>\n",
       "      <td>0</td>\n",
       "      <td>1</td>\n",
       "      <td>0</td>\n",
       "      <td>0</td>\n",
       "      <td>0</td>\n",
       "      <td>0</td>\n",
       "      <td>0</td>\n",
       "      <td>...</td>\n",
       "      <td>0</td>\n",
       "      <td>0</td>\n",
       "      <td>0</td>\n",
       "      <td>0</td>\n",
       "      <td>0</td>\n",
       "      <td>0</td>\n",
       "      <td>0</td>\n",
       "      <td>0</td>\n",
       "      <td>0</td>\n",
       "      <td>0</td>\n",
       "    </tr>\n",
       "    <tr>\n",
       "      <th>1298111</th>\n",
       "      <td>Background</td>\n",
       "      <td>1</td>\n",
       "      <td>0</td>\n",
       "      <td>0</td>\n",
       "      <td>1</td>\n",
       "      <td>0</td>\n",
       "      <td>0</td>\n",
       "      <td>0</td>\n",
       "      <td>0</td>\n",
       "      <td>0</td>\n",
       "      <td>...</td>\n",
       "      <td>0</td>\n",
       "      <td>0</td>\n",
       "      <td>0</td>\n",
       "      <td>0</td>\n",
       "      <td>0</td>\n",
       "      <td>0</td>\n",
       "      <td>0</td>\n",
       "      <td>0</td>\n",
       "      <td>0</td>\n",
       "      <td>0</td>\n",
       "    </tr>\n",
       "    <tr>\n",
       "      <th>1298112</th>\n",
       "      <td>Background</td>\n",
       "      <td>1</td>\n",
       "      <td>0</td>\n",
       "      <td>0</td>\n",
       "      <td>1</td>\n",
       "      <td>0</td>\n",
       "      <td>0</td>\n",
       "      <td>1</td>\n",
       "      <td>0</td>\n",
       "      <td>0</td>\n",
       "      <td>...</td>\n",
       "      <td>0</td>\n",
       "      <td>0</td>\n",
       "      <td>0</td>\n",
       "      <td>0</td>\n",
       "      <td>0</td>\n",
       "      <td>0</td>\n",
       "      <td>0</td>\n",
       "      <td>0</td>\n",
       "      <td>0</td>\n",
       "      <td>0</td>\n",
       "    </tr>\n",
       "    <tr>\n",
       "      <th>1298113</th>\n",
       "      <td>Background</td>\n",
       "      <td>1</td>\n",
       "      <td>0</td>\n",
       "      <td>0</td>\n",
       "      <td>1</td>\n",
       "      <td>0</td>\n",
       "      <td>0</td>\n",
       "      <td>0</td>\n",
       "      <td>0</td>\n",
       "      <td>0</td>\n",
       "      <td>...</td>\n",
       "      <td>0</td>\n",
       "      <td>0</td>\n",
       "      <td>0</td>\n",
       "      <td>0</td>\n",
       "      <td>0</td>\n",
       "      <td>0</td>\n",
       "      <td>0</td>\n",
       "      <td>0</td>\n",
       "      <td>0</td>\n",
       "      <td>0</td>\n",
       "    </tr>\n",
       "  </tbody>\n",
       "</table>\n",
       "<p>1298114 rows × 62 columns</p>\n",
       "</div>"
      ],
      "text/plain": [
       "              Label  1  2  3  4  5  6  7  8  9  ... 52 53 54 55 56 57 58 59  \\\n",
       "0        Background  1  0  0  1  0  0  0  0  0  ...  0  0  0  0  0  0  0  0   \n",
       "1        Background  1  0  0  1  0  0  0  0  0  ...  0  0  0  0  0  0  0  0   \n",
       "2        Background  1  0  0  1  0  0  0  0  0  ...  0  0  0  0  0  0  0  0   \n",
       "3        Background  1  0  0  1  0  0  0  0  0  ...  0  0  0  0  0  0  0  0   \n",
       "4        Background  1  0  0  1  0  0  0  0  0  ...  0  0  0  0  0  0  0  0   \n",
       "...             ... .. .. .. .. .. .. .. .. ..  ... .. .. .. .. .. .. .. ..   \n",
       "1298109  Background  1  0  0  1  0  0  0  0  0  ...  0  0  0  0  0  0  0  0   \n",
       "1298110      Botnet  1  0  0  1  0  0  0  0  0  ...  0  0  0  0  0  0  0  0   \n",
       "1298111  Background  1  0  0  1  0  0  0  0  0  ...  0  0  0  0  0  0  0  0   \n",
       "1298112  Background  1  0  0  1  0  0  1  0  0  ...  0  0  0  0  0  0  0  0   \n",
       "1298113  Background  1  0  0  1  0  0  0  0  0  ...  0  0  0  0  0  0  0  0   \n",
       "\n",
       "        60 61  \n",
       "0        0  0  \n",
       "1        0  0  \n",
       "2        0  0  \n",
       "3        0  0  \n",
       "4        0  0  \n",
       "...     .. ..  \n",
       "1298109  0  0  \n",
       "1298110  0  0  \n",
       "1298111  0  0  \n",
       "1298112  0  0  \n",
       "1298113  0  0  \n",
       "\n",
       "[1298114 rows x 62 columns]"
      ]
     },
     "execution_count": 81,
     "metadata": {},
     "output_type": "execute_result"
    }
   ],
   "source": [
    "# hot en-coding flgas feature,concat with feature dataframe  \n",
    "cat_hot=enc.fit_transform(cat_data)\n",
    "cat=cat_hot.toarray()\n",
    "X_cat=np.concatenate((c,cat),axis=1)\n",
    "New_df = pd.DataFrame(X_cat)\n",
    "New_df.rename(columns = {0:'Label'}, inplace = True) \n",
    "New_df"
   ]
  },
  {
   "cell_type": "code",
   "execution_count": 82,
   "metadata": {
    "ExecuteTime": {
     "end_time": "2020-04-30T17:28:54.562663Z",
     "start_time": "2020-04-30T17:28:52.061351Z"
    }
   },
   "outputs": [],
   "source": [
    "maj = New_df.loc[New_df.Label.isin(['Background', 'LEGITIMATE'])]\n",
    "mino =New_df.loc[New_df.Label.isin(['Botnet', 'BotnetFILTER_LEGITIMATE'])]"
   ]
  },
  {
   "cell_type": "code",
   "execution_count": 83,
   "metadata": {
    "ExecuteTime": {
     "end_time": "2020-04-30T17:28:54.935700Z",
     "start_time": "2020-04-30T17:28:54.564658Z"
    }
   },
   "outputs": [],
   "source": [
    "df_majority_upsampled = resample(maj, \n",
    "                                 replace=False,     # sample with replacement\n",
    "                                 n_samples=21760,   # to match minority class\n",
    "                                 random_state=1) # reproducible results\n",
    " "
   ]
  },
  {
   "cell_type": "code",
   "execution_count": 84,
   "metadata": {
    "ExecuteTime": {
     "end_time": "2020-04-30T17:28:55.093276Z",
     "start_time": "2020-04-30T17:28:54.936663Z"
    },
    "scrolled": true
   },
   "outputs": [
    {
     "data": {
      "text/html": [
       "<div>\n",
       "<style scoped>\n",
       "    .dataframe tbody tr th:only-of-type {\n",
       "        vertical-align: middle;\n",
       "    }\n",
       "\n",
       "    .dataframe tbody tr th {\n",
       "        vertical-align: top;\n",
       "    }\n",
       "\n",
       "    .dataframe thead th {\n",
       "        text-align: right;\n",
       "    }\n",
       "</style>\n",
       "<table border=\"1\" class=\"dataframe\">\n",
       "  <thead>\n",
       "    <tr style=\"text-align: right;\">\n",
       "      <th></th>\n",
       "      <th>Label</th>\n",
       "      <th>1</th>\n",
       "      <th>2</th>\n",
       "      <th>3</th>\n",
       "      <th>4</th>\n",
       "      <th>5</th>\n",
       "      <th>6</th>\n",
       "      <th>7</th>\n",
       "      <th>8</th>\n",
       "      <th>9</th>\n",
       "      <th>...</th>\n",
       "      <th>52</th>\n",
       "      <th>53</th>\n",
       "      <th>54</th>\n",
       "      <th>55</th>\n",
       "      <th>56</th>\n",
       "      <th>57</th>\n",
       "      <th>58</th>\n",
       "      <th>59</th>\n",
       "      <th>60</th>\n",
       "      <th>61</th>\n",
       "    </tr>\n",
       "  </thead>\n",
       "  <tbody>\n",
       "    <tr>\n",
       "      <th>4115</th>\n",
       "      <td>Botnet</td>\n",
       "      <td>1</td>\n",
       "      <td>0</td>\n",
       "      <td>0</td>\n",
       "      <td>1</td>\n",
       "      <td>0</td>\n",
       "      <td>0</td>\n",
       "      <td>0</td>\n",
       "      <td>0</td>\n",
       "      <td>0</td>\n",
       "      <td>...</td>\n",
       "      <td>0</td>\n",
       "      <td>0</td>\n",
       "      <td>0</td>\n",
       "      <td>0</td>\n",
       "      <td>0</td>\n",
       "      <td>0</td>\n",
       "      <td>0</td>\n",
       "      <td>0</td>\n",
       "      <td>0</td>\n",
       "      <td>0</td>\n",
       "    </tr>\n",
       "    <tr>\n",
       "      <th>6266</th>\n",
       "      <td>Botnet</td>\n",
       "      <td>1</td>\n",
       "      <td>0</td>\n",
       "      <td>0</td>\n",
       "      <td>1</td>\n",
       "      <td>0</td>\n",
       "      <td>0</td>\n",
       "      <td>0</td>\n",
       "      <td>0</td>\n",
       "      <td>0</td>\n",
       "      <td>...</td>\n",
       "      <td>0</td>\n",
       "      <td>0</td>\n",
       "      <td>0</td>\n",
       "      <td>0</td>\n",
       "      <td>0</td>\n",
       "      <td>0</td>\n",
       "      <td>0</td>\n",
       "      <td>0</td>\n",
       "      <td>0</td>\n",
       "      <td>0</td>\n",
       "    </tr>\n",
       "    <tr>\n",
       "      <th>8914</th>\n",
       "      <td>Botnet</td>\n",
       "      <td>1</td>\n",
       "      <td>0</td>\n",
       "      <td>0</td>\n",
       "      <td>1</td>\n",
       "      <td>0</td>\n",
       "      <td>0</td>\n",
       "      <td>0</td>\n",
       "      <td>0</td>\n",
       "      <td>0</td>\n",
       "      <td>...</td>\n",
       "      <td>0</td>\n",
       "      <td>0</td>\n",
       "      <td>0</td>\n",
       "      <td>0</td>\n",
       "      <td>0</td>\n",
       "      <td>0</td>\n",
       "      <td>0</td>\n",
       "      <td>0</td>\n",
       "      <td>0</td>\n",
       "      <td>0</td>\n",
       "    </tr>\n",
       "    <tr>\n",
       "      <th>10121</th>\n",
       "      <td>Botnet</td>\n",
       "      <td>1</td>\n",
       "      <td>0</td>\n",
       "      <td>0</td>\n",
       "      <td>1</td>\n",
       "      <td>0</td>\n",
       "      <td>0</td>\n",
       "      <td>0</td>\n",
       "      <td>0</td>\n",
       "      <td>0</td>\n",
       "      <td>...</td>\n",
       "      <td>0</td>\n",
       "      <td>0</td>\n",
       "      <td>0</td>\n",
       "      <td>0</td>\n",
       "      <td>0</td>\n",
       "      <td>0</td>\n",
       "      <td>0</td>\n",
       "      <td>0</td>\n",
       "      <td>0</td>\n",
       "      <td>0</td>\n",
       "    </tr>\n",
       "    <tr>\n",
       "      <th>11539</th>\n",
       "      <td>Botnet</td>\n",
       "      <td>1</td>\n",
       "      <td>0</td>\n",
       "      <td>0</td>\n",
       "      <td>1</td>\n",
       "      <td>0</td>\n",
       "      <td>0</td>\n",
       "      <td>0</td>\n",
       "      <td>0</td>\n",
       "      <td>0</td>\n",
       "      <td>...</td>\n",
       "      <td>0</td>\n",
       "      <td>0</td>\n",
       "      <td>0</td>\n",
       "      <td>0</td>\n",
       "      <td>0</td>\n",
       "      <td>0</td>\n",
       "      <td>0</td>\n",
       "      <td>0</td>\n",
       "      <td>0</td>\n",
       "      <td>0</td>\n",
       "    </tr>\n",
       "    <tr>\n",
       "      <th>...</th>\n",
       "      <td>...</td>\n",
       "      <td>...</td>\n",
       "      <td>...</td>\n",
       "      <td>...</td>\n",
       "      <td>...</td>\n",
       "      <td>...</td>\n",
       "      <td>...</td>\n",
       "      <td>...</td>\n",
       "      <td>...</td>\n",
       "      <td>...</td>\n",
       "      <td>...</td>\n",
       "      <td>...</td>\n",
       "      <td>...</td>\n",
       "      <td>...</td>\n",
       "      <td>...</td>\n",
       "      <td>...</td>\n",
       "      <td>...</td>\n",
       "      <td>...</td>\n",
       "      <td>...</td>\n",
       "      <td>...</td>\n",
       "      <td>...</td>\n",
       "    </tr>\n",
       "    <tr>\n",
       "      <th>995621</th>\n",
       "      <td>Background</td>\n",
       "      <td>1</td>\n",
       "      <td>0</td>\n",
       "      <td>0</td>\n",
       "      <td>1</td>\n",
       "      <td>0</td>\n",
       "      <td>0</td>\n",
       "      <td>0</td>\n",
       "      <td>0</td>\n",
       "      <td>0</td>\n",
       "      <td>...</td>\n",
       "      <td>0</td>\n",
       "      <td>0</td>\n",
       "      <td>0</td>\n",
       "      <td>0</td>\n",
       "      <td>0</td>\n",
       "      <td>0</td>\n",
       "      <td>0</td>\n",
       "      <td>0</td>\n",
       "      <td>0</td>\n",
       "      <td>0</td>\n",
       "    </tr>\n",
       "    <tr>\n",
       "      <th>789406</th>\n",
       "      <td>Background</td>\n",
       "      <td>1</td>\n",
       "      <td>0</td>\n",
       "      <td>0</td>\n",
       "      <td>1</td>\n",
       "      <td>0</td>\n",
       "      <td>0</td>\n",
       "      <td>0</td>\n",
       "      <td>0</td>\n",
       "      <td>0</td>\n",
       "      <td>...</td>\n",
       "      <td>0</td>\n",
       "      <td>0</td>\n",
       "      <td>0</td>\n",
       "      <td>0</td>\n",
       "      <td>0</td>\n",
       "      <td>0</td>\n",
       "      <td>0</td>\n",
       "      <td>0</td>\n",
       "      <td>0</td>\n",
       "      <td>0</td>\n",
       "    </tr>\n",
       "    <tr>\n",
       "      <th>164446</th>\n",
       "      <td>Background</td>\n",
       "      <td>1</td>\n",
       "      <td>0</td>\n",
       "      <td>0</td>\n",
       "      <td>1</td>\n",
       "      <td>0</td>\n",
       "      <td>0</td>\n",
       "      <td>0</td>\n",
       "      <td>0</td>\n",
       "      <td>0</td>\n",
       "      <td>...</td>\n",
       "      <td>0</td>\n",
       "      <td>0</td>\n",
       "      <td>0</td>\n",
       "      <td>0</td>\n",
       "      <td>0</td>\n",
       "      <td>0</td>\n",
       "      <td>0</td>\n",
       "      <td>0</td>\n",
       "      <td>0</td>\n",
       "      <td>0</td>\n",
       "    </tr>\n",
       "    <tr>\n",
       "      <th>210231</th>\n",
       "      <td>Background</td>\n",
       "      <td>1</td>\n",
       "      <td>0</td>\n",
       "      <td>0</td>\n",
       "      <td>1</td>\n",
       "      <td>0</td>\n",
       "      <td>0</td>\n",
       "      <td>0</td>\n",
       "      <td>0</td>\n",
       "      <td>0</td>\n",
       "      <td>...</td>\n",
       "      <td>0</td>\n",
       "      <td>0</td>\n",
       "      <td>0</td>\n",
       "      <td>0</td>\n",
       "      <td>0</td>\n",
       "      <td>0</td>\n",
       "      <td>0</td>\n",
       "      <td>0</td>\n",
       "      <td>0</td>\n",
       "      <td>0</td>\n",
       "    </tr>\n",
       "    <tr>\n",
       "      <th>519599</th>\n",
       "      <td>Background</td>\n",
       "      <td>1</td>\n",
       "      <td>0</td>\n",
       "      <td>0</td>\n",
       "      <td>1</td>\n",
       "      <td>0</td>\n",
       "      <td>0</td>\n",
       "      <td>0</td>\n",
       "      <td>0</td>\n",
       "      <td>0</td>\n",
       "      <td>...</td>\n",
       "      <td>0</td>\n",
       "      <td>0</td>\n",
       "      <td>0</td>\n",
       "      <td>0</td>\n",
       "      <td>0</td>\n",
       "      <td>0</td>\n",
       "      <td>0</td>\n",
       "      <td>0</td>\n",
       "      <td>0</td>\n",
       "      <td>0</td>\n",
       "    </tr>\n",
       "  </tbody>\n",
       "</table>\n",
       "<p>43520 rows × 62 columns</p>\n",
       "</div>"
      ],
      "text/plain": [
       "             Label  1  2  3  4  5  6  7  8  9  ... 52 53 54 55 56 57 58 59 60  \\\n",
       "4115        Botnet  1  0  0  1  0  0  0  0  0  ...  0  0  0  0  0  0  0  0  0   \n",
       "6266        Botnet  1  0  0  1  0  0  0  0  0  ...  0  0  0  0  0  0  0  0  0   \n",
       "8914        Botnet  1  0  0  1  0  0  0  0  0  ...  0  0  0  0  0  0  0  0  0   \n",
       "10121       Botnet  1  0  0  1  0  0  0  0  0  ...  0  0  0  0  0  0  0  0  0   \n",
       "11539       Botnet  1  0  0  1  0  0  0  0  0  ...  0  0  0  0  0  0  0  0  0   \n",
       "...            ... .. .. .. .. .. .. .. .. ..  ... .. .. .. .. .. .. .. .. ..   \n",
       "995621  Background  1  0  0  1  0  0  0  0  0  ...  0  0  0  0  0  0  0  0  0   \n",
       "789406  Background  1  0  0  1  0  0  0  0  0  ...  0  0  0  0  0  0  0  0  0   \n",
       "164446  Background  1  0  0  1  0  0  0  0  0  ...  0  0  0  0  0  0  0  0  0   \n",
       "210231  Background  1  0  0  1  0  0  0  0  0  ...  0  0  0  0  0  0  0  0  0   \n",
       "519599  Background  1  0  0  1  0  0  0  0  0  ...  0  0  0  0  0  0  0  0  0   \n",
       "\n",
       "       61  \n",
       "4115    0  \n",
       "6266    0  \n",
       "8914    0  \n",
       "10121   0  \n",
       "11539   0  \n",
       "...    ..  \n",
       "995621  0  \n",
       "789406  0  \n",
       "164446  0  \n",
       "210231  0  \n",
       "519599  0  \n",
       "\n",
       "[43520 rows x 62 columns]"
      ]
     },
     "execution_count": 84,
     "metadata": {},
     "output_type": "execute_result"
    }
   ],
   "source": [
    "# Combine majority class with downsampled majority class\n",
    "downsampled = pd.concat([mino, df_majority_upsampled])\n",
    "downsampled"
   ]
  },
  {
   "cell_type": "code",
   "execution_count": 85,
   "metadata": {
    "ExecuteTime": {
     "end_time": "2020-04-30T17:28:55.194974Z",
     "start_time": "2020-04-30T17:28:55.094241Z"
    }
   },
   "outputs": [],
   "source": [
    "y=downsampled[['Label']]\n",
    "X=downsampled.drop('Label',axis=1)"
   ]
  },
  {
   "cell_type": "code",
   "execution_count": 86,
   "metadata": {
    "ExecuteTime": {
     "end_time": "2020-04-30T17:28:55.334634Z",
     "start_time": "2020-04-30T17:28:55.196969Z"
    }
   },
   "outputs": [],
   "source": [
    "# do another logistc regression \n",
    "from sklearn.linear_model import LogisticRegression\n",
    "from sklearn import metrics\n",
    "from sklearn.model_selection import train_test_split\n",
    "X_train, X_test, y_train, y_test = train_test_split(X, y, test_size=0.3, random_state=0)"
   ]
  },
  {
   "cell_type": "code",
   "execution_count": 87,
   "metadata": {
    "ExecuteTime": {
     "end_time": "2020-04-30T17:28:55.724610Z",
     "start_time": "2020-04-30T17:28:55.335596Z"
    }
   },
   "outputs": [
    {
     "data": {
      "text/plain": [
       "LogisticRegression(C=1.0, class_weight=None, dual=False, fit_intercept=True,\n",
       "          intercept_scaling=1, max_iter=100, multi_class='warn',\n",
       "          n_jobs=None, penalty='l2', random_state=None, solver='warn',\n",
       "          tol=0.0001, verbose=0, warm_start=False)"
      ]
     },
     "execution_count": 87,
     "metadata": {},
     "output_type": "execute_result"
    }
   ],
   "source": [
    "model = LogisticRegression()\n",
    "model.fit(X_train, y_train)"
   ]
  },
  {
   "cell_type": "code",
   "execution_count": 88,
   "metadata": {
    "ExecuteTime": {
     "end_time": "2020-04-30T17:28:55.930006Z",
     "start_time": "2020-04-30T17:28:55.726553Z"
    }
   },
   "outputs": [
    {
     "data": {
      "text/plain": [
       "0.6811427696078431"
      ]
     },
     "execution_count": 88,
     "metadata": {},
     "output_type": "execute_result"
    }
   ],
   "source": [
    "y_pred = model.predict(X_test)\n",
    "model.score(X_test, y_test)"
   ]
  },
  {
   "cell_type": "markdown",
   "metadata": {},
   "source": [
    "<font color='blue'><font size=3>As we see adding the new features do improve the model accuracy.\n",
    "    "
   ]
  },
  {
   "cell_type": "markdown",
   "metadata": {},
   "source": [
    "<font size=5><font color='red'>3.\tOnce the final variable set is created, which of the following techniques most effectively classifies or aides in classifying botnet traffic?<br><br>\n",
    "    <font size=4>c.\tNaive Bayes<br><br>\n",
    "        d.\tGini Decision Tree<br><br>\n",
    "        k.\tHierarchical Clustering"
   ]
  },
  {
   "cell_type": "markdown",
   "metadata": {},
   "source": [
    "## Naive Bayes Classifiers(with unbalancing data)"
   ]
  },
  {
   "cell_type": "code",
   "execution_count": null,
   "metadata": {},
   "outputs": [],
   "source": []
  },
  {
   "cell_type": "code",
   "execution_count": 89,
   "metadata": {
    "ExecuteTime": {
     "end_time": "2020-04-30T17:29:31.620036Z",
     "start_time": "2020-04-30T17:28:55.932007Z"
    },
    "scrolled": true
   },
   "outputs": [
    {
     "data": {
      "text/html": [
       "<div>\n",
       "<style scoped>\n",
       "    .dataframe tbody tr th:only-of-type {\n",
       "        vertical-align: middle;\n",
       "    }\n",
       "\n",
       "    .dataframe tbody tr th {\n",
       "        vertical-align: top;\n",
       "    }\n",
       "\n",
       "    .dataframe thead th {\n",
       "        text-align: right;\n",
       "    }\n",
       "</style>\n",
       "<table border=\"1\" class=\"dataframe\">\n",
       "  <thead>\n",
       "    <tr style=\"text-align: right;\">\n",
       "      <th></th>\n",
       "      <th>Unnamed: 0</th>\n",
       "      <th>Flow_Start</th>\n",
       "      <th>Source_IP</th>\n",
       "      <th>Destination_IP</th>\n",
       "      <th>Duration</th>\n",
       "      <th>Packets</th>\n",
       "      <th>Bytes</th>\n",
       "      <th>A_</th>\n",
       "      <th>CON</th>\n",
       "      <th>ECO</th>\n",
       "      <th>...</th>\n",
       "      <th>843</th>\n",
       "      <th>877</th>\n",
       "      <th>88</th>\n",
       "      <th>888</th>\n",
       "      <th>916</th>\n",
       "      <th>98</th>\n",
       "      <th>993</th>\n",
       "      <th>995</th>\n",
       "      <th>Label</th>\n",
       "      <th>yes/no</th>\n",
       "    </tr>\n",
       "  </thead>\n",
       "  <tbody>\n",
       "    <tr>\n",
       "      <th>0</th>\n",
       "      <td>0</td>\n",
       "      <td>17:13:40.449</td>\n",
       "      <td>90.177.154.197</td>\n",
       "      <td>147.32.84.144</td>\n",
       "      <td>4.230</td>\n",
       "      <td>180</td>\n",
       "      <td>12628</td>\n",
       "      <td>0.0</td>\n",
       "      <td>0.0</td>\n",
       "      <td>0.0</td>\n",
       "      <td>...</td>\n",
       "      <td>0.0</td>\n",
       "      <td>0.0</td>\n",
       "      <td>0.0</td>\n",
       "      <td>0.0</td>\n",
       "      <td>0.0</td>\n",
       "      <td>0.0</td>\n",
       "      <td>0.0</td>\n",
       "      <td>0.0</td>\n",
       "      <td>Background</td>\n",
       "      <td>no</td>\n",
       "    </tr>\n",
       "    <tr>\n",
       "      <th>1</th>\n",
       "      <td>1</td>\n",
       "      <td>17:13:40.449</td>\n",
       "      <td>147.32.84.144</td>\n",
       "      <td>90.177.154.197</td>\n",
       "      <td>4.204</td>\n",
       "      <td>329</td>\n",
       "      <td>478578</td>\n",
       "      <td>0.0</td>\n",
       "      <td>0.0</td>\n",
       "      <td>0.0</td>\n",
       "      <td>...</td>\n",
       "      <td>0.0</td>\n",
       "      <td>0.0</td>\n",
       "      <td>0.0</td>\n",
       "      <td>0.0</td>\n",
       "      <td>0.0</td>\n",
       "      <td>0.0</td>\n",
       "      <td>0.0</td>\n",
       "      <td>0.0</td>\n",
       "      <td>Background</td>\n",
       "      <td>no</td>\n",
       "    </tr>\n",
       "    <tr>\n",
       "      <th>2</th>\n",
       "      <td>2</td>\n",
       "      <td>17:13:40.453</td>\n",
       "      <td>198.36.38.132</td>\n",
       "      <td>147.32.86.183</td>\n",
       "      <td>4.985</td>\n",
       "      <td>94</td>\n",
       "      <td>6212</td>\n",
       "      <td>0.0</td>\n",
       "      <td>0.0</td>\n",
       "      <td>0.0</td>\n",
       "      <td>...</td>\n",
       "      <td>0.0</td>\n",
       "      <td>0.0</td>\n",
       "      <td>0.0</td>\n",
       "      <td>0.0</td>\n",
       "      <td>0.0</td>\n",
       "      <td>0.0</td>\n",
       "      <td>0.0</td>\n",
       "      <td>0.0</td>\n",
       "      <td>Background</td>\n",
       "      <td>no</td>\n",
       "    </tr>\n",
       "    <tr>\n",
       "      <th>3</th>\n",
       "      <td>3</td>\n",
       "      <td>17:13:40.456</td>\n",
       "      <td>41.103.64.21</td>\n",
       "      <td>147.32.86.183</td>\n",
       "      <td>4.975</td>\n",
       "      <td>182</td>\n",
       "      <td>61555</td>\n",
       "      <td>0.0</td>\n",
       "      <td>0.0</td>\n",
       "      <td>0.0</td>\n",
       "      <td>...</td>\n",
       "      <td>0.0</td>\n",
       "      <td>0.0</td>\n",
       "      <td>0.0</td>\n",
       "      <td>0.0</td>\n",
       "      <td>0.0</td>\n",
       "      <td>0.0</td>\n",
       "      <td>0.0</td>\n",
       "      <td>0.0</td>\n",
       "      <td>Background</td>\n",
       "      <td>no</td>\n",
       "    </tr>\n",
       "    <tr>\n",
       "      <th>4</th>\n",
       "      <td>4</td>\n",
       "      <td>17:13:40.456</td>\n",
       "      <td>147.32.86.183</td>\n",
       "      <td>198.36.38.132</td>\n",
       "      <td>4.975</td>\n",
       "      <td>185</td>\n",
       "      <td>66524</td>\n",
       "      <td>0.0</td>\n",
       "      <td>0.0</td>\n",
       "      <td>0.0</td>\n",
       "      <td>...</td>\n",
       "      <td>0.0</td>\n",
       "      <td>0.0</td>\n",
       "      <td>0.0</td>\n",
       "      <td>0.0</td>\n",
       "      <td>0.0</td>\n",
       "      <td>0.0</td>\n",
       "      <td>0.0</td>\n",
       "      <td>0.0</td>\n",
       "      <td>Background</td>\n",
       "      <td>no</td>\n",
       "    </tr>\n",
       "    <tr>\n",
       "      <th>...</th>\n",
       "      <td>...</td>\n",
       "      <td>...</td>\n",
       "      <td>...</td>\n",
       "      <td>...</td>\n",
       "      <td>...</td>\n",
       "      <td>...</td>\n",
       "      <td>...</td>\n",
       "      <td>...</td>\n",
       "      <td>...</td>\n",
       "      <td>...</td>\n",
       "      <td>...</td>\n",
       "      <td>...</td>\n",
       "      <td>...</td>\n",
       "      <td>...</td>\n",
       "      <td>...</td>\n",
       "      <td>...</td>\n",
       "      <td>...</td>\n",
       "      <td>...</td>\n",
       "      <td>...</td>\n",
       "      <td>...</td>\n",
       "      <td>...</td>\n",
       "    </tr>\n",
       "    <tr>\n",
       "      <th>1299085</th>\n",
       "      <td>1299085</td>\n",
       "      <td>19:17:33.765</td>\n",
       "      <td>147.32.84.2</td>\n",
       "      <td>66.194.55.249</td>\n",
       "      <td>0.134</td>\n",
       "      <td>5</td>\n",
       "      <td>3841</td>\n",
       "      <td>0.0</td>\n",
       "      <td>0.0</td>\n",
       "      <td>0.0</td>\n",
       "      <td>...</td>\n",
       "      <td>0.0</td>\n",
       "      <td>0.0</td>\n",
       "      <td>0.0</td>\n",
       "      <td>0.0</td>\n",
       "      <td>0.0</td>\n",
       "      <td>0.0</td>\n",
       "      <td>0.0</td>\n",
       "      <td>0.0</td>\n",
       "      <td>Background</td>\n",
       "      <td>no</td>\n",
       "    </tr>\n",
       "    <tr>\n",
       "      <th>1299086</th>\n",
       "      <td>1299086</td>\n",
       "      <td>19:17:33.811</td>\n",
       "      <td>147.32.84.165</td>\n",
       "      <td>212.117.171.138</td>\n",
       "      <td>0.930</td>\n",
       "      <td>63</td>\n",
       "      <td>85828</td>\n",
       "      <td>0.0</td>\n",
       "      <td>0.0</td>\n",
       "      <td>0.0</td>\n",
       "      <td>...</td>\n",
       "      <td>0.0</td>\n",
       "      <td>0.0</td>\n",
       "      <td>0.0</td>\n",
       "      <td>0.0</td>\n",
       "      <td>0.0</td>\n",
       "      <td>0.0</td>\n",
       "      <td>0.0</td>\n",
       "      <td>0.0</td>\n",
       "      <td>Botnet</td>\n",
       "      <td>yes</td>\n",
       "    </tr>\n",
       "    <tr>\n",
       "      <th>1299087</th>\n",
       "      <td>1299087</td>\n",
       "      <td>19:17:33.811</td>\n",
       "      <td>147.32.84.171</td>\n",
       "      <td>95.211.93.1</td>\n",
       "      <td>0.000</td>\n",
       "      <td>1</td>\n",
       "      <td>71</td>\n",
       "      <td>0.0</td>\n",
       "      <td>0.0</td>\n",
       "      <td>0.0</td>\n",
       "      <td>...</td>\n",
       "      <td>0.0</td>\n",
       "      <td>0.0</td>\n",
       "      <td>0.0</td>\n",
       "      <td>0.0</td>\n",
       "      <td>0.0</td>\n",
       "      <td>0.0</td>\n",
       "      <td>0.0</td>\n",
       "      <td>0.0</td>\n",
       "      <td>Background</td>\n",
       "      <td>no</td>\n",
       "    </tr>\n",
       "    <tr>\n",
       "      <th>1299088</th>\n",
       "      <td>1299088</td>\n",
       "      <td>19:17:33.828</td>\n",
       "      <td>95.211.93.1</td>\n",
       "      <td>147.32.84.171</td>\n",
       "      <td>0.000</td>\n",
       "      <td>1</td>\n",
       "      <td>66</td>\n",
       "      <td>1.0</td>\n",
       "      <td>0.0</td>\n",
       "      <td>0.0</td>\n",
       "      <td>...</td>\n",
       "      <td>0.0</td>\n",
       "      <td>0.0</td>\n",
       "      <td>0.0</td>\n",
       "      <td>0.0</td>\n",
       "      <td>0.0</td>\n",
       "      <td>0.0</td>\n",
       "      <td>0.0</td>\n",
       "      <td>0.0</td>\n",
       "      <td>Background</td>\n",
       "      <td>no</td>\n",
       "    </tr>\n",
       "    <tr>\n",
       "      <th>1299089</th>\n",
       "      <td>1299089</td>\n",
       "      <td>19:17:33.828</td>\n",
       "      <td>147.32.84.229</td>\n",
       "      <td>114.39.240.193</td>\n",
       "      <td>1.999</td>\n",
       "      <td>2</td>\n",
       "      <td>352</td>\n",
       "      <td>0.0</td>\n",
       "      <td>0.0</td>\n",
       "      <td>0.0</td>\n",
       "      <td>...</td>\n",
       "      <td>0.0</td>\n",
       "      <td>0.0</td>\n",
       "      <td>0.0</td>\n",
       "      <td>0.0</td>\n",
       "      <td>0.0</td>\n",
       "      <td>0.0</td>\n",
       "      <td>0.0</td>\n",
       "      <td>0.0</td>\n",
       "      <td>Background</td>\n",
       "      <td>no</td>\n",
       "    </tr>\n",
       "  </tbody>\n",
       "</table>\n",
       "<p>1299090 rows × 257 columns</p>\n",
       "</div>"
      ],
      "text/plain": [
       "         Unnamed: 0    Flow_Start       Source_IP   Destination_IP  Duration  \\\n",
       "0                 0  17:13:40.449  90.177.154.197    147.32.84.144     4.230   \n",
       "1                 1  17:13:40.449   147.32.84.144   90.177.154.197     4.204   \n",
       "2                 2  17:13:40.453   198.36.38.132    147.32.86.183     4.985   \n",
       "3                 3  17:13:40.456    41.103.64.21    147.32.86.183     4.975   \n",
       "4                 4  17:13:40.456   147.32.86.183    198.36.38.132     4.975   \n",
       "...             ...           ...             ...              ...       ...   \n",
       "1299085     1299085  19:17:33.765     147.32.84.2    66.194.55.249     0.134   \n",
       "1299086     1299086  19:17:33.811   147.32.84.165  212.117.171.138     0.930   \n",
       "1299087     1299087  19:17:33.811   147.32.84.171      95.211.93.1     0.000   \n",
       "1299088     1299088  19:17:33.828     95.211.93.1    147.32.84.171     0.000   \n",
       "1299089     1299089  19:17:33.828   147.32.84.229   114.39.240.193     1.999   \n",
       "\n",
       "         Packets   Bytes   A_  CON  ECO  ...  843  877   88  888  916   98  \\\n",
       "0            180   12628  0.0  0.0  0.0  ...  0.0  0.0  0.0  0.0  0.0  0.0   \n",
       "1            329  478578  0.0  0.0  0.0  ...  0.0  0.0  0.0  0.0  0.0  0.0   \n",
       "2             94    6212  0.0  0.0  0.0  ...  0.0  0.0  0.0  0.0  0.0  0.0   \n",
       "3            182   61555  0.0  0.0  0.0  ...  0.0  0.0  0.0  0.0  0.0  0.0   \n",
       "4            185   66524  0.0  0.0  0.0  ...  0.0  0.0  0.0  0.0  0.0  0.0   \n",
       "...          ...     ...  ...  ...  ...  ...  ...  ...  ...  ...  ...  ...   \n",
       "1299085        5    3841  0.0  0.0  0.0  ...  0.0  0.0  0.0  0.0  0.0  0.0   \n",
       "1299086       63   85828  0.0  0.0  0.0  ...  0.0  0.0  0.0  0.0  0.0  0.0   \n",
       "1299087        1      71  0.0  0.0  0.0  ...  0.0  0.0  0.0  0.0  0.0  0.0   \n",
       "1299088        1      66  1.0  0.0  0.0  ...  0.0  0.0  0.0  0.0  0.0  0.0   \n",
       "1299089        2     352  0.0  0.0  0.0  ...  0.0  0.0  0.0  0.0  0.0  0.0   \n",
       "\n",
       "         993  995       Label  yes/no  \n",
       "0        0.0  0.0  Background      no  \n",
       "1        0.0  0.0  Background      no  \n",
       "2        0.0  0.0  Background      no  \n",
       "3        0.0  0.0  Background      no  \n",
       "4        0.0  0.0  Background      no  \n",
       "...      ...  ...         ...     ...  \n",
       "1299085  0.0  0.0  Background      no  \n",
       "1299086  0.0  0.0      Botnet     yes  \n",
       "1299087  0.0  0.0  Background      no  \n",
       "1299088  0.0  0.0  Background      no  \n",
       "1299089  0.0  0.0  Background      no  \n",
       "\n",
       "[1299090 rows x 257 columns]"
      ]
     },
     "execution_count": 89,
     "metadata": {},
     "output_type": "execute_result"
    }
   ],
   "source": [
    "# read csv final_X with target \n",
    "last_X = pd.read_csv(r'final_X_with_target.csv')\n",
    "last_X"
   ]
  },
  {
   "cell_type": "code",
   "execution_count": 90,
   "metadata": {
    "ExecuteTime": {
     "end_time": "2020-04-30T17:29:32.039912Z",
     "start_time": "2020-04-30T17:29:31.628019Z"
    }
   },
   "outputs": [],
   "source": [
    "y=last_X[['yes/no']]"
   ]
  },
  {
   "cell_type": "code",
   "execution_count": 91,
   "metadata": {
    "ExecuteTime": {
     "end_time": "2020-04-30T17:29:32.448819Z",
     "start_time": "2020-04-30T17:29:32.041908Z"
    }
   },
   "outputs": [],
   "source": [
    "# Import LabelEncoder\n",
    "from sklearn import preprocessing\n",
    "#creating labelEncoder\n",
    "label_encoder = preprocessing.LabelEncoder()\n",
    "# Encode one categorical feature\n",
    "y1 = y.apply(preprocessing.LabelEncoder().fit_transform)"
   ]
  },
  {
   "cell_type": "code",
   "execution_count": 92,
   "metadata": {
    "ExecuteTime": {
     "end_time": "2020-04-30T17:29:33.847082Z",
     "start_time": "2020-04-30T17:29:32.449816Z"
    }
   },
   "outputs": [
    {
     "data": {
      "text/html": [
       "<div>\n",
       "<style scoped>\n",
       "    .dataframe tbody tr th:only-of-type {\n",
       "        vertical-align: middle;\n",
       "    }\n",
       "\n",
       "    .dataframe tbody tr th {\n",
       "        vertical-align: top;\n",
       "    }\n",
       "\n",
       "    .dataframe thead th {\n",
       "        text-align: right;\n",
       "    }\n",
       "</style>\n",
       "<table border=\"1\" class=\"dataframe\">\n",
       "  <thead>\n",
       "    <tr style=\"text-align: right;\">\n",
       "      <th></th>\n",
       "      <th>A_</th>\n",
       "      <th>CON</th>\n",
       "      <th>ECO</th>\n",
       "      <th>ECR</th>\n",
       "      <th>FAC_</th>\n",
       "      <th>FAU_</th>\n",
       "      <th>FA_</th>\n",
       "      <th>FPAC_</th>\n",
       "      <th>FPA_</th>\n",
       "      <th>FRAEC_</th>\n",
       "      <th>...</th>\n",
       "      <th>83</th>\n",
       "      <th>832</th>\n",
       "      <th>843</th>\n",
       "      <th>877</th>\n",
       "      <th>88</th>\n",
       "      <th>888</th>\n",
       "      <th>916</th>\n",
       "      <th>98</th>\n",
       "      <th>993</th>\n",
       "      <th>995</th>\n",
       "    </tr>\n",
       "  </thead>\n",
       "  <tbody>\n",
       "    <tr>\n",
       "      <th>0</th>\n",
       "      <td>0.0</td>\n",
       "      <td>0.0</td>\n",
       "      <td>0.0</td>\n",
       "      <td>0.0</td>\n",
       "      <td>0.0</td>\n",
       "      <td>0.0</td>\n",
       "      <td>0.0</td>\n",
       "      <td>0.0</td>\n",
       "      <td>0.0</td>\n",
       "      <td>0.0</td>\n",
       "      <td>...</td>\n",
       "      <td>0.0</td>\n",
       "      <td>0.0</td>\n",
       "      <td>0.0</td>\n",
       "      <td>0.0</td>\n",
       "      <td>0.0</td>\n",
       "      <td>0.0</td>\n",
       "      <td>0.0</td>\n",
       "      <td>0.0</td>\n",
       "      <td>0.0</td>\n",
       "      <td>0.0</td>\n",
       "    </tr>\n",
       "    <tr>\n",
       "      <th>1</th>\n",
       "      <td>0.0</td>\n",
       "      <td>0.0</td>\n",
       "      <td>0.0</td>\n",
       "      <td>0.0</td>\n",
       "      <td>0.0</td>\n",
       "      <td>0.0</td>\n",
       "      <td>0.0</td>\n",
       "      <td>0.0</td>\n",
       "      <td>0.0</td>\n",
       "      <td>0.0</td>\n",
       "      <td>...</td>\n",
       "      <td>0.0</td>\n",
       "      <td>0.0</td>\n",
       "      <td>0.0</td>\n",
       "      <td>0.0</td>\n",
       "      <td>0.0</td>\n",
       "      <td>0.0</td>\n",
       "      <td>0.0</td>\n",
       "      <td>0.0</td>\n",
       "      <td>0.0</td>\n",
       "      <td>0.0</td>\n",
       "    </tr>\n",
       "    <tr>\n",
       "      <th>2</th>\n",
       "      <td>0.0</td>\n",
       "      <td>0.0</td>\n",
       "      <td>0.0</td>\n",
       "      <td>0.0</td>\n",
       "      <td>0.0</td>\n",
       "      <td>0.0</td>\n",
       "      <td>0.0</td>\n",
       "      <td>0.0</td>\n",
       "      <td>0.0</td>\n",
       "      <td>0.0</td>\n",
       "      <td>...</td>\n",
       "      <td>0.0</td>\n",
       "      <td>0.0</td>\n",
       "      <td>0.0</td>\n",
       "      <td>0.0</td>\n",
       "      <td>0.0</td>\n",
       "      <td>0.0</td>\n",
       "      <td>0.0</td>\n",
       "      <td>0.0</td>\n",
       "      <td>0.0</td>\n",
       "      <td>0.0</td>\n",
       "    </tr>\n",
       "    <tr>\n",
       "      <th>3</th>\n",
       "      <td>0.0</td>\n",
       "      <td>0.0</td>\n",
       "      <td>0.0</td>\n",
       "      <td>0.0</td>\n",
       "      <td>0.0</td>\n",
       "      <td>0.0</td>\n",
       "      <td>0.0</td>\n",
       "      <td>0.0</td>\n",
       "      <td>0.0</td>\n",
       "      <td>0.0</td>\n",
       "      <td>...</td>\n",
       "      <td>0.0</td>\n",
       "      <td>0.0</td>\n",
       "      <td>0.0</td>\n",
       "      <td>0.0</td>\n",
       "      <td>0.0</td>\n",
       "      <td>0.0</td>\n",
       "      <td>0.0</td>\n",
       "      <td>0.0</td>\n",
       "      <td>0.0</td>\n",
       "      <td>0.0</td>\n",
       "    </tr>\n",
       "    <tr>\n",
       "      <th>4</th>\n",
       "      <td>0.0</td>\n",
       "      <td>0.0</td>\n",
       "      <td>0.0</td>\n",
       "      <td>0.0</td>\n",
       "      <td>0.0</td>\n",
       "      <td>0.0</td>\n",
       "      <td>0.0</td>\n",
       "      <td>0.0</td>\n",
       "      <td>0.0</td>\n",
       "      <td>0.0</td>\n",
       "      <td>...</td>\n",
       "      <td>0.0</td>\n",
       "      <td>0.0</td>\n",
       "      <td>0.0</td>\n",
       "      <td>0.0</td>\n",
       "      <td>0.0</td>\n",
       "      <td>0.0</td>\n",
       "      <td>0.0</td>\n",
       "      <td>0.0</td>\n",
       "      <td>0.0</td>\n",
       "      <td>0.0</td>\n",
       "    </tr>\n",
       "  </tbody>\n",
       "</table>\n",
       "<p>5 rows × 248 columns</p>\n",
       "</div>"
      ],
      "text/plain": [
       "    A_  CON  ECO  ECR  FAC_  FAU_  FA_  FPAC_  FPA_  FRAEC_  ...   83  832  \\\n",
       "0  0.0  0.0  0.0  0.0   0.0   0.0  0.0    0.0   0.0     0.0  ...  0.0  0.0   \n",
       "1  0.0  0.0  0.0  0.0   0.0   0.0  0.0    0.0   0.0     0.0  ...  0.0  0.0   \n",
       "2  0.0  0.0  0.0  0.0   0.0   0.0  0.0    0.0   0.0     0.0  ...  0.0  0.0   \n",
       "3  0.0  0.0  0.0  0.0   0.0   0.0  0.0    0.0   0.0     0.0  ...  0.0  0.0   \n",
       "4  0.0  0.0  0.0  0.0   0.0   0.0  0.0    0.0   0.0     0.0  ...  0.0  0.0   \n",
       "\n",
       "   843  877   88  888  916   98  993  995  \n",
       "0  0.0  0.0  0.0  0.0  0.0  0.0  0.0  0.0  \n",
       "1  0.0  0.0  0.0  0.0  0.0  0.0  0.0  0.0  \n",
       "2  0.0  0.0  0.0  0.0  0.0  0.0  0.0  0.0  \n",
       "3  0.0  0.0  0.0  0.0  0.0  0.0  0.0  0.0  \n",
       "4  0.0  0.0  0.0  0.0  0.0  0.0  0.0  0.0  \n",
       "\n",
       "[5 rows x 248 columns]"
      ]
     },
     "execution_count": 92,
     "metadata": {},
     "output_type": "execute_result"
    }
   ],
   "source": [
    "# originally dropping label yes/no','Flow_Start','Source_IP','Destination_IP','Duration','Packets','Bytes\n",
    "X=last_X.drop(columns=['Label','yes/no','Flow_Start','Source_IP','Destination_IP','Duration','Packets','Bytes','Unnamed: 0'],axis=1) \n",
    "X.head()"
   ]
  },
  {
   "cell_type": "code",
   "execution_count": 93,
   "metadata": {
    "ExecuteTime": {
     "end_time": "2020-04-30T17:29:40.344706Z",
     "start_time": "2020-04-30T17:29:33.849077Z"
    }
   },
   "outputs": [],
   "source": [
    "#Import Gaussian Naive Bayes model\n",
    "from sklearn.naive_bayes import GaussianNB\n",
    "from sklearn import metrics\n",
    "from sklearn.model_selection import train_test_split\n",
    "X_train, X_test, y_train, y_test = train_test_split(X, y1, test_size=0.3, random_state=0)"
   ]
  },
  {
   "cell_type": "code",
   "execution_count": 94,
   "metadata": {
    "ExecuteTime": {
     "end_time": "2020-04-30T17:29:47.849672Z",
     "start_time": "2020-04-30T17:29:40.349692Z"
    }
   },
   "outputs": [
    {
     "data": {
      "text/plain": [
       "GaussianNB(priors=None, var_smoothing=1e-09)"
      ]
     },
     "execution_count": 94,
     "metadata": {},
     "output_type": "execute_result"
    }
   ],
   "source": [
    "#Create a Gaussian Classifier\n",
    "model = GaussianNB()\n",
    "\n",
    "# Train the model using the training sets\n",
    "model.fit(X_train, y_train)"
   ]
  },
  {
   "cell_type": "code",
   "execution_count": 95,
   "metadata": {
    "ExecuteTime": {
     "end_time": "2020-04-30T17:29:53.147506Z",
     "start_time": "2020-04-30T17:29:47.853662Z"
    }
   },
   "outputs": [
    {
     "data": {
      "text/plain": [
       "0.9984296699997691"
      ]
     },
     "execution_count": 95,
     "metadata": {},
     "output_type": "execute_result"
    }
   ],
   "source": [
    "y_pred = model.predict(X_test) \n",
    "model.score(X_test, y_test)"
   ]
  },
  {
   "cell_type": "markdown",
   "metadata": {},
   "source": [
    "## GINI Decision Tree Classifier(with unbalancing data)"
   ]
  },
  {
   "cell_type": "code",
   "execution_count": 96,
   "metadata": {
    "ExecuteTime": {
     "end_time": "2020-04-30T17:30:19.056967Z",
     "start_time": "2020-04-30T17:29:53.150499Z"
    }
   },
   "outputs": [
    {
     "name": "stdout",
     "output_type": "stream",
     "text": [
      "[[383147      0]\n",
      " [     4   6576]]\n"
     ]
    }
   ],
   "source": [
    "from sklearn.tree import DecisionTreeClassifier\n",
    "from sklearn import metrics\n",
    "from sklearn.model_selection import train_test_split\n",
    "X_train, X_test, y_train, y_test = train_test_split(X, y1, test_size=0.3, random_state=0)\n",
    "\n",
    "dtree = DecisionTreeClassifier(criterion='gini')\n",
    "dtree.fit(X_train,y_train)\n",
    "predictions = dtree.predict(X_test)\n",
    "dtree.score(X_test, y_test)\n",
    "from sklearn.metrics import classification_report,confusion_matrix\n",
    "print(confusion_matrix(y_test,predictions))"
   ]
  },
  {
   "cell_type": "code",
   "execution_count": 97,
   "metadata": {
    "ExecuteTime": {
     "end_time": "2020-04-30T17:30:19.473852Z",
     "start_time": "2020-04-30T17:30:19.060957Z"
    }
   },
   "outputs": [
    {
     "data": {
      "text/plain": [
       "0.9999897364052273"
      ]
     },
     "execution_count": 97,
     "metadata": {},
     "output_type": "execute_result"
    }
   ],
   "source": [
    "dtree.score(X_test, y_test)"
   ]
  },
  {
   "cell_type": "markdown",
   "metadata": {},
   "source": [
    "## Naive Bayes Classifiers(with balancing data)"
   ]
  },
  {
   "cell_type": "code",
   "execution_count": 98,
   "metadata": {
    "ExecuteTime": {
     "end_time": "2020-04-30T17:30:19.647388Z",
     "start_time": "2020-04-30T17:30:19.476845Z"
    }
   },
   "outputs": [
    {
     "data": {
      "text/plain": [
       "no     1277330\n",
       "yes      21760\n",
       "Name: yes/no, dtype: int64"
      ]
     },
     "execution_count": 98,
     "metadata": {},
     "output_type": "execute_result"
    }
   ],
   "source": [
    "#After combining labels into Botnet-yes or no\n",
    "last_X['yes/no'].value_counts()"
   ]
  },
  {
   "cell_type": "code",
   "execution_count": 99,
   "metadata": {
    "ExecuteTime": {
     "end_time": "2020-04-30T17:30:24.161981Z",
     "start_time": "2020-04-30T17:30:19.650380Z"
    }
   },
   "outputs": [],
   "source": [
    "majo = last_X.loc[last_X['yes/no']=='no']\n",
    "mino = last_X.loc[last_X['yes/no']=='yes']"
   ]
  },
  {
   "cell_type": "code",
   "execution_count": 100,
   "metadata": {
    "ExecuteTime": {
     "end_time": "2020-04-30T17:30:24.376407Z",
     "start_time": "2020-04-30T17:30:24.163976Z"
    }
   },
   "outputs": [],
   "source": [
    "# downsample majority class\n",
    "maj_dsampled = resample(majo, \n",
    "                        replace=False,     # sample with replacement\n",
    "                        n_samples=21760,   # to match minority class\n",
    "                        random_state=1)    # reproducible results"
   ]
  },
  {
   "cell_type": "code",
   "execution_count": 101,
   "metadata": {
    "ExecuteTime": {
     "end_time": "2020-04-30T17:30:24.538973Z",
     "start_time": "2020-04-30T17:30:24.380398Z"
    }
   },
   "outputs": [
    {
     "data": {
      "text/plain": [
       "no     21760\n",
       "yes    21760\n",
       "Name: yes/no, dtype: int64"
      ]
     },
     "execution_count": 101,
     "metadata": {},
     "output_type": "execute_result"
    }
   ],
   "source": [
    "dsampled = pd.concat([mino, maj_dsampled])\n",
    "dsampled['yes/no'].value_counts()"
   ]
  },
  {
   "cell_type": "code",
   "execution_count": 102,
   "metadata": {
    "ExecuteTime": {
     "end_time": "2020-04-30T17:30:24.774343Z",
     "start_time": "2020-04-30T17:30:24.540968Z"
    }
   },
   "outputs": [
    {
     "data": {
      "text/html": [
       "<div>\n",
       "<style scoped>\n",
       "    .dataframe tbody tr th:only-of-type {\n",
       "        vertical-align: middle;\n",
       "    }\n",
       "\n",
       "    .dataframe tbody tr th {\n",
       "        vertical-align: top;\n",
       "    }\n",
       "\n",
       "    .dataframe thead th {\n",
       "        text-align: right;\n",
       "    }\n",
       "</style>\n",
       "<table border=\"1\" class=\"dataframe\">\n",
       "  <thead>\n",
       "    <tr style=\"text-align: right;\">\n",
       "      <th></th>\n",
       "      <th>Duration</th>\n",
       "      <th>Packets</th>\n",
       "      <th>Bytes</th>\n",
       "      <th>A_</th>\n",
       "      <th>CON</th>\n",
       "      <th>ECO</th>\n",
       "      <th>ECR</th>\n",
       "      <th>FAC_</th>\n",
       "      <th>FAU_</th>\n",
       "      <th>FA_</th>\n",
       "      <th>...</th>\n",
       "      <th>83</th>\n",
       "      <th>832</th>\n",
       "      <th>843</th>\n",
       "      <th>877</th>\n",
       "      <th>88</th>\n",
       "      <th>888</th>\n",
       "      <th>916</th>\n",
       "      <th>98</th>\n",
       "      <th>993</th>\n",
       "      <th>995</th>\n",
       "    </tr>\n",
       "  </thead>\n",
       "  <tbody>\n",
       "    <tr>\n",
       "      <th>4117</th>\n",
       "      <td>0.000</td>\n",
       "      <td>1</td>\n",
       "      <td>263</td>\n",
       "      <td>0.0</td>\n",
       "      <td>0.0</td>\n",
       "      <td>0.0</td>\n",
       "      <td>0.0</td>\n",
       "      <td>0.0</td>\n",
       "      <td>0.0</td>\n",
       "      <td>0.0</td>\n",
       "      <td>...</td>\n",
       "      <td>0.0</td>\n",
       "      <td>0.0</td>\n",
       "      <td>0.0</td>\n",
       "      <td>0.0</td>\n",
       "      <td>0.0</td>\n",
       "      <td>0.0</td>\n",
       "      <td>0.0</td>\n",
       "      <td>0.0</td>\n",
       "      <td>0.0</td>\n",
       "      <td>0.0</td>\n",
       "    </tr>\n",
       "    <tr>\n",
       "      <th>6269</th>\n",
       "      <td>0.000</td>\n",
       "      <td>1</td>\n",
       "      <td>66</td>\n",
       "      <td>0.0</td>\n",
       "      <td>0.0</td>\n",
       "      <td>0.0</td>\n",
       "      <td>0.0</td>\n",
       "      <td>0.0</td>\n",
       "      <td>0.0</td>\n",
       "      <td>0.0</td>\n",
       "      <td>...</td>\n",
       "      <td>0.0</td>\n",
       "      <td>0.0</td>\n",
       "      <td>0.0</td>\n",
       "      <td>0.0</td>\n",
       "      <td>0.0</td>\n",
       "      <td>0.0</td>\n",
       "      <td>0.0</td>\n",
       "      <td>0.0</td>\n",
       "      <td>0.0</td>\n",
       "      <td>0.0</td>\n",
       "    </tr>\n",
       "    <tr>\n",
       "      <th>8919</th>\n",
       "      <td>2.712</td>\n",
       "      <td>4</td>\n",
       "      <td>256</td>\n",
       "      <td>0.0</td>\n",
       "      <td>0.0</td>\n",
       "      <td>0.0</td>\n",
       "      <td>0.0</td>\n",
       "      <td>0.0</td>\n",
       "      <td>0.0</td>\n",
       "      <td>0.0</td>\n",
       "      <td>...</td>\n",
       "      <td>0.0</td>\n",
       "      <td>0.0</td>\n",
       "      <td>0.0</td>\n",
       "      <td>0.0</td>\n",
       "      <td>0.0</td>\n",
       "      <td>0.0</td>\n",
       "      <td>0.0</td>\n",
       "      <td>0.0</td>\n",
       "      <td>0.0</td>\n",
       "      <td>0.0</td>\n",
       "    </tr>\n",
       "    <tr>\n",
       "      <th>10127</th>\n",
       "      <td>0.000</td>\n",
       "      <td>1</td>\n",
       "      <td>64</td>\n",
       "      <td>0.0</td>\n",
       "      <td>0.0</td>\n",
       "      <td>0.0</td>\n",
       "      <td>0.0</td>\n",
       "      <td>0.0</td>\n",
       "      <td>0.0</td>\n",
       "      <td>0.0</td>\n",
       "      <td>...</td>\n",
       "      <td>0.0</td>\n",
       "      <td>0.0</td>\n",
       "      <td>0.0</td>\n",
       "      <td>0.0</td>\n",
       "      <td>0.0</td>\n",
       "      <td>0.0</td>\n",
       "      <td>0.0</td>\n",
       "      <td>0.0</td>\n",
       "      <td>0.0</td>\n",
       "      <td>0.0</td>\n",
       "    </tr>\n",
       "    <tr>\n",
       "      <th>11546</th>\n",
       "      <td>0.000</td>\n",
       "      <td>1</td>\n",
       "      <td>64</td>\n",
       "      <td>0.0</td>\n",
       "      <td>0.0</td>\n",
       "      <td>0.0</td>\n",
       "      <td>0.0</td>\n",
       "      <td>0.0</td>\n",
       "      <td>0.0</td>\n",
       "      <td>0.0</td>\n",
       "      <td>...</td>\n",
       "      <td>0.0</td>\n",
       "      <td>0.0</td>\n",
       "      <td>0.0</td>\n",
       "      <td>0.0</td>\n",
       "      <td>0.0</td>\n",
       "      <td>0.0</td>\n",
       "      <td>0.0</td>\n",
       "      <td>0.0</td>\n",
       "      <td>0.0</td>\n",
       "      <td>0.0</td>\n",
       "    </tr>\n",
       "  </tbody>\n",
       "</table>\n",
       "<p>5 rows × 251 columns</p>\n",
       "</div>"
      ],
      "text/plain": [
       "       Duration  Packets  Bytes   A_  CON  ECO  ECR  FAC_  FAU_  FA_  ...  \\\n",
       "4117      0.000        1    263  0.0  0.0  0.0  0.0   0.0   0.0  0.0  ...   \n",
       "6269      0.000        1     66  0.0  0.0  0.0  0.0   0.0   0.0  0.0  ...   \n",
       "8919      2.712        4    256  0.0  0.0  0.0  0.0   0.0   0.0  0.0  ...   \n",
       "10127     0.000        1     64  0.0  0.0  0.0  0.0   0.0   0.0  0.0  ...   \n",
       "11546     0.000        1     64  0.0  0.0  0.0  0.0   0.0   0.0  0.0  ...   \n",
       "\n",
       "        83  832  843  877   88  888  916   98  993  995  \n",
       "4117   0.0  0.0  0.0  0.0  0.0  0.0  0.0  0.0  0.0  0.0  \n",
       "6269   0.0  0.0  0.0  0.0  0.0  0.0  0.0  0.0  0.0  0.0  \n",
       "8919   0.0  0.0  0.0  0.0  0.0  0.0  0.0  0.0  0.0  0.0  \n",
       "10127  0.0  0.0  0.0  0.0  0.0  0.0  0.0  0.0  0.0  0.0  \n",
       "11546  0.0  0.0  0.0  0.0  0.0  0.0  0.0  0.0  0.0  0.0  \n",
       "\n",
       "[5 rows x 251 columns]"
      ]
     },
     "execution_count": 102,
     "metadata": {},
     "output_type": "execute_result"
    }
   ],
   "source": [
    "y2=dsampled[['yes/no']]\n",
    "X2=dsampled.drop(['yes/no','Label','Flow_Start','Source_IP','Destination_IP','Unnamed: 0'],axis=1)\n",
    "\n",
    "X2.fillna(0, inplace=True)\n",
    "X2.head()"
   ]
  },
  {
   "cell_type": "code",
   "execution_count": 103,
   "metadata": {
    "ExecuteTime": {
     "end_time": "2020-04-30T17:30:25.347812Z",
     "start_time": "2020-04-30T17:30:24.776338Z"
    }
   },
   "outputs": [
    {
     "data": {
      "text/plain": [
       "GaussianNB(priors=None, var_smoothing=1e-09)"
      ]
     },
     "execution_count": 103,
     "metadata": {},
     "output_type": "execute_result"
    }
   ],
   "source": [
    "from sklearn import metrics\n",
    "from sklearn.model_selection import train_test_split\n",
    "X_train, X_test, y_train, y_test = train_test_split(X2, y2, test_size=0.3, random_state=0)\n",
    "\n",
    "#Create a Gaussian Classifier\n",
    "model = GaussianNB()\n",
    "# Train the model using the training sets\n",
    "model.fit(X_train, y_train)"
   ]
  },
  {
   "cell_type": "code",
   "execution_count": 104,
   "metadata": {
    "ExecuteTime": {
     "end_time": "2020-04-30T17:30:25.604256Z",
     "start_time": "2020-04-30T17:30:25.348809Z"
    }
   },
   "outputs": [
    {
     "data": {
      "text/plain": [
       "0.5087316176470589"
      ]
     },
     "execution_count": 104,
     "metadata": {},
     "output_type": "execute_result"
    }
   ],
   "source": [
    "y_pred = model.predict(X_test)\n",
    "model.score(X_test, y_test)"
   ]
  },
  {
   "cell_type": "markdown",
   "metadata": {},
   "source": [
    "## GINI Decision Tree Classifier(with balancing data)"
   ]
  },
  {
   "cell_type": "code",
   "execution_count": 105,
   "metadata": {
    "ExecuteTime": {
     "end_time": "2020-04-30T17:30:26.080017Z",
     "start_time": "2020-04-30T17:30:25.606251Z"
    }
   },
   "outputs": [
    {
     "name": "stdout",
     "output_type": "stream",
     "text": [
      "[[6515    7]\n",
      " [   6 6528]]\n"
     ]
    }
   ],
   "source": [
    "from sklearn.tree import DecisionTreeClassifier\n",
    "from sklearn import metrics\n",
    "from sklearn.model_selection import train_test_split\n",
    "X_train, X_test, y_train, y_test = train_test_split(X2, y2, test_size=0.3, random_state=0)\n",
    "\n",
    "dtree = DecisionTreeClassifier(criterion='gini')\n",
    "dtree.fit(X_train,y_train)\n",
    "predictions = dtree.predict(X_test)\n",
    "dtree.score(X_test, y_test)\n",
    "from sklearn.metrics import classification_report,confusion_matrix\n",
    "print(confusion_matrix(y_test,predictions))"
   ]
  },
  {
   "cell_type": "code",
   "execution_count": 106,
   "metadata": {
    "ExecuteTime": {
     "end_time": "2020-04-30T17:30:26.146860Z",
     "start_time": "2020-04-30T17:30:26.081015Z"
    }
   },
   "outputs": [
    {
     "data": {
      "text/plain": [
       "0.9990042892156863"
      ]
     },
     "execution_count": 106,
     "metadata": {},
     "output_type": "execute_result"
    }
   ],
   "source": [
    "dtree.score(X_test, y_test)"
   ]
  },
  {
   "cell_type": "markdown",
   "metadata": {},
   "source": [
    "## Hierarchical clustering \n",
    "<font color='blue'><font size=3>Hierarchical clustering in most variants needs O(n²) memory. Because of this, most implementations will fail at around 65535 instances, when they hit the 32 bit mark (some may fail at 32k already). But just do the math: n * n * 8 bytes for double precision: how much memory would you need? so we need downsize the data since our dataset is too large."
   ]
  },
  {
   "cell_type": "code",
   "execution_count": 107,
   "metadata": {
    "ExecuteTime": {
     "end_time": "2020-04-30T17:30:26.229584Z",
     "start_time": "2020-04-30T17:30:26.149798Z"
    }
   },
   "outputs": [
    {
     "data": {
      "text/html": [
       "<div>\n",
       "<style scoped>\n",
       "    .dataframe tbody tr th:only-of-type {\n",
       "        vertical-align: middle;\n",
       "    }\n",
       "\n",
       "    .dataframe tbody tr th {\n",
       "        vertical-align: top;\n",
       "    }\n",
       "\n",
       "    .dataframe thead th {\n",
       "        text-align: right;\n",
       "    }\n",
       "</style>\n",
       "<table border=\"1\" class=\"dataframe\">\n",
       "  <thead>\n",
       "    <tr style=\"text-align: right;\">\n",
       "      <th></th>\n",
       "      <th>Unnamed: 0</th>\n",
       "      <th>Flow_Start</th>\n",
       "      <th>Source_IP</th>\n",
       "      <th>Destination_IP</th>\n",
       "      <th>Duration</th>\n",
       "      <th>Packets</th>\n",
       "      <th>Bytes</th>\n",
       "      <th>A_</th>\n",
       "      <th>CON</th>\n",
       "      <th>ECO</th>\n",
       "      <th>...</th>\n",
       "      <th>843</th>\n",
       "      <th>877</th>\n",
       "      <th>88</th>\n",
       "      <th>888</th>\n",
       "      <th>916</th>\n",
       "      <th>98</th>\n",
       "      <th>993</th>\n",
       "      <th>995</th>\n",
       "      <th>Label</th>\n",
       "      <th>yes/no</th>\n",
       "    </tr>\n",
       "  </thead>\n",
       "  <tbody>\n",
       "    <tr>\n",
       "      <th>451907</th>\n",
       "      <td>451907</td>\n",
       "      <td>17:51:28.932</td>\n",
       "      <td>99.235.201.3</td>\n",
       "      <td>147.32.84.229</td>\n",
       "      <td>0.000</td>\n",
       "      <td>1</td>\n",
       "      <td>60</td>\n",
       "      <td>0.0</td>\n",
       "      <td>0.0</td>\n",
       "      <td>0.0</td>\n",
       "      <td>...</td>\n",
       "      <td>0.0</td>\n",
       "      <td>0.0</td>\n",
       "      <td>0.0</td>\n",
       "      <td>0.0</td>\n",
       "      <td>0.0</td>\n",
       "      <td>0.0</td>\n",
       "      <td>0.0</td>\n",
       "      <td>0.0</td>\n",
       "      <td>Background</td>\n",
       "      <td>no</td>\n",
       "    </tr>\n",
       "    <tr>\n",
       "      <th>799441</th>\n",
       "      <td>799441</td>\n",
       "      <td>18:24:09.960</td>\n",
       "      <td>147.32.84.165</td>\n",
       "      <td>147.32.80.9</td>\n",
       "      <td>0.000</td>\n",
       "      <td>1</td>\n",
       "      <td>71</td>\n",
       "      <td>0.0</td>\n",
       "      <td>0.0</td>\n",
       "      <td>0.0</td>\n",
       "      <td>...</td>\n",
       "      <td>0.0</td>\n",
       "      <td>0.0</td>\n",
       "      <td>0.0</td>\n",
       "      <td>0.0</td>\n",
       "      <td>0.0</td>\n",
       "      <td>0.0</td>\n",
       "      <td>0.0</td>\n",
       "      <td>0.0</td>\n",
       "      <td>Botnet</td>\n",
       "      <td>yes</td>\n",
       "    </tr>\n",
       "    <tr>\n",
       "      <th>400755</th>\n",
       "      <td>400755</td>\n",
       "      <td>17:46:43.605</td>\n",
       "      <td>147.32.84.165</td>\n",
       "      <td>147.32.80.9</td>\n",
       "      <td>0.000</td>\n",
       "      <td>1</td>\n",
       "      <td>74</td>\n",
       "      <td>0.0</td>\n",
       "      <td>0.0</td>\n",
       "      <td>0.0</td>\n",
       "      <td>...</td>\n",
       "      <td>0.0</td>\n",
       "      <td>0.0</td>\n",
       "      <td>0.0</td>\n",
       "      <td>0.0</td>\n",
       "      <td>0.0</td>\n",
       "      <td>0.0</td>\n",
       "      <td>0.0</td>\n",
       "      <td>0.0</td>\n",
       "      <td>Botnet</td>\n",
       "      <td>yes</td>\n",
       "    </tr>\n",
       "    <tr>\n",
       "      <th>858709</th>\n",
       "      <td>858709</td>\n",
       "      <td>18:30:01.988</td>\n",
       "      <td>70.119.95.44</td>\n",
       "      <td>147.32.84.229</td>\n",
       "      <td>0.000</td>\n",
       "      <td>1</td>\n",
       "      <td>73</td>\n",
       "      <td>0.0</td>\n",
       "      <td>0.0</td>\n",
       "      <td>0.0</td>\n",
       "      <td>...</td>\n",
       "      <td>0.0</td>\n",
       "      <td>0.0</td>\n",
       "      <td>0.0</td>\n",
       "      <td>0.0</td>\n",
       "      <td>0.0</td>\n",
       "      <td>0.0</td>\n",
       "      <td>0.0</td>\n",
       "      <td>0.0</td>\n",
       "      <td>Background</td>\n",
       "      <td>no</td>\n",
       "    </tr>\n",
       "    <tr>\n",
       "      <th>533522</th>\n",
       "      <td>533522</td>\n",
       "      <td>17:59:13.875</td>\n",
       "      <td>147.32.84.165</td>\n",
       "      <td>87.248.120.148</td>\n",
       "      <td>3.004</td>\n",
       "      <td>2</td>\n",
       "      <td>124</td>\n",
       "      <td>0.0</td>\n",
       "      <td>0.0</td>\n",
       "      <td>0.0</td>\n",
       "      <td>...</td>\n",
       "      <td>0.0</td>\n",
       "      <td>0.0</td>\n",
       "      <td>0.0</td>\n",
       "      <td>0.0</td>\n",
       "      <td>0.0</td>\n",
       "      <td>0.0</td>\n",
       "      <td>0.0</td>\n",
       "      <td>0.0</td>\n",
       "      <td>Botnet</td>\n",
       "      <td>yes</td>\n",
       "    </tr>\n",
       "    <tr>\n",
       "      <th>...</th>\n",
       "      <td>...</td>\n",
       "      <td>...</td>\n",
       "      <td>...</td>\n",
       "      <td>...</td>\n",
       "      <td>...</td>\n",
       "      <td>...</td>\n",
       "      <td>...</td>\n",
       "      <td>...</td>\n",
       "      <td>...</td>\n",
       "      <td>...</td>\n",
       "      <td>...</td>\n",
       "      <td>...</td>\n",
       "      <td>...</td>\n",
       "      <td>...</td>\n",
       "      <td>...</td>\n",
       "      <td>...</td>\n",
       "      <td>...</td>\n",
       "      <td>...</td>\n",
       "      <td>...</td>\n",
       "      <td>...</td>\n",
       "      <td>...</td>\n",
       "    </tr>\n",
       "    <tr>\n",
       "      <th>925335</th>\n",
       "      <td>925335</td>\n",
       "      <td>18:36:24.574</td>\n",
       "      <td>62.245.66.71</td>\n",
       "      <td>147.32.85.74</td>\n",
       "      <td>0.147</td>\n",
       "      <td>3</td>\n",
       "      <td>422</td>\n",
       "      <td>0.0</td>\n",
       "      <td>0.0</td>\n",
       "      <td>0.0</td>\n",
       "      <td>...</td>\n",
       "      <td>0.0</td>\n",
       "      <td>0.0</td>\n",
       "      <td>0.0</td>\n",
       "      <td>0.0</td>\n",
       "      <td>0.0</td>\n",
       "      <td>0.0</td>\n",
       "      <td>0.0</td>\n",
       "      <td>0.0</td>\n",
       "      <td>Background</td>\n",
       "      <td>no</td>\n",
       "    </tr>\n",
       "    <tr>\n",
       "      <th>787396</th>\n",
       "      <td>787396</td>\n",
       "      <td>18:22:52.425</td>\n",
       "      <td>147.32.84.165</td>\n",
       "      <td>206.46.232.11</td>\n",
       "      <td>3.004</td>\n",
       "      <td>2</td>\n",
       "      <td>124</td>\n",
       "      <td>0.0</td>\n",
       "      <td>0.0</td>\n",
       "      <td>0.0</td>\n",
       "      <td>...</td>\n",
       "      <td>0.0</td>\n",
       "      <td>0.0</td>\n",
       "      <td>0.0</td>\n",
       "      <td>0.0</td>\n",
       "      <td>0.0</td>\n",
       "      <td>0.0</td>\n",
       "      <td>0.0</td>\n",
       "      <td>0.0</td>\n",
       "      <td>Botnet</td>\n",
       "      <td>yes</td>\n",
       "    </tr>\n",
       "    <tr>\n",
       "      <th>669353</th>\n",
       "      <td>669353</td>\n",
       "      <td>18:12:06.950</td>\n",
       "      <td>147.32.84.165</td>\n",
       "      <td>147.32.80.9</td>\n",
       "      <td>0.000</td>\n",
       "      <td>1</td>\n",
       "      <td>69</td>\n",
       "      <td>0.0</td>\n",
       "      <td>0.0</td>\n",
       "      <td>0.0</td>\n",
       "      <td>...</td>\n",
       "      <td>0.0</td>\n",
       "      <td>0.0</td>\n",
       "      <td>0.0</td>\n",
       "      <td>0.0</td>\n",
       "      <td>0.0</td>\n",
       "      <td>0.0</td>\n",
       "      <td>0.0</td>\n",
       "      <td>0.0</td>\n",
       "      <td>Botnet</td>\n",
       "      <td>yes</td>\n",
       "    </tr>\n",
       "    <tr>\n",
       "      <th>1057434</th>\n",
       "      <td>1057434</td>\n",
       "      <td>18:50:20.638</td>\n",
       "      <td>98.247.116.229</td>\n",
       "      <td>147.32.84.229</td>\n",
       "      <td>0.000</td>\n",
       "      <td>1</td>\n",
       "      <td>60</td>\n",
       "      <td>0.0</td>\n",
       "      <td>0.0</td>\n",
       "      <td>0.0</td>\n",
       "      <td>...</td>\n",
       "      <td>0.0</td>\n",
       "      <td>0.0</td>\n",
       "      <td>0.0</td>\n",
       "      <td>0.0</td>\n",
       "      <td>0.0</td>\n",
       "      <td>0.0</td>\n",
       "      <td>0.0</td>\n",
       "      <td>0.0</td>\n",
       "      <td>Background</td>\n",
       "      <td>no</td>\n",
       "    </tr>\n",
       "    <tr>\n",
       "      <th>573012</th>\n",
       "      <td>573012</td>\n",
       "      <td>18:02:54.931</td>\n",
       "      <td>147.32.84.59</td>\n",
       "      <td>174.121.79.174</td>\n",
       "      <td>3.164</td>\n",
       "      <td>4</td>\n",
       "      <td>452</td>\n",
       "      <td>0.0</td>\n",
       "      <td>0.0</td>\n",
       "      <td>0.0</td>\n",
       "      <td>...</td>\n",
       "      <td>0.0</td>\n",
       "      <td>0.0</td>\n",
       "      <td>0.0</td>\n",
       "      <td>0.0</td>\n",
       "      <td>0.0</td>\n",
       "      <td>0.0</td>\n",
       "      <td>0.0</td>\n",
       "      <td>0.0</td>\n",
       "      <td>Background</td>\n",
       "      <td>no</td>\n",
       "    </tr>\n",
       "  </tbody>\n",
       "</table>\n",
       "<p>8704 rows × 257 columns</p>\n",
       "</div>"
      ],
      "text/plain": [
       "         Unnamed: 0    Flow_Start       Source_IP  Destination_IP  Duration  \\\n",
       "451907       451907  17:51:28.932    99.235.201.3   147.32.84.229     0.000   \n",
       "799441       799441  18:24:09.960   147.32.84.165     147.32.80.9     0.000   \n",
       "400755       400755  17:46:43.605   147.32.84.165     147.32.80.9     0.000   \n",
       "858709       858709  18:30:01.988    70.119.95.44   147.32.84.229     0.000   \n",
       "533522       533522  17:59:13.875   147.32.84.165  87.248.120.148     3.004   \n",
       "...             ...           ...             ...             ...       ...   \n",
       "925335       925335  18:36:24.574    62.245.66.71    147.32.85.74     0.147   \n",
       "787396       787396  18:22:52.425   147.32.84.165   206.46.232.11     3.004   \n",
       "669353       669353  18:12:06.950   147.32.84.165     147.32.80.9     0.000   \n",
       "1057434     1057434  18:50:20.638  98.247.116.229   147.32.84.229     0.000   \n",
       "573012       573012  18:02:54.931    147.32.84.59  174.121.79.174     3.164   \n",
       "\n",
       "         Packets  Bytes   A_  CON  ECO  ...  843  877   88  888  916   98  \\\n",
       "451907         1     60  0.0  0.0  0.0  ...  0.0  0.0  0.0  0.0  0.0  0.0   \n",
       "799441         1     71  0.0  0.0  0.0  ...  0.0  0.0  0.0  0.0  0.0  0.0   \n",
       "400755         1     74  0.0  0.0  0.0  ...  0.0  0.0  0.0  0.0  0.0  0.0   \n",
       "858709         1     73  0.0  0.0  0.0  ...  0.0  0.0  0.0  0.0  0.0  0.0   \n",
       "533522         2    124  0.0  0.0  0.0  ...  0.0  0.0  0.0  0.0  0.0  0.0   \n",
       "...          ...    ...  ...  ...  ...  ...  ...  ...  ...  ...  ...  ...   \n",
       "925335         3    422  0.0  0.0  0.0  ...  0.0  0.0  0.0  0.0  0.0  0.0   \n",
       "787396         2    124  0.0  0.0  0.0  ...  0.0  0.0  0.0  0.0  0.0  0.0   \n",
       "669353         1     69  0.0  0.0  0.0  ...  0.0  0.0  0.0  0.0  0.0  0.0   \n",
       "1057434        1     60  0.0  0.0  0.0  ...  0.0  0.0  0.0  0.0  0.0  0.0   \n",
       "573012         4    452  0.0  0.0  0.0  ...  0.0  0.0  0.0  0.0  0.0  0.0   \n",
       "\n",
       "         993  995       Label  yes/no  \n",
       "451907   0.0  0.0  Background      no  \n",
       "799441   0.0  0.0      Botnet     yes  \n",
       "400755   0.0  0.0      Botnet     yes  \n",
       "858709   0.0  0.0  Background      no  \n",
       "533522   0.0  0.0      Botnet     yes  \n",
       "...      ...  ...         ...     ...  \n",
       "925335   0.0  0.0  Background      no  \n",
       "787396   0.0  0.0      Botnet     yes  \n",
       "669353   0.0  0.0      Botnet     yes  \n",
       "1057434  0.0  0.0  Background      no  \n",
       "573012   0.0  0.0  Background      no  \n",
       "\n",
       "[8704 rows x 257 columns]"
      ]
     },
     "execution_count": 107,
     "metadata": {},
     "output_type": "execute_result"
    }
   ],
   "source": [
    "# here we only using 20 % of dataset which about 8704 rows\n",
    "orig=dsampled.sample(frac=0.2, replace=True, random_state=1)\n",
    "orig"
   ]
  },
  {
   "cell_type": "code",
   "execution_count": 108,
   "metadata": {
    "ExecuteTime": {
     "end_time": "2020-04-30T17:30:26.901683Z",
     "start_time": "2020-04-30T17:30:26.230581Z"
    },
    "scrolled": true
   },
   "outputs": [
    {
     "data": {
      "text/html": [
       "<div>\n",
       "<style scoped>\n",
       "    .dataframe tbody tr th:only-of-type {\n",
       "        vertical-align: middle;\n",
       "    }\n",
       "\n",
       "    .dataframe tbody tr th {\n",
       "        vertical-align: top;\n",
       "    }\n",
       "\n",
       "    .dataframe thead th {\n",
       "        text-align: right;\n",
       "    }\n",
       "</style>\n",
       "<table border=\"1\" class=\"dataframe\">\n",
       "  <thead>\n",
       "    <tr style=\"text-align: right;\">\n",
       "      <th></th>\n",
       "      <th>Duration</th>\n",
       "      <th>Packets</th>\n",
       "      <th>Bytes</th>\n",
       "      <th>A_</th>\n",
       "      <th>CON</th>\n",
       "      <th>ECO</th>\n",
       "      <th>ECR</th>\n",
       "      <th>FAC_</th>\n",
       "      <th>FAU_</th>\n",
       "      <th>FA_</th>\n",
       "      <th>...</th>\n",
       "      <th>832</th>\n",
       "      <th>843</th>\n",
       "      <th>877</th>\n",
       "      <th>88</th>\n",
       "      <th>888</th>\n",
       "      <th>916</th>\n",
       "      <th>98</th>\n",
       "      <th>993</th>\n",
       "      <th>995</th>\n",
       "      <th>yes/no</th>\n",
       "    </tr>\n",
       "  </thead>\n",
       "  <tbody>\n",
       "    <tr>\n",
       "      <th>451907</th>\n",
       "      <td>0.000</td>\n",
       "      <td>1</td>\n",
       "      <td>60</td>\n",
       "      <td>0.0</td>\n",
       "      <td>0.0</td>\n",
       "      <td>0.0</td>\n",
       "      <td>0.0</td>\n",
       "      <td>0.0</td>\n",
       "      <td>0.0</td>\n",
       "      <td>0.0</td>\n",
       "      <td>...</td>\n",
       "      <td>0.0</td>\n",
       "      <td>0.0</td>\n",
       "      <td>0.0</td>\n",
       "      <td>0.0</td>\n",
       "      <td>0.0</td>\n",
       "      <td>0.0</td>\n",
       "      <td>0.0</td>\n",
       "      <td>0.0</td>\n",
       "      <td>0.0</td>\n",
       "      <td>0</td>\n",
       "    </tr>\n",
       "    <tr>\n",
       "      <th>799441</th>\n",
       "      <td>0.000</td>\n",
       "      <td>1</td>\n",
       "      <td>71</td>\n",
       "      <td>0.0</td>\n",
       "      <td>0.0</td>\n",
       "      <td>0.0</td>\n",
       "      <td>0.0</td>\n",
       "      <td>0.0</td>\n",
       "      <td>0.0</td>\n",
       "      <td>0.0</td>\n",
       "      <td>...</td>\n",
       "      <td>0.0</td>\n",
       "      <td>0.0</td>\n",
       "      <td>0.0</td>\n",
       "      <td>0.0</td>\n",
       "      <td>0.0</td>\n",
       "      <td>0.0</td>\n",
       "      <td>0.0</td>\n",
       "      <td>0.0</td>\n",
       "      <td>0.0</td>\n",
       "      <td>1</td>\n",
       "    </tr>\n",
       "    <tr>\n",
       "      <th>400755</th>\n",
       "      <td>0.000</td>\n",
       "      <td>1</td>\n",
       "      <td>74</td>\n",
       "      <td>0.0</td>\n",
       "      <td>0.0</td>\n",
       "      <td>0.0</td>\n",
       "      <td>0.0</td>\n",
       "      <td>0.0</td>\n",
       "      <td>0.0</td>\n",
       "      <td>0.0</td>\n",
       "      <td>...</td>\n",
       "      <td>0.0</td>\n",
       "      <td>0.0</td>\n",
       "      <td>0.0</td>\n",
       "      <td>0.0</td>\n",
       "      <td>0.0</td>\n",
       "      <td>0.0</td>\n",
       "      <td>0.0</td>\n",
       "      <td>0.0</td>\n",
       "      <td>0.0</td>\n",
       "      <td>1</td>\n",
       "    </tr>\n",
       "    <tr>\n",
       "      <th>858709</th>\n",
       "      <td>0.000</td>\n",
       "      <td>1</td>\n",
       "      <td>73</td>\n",
       "      <td>0.0</td>\n",
       "      <td>0.0</td>\n",
       "      <td>0.0</td>\n",
       "      <td>0.0</td>\n",
       "      <td>0.0</td>\n",
       "      <td>0.0</td>\n",
       "      <td>0.0</td>\n",
       "      <td>...</td>\n",
       "      <td>0.0</td>\n",
       "      <td>0.0</td>\n",
       "      <td>0.0</td>\n",
       "      <td>0.0</td>\n",
       "      <td>0.0</td>\n",
       "      <td>0.0</td>\n",
       "      <td>0.0</td>\n",
       "      <td>0.0</td>\n",
       "      <td>0.0</td>\n",
       "      <td>0</td>\n",
       "    </tr>\n",
       "    <tr>\n",
       "      <th>533522</th>\n",
       "      <td>3.004</td>\n",
       "      <td>2</td>\n",
       "      <td>124</td>\n",
       "      <td>0.0</td>\n",
       "      <td>0.0</td>\n",
       "      <td>0.0</td>\n",
       "      <td>0.0</td>\n",
       "      <td>0.0</td>\n",
       "      <td>0.0</td>\n",
       "      <td>0.0</td>\n",
       "      <td>...</td>\n",
       "      <td>0.0</td>\n",
       "      <td>0.0</td>\n",
       "      <td>0.0</td>\n",
       "      <td>0.0</td>\n",
       "      <td>0.0</td>\n",
       "      <td>0.0</td>\n",
       "      <td>0.0</td>\n",
       "      <td>0.0</td>\n",
       "      <td>0.0</td>\n",
       "      <td>1</td>\n",
       "    </tr>\n",
       "    <tr>\n",
       "      <th>...</th>\n",
       "      <td>...</td>\n",
       "      <td>...</td>\n",
       "      <td>...</td>\n",
       "      <td>...</td>\n",
       "      <td>...</td>\n",
       "      <td>...</td>\n",
       "      <td>...</td>\n",
       "      <td>...</td>\n",
       "      <td>...</td>\n",
       "      <td>...</td>\n",
       "      <td>...</td>\n",
       "      <td>...</td>\n",
       "      <td>...</td>\n",
       "      <td>...</td>\n",
       "      <td>...</td>\n",
       "      <td>...</td>\n",
       "      <td>...</td>\n",
       "      <td>...</td>\n",
       "      <td>...</td>\n",
       "      <td>...</td>\n",
       "      <td>...</td>\n",
       "    </tr>\n",
       "    <tr>\n",
       "      <th>925335</th>\n",
       "      <td>0.147</td>\n",
       "      <td>3</td>\n",
       "      <td>422</td>\n",
       "      <td>0.0</td>\n",
       "      <td>0.0</td>\n",
       "      <td>0.0</td>\n",
       "      <td>0.0</td>\n",
       "      <td>0.0</td>\n",
       "      <td>0.0</td>\n",
       "      <td>0.0</td>\n",
       "      <td>...</td>\n",
       "      <td>0.0</td>\n",
       "      <td>0.0</td>\n",
       "      <td>0.0</td>\n",
       "      <td>0.0</td>\n",
       "      <td>0.0</td>\n",
       "      <td>0.0</td>\n",
       "      <td>0.0</td>\n",
       "      <td>0.0</td>\n",
       "      <td>0.0</td>\n",
       "      <td>0</td>\n",
       "    </tr>\n",
       "    <tr>\n",
       "      <th>787396</th>\n",
       "      <td>3.004</td>\n",
       "      <td>2</td>\n",
       "      <td>124</td>\n",
       "      <td>0.0</td>\n",
       "      <td>0.0</td>\n",
       "      <td>0.0</td>\n",
       "      <td>0.0</td>\n",
       "      <td>0.0</td>\n",
       "      <td>0.0</td>\n",
       "      <td>0.0</td>\n",
       "      <td>...</td>\n",
       "      <td>0.0</td>\n",
       "      <td>0.0</td>\n",
       "      <td>0.0</td>\n",
       "      <td>0.0</td>\n",
       "      <td>0.0</td>\n",
       "      <td>0.0</td>\n",
       "      <td>0.0</td>\n",
       "      <td>0.0</td>\n",
       "      <td>0.0</td>\n",
       "      <td>1</td>\n",
       "    </tr>\n",
       "    <tr>\n",
       "      <th>669353</th>\n",
       "      <td>0.000</td>\n",
       "      <td>1</td>\n",
       "      <td>69</td>\n",
       "      <td>0.0</td>\n",
       "      <td>0.0</td>\n",
       "      <td>0.0</td>\n",
       "      <td>0.0</td>\n",
       "      <td>0.0</td>\n",
       "      <td>0.0</td>\n",
       "      <td>0.0</td>\n",
       "      <td>...</td>\n",
       "      <td>0.0</td>\n",
       "      <td>0.0</td>\n",
       "      <td>0.0</td>\n",
       "      <td>0.0</td>\n",
       "      <td>0.0</td>\n",
       "      <td>0.0</td>\n",
       "      <td>0.0</td>\n",
       "      <td>0.0</td>\n",
       "      <td>0.0</td>\n",
       "      <td>1</td>\n",
       "    </tr>\n",
       "    <tr>\n",
       "      <th>1057434</th>\n",
       "      <td>0.000</td>\n",
       "      <td>1</td>\n",
       "      <td>60</td>\n",
       "      <td>0.0</td>\n",
       "      <td>0.0</td>\n",
       "      <td>0.0</td>\n",
       "      <td>0.0</td>\n",
       "      <td>0.0</td>\n",
       "      <td>0.0</td>\n",
       "      <td>0.0</td>\n",
       "      <td>...</td>\n",
       "      <td>0.0</td>\n",
       "      <td>0.0</td>\n",
       "      <td>0.0</td>\n",
       "      <td>0.0</td>\n",
       "      <td>0.0</td>\n",
       "      <td>0.0</td>\n",
       "      <td>0.0</td>\n",
       "      <td>0.0</td>\n",
       "      <td>0.0</td>\n",
       "      <td>0</td>\n",
       "    </tr>\n",
       "    <tr>\n",
       "      <th>573012</th>\n",
       "      <td>3.164</td>\n",
       "      <td>4</td>\n",
       "      <td>452</td>\n",
       "      <td>0.0</td>\n",
       "      <td>0.0</td>\n",
       "      <td>0.0</td>\n",
       "      <td>0.0</td>\n",
       "      <td>0.0</td>\n",
       "      <td>0.0</td>\n",
       "      <td>0.0</td>\n",
       "      <td>...</td>\n",
       "      <td>0.0</td>\n",
       "      <td>0.0</td>\n",
       "      <td>0.0</td>\n",
       "      <td>0.0</td>\n",
       "      <td>0.0</td>\n",
       "      <td>0.0</td>\n",
       "      <td>0.0</td>\n",
       "      <td>0.0</td>\n",
       "      <td>0.0</td>\n",
       "      <td>0</td>\n",
       "    </tr>\n",
       "  </tbody>\n",
       "</table>\n",
       "<p>8704 rows × 252 columns</p>\n",
       "</div>"
      ],
      "text/plain": [
       "         Duration  Packets  Bytes   A_  CON  ECO  ECR  FAC_  FAU_  FA_  ...  \\\n",
       "451907      0.000        1     60  0.0  0.0  0.0  0.0   0.0   0.0  0.0  ...   \n",
       "799441      0.000        1     71  0.0  0.0  0.0  0.0   0.0   0.0  0.0  ...   \n",
       "400755      0.000        1     74  0.0  0.0  0.0  0.0   0.0   0.0  0.0  ...   \n",
       "858709      0.000        1     73  0.0  0.0  0.0  0.0   0.0   0.0  0.0  ...   \n",
       "533522      3.004        2    124  0.0  0.0  0.0  0.0   0.0   0.0  0.0  ...   \n",
       "...           ...      ...    ...  ...  ...  ...  ...   ...   ...  ...  ...   \n",
       "925335      0.147        3    422  0.0  0.0  0.0  0.0   0.0   0.0  0.0  ...   \n",
       "787396      3.004        2    124  0.0  0.0  0.0  0.0   0.0   0.0  0.0  ...   \n",
       "669353      0.000        1     69  0.0  0.0  0.0  0.0   0.0   0.0  0.0  ...   \n",
       "1057434     0.000        1     60  0.0  0.0  0.0  0.0   0.0   0.0  0.0  ...   \n",
       "573012      3.164        4    452  0.0  0.0  0.0  0.0   0.0   0.0  0.0  ...   \n",
       "\n",
       "         832  843  877   88  888  916   98  993  995  yes/no  \n",
       "451907   0.0  0.0  0.0  0.0  0.0  0.0  0.0  0.0  0.0       0  \n",
       "799441   0.0  0.0  0.0  0.0  0.0  0.0  0.0  0.0  0.0       1  \n",
       "400755   0.0  0.0  0.0  0.0  0.0  0.0  0.0  0.0  0.0       1  \n",
       "858709   0.0  0.0  0.0  0.0  0.0  0.0  0.0  0.0  0.0       0  \n",
       "533522   0.0  0.0  0.0  0.0  0.0  0.0  0.0  0.0  0.0       1  \n",
       "...      ...  ...  ...  ...  ...  ...  ...  ...  ...     ...  \n",
       "925335   0.0  0.0  0.0  0.0  0.0  0.0  0.0  0.0  0.0       0  \n",
       "787396   0.0  0.0  0.0  0.0  0.0  0.0  0.0  0.0  0.0       1  \n",
       "669353   0.0  0.0  0.0  0.0  0.0  0.0  0.0  0.0  0.0       1  \n",
       "1057434  0.0  0.0  0.0  0.0  0.0  0.0  0.0  0.0  0.0       0  \n",
       "573012   0.0  0.0  0.0  0.0  0.0  0.0  0.0  0.0  0.0       0  \n",
       "\n",
       "[8704 rows x 252 columns]"
      ]
     },
     "execution_count": 108,
     "metadata": {},
     "output_type": "execute_result"
    }
   ],
   "source": [
    "# drop un-nessary columns\n",
    "o1=orig.drop(columns=['Label','Flow_Start','Source_IP','Destination_IP','Unnamed: 0'],axis=1)\n",
    "mymap1 = {'yes':1,'no':0}\n",
    "df_cluster = o1.applymap(lambda s: mymap1.get(s) if s in mymap1 else s)\n",
    "df_cluster"
   ]
  },
  {
   "cell_type": "code",
   "execution_count": 109,
   "metadata": {
    "ExecuteTime": {
     "end_time": "2020-04-30T17:30:26.985595Z",
     "start_time": "2020-04-30T17:30:26.903500Z"
    }
   },
   "outputs": [
    {
     "data": {
      "text/html": [
       "<div>\n",
       "<style scoped>\n",
       "    .dataframe tbody tr th:only-of-type {\n",
       "        vertical-align: middle;\n",
       "    }\n",
       "\n",
       "    .dataframe tbody tr th {\n",
       "        vertical-align: top;\n",
       "    }\n",
       "\n",
       "    .dataframe thead th {\n",
       "        text-align: right;\n",
       "    }\n",
       "</style>\n",
       "<table border=\"1\" class=\"dataframe\">\n",
       "  <thead>\n",
       "    <tr style=\"text-align: right;\">\n",
       "      <th></th>\n",
       "      <th>Duration</th>\n",
       "      <th>Packets</th>\n",
       "      <th>Bytes</th>\n",
       "      <th>A_</th>\n",
       "      <th>CON</th>\n",
       "      <th>ECO</th>\n",
       "      <th>ECR</th>\n",
       "      <th>FAC_</th>\n",
       "      <th>FAU_</th>\n",
       "      <th>FA_</th>\n",
       "      <th>...</th>\n",
       "      <th>83</th>\n",
       "      <th>832</th>\n",
       "      <th>843</th>\n",
       "      <th>877</th>\n",
       "      <th>88</th>\n",
       "      <th>888</th>\n",
       "      <th>916</th>\n",
       "      <th>98</th>\n",
       "      <th>993</th>\n",
       "      <th>995</th>\n",
       "    </tr>\n",
       "  </thead>\n",
       "  <tbody>\n",
       "    <tr>\n",
       "      <th>0</th>\n",
       "      <td>0.000000</td>\n",
       "      <td>0.016660</td>\n",
       "      <td>0.999584</td>\n",
       "      <td>0.0</td>\n",
       "      <td>0.0</td>\n",
       "      <td>0.0</td>\n",
       "      <td>0.0</td>\n",
       "      <td>0.0</td>\n",
       "      <td>0.0</td>\n",
       "      <td>0.0</td>\n",
       "      <td>...</td>\n",
       "      <td>0.0</td>\n",
       "      <td>0.0</td>\n",
       "      <td>0.0</td>\n",
       "      <td>0.0</td>\n",
       "      <td>0.0</td>\n",
       "      <td>0.0</td>\n",
       "      <td>0.0</td>\n",
       "      <td>0.0</td>\n",
       "      <td>0.0</td>\n",
       "      <td>0.0</td>\n",
       "    </tr>\n",
       "    <tr>\n",
       "      <th>1</th>\n",
       "      <td>0.000000</td>\n",
       "      <td>0.014076</td>\n",
       "      <td>0.999405</td>\n",
       "      <td>0.0</td>\n",
       "      <td>0.0</td>\n",
       "      <td>0.0</td>\n",
       "      <td>0.0</td>\n",
       "      <td>0.0</td>\n",
       "      <td>0.0</td>\n",
       "      <td>0.0</td>\n",
       "      <td>...</td>\n",
       "      <td>0.0</td>\n",
       "      <td>0.0</td>\n",
       "      <td>0.0</td>\n",
       "      <td>0.0</td>\n",
       "      <td>0.0</td>\n",
       "      <td>0.0</td>\n",
       "      <td>0.0</td>\n",
       "      <td>0.0</td>\n",
       "      <td>0.0</td>\n",
       "      <td>0.0</td>\n",
       "    </tr>\n",
       "    <tr>\n",
       "      <th>2</th>\n",
       "      <td>0.000000</td>\n",
       "      <td>0.013506</td>\n",
       "      <td>0.999453</td>\n",
       "      <td>0.0</td>\n",
       "      <td>0.0</td>\n",
       "      <td>0.0</td>\n",
       "      <td>0.0</td>\n",
       "      <td>0.0</td>\n",
       "      <td>0.0</td>\n",
       "      <td>0.0</td>\n",
       "      <td>...</td>\n",
       "      <td>0.0</td>\n",
       "      <td>0.0</td>\n",
       "      <td>0.0</td>\n",
       "      <td>0.0</td>\n",
       "      <td>0.0</td>\n",
       "      <td>0.0</td>\n",
       "      <td>0.0</td>\n",
       "      <td>0.0</td>\n",
       "      <td>0.0</td>\n",
       "      <td>0.0</td>\n",
       "    </tr>\n",
       "    <tr>\n",
       "      <th>3</th>\n",
       "      <td>0.000000</td>\n",
       "      <td>0.013695</td>\n",
       "      <td>0.999719</td>\n",
       "      <td>0.0</td>\n",
       "      <td>0.0</td>\n",
       "      <td>0.0</td>\n",
       "      <td>0.0</td>\n",
       "      <td>0.0</td>\n",
       "      <td>0.0</td>\n",
       "      <td>0.0</td>\n",
       "      <td>...</td>\n",
       "      <td>0.0</td>\n",
       "      <td>0.0</td>\n",
       "      <td>0.0</td>\n",
       "      <td>0.0</td>\n",
       "      <td>0.0</td>\n",
       "      <td>0.0</td>\n",
       "      <td>0.0</td>\n",
       "      <td>0.0</td>\n",
       "      <td>0.0</td>\n",
       "      <td>0.0</td>\n",
       "    </tr>\n",
       "    <tr>\n",
       "      <th>4</th>\n",
       "      <td>0.024212</td>\n",
       "      <td>0.016120</td>\n",
       "      <td>0.999414</td>\n",
       "      <td>0.0</td>\n",
       "      <td>0.0</td>\n",
       "      <td>0.0</td>\n",
       "      <td>0.0</td>\n",
       "      <td>0.0</td>\n",
       "      <td>0.0</td>\n",
       "      <td>0.0</td>\n",
       "      <td>...</td>\n",
       "      <td>0.0</td>\n",
       "      <td>0.0</td>\n",
       "      <td>0.0</td>\n",
       "      <td>0.0</td>\n",
       "      <td>0.0</td>\n",
       "      <td>0.0</td>\n",
       "      <td>0.0</td>\n",
       "      <td>0.0</td>\n",
       "      <td>0.0</td>\n",
       "      <td>0.0</td>\n",
       "    </tr>\n",
       "  </tbody>\n",
       "</table>\n",
       "<p>5 rows × 251 columns</p>\n",
       "</div>"
      ],
      "text/plain": [
       "   Duration   Packets     Bytes   A_  CON  ECO  ECR  FAC_  FAU_  FA_  ...  \\\n",
       "0  0.000000  0.016660  0.999584  0.0  0.0  0.0  0.0   0.0   0.0  0.0  ...   \n",
       "1  0.000000  0.014076  0.999405  0.0  0.0  0.0  0.0   0.0   0.0  0.0  ...   \n",
       "2  0.000000  0.013506  0.999453  0.0  0.0  0.0  0.0   0.0   0.0  0.0  ...   \n",
       "3  0.000000  0.013695  0.999719  0.0  0.0  0.0  0.0   0.0   0.0  0.0  ...   \n",
       "4  0.024212  0.016120  0.999414  0.0  0.0  0.0  0.0   0.0   0.0  0.0  ...   \n",
       "\n",
       "    83  832  843  877   88  888  916   98  993  995  \n",
       "0  0.0  0.0  0.0  0.0  0.0  0.0  0.0  0.0  0.0  0.0  \n",
       "1  0.0  0.0  0.0  0.0  0.0  0.0  0.0  0.0  0.0  0.0  \n",
       "2  0.0  0.0  0.0  0.0  0.0  0.0  0.0  0.0  0.0  0.0  \n",
       "3  0.0  0.0  0.0  0.0  0.0  0.0  0.0  0.0  0.0  0.0  \n",
       "4  0.0  0.0  0.0  0.0  0.0  0.0  0.0  0.0  0.0  0.0  \n",
       "\n",
       "[5 rows x 251 columns]"
      ]
     },
     "execution_count": 109,
     "metadata": {},
     "output_type": "execute_result"
    }
   ],
   "source": [
    "from scipy.cluster.hierarchy import linkage, dendrogram\n",
    "import matplotlib.pyplot as plt\n",
    "from sklearn.preprocessing import normalize\n",
    "X=df_cluster.drop(columns=['yes/no'],axis=1)\n",
    "data_scaled = normalize(X)\n",
    "data_scaled = pd.DataFrame(data_scaled, columns=X.columns)\n",
    "data_scaled.head()"
   ]
  },
  {
   "cell_type": "markdown",
   "metadata": {},
   "source": [
    "<font color='blue'><font size=3>The x-axis contains the samples and y-axis represents the distance between these samples. The vertical line with maximum distance is the blue line and hence we can decide a threshold of 12 and cut the dendrogram."
   ]
  },
  {
   "cell_type": "code",
   "execution_count": 110,
   "metadata": {
    "ExecuteTime": {
     "end_time": "2020-04-30T17:30:39.349102Z",
     "start_time": "2020-04-30T17:30:26.986591Z"
    }
   },
   "outputs": [],
   "source": [
    "from matplotlib import pyplot as plt\n",
    "from scipy.cluster.hierarchy import dendrogram\n",
    "from sklearn.cluster import AgglomerativeClustering\n",
    "# Create a AgglomerativeClustering model with 2 clusters: model\n",
    "model = AgglomerativeClustering()\n",
    "# Use fit_predict to fit model and obtain cluster labels: labels\n",
    "labels = model.fit_predict(data_scaled)"
   ]
  },
  {
   "cell_type": "code",
   "execution_count": 111,
   "metadata": {
    "ExecuteTime": {
     "end_time": "2020-04-30T17:30:39.360050Z",
     "start_time": "2020-04-30T17:30:39.351071Z"
    }
   },
   "outputs": [
    {
     "data": {
      "text/plain": [
       "array([0, 0, 0, ..., 0, 0, 0], dtype=int64)"
      ]
     },
     "execution_count": 111,
     "metadata": {},
     "output_type": "execute_result"
    }
   ],
   "source": [
    "model.labels_"
   ]
  },
  {
   "cell_type": "code",
   "execution_count": 112,
   "metadata": {
    "ExecuteTime": {
     "end_time": "2020-04-30T17:30:39.467870Z",
     "start_time": "2020-04-30T17:30:39.365036Z"
    }
   },
   "outputs": [
    {
     "data": {
      "text/html": [
       "<div>\n",
       "<style scoped>\n",
       "    .dataframe tbody tr th:only-of-type {\n",
       "        vertical-align: middle;\n",
       "    }\n",
       "\n",
       "    .dataframe tbody tr th {\n",
       "        vertical-align: top;\n",
       "    }\n",
       "\n",
       "    .dataframe thead th {\n",
       "        text-align: right;\n",
       "    }\n",
       "</style>\n",
       "<table border=\"1\" class=\"dataframe\">\n",
       "  <thead>\n",
       "    <tr style=\"text-align: right;\">\n",
       "      <th>class</th>\n",
       "      <th>0</th>\n",
       "      <th>1</th>\n",
       "    </tr>\n",
       "    <tr>\n",
       "      <th>labels</th>\n",
       "      <th></th>\n",
       "      <th></th>\n",
       "    </tr>\n",
       "  </thead>\n",
       "  <tbody>\n",
       "    <tr>\n",
       "      <th>0</th>\n",
       "      <td>4411</td>\n",
       "      <td>2931</td>\n",
       "    </tr>\n",
       "    <tr>\n",
       "      <th>1</th>\n",
       "      <td>0</td>\n",
       "      <td>1362</td>\n",
       "    </tr>\n",
       "  </tbody>\n",
       "</table>\n",
       "</div>"
      ],
      "text/plain": [
       "class      0     1\n",
       "labels            \n",
       "0       4411  2931\n",
       "1          0  1362"
      ]
     },
     "execution_count": 112,
     "metadata": {},
     "output_type": "execute_result"
    }
   ],
   "source": [
    "# Create a DataFrame with labels and class as columns: df\n",
    "df = pd.DataFrame({'labels': labels, 'class': df_cluster['yes/no']})\n",
    "# Create crosstab: ct\n",
    "ct = pd.crosstab(df['labels'], df['class'])\n",
    "# display ct\n",
    "ct"
   ]
  },
  {
   "cell_type": "code",
   "execution_count": 133,
   "metadata": {
    "ExecuteTime": {
     "end_time": "2020-04-30T17:39:46.138757Z",
     "start_time": "2020-04-30T17:39:44.351999Z"
    }
   },
   "outputs": [
    {
     "data": {
      "text/html": [
       "<div>\n",
       "<style scoped>\n",
       "    .dataframe tbody tr th:only-of-type {\n",
       "        vertical-align: middle;\n",
       "    }\n",
       "\n",
       "    .dataframe tbody tr th {\n",
       "        vertical-align: top;\n",
       "    }\n",
       "\n",
       "    .dataframe thead th {\n",
       "        text-align: right;\n",
       "    }\n",
       "</style>\n",
       "<table border=\"1\" class=\"dataframe\">\n",
       "  <thead>\n",
       "    <tr style=\"text-align: right;\">\n",
       "      <th>class</th>\n",
       "      <th>0</th>\n",
       "      <th>1</th>\n",
       "    </tr>\n",
       "    <tr>\n",
       "      <th>labels</th>\n",
       "      <th></th>\n",
       "      <th></th>\n",
       "    </tr>\n",
       "  </thead>\n",
       "  <tbody>\n",
       "    <tr>\n",
       "      <th>0</th>\n",
       "      <td>4407</td>\n",
       "      <td>4293</td>\n",
       "    </tr>\n",
       "    <tr>\n",
       "      <th>1</th>\n",
       "      <td>4</td>\n",
       "      <td>0</td>\n",
       "    </tr>\n",
       "  </tbody>\n",
       "</table>\n",
       "</div>"
      ],
      "text/plain": [
       "class      0     1\n",
       "labels            \n",
       "0       4407  4293\n",
       "1          4     0"
      ]
     },
     "execution_count": 133,
     "metadata": {},
     "output_type": "execute_result"
    }
   ],
   "source": [
    "from sklearn.preprocessing import MinMaxScaler\n",
    "from sklearn.cluster import KMeans\n",
    "X=df_cluster.drop(columns=['yes/no'],axis=1)\n",
    "data_scaled = normalize(X)\n",
    "y = df_cluster['yes/no']\n",
    "X_train, X_test, y_train, y_test = train_test_split(X, y, test_size=.3,random_state=42)\n",
    "scaler_minmax = MinMaxScaler()\n",
    "scaler_minmax.fit(X_train)\n",
    "scaler_minmax.fit(X_test)\n",
    "kmeans = KMeans(n_clusters = 2).fit(df_cluster)\n",
    "labels=kmeans.fit_predict(df_cluster)\n",
    "kmeans =pd.DataFrame(kmeans.labels_)\n",
    "\n",
    "kmeans.columns = [\"KMeans\"]\n",
    "kmeans = kmeans['KMeans']\n",
    "df2=df_cluster.reset_index().drop('index', axis=1)\n",
    "for index, row in df2.iterrows():\n",
    "    df2.at[index, 'KMeans'] = kmeans[index]\n",
    "key = df2[['yes/no', 'KMeans']]\n",
    "cm = pd.DataFrame({'labels':labels, 'class':df2['yes/no']})\n",
    "pd.crosstab(cm['labels'], cm['class'])"
   ]
  },
  {
   "cell_type": "code",
   "execution_count": 134,
   "metadata": {
    "ExecuteTime": {
     "end_time": "2020-04-30T17:42:02.479111Z",
     "start_time": "2020-04-30T17:41:59.581191Z"
    }
   },
   "outputs": [
    {
     "name": "stdout",
     "output_type": "stream",
     "text": [
      "DBSCAN  yes/no\n",
      "0.0     0         4411\n",
      "        1         4293\n",
      "dtype: int64\n"
     ]
    }
   ],
   "source": [
    "from sklearn.cluster import DBSCAN \n",
    "clustering = DBSCAN(eps=3, min_samples=2).fit(df)\n",
    "dbs = DBSCAN(eps=2, min_samples=3500).fit(df)\n",
    "kmeans =pd.DataFrame(dbs.labels_)\n",
    "kmeans.columns = [\"DBSCAN\"]\n",
    "kmeans = kmeans['DBSCAN']\n",
    "df2=df_cluster.reset_index().drop('index', axis=1)\n",
    "for index, row in df2.iterrows():\n",
    "    df2.at[index, 'DBSCAN'] = kmeans[index]\n",
    "key = df2[['yes/no', 'DBSCAN']]\n",
    "print(df2.groupby([\"DBSCAN\", \"yes/no\"]).size())"
   ]
  },
  {
   "cell_type": "code",
   "execution_count": 135,
   "metadata": {
    "ExecuteTime": {
     "end_time": "2020-04-30T17:42:19.910803Z",
     "start_time": "2020-04-30T17:42:19.358423Z"
    }
   },
   "outputs": [
    {
     "name": "stdout",
     "output_type": "stream",
     "text": [
      "1.0\n"
     ]
    }
   ],
   "source": [
    "from sklearn.ensemble import BaggingClassifier\n",
    "clf = BaggingClassifier(n_estimators=10).fit(X_train, y_train)\n",
    "print(clf.score(X_test, y_test))\n",
    "    #default estimator isn't that bad"
   ]
  },
  {
   "cell_type": "markdown",
   "metadata": {},
   "source": [
    "## Naive Bayes Classifiers (taking out source city and country with balancing data)"
   ]
  },
  {
   "cell_type": "code",
   "execution_count": 113,
   "metadata": {
    "ExecuteTime": {
     "end_time": "2020-04-30T17:30:39.936623Z",
     "start_time": "2020-04-30T17:30:39.468857Z"
    }
   },
   "outputs": [
    {
     "data": {
      "text/html": [
       "<div>\n",
       "<style scoped>\n",
       "    .dataframe tbody tr th:only-of-type {\n",
       "        vertical-align: middle;\n",
       "    }\n",
       "\n",
       "    .dataframe tbody tr th {\n",
       "        vertical-align: top;\n",
       "    }\n",
       "\n",
       "    .dataframe thead th {\n",
       "        text-align: right;\n",
       "    }\n",
       "</style>\n",
       "<table border=\"1\" class=\"dataframe\">\n",
       "  <thead>\n",
       "    <tr style=\"text-align: right;\">\n",
       "      <th></th>\n",
       "      <th>Unnamed: 0</th>\n",
       "      <th>Flow_Start</th>\n",
       "      <th>Source_IP</th>\n",
       "      <th>Destination_IP</th>\n",
       "      <th>Duration</th>\n",
       "      <th>Packets</th>\n",
       "      <th>Bytes</th>\n",
       "      <th>Label</th>\n",
       "      <th>A_</th>\n",
       "      <th>CON</th>\n",
       "      <th>...</th>\n",
       "      <th>832</th>\n",
       "      <th>843</th>\n",
       "      <th>877</th>\n",
       "      <th>88</th>\n",
       "      <th>888</th>\n",
       "      <th>916</th>\n",
       "      <th>98</th>\n",
       "      <th>993</th>\n",
       "      <th>995</th>\n",
       "      <th>yes/no</th>\n",
       "    </tr>\n",
       "  </thead>\n",
       "  <tbody>\n",
       "    <tr>\n",
       "      <th>0</th>\n",
       "      <td>4117</td>\n",
       "      <td>17:13:56.723</td>\n",
       "      <td>64.12.175.136</td>\n",
       "      <td>147.32.84.165</td>\n",
       "      <td>0.000</td>\n",
       "      <td>1</td>\n",
       "      <td>263</td>\n",
       "      <td>Botnet</td>\n",
       "      <td>0.0</td>\n",
       "      <td>0.0</td>\n",
       "      <td>...</td>\n",
       "      <td>0.0</td>\n",
       "      <td>0.0</td>\n",
       "      <td>0.0</td>\n",
       "      <td>0.0</td>\n",
       "      <td>0.0</td>\n",
       "      <td>0.0</td>\n",
       "      <td>0.0</td>\n",
       "      <td>0.0</td>\n",
       "      <td>0.0</td>\n",
       "      <td>yes</td>\n",
       "    </tr>\n",
       "    <tr>\n",
       "      <th>1</th>\n",
       "      <td>6269</td>\n",
       "      <td>17:14:06.078</td>\n",
       "      <td>212.117.171.138</td>\n",
       "      <td>147.32.84.165</td>\n",
       "      <td>0.000</td>\n",
       "      <td>1</td>\n",
       "      <td>66</td>\n",
       "      <td>Botnet</td>\n",
       "      <td>0.0</td>\n",
       "      <td>0.0</td>\n",
       "      <td>...</td>\n",
       "      <td>0.0</td>\n",
       "      <td>0.0</td>\n",
       "      <td>0.0</td>\n",
       "      <td>0.0</td>\n",
       "      <td>0.0</td>\n",
       "      <td>0.0</td>\n",
       "      <td>0.0</td>\n",
       "      <td>0.0</td>\n",
       "      <td>0.0</td>\n",
       "      <td>yes</td>\n",
       "    </tr>\n",
       "    <tr>\n",
       "      <th>2</th>\n",
       "      <td>8919</td>\n",
       "      <td>17:14:17.100</td>\n",
       "      <td>94.63.149.150</td>\n",
       "      <td>147.32.84.165</td>\n",
       "      <td>2.712</td>\n",
       "      <td>4</td>\n",
       "      <td>256</td>\n",
       "      <td>Botnet</td>\n",
       "      <td>0.0</td>\n",
       "      <td>0.0</td>\n",
       "      <td>...</td>\n",
       "      <td>0.0</td>\n",
       "      <td>0.0</td>\n",
       "      <td>0.0</td>\n",
       "      <td>0.0</td>\n",
       "      <td>0.0</td>\n",
       "      <td>0.0</td>\n",
       "      <td>0.0</td>\n",
       "      <td>0.0</td>\n",
       "      <td>0.0</td>\n",
       "      <td>yes</td>\n",
       "    </tr>\n",
       "    <tr>\n",
       "      <th>3</th>\n",
       "      <td>10127</td>\n",
       "      <td>17:14:22.915</td>\n",
       "      <td>94.63.149.150</td>\n",
       "      <td>147.32.84.165</td>\n",
       "      <td>0.000</td>\n",
       "      <td>1</td>\n",
       "      <td>64</td>\n",
       "      <td>Botnet</td>\n",
       "      <td>0.0</td>\n",
       "      <td>0.0</td>\n",
       "      <td>...</td>\n",
       "      <td>0.0</td>\n",
       "      <td>0.0</td>\n",
       "      <td>0.0</td>\n",
       "      <td>0.0</td>\n",
       "      <td>0.0</td>\n",
       "      <td>0.0</td>\n",
       "      <td>0.0</td>\n",
       "      <td>0.0</td>\n",
       "      <td>0.0</td>\n",
       "      <td>yes</td>\n",
       "    </tr>\n",
       "    <tr>\n",
       "      <th>4</th>\n",
       "      <td>11546</td>\n",
       "      <td>17:14:29.123</td>\n",
       "      <td>94.63.149.150</td>\n",
       "      <td>147.32.84.165</td>\n",
       "      <td>0.000</td>\n",
       "      <td>1</td>\n",
       "      <td>64</td>\n",
       "      <td>Botnet</td>\n",
       "      <td>0.0</td>\n",
       "      <td>0.0</td>\n",
       "      <td>...</td>\n",
       "      <td>0.0</td>\n",
       "      <td>0.0</td>\n",
       "      <td>0.0</td>\n",
       "      <td>0.0</td>\n",
       "      <td>0.0</td>\n",
       "      <td>0.0</td>\n",
       "      <td>0.0</td>\n",
       "      <td>0.0</td>\n",
       "      <td>0.0</td>\n",
       "      <td>yes</td>\n",
       "    </tr>\n",
       "    <tr>\n",
       "      <th>...</th>\n",
       "      <td>...</td>\n",
       "      <td>...</td>\n",
       "      <td>...</td>\n",
       "      <td>...</td>\n",
       "      <td>...</td>\n",
       "      <td>...</td>\n",
       "      <td>...</td>\n",
       "      <td>...</td>\n",
       "      <td>...</td>\n",
       "      <td>...</td>\n",
       "      <td>...</td>\n",
       "      <td>...</td>\n",
       "      <td>...</td>\n",
       "      <td>...</td>\n",
       "      <td>...</td>\n",
       "      <td>...</td>\n",
       "      <td>...</td>\n",
       "      <td>...</td>\n",
       "      <td>...</td>\n",
       "      <td>...</td>\n",
       "      <td>...</td>\n",
       "    </tr>\n",
       "    <tr>\n",
       "      <th>43515</th>\n",
       "      <td>937125</td>\n",
       "      <td>18:37:34.662</td>\n",
       "      <td>213.110.89.63</td>\n",
       "      <td>147.32.84.229</td>\n",
       "      <td>0.000</td>\n",
       "      <td>1</td>\n",
       "      <td>66</td>\n",
       "      <td>Background</td>\n",
       "      <td>0.0</td>\n",
       "      <td>0.0</td>\n",
       "      <td>...</td>\n",
       "      <td>0.0</td>\n",
       "      <td>0.0</td>\n",
       "      <td>0.0</td>\n",
       "      <td>0.0</td>\n",
       "      <td>0.0</td>\n",
       "      <td>0.0</td>\n",
       "      <td>0.0</td>\n",
       "      <td>0.0</td>\n",
       "      <td>0.0</td>\n",
       "      <td>no</td>\n",
       "    </tr>\n",
       "    <tr>\n",
       "      <th>43516</th>\n",
       "      <td>58713</td>\n",
       "      <td>17:18:02.785</td>\n",
       "      <td>147.32.84.229</td>\n",
       "      <td>201.250.104.62</td>\n",
       "      <td>0.000</td>\n",
       "      <td>3</td>\n",
       "      <td>2969</td>\n",
       "      <td>Background</td>\n",
       "      <td>0.0</td>\n",
       "      <td>0.0</td>\n",
       "      <td>...</td>\n",
       "      <td>0.0</td>\n",
       "      <td>0.0</td>\n",
       "      <td>0.0</td>\n",
       "      <td>0.0</td>\n",
       "      <td>0.0</td>\n",
       "      <td>0.0</td>\n",
       "      <td>0.0</td>\n",
       "      <td>0.0</td>\n",
       "      <td>0.0</td>\n",
       "      <td>no</td>\n",
       "    </tr>\n",
       "    <tr>\n",
       "      <th>43517</th>\n",
       "      <td>87402</td>\n",
       "      <td>17:20:15.670</td>\n",
       "      <td>147.32.84.229</td>\n",
       "      <td>107.3.105.226</td>\n",
       "      <td>0.000</td>\n",
       "      <td>1</td>\n",
       "      <td>74</td>\n",
       "      <td>Background</td>\n",
       "      <td>0.0</td>\n",
       "      <td>0.0</td>\n",
       "      <td>...</td>\n",
       "      <td>0.0</td>\n",
       "      <td>0.0</td>\n",
       "      <td>0.0</td>\n",
       "      <td>0.0</td>\n",
       "      <td>0.0</td>\n",
       "      <td>0.0</td>\n",
       "      <td>0.0</td>\n",
       "      <td>0.0</td>\n",
       "      <td>0.0</td>\n",
       "      <td>no</td>\n",
       "    </tr>\n",
       "    <tr>\n",
       "      <th>43518</th>\n",
       "      <td>877661</td>\n",
       "      <td>18:31:51.521</td>\n",
       "      <td>77.233.5.72</td>\n",
       "      <td>147.32.84.229</td>\n",
       "      <td>0.000</td>\n",
       "      <td>1</td>\n",
       "      <td>80</td>\n",
       "      <td>Background</td>\n",
       "      <td>0.0</td>\n",
       "      <td>0.0</td>\n",
       "      <td>...</td>\n",
       "      <td>0.0</td>\n",
       "      <td>0.0</td>\n",
       "      <td>0.0</td>\n",
       "      <td>0.0</td>\n",
       "      <td>0.0</td>\n",
       "      <td>0.0</td>\n",
       "      <td>0.0</td>\n",
       "      <td>0.0</td>\n",
       "      <td>0.0</td>\n",
       "      <td>no</td>\n",
       "    </tr>\n",
       "    <tr>\n",
       "      <th>43519</th>\n",
       "      <td>823910</td>\n",
       "      <td>18:26:34.854</td>\n",
       "      <td>147.32.84.184</td>\n",
       "      <td>62.168.92.250</td>\n",
       "      <td>4.798</td>\n",
       "      <td>55</td>\n",
       "      <td>3300</td>\n",
       "      <td>Background</td>\n",
       "      <td>1.0</td>\n",
       "      <td>0.0</td>\n",
       "      <td>...</td>\n",
       "      <td>0.0</td>\n",
       "      <td>0.0</td>\n",
       "      <td>0.0</td>\n",
       "      <td>0.0</td>\n",
       "      <td>0.0</td>\n",
       "      <td>0.0</td>\n",
       "      <td>0.0</td>\n",
       "      <td>0.0</td>\n",
       "      <td>0.0</td>\n",
       "      <td>no</td>\n",
       "    </tr>\n",
       "  </tbody>\n",
       "</table>\n",
       "<p>43520 rows × 141 columns</p>\n",
       "</div>"
      ],
      "text/plain": [
       "       Unnamed: 0    Flow_Start        Source_IP  Destination_IP  Duration  \\\n",
       "0            4117  17:13:56.723    64.12.175.136   147.32.84.165     0.000   \n",
       "1            6269  17:14:06.078  212.117.171.138   147.32.84.165     0.000   \n",
       "2            8919  17:14:17.100    94.63.149.150   147.32.84.165     2.712   \n",
       "3           10127  17:14:22.915    94.63.149.150   147.32.84.165     0.000   \n",
       "4           11546  17:14:29.123    94.63.149.150   147.32.84.165     0.000   \n",
       "...           ...           ...              ...             ...       ...   \n",
       "43515      937125  18:37:34.662    213.110.89.63   147.32.84.229     0.000   \n",
       "43516       58713  17:18:02.785    147.32.84.229  201.250.104.62     0.000   \n",
       "43517       87402  17:20:15.670    147.32.84.229   107.3.105.226     0.000   \n",
       "43518      877661  18:31:51.521      77.233.5.72   147.32.84.229     0.000   \n",
       "43519      823910  18:26:34.854    147.32.84.184   62.168.92.250     4.798   \n",
       "\n",
       "       Packets  Bytes       Label   A_  CON  ...  832  843  877   88  888  \\\n",
       "0            1    263      Botnet  0.0  0.0  ...  0.0  0.0  0.0  0.0  0.0   \n",
       "1            1     66      Botnet  0.0  0.0  ...  0.0  0.0  0.0  0.0  0.0   \n",
       "2            4    256      Botnet  0.0  0.0  ...  0.0  0.0  0.0  0.0  0.0   \n",
       "3            1     64      Botnet  0.0  0.0  ...  0.0  0.0  0.0  0.0  0.0   \n",
       "4            1     64      Botnet  0.0  0.0  ...  0.0  0.0  0.0  0.0  0.0   \n",
       "...        ...    ...         ...  ...  ...  ...  ...  ...  ...  ...  ...   \n",
       "43515        1     66  Background  0.0  0.0  ...  0.0  0.0  0.0  0.0  0.0   \n",
       "43516        3   2969  Background  0.0  0.0  ...  0.0  0.0  0.0  0.0  0.0   \n",
       "43517        1     74  Background  0.0  0.0  ...  0.0  0.0  0.0  0.0  0.0   \n",
       "43518        1     80  Background  0.0  0.0  ...  0.0  0.0  0.0  0.0  0.0   \n",
       "43519       55   3300  Background  1.0  0.0  ...  0.0  0.0  0.0  0.0  0.0   \n",
       "\n",
       "       916   98  993  995  yes/no  \n",
       "0      0.0  0.0  0.0  0.0     yes  \n",
       "1      0.0  0.0  0.0  0.0     yes  \n",
       "2      0.0  0.0  0.0  0.0     yes  \n",
       "3      0.0  0.0  0.0  0.0     yes  \n",
       "4      0.0  0.0  0.0  0.0     yes  \n",
       "...    ...  ...  ...  ...     ...  \n",
       "43515  0.0  0.0  0.0  0.0      no  \n",
       "43516  0.0  0.0  0.0  0.0      no  \n",
       "43517  0.0  0.0  0.0  0.0      no  \n",
       "43518  0.0  0.0  0.0  0.0      no  \n",
       "43519  0.0  0.0  0.0  0.0      no  \n",
       "\n",
       "[43520 rows x 141 columns]"
      ]
     },
     "execution_count": 113,
     "metadata": {},
     "output_type": "execute_result"
    }
   ],
   "source": [
    "# read csv dataset1 without_sourcecity down-sampling\n",
    "dsampled_no_city = pd.read_csv(r'dataset1_without_sourcecity.csv')\n",
    "dsampled_no_city"
   ]
  },
  {
   "cell_type": "code",
   "execution_count": 114,
   "metadata": {
    "ExecuteTime": {
     "end_time": "2020-04-30T17:30:40.001450Z",
     "start_time": "2020-04-30T17:30:39.937621Z"
    }
   },
   "outputs": [
    {
     "data": {
      "text/html": [
       "<div>\n",
       "<style scoped>\n",
       "    .dataframe tbody tr th:only-of-type {\n",
       "        vertical-align: middle;\n",
       "    }\n",
       "\n",
       "    .dataframe tbody tr th {\n",
       "        vertical-align: top;\n",
       "    }\n",
       "\n",
       "    .dataframe thead th {\n",
       "        text-align: right;\n",
       "    }\n",
       "</style>\n",
       "<table border=\"1\" class=\"dataframe\">\n",
       "  <thead>\n",
       "    <tr style=\"text-align: right;\">\n",
       "      <th></th>\n",
       "      <th>Duration</th>\n",
       "      <th>Packets</th>\n",
       "      <th>Bytes</th>\n",
       "      <th>A_</th>\n",
       "      <th>CON</th>\n",
       "      <th>ECO</th>\n",
       "      <th>ECR</th>\n",
       "      <th>FAC_</th>\n",
       "      <th>FAU_</th>\n",
       "      <th>FA_</th>\n",
       "      <th>...</th>\n",
       "      <th>832</th>\n",
       "      <th>843</th>\n",
       "      <th>877</th>\n",
       "      <th>88</th>\n",
       "      <th>888</th>\n",
       "      <th>916</th>\n",
       "      <th>98</th>\n",
       "      <th>993</th>\n",
       "      <th>995</th>\n",
       "      <th>yes/no</th>\n",
       "    </tr>\n",
       "  </thead>\n",
       "  <tbody>\n",
       "    <tr>\n",
       "      <th>0</th>\n",
       "      <td>0.000</td>\n",
       "      <td>1</td>\n",
       "      <td>263</td>\n",
       "      <td>0.0</td>\n",
       "      <td>0.0</td>\n",
       "      <td>0.0</td>\n",
       "      <td>0.0</td>\n",
       "      <td>0.0</td>\n",
       "      <td>0.0</td>\n",
       "      <td>0.0</td>\n",
       "      <td>...</td>\n",
       "      <td>0.0</td>\n",
       "      <td>0.0</td>\n",
       "      <td>0.0</td>\n",
       "      <td>0.0</td>\n",
       "      <td>0.0</td>\n",
       "      <td>0.0</td>\n",
       "      <td>0.0</td>\n",
       "      <td>0.0</td>\n",
       "      <td>0.0</td>\n",
       "      <td>yes</td>\n",
       "    </tr>\n",
       "    <tr>\n",
       "      <th>1</th>\n",
       "      <td>0.000</td>\n",
       "      <td>1</td>\n",
       "      <td>66</td>\n",
       "      <td>0.0</td>\n",
       "      <td>0.0</td>\n",
       "      <td>0.0</td>\n",
       "      <td>0.0</td>\n",
       "      <td>0.0</td>\n",
       "      <td>0.0</td>\n",
       "      <td>0.0</td>\n",
       "      <td>...</td>\n",
       "      <td>0.0</td>\n",
       "      <td>0.0</td>\n",
       "      <td>0.0</td>\n",
       "      <td>0.0</td>\n",
       "      <td>0.0</td>\n",
       "      <td>0.0</td>\n",
       "      <td>0.0</td>\n",
       "      <td>0.0</td>\n",
       "      <td>0.0</td>\n",
       "      <td>yes</td>\n",
       "    </tr>\n",
       "    <tr>\n",
       "      <th>2</th>\n",
       "      <td>2.712</td>\n",
       "      <td>4</td>\n",
       "      <td>256</td>\n",
       "      <td>0.0</td>\n",
       "      <td>0.0</td>\n",
       "      <td>0.0</td>\n",
       "      <td>0.0</td>\n",
       "      <td>0.0</td>\n",
       "      <td>0.0</td>\n",
       "      <td>0.0</td>\n",
       "      <td>...</td>\n",
       "      <td>0.0</td>\n",
       "      <td>0.0</td>\n",
       "      <td>0.0</td>\n",
       "      <td>0.0</td>\n",
       "      <td>0.0</td>\n",
       "      <td>0.0</td>\n",
       "      <td>0.0</td>\n",
       "      <td>0.0</td>\n",
       "      <td>0.0</td>\n",
       "      <td>yes</td>\n",
       "    </tr>\n",
       "    <tr>\n",
       "      <th>3</th>\n",
       "      <td>0.000</td>\n",
       "      <td>1</td>\n",
       "      <td>64</td>\n",
       "      <td>0.0</td>\n",
       "      <td>0.0</td>\n",
       "      <td>0.0</td>\n",
       "      <td>0.0</td>\n",
       "      <td>0.0</td>\n",
       "      <td>0.0</td>\n",
       "      <td>0.0</td>\n",
       "      <td>...</td>\n",
       "      <td>0.0</td>\n",
       "      <td>0.0</td>\n",
       "      <td>0.0</td>\n",
       "      <td>0.0</td>\n",
       "      <td>0.0</td>\n",
       "      <td>0.0</td>\n",
       "      <td>0.0</td>\n",
       "      <td>0.0</td>\n",
       "      <td>0.0</td>\n",
       "      <td>yes</td>\n",
       "    </tr>\n",
       "    <tr>\n",
       "      <th>4</th>\n",
       "      <td>0.000</td>\n",
       "      <td>1</td>\n",
       "      <td>64</td>\n",
       "      <td>0.0</td>\n",
       "      <td>0.0</td>\n",
       "      <td>0.0</td>\n",
       "      <td>0.0</td>\n",
       "      <td>0.0</td>\n",
       "      <td>0.0</td>\n",
       "      <td>0.0</td>\n",
       "      <td>...</td>\n",
       "      <td>0.0</td>\n",
       "      <td>0.0</td>\n",
       "      <td>0.0</td>\n",
       "      <td>0.0</td>\n",
       "      <td>0.0</td>\n",
       "      <td>0.0</td>\n",
       "      <td>0.0</td>\n",
       "      <td>0.0</td>\n",
       "      <td>0.0</td>\n",
       "      <td>yes</td>\n",
       "    </tr>\n",
       "    <tr>\n",
       "      <th>...</th>\n",
       "      <td>...</td>\n",
       "      <td>...</td>\n",
       "      <td>...</td>\n",
       "      <td>...</td>\n",
       "      <td>...</td>\n",
       "      <td>...</td>\n",
       "      <td>...</td>\n",
       "      <td>...</td>\n",
       "      <td>...</td>\n",
       "      <td>...</td>\n",
       "      <td>...</td>\n",
       "      <td>...</td>\n",
       "      <td>...</td>\n",
       "      <td>...</td>\n",
       "      <td>...</td>\n",
       "      <td>...</td>\n",
       "      <td>...</td>\n",
       "      <td>...</td>\n",
       "      <td>...</td>\n",
       "      <td>...</td>\n",
       "      <td>...</td>\n",
       "    </tr>\n",
       "    <tr>\n",
       "      <th>43515</th>\n",
       "      <td>0.000</td>\n",
       "      <td>1</td>\n",
       "      <td>66</td>\n",
       "      <td>0.0</td>\n",
       "      <td>0.0</td>\n",
       "      <td>0.0</td>\n",
       "      <td>0.0</td>\n",
       "      <td>0.0</td>\n",
       "      <td>0.0</td>\n",
       "      <td>0.0</td>\n",
       "      <td>...</td>\n",
       "      <td>0.0</td>\n",
       "      <td>0.0</td>\n",
       "      <td>0.0</td>\n",
       "      <td>0.0</td>\n",
       "      <td>0.0</td>\n",
       "      <td>0.0</td>\n",
       "      <td>0.0</td>\n",
       "      <td>0.0</td>\n",
       "      <td>0.0</td>\n",
       "      <td>no</td>\n",
       "    </tr>\n",
       "    <tr>\n",
       "      <th>43516</th>\n",
       "      <td>0.000</td>\n",
       "      <td>3</td>\n",
       "      <td>2969</td>\n",
       "      <td>0.0</td>\n",
       "      <td>0.0</td>\n",
       "      <td>0.0</td>\n",
       "      <td>0.0</td>\n",
       "      <td>0.0</td>\n",
       "      <td>0.0</td>\n",
       "      <td>0.0</td>\n",
       "      <td>...</td>\n",
       "      <td>0.0</td>\n",
       "      <td>0.0</td>\n",
       "      <td>0.0</td>\n",
       "      <td>0.0</td>\n",
       "      <td>0.0</td>\n",
       "      <td>0.0</td>\n",
       "      <td>0.0</td>\n",
       "      <td>0.0</td>\n",
       "      <td>0.0</td>\n",
       "      <td>no</td>\n",
       "    </tr>\n",
       "    <tr>\n",
       "      <th>43517</th>\n",
       "      <td>0.000</td>\n",
       "      <td>1</td>\n",
       "      <td>74</td>\n",
       "      <td>0.0</td>\n",
       "      <td>0.0</td>\n",
       "      <td>0.0</td>\n",
       "      <td>0.0</td>\n",
       "      <td>0.0</td>\n",
       "      <td>0.0</td>\n",
       "      <td>0.0</td>\n",
       "      <td>...</td>\n",
       "      <td>0.0</td>\n",
       "      <td>0.0</td>\n",
       "      <td>0.0</td>\n",
       "      <td>0.0</td>\n",
       "      <td>0.0</td>\n",
       "      <td>0.0</td>\n",
       "      <td>0.0</td>\n",
       "      <td>0.0</td>\n",
       "      <td>0.0</td>\n",
       "      <td>no</td>\n",
       "    </tr>\n",
       "    <tr>\n",
       "      <th>43518</th>\n",
       "      <td>0.000</td>\n",
       "      <td>1</td>\n",
       "      <td>80</td>\n",
       "      <td>0.0</td>\n",
       "      <td>0.0</td>\n",
       "      <td>0.0</td>\n",
       "      <td>0.0</td>\n",
       "      <td>0.0</td>\n",
       "      <td>0.0</td>\n",
       "      <td>0.0</td>\n",
       "      <td>...</td>\n",
       "      <td>0.0</td>\n",
       "      <td>0.0</td>\n",
       "      <td>0.0</td>\n",
       "      <td>0.0</td>\n",
       "      <td>0.0</td>\n",
       "      <td>0.0</td>\n",
       "      <td>0.0</td>\n",
       "      <td>0.0</td>\n",
       "      <td>0.0</td>\n",
       "      <td>no</td>\n",
       "    </tr>\n",
       "    <tr>\n",
       "      <th>43519</th>\n",
       "      <td>4.798</td>\n",
       "      <td>55</td>\n",
       "      <td>3300</td>\n",
       "      <td>1.0</td>\n",
       "      <td>0.0</td>\n",
       "      <td>0.0</td>\n",
       "      <td>0.0</td>\n",
       "      <td>0.0</td>\n",
       "      <td>0.0</td>\n",
       "      <td>0.0</td>\n",
       "      <td>...</td>\n",
       "      <td>0.0</td>\n",
       "      <td>0.0</td>\n",
       "      <td>0.0</td>\n",
       "      <td>0.0</td>\n",
       "      <td>0.0</td>\n",
       "      <td>0.0</td>\n",
       "      <td>0.0</td>\n",
       "      <td>0.0</td>\n",
       "      <td>0.0</td>\n",
       "      <td>no</td>\n",
       "    </tr>\n",
       "  </tbody>\n",
       "</table>\n",
       "<p>43520 rows × 136 columns</p>\n",
       "</div>"
      ],
      "text/plain": [
       "       Duration  Packets  Bytes   A_  CON  ECO  ECR  FAC_  FAU_  FA_  ...  \\\n",
       "0         0.000        1    263  0.0  0.0  0.0  0.0   0.0   0.0  0.0  ...   \n",
       "1         0.000        1     66  0.0  0.0  0.0  0.0   0.0   0.0  0.0  ...   \n",
       "2         2.712        4    256  0.0  0.0  0.0  0.0   0.0   0.0  0.0  ...   \n",
       "3         0.000        1     64  0.0  0.0  0.0  0.0   0.0   0.0  0.0  ...   \n",
       "4         0.000        1     64  0.0  0.0  0.0  0.0   0.0   0.0  0.0  ...   \n",
       "...         ...      ...    ...  ...  ...  ...  ...   ...   ...  ...  ...   \n",
       "43515     0.000        1     66  0.0  0.0  0.0  0.0   0.0   0.0  0.0  ...   \n",
       "43516     0.000        3   2969  0.0  0.0  0.0  0.0   0.0   0.0  0.0  ...   \n",
       "43517     0.000        1     74  0.0  0.0  0.0  0.0   0.0   0.0  0.0  ...   \n",
       "43518     0.000        1     80  0.0  0.0  0.0  0.0   0.0   0.0  0.0  ...   \n",
       "43519     4.798       55   3300  1.0  0.0  0.0  0.0   0.0   0.0  0.0  ...   \n",
       "\n",
       "       832  843  877   88  888  916   98  993  995  yes/no  \n",
       "0      0.0  0.0  0.0  0.0  0.0  0.0  0.0  0.0  0.0     yes  \n",
       "1      0.0  0.0  0.0  0.0  0.0  0.0  0.0  0.0  0.0     yes  \n",
       "2      0.0  0.0  0.0  0.0  0.0  0.0  0.0  0.0  0.0     yes  \n",
       "3      0.0  0.0  0.0  0.0  0.0  0.0  0.0  0.0  0.0     yes  \n",
       "4      0.0  0.0  0.0  0.0  0.0  0.0  0.0  0.0  0.0     yes  \n",
       "...    ...  ...  ...  ...  ...  ...  ...  ...  ...     ...  \n",
       "43515  0.0  0.0  0.0  0.0  0.0  0.0  0.0  0.0  0.0      no  \n",
       "43516  0.0  0.0  0.0  0.0  0.0  0.0  0.0  0.0  0.0      no  \n",
       "43517  0.0  0.0  0.0  0.0  0.0  0.0  0.0  0.0  0.0      no  \n",
       "43518  0.0  0.0  0.0  0.0  0.0  0.0  0.0  0.0  0.0      no  \n",
       "43519  0.0  0.0  0.0  0.0  0.0  0.0  0.0  0.0  0.0      no  \n",
       "\n",
       "[43520 rows x 136 columns]"
      ]
     },
     "execution_count": 114,
     "metadata": {},
     "output_type": "execute_result"
    }
   ],
   "source": [
    "dsampled_no_city=dsampled_no_city.drop(columns=['Flow_Start', 'Source_IP', 'Destination_IP','Label','Unnamed: 0'],axis=1)\n",
    "dsampled_no_city"
   ]
  },
  {
   "cell_type": "code",
   "execution_count": 115,
   "metadata": {
    "ExecuteTime": {
     "end_time": "2020-04-30T17:30:40.100218Z",
     "start_time": "2020-04-30T17:30:40.002448Z"
    }
   },
   "outputs": [],
   "source": [
    "#Import Gaussian Naive Bayes model\n",
    "from sklearn.naive_bayes import GaussianNB\n",
    "\n",
    "from sklearn import metrics\n",
    "from sklearn.model_selection import train_test_split\n",
    "X_train, X_test, y_train, y_test = train_test_split(dsampled_no_city.drop('yes/no',axis=1), dsampled_no_city['yes/no'], test_size=0.2, random_state=101)"
   ]
  },
  {
   "cell_type": "code",
   "execution_count": 116,
   "metadata": {
    "ExecuteTime": {
     "end_time": "2020-04-30T17:30:40.353510Z",
     "start_time": "2020-04-30T17:30:40.101185Z"
    }
   },
   "outputs": [
    {
     "data": {
      "text/plain": [
       "GaussianNB(priors=None, var_smoothing=1e-09)"
      ]
     },
     "execution_count": 116,
     "metadata": {},
     "output_type": "execute_result"
    }
   ],
   "source": [
    "#Create a Gaussian Classifier\n",
    "model = GaussianNB()\n",
    "\n",
    "# Train the model using the training sets\n",
    "model.fit(X_train, y_train)"
   ]
  },
  {
   "cell_type": "code",
   "execution_count": 117,
   "metadata": {
    "ExecuteTime": {
     "end_time": "2020-04-30T17:30:40.416355Z",
     "start_time": "2020-04-30T17:30:40.355505Z"
    }
   },
   "outputs": [
    {
     "data": {
      "text/plain": [
       "0.521484375"
      ]
     },
     "execution_count": 117,
     "metadata": {},
     "output_type": "execute_result"
    }
   ],
   "source": [
    " model.score(X_test, y_test)"
   ]
  },
  {
   "cell_type": "code",
   "execution_count": 118,
   "metadata": {
    "ExecuteTime": {
     "end_time": "2020-04-30T17:30:40.616805Z",
     "start_time": "2020-04-30T17:30:40.419334Z"
    }
   },
   "outputs": [
    {
     "name": "stdout",
     "output_type": "stream",
     "text": [
      "              precision    recall  f1-score   support\n",
      "\n",
      "          no       0.68      0.04      0.07      4245\n",
      "         yes       0.52      0.98      0.68      4459\n",
      "\n",
      "   micro avg       0.52      0.52      0.52      8704\n",
      "   macro avg       0.60      0.51      0.37      8704\n",
      "weighted avg       0.60      0.52      0.38      8704\n",
      "\n",
      "[[ 149 4096]\n",
      " [  69 4390]]\n"
     ]
    }
   ],
   "source": [
    "from sklearn import metrics\n",
    "from sklearn.metrics import classification_report,confusion_matrix\n",
    "y_pred = model.predict(X_test)\n",
    "print(classification_report(y_test,y_pred))\n",
    "print(confusion_matrix(y_test,y_pred))"
   ]
  },
  {
   "cell_type": "code",
   "execution_count": null,
   "metadata": {},
   "outputs": [],
   "source": []
  },
  {
   "cell_type": "code",
   "execution_count": 140,
   "metadata": {
    "ExecuteTime": {
     "end_time": "2020-04-30T17:49:16.189931Z",
     "start_time": "2020-04-30T17:49:15.156691Z"
    }
   },
   "outputs": [
    {
     "name": "stdout",
     "output_type": "stream",
     "text": [
      "0.9209558823529411\n"
     ]
    }
   ],
   "source": [
    "clf = BaggingClassifier(n_estimators=10).fit(X_train, y_train)\n",
    "print(clf.score(X_test, y_test))## whithout city and country\n",
    "    #default estimator isn't that bad"
   ]
  },
  {
   "cell_type": "markdown",
   "metadata": {},
   "source": [
    "## GINI Decision Tree Classifier(taking out source city and country with balancing data)"
   ]
  },
  {
   "cell_type": "code",
   "execution_count": 119,
   "metadata": {
    "ExecuteTime": {
     "end_time": "2020-04-30T17:30:40.941994Z",
     "start_time": "2020-04-30T17:30:40.618800Z"
    }
   },
   "outputs": [
    {
     "name": "stdout",
     "output_type": "stream",
     "text": [
      "[[3870  375]\n",
      " [ 296 4163]]\n",
      "              precision    recall  f1-score   support\n",
      "\n",
      "          no       0.68      0.04      0.07      4245\n",
      "         yes       0.52      0.98      0.68      4459\n",
      "\n",
      "   micro avg       0.52      0.52      0.52      8704\n",
      "   macro avg       0.60      0.51      0.37      8704\n",
      "weighted avg       0.60      0.52      0.38      8704\n",
      "\n"
     ]
    }
   ],
   "source": [
    "dtree = DecisionTreeClassifier(criterion='gini')\n",
    "dtree.fit(X_train,y_train)\n",
    "predictions = dtree.predict(X_test)\n",
    "print(confusion_matrix(y_test,predictions))\n",
    "print(classification_report(y_test,y_pred))"
   ]
  },
  {
   "cell_type": "code",
   "execution_count": 120,
   "metadata": {
    "ExecuteTime": {
     "end_time": "2020-04-30T17:30:40.973850Z",
     "start_time": "2020-04-30T17:30:40.942933Z"
    }
   },
   "outputs": [
    {
     "data": {
      "text/plain": [
       "0.9229090073529411"
      ]
     },
     "execution_count": 120,
     "metadata": {},
     "output_type": "execute_result"
    }
   ],
   "source": [
    "dtree.score(X_test, y_test)"
   ]
  },
  {
   "cell_type": "markdown",
   "metadata": {},
   "source": [
    "## Hierarchical clustering (taking out source city and country with balancing data)"
   ]
  },
  {
   "cell_type": "code",
   "execution_count": 121,
   "metadata": {
    "ExecuteTime": {
     "end_time": "2020-04-30T17:30:42.516897Z",
     "start_time": "2020-04-30T17:30:40.974848Z"
    }
   },
   "outputs": [],
   "source": [
    "# only take 20% of data\n",
    "mymap1 = {'yes':1,'no':0}\n",
    "X_cluster = dsampled_no_city.applymap(lambda s: mymap1.get(s) if s in mymap1 else s)\n",
    "X_cluster1=X_cluster.sample(frac = 0.2) \n",
    "X_cluster2=X_cluster1.drop('yes/no',axis=1)\n"
   ]
  },
  {
   "cell_type": "code",
   "execution_count": 122,
   "metadata": {
    "ExecuteTime": {
     "end_time": "2020-04-30T17:30:42.575602Z",
     "start_time": "2020-04-30T17:30:42.519717Z"
    }
   },
   "outputs": [
    {
     "data": {
      "text/plain": [
       "array([[-0.53081428, -0.08923248, -0.08794824, ...,  0.        ,\n",
       "        -0.02144225, -0.01516022],\n",
       "       [ 2.05133567,  0.30253524,  0.01804477, ...,  0.        ,\n",
       "        -0.02144225, -0.01516022],\n",
       "       [-0.53081428, -0.08923248, -0.08513052, ...,  0.        ,\n",
       "        -0.02144225, -0.01516022],\n",
       "       ...,\n",
       "       [-0.51308969, -0.064747  , -0.08597584, ...,  0.        ,\n",
       "        -0.02144225, -0.01516022],\n",
       "       [-0.48489149, -0.064747  , -0.08217192, ...,  0.        ,\n",
       "        -0.02144225, -0.01516022],\n",
       "       [-0.53081428, -0.08923248, -0.08808912, ...,  0.        ,\n",
       "        -0.02144225, -0.01516022]])"
      ]
     },
     "execution_count": 122,
     "metadata": {},
     "output_type": "execute_result"
    }
   ],
   "source": [
    "from sklearn.preprocessing import StandardScaler\n",
    "scaler = StandardScaler()\n",
    "scaler.fit(X_cluster2)\n",
    "X_cluster_scaled= scaler.transform(X_cluster2)\n",
    "X_cluster_scaled"
   ]
  },
  {
   "cell_type": "code",
   "execution_count": 123,
   "metadata": {
    "ExecuteTime": {
     "end_time": "2020-04-30T17:30:49.284627Z",
     "start_time": "2020-04-30T17:30:42.577562Z"
    }
   },
   "outputs": [],
   "source": [
    "# Create a AgglomerativeClustering model with 2 clusters: model\n",
    "model = AgglomerativeClustering()\n",
    "# Use fit_predict to fit model and obtain cluster labels: labels\n",
    "labels = model.fit_predict(X_cluster_scaled)"
   ]
  },
  {
   "cell_type": "code",
   "execution_count": 124,
   "metadata": {
    "ExecuteTime": {
     "end_time": "2020-04-30T17:30:49.290611Z",
     "start_time": "2020-04-30T17:30:49.285628Z"
    }
   },
   "outputs": [
    {
     "data": {
      "text/plain": [
       "array([1, 0, 1, ..., 0, 0, 1], dtype=int64)"
      ]
     },
     "execution_count": 124,
     "metadata": {},
     "output_type": "execute_result"
    }
   ],
   "source": [
    "model.labels_"
   ]
  },
  {
   "cell_type": "code",
   "execution_count": 125,
   "metadata": {
    "ExecuteTime": {
     "end_time": "2020-04-30T17:30:49.312584Z",
     "start_time": "2020-04-30T17:30:49.292608Z"
    }
   },
   "outputs": [
    {
     "data": {
      "text/html": [
       "<div>\n",
       "<style scoped>\n",
       "    .dataframe tbody tr th:only-of-type {\n",
       "        vertical-align: middle;\n",
       "    }\n",
       "\n",
       "    .dataframe tbody tr th {\n",
       "        vertical-align: top;\n",
       "    }\n",
       "\n",
       "    .dataframe thead th {\n",
       "        text-align: right;\n",
       "    }\n",
       "</style>\n",
       "<table border=\"1\" class=\"dataframe\">\n",
       "  <thead>\n",
       "    <tr style=\"text-align: right;\">\n",
       "      <th>class</th>\n",
       "      <th>0</th>\n",
       "      <th>1</th>\n",
       "    </tr>\n",
       "    <tr>\n",
       "      <th>labels</th>\n",
       "      <th></th>\n",
       "      <th></th>\n",
       "    </tr>\n",
       "  </thead>\n",
       "  <tbody>\n",
       "    <tr>\n",
       "      <th>0</th>\n",
       "      <td>1657</td>\n",
       "      <td>2433</td>\n",
       "    </tr>\n",
       "    <tr>\n",
       "      <th>1</th>\n",
       "      <td>2670</td>\n",
       "      <td>1944</td>\n",
       "    </tr>\n",
       "  </tbody>\n",
       "</table>\n",
       "</div>"
      ],
      "text/plain": [
       "class      0     1\n",
       "labels            \n",
       "0       1657  2433\n",
       "1       2670  1944"
      ]
     },
     "execution_count": 125,
     "metadata": {},
     "output_type": "execute_result"
    }
   ],
   "source": [
    "# Create a DataFrame with labels and class as columns: df\n",
    "df = pd.DataFrame({'labels': labels, 'class': X_cluster1['yes/no']})\n",
    "# Create crosstab: ct\n",
    "ct = pd.crosstab(df['labels'], df['class'])\n",
    "# display ct\n",
    "ct"
   ]
  },
  {
   "cell_type": "code",
   "execution_count": null,
   "metadata": {},
   "outputs": [],
   "source": []
  },
  {
   "cell_type": "code",
   "execution_count": 138,
   "metadata": {
    "ExecuteTime": {
     "end_time": "2020-04-30T17:47:40.454402Z",
     "start_time": "2020-04-30T17:47:39.676485Z"
    }
   },
   "outputs": [],
   "source": [
    "kmeans = KMeans(n_clusters = 2).fit(X_cluster_scaled)\n",
    "labels=kmeans.fit_predict(X_cluster_scaled)\n",
    "kmeans =pd.DataFrame(kmeans.labels_)\n"
   ]
  },
  {
   "cell_type": "code",
   "execution_count": 139,
   "metadata": {
    "ExecuteTime": {
     "end_time": "2020-04-30T17:48:11.018316Z",
     "start_time": "2020-04-30T17:48:10.988363Z"
    }
   },
   "outputs": [
    {
     "data": {
      "text/html": [
       "<div>\n",
       "<style scoped>\n",
       "    .dataframe tbody tr th:only-of-type {\n",
       "        vertical-align: middle;\n",
       "    }\n",
       "\n",
       "    .dataframe tbody tr th {\n",
       "        vertical-align: top;\n",
       "    }\n",
       "\n",
       "    .dataframe thead th {\n",
       "        text-align: right;\n",
       "    }\n",
       "</style>\n",
       "<table border=\"1\" class=\"dataframe\">\n",
       "  <thead>\n",
       "    <tr style=\"text-align: right;\">\n",
       "      <th>class</th>\n",
       "      <th>0</th>\n",
       "      <th>1</th>\n",
       "    </tr>\n",
       "    <tr>\n",
       "      <th>labels</th>\n",
       "      <th></th>\n",
       "      <th></th>\n",
       "    </tr>\n",
       "  </thead>\n",
       "  <tbody>\n",
       "    <tr>\n",
       "      <th>0</th>\n",
       "      <td>2708</td>\n",
       "      <td>1958</td>\n",
       "    </tr>\n",
       "    <tr>\n",
       "      <th>1</th>\n",
       "      <td>1619</td>\n",
       "      <td>2419</td>\n",
       "    </tr>\n",
       "  </tbody>\n",
       "</table>\n",
       "</div>"
      ],
      "text/plain": [
       "class      0     1\n",
       "labels            \n",
       "0       2708  1958\n",
       "1       1619  2419"
      ]
     },
     "execution_count": 139,
     "metadata": {},
     "output_type": "execute_result"
    }
   ],
   "source": [
    "# Create a DataFrame with labels and class as columns: df\n",
    "df2 = pd.DataFrame({'labels': labels, 'class': X_cluster1['yes/no']})\n",
    "# Create crosstab: ct\n",
    "ct = pd.crosstab(df2['labels'], df2['class'])\n",
    "# display ct\n",
    "ct"
   ]
  },
  {
   "cell_type": "code",
   "execution_count": 143,
   "metadata": {
    "ExecuteTime": {
     "end_time": "2020-04-30T17:53:26.918605Z",
     "start_time": "2020-04-30T17:53:24.076237Z"
    }
   },
   "outputs": [
    {
     "name": "stdout",
     "output_type": "stream",
     "text": [
      "DBSCAN  yes/no\n",
      "-1.0    0         4327\n",
      "        1         4377\n",
      "dtype: int64\n"
     ]
    }
   ],
   "source": [
    "from sklearn.cluster import DBSCAN \n",
    "clustering = DBSCAN(eps=3, min_samples=2).fit(X_cluster1)\n",
    "dbs = DBSCAN(eps=2, min_samples=3500).fit(X_cluster1)\n",
    "kmeans =pd.DataFrame(dbs.labels_)\n",
    "kmeans.columns = [\"DBSCAN\"]\n",
    "kmeans = kmeans['DBSCAN']\n",
    "df2=X_cluster1.reset_index().drop('index', axis=1)\n",
    "for index, row in df2.iterrows():\n",
    "    df2.at[index, 'DBSCAN'] = kmeans[index]\n",
    "key = df2[['yes/no', 'DBSCAN']]\n",
    "print(df2.groupby([\"DBSCAN\", \"yes/no\"]).size())"
   ]
  },
  {
   "cell_type": "code",
   "execution_count": null,
   "metadata": {},
   "outputs": [],
   "source": []
  }
 ],
 "metadata": {
  "hide_input": false,
  "kernelspec": {
   "display_name": "Python 3",
   "language": "python",
   "name": "python3"
  },
  "language_info": {
   "codemirror_mode": {
    "name": "ipython",
    "version": 3
   },
   "file_extension": ".py",
   "mimetype": "text/x-python",
   "name": "python",
   "nbconvert_exporter": "python",
   "pygments_lexer": "ipython3",
   "version": "3.7.4"
  },
  "toc": {
   "base_numbering": 1,
   "nav_menu": {},
   "number_sections": true,
   "sideBar": true,
   "skip_h1_title": false,
   "title_cell": "Table of Contents",
   "title_sidebar": "Contents",
   "toc_cell": false,
   "toc_position": {},
   "toc_section_display": true,
   "toc_window_display": false
  },
  "varInspector": {
   "cols": {
    "lenName": 16,
    "lenType": 16,
    "lenVar": 40
   },
   "kernels_config": {
    "python": {
     "delete_cmd_postfix": "",
     "delete_cmd_prefix": "del ",
     "library": "var_list.py",
     "varRefreshCmd": "print(var_dic_list())"
    },
    "r": {
     "delete_cmd_postfix": ") ",
     "delete_cmd_prefix": "rm(",
     "library": "var_list.r",
     "varRefreshCmd": "cat(var_dic_list()) "
    }
   },
   "types_to_exclude": [
    "module",
    "function",
    "builtin_function_or_method",
    "instance",
    "_Feature"
   ],
   "window_display": false
  }
 },
 "nbformat": 4,
 "nbformat_minor": 2
}
